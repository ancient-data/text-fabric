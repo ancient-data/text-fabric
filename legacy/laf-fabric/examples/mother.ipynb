{
 "metadata": {
  "name": "",
  "signature": "sha256:7d4abcf6219d0d1f98b8b9ff22a7613ca1519f6e63cdd6616279415edfb298c7"
 },
 "nbformat": 3,
 "nbformat_minor": 0,
 "worksheets": [
  {
   "cells": [
    {
     "cell_type": "markdown",
     "metadata": {},
     "source": [
      "<a href=\"http://laf-fabric.readthedocs.org/en/latest/\" target=\"_blank\"><img align=\"left\" src=\"images/laf-fabric-xsmall.png\"/></a>\n",
      "<a href=\"http://www.godgeleerdheid.vu.nl/etcbc\" target=\"_blank\"><img align=\"left\" src=\"images/VU-ETCBC-xsmall.png\"/></a>\n",
      "<a href=\"http://www.persistent-identifier.nl/?identifier=urn%3Anbn%3Anl%3Aui%3A13-048i-71\" target=\"_blank\"><img align=\"left\"src=\"images/etcbc4easy-small.png\"/></a>\n",
      "<a href=\"http://tla.mpi.nl\" target=\"_blank\"><img align=\"right\" src=\"images/TLA-xsmall.png\"/></a>\n",
      "<a href=\"http://www.dans.knaw.nl\" target=\"_blank\"><img align=\"right\"src=\"images/DANS-xsmall.png\"/></a>"
     ]
    },
    {
     "cell_type": "heading",
     "level": 1,
     "metadata": {},
     "source": [
      "Mother - walking edges in the Hebrew Bible"
     ]
    },
    {
     "cell_type": "markdown",
     "metadata": {},
     "source": [
      "This is a task using edges. In the Hebrew data source, nodes corresponding to constituents may have labelled edges pointing to other constituents. We make an inventory of all such edges labeled ``mother``."
     ]
    },
    {
     "cell_type": "code",
     "collapsed": false,
     "input": [
      "import sys\n",
      "import collections\n",
      "\n",
      "from laf.fabric import LafFabric\n",
      "processor = LafFabric(verbose='DETAIL')"
     ],
     "language": "python",
     "metadata": {},
     "outputs": [
      {
       "output_type": "stream",
       "stream": "stderr",
       "text": [
        "  0.00s This is LAF-Fabric 4.3.3\n",
        "http://laf-fabric.readthedocs.org/en/latest/texts/API-reference.html\n"
       ]
      }
     ],
     "prompt_number": 1
    },
    {
     "cell_type": "code",
     "collapsed": false,
     "input": [
      "API = processor.load('etcbc4', '--', 'mother',\n",
      "{\n",
      "    \"xmlids\": {\"node\": False, \"edge\": False},\n",
      "    \"features\": (\"otype book\", \"mother\"),\n",
      "})"
     ],
     "language": "python",
     "metadata": {},
     "outputs": [
      {
       "output_type": "stream",
       "stream": "stderr",
       "text": [
        "  0.00s LOADING API: please wait ... \n"
       ]
      },
      {
       "output_type": "stream",
       "stream": "stderr",
       "text": [
        "  0.10s DETAIL: COMPILING m: UP TO DATE\n"
       ]
      },
      {
       "output_type": "stream",
       "stream": "stderr",
       "text": [
        "  0.10s INFO: USING DATA COMPILED AT: 2014-07-14T16-45-08\n"
       ]
      },
      {
       "output_type": "stream",
       "stream": "stderr",
       "text": [
        "  0.11s DETAIL: COMPILING a: UP TO DATE\n"
       ]
      },
      {
       "output_type": "stream",
       "stream": "stderr",
       "text": [
        "  0.12s DETAIL: load main: G.node_anchor_min\n"
       ]
      },
      {
       "output_type": "stream",
       "stream": "stderr",
       "text": [
        "  0.20s DETAIL: load main: G.node_anchor_max\n"
       ]
      },
      {
       "output_type": "stream",
       "stream": "stderr",
       "text": [
        "  0.25s DETAIL: load main: G.node_sort\n"
       ]
      },
      {
       "output_type": "stream",
       "stream": "stderr",
       "text": [
        "  0.30s DETAIL: load main: G.node_sort_inv\n"
       ]
      },
      {
       "output_type": "stream",
       "stream": "stderr",
       "text": [
        "  0.72s DETAIL: load main: G.edges_from\n"
       ]
      },
      {
       "output_type": "stream",
       "stream": "stderr",
       "text": [
        "  0.79s DETAIL: load main: G.edges_to\n"
       ]
      },
      {
       "output_type": "stream",
       "stream": "stderr",
       "text": [
        "  0.86s DETAIL: load main: F.etcbc4_db_otype [node] \n"
       ]
      },
      {
       "output_type": "stream",
       "stream": "stderr",
       "text": [
        "  1.53s DETAIL: load main: F.etcbc4_sft_book [node] \n"
       ]
      },
      {
       "output_type": "stream",
       "stream": "stderr",
       "text": [
        "  1.55s DETAIL: load main: F.etcbc4_ft_mother [e] \n"
       ]
      },
      {
       "output_type": "stream",
       "stream": "stderr",
       "text": [
        "  1.61s DETAIL: load main: C.etcbc4_ft_mother -> \n"
       ]
      },
      {
       "output_type": "stream",
       "stream": "stderr",
       "text": [
        "  1.77s DETAIL: load main: C.etcbc4_ft_mother <- \n"
       ]
      },
      {
       "output_type": "stream",
       "stream": "stderr",
       "text": [
        "  1.89s LOGFILE=/Users/dirk/laf-fabric-output/etcbc4/mother/__log__mother.txt\n"
       ]
      },
      {
       "output_type": "stream",
       "stream": "stderr",
       "text": [
        "  1.90s INFO: DATA LOADED FROM SOURCE etcbc4 AND ANNOX -- FOR TASK mother AT 2014-07-15T12-29-36\n"
       ]
      }
     ],
     "prompt_number": 2
    },
    {
     "cell_type": "code",
     "collapsed": false,
     "input": [
      "F = API['F']\n",
      "C = API['C']\n",
      "NN = API['NN']\n",
      "msg = API['msg']\n",
      "infile = API['infile']\n",
      "outfile = API['outfile']\n",
      "my_file = API['my_file']\n",
      "\n",
      "msg(\"Get the mothers...\")\n",
      "\n",
      "out = outfile(\"mothers.tsv\")\n",
      "\n",
      "bookname = None\n",
      "found = 0\n",
      "mother_kind = collections.defaultdict(lambda: collections.defaultdict(lambda: 0))\n",
      "\n",
      "for i in NN():\n",
      "    otype = F.otype.v(i)\n",
      "    for mother in C.mother.v(i):\n",
      "        found += 1\n",
      "        motype = F.otype.v(mother)\n",
      "        mother_kind[otype][motype] += 1\n",
      "        out.write(\"{}\\t{}\\t{}\\t{}\\n\".format(otype, i, motype, mother))\n",
      "    if otype == \"book\":\n",
      "        if bookname: sys.stderr.write(\"{} ({})\\n\".format(bookname, found))\n",
      "        bookname = F.book.v(i)\n",
      "sys.stderr.write(\"{} ({})\\n\".format(bookname, found))\n",
      "sys.stderr.write(\"Total {}\\n\".format(found))\n",
      "for source_type in sorted(mother_kind):\n",
      "    for target_type in sorted(mother_kind[source_type]):\n",
      "        print(\"{:<15} ==mother==> {:<15} : {:>10} x\".format(source_type, target_type, mother_kind[source_type][target_type]))\n",
      "API['close']()"
     ],
     "language": "python",
     "metadata": {},
     "outputs": [
      {
       "output_type": "stream",
       "stream": "stderr",
       "text": [
        "    14s Get the mothers...\n"
       ]
      },
      {
       "output_type": "stream",
       "stream": "stderr",
       "text": [
        "Genesis (11431)\n",
        "Exodus (20608)\n"
       ]
      },
      {
       "output_type": "stream",
       "stream": "stderr",
       "text": [
        "Leviticus (27191)\n",
        "Numeri (37409)\n"
       ]
      },
      {
       "output_type": "stream",
       "stream": "stderr",
       "text": [
        "Deuteronomium (45951)\n",
        "Josua (52012)\n"
       ]
      },
      {
       "output_type": "stream",
       "stream": "stderr",
       "text": [
        "Judices (57451)\n",
        "Samuel_I (64537)\n"
       ]
      },
      {
       "output_type": "stream",
       "stream": "stderr",
       "text": [
        "Samuel_II (70685)\n",
        "Reges_I (78502)\n"
       ]
      },
      {
       "output_type": "stream",
       "stream": "stderr",
       "text": [
        "Reges_II (85825)\n",
        "Jesaia (95708)\n"
       ]
      },
      {
       "output_type": "stream",
       "stream": "stderr",
       "text": [
        "Jeremia (108537)\n",
        "Ezechiel (119305)\n"
       ]
      },
      {
       "output_type": "stream",
       "stream": "stderr",
       "text": [
        "Hosea (120544)\n",
        "Joel (121078)\n",
        "Amos (122228)\n"
       ]
      },
      {
       "output_type": "stream",
       "stream": "stderr",
       "text": [
        "Obadia (122383)\n",
        "Jona (122751)\n",
        "Micha (123561)\n",
        "Nahum (123874)\n"
       ]
      },
      {
       "output_type": "stream",
       "stream": "stderr",
       "text": [
        "Habakuk (124256)\n",
        "Zephania (124707)\n",
        "Haggai (125101)\n",
        "Sacharia (127000)\n"
       ]
      },
      {
       "output_type": "stream",
       "stream": "stderr",
       "text": [
        "Maleachi (127463)\n",
        "Psalmi (139207)\n"
       ]
      },
      {
       "output_type": "stream",
       "stream": "stderr",
       "text": [
        "Iob (143212)\n",
        "Proverbia (147353)\n"
       ]
      },
      {
       "output_type": "stream",
       "stream": "stderr",
       "text": [
        "Ruth (148057)\n",
        "Canticum (148832)\n",
        "Ecclesiastes (150671)\n"
       ]
      },
      {
       "output_type": "stream",
       "stream": "stderr",
       "text": [
        "Threni (151489)\n",
        "Esther (153381)\n"
       ]
      },
      {
       "output_type": "stream",
       "stream": "stderr",
       "text": [
        "Daniel (156840)\n",
        "Esra (159218)\n"
       ]
      },
      {
       "output_type": "stream",
       "stream": "stderr",
       "text": [
        "Nehemia (162763)\n",
        "Chronica_I (169177)\n"
       ]
      },
      {
       "output_type": "stream",
       "stream": "stderr",
       "text": [
        "Chronica_II (176411)\n",
        "Total 176411\n",
        "    21s Results directory:\n",
        "/Users/dirk/laf-fabric-output/etcbc4/mother\n"
       ]
      },
      {
       "output_type": "stream",
       "stream": "stderr",
       "text": [
        "\n",
        "__log__mother.txt                       232 Tue Jul 15 14:29:57 2014\n",
        "mothers.tsv                         6185197 Tue Jul 15 14:29:57 2014\n"
       ]
      },
      {
       "output_type": "stream",
       "stream": "stdout",
       "text": [
        "clause          ==mother==> clause          :      12462 x\n",
        "clause          ==mother==> phrase          :       5167 x\n",
        "clause          ==mother==> word            :        951 x\n",
        "clause_atom     ==mother==> clause_atom     :      89079 x\n",
        "phrase          ==mother==> clause          :          5 x\n",
        "phrase          ==mother==> phrase          :        195 x\n",
        "phrase          ==mother==> word            :          7 x\n",
        "phrase_atom     ==mother==> phrase_atom     :      11717 x\n",
        "phrase_atom     ==mother==> word            :       1584 x\n",
        "subphrase       ==mother==> subphrase       :      20556 x\n",
        "subphrase       ==mother==> word            :      34688 x\n"
       ]
      }
     ],
     "prompt_number": 3
    },
    {
     "cell_type": "code",
     "collapsed": false,
     "input": [],
     "language": "python",
     "metadata": {},
     "outputs": []
    }
   ],
   "metadata": {}
  }
 ]
}