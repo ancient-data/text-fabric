{
 "cells": [
  {
   "cell_type": "code",
   "execution_count": 1,
   "id": "495802dd-35c7-4e6a-ab0b-026e30f33d72",
   "metadata": {},
   "outputs": [],
   "source": [
    "%load_ext autoreload\n",
    "%autoreload 2"
   ]
  },
  {
   "cell_type": "code",
   "execution_count": 2,
   "id": "7bb4a24e-dfe4-49af-8417-4993e1040941",
   "metadata": {},
   "outputs": [],
   "source": [
    "import os\n",
    "from tf.app import use"
   ]
  },
  {
   "cell_type": "code",
   "execution_count": 3,
   "id": "3f83af6f-10f7-4e60-a01c-25e94dab15ec",
   "metadata": {},
   "outputs": [
    {
     "data": {
      "text/plain": [
       "True"
      ]
     },
     "execution_count": 3,
     "metadata": {},
     "output_type": "execute_result"
    }
   ],
   "source": [
    "os.path.exists('/Users/me/text-fabric-data/github/ETCBC/bhsa/tf/2016')"
   ]
  },
  {
   "cell_type": "code",
   "execution_count": 16,
   "id": "12b7b069-1241-4623-a656-0b40a2ae88b4",
   "metadata": {},
   "outputs": [
    {
     "name": "stdout",
     "output_type": "stream",
     "text": [
      "self.dirPathLocal='/Users/me/text-fabric-data/github/ETCBC/bhsa/app'\n",
      "self.dataPath='ETCBC/bhsa/app'\n",
      "silent='auto' self.silent='auto'\n",
      "readInfo self.filePathLocal='/Users/me/text-fabric-data/github/ETCBC/bhsa/app/__checkout__.txt' os.path.exists(self.filePathLocal)=True\n"
     ]
    },
    {
     "data": {
      "text/html": [
       "<b title=\"local release\">TF-app:</b> <span title=\"rv1.8=#eb1eef532de43783a548afed016937f55572bac6 offline under ~/text-fabric-data/github\">~/text-fabric-data/github/ETCBC/bhsa/app</span>"
      ],
      "text/plain": [
       "<IPython.core.display.HTML object>"
      ]
     },
     "metadata": {},
     "output_type": "display_data"
    },
    {
     "name": "stdout",
     "output_type": "stream",
     "text": [
      "self.dirPathLocal='/Users/me/text-fabric-data/github/ETCBC/bhsa/tf/2016'\n",
      "self.dataPath='ETCBC/bhsa/tf'\n",
      "silent='auto' self.silent='auto'\n",
      "readInfo self.filePathLocal='/Users/me/text-fabric-data/github/ETCBC/bhsa/tf/2016/__checkout__.txt' os.path.exists(self.filePathLocal)=False\n",
      "The requested data is not available offline\n"
     ]
    },
    {
     "name": "stderr",
     "output_type": "stream",
     "text": [
      "cChk=None cOff=None rChk=None rOff=None\n"
     ]
    },
    {
     "name": "stdout",
     "output_type": "stream",
     "text": [
      "\t~/text-fabric-data/github/ETCBC/bhsa/tf/2016 not found\n"
     ]
    },
    {
     "name": "stderr",
     "output_type": "stream",
     "text": [
      "There was an error loading corpus ETCBC/bhsa\n",
      "ConnectionError(MaxRetryError(\"HTTPSConnectionPool(host='api.github.com', port=443): Max retries exceeded with url: /rate_limit (Caused by NewConnectionError('<urllib3.connection.HTTPSConnection object at 0x121069f10>: Failed to establish a new connection: [Errno 8] nodename nor servname provided, or not known'))\"))\n",
      "Traceback (most recent call last):\n",
      "  File \"/Library/Frameworks/Python.framework/Versions/3.11/lib/python3.11/site-packages/urllib3/connection.py\", line 174, in _new_conn\n",
      "    conn = connection.create_connection(\n",
      "           ^^^^^^^^^^^^^^^^^^^^^^^^^^^^^\n",
      "  File \"/Library/Frameworks/Python.framework/Versions/3.11/lib/python3.11/site-packages/urllib3/util/connection.py\", line 72, in create_connection\n",
      "    for res in socket.getaddrinfo(host, port, family, socket.SOCK_STREAM):\n",
      "               ^^^^^^^^^^^^^^^^^^^^^^^^^^^^^^^^^^^^^^^^^^^^^^^^^^^^^^^^^^\n",
      "  File \"/Library/Frameworks/Python.framework/Versions/3.11/lib/python3.11/socket.py\", line 961, in getaddrinfo\n",
      "    for res in _socket.getaddrinfo(host, port, family, type, proto, flags):\n",
      "               ^^^^^^^^^^^^^^^^^^^^^^^^^^^^^^^^^^^^^^^^^^^^^^^^^^^^^^^^^^^\n",
      "socket.gaierror: [Errno 8] nodename nor servname provided, or not known\n",
      "\n",
      "During handling of the above exception, another exception occurred:\n",
      "\n",
      "Traceback (most recent call last):\n",
      "  File \"/Library/Frameworks/Python.framework/Versions/3.11/lib/python3.11/site-packages/urllib3/connectionpool.py\", line 703, in urlopen\n",
      "    httplib_response = self._make_request(\n",
      "                       ^^^^^^^^^^^^^^^^^^^\n",
      "  File \"/Library/Frameworks/Python.framework/Versions/3.11/lib/python3.11/site-packages/urllib3/connectionpool.py\", line 386, in _make_request\n",
      "    self._validate_conn(conn)\n",
      "  File \"/Library/Frameworks/Python.framework/Versions/3.11/lib/python3.11/site-packages/urllib3/connectionpool.py\", line 1042, in _validate_conn\n",
      "    conn.connect()\n",
      "  File \"/Library/Frameworks/Python.framework/Versions/3.11/lib/python3.11/site-packages/urllib3/connection.py\", line 358, in connect\n",
      "    self.sock = conn = self._new_conn()\n",
      "                       ^^^^^^^^^^^^^^^^\n",
      "  File \"/Library/Frameworks/Python.framework/Versions/3.11/lib/python3.11/site-packages/urllib3/connection.py\", line 186, in _new_conn\n",
      "    raise NewConnectionError(\n",
      "urllib3.exceptions.NewConnectionError: <urllib3.connection.HTTPSConnection object at 0x121069f10>: Failed to establish a new connection: [Errno 8] nodename nor servname provided, or not known\n",
      "\n",
      "During handling of the above exception, another exception occurred:\n",
      "\n",
      "Traceback (most recent call last):\n",
      "  File \"/Library/Frameworks/Python.framework/Versions/3.11/lib/python3.11/site-packages/requests/adapters.py\", line 489, in send\n",
      "    resp = conn.urlopen(\n",
      "           ^^^^^^^^^^^^^\n",
      "  File \"/Library/Frameworks/Python.framework/Versions/3.11/lib/python3.11/site-packages/urllib3/connectionpool.py\", line 787, in urlopen\n",
      "    retries = retries.increment(\n",
      "              ^^^^^^^^^^^^^^^^^^\n",
      "  File \"/Library/Frameworks/Python.framework/Versions/3.11/lib/python3.11/site-packages/urllib3/util/retry.py\", line 592, in increment\n",
      "    raise MaxRetryError(_pool, url, error or ResponseError(cause))\n",
      "urllib3.exceptions.MaxRetryError: HTTPSConnectionPool(host='api.github.com', port=443): Max retries exceeded with url: /rate_limit (Caused by NewConnectionError('<urllib3.connection.HTTPSConnection object at 0x121069f10>: Failed to establish a new connection: [Errno 8] nodename nor servname provided, or not known'))\n",
      "\n",
      "During handling of the above exception, another exception occurred:\n",
      "\n",
      "Traceback (most recent call last):\n",
      "  File \"/Users/me/github/annotation/text-fabric/tf/advanced/app.py\", line 546, in findApp\n",
      "    app = appClass(\n",
      "          ^^^^^^^^^\n",
      "  File \"/Users/me/text-fabric-data/github/ETCBC/bhsa/app/app.py\", line 6, in __init__\n",
      "    super().__init__(*args, **kwargs)\n",
      "  File \"/Users/me/github/annotation/text-fabric/tf/advanced/app.py\", line 136, in __init__\n",
      "    specs = getModulesData(\n",
      "            ^^^^^^^^^^^^^^^\n",
      "  File \"/Users/me/github/annotation/text-fabric/tf/advanced/data.py\", line 334, in getModulesData\n",
      "    mData.getModules()\n",
      "  File \"/Users/me/github/annotation/text-fabric/tf/advanced/data.py\", line 180, in getModules\n",
      "    self.getMain()\n",
      "  File \"/Users/me/github/annotation/text-fabric/tf/advanced/data.py\", line 87, in getMain\n",
      "    if not self.getModule(org, repo, relative, checkout, isBase=True):\n",
      "           ^^^^^^^^^^^^^^^^^^^^^^^^^^^^^^^^^^^^^^^^^^^^^^^^^^^^^^^^^^\n",
      "  File \"/Users/me/github/annotation/text-fabric/tf/advanced/data.py\", line 270, in getModule\n",
      "    (commit, release, local, localBase, localDir) = checkoutRepo(\n",
      "                                                    ^^^^^^^^^^^^^\n",
      "  File \"/Users/me/github/annotation/text-fabric/tf/advanced/repo.py\", line 1844, in checkoutRepo\n",
      "    return resolve(checkout)\n",
      "           ^^^^^^^^^^^^^^^^^\n",
      "  File \"/Users/me/github/annotation/text-fabric/tf/advanced/repo.py\", line 1810, in resolve\n",
      "    rData = Checkout(\n",
      "            ^^^^^^^^^\n",
      "  File \"/Users/me/github/annotation/text-fabric/tf/advanced/repo.py\", line 910, in __init__\n",
      "    self.connect()\n",
      "  File \"/Users/me/github/annotation/text-fabric/tf/advanced/repo.py\", line 1001, in connect\n",
      "    rate = conn.get_rate_limit().core\n",
      "           ^^^^^^^^^^^^^^^^^^^^^\n",
      "  File \"/Library/Frameworks/Python.framework/Versions/3.11/lib/python3.11/site-packages/github/MainClass.py\", line 201, in get_rate_limit\n",
      "    headers, data = self.__requester.requestJsonAndCheck(\"GET\", \"/rate_limit\")\n",
      "                    ^^^^^^^^^^^^^^^^^^^^^^^^^^^^^^^^^^^^^^^^^^^^^^^^^^^^^^^^^^\n",
      "  File \"/Library/Frameworks/Python.framework/Versions/3.11/lib/python3.11/site-packages/github/Requester.py\", line 354, in requestJsonAndCheck\n",
      "    *self.requestJson(\n",
      "     ^^^^^^^^^^^^^^^^^\n",
      "  File \"/Library/Frameworks/Python.framework/Versions/3.11/lib/python3.11/site-packages/github/Requester.py\", line 454, in requestJson\n",
      "    return self.__requestEncode(cnx, verb, url, parameters, headers, input, encode)\n",
      "           ^^^^^^^^^^^^^^^^^^^^^^^^^^^^^^^^^^^^^^^^^^^^^^^^^^^^^^^^^^^^^^^^^^^^^^^^\n",
      "  File \"/Library/Frameworks/Python.framework/Versions/3.11/lib/python3.11/site-packages/github/Requester.py\", line 528, in __requestEncode\n",
      "    status, responseHeaders, output = self.__requestRaw(\n",
      "                                      ^^^^^^^^^^^^^^^^^^\n",
      "  File \"/Library/Frameworks/Python.framework/Versions/3.11/lib/python3.11/site-packages/github/Requester.py\", line 555, in __requestRaw\n",
      "    response = cnx.getresponse()\n",
      "               ^^^^^^^^^^^^^^^^^\n",
      "  File \"/Library/Frameworks/Python.framework/Versions/3.11/lib/python3.11/site-packages/github/Requester.py\", line 127, in getresponse\n",
      "    r = verb(\n",
      "        ^^^^^\n",
      "  File \"/Library/Frameworks/Python.framework/Versions/3.11/lib/python3.11/site-packages/requests/sessions.py\", line 600, in get\n",
      "    return self.request(\"GET\", url, **kwargs)\n",
      "           ^^^^^^^^^^^^^^^^^^^^^^^^^^^^^^^^^^\n",
      "  File \"/Library/Frameworks/Python.framework/Versions/3.11/lib/python3.11/site-packages/requests/sessions.py\", line 587, in request\n",
      "    resp = self.send(prep, **send_kwargs)\n",
      "           ^^^^^^^^^^^^^^^^^^^^^^^^^^^^^^\n",
      "  File \"/Library/Frameworks/Python.framework/Versions/3.11/lib/python3.11/site-packages/requests/sessions.py\", line 701, in send\n",
      "    r = adapter.send(request, **kwargs)\n",
      "        ^^^^^^^^^^^^^^^^^^^^^^^^^^^^^^^\n",
      "  File \"/Library/Frameworks/Python.framework/Versions/3.11/lib/python3.11/site-packages/requests/adapters.py\", line 565, in send\n",
      "    raise ConnectionError(e, request=request)\n",
      "requests.exceptions.ConnectionError: HTTPSConnectionPool(host='api.github.com', port=443): Max retries exceeded with url: /rate_limit (Caused by NewConnectionError('<urllib3.connection.HTTPSConnection object at 0x121069f10>: Failed to establish a new connection: [Errno 8] nodename nor servname provided, or not known'))\n",
      "Text-Fabric is not loaded\n"
     ]
    },
    {
     "name": "stdout",
     "output_type": "stream",
     "text": [
      "self.dirPathLocal='/Users/me/text-fabric-data/github/ETCBC/bhsa/tf/2016'\n",
      "self.dataPath='ETCBC/bhsa/tf'\n",
      "silent='auto' self.silent='auto'\n",
      "readInfo self.filePathLocal='/Users/me/text-fabric-data/github/ETCBC/bhsa/tf/2016/__checkout__.txt' os.path.exists(self.filePathLocal)=False\n",
      "login backend='github'\n",
      "login conn=<github.MainClass.Github object at 0x17c69e410>\n",
      "connect rate limit conn=<github.MainClass.Github object at 0x17c69e410>\n",
      "A\n"
     ]
    }
   ],
   "source": [
    "A = use(\"ETCBC/bhsa:local\", version=\"2016\")"
   ]
  },
  {
   "cell_type": "code",
   "execution_count": 3,
   "id": "3df3c556-d239-4234-b68c-fe0d6b528eda",
   "metadata": {},
   "outputs": [],
   "source": [
    "import os\n",
    "from github import Github"
   ]
  },
  {
   "cell_type": "code",
   "execution_count": 4,
   "id": "d7ede8f9-20c5-4d25-a7ea-06a572479f78",
   "metadata": {},
   "outputs": [],
   "source": [
    "person = os.environ.get(\"GHPERS\", None)"
   ]
  },
  {
   "cell_type": "code",
   "execution_count": 5,
   "id": "73db298b-2fac-43f5-8342-cfb79ad90933",
   "metadata": {},
   "outputs": [],
   "source": [
    "g = Github(person)"
   ]
  },
  {
   "cell_type": "code",
   "execution_count": 7,
   "id": "f9a76ac7-8b70-4d99-8d90-c256ddaa5214",
   "metadata": {},
   "outputs": [
    {
     "data": {
      "text/plain": [
       "RateLimit(core=Rate(reset=2022-11-13 19:25:39, remaining=5000, limit=5000))"
      ]
     },
     "execution_count": 7,
     "metadata": {},
     "output_type": "execute_result"
    }
   ],
   "source": [
    "g.get_rate_limit()"
   ]
  },
  {
   "cell_type": "code",
   "execution_count": 11,
   "id": "e5424021-2a54-4de8-8903-531be95cf033",
   "metadata": {},
   "outputs": [
    {
     "name": "stdout",
     "output_type": "stream",
     "text": [
      "HTTPSConnectionPool(host='api.github.com', port=443): Max retries exceeded with url: /rate_limit (Caused by NewConnectionError('<urllib3.connection.HTTPSConnection object at 0x1128c48d0>: Failed to establish a new connection: [Errno 8] nodename nor servname provided, or not known'))\n"
     ]
    }
   ],
   "source": [
    "try:\n",
    "    g.get_rate_limit()\n",
    "except Exception as e:\n",
    "    print(str(e))"
   ]
  },
  {
   "cell_type": "code",
   "execution_count": null,
   "id": "c4d10eb8-bd5a-4f70-b443-d6e29d18b1f7",
   "metadata": {},
   "outputs": [],
   "source": []
  }
 ],
 "metadata": {
  "kernelspec": {
   "display_name": "Python 3 (ipykernel)",
   "language": "python",
   "name": "python3"
  },
  "language_info": {
   "codemirror_mode": {
    "name": "ipython",
    "version": 3
   },
   "file_extension": ".py",
   "mimetype": "text/x-python",
   "name": "python",
   "nbconvert_exporter": "python",
   "pygments_lexer": "ipython3",
   "version": "3.11.0"
  }
 },
 "nbformat": 4,
 "nbformat_minor": 5
}
