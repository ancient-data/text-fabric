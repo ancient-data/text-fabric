{
 "cells": [
  {
   "cell_type": "markdown",
   "id": "513a128f-b99a-42b2-8ccc-8ba77ba13450",
   "metadata": {},
   "source": [
    "# Pretty display with editable fields\n",
    "\n",
    "## Mockup\n",
    "\n",
    "We mock up a pretty display with editable fields: Genesis 1:1 in phonological transcription"
   ]
  },
  {
   "cell_type": "markdown",
   "id": "46c93b24-6d7f-4390-ae65-1a8793b3df18",
   "metadata": {
    "tags": []
   },
   "source": [
    "# Load the BHSA\n",
    "\n",
    "We load the BHSA and display the example in question."
   ]
  },
  {
   "cell_type": "code",
   "execution_count": 1,
   "id": "0e328851-cd10-42d4-80d9-d5d9999f9abd",
   "metadata": {},
   "outputs": [],
   "source": [
    "%load_ext autoreload\n",
    "%autoreload 2"
   ]
  },
  {
   "cell_type": "code",
   "execution_count": 11,
   "id": "56ab1abe-2cf5-4524-83c8-b58fb4850b83",
   "metadata": {},
   "outputs": [],
   "source": [
    "# pip3 install beautifulsoup4\n",
    "\n",
    "from bs4 import BeautifulSoup as bs\n",
    "\n",
    "from ipywidgets import Text, Layout, Box, HBox, VBox, Label, HTML\n",
    "\n",
    "from tf.app import use\n",
    "from tf.advanced.helpers import dh"
   ]
  },
  {
   "cell_type": "code",
   "execution_count": 3,
   "id": "d2b40487-0716-4d61-8ad7-0d0ea14254a9",
   "metadata": {},
   "outputs": [
    {
     "data": {
      "text/html": [
       "<b title=\"local release\">TF-app:</b> <span title=\"rv2.4.0=#571428c995d309c43ff592f885a5ebb42a87be6f offline under ~/text-fabric-data\">~/text-fabric-data/annotation/app-bhsa/code</span>"
      ],
      "text/plain": [
       "<IPython.core.display.HTML object>"
      ]
     },
     "metadata": {},
     "output_type": "display_data"
    },
    {
     "data": {
      "text/html": [
       "<b title=\"local release\">data:</b> <span title=\"rv1.7=#69f339de4eb38151e01ab56bc8cd85eca0bf78ba offline under ~/text-fabric-data\">~/text-fabric-data/etcbc/bhsa/tf/2021</span>"
      ],
      "text/plain": [
       "<IPython.core.display.HTML object>"
      ]
     },
     "metadata": {},
     "output_type": "display_data"
    },
    {
     "data": {
      "text/html": [
       "<b title=\"local release\">data:</b> <span title=\"rv2.0=#d74f7b52866927c316dfcaa2ac89eb51ea59c5dc offline under ~/text-fabric-data\">~/text-fabric-data/etcbc/phono/tf/2021</span>"
      ],
      "text/plain": [
       "<IPython.core.display.HTML object>"
      ]
     },
     "metadata": {},
     "output_type": "display_data"
    },
    {
     "data": {
      "text/html": [
       "<b title=\"local release\">data:</b> <span title=\"rv2.0=#2fb9e94de8ffc07e9e515e3efa36e502f95bdcea offline under ~/text-fabric-data\">~/text-fabric-data/etcbc/parallels/tf/2021</span>"
      ],
      "text/plain": [
       "<IPython.core.display.HTML object>"
      ]
     },
     "metadata": {},
     "output_type": "display_data"
    },
    {
     "name": "stdout",
     "output_type": "stream",
     "text": [
      "This is Text-Fabric 9.0.4\n",
      "Api reference : https://annotation.github.io/text-fabric/tf/cheatsheet.html\n",
      "\n",
      "121 features found and 0 ignored\n"
     ]
    },
    {
     "data": {
      "text/html": [
       "<b>Text-Fabric:</b> <a target=\"_blank\" href=\"https://annotation.github.io/text-fabric/tf/cheatsheet.html\" title=\"text-fabric-api\">Text-Fabric API 9.0.4</a>, <a target=\"_blank\" href=\"https://github.com/annotation/app-bhsa\" title=\"bhsa TF-app\">app-bhsa v3</a>, <a target=\"_blank\" href=\"https://annotation.github.io/text-fabric/tf/about/searchusage.html\" title=\"Search Templates Introduction and Reference\">Search Reference</a><br><b>Data:</b> <a target=\"_blank\" href=\"https://etcbc.github.io/bhsa/0_home\" title=\"provenance of BHSA = Biblia Hebraica Stuttgartensia Amstelodamensis\">BHSA</a>, <a target=\"_blank\" href=\"https://annotation.github.io/text-fabric/tf/writing/hebrew.html\" title=\"How TF features represent text\">Character table</a>, <a target=\"_blank\" href=\"https://etcbc.github.io/bhsa/features/0_home\" title=\"BHSA feature documentation\">Feature docs</a><br><b>Features:</b><br><details><summary><b>Parallel Passages</b></summary><b><i><a target=\"_blank\" href=\"https://nbviewer.jupyter.org/github/etcbc/parallels/blob/master/programs/parallels.ipynb\" title=\"~/text-fabric-data/etcbc/parallels/tf/2021/crossref.tf\">crossref</a></i></b><br></details><details><summary><b>BHSA = Biblia Hebraica Stuttgartensia Amstelodamensis</b></summary><a target=\"_blank\" href=\"https://etcbc.github.io/bhsa/features/book\" title=\"~/text-fabric-data/etcbc/bhsa/tf/2021/book.tf\">book</a><br><a target=\"_blank\" href=\"https://etcbc.github.io/bhsa/features/book@ll\" title=\"~/text-fabric-data/etcbc/bhsa/tf/2021/book@am.tf\">book@ll</a><br><a target=\"_blank\" href=\"https://etcbc.github.io/bhsa/features/chapter\" title=\"~/text-fabric-data/etcbc/bhsa/tf/2021/chapter.tf\">chapter</a><br><a target=\"_blank\" href=\"https://etcbc.github.io/bhsa/features/code\" title=\"~/text-fabric-data/etcbc/bhsa/tf/2021/code.tf\">code</a><br><a target=\"_blank\" href=\"https://etcbc.github.io/bhsa/features/det\" title=\"~/text-fabric-data/etcbc/bhsa/tf/2021/det.tf\">det</a><br><a target=\"_blank\" href=\"https://etcbc.github.io/bhsa/features/domain\" title=\"~/text-fabric-data/etcbc/bhsa/tf/2021/domain.tf\">domain</a><br><a target=\"_blank\" href=\"https://etcbc.github.io/bhsa/features/freq_lex\" title=\"~/text-fabric-data/etcbc/bhsa/tf/2021/freq_lex.tf\">freq_lex</a><br><a target=\"_blank\" href=\"https://etcbc.github.io/bhsa/features/function\" title=\"~/text-fabric-data/etcbc/bhsa/tf/2021/function.tf\">function</a><br><a target=\"_blank\" href=\"https://etcbc.github.io/bhsa/features/g_cons\" title=\"~/text-fabric-data/etcbc/bhsa/tf/2021/g_cons.tf\">g_cons</a><br><a target=\"_blank\" href=\"https://etcbc.github.io/bhsa/features/g_cons_utf8\" title=\"~/text-fabric-data/etcbc/bhsa/tf/2021/g_cons_utf8.tf\">g_cons_utf8</a><br><a target=\"_blank\" href=\"https://etcbc.github.io/bhsa/features/g_lex\" title=\"~/text-fabric-data/etcbc/bhsa/tf/2021/g_lex.tf\">g_lex</a><br><a target=\"_blank\" href=\"https://etcbc.github.io/bhsa/features/g_lex_utf8\" title=\"~/text-fabric-data/etcbc/bhsa/tf/2021/g_lex_utf8.tf\">g_lex_utf8</a><br><a target=\"_blank\" href=\"https://etcbc.github.io/bhsa/features/g_word\" title=\"~/text-fabric-data/etcbc/bhsa/tf/2021/g_word.tf\">g_word</a><br><a target=\"_blank\" href=\"https://etcbc.github.io/bhsa/features/g_word_utf8\" title=\"~/text-fabric-data/etcbc/bhsa/tf/2021/g_word_utf8.tf\">g_word_utf8</a><br><a target=\"_blank\" href=\"https://etcbc.github.io/bhsa/features/gloss\" title=\"~/text-fabric-data/etcbc/bhsa/tf/2021/gloss.tf\">gloss</a><br><a target=\"_blank\" href=\"https://etcbc.github.io/bhsa/features/gn\" title=\"~/text-fabric-data/etcbc/bhsa/tf/2021/gn.tf\">gn</a><br><a target=\"_blank\" href=\"https://etcbc.github.io/bhsa/features/label\" title=\"~/text-fabric-data/etcbc/bhsa/tf/2021/label.tf\">label</a><br><a target=\"_blank\" href=\"https://etcbc.github.io/bhsa/features/language\" title=\"~/text-fabric-data/etcbc/bhsa/tf/2021/language.tf\">language</a><br><a target=\"_blank\" href=\"https://etcbc.github.io/bhsa/features/lex\" title=\"~/text-fabric-data/etcbc/bhsa/tf/2021/lex.tf\">lex</a><br><a target=\"_blank\" href=\"https://etcbc.github.io/bhsa/features/lex_utf8\" title=\"~/text-fabric-data/etcbc/bhsa/tf/2021/lex_utf8.tf\">lex_utf8</a><br><a target=\"_blank\" href=\"https://etcbc.github.io/bhsa/features/ls\" title=\"~/text-fabric-data/etcbc/bhsa/tf/2021/ls.tf\">ls</a><br><a target=\"_blank\" href=\"https://etcbc.github.io/bhsa/features/nametype\" title=\"~/text-fabric-data/etcbc/bhsa/tf/2021/nametype.tf\">nametype</a><br><a target=\"_blank\" href=\"https://etcbc.github.io/bhsa/features/nme\" title=\"~/text-fabric-data/etcbc/bhsa/tf/2021/nme.tf\">nme</a><br><a target=\"_blank\" href=\"https://etcbc.github.io/bhsa/features/nu\" title=\"~/text-fabric-data/etcbc/bhsa/tf/2021/nu.tf\">nu</a><br><a target=\"_blank\" href=\"https://etcbc.github.io/bhsa/features/number\" title=\"~/text-fabric-data/etcbc/bhsa/tf/2021/number.tf\">number</a><br><a target=\"_blank\" href=\"https://etcbc.github.io/bhsa/features/otype\" title=\"~/text-fabric-data/etcbc/bhsa/tf/2021/otype.tf\">otype</a><br><a target=\"_blank\" href=\"https://etcbc.github.io/bhsa/features/pargr\" title=\"~/text-fabric-data/etcbc/bhsa/tf/2021/pargr.tf\">pargr</a><br><a target=\"_blank\" href=\"https://etcbc.github.io/bhsa/features/pdp\" title=\"~/text-fabric-data/etcbc/bhsa/tf/2021/pdp.tf\">pdp</a><br><a target=\"_blank\" href=\"https://etcbc.github.io/bhsa/features/pfm\" title=\"~/text-fabric-data/etcbc/bhsa/tf/2021/pfm.tf\">pfm</a><br><a target=\"_blank\" href=\"https://etcbc.github.io/bhsa/features/prs\" title=\"~/text-fabric-data/etcbc/bhsa/tf/2021/prs.tf\">prs</a><br><a target=\"_blank\" href=\"https://etcbc.github.io/bhsa/features/prs_gn\" title=\"~/text-fabric-data/etcbc/bhsa/tf/2021/prs_gn.tf\">prs_gn</a><br><a target=\"_blank\" href=\"https://etcbc.github.io/bhsa/features/prs_nu\" title=\"~/text-fabric-data/etcbc/bhsa/tf/2021/prs_nu.tf\">prs_nu</a><br><a target=\"_blank\" href=\"https://etcbc.github.io/bhsa/features/prs_ps\" title=\"~/text-fabric-data/etcbc/bhsa/tf/2021/prs_ps.tf\">prs_ps</a><br><a target=\"_blank\" href=\"https://etcbc.github.io/bhsa/features/ps\" title=\"~/text-fabric-data/etcbc/bhsa/tf/2021/ps.tf\">ps</a><br><a target=\"_blank\" href=\"https://etcbc.github.io/bhsa/features/qere\" title=\"~/text-fabric-data/etcbc/bhsa/tf/2021/qere.tf\">qere</a><br><a target=\"_blank\" href=\"https://etcbc.github.io/bhsa/features/qere_trailer\" title=\"~/text-fabric-data/etcbc/bhsa/tf/2021/qere_trailer.tf\">qere_trailer</a><br><a target=\"_blank\" href=\"https://etcbc.github.io/bhsa/features/qere_trailer_utf8\" title=\"~/text-fabric-data/etcbc/bhsa/tf/2021/qere_trailer_utf8.tf\">qere_trailer_utf8</a><br><a target=\"_blank\" href=\"https://etcbc.github.io/bhsa/features/qere_utf8\" title=\"~/text-fabric-data/etcbc/bhsa/tf/2021/qere_utf8.tf\">qere_utf8</a><br><a target=\"_blank\" href=\"https://etcbc.github.io/bhsa/features/rank_lex\" title=\"~/text-fabric-data/etcbc/bhsa/tf/2021/rank_lex.tf\">rank_lex</a><br><a target=\"_blank\" href=\"https://etcbc.github.io/bhsa/features/rela\" title=\"~/text-fabric-data/etcbc/bhsa/tf/2021/rela.tf\">rela</a><br><a target=\"_blank\" href=\"https://etcbc.github.io/bhsa/features/sp\" title=\"~/text-fabric-data/etcbc/bhsa/tf/2021/sp.tf\">sp</a><br><a target=\"_blank\" href=\"https://etcbc.github.io/bhsa/features/st\" title=\"~/text-fabric-data/etcbc/bhsa/tf/2021/st.tf\">st</a><br><a target=\"_blank\" href=\"https://etcbc.github.io/bhsa/features/tab\" title=\"~/text-fabric-data/etcbc/bhsa/tf/2021/tab.tf\">tab</a><br><a target=\"_blank\" href=\"https://etcbc.github.io/bhsa/features/trailer\" title=\"~/text-fabric-data/etcbc/bhsa/tf/2021/trailer.tf\">trailer</a><br><a target=\"_blank\" href=\"https://etcbc.github.io/bhsa/features/trailer_utf8\" title=\"~/text-fabric-data/etcbc/bhsa/tf/2021/trailer_utf8.tf\">trailer_utf8</a><br><a target=\"_blank\" href=\"https://etcbc.github.io/bhsa/features/txt\" title=\"~/text-fabric-data/etcbc/bhsa/tf/2021/txt.tf\">txt</a><br><a target=\"_blank\" href=\"https://etcbc.github.io/bhsa/features/typ\" title=\"~/text-fabric-data/etcbc/bhsa/tf/2021/typ.tf\">typ</a><br><a target=\"_blank\" href=\"https://etcbc.github.io/bhsa/features/uvf\" title=\"~/text-fabric-data/etcbc/bhsa/tf/2021/uvf.tf\">uvf</a><br><a target=\"_blank\" href=\"https://etcbc.github.io/bhsa/features/vbe\" title=\"~/text-fabric-data/etcbc/bhsa/tf/2021/vbe.tf\">vbe</a><br><a target=\"_blank\" href=\"https://etcbc.github.io/bhsa/features/vbs\" title=\"~/text-fabric-data/etcbc/bhsa/tf/2021/vbs.tf\">vbs</a><br><a target=\"_blank\" href=\"https://etcbc.github.io/bhsa/features/verse\" title=\"~/text-fabric-data/etcbc/bhsa/tf/2021/verse.tf\">verse</a><br><a target=\"_blank\" href=\"https://etcbc.github.io/bhsa/features/voc_lex\" title=\"~/text-fabric-data/etcbc/bhsa/tf/2021/voc_lex.tf\">voc_lex</a><br><a target=\"_blank\" href=\"https://etcbc.github.io/bhsa/features/voc_lex_utf8\" title=\"~/text-fabric-data/etcbc/bhsa/tf/2021/voc_lex_utf8.tf\">voc_lex_utf8</a><br><a target=\"_blank\" href=\"https://etcbc.github.io/bhsa/features/vs\" title=\"~/text-fabric-data/etcbc/bhsa/tf/2021/vs.tf\">vs</a><br><a target=\"_blank\" href=\"https://etcbc.github.io/bhsa/features/vt\" title=\"~/text-fabric-data/etcbc/bhsa/tf/2021/vt.tf\">vt</a><br><b><i><a target=\"_blank\" href=\"https://etcbc.github.io/bhsa/features/mother\" title=\"~/text-fabric-data/etcbc/bhsa/tf/2021/mother.tf\">mother</a></i></b><br><b><i><a target=\"_blank\" href=\"https://etcbc.github.io/bhsa/features/omap@ll\" title=\"~/text-fabric-data/etcbc/bhsa/tf/2021/omap@2017-2021.tf\">omap@ll</a></i></b><br><b><i><a target=\"_blank\" href=\"https://etcbc.github.io/bhsa/features/oslots\" title=\"~/text-fabric-data/etcbc/bhsa/tf/2021/oslots.tf\">oslots</a></i></b><br></details><details><summary><b>Phonetic Transcriptions</b></summary><a target=\"_blank\" href=\"https://nbviewer.jupyter.org/github/etcbc/phono/blob/master/programs/phono.ipynb\" title=\"~/text-fabric-data/etcbc/phono/tf/2021/phono.tf\">phono</a><br><a target=\"_blank\" href=\"https://nbviewer.jupyter.org/github/etcbc/phono/blob/master/programs/phono.ipynb\" title=\"~/text-fabric-data/etcbc/phono/tf/2021/phono_trailer.tf\">phono_trailer</a><br></details>"
      ],
      "text/plain": [
       "<IPython.core.display.HTML object>"
      ]
     },
     "metadata": {},
     "output_type": "display_data"
    },
    {
     "data": {
      "text/html": [
       "<style>tr.tf.ltr, td.tf.ltr, th.tf.ltr { text-align: left ! important;}\n",
       "tr.tf.rtl, td.tf.rtl, th.tf.rtl { text-align: right ! important;}\n",
       "@font-face {\n",
       "  font-family: \"Gentium Plus\";\n",
       "  src: local('Gentium Plus'), local('GentiumPlus'),\n",
       "    url('/server/static/fonts/GentiumPlus-R.woff') format('woff'),\n",
       "    url('https://github.com/annotation/text-fabric/blob/master/tf/server/static/fonts/GentiumPlus-R.woff?raw=true') format('woff');\n",
       "}\n",
       "\n",
       "@font-face {\n",
       "  font-family: \"Ezra SIL\";\n",
       "  src: local('Ezra SIL'), local('EzraSIL'),\n",
       "    url('/server/static/fonts/SILEOT.woff') format('woff'),\n",
       "    url('https://github.com/annotation/text-fabric/blob/master/tf/server/static/fonts/SILEOT.woff?raw=true') format('woff');\n",
       "}\n",
       "\n",
       "@font-face {\n",
       "  font-family: \"SBL Hebrew\";\n",
       "  src: local('SBL Hebrew'), local('SBLHebrew'),\n",
       "    url('/server/static/fonts/SBL_Hbrw.woff') format('woff'),\n",
       "    url('https://github.com/annotation/text-fabric/blob/master/tf/server/static/fonts/SBL_Hbrw.woff?raw=true') format('woff');\n",
       "}\n",
       "\n",
       "@font-face {\n",
       "  font-family: \"Estrangelo Edessa\";\n",
       "  src: local('Estrangelo Edessa'), local('EstrangeloEdessa');\n",
       "    url('/server/static/fonts/SyrCOMEdessa.woff') format('woff'),\n",
       "    url('https://github.com/annotation/text-fabric/blob/master/tf/server/static/fonts/SyrCOMEdessa.woff?raw=true') format('woff');\n",
       "}\n",
       "\n",
       "@font-face {\n",
       "  font-family: AmiriQuran;\n",
       "  font-style: normal;\n",
       "  font-weight: 400;\n",
       "  src: local('Amiri Quran'), local('AmiriQuran'),\n",
       "    url('/server/static/fonts/AmiriQuran.woff') format('woff'),\n",
       "    url('https://github.com/annotation/text-fabric/blob/master/tf/server/static/fonts/AmiriQuran.woff?raw=true') format('woff');\n",
       "}\n",
       "\n",
       "@font-face {\n",
       "  font-family: AmiriQuranColored;\n",
       "  font-style: normal;\n",
       "  font-weight: 400;\n",
       "  src: local('Amiri Quran Colored'), local('AmiriQuranColored'),\n",
       "    url('/server/static/fonts/AmiriQuranColored.woff') format('woff'),\n",
       "    url('https://github.com/annotation/text-fabric/blob/master/tf/server/static/fonts/AmiriQuranColored.woff?raw=true') format('woff');\n",
       "}\n",
       "\n",
       "@font-face {\n",
       "  font-family: \"Santakku\";\n",
       "  src: local('Santakku'),\n",
       "    url('/server/static/fonts/Santakku.woff') format('woff'),\n",
       "    url('https://github.com/annotation/text-fabric/blob/master/tf/server/static/fonts/Santakku.woff?raw=true') format('woff');\n",
       "}\n",
       "\n",
       "@font-face {\n",
       "  font-family: \"SantakkuM\";\n",
       "  src: local('SantakkuM'),\n",
       "    url('/server/static/fonts/SantakkuM.woff') format('woff'),\n",
       "    url('https://github.com/annotation/text-fabric/blob/master/tf/server/static/fonts/SantakkuM.woff?raw=true') format('woff');\n",
       "}\n",
       "/* bypassing some classical notebook settings */\n",
       "div#notebook {\n",
       "  line-height: unset;\n",
       "}\n",
       "/* neutral text */\n",
       ".txtn,.txtn a:visited,.txtn a:link {\n",
       "    font-family: sans-serif;\n",
       "    font-size: medium;\n",
       "    direction: ltr;\n",
       "    unicode-bidi: embed;\n",
       "    text-decoration: none;\n",
       "    color: var(--text-color);\n",
       "}\n",
       "/* transcription text */\n",
       ".txtt,.txtt a:visited,.txtt a:link {\n",
       "    font-family: monospace;\n",
       "    font-size: medium;\n",
       "    direction: ltr;\n",
       "    unicode-bidi: embed;\n",
       "    text-decoration: none;\n",
       "    color: var(--text-color);\n",
       "}\n",
       "/* source text */\n",
       ".txto,.txto a:visited,.txto a:link {\n",
       "    font-family: serif;\n",
       "    font-size: medium;\n",
       "    direction: ltr;\n",
       "    unicode-bidi: embed;\n",
       "    text-decoration: none;\n",
       "    color: var(--text-color);\n",
       "}\n",
       "/* phonetic text */\n",
       ".txtp,.txtp a:visited,.txtp a:link {\n",
       "    font-family: Gentium, sans-serif;\n",
       "    font-size: medium;\n",
       "    direction: ltr;\n",
       "    unicode-bidi: embed;\n",
       "    text-decoration: none;\n",
       "    color: var(--text-color);\n",
       "}\n",
       "/* original script text */\n",
       ".txtu,.txtu a:visited,.txtu a:link {\n",
       "    font-family: Gentium, sans-serif;\n",
       "    font-size: medium;\n",
       "    text-decoration: none;\n",
       "    color: var(--text-color);\n",
       "}\n",
       "/* hebrew */\n",
       ".txtu.hbo,.lex.hbo {\n",
       "    font-family: \"Ezra SIL\", \"SBL Hebrew\", sans-serif;\n",
       "    font-size: large;\n",
       "    direction: rtl ! important;\n",
       "    unicode-bidi: embed;\n",
       "}\n",
       "/* syriac */\n",
       ".txtu.syc,.lex.syc {\n",
       "    font-family: \"Estrangelo Edessa\", sans-serif;\n",
       "    font-size: medium;\n",
       "    direction: rtl ! important;\n",
       "    unicode-bidi: embed;\n",
       "}\n",
       "/* neo aramaic */\n",
       ".txtu.cld,.lex.cld {\n",
       "    font-family: \"CharisSIL-R\", sans-serif;\n",
       "    font-size: medium;\n",
       "    direction: ltr ! important;\n",
       "    unicode-bidi: embed;\n",
       "}\n",
       "/* standard arabic */\n",
       ".txtu.ara,.lex.ara {\n",
       "    font-family: \"AmiriQuran\", sans-serif;\n",
       "    font-size: large;\n",
       "    direction: rtl ! important;\n",
       "    unicode-bidi: embed;\n",
       "}\n",
       "/* cuneiform */\n",
       ".txtu.akk,.lex.akk {\n",
       "    font-family: Santakku, sans-serif;\n",
       "    font-size: large;\n",
       "    direction: ltr ! important;\n",
       "    unicode-bidi: embed;\n",
       "}\n",
       "/* greek */\n",
       ".txtu.grc,.lex.grc a:link {\n",
       "    font-family: Gentium, sans-serif;\n",
       "    font-size: medium;\n",
       "    direction: ltr ! important;\n",
       "    unicode-bidi: embed;\n",
       "}\n",
       "a:hover {\n",
       "    text-decoration: underline | important;\n",
       "    color: #0000ff | important;\n",
       "}\n",
       ".ltr {\n",
       "    direction: ltr ! important;\n",
       "    unicode-bidi: embed;\n",
       "}\n",
       ".rtl {\n",
       "    direction: rtl ! important;\n",
       "    unicode-bidi: embed;\n",
       "}\n",
       ".ubd {\n",
       "    unicode-bidi: embed;\n",
       "}\n",
       ".col {\n",
       "   display: inline-block;\n",
       "}\n",
       ".features {\n",
       "    font-family: monospace;\n",
       "    font-size: medium;\n",
       "    font-weight: bold;\n",
       "    color: var(--features);\n",
       "    display: flex;\n",
       "    flex-flow: column nowrap;\n",
       "    justify-content: flex-start;\n",
       "    align-items: flex-start;\n",
       "    align-content: flex-start;\n",
       "    padding: 2px;\n",
       "    margin: 2px;\n",
       "    direction: ltr;\n",
       "    unicode-bidi: embed;\n",
       "    border: var(--meta-width) solid var(--meta-color);\n",
       "    border-radius: var(--meta-width);\n",
       "}\n",
       ".features div,.features span {\n",
       "    padding: 0;\n",
       "    margin: -2px 0;\n",
       "}\n",
       ".features .f {\n",
       "    font-family: sans-serif;\n",
       "    font-size: small;\n",
       "    font-weight: normal;\n",
       "    color: #5555bb;\n",
       "}\n",
       ".features .xft {\n",
       "  color: #000000;\n",
       "  background-color: #eeeeee;\n",
       "  font-size: medium;\n",
       "  margin: 2px 0px;\n",
       "}\n",
       ".features .xft .f {\n",
       "  color: #000000;\n",
       "  background-color: #eeeeee;\n",
       "  font-size: small;\n",
       "  font-weight: normal;\n",
       "}\n",
       ".tfsechead {\n",
       "    font-family: sans-serif;\n",
       "    font-size: small;\n",
       "    font-weight: bold;\n",
       "    color: var(--tfsechead);\n",
       "    unicode-bidi: embed;\n",
       "    text-align: start;\n",
       "}\n",
       ".structure {\n",
       "    font-family: sans-serif;\n",
       "    font-size: small;\n",
       "    font-weight: bold;\n",
       "    color: var(--structure);\n",
       "    unicode-bidi: embed;\n",
       "    text-align: start;\n",
       "}\n",
       ".comments {\n",
       "    display: flex;\n",
       "    justify-content: flex-start;\n",
       "    align-items: flex-start;\n",
       "    align-content: flex-start;\n",
       "    flex-flow: column nowrap;\n",
       "}\n",
       ".nd, a:link.nd {\n",
       "    font-family: sans-serif;\n",
       "    font-size: small;\n",
       "    color: var(--node);\n",
       "    vertical-align: super;\n",
       "    direction: ltr ! important;\n",
       "    unicode-bidi: embed;\n",
       "}\n",
       ".lex {\n",
       "  color: var(--lex-color);;\n",
       "}\n",
       ".children,.children.ltr {\n",
       "    display: flex;\n",
       "    border: 0;\n",
       "    background-color: #ffffff;\n",
       "    justify-content: flex-start;\n",
       "    align-items: flex-start;\n",
       "    align-content: flex-start;\n",
       "}\n",
       ".children.stretch {\n",
       "    align-items: stretch;\n",
       "}\n",
       ".children.hor {\n",
       "    flex-flow: row nowrap;\n",
       "}\n",
       ".children.hor.wrap {\n",
       "    flex-flow: row wrap;\n",
       "}\n",
       ".children.ver {\n",
       "    flex-flow: column nowrap;\n",
       "}\n",
       ".children.ver.wrap {\n",
       "    flex-flow: column wrap;\n",
       "}\n",
       ".contnr {\n",
       "    width: fit-content;\n",
       "    display: flex;\n",
       "    justify-content: flex-start;\n",
       "    align-items: flex-start;\n",
       "    align-content: flex-start;\n",
       "    flex-flow: column nowrap;\n",
       "    background: #ffffff none repeat scroll 0 0;\n",
       "    padding:  10px 2px 2px 2px;\n",
       "    margin: 16px 2px 2px 2px;\n",
       "    border-style: solid;\n",
       "    font-size: small;\n",
       "}\n",
       ".contnr.trm {\n",
       "    background-attachment: local;\n",
       "}\n",
       ".contnr.cnul {\n",
       "    padding:  0;\n",
       "    margin: 0;\n",
       "    border-style: solid;\n",
       "    font-size: xx-small;\n",
       "}\n",
       ".contnr.cnul,.lbl.cnul {\n",
       "    border-color: var(--border-color-nul);\n",
       "    border-width: var(--border-width-nul);\n",
       "    border-radius: var(--border-width-nul);\n",
       "}\n",
       ".contnr.c0,.lbl.c0 {\n",
       "    border-color: var(--border-color0);\n",
       "    border-width: var(--border-width0);\n",
       "    border-radius: var(--border-width0);\n",
       "}\n",
       ".contnr.c1,.lbl.c1 {\n",
       "    border-color: var(--border-color1);\n",
       "    border-width: var(--border-width1);\n",
       "    border-radius: var(--border-width1);\n",
       "}\n",
       ".contnr.c2,.lbl.c2 {\n",
       "    border-color: var(--border-color2);\n",
       "    border-width: var(--border-width2);\n",
       "    border-radius: var(--border-width2);\n",
       "}\n",
       ".contnr.c3,.lbl.c3 {\n",
       "    border-color: var(--border-color3);\n",
       "    border-width: var(--border-width3);\n",
       "    border-radius: var(--border-width3);\n",
       "}\n",
       ".contnr.c4,.lbl.c4 {\n",
       "    border-color: var(--border-color4);\n",
       "    border-width: var(--border-width4);\n",
       "    border-radius: var(--border-width4);\n",
       "}\n",
       "span.plain {\n",
       "    display: inline-block;\n",
       "    white-space: pre-wrap;\n",
       "}\n",
       ".plain {\n",
       "    background-color: #ffffff;\n",
       "}\n",
       ".plain.l,.contnr.l,.contnr.l>.lbl {\n",
       "    border-left-style: dotted\n",
       "}\n",
       ".plain.r,.contnr.r,.contnr.r>.lbl {\n",
       "    border-right-style: dotted\n",
       "}\n",
       ".plain.lno,.contnr.lno,.contnr.lno>.lbl {\n",
       "    border-left-style: none\n",
       "}\n",
       ".plain.rno,.contnr.rno,.contnr.rno>.lbl {\n",
       "    border-right-style: none\n",
       "}\n",
       ".plain.l {\n",
       "    padding-left: 4px;\n",
       "    margin-left: 2px;\n",
       "    border-width: var(--border-width-plain);\n",
       "}\n",
       ".plain.r {\n",
       "    padding-right: 4px;\n",
       "    margin-right: 2px;\n",
       "    border-width: var(--border-width-plain);\n",
       "}\n",
       ".lbl {\n",
       "    font-family: monospace;\n",
       "    margin-top: -24px;\n",
       "    margin-left: 20px;\n",
       "    background: #ffffff none repeat scroll 0 0;\n",
       "    padding: 0 6px;\n",
       "    border-style: solid;\n",
       "    display: block;\n",
       "    color: var(--label)\n",
       "}\n",
       ".lbl.trm {\n",
       "    background-attachment: local;\n",
       "    margin-top: 2px;\n",
       "    margin-left: 2px;\n",
       "    padding: 2px 2px;\n",
       "    border-style: none;\n",
       "}\n",
       ".lbl.cnul {\n",
       "    font-size: xx-small;\n",
       "}\n",
       ".lbl.c0 {\n",
       "    font-size: small;\n",
       "}\n",
       ".lbl.c1 {\n",
       "    font-size: small;\n",
       "}\n",
       ".lbl.c2 {\n",
       "    font-size: medium;\n",
       "}\n",
       ".lbl.c3 {\n",
       "    font-size: medium;\n",
       "}\n",
       ".lbl.c4 {\n",
       "    font-size: large;\n",
       "}\n",
       ".occs, a:link.occs {\n",
       "    font-size: small;\n",
       "}\n",
       "\n",
       "/* PROVENANCE */\n",
       "\n",
       "div.prov {\n",
       "\tmargin: 40px;\n",
       "\tpadding: 20px;\n",
       "\tborder: 2px solid var(--fog-rim);\n",
       "}\n",
       "div.pline {\n",
       "\tdisplay: flex;\n",
       "\tflex-flow: row nowrap;\n",
       "\tjustify-content: stretch;\n",
       "\talign-items: baseline;\n",
       "}\n",
       "div.p2line {\n",
       "\tmargin-left: 2em;\n",
       "\tdisplay: flex;\n",
       "\tflex-flow: row nowrap;\n",
       "\tjustify-content: stretch;\n",
       "\talign-items: baseline;\n",
       "}\n",
       "div.psline {\n",
       "\tdisplay: flex;\n",
       "\tflex-flow: row nowrap;\n",
       "\tjustify-content: stretch;\n",
       "\talign-items: baseline;\n",
       "\tbackground-color: var(--gold-mist-back);\n",
       "}\n",
       "div.pname {\n",
       "\tflex: 0 0 5rem;\n",
       "\tfont-weight: bold;\n",
       "}\n",
       "div.pval {\n",
       "    flex: 1 1 auto;\n",
       "}\n",
       "\n",
       ":root {\n",
       "\t--node:               hsla(120, 100%,  20%, 1.0  );\n",
       "\t--label:              hsla(  0, 100%,  20%, 1.0  );\n",
       "\t--tfsechead:          hsla(  0, 100%,  25%, 1.0  );\n",
       "\t--structure:          hsla(120, 100%,  25%, 1.0  );\n",
       "\t--features:           hsla(  0,   0%,  30%, 1.0  );\n",
       "  --text-color:         hsla( 60,  80%,  10%, 1.0  );\n",
       "  --lex-color:          hsla(220,  90%,  60%, 1.0  );\n",
       "  --meta-color:         hsla(  0,   0%,  90%, 0.7  );\n",
       "  --meta-width:         3px;\n",
       "  --border-color-nul:   hsla(  0,   0%,  90%, 0.5  );\n",
       "  --border-color0:      hsla(  0,   0%,  90%, 0.9  );\n",
       "  --border-color1:      hsla(  0,   0%,  80%, 0.9  );\n",
       "  --border-color2:      hsla(  0,   0%,  70%, 0.9  );\n",
       "  --border-color3:      hsla(  0,   0%,  80%, 0.8  );\n",
       "  --border-color4:      hsla(  0,   0%,  60%, 0.9  );\n",
       "  --border-width-nul:   2px;\n",
       "  --border-width0:      2px;\n",
       "  --border-width1:      3px;\n",
       "  --border-width2:      4px;\n",
       "  --border-width3:      6px;\n",
       "  --border-width4:      5px;\n",
       "  --border-width-plain: 2px;\n",
       "}\n",
       ".hl {\n",
       "  background-color: var(--hl-strong);\n",
       "}\n",
       "span.hl {\n",
       "\tbackground-color: var(--hl-strong);\n",
       "\tborder-width: 0;\n",
       "\tborder-radius: 2px;\n",
       "\tborder-style: solid;\n",
       "}\n",
       "div.contnr.hl,div.lbl.hl {\n",
       "  background-color: var(--hl-strong);\n",
       "}\n",
       "div.contnr.hl {\n",
       "  border-color: var(--hl-rim) ! important;\n",
       "\tborder-width: 4px ! important;\n",
       "}\n",
       "\n",
       "span.hlbx {\n",
       "\tborder-color: var(--hl-rim);\n",
       "\tborder-width: 4px ! important;\n",
       "\tborder-style: solid;\n",
       "\tborder-radius: 6px;\n",
       "  padding: 4px;\n",
       "  margin: 4px;\n",
       "}\n",
       "\n",
       "span.plain {\n",
       "  display: inline-block;\n",
       "  white-space: pre-wrap;\n",
       "}\n",
       "\n",
       ":root {\n",
       "\t--hl-strong:        hsla( 60, 100%,  70%, 0.9  );\n",
       "\t--hl-rim:           hsla( 55,  80%,  50%, 1.0  );\n",
       "}\n",
       "</style>"
      ],
      "text/plain": [
       "<IPython.core.display.HTML object>"
      ]
     },
     "metadata": {},
     "output_type": "display_data"
    },
    {
     "data": {
      "text/html": [
       "<div><b>Text-Fabric API:</b> names <a target=\"_blank\" href=\"https://annotation.github.io/text-fabric/tf/cheatsheet.html\" title=\"doc\">N F E L T S C TF</a> directly usable</div><hr>"
      ],
      "text/plain": [
       "<IPython.core.display.HTML object>"
      ]
     },
     "metadata": {},
     "output_type": "display_data"
    }
   ],
   "source": [
    "A = use(\"bhsa\", hoist=globals())"
   ]
  },
  {
   "cell_type": "code",
   "execution_count": 4,
   "id": "bea1f57b-e0af-4c92-8690-14e43b1068fa",
   "metadata": {},
   "outputs": [],
   "source": [
    "v1 = T.nodeFromSection((\"Genesis\", 1, 1))"
   ]
  },
  {
   "cell_type": "code",
   "execution_count": 5,
   "id": "d9bcfcb1-8277-4b86-a55f-53b444b9af27",
   "metadata": {},
   "outputs": [
    {
     "data": {
      "text/html": [
       "<div class=\"tfsechead ltr\"><span class=\"ltr\"><a target=\"_blank\" href=\"https://shebanq.ancient-data.org/hebrew/text?book=Genesis&amp;chapter=1&amp;verse=1&amp;version=2021&amp;mr=m&amp;qw=q&amp;tp=txt_p&amp;tr=hb&amp;wget=v&amp;qget=v&amp;nget=vt\" title=\"Show this on SHEBANQ\" sec=\"Genesis 1:1\">Genesis 1:1</a></span></div><div class=\"ltr children\"><div class=\"contnr c3  ltr  \" ><div class=\"lbl c3  \" ><span class=\"nd\">verse</span></div><div class=\"children hor wrap ltr\"><div class=\"contnr c2  ltr  \" ><div class=\"lbl c2  \" ><span class=\"nd\">sentence</span> <span class=\"\"><span title=\"number\">1</span></span></div><div class=\"children hor wrap ltr\"><div class=\"contnr c2  ltr  \" ><div class=\"lbl c2  \" ><span class=\"nd\">clause</span> <span class=\"\"><span title=\"typ\">xQtX</span> <span title=\"rela\">NA</span></span></div><div class=\"children hor wrap ltr\"><div class=\"contnr c1  ltr  \" ><div class=\"lbl c1  \" ><span class=\"nd\">phrase</span> <span class=\"\"><span title=\"typ\">PP</span> <span title=\"function\">Time</span></span></div><div class=\"children hor wrap ltr\"><div class=\"contnr c0 trm ltr  \" ><div class=\"lbl c0 trm \" ><a class=\" txtu hbo\" target=\"_blank\" href=\"https://shebanq.ancient-data.org/hebrew/word?version=2021&amp;id=1B\" title=\"Show this on SHEBANQ\"><span class=\"txtp\">bᵊ</span></a></div><div class='features'><span class=\"gloss \" title=\"gloss\">in</span><span class=\"pdp \" ><span class=\"f\">pdp=</span>prep</span></div></div><div class=\"contnr c0 trm ltr  \" ><div class=\"lbl c0 trm \" ><a class=\" txtu hbo\" target=\"_blank\" href=\"https://shebanq.ancient-data.org/hebrew/word?version=2021&amp;id=1RACJTn\" title=\"Show this on SHEBANQ\"><span class=\"txtp\">rēšˌîṯ </span></a></div><div class='features'><span class=\"gloss \" title=\"gloss\">beginning</span><span class=\"pdp \" ><span class=\"f\">pdp=</span>subs</span></div></div></div></div><div class=\"contnr c1  ltr  \" ><div class=\"lbl c1  \" ><span class=\"nd\">phrase</span> <span class=\"\"><span title=\"typ\">VP</span> <span title=\"function\">Pred</span></span></div><div class=\"children hor wrap ltr\"><div class=\"contnr c0 trm ltr  \" ><div class=\"lbl c0 trm \" ><a class=\" txtu hbo\" target=\"_blank\" href=\"https://shebanq.ancient-data.org/hebrew/word?version=2021&amp;id=1BRAv\" title=\"Show this on SHEBANQ\"><span class=\"txtp\">bārˈā </span></a></div><div class='features'><span class=\"gloss \" title=\"gloss\">create</span><span class=\"pdp \" ><span class=\"f\">pdp=</span>verb</span><span class=\"vs \" ><span class=\"f\">vs=</span>qal</span><span class=\"vt \" ><span class=\"f\">vt=</span>perf</span></div></div></div></div><div class=\"contnr c1  ltr  \" ><div class=\"lbl c1  \" ><span class=\"nd\">phrase</span> <span class=\"\"><span title=\"typ\">NP</span> <span title=\"function\">Subj</span></span></div><div class=\"children hor wrap ltr\"><div class=\"contnr c0 trm ltr  \" ><div class=\"lbl c0 trm \" ><a class=\" txtu hbo\" target=\"_blank\" href=\"https://shebanq.ancient-data.org/hebrew/word?version=2021&amp;id=1ALHJMn\" title=\"Show this on SHEBANQ\"><span class=\"txtp\">ʔᵉlōhˈîm </span></a></div><div class='features'><span class=\"gloss \" title=\"gloss\">god(s)</span><span class=\"pdp \" ><span class=\"f\">pdp=</span>subs</span></div></div></div></div><div class=\"contnr c1  ltr  \" ><div class=\"lbl c1  \" ><span class=\"nd\">phrase</span> <span class=\"\"><span title=\"typ\">PP</span> <span title=\"function\">Objc</span></span></div><div class=\"children hor wrap ltr\"><div class=\"contnr c0 trm ltr  \" ><div class=\"lbl c0 trm \" ><a class=\" txtu hbo\" target=\"_blank\" href=\"https://shebanq.ancient-data.org/hebrew/word?version=2021&amp;id=1AT\" title=\"Show this on SHEBANQ\"><span class=\"txtp\">ʔˌēṯ </span></a></div><div class='features'><span class=\"gloss \" title=\"gloss\">&lt;object marker></span><span class=\"pdp \" ><span class=\"f\">pdp=</span>prep</span></div></div><div class=\"contnr c0 trm ltr  \" ><div class=\"lbl c0 trm \" ><a class=\" txtu hbo\" target=\"_blank\" href=\"https://shebanq.ancient-data.org/hebrew/word?version=2021&amp;id=1H\" title=\"Show this on SHEBANQ\"><span class=\"txtp\">ha</span></a></div><div class='features'><span class=\"gloss \" title=\"gloss\">the</span><span class=\"pdp \" ><span class=\"f\">pdp=</span>art</span></div></div><div class=\"contnr c0 trm ltr  \" ><div class=\"lbl c0 trm \" ><a class=\" txtu hbo\" target=\"_blank\" href=\"https://shebanq.ancient-data.org/hebrew/word?version=2021&amp;id=1CMJMn\" title=\"Show this on SHEBANQ\"><span class=\"txtp\">ššāmˌayim </span></a></div><div class='features'><span class=\"gloss \" title=\"gloss\">heavens</span><span class=\"pdp \" ><span class=\"f\">pdp=</span>subs</span></div></div><div class=\"contnr c0 trm ltr  \" ><div class=\"lbl c0 trm \" ><a class=\" txtu hbo\" target=\"_blank\" href=\"https://shebanq.ancient-data.org/hebrew/word?version=2021&amp;id=1W\" title=\"Show this on SHEBANQ\"><span class=\"txtp\">wᵊ</span></a></div><div class='features'><span class=\"gloss \" title=\"gloss\">and</span><span class=\"pdp \" ><span class=\"f\">pdp=</span>conj</span></div></div><div class=\"contnr c0 trm ltr  \" ><div class=\"lbl c0 trm \" ><a class=\" txtu hbo\" target=\"_blank\" href=\"https://shebanq.ancient-data.org/hebrew/word?version=2021&amp;id=1AT\" title=\"Show this on SHEBANQ\"><span class=\"txtp\">ʔˌēṯ </span></a></div><div class='features'><span class=\"gloss \" title=\"gloss\">&lt;object marker></span><span class=\"pdp \" ><span class=\"f\">pdp=</span>prep</span></div></div><div class=\"contnr c0 trm ltr  \" ><div class=\"lbl c0 trm \" ><a class=\" txtu hbo\" target=\"_blank\" href=\"https://shebanq.ancient-data.org/hebrew/word?version=2021&amp;id=1H\" title=\"Show this on SHEBANQ\"><span class=\"txtp\">hā</span></a></div><div class='features'><span class=\"gloss \" title=\"gloss\">the</span><span class=\"pdp \" ><span class=\"f\">pdp=</span>art</span></div></div><div class=\"contnr c0 trm ltr  \" ><div class=\"lbl c0 trm \" ><a class=\" txtu hbo\" target=\"_blank\" href=\"https://shebanq.ancient-data.org/hebrew/word?version=2021&amp;id=1ARYn\" title=\"Show this on SHEBANQ\"><span class=\"txtp\">ʔˈāreṣ . </span></a></div><div class='features'><span class=\"gloss \" title=\"gloss\">earth</span><span class=\"pdp \" ><span class=\"f\">pdp=</span>subs</span></div></div></div></div></div></div></div></div></div></div></div>"
      ],
      "text/plain": [
       "<IPython.core.display.HTML object>"
      ]
     },
     "metadata": {},
     "output_type": "display_data"
    }
   ],
   "source": [
    "A.pretty(v1, standardFeatures=True, fmt=\"text-phono-full\")"
   ]
  },
  {
   "cell_type": "markdown",
   "id": "f0e9d530-fdd8-4395-87e3-72cac1e581f4",
   "metadata": {},
   "source": [
    "What we want is a display like this, but with the glosses (`in` `beginning` `create` etc) editable.\n",
    "Also all values after `pdp=` should be editable. And the information in the labels with clause and phrase as well\n",
    "(`xQtX`, `PP`, `Time`) etc. If you hover over them, you see they are values of features `typ`, `rela` and `function`.\n",
    "\n",
    "The task is to rebuild this from the\n",
    "[layout widgets of ipywidgets](https://ipywidgets.readthedocs.io/en/7.6.3/examples/Widget%20Styling.html),\n",
    "such as Box, HBox, VBox, HTML.\n",
    "\n",
    "We start with something simpler, the first phrase (`in beginning`), without the passage reference.\n",
    "We first generate the html, then display it, and then show the underlying HTML as a decently formatted string.\n",
    "\n",
    "For the latter we use *beautifulsoup* and we define a convenience function:"
   ]
  },
  {
   "cell_type": "code",
   "execution_count": 6,
   "id": "cfbd709b-0c51-4f65-a06a-5aa5943613d3",
   "metadata": {},
   "outputs": [],
   "source": [
    "def pdh(html):\n",
    "    print(bs(html).prettify())"
   ]
  },
  {
   "cell_type": "code",
   "execution_count": 7,
   "id": "c53b0384-4ac5-42ba-902d-6daadbf6c958",
   "metadata": {},
   "outputs": [
    {
     "data": {
      "text/html": [
       "<div class=\"ltr children\"><div class=\"contnr c1  ltr  \" ><div class=\"lbl c1  \" ><span class=\"nd\">phrase</span> <span class=\"\"><span title=\"typ\">PP</span> <span title=\"function\">Time</span></span></div><div class=\"children hor wrap ltr\"><div class=\"contnr c0 trm ltr  \" ><div class=\"lbl c0 trm \" ><a class=\" txtu hbo\" target=\"_blank\" href=\"https://shebanq.ancient-data.org/hebrew/word?version=2021&amp;id=1B\" title=\"Show this on SHEBANQ\"><span class=\"txtp\">bᵊ</span></a></div><div class='features'><span class=\"gloss \" title=\"gloss\">in</span><span class=\"pdp \" ><span class=\"f\">pdp=</span>prep</span></div></div><div class=\"contnr c0 trm ltr  \" ><div class=\"lbl c0 trm \" ><a class=\" txtu hbo\" target=\"_blank\" href=\"https://shebanq.ancient-data.org/hebrew/word?version=2021&amp;id=1RACJTn\" title=\"Show this on SHEBANQ\"><span class=\"txtp\">rēšˌîṯ </span></a></div><div class='features'><span class=\"gloss \" title=\"gloss\">beginning</span><span class=\"pdp \" ><span class=\"f\">pdp=</span>subs</span></div></div></div></div></div>"
      ],
      "text/plain": [
       "<IPython.core.display.HTML object>"
      ]
     },
     "metadata": {},
     "output_type": "display_data"
    },
    {
     "name": "stdout",
     "output_type": "stream",
     "text": [
      "<html>\n",
      " <body>\n",
      "  <div class=\"ltr children\">\n",
      "   <div class=\"contnr c1 ltr\">\n",
      "    <div class=\"lbl c1\">\n",
      "     <span class=\"nd\">\n",
      "      phrase\n",
      "     </span>\n",
      "     <span class=\"\">\n",
      "      <span title=\"typ\">\n",
      "       PP\n",
      "      </span>\n",
      "      <span title=\"function\">\n",
      "       Time\n",
      "      </span>\n",
      "     </span>\n",
      "    </div>\n",
      "    <div class=\"children hor wrap ltr\">\n",
      "     <div class=\"contnr c0 trm ltr\">\n",
      "      <div class=\"lbl c0 trm\">\n",
      "       <a class=\"txtu hbo\" href=\"https://shebanq.ancient-data.org/hebrew/word?version=2021&amp;id=1B\" target=\"_blank\" title=\"Show this on SHEBANQ\">\n",
      "        <span class=\"txtp\">\n",
      "         bᵊ\n",
      "        </span>\n",
      "       </a>\n",
      "      </div>\n",
      "      <div class=\"features\">\n",
      "       <span class=\"gloss\" title=\"gloss\">\n",
      "        in\n",
      "       </span>\n",
      "       <span class=\"pdp\">\n",
      "        <span class=\"f\">\n",
      "         pdp=\n",
      "        </span>\n",
      "        prep\n",
      "       </span>\n",
      "      </div>\n",
      "     </div>\n",
      "     <div class=\"contnr c0 trm ltr\">\n",
      "      <div class=\"lbl c0 trm\">\n",
      "       <a class=\"txtu hbo\" href=\"https://shebanq.ancient-data.org/hebrew/word?version=2021&amp;id=1RACJTn\" target=\"_blank\" title=\"Show this on SHEBANQ\">\n",
      "        <span class=\"txtp\">\n",
      "         rēšˌîṯ\n",
      "        </span>\n",
      "       </a>\n",
      "      </div>\n",
      "      <div class=\"features\">\n",
      "       <span class=\"gloss\" title=\"gloss\">\n",
      "        beginning\n",
      "       </span>\n",
      "       <span class=\"pdp\">\n",
      "        <span class=\"f\">\n",
      "         pdp=\n",
      "        </span>\n",
      "        subs\n",
      "       </span>\n",
      "      </div>\n",
      "     </div>\n",
      "    </div>\n",
      "   </div>\n",
      "  </div>\n",
      " </body>\n",
      "</html>\n"
     ]
    }
   ],
   "source": [
    "p1 = F.otype.s(\"phrase\")[0]\n",
    "html = A.pretty(p1, standardFeatures=True, fmt=\"text-phono-full\", withPassage=False, _asString=True)\n",
    "dh(html)\n",
    "pdh(html)"
   ]
  },
  {
   "cell_type": "code",
   "execution_count": 75,
   "id": "542efbf8-921e-4ea2-99e5-0f0994b286e0",
   "metadata": {},
   "outputs": [],
   "source": [
    "word1 = \"\"\"<a\n",
    "  class=\"txtu hbo\"\n",
    "  href=\"https://shebanq.ancient-data.org/hebrew/word?version=2021&amp;id=1B\"\n",
    "  target=\"_blank\"\n",
    "  title=\"Show this on SHEBANQ\">\n",
    "        <span class=\"txtp\">\n",
    "         bᵊ\n",
    "        </span>\n",
    "       </a>\"\"\"\n",
    "word2 = \"\"\"<a\n",
    "  class=\"txtu hbo\"\n",
    "  href=\"https://shebanq.ancient-data.org/hebrew/word?version=2021&amp;id=1RACJTn\"\n",
    "  target=\"_blank\"\n",
    "  title=\"Show this on SHEBANQ\">\n",
    "        <span class=\"txtp\">\n",
    "         rēšˌîṯ\n",
    "        </span>\n",
    "       </a>\"\"\"\n",
    "gloss1 = \"in\"\n",
    "gloss2 = \"beginning\"\n",
    "pdp1 = \"prep\"\n",
    "pdp2 = \"subs\""
   ]
  },
  {
   "cell_type": "code",
   "execution_count": 205,
   "id": "cd0d2cda-3b0e-4517-99a9-c04da757097c",
   "metadata": {},
   "outputs": [],
   "source": [
    "layout1 = Layout(flex=\"auto 1 1\")\n",
    "layout1a = Layout(\n",
    "    flex=\"auto 0 0\",\n",
    "    height=\"3em\",\n",
    "    width=\"10em\"\n",
    ")\n",
    "layout1b = Layout(\n",
    "    flex=\"auto 1 1\",\n",
    "    height=\"4em\",\n",
    ")\n",
    "layout2 = Layout(\n",
    "    flex_flow=\"column\",\n",
    "    border=\"2px solid gray\",\n",
    "    flex=\"auto 0 1\",\n",
    "    width=\"15em\",\n",
    ")"
   ]
  },
  {
   "cell_type": "code",
   "execution_count": 206,
   "id": "a351b520-ea1a-4aac-b414-ea72bd2f0d1c",
   "metadata": {},
   "outputs": [],
   "source": [
    "w1 = Box(\n",
    "    [\n",
    "        HTML(value=word1, layout=layout1),\n",
    "        Text(value=gloss1, placeholder=\"gloss\", layout=layout1a),\n",
    "        Box([HTML(value=\"pdp=\"), Text(value=pdp1, placeholder=\"pdp\", layout=layout1a)], layout=layout1b),\n",
    "    ],\n",
    "    layout=layout2,\n",
    ")"
   ]
  },
  {
   "cell_type": "code",
   "execution_count": 207,
   "id": "a4284e7d-2c8c-4651-a980-6cfb3df70d4f",
   "metadata": {
    "tags": []
   },
   "outputs": [
    {
     "data": {
      "application/vnd.jupyter.widget-view+json": {
       "model_id": "041835a1273144c3929ac6e4fcb85581",
       "version_major": 2,
       "version_minor": 0
      },
      "text/plain": [
       "Box(children=(HTML(value='<a\\n  class=\"txtu hbo\"\\n  href=\"https://shebanq.ancient-data.org/hebrew/word?version…"
      ]
     },
     "metadata": {},
     "output_type": "display_data"
    }
   ],
   "source": [
    "display(w1)"
   ]
  },
  {
   "cell_type": "code",
   "execution_count": 208,
   "id": "3bca15b5-4728-4e8d-ac04-917450681aff",
   "metadata": {},
   "outputs": [],
   "source": [
    "w2 = Box(\n",
    "    [\n",
    "        HTML(value=word2, layout=layout1),\n",
    "        Text(value=gloss2, placeholder=\"gloss\", layout=layout1a),\n",
    "        Text(value=pdp2, placeholder=\"pdp\", description=\"pdp=\", layout=layout1a),\n",
    "    ],\n",
    "    layout=layout2,\n",
    ")"
   ]
  },
  {
   "cell_type": "code",
   "execution_count": 209,
   "id": "c4ad79b9-6049-43c9-a158-6ca811f43bfe",
   "metadata": {
    "tags": []
   },
   "outputs": [
    {
     "data": {
      "application/vnd.jupyter.widget-view+json": {
       "model_id": "0f1432daae684fba969ca0c1dd0a6c93",
       "version_major": 2,
       "version_minor": 0
      },
      "text/plain": [
       "Box(children=(HTML(value='<a\\n  class=\"txtu hbo\"\\n  href=\"https://shebanq.ancient-data.org/hebrew/word?version…"
      ]
     },
     "metadata": {},
     "output_type": "display_data"
    }
   ],
   "source": [
    "display(w2)"
   ]
  },
  {
   "cell_type": "code",
   "execution_count": 210,
   "id": "4a8379fa-69f6-40cc-a5b3-25c115600739",
   "metadata": {},
   "outputs": [],
   "source": [
    "layout3 = Layout(align_content=\"flex-start\")\n",
    "w = Box([w1, w2], layout=layout3)"
   ]
  },
  {
   "cell_type": "code",
   "execution_count": 211,
   "id": "a5ead64a-4a4b-4e73-a222-5e506b575a57",
   "metadata": {
    "tags": []
   },
   "outputs": [
    {
     "data": {
      "application/vnd.jupyter.widget-view+json": {
       "model_id": "b50d0e25ef3240c0a0191f7bdb991934",
       "version_major": 2,
       "version_minor": 0
      },
      "text/plain": [
       "Box(children=(Box(children=(HTML(value='<a\\n  class=\"txtu hbo\"\\n  href=\"https://shebanq.ancient-data.org/hebre…"
      ]
     },
     "metadata": {},
     "output_type": "display_data"
    }
   ],
   "source": [
    "display(w)"
   ]
  },
  {
   "cell_type": "markdown",
   "id": "5f56f682-c9c8-4d55-a7bc-37e2b6442aa5",
   "metadata": {},
   "source": [
    "For the reverse engineering we also need to know the CSS that formats displays like this.\n",
    "We can do that with `A.getCss()`."
   ]
  },
  {
   "cell_type": "code",
   "execution_count": 46,
   "id": "f691446f-7d9f-47e2-9672-de06cb40c457",
   "metadata": {},
   "outputs": [
    {
     "name": "stdout",
     "output_type": "stream",
     "text": [
      "<html>\n",
      " <head>\n",
      "  <style>\n",
      "   tr.tf.ltr, td.tf.ltr, th.tf.ltr { text-align: left ! important;}\n",
      "tr.tf.rtl, td.tf.rtl, th.tf.rtl { text-align: right ! important;}\n",
      "@font-face {\n",
      "  font-family: \"Gentium Plus\";\n",
      "  src: local('Gentium Plus'), local('GentiumPlus'),\n",
      "    url('/server/static/fonts/GentiumPlus-R.woff') format('woff'),\n",
      "    url('https://github.com/annotation/text-fabric/blob/master/tf/server/static/fonts/GentiumPlus-R.woff?raw=true') format('woff');\n",
      "}\n",
      "\n",
      "@font-face {\n",
      "  font-family: \"Ezra SIL\";\n",
      "  src: local('Ezra SIL'), local('EzraSIL'),\n",
      "    url('/server/static/fonts/SILEOT.woff') format('woff'),\n",
      "    url('https://github.com/annotation/text-fabric/blob/master/tf/server/static/fonts/SILEOT.woff?raw=true') format('woff');\n",
      "}\n",
      "\n",
      "@font-face {\n",
      "  font-family: \"SBL Hebrew\";\n",
      "  src: local('SBL Hebrew'), local('SBLHebrew'),\n",
      "    url('/server/static/fonts/SBL_Hbrw.woff') format('woff'),\n",
      "    url('https://github.com/annotation/text-fabric/blob/master/tf/server/static/fonts/SBL_Hbrw.woff?raw=true') format('woff');\n",
      "}\n",
      "\n",
      "@font-face {\n",
      "  font-family: \"Estrangelo Edessa\";\n",
      "  src: local('Estrangelo Edessa'), local('EstrangeloEdessa');\n",
      "    url('/server/static/fonts/SyrCOMEdessa.woff') format('woff'),\n",
      "    url('https://github.com/annotation/text-fabric/blob/master/tf/server/static/fonts/SyrCOMEdessa.woff?raw=true') format('woff');\n",
      "}\n",
      "\n",
      "@font-face {\n",
      "  font-family: AmiriQuran;\n",
      "  font-style: normal;\n",
      "  font-weight: 400;\n",
      "  src: local('Amiri Quran'), local('AmiriQuran'),\n",
      "    url('/server/static/fonts/AmiriQuran.woff') format('woff'),\n",
      "    url('https://github.com/annotation/text-fabric/blob/master/tf/server/static/fonts/AmiriQuran.woff?raw=true') format('woff');\n",
      "}\n",
      "\n",
      "@font-face {\n",
      "  font-family: AmiriQuranColored;\n",
      "  font-style: normal;\n",
      "  font-weight: 400;\n",
      "  src: local('Amiri Quran Colored'), local('AmiriQuranColored'),\n",
      "    url('/server/static/fonts/AmiriQuranColored.woff') format('woff'),\n",
      "    url('https://github.com/annotation/text-fabric/blob/master/tf/server/static/fonts/AmiriQuranColored.woff?raw=true') format('woff');\n",
      "}\n",
      "\n",
      "@font-face {\n",
      "  font-family: \"Santakku\";\n",
      "  src: local('Santakku'),\n",
      "    url('/server/static/fonts/Santakku.woff') format('woff'),\n",
      "    url('https://github.com/annotation/text-fabric/blob/master/tf/server/static/fonts/Santakku.woff?raw=true') format('woff');\n",
      "}\n",
      "\n",
      "@font-face {\n",
      "  font-family: \"SantakkuM\";\n",
      "  src: local('SantakkuM'),\n",
      "    url('/server/static/fonts/SantakkuM.woff') format('woff'),\n",
      "    url('https://github.com/annotation/text-fabric/blob/master/tf/server/static/fonts/SantakkuM.woff?raw=true') format('woff');\n",
      "}\n",
      "/* bypassing some classical notebook settings */\n",
      "div#notebook {\n",
      "  line-height: unset;\n",
      "}\n",
      "/* neutral text */\n",
      ".txtn,.txtn a:visited,.txtn a:link {\n",
      "    font-family: sans-serif;\n",
      "    font-size: medium;\n",
      "    direction: ltr;\n",
      "    unicode-bidi: embed;\n",
      "    text-decoration: none;\n",
      "    color: var(--text-color);\n",
      "}\n",
      "/* transcription text */\n",
      ".txtt,.txtt a:visited,.txtt a:link {\n",
      "    font-family: monospace;\n",
      "    font-size: medium;\n",
      "    direction: ltr;\n",
      "    unicode-bidi: embed;\n",
      "    text-decoration: none;\n",
      "    color: var(--text-color);\n",
      "}\n",
      "/* source text */\n",
      ".txto,.txto a:visited,.txto a:link {\n",
      "    font-family: serif;\n",
      "    font-size: medium;\n",
      "    direction: ltr;\n",
      "    unicode-bidi: embed;\n",
      "    text-decoration: none;\n",
      "    color: var(--text-color);\n",
      "}\n",
      "/* phonetic text */\n",
      ".txtp,.txtp a:visited,.txtp a:link {\n",
      "    font-family: Gentium, sans-serif;\n",
      "    font-size: medium;\n",
      "    direction: ltr;\n",
      "    unicode-bidi: embed;\n",
      "    text-decoration: none;\n",
      "    color: var(--text-color);\n",
      "}\n",
      "/* original script text */\n",
      ".txtu,.txtu a:visited,.txtu a:link {\n",
      "    font-family: Gentium, sans-serif;\n",
      "    font-size: medium;\n",
      "    text-decoration: none;\n",
      "    color: var(--text-color);\n",
      "}\n",
      "/* hebrew */\n",
      ".txtu.hbo,.lex.hbo {\n",
      "    font-family: \"Ezra SIL\", \"SBL Hebrew\", sans-serif;\n",
      "    font-size: large;\n",
      "    direction: rtl ! important;\n",
      "    unicode-bidi: embed;\n",
      "}\n",
      "/* syriac */\n",
      ".txtu.syc,.lex.syc {\n",
      "    font-family: \"Estrangelo Edessa\", sans-serif;\n",
      "    font-size: medium;\n",
      "    direction: rtl ! important;\n",
      "    unicode-bidi: embed;\n",
      "}\n",
      "/* neo aramaic */\n",
      ".txtu.cld,.lex.cld {\n",
      "    font-family: \"CharisSIL-R\", sans-serif;\n",
      "    font-size: medium;\n",
      "    direction: ltr ! important;\n",
      "    unicode-bidi: embed;\n",
      "}\n",
      "/* standard arabic */\n",
      ".txtu.ara,.lex.ara {\n",
      "    font-family: \"AmiriQuran\", sans-serif;\n",
      "    font-size: large;\n",
      "    direction: rtl ! important;\n",
      "    unicode-bidi: embed;\n",
      "}\n",
      "/* cuneiform */\n",
      ".txtu.akk,.lex.akk {\n",
      "    font-family: Santakku, sans-serif;\n",
      "    font-size: large;\n",
      "    direction: ltr ! important;\n",
      "    unicode-bidi: embed;\n",
      "}\n",
      "/* greek */\n",
      ".txtu.grc,.lex.grc a:link {\n",
      "    font-family: Gentium, sans-serif;\n",
      "    font-size: medium;\n",
      "    direction: ltr ! important;\n",
      "    unicode-bidi: embed;\n",
      "}\n",
      "a:hover {\n",
      "    text-decoration: underline | important;\n",
      "    color: #0000ff | important;\n",
      "}\n",
      ".ltr {\n",
      "    direction: ltr ! important;\n",
      "    unicode-bidi: embed;\n",
      "}\n",
      ".rtl {\n",
      "    direction: rtl ! important;\n",
      "    unicode-bidi: embed;\n",
      "}\n",
      ".ubd {\n",
      "    unicode-bidi: embed;\n",
      "}\n",
      ".col {\n",
      "   display: inline-block;\n",
      "}\n",
      ".features {\n",
      "    font-family: monospace;\n",
      "    font-size: medium;\n",
      "    font-weight: bold;\n",
      "    color: var(--features);\n",
      "    display: flex;\n",
      "    flex-flow: column nowrap;\n",
      "    justify-content: flex-start;\n",
      "    align-items: flex-start;\n",
      "    align-content: flex-start;\n",
      "    padding: 2px;\n",
      "    margin: 2px;\n",
      "    direction: ltr;\n",
      "    unicode-bidi: embed;\n",
      "    border: var(--meta-width) solid var(--meta-color);\n",
      "    border-radius: var(--meta-width);\n",
      "}\n",
      ".features div,.features span {\n",
      "    padding: 0;\n",
      "    margin: -2px 0;\n",
      "}\n",
      ".features .f {\n",
      "    font-family: sans-serif;\n",
      "    font-size: small;\n",
      "    font-weight: normal;\n",
      "    color: #5555bb;\n",
      "}\n",
      ".features .xft {\n",
      "  color: #000000;\n",
      "  background-color: #eeeeee;\n",
      "  font-size: medium;\n",
      "  margin: 2px 0px;\n",
      "}\n",
      ".features .xft .f {\n",
      "  color: #000000;\n",
      "  background-color: #eeeeee;\n",
      "  font-size: small;\n",
      "  font-weight: normal;\n",
      "}\n",
      ".tfsechead {\n",
      "    font-family: sans-serif;\n",
      "    font-size: small;\n",
      "    font-weight: bold;\n",
      "    color: var(--tfsechead);\n",
      "    unicode-bidi: embed;\n",
      "    text-align: start;\n",
      "}\n",
      ".structure {\n",
      "    font-family: sans-serif;\n",
      "    font-size: small;\n",
      "    font-weight: bold;\n",
      "    color: var(--structure);\n",
      "    unicode-bidi: embed;\n",
      "    text-align: start;\n",
      "}\n",
      ".comments {\n",
      "    display: flex;\n",
      "    justify-content: flex-start;\n",
      "    align-items: flex-start;\n",
      "    align-content: flex-start;\n",
      "    flex-flow: column nowrap;\n",
      "}\n",
      ".nd, a:link.nd {\n",
      "    font-family: sans-serif;\n",
      "    font-size: small;\n",
      "    color: var(--node);\n",
      "    vertical-align: super;\n",
      "    direction: ltr ! important;\n",
      "    unicode-bidi: embed;\n",
      "}\n",
      ".lex {\n",
      "  color: var(--lex-color);;\n",
      "}\n",
      ".children,.children.ltr {\n",
      "    display: flex;\n",
      "    border: 0;\n",
      "    background-color: #ffffff;\n",
      "    justify-content: flex-start;\n",
      "    align-items: flex-start;\n",
      "    align-content: flex-start;\n",
      "}\n",
      ".children.stretch {\n",
      "    align-items: stretch;\n",
      "}\n",
      ".children.hor {\n",
      "    flex-flow: row nowrap;\n",
      "}\n",
      ".children.hor.wrap {\n",
      "    flex-flow: row wrap;\n",
      "}\n",
      ".children.ver {\n",
      "    flex-flow: column nowrap;\n",
      "}\n",
      ".children.ver.wrap {\n",
      "    flex-flow: column wrap;\n",
      "}\n",
      ".contnr {\n",
      "    width: fit-content;\n",
      "    display: flex;\n",
      "    justify-content: flex-start;\n",
      "    align-items: flex-start;\n",
      "    align-content: flex-start;\n",
      "    flex-flow: column nowrap;\n",
      "    background: #ffffff none repeat scroll 0 0;\n",
      "    padding:  10px 2px 2px 2px;\n",
      "    margin: 16px 2px 2px 2px;\n",
      "    border-style: solid;\n",
      "    font-size: small;\n",
      "}\n",
      ".contnr.trm {\n",
      "    background-attachment: local;\n",
      "}\n",
      ".contnr.cnul {\n",
      "    padding:  0;\n",
      "    margin: 0;\n",
      "    border-style: solid;\n",
      "    font-size: xx-small;\n",
      "}\n",
      ".contnr.cnul,.lbl.cnul {\n",
      "    border-color: var(--border-color-nul);\n",
      "    border-width: var(--border-width-nul);\n",
      "    border-radius: var(--border-width-nul);\n",
      "}\n",
      ".contnr.c0,.lbl.c0 {\n",
      "    border-color: var(--border-color0);\n",
      "    border-width: var(--border-width0);\n",
      "    border-radius: var(--border-width0);\n",
      "}\n",
      ".contnr.c1,.lbl.c1 {\n",
      "    border-color: var(--border-color1);\n",
      "    border-width: var(--border-width1);\n",
      "    border-radius: var(--border-width1);\n",
      "}\n",
      ".contnr.c2,.lbl.c2 {\n",
      "    border-color: var(--border-color2);\n",
      "    border-width: var(--border-width2);\n",
      "    border-radius: var(--border-width2);\n",
      "}\n",
      ".contnr.c3,.lbl.c3 {\n",
      "    border-color: var(--border-color3);\n",
      "    border-width: var(--border-width3);\n",
      "    border-radius: var(--border-width3);\n",
      "}\n",
      ".contnr.c4,.lbl.c4 {\n",
      "    border-color: var(--border-color4);\n",
      "    border-width: var(--border-width4);\n",
      "    border-radius: var(--border-width4);\n",
      "}\n",
      "span.plain {\n",
      "    display: inline-block;\n",
      "    white-space: pre-wrap;\n",
      "}\n",
      ".plain {\n",
      "    background-color: #ffffff;\n",
      "}\n",
      ".plain.l,.contnr.l,.contnr.l>.lbl {\n",
      "    border-left-style: dotted\n",
      "}\n",
      ".plain.r,.contnr.r,.contnr.r>.lbl {\n",
      "    border-right-style: dotted\n",
      "}\n",
      ".plain.lno,.contnr.lno,.contnr.lno>.lbl {\n",
      "    border-left-style: none\n",
      "}\n",
      ".plain.rno,.contnr.rno,.contnr.rno>.lbl {\n",
      "    border-right-style: none\n",
      "}\n",
      ".plain.l {\n",
      "    padding-left: 4px;\n",
      "    margin-left: 2px;\n",
      "    border-width: var(--border-width-plain);\n",
      "}\n",
      ".plain.r {\n",
      "    padding-right: 4px;\n",
      "    margin-right: 2px;\n",
      "    border-width: var(--border-width-plain);\n",
      "}\n",
      ".lbl {\n",
      "    font-family: monospace;\n",
      "    margin-top: -24px;\n",
      "    margin-left: 20px;\n",
      "    background: #ffffff none repeat scroll 0 0;\n",
      "    padding: 0 6px;\n",
      "    border-style: solid;\n",
      "    display: block;\n",
      "    color: var(--label)\n",
      "}\n",
      ".lbl.trm {\n",
      "    background-attachment: local;\n",
      "    margin-top: 2px;\n",
      "    margin-left: 2px;\n",
      "    padding: 2px 2px;\n",
      "    border-style: none;\n",
      "}\n",
      ".lbl.cnul {\n",
      "    font-size: xx-small;\n",
      "}\n",
      ".lbl.c0 {\n",
      "    font-size: small;\n",
      "}\n",
      ".lbl.c1 {\n",
      "    font-size: small;\n",
      "}\n",
      ".lbl.c2 {\n",
      "    font-size: medium;\n",
      "}\n",
      ".lbl.c3 {\n",
      "    font-size: medium;\n",
      "}\n",
      ".lbl.c4 {\n",
      "    font-size: large;\n",
      "}\n",
      ".occs, a:link.occs {\n",
      "    font-size: small;\n",
      "}\n",
      "\n",
      "/* PROVENANCE */\n",
      "\n",
      "div.prov {\n",
      "\tmargin: 40px;\n",
      "\tpadding: 20px;\n",
      "\tborder: 2px solid var(--fog-rim);\n",
      "}\n",
      "div.pline {\n",
      "\tdisplay: flex;\n",
      "\tflex-flow: row nowrap;\n",
      "\tjustify-content: stretch;\n",
      "\talign-items: baseline;\n",
      "}\n",
      "div.p2line {\n",
      "\tmargin-left: 2em;\n",
      "\tdisplay: flex;\n",
      "\tflex-flow: row nowrap;\n",
      "\tjustify-content: stretch;\n",
      "\talign-items: baseline;\n",
      "}\n",
      "div.psline {\n",
      "\tdisplay: flex;\n",
      "\tflex-flow: row nowrap;\n",
      "\tjustify-content: stretch;\n",
      "\talign-items: baseline;\n",
      "\tbackground-color: var(--gold-mist-back);\n",
      "}\n",
      "div.pname {\n",
      "\tflex: 0 0 5rem;\n",
      "\tfont-weight: bold;\n",
      "}\n",
      "div.pval {\n",
      "    flex: 1 1 auto;\n",
      "}\n",
      "\n",
      ":root {\n",
      "\t--node:               hsla(120, 100%,  20%, 1.0  );\n",
      "\t--label:              hsla(  0, 100%,  20%, 1.0  );\n",
      "\t--tfsechead:          hsla(  0, 100%,  25%, 1.0  );\n",
      "\t--structure:          hsla(120, 100%,  25%, 1.0  );\n",
      "\t--features:           hsla(  0,   0%,  30%, 1.0  );\n",
      "  --text-color:         hsla( 60,  80%,  10%, 1.0  );\n",
      "  --lex-color:          hsla(220,  90%,  60%, 1.0  );\n",
      "  --meta-color:         hsla(  0,   0%,  90%, 0.7  );\n",
      "  --meta-width:         3px;\n",
      "  --border-color-nul:   hsla(  0,   0%,  90%, 0.5  );\n",
      "  --border-color0:      hsla(  0,   0%,  90%, 0.9  );\n",
      "  --border-color1:      hsla(  0,   0%,  80%, 0.9  );\n",
      "  --border-color2:      hsla(  0,   0%,  70%, 0.9  );\n",
      "  --border-color3:      hsla(  0,   0%,  80%, 0.8  );\n",
      "  --border-color4:      hsla(  0,   0%,  60%, 0.9  );\n",
      "  --border-width-nul:   2px;\n",
      "  --border-width0:      2px;\n",
      "  --border-width1:      3px;\n",
      "  --border-width2:      4px;\n",
      "  --border-width3:      6px;\n",
      "  --border-width4:      5px;\n",
      "  --border-width-plain: 2px;\n",
      "}\n",
      ".hl {\n",
      "  background-color: var(--hl-strong);\n",
      "}\n",
      "span.hl {\n",
      "\tbackground-color: var(--hl-strong);\n",
      "\tborder-width: 0;\n",
      "\tborder-radius: 2px;\n",
      "\tborder-style: solid;\n",
      "}\n",
      "div.contnr.hl,div.lbl.hl {\n",
      "  background-color: var(--hl-strong);\n",
      "}\n",
      "div.contnr.hl {\n",
      "  border-color: var(--hl-rim) ! important;\n",
      "\tborder-width: 4px ! important;\n",
      "}\n",
      "\n",
      "span.hlbx {\n",
      "\tborder-color: var(--hl-rim);\n",
      "\tborder-width: 4px ! important;\n",
      "\tborder-style: solid;\n",
      "\tborder-radius: 6px;\n",
      "  padding: 4px;\n",
      "  margin: 4px;\n",
      "}\n",
      "\n",
      "span.plain {\n",
      "  display: inline-block;\n",
      "  white-space: pre-wrap;\n",
      "}\n",
      "\n",
      ":root {\n",
      "\t--hl-strong:        hsla( 60, 100%,  70%, 0.9  );\n",
      "\t--hl-rim:           hsla( 55,  80%,  50%, 1.0  );\n",
      "}\n",
      "  </style>\n",
      " </head>\n",
      "</html>\n"
     ]
    }
   ],
   "source": [
    "pdh(A.getCss())"
   ]
  },
  {
   "cell_type": "code",
   "execution_count": null,
   "id": "a28269aa-981f-4e57-92b2-a3b2ce116b24",
   "metadata": {},
   "outputs": [],
   "source": []
  }
 ],
 "metadata": {
  "kernelspec": {
   "display_name": "Python 3 (ipykernel)",
   "language": "python",
   "name": "python3"
  },
  "language_info": {
   "codemirror_mode": {
    "name": "ipython",
    "version": 3
   },
   "file_extension": ".py",
   "mimetype": "text/x-python",
   "name": "python",
   "nbconvert_exporter": "python",
   "pygments_lexer": "ipython3",
   "version": "3.9.7"
  },
  "widgets": {
   "application/vnd.jupyter.widget-state+json": {
    "state": {
     "00cd9055bf4f4022828c4d3892d35da7": {
      "model_module": "@jupyter-widgets/controls",
      "model_module_version": "1.5.0",
      "model_name": "BoxModel",
      "state": {
       "children": [
        "IPY_MODEL_78bafaea094b4c98b83458cf79baf12f",
        "IPY_MODEL_b699896b66fe401cb2ed5c6feed3c6d6"
       ],
       "layout": "IPY_MODEL_e2a374b7b08a49a6afde3d3e4636c1a5"
      }
     },
     "01352a6575424b748c32d2de7e71ba83": {
      "model_module": "@jupyter-widgets/base",
      "model_module_version": "1.2.0",
      "model_name": "LayoutModel",
      "state": {
       "align_content": "flex-start",
       "align_items": "flex-start",
       "border": "2px solid gray",
       "flex_flow": "column",
       "justify_content": "flex-start"
      }
     },
     "023891be0dbe4c4bae472aab4cde95f7": {
      "model_module": "@jupyter-widgets/controls",
      "model_module_version": "1.5.0",
      "model_name": "BoxModel",
      "state": {
       "children": [
        "IPY_MODEL_0450c09618374f799df53c5a4e734bf1",
        "IPY_MODEL_6f9e08d63bb14e3aa482c7403e3457ac",
        "IPY_MODEL_a890fecf9d624894a1cdb6f1bd9c66eb"
       ],
       "layout": "IPY_MODEL_7c07e6235c054b04b461f96d3eac60c3"
      }
     },
     "024a9c7f18f94654b5db13d0d1aea4eb": {
      "model_module": "@jupyter-widgets/base",
      "model_module_version": "1.2.0",
      "model_name": "LayoutModel",
      "state": {
       "align_content": "flex-start",
       "align_items": "flex-start",
       "border": "2px solid gray",
       "flex_flow": "column",
       "justify_content": "flex-start",
       "width": "20em"
      }
     },
     "025826573da74d6ba46f7d39fa1c96c6": {
      "model_module": "@jupyter-widgets/controls",
      "model_module_version": "1.5.0",
      "model_name": "TextModel",
      "state": {
       "description": "pdp=",
       "layout": "IPY_MODEL_5a571b7d267e4046bed4a3fe8d41bcce",
       "placeholder": "pdp",
       "style": "IPY_MODEL_54f46b5dcfee4a1592d684de2b2f56ec",
       "value": "prep"
      }
     },
     "02cf70eff35f4c278ac9007946341148": {
      "model_module": "@jupyter-widgets/controls",
      "model_module_version": "1.5.0",
      "model_name": "TextModel",
      "state": {
       "layout": "IPY_MODEL_c357fc8dd34d492b8074c48f5a2d1618",
       "placeholder": "gloss",
       "style": "IPY_MODEL_1bae569ccd8f4b109d72cc58975c2584",
       "value": "in"
      }
     },
     "03cd6586787346cbb242ce8eaa0672a8": {
      "model_module": "@jupyter-widgets/controls",
      "model_module_version": "1.5.0",
      "model_name": "DescriptionStyleModel",
      "state": {
       "description_width": ""
      }
     },
     "0409221e5f664a2ba811937ebf4d286a": {
      "model_module": "@jupyter-widgets/controls",
      "model_module_version": "1.5.0",
      "model_name": "TextModel",
      "state": {
       "layout": "IPY_MODEL_c040c937b6084ea18c5ef40ac3f4e422",
       "placeholder": "pdp",
       "style": "IPY_MODEL_219c0e75124b4ec2b3c71d0bdbaaad3d",
       "value": "prep"
      }
     },
     "041835a1273144c3929ac6e4fcb85581": {
      "model_module": "@jupyter-widgets/controls",
      "model_module_version": "1.5.0",
      "model_name": "BoxModel",
      "state": {
       "children": [
        "IPY_MODEL_352a9446bd454ea4aa2e061c7d87ac3a",
        "IPY_MODEL_6411c481786a44c0bdfe619c06130620",
        "IPY_MODEL_3cd3aae9819b4391b6ad43a04948e53c"
       ],
       "layout": "IPY_MODEL_416588b67cff4d829e3c0dd02908f7be"
      }
     },
     "04262a7c97f34cb0a8219663a8af7156": {
      "model_module": "@jupyter-widgets/controls",
      "model_module_version": "1.5.0",
      "model_name": "TextModel",
      "state": {
       "layout": "IPY_MODEL_4518a09fdca24fbd86d51a7c5dcf0d4f",
       "placeholder": "gloss",
       "style": "IPY_MODEL_e8374ac76a4641fdab1d9c60ff6e6446",
       "value": "in"
      }
     },
     "042730659bab4016b4c61ace1a14f919": {
      "model_module": "@jupyter-widgets/controls",
      "model_module_version": "1.5.0",
      "model_name": "TextModel",
      "state": {
       "layout": "IPY_MODEL_fd0d88aebfb14d669bd50db2088b0a8d",
       "placeholder": "gloss",
       "style": "IPY_MODEL_13263d1161034b41b072272953e63ce0",
       "value": "in"
      }
     },
     "0450c09618374f799df53c5a4e734bf1": {
      "model_module": "@jupyter-widgets/controls",
      "model_module_version": "1.5.0",
      "model_name": "HTMLModel",
      "state": {
       "layout": "IPY_MODEL_444f47fe753e410b9f4aae383bbccdff",
       "style": "IPY_MODEL_5c8a53ffced4434f9f14830485a17e75",
       "value": "<a\n  class=\"txtu hbo\"\n  href=\"https://shebanq.ancient-data.org/hebrew/word?version=2021&amp;id=1B\"\n  target=\"_blank\"\n  title=\"Show this on SHEBANQ\">\n        <span class=\"txtp\">\n         bᵊ\n        </span>\n       </a>"
      }
     },
     "05098c488fd24b43b145fb991eda3072": {
      "model_module": "@jupyter-widgets/base",
      "model_module_version": "1.2.0",
      "model_name": "LayoutModel",
      "state": {
       "align_content": "flex-start"
      }
     },
     "050aee8bc2c2473294aa146ac5c55a1b": {
      "model_module": "@jupyter-widgets/base",
      "model_module_version": "1.2.0",
      "model_name": "LayoutModel",
      "state": {
       "flex": "auto 0 0"
      }
     },
     "058f2f13a8b0464689e5f2437169be21": {
      "model_module": "@jupyter-widgets/controls",
      "model_module_version": "1.5.0",
      "model_name": "HTMLModel",
      "state": {
       "layout": "IPY_MODEL_e869d3e4ae5d44379fee984c5b1278ed",
       "style": "IPY_MODEL_cf69677879674c0fa37d73040f64e93c",
       "value": "<a\n  class=\"txtu hbo\"\n  href=\"https://shebanq.ancient-data.org/hebrew/word?version=2021&amp;id=1B\"\n  target=\"_blank\"\n  title=\"Show this on SHEBANQ\">\n        <span class=\"txtp\">\n         bᵊ\n        </span>\n       </a>"
      }
     },
     "059ad1b8c5404af28a5510023b3dd041": {
      "model_module": "@jupyter-widgets/controls",
      "model_module_version": "1.5.0",
      "model_name": "DescriptionStyleModel",
      "state": {
       "description_width": ""
      }
     },
     "06844d0343a94fff933d14471cd6ab5f": {
      "model_module": "@jupyter-widgets/controls",
      "model_module_version": "1.5.0",
      "model_name": "TextModel",
      "state": {
       "layout": "IPY_MODEL_259c164b761a499ab43c1ad6003a2554",
       "placeholder": "gloss",
       "style": "IPY_MODEL_2c6ca2d078bd4da49c079513f8a6db26",
       "value": "in"
      }
     },
     "068ac453f66b4cb6ad9d83352fc836f7": {
      "model_module": "@jupyter-widgets/controls",
      "model_module_version": "1.5.0",
      "model_name": "TextModel",
      "state": {
       "layout": "IPY_MODEL_a4505a283a4043cc805496cdedd0c656",
       "placeholder": "pdp",
       "style": "IPY_MODEL_08b5893e1f2a48e79f23cfb3c0a34495",
       "value": "prep"
      }
     },
     "079b9e856b0c457b9d49aaeddbdc223a": {
      "model_module": "@jupyter-widgets/controls",
      "model_module_version": "1.5.0",
      "model_name": "DescriptionStyleModel",
      "state": {
       "description_width": ""
      }
     },
     "08318aab3c4b407584139c4073975883": {
      "model_module": "@jupyter-widgets/controls",
      "model_module_version": "1.5.0",
      "model_name": "TextModel",
      "state": {
       "layout": "IPY_MODEL_762dd5ac2e9646729c85f9e71f31335c",
       "placeholder": "pdp",
       "style": "IPY_MODEL_e74becf6c6934e7eb427bfe220ccc12f",
       "value": "prep"
      }
     },
     "084d81fc81e547f0a009a6d5c8150918": {
      "model_module": "@jupyter-widgets/controls",
      "model_module_version": "1.5.0",
      "model_name": "DescriptionStyleModel",
      "state": {
       "description_width": ""
      }
     },
     "08b5893e1f2a48e79f23cfb3c0a34495": {
      "model_module": "@jupyter-widgets/controls",
      "model_module_version": "1.5.0",
      "model_name": "DescriptionStyleModel",
      "state": {
       "description_width": ""
      }
     },
     "08f490fa2f434869bdd9eb4d2a354360": {
      "model_module": "@jupyter-widgets/controls",
      "model_module_version": "1.5.0",
      "model_name": "TextModel",
      "state": {
       "layout": "IPY_MODEL_4518a09fdca24fbd86d51a7c5dcf0d4f",
       "placeholder": "pdp",
       "style": "IPY_MODEL_eea07b773faf453fbfd9da9b9db64bd0",
       "value": "prep"
      }
     },
     "090339d7718d42e9a6b491305361a34d": {
      "model_module": "@jupyter-widgets/controls",
      "model_module_version": "1.5.0",
      "model_name": "DescriptionStyleModel",
      "state": {
       "description_width": ""
      }
     },
     "0983db13ce9940a2a9798778f3f8c0c4": {
      "model_module": "@jupyter-widgets/controls",
      "model_module_version": "1.5.0",
      "model_name": "HTMLModel",
      "state": {
       "layout": "IPY_MODEL_b2c24a71d6014e7a943856c8bff54f17",
       "style": "IPY_MODEL_388e5a0c0679496ba31581d3356b85f6",
       "value": "<a\n  class=\"txtu hbo\"\n  href=\"https://shebanq.ancient-data.org/hebrew/word?version=2021&amp;id=1RACJTn\"\n  target=\"_blank\"\n  title=\"Show this on SHEBANQ\">\n        <span class=\"txtp\">\n         rēšˌîṯ\n        </span>\n       </a>"
      }
     },
     "09e370631ad745f1aaf48630f5e5512d": {
      "model_module": "@jupyter-widgets/base",
      "model_module_version": "1.2.0",
      "model_name": "LayoutModel",
      "state": {}
     },
     "09e4b8902e6a43f688ed44f7637e507c": {
      "model_module": "@jupyter-widgets/base",
      "model_module_version": "1.2.0",
      "model_name": "LayoutModel",
      "state": {
       "border": "2px solid gray",
       "flex_flow": "column",
       "width": "20em"
      }
     },
     "0a9f8c37833d455ba693f914a624e995": {
      "model_module": "@jupyter-widgets/controls",
      "model_module_version": "1.5.0",
      "model_name": "BoxModel",
      "state": {
       "children": [
        "IPY_MODEL_d800f12d37134a25bedb60b9e15853aa",
        "IPY_MODEL_aaff52315cc24b5bbde5cb702d75b8d2"
       ],
       "layout": "IPY_MODEL_6496fef5d4e84a5b95c87fb4ee7dd38d"
      }
     },
     "0aa0eea7307e429783d7d035523161ec": {
      "model_module": "@jupyter-widgets/controls",
      "model_module_version": "1.5.0",
      "model_name": "DescriptionStyleModel",
      "state": {
       "description_width": ""
      }
     },
     "0aabce3b8be54273a801dc3630c90d41": {
      "model_module": "@jupyter-widgets/base",
      "model_module_version": "1.2.0",
      "model_name": "LayoutModel",
      "state": {}
     },
     "0b498ee6b2a24653a0796ae79bfcc7ba": {
      "model_module": "@jupyter-widgets/controls",
      "model_module_version": "1.5.0",
      "model_name": "BoxModel",
      "state": {
       "children": [
        "IPY_MODEL_bcf809a41bfe4a82be0b80b1af8d8caf",
        "IPY_MODEL_26b38faf9bb74403935021e78c6441ba",
        "IPY_MODEL_a6d04fbe6a0c492b842145f4f339c202"
       ],
       "layout": "IPY_MODEL_7c07e6235c054b04b461f96d3eac60c3"
      }
     },
     "0bbb000ae27c46e5a193a6dc2aa45361": {
      "model_module": "@jupyter-widgets/controls",
      "model_module_version": "1.5.0",
      "model_name": "DescriptionStyleModel",
      "state": {
       "description_width": ""
      }
     },
     "0bc2cf7092214cef8238c0c5953471e8": {
      "model_module": "@jupyter-widgets/base",
      "model_module_version": "1.2.0",
      "model_name": "LayoutModel",
      "state": {
       "align_content": "flex-start",
       "align_items": "flex-start",
       "border": "2px solid gray",
       "flex_flow": "column",
       "justify_content": "flex-start",
       "width": "10em"
      }
     },
     "0c0fff40f6264ba09f45873bf138dd70": {
      "model_module": "@jupyter-widgets/base",
      "model_module_version": "1.2.0",
      "model_name": "LayoutModel",
      "state": {
       "flex": "auto 0 0",
       "height": "2em",
       "width": "7em"
      }
     },
     "0c8491955fd7413bb7149b6e7eb95148": {
      "model_module": "@jupyter-widgets/controls",
      "model_module_version": "1.5.0",
      "model_name": "HTMLModel",
      "state": {
       "layout": "IPY_MODEL_9a3b7e9502514c21ad26d603978058db",
       "style": "IPY_MODEL_76d8c5682f4e4b868ffc810478fc3709",
       "value": "<a\n  class=\"txtu hbo\"\n  href=\"https://shebanq.ancient-data.org/hebrew/word?version=2021&amp;id=1B\"\n  target=\"_blank\"\n  title=\"Show this on SHEBANQ\">\n        <span class=\"txtp\">\n         bᵊ\n        </span>\n       </a>"
      }
     },
     "0c96d5fdcb9c4db5af83f5eb4ca6e69b": {
      "model_module": "@jupyter-widgets/controls",
      "model_module_version": "1.5.0",
      "model_name": "DescriptionStyleModel",
      "state": {
       "description_width": ""
      }
     },
     "0cea5105e0c5436ba0020660900bbb6d": {
      "model_module": "@jupyter-widgets/controls",
      "model_module_version": "1.5.0",
      "model_name": "BoxModel",
      "state": {
       "children": [
        "IPY_MODEL_fad359c7944847a8a634bb7c4efd3b3f",
        "IPY_MODEL_f83f324120804c01b3f8f61763a20bea"
       ],
       "layout": "IPY_MODEL_1342b7d999cd4cc4a385bc93795a5259"
      }
     },
     "0ced0f8992514610914a75cd98ae9ef6": {
      "model_module": "@jupyter-widgets/controls",
      "model_module_version": "1.5.0",
      "model_name": "DescriptionStyleModel",
      "state": {
       "description_width": ""
      }
     },
     "0d26d95c94f44e5ca974c881889dc27d": {
      "model_module": "@jupyter-widgets/controls",
      "model_module_version": "1.5.0",
      "model_name": "HTMLModel",
      "state": {
       "layout": "IPY_MODEL_79a83239ad954308b23a7f6ebd6ed381",
       "style": "IPY_MODEL_7a8df1d8a1094f7abc4fd1f675ce9301",
       "value": "<a\n  class=\"txtu hbo\"\n  href=\"https://shebanq.ancient-data.org/hebrew/word?version=2021&amp;id=1B\"\n  target=\"_blank\"\n  title=\"Show this on SHEBANQ\">\n        <span class=\"txtp\">\n         bᵊ\n        </span>\n       </a>"
      }
     },
     "0d4606e188b64b33bd95a4a85a910e9c": {
      "model_module": "@jupyter-widgets/controls",
      "model_module_version": "1.5.0",
      "model_name": "TextModel",
      "state": {
       "layout": "IPY_MODEL_92ba247ff33945c7bdf85cf1d63b7d78",
       "placeholder": "gloss",
       "style": "IPY_MODEL_b5ffc72843924a4eb3dd78432dc461aa",
       "value": "in"
      }
     },
     "0d67feb6d3234d3496d345117523f2c6": {
      "model_module": "@jupyter-widgets/controls",
      "model_module_version": "1.5.0",
      "model_name": "DescriptionStyleModel",
      "state": {
       "description_width": ""
      }
     },
     "0d89ef7cea3848d1b05497fa0453b8de": {
      "model_module": "@jupyter-widgets/controls",
      "model_module_version": "1.5.0",
      "model_name": "DescriptionStyleModel",
      "state": {
       "description_width": ""
      }
     },
     "0df7ba1410184b9b8836eaaf0b31860e": {
      "model_module": "@jupyter-widgets/base",
      "model_module_version": "1.2.0",
      "model_name": "LayoutModel",
      "state": {
       "flex": "auto 0 0",
       "height": "3em",
       "width": "5em"
      }
     },
     "0e4ef6933bf940faa5fe9580b98b8457": {
      "model_module": "@jupyter-widgets/controls",
      "model_module_version": "1.5.0",
      "model_name": "HTMLModel",
      "state": {
       "layout": "IPY_MODEL_53bdb4d206c24663aebba6f8c64a8978",
       "style": "IPY_MODEL_993efd6cefe64ee5963f0cb20c3e0626",
       "value": "<a\n  class=\"txtu hbo\"\n  href=\"https://shebanq.ancient-data.org/hebrew/word?version=2021&amp;id=1RACJTn\"\n  target=\"_blank\"\n  title=\"Show this on SHEBANQ\">\n        <span class=\"txtp\">\n         rēšˌîṯ\n        </span>\n       </a>"
      }
     },
     "0e9bcfdda4ed4685a25467aa57800f23": {
      "model_module": "@jupyter-widgets/controls",
      "model_module_version": "1.5.0",
      "model_name": "BoxModel",
      "state": {
       "children": [
        "IPY_MODEL_ab65b50c40bf49ef9e6f4181e4d95b47",
        "IPY_MODEL_81954c0838f74841bcee4d4564cbb4c5"
       ],
       "layout": "IPY_MODEL_9820d51bb2f5464eb936e1be320de86f"
      }
     },
     "0f1432daae684fba969ca0c1dd0a6c93": {
      "model_module": "@jupyter-widgets/controls",
      "model_module_version": "1.5.0",
      "model_name": "BoxModel",
      "state": {
       "children": [
        "IPY_MODEL_2e847f9e81bf4c4f8ba450e0e223a594",
        "IPY_MODEL_cbaa23e731dc42df9396d528c8a684d3",
        "IPY_MODEL_f2778df63b52443f8fb99ae01d6495a1"
       ],
       "layout": "IPY_MODEL_416588b67cff4d829e3c0dd02908f7be"
      }
     },
     "0f2ecebb34bd41cabfb28ffcf96cd913": {
      "model_module": "@jupyter-widgets/controls",
      "model_module_version": "1.5.0",
      "model_name": "DescriptionStyleModel",
      "state": {
       "description_width": ""
      }
     },
     "0f38d74213b641c4b9c0f897244108aa": {
      "model_module": "@jupyter-widgets/controls",
      "model_module_version": "1.5.0",
      "model_name": "BoxModel",
      "state": {
       "children": [
        "IPY_MODEL_111e2369c93948579ba7ea99d157b697",
        "IPY_MODEL_30c2dc95ab25487283adf73be63c3f37"
       ],
       "layout": "IPY_MODEL_1b6a78cb20c74bae8a865dffa66ab869"
      }
     },
     "0f59d1f6bac54674aaaebfad130432d5": {
      "model_module": "@jupyter-widgets/controls",
      "model_module_version": "1.5.0",
      "model_name": "TextModel",
      "state": {
       "layout": "IPY_MODEL_f51d4dd34bd34e959013ccd7dff10487",
       "placeholder": "gloss",
       "style": "IPY_MODEL_a1fb09761d934875a6b861aef79241ab",
       "value": "in"
      }
     },
     "0fb87886c02e4952bd77ec8f4ccc5da8": {
      "model_module": "@jupyter-widgets/controls",
      "model_module_version": "1.5.0",
      "model_name": "DescriptionStyleModel",
      "state": {
       "description_width": ""
      }
     },
     "0fdbc9cccf6d43b99b22eab45d17ec39": {
      "model_module": "@jupyter-widgets/base",
      "model_module_version": "1.2.0",
      "model_name": "LayoutModel",
      "state": {}
     },
     "10b9c3cd0607449da4f0e0e702716c21": {
      "model_module": "@jupyter-widgets/controls",
      "model_module_version": "1.5.0",
      "model_name": "DescriptionStyleModel",
      "state": {
       "description_width": ""
      }
     },
     "1106e4e5d1b84693985453d04d7013a5": {
      "model_module": "@jupyter-widgets/controls",
      "model_module_version": "1.5.0",
      "model_name": "HTMLModel",
      "state": {
       "layout": "IPY_MODEL_a67df818936b462c8004c623326ef4a3",
       "style": "IPY_MODEL_4ddbb12db5eb4b85965a8500fe4a068c",
       "value": "<a\n  class=\"txtu hbo\"\n  href=\"https://shebanq.ancient-data.org/hebrew/word?version=2021&amp;id=1B\"\n  target=\"_blank\"\n  title=\"Show this on SHEBANQ\">\n        <span class=\"txtp\">\n         bᵊ\n        </span>\n       </a>"
      }
     },
     "111e2369c93948579ba7ea99d157b697": {
      "model_module": "@jupyter-widgets/controls",
      "model_module_version": "1.5.0",
      "model_name": "HTMLModel",
      "state": {
       "layout": "IPY_MODEL_2e9a420799674b6eb1bd1a027087cffc",
       "style": "IPY_MODEL_10b9c3cd0607449da4f0e0e702716c21",
       "value": "<a\n  class=\"txtu hbo\"\n  href=\"https://shebanq.ancient-data.org/hebrew/word?version=2021&amp;id=1B\"\n  target=\"_blank\"\n  title=\"Show this on SHEBANQ\">\n        <span class=\"txtp\">\n         bᵊ\n        </span>\n       </a>"
      }
     },
     "1126bebf45274da09372d8a3890aea3b": {
      "model_module": "@jupyter-widgets/controls",
      "model_module_version": "1.5.0",
      "model_name": "TextModel",
      "state": {
       "layout": "IPY_MODEL_0df7ba1410184b9b8836eaaf0b31860e",
       "placeholder": "gloss",
       "style": "IPY_MODEL_d650fee30cad4a3bb0b0b9550c318e30",
       "value": "beginning"
      }
     },
     "1142c7cc187a48d5b67b4e054dee0324": {
      "model_module": "@jupyter-widgets/base",
      "model_module_version": "1.2.0",
      "model_name": "LayoutModel",
      "state": {
       "flex": "auto 2 1",
       "height": "4em"
      }
     },
     "117b59d4c19a43dfb41f95adce365f42": {
      "model_module": "@jupyter-widgets/controls",
      "model_module_version": "1.5.0",
      "model_name": "HTMLModel",
      "state": {
       "layout": "IPY_MODEL_caee1b1166eb4617a3349faf5e788fac",
       "style": "IPY_MODEL_9bf65982ca6f4730a275a15a26ccdecb",
       "value": "<a\n  class=\"txtu hbo\"\n  href=\"https://shebanq.ancient-data.org/hebrew/word?version=2021&amp;id=1B\"\n  target=\"_blank\"\n  title=\"Show this on SHEBANQ\">\n        <span class=\"txtp\">\n         bᵊ\n        </span>\n       </a>"
      }
     },
     "117d3e75bec64220b63a6188216bb322": {
      "model_module": "@jupyter-widgets/base",
      "model_module_version": "1.2.0",
      "model_name": "LayoutModel",
      "state": {
       "align_content": "flex-start",
       "height": "200%"
      }
     },
     "118b1e62471a417dab1b0544a0480ce8": {
      "model_module": "@jupyter-widgets/controls",
      "model_module_version": "1.5.0",
      "model_name": "DescriptionStyleModel",
      "state": {
       "description_width": ""
      }
     },
     "12961a9150f44cf5b12e198f60410296": {
      "model_module": "@jupyter-widgets/controls",
      "model_module_version": "1.5.0",
      "model_name": "BoxModel",
      "state": {
       "children": [
        "IPY_MODEL_73db93e12f234bb9902cc925213e61a8",
        "IPY_MODEL_31f75772ce804cddbb46b8f904cd4877"
       ],
       "layout": "IPY_MODEL_3253a5a590284d83860f994972d1cd48"
      }
     },
     "12fc329ce05b487d86de582d3403a9d1": {
      "model_module": "@jupyter-widgets/controls",
      "model_module_version": "1.5.0",
      "model_name": "DescriptionStyleModel",
      "state": {
       "description_width": ""
      }
     },
     "12fc681761504381ad06b29c62bf0b53": {
      "model_module": "@jupyter-widgets/controls",
      "model_module_version": "1.5.0",
      "model_name": "TextModel",
      "state": {
       "layout": "IPY_MODEL_abdd438089a84b65a793cf22d9d1b081",
       "placeholder": "gloss",
       "style": "IPY_MODEL_20c438687d4f42aca603b47648c96031",
       "value": "beginning"
      }
     },
     "13263d1161034b41b072272953e63ce0": {
      "model_module": "@jupyter-widgets/controls",
      "model_module_version": "1.5.0",
      "model_name": "DescriptionStyleModel",
      "state": {
       "description_width": ""
      }
     },
     "132a3741ca6f474eb95b3eed7a34cb21": {
      "model_module": "@jupyter-widgets/controls",
      "model_module_version": "1.5.0",
      "model_name": "DescriptionStyleModel",
      "state": {
       "description_width": ""
      }
     },
     "1342b7d999cd4cc4a385bc93795a5259": {
      "model_module": "@jupyter-widgets/base",
      "model_module_version": "1.2.0",
      "model_name": "LayoutModel",
      "state": {
       "align_content": "flex-start",
       "height": "300%"
      }
     },
     "134c6a76085c4a4e904364720fe9325a": {
      "model_module": "@jupyter-widgets/controls",
      "model_module_version": "1.5.0",
      "model_name": "TextModel",
      "state": {
       "layout": "IPY_MODEL_48caadac771e4e108d73af40ac704556",
       "placeholder": "gloss",
       "style": "IPY_MODEL_1825a3ab16f64477aae48e7d59561f1e",
       "value": "in"
      }
     },
     "13f13936a013415ab8eef128e6a3584e": {
      "model_module": "@jupyter-widgets/controls",
      "model_module_version": "1.5.0",
      "model_name": "DescriptionStyleModel",
      "state": {
       "description_width": ""
      }
     },
     "140ed058823f40d0860bf6f5e953fa23": {
      "model_module": "@jupyter-widgets/controls",
      "model_module_version": "1.5.0",
      "model_name": "DescriptionStyleModel",
      "state": {
       "description_width": ""
      }
     },
     "151304d6f6a64710b2e87205eea49d0c": {
      "model_module": "@jupyter-widgets/controls",
      "model_module_version": "1.5.0",
      "model_name": "BoxModel",
      "state": {
       "children": [
        "IPY_MODEL_0e4ef6933bf940faa5fe9580b98b8457",
        "IPY_MODEL_666b058aa39f41cba40bcb6d76af1620"
       ],
       "layout": "IPY_MODEL_0bc2cf7092214cef8238c0c5953471e8"
      }
     },
     "168cb5bfdd2d47ec83c7625907508299": {
      "model_module": "@jupyter-widgets/controls",
      "model_module_version": "1.5.0",
      "model_name": "TextModel",
      "state": {
       "layout": "IPY_MODEL_8300e6e4b00b49a49bce4552e7a27714",
       "placeholder": "gloss",
       "style": "IPY_MODEL_59b80bc482f94b60b10f8d0d0ae057f6",
       "value": "in"
      }
     },
     "16d34dc5fe354ba58d392a41eceb22da": {
      "model_module": "@jupyter-widgets/base",
      "model_module_version": "1.2.0",
      "model_name": "LayoutModel",
      "state": {
       "align_content": "flex-start",
       "min_height": "100%"
      }
     },
     "16e497ddea31442691db4ce6a6624031": {
      "model_module": "@jupyter-widgets/controls",
      "model_module_version": "1.5.0",
      "model_name": "DescriptionStyleModel",
      "state": {
       "description_width": ""
      }
     },
     "17e61f40ab96487d91e7081c790b2f5f": {
      "model_module": "@jupyter-widgets/controls",
      "model_module_version": "1.5.0",
      "model_name": "TextModel",
      "state": {
       "layout": "IPY_MODEL_8ee2cc813bfa4d6e94f006feed8179a7",
       "placeholder": "gloss",
       "style": "IPY_MODEL_3651a517b44c48d290ff8eecd07bed2d",
       "value": "in"
      }
     },
     "1825a3ab16f64477aae48e7d59561f1e": {
      "model_module": "@jupyter-widgets/controls",
      "model_module_version": "1.5.0",
      "model_name": "DescriptionStyleModel",
      "state": {
       "description_width": ""
      }
     },
     "1828a41e919f4a508544c45f6dad1caa": {
      "model_module": "@jupyter-widgets/controls",
      "model_module_version": "1.5.0",
      "model_name": "HTMLModel",
      "state": {
       "layout": "IPY_MODEL_9661627c69c247b98f9fd10c257bb427",
       "style": "IPY_MODEL_ef052c4a8fe4422f99fe2d9f4336894e",
       "value": "<a\n  class=\"txtu hbo\"\n  href=\"https://shebanq.ancient-data.org/hebrew/word?version=2021&amp;id=1RACJTn\"\n  target=\"_blank\"\n  title=\"Show this on SHEBANQ\">\n        <span class=\"txtp\">\n         rēšˌîṯ\n        </span>\n       </a>"
      }
     },
     "190d11a08fdb4e509b20faea42ea1938": {
      "model_module": "@jupyter-widgets/controls",
      "model_module_version": "1.5.0",
      "model_name": "BoxModel",
      "state": {
       "children": [
        "IPY_MODEL_e0b4a893d9614db9bca2f8910cb21239",
        "IPY_MODEL_d9f712f3a49b4c92b5dce5eb056cf87e",
        "IPY_MODEL_5627726b4f8844cb918d9bdfc19a4a69"
       ],
       "layout": "IPY_MODEL_40320c39cf7c42579ed753e42d7ea79d"
      }
     },
     "1998825ac1df48fa95ba85e2d69b3715": {
      "model_module": "@jupyter-widgets/controls",
      "model_module_version": "1.5.0",
      "model_name": "BoxModel",
      "state": {
       "children": [
        "IPY_MODEL_db378b01be584670ae75d14adb5b73b2",
        "IPY_MODEL_168cb5bfdd2d47ec83c7625907508299"
       ],
       "layout": "IPY_MODEL_e50e6c22f3a2477f9259b1f47eb6d121"
      }
     },
     "19e9c3d026fe43599a27fbac086c4429": {
      "model_module": "@jupyter-widgets/base",
      "model_module_version": "1.2.0",
      "model_name": "LayoutModel",
      "state": {}
     },
     "1a8f1e48af3c485380b01eb863179026": {
      "model_module": "@jupyter-widgets/base",
      "model_module_version": "1.2.0",
      "model_name": "LayoutModel",
      "state": {
       "flex": "auto 1 1",
       "height": "4em"
      }
     },
     "1b562e490c0d4750a9bfa441d625d5ed": {
      "model_module": "@jupyter-widgets/controls",
      "model_module_version": "1.5.0",
      "model_name": "DescriptionStyleModel",
      "state": {
       "description_width": ""
      }
     },
     "1b6a78cb20c74bae8a865dffa66ab869": {
      "model_module": "@jupyter-widgets/base",
      "model_module_version": "1.2.0",
      "model_name": "LayoutModel",
      "state": {
       "align_content": "flex-start",
       "align_items": "flex-start",
       "border": "2px solid gray",
       "flex_flow": "column",
       "justify_content": "flex-start"
      }
     },
     "1bae569ccd8f4b109d72cc58975c2584": {
      "model_module": "@jupyter-widgets/controls",
      "model_module_version": "1.5.0",
      "model_name": "DescriptionStyleModel",
      "state": {
       "description_width": ""
      }
     },
     "1c2109a6eeff49248790ce3853173678": {
      "model_module": "@jupyter-widgets/controls",
      "model_module_version": "1.5.0",
      "model_name": "BoxModel",
      "state": {
       "children": [
        "IPY_MODEL_20810e8c7d854cb0a74e3b26c99e4bbe",
        "IPY_MODEL_aa7fa565f0834e82b388e85e08f631ae"
       ],
       "layout": "IPY_MODEL_01352a6575424b748c32d2de7e71ba83"
      }
     },
     "1c2de2708aba41cda22c8dbd4d7ec509": {
      "model_module": "@jupyter-widgets/controls",
      "model_module_version": "1.5.0",
      "model_name": "DescriptionStyleModel",
      "state": {
       "description_width": ""
      }
     },
     "1c9be211bed446ddbcce5c38f505cfe7": {
      "model_module": "@jupyter-widgets/base",
      "model_module_version": "1.2.0",
      "model_name": "LayoutModel",
      "state": {
       "flex": "auto 0 0",
       "height": "3em",
       "width": "25em"
      }
     },
     "1d1af6163fad4c1fbefa54d47933b4fe": {
      "model_module": "@jupyter-widgets/controls",
      "model_module_version": "1.5.0",
      "model_name": "DescriptionStyleModel",
      "state": {
       "description_width": ""
      }
     },
     "1d2b615d9bac449e88a4a3192250df9e": {
      "model_module": "@jupyter-widgets/controls",
      "model_module_version": "1.5.0",
      "model_name": "DescriptionStyleModel",
      "state": {
       "description_width": ""
      }
     },
     "1e0a98c7be1d45338ab44ecb70f14f78": {
      "model_module": "@jupyter-widgets/base",
      "model_module_version": "1.2.0",
      "model_name": "LayoutModel",
      "state": {}
     },
     "1e7622a2f5a2456b8504bd11db17328a": {
      "model_module": "@jupyter-widgets/base",
      "model_module_version": "1.2.0",
      "model_name": "LayoutModel",
      "state": {
       "border": "2px solid gray",
       "flex_flow": "column",
       "width": "20em"
      }
     },
     "1ef14f24d90c4b6cbf6d0f95adfa0389": {
      "model_module": "@jupyter-widgets/base",
      "model_module_version": "1.2.0",
      "model_name": "LayoutModel",
      "state": {
       "border": "2px solid gray",
       "flex": "auto 1 1",
       "flex_flow": "column",
       "width": "15em"
      }
     },
     "1ef218df5c064e5793bf9b9167f169e1": {
      "model_module": "@jupyter-widgets/base",
      "model_module_version": "1.2.0",
      "model_name": "LayoutModel",
      "state": {
       "flex": "auto 0 0",
       "height": "3em",
       "width": "18m"
      }
     },
     "1f62ca515b454fe9b55d7aa86522f7a7": {
      "model_module": "@jupyter-widgets/controls",
      "model_module_version": "1.5.0",
      "model_name": "TextModel",
      "state": {
       "layout": "IPY_MODEL_f51d4dd34bd34e959013ccd7dff10487",
       "placeholder": "gloss",
       "style": "IPY_MODEL_433435df758b4fb4921547a9ccb25b5f",
       "value": "beginning"
      }
     },
     "1f759194b50644e392ea8996159704aa": {
      "model_module": "@jupyter-widgets/controls",
      "model_module_version": "1.5.0",
      "model_name": "TextModel",
      "state": {
       "layout": "IPY_MODEL_2e9a420799674b6eb1bd1a027087cffc",
       "placeholder": "gloss",
       "style": "IPY_MODEL_e663c32ec51d431784d890dd5777401f",
       "value": "beginning"
      }
     },
     "203a210f7f3c4624946099dd3a0b8dde": {
      "model_module": "@jupyter-widgets/controls",
      "model_module_version": "1.5.0",
      "model_name": "HTMLModel",
      "state": {
       "layout": "IPY_MODEL_9a3b7e9502514c21ad26d603978058db",
       "style": "IPY_MODEL_605d42f82a214a5d94fadebc54b30cd0",
       "value": "<a\n  class=\"txtu hbo\"\n  href=\"https://shebanq.ancient-data.org/hebrew/word?version=2021&amp;id=1RACJTn\"\n  target=\"_blank\"\n  title=\"Show this on SHEBANQ\">\n        <span class=\"txtp\">\n         rēšˌîṯ\n        </span>\n       </a>"
      }
     },
     "20810e8c7d854cb0a74e3b26c99e4bbe": {
      "model_module": "@jupyter-widgets/controls",
      "model_module_version": "1.5.0",
      "model_name": "HTMLModel",
      "state": {
       "layout": "IPY_MODEL_8e5bcef23c9342b499a768cf23a19480",
       "style": "IPY_MODEL_aae0926034f640a6810a5b55d5bbcf6a",
       "value": "<a\n  class=\"txtu hbo\"\n  href=\"https://shebanq.ancient-data.org/hebrew/word?version=2021&amp;id=1B\"\n  target=\"_blank\"\n  title=\"Show this on SHEBANQ\">\n        <span class=\"txtp\">\n         bᵊ\n        </span>\n       </a>"
      }
     },
     "20b265b63cb44d80b231b08c47a11724": {
      "model_module": "@jupyter-widgets/controls",
      "model_module_version": "1.5.0",
      "model_name": "BoxModel",
      "state": {
       "children": [
        "IPY_MODEL_83efd87f7fac4f9c845f84eb6cc288d7",
        "IPY_MODEL_2c74ac1ce8704397b17247d2b8bd11b0"
       ],
       "layout": "IPY_MODEL_1ef218df5c064e5793bf9b9167f169e1"
      }
     },
     "20b799cb4abb45f8ae5073a8ef1760d7": {
      "model_module": "@jupyter-widgets/controls",
      "model_module_version": "1.5.0",
      "model_name": "TextModel",
      "state": {
       "description": "pdp=",
       "layout": "IPY_MODEL_5a571b7d267e4046bed4a3fe8d41bcce",
       "placeholder": "pdp",
       "style": "IPY_MODEL_118b1e62471a417dab1b0544a0480ce8",
       "value": "prep"
      }
     },
     "20c438687d4f42aca603b47648c96031": {
      "model_module": "@jupyter-widgets/controls",
      "model_module_version": "1.5.0",
      "model_name": "DescriptionStyleModel",
      "state": {
       "description_width": ""
      }
     },
     "21307f5538c94a6b8ddce098f7355106": {
      "model_module": "@jupyter-widgets/base",
      "model_module_version": "1.2.0",
      "model_name": "LayoutModel",
      "state": {
       "align_content": "flex-start"
      }
     },
     "219c0e75124b4ec2b3c71d0bdbaaad3d": {
      "model_module": "@jupyter-widgets/controls",
      "model_module_version": "1.5.0",
      "model_name": "DescriptionStyleModel",
      "state": {
       "description_width": ""
      }
     },
     "21d80b66a8484d49ae8e7b7e53a0b6b3": {
      "model_module": "@jupyter-widgets/base",
      "model_module_version": "1.2.0",
      "model_name": "LayoutModel",
      "state": {
       "align_content": "flex-start",
       "align_items": "flex-start",
       "border": "2px solid gray",
       "flex_flow": "column",
       "justify_content": "flex-start",
       "width": "16em"
      }
     },
     "23146e868c264141a8379280b80f3783": {
      "model_module": "@jupyter-widgets/controls",
      "model_module_version": "1.5.0",
      "model_name": "DescriptionStyleModel",
      "state": {
       "description_width": ""
      }
     },
     "23f070104c1f4870bdf03d80c48925a3": {
      "model_module": "@jupyter-widgets/controls",
      "model_module_version": "1.5.0",
      "model_name": "HTMLModel",
      "state": {
       "layout": "IPY_MODEL_60407a7c1bb84788a037c41a60ac4c6a",
       "style": "IPY_MODEL_d8b51cbd523742c7ad2839d2f7cbf0fe",
       "value": "pdp="
      }
     },
     "249fdafcb3be4c52b6b24849bc103363": {
      "model_module": "@jupyter-widgets/controls",
      "model_module_version": "1.5.0",
      "model_name": "DescriptionStyleModel",
      "state": {
       "description_width": ""
      }
     },
     "24bd033fc8dd4de493b8d5427ed51d4a": {
      "model_module": "@jupyter-widgets/base",
      "model_module_version": "1.2.0",
      "model_name": "LayoutModel",
      "state": {
       "flex": "auto 1 1",
       "height": "3em"
      }
     },
     "25513061941f4ec3a34256c1678e4b92": {
      "model_module": "@jupyter-widgets/controls",
      "model_module_version": "1.5.0",
      "model_name": "BoxModel",
      "state": {
       "children": [
        "IPY_MODEL_0d26d95c94f44e5ca974c881889dc27d",
        "IPY_MODEL_02cf70eff35f4c278ac9007946341148",
        "IPY_MODEL_5a9879fdddd94ac9940921049b9e4284"
       ],
       "layout": "IPY_MODEL_69f0aec0baed47b7baa2f9c9dc4f9252"
      }
     },
     "259c164b761a499ab43c1ad6003a2554": {
      "model_module": "@jupyter-widgets/base",
      "model_module_version": "1.2.0",
      "model_name": "LayoutModel",
      "state": {
       "flex": "auto 0 0",
       "height": "3em",
       "width": "5em"
      }
     },
     "26b38faf9bb74403935021e78c6441ba": {
      "model_module": "@jupyter-widgets/controls",
      "model_module_version": "1.5.0",
      "model_name": "TextModel",
      "state": {
       "layout": "IPY_MODEL_47da25a846ca460eae62c4ff3864311b",
       "placeholder": "gloss",
       "style": "IPY_MODEL_ff289377b82d4adb8e0f25939eeb3562",
       "value": "in"
      }
     },
     "26f7ccb797fb424e8340ea396c57e18d": {
      "model_module": "@jupyter-widgets/controls",
      "model_module_version": "1.5.0",
      "model_name": "BoxModel",
      "state": {
       "children": [
        "IPY_MODEL_1c2109a6eeff49248790ce3853173678",
        "IPY_MODEL_2d7ee530384a48d298682c324574afb4"
       ],
       "layout": "IPY_MODEL_fff3f118b486451381d057bc82668ab1"
      }
     },
     "2718a80b59924e22af5c2bf96c8c93d7": {
      "model_module": "@jupyter-widgets/controls",
      "model_module_version": "1.5.0",
      "model_name": "BoxModel",
      "state": {
       "children": [
        "IPY_MODEL_63e4bb6650eb4d6e980323683e18e467",
        "IPY_MODEL_f5573dafa909464a9538d13b4a483cd2",
        "IPY_MODEL_8b5b6be1041f4cd0a37864af43612079"
       ],
       "layout": "IPY_MODEL_6b07abda18054600a5b23be74e02f051"
      }
     },
     "2772dc6cd2e840c1a87f6905c4bae022": {
      "model_module": "@jupyter-widgets/controls",
      "model_module_version": "1.5.0",
      "model_name": "HTMLModel",
      "state": {
       "layout": "IPY_MODEL_85ae2a5e838a4ea8b9edd14e693ac8a5",
       "style": "IPY_MODEL_2c71a5f05b0f4ff9926fc094dadf56ad",
       "value": "<a\n  class=\"txtu hbo\"\n  href=\"https://shebanq.ancient-data.org/hebrew/word?version=2021&amp;id=1B\"\n  target=\"_blank\"\n  title=\"Show this on SHEBANQ\">\n        <span class=\"txtp\">\n         bᵊ\n        </span>\n       </a>"
      }
     },
     "27b4ad4558ab487898cb55523dfeb62d": {
      "model_module": "@jupyter-widgets/controls",
      "model_module_version": "1.5.0",
      "model_name": "DescriptionStyleModel",
      "state": {
       "description_width": ""
      }
     },
     "28273620564b4863b6eb2b7f13171412": {
      "model_module": "@jupyter-widgets/base",
      "model_module_version": "1.2.0",
      "model_name": "LayoutModel",
      "state": {}
     },
     "28b1f79a47c84f058721d1d3a6159228": {
      "model_module": "@jupyter-widgets/base",
      "model_module_version": "1.2.0",
      "model_name": "LayoutModel",
      "state": {
       "flex": "auto 0 0"
      }
     },
     "28eea6e85e1244bcacf2285b945cda5b": {
      "model_module": "@jupyter-widgets/controls",
      "model_module_version": "1.5.0",
      "model_name": "BoxModel",
      "state": {
       "children": [
        "IPY_MODEL_6694865109224185aa5df67788e3af89",
        "IPY_MODEL_cc3cc9b1dfb541408863715a948b5eb2"
       ],
       "layout": "IPY_MODEL_33d8c58f9466438ab8d8dec586809144"
      }
     },
     "292f44f3606b45d5b014874f32ffb8c1": {
      "model_module": "@jupyter-widgets/base",
      "model_module_version": "1.2.0",
      "model_name": "LayoutModel",
      "state": {
       "flex": "auto 1 1"
      }
     },
     "29b71a8ed30940b491452ecc716ad762": {
      "model_module": "@jupyter-widgets/controls",
      "model_module_version": "1.5.0",
      "model_name": "DescriptionStyleModel",
      "state": {
       "description_width": ""
      }
     },
     "29d185a6d92b4a848426d2148a4c631d": {
      "model_module": "@jupyter-widgets/controls",
      "model_module_version": "1.5.0",
      "model_name": "TextModel",
      "state": {
       "description": "pdp=",
       "layout": "IPY_MODEL_fd0d88aebfb14d669bd50db2088b0a8d",
       "placeholder": "pdp",
       "style": "IPY_MODEL_81be928cafcd4c36910e15e701076006",
       "value": "subs"
      }
     },
     "29f4ecd78474492f80ed61812a6ff7ba": {
      "model_module": "@jupyter-widgets/base",
      "model_module_version": "1.2.0",
      "model_name": "LayoutModel",
      "state": {
       "flex": "auto 0 0"
      }
     },
     "2a6a9a0bfa6847b58659a209e437ffd3": {
      "model_module": "@jupyter-widgets/base",
      "model_module_version": "1.2.0",
      "model_name": "LayoutModel",
      "state": {
       "flex": "auto 0 0",
       "height": "4em",
       "width": "7em"
      }
     },
     "2b4286c2d06e49b6a4f16031d0145ec6": {
      "model_module": "@jupyter-widgets/controls",
      "model_module_version": "1.5.0",
      "model_name": "HTMLModel",
      "state": {
       "layout": "IPY_MODEL_7e9324dc6ceb43bcb7555c766ccf5adf",
       "style": "IPY_MODEL_27b4ad4558ab487898cb55523dfeb62d",
       "value": "<a\n  class=\"txtu hbo\"\n  href=\"https://shebanq.ancient-data.org/hebrew/word?version=2021&amp;id=1RACJTn\"\n  target=\"_blank\"\n  title=\"Show this on SHEBANQ\">\n        <span class=\"txtp\">\n         rēšˌîṯ\n        </span>\n       </a>"
      }
     },
     "2c2efcc4a25c4203ad1e1e9c4993e00d": {
      "model_module": "@jupyter-widgets/controls",
      "model_module_version": "1.5.0",
      "model_name": "DescriptionStyleModel",
      "state": {
       "description_width": ""
      }
     },
     "2c6ca2d078bd4da49c079513f8a6db26": {
      "model_module": "@jupyter-widgets/controls",
      "model_module_version": "1.5.0",
      "model_name": "DescriptionStyleModel",
      "state": {
       "description_width": ""
      }
     },
     "2c71a5f05b0f4ff9926fc094dadf56ad": {
      "model_module": "@jupyter-widgets/controls",
      "model_module_version": "1.5.0",
      "model_name": "DescriptionStyleModel",
      "state": {
       "description_width": ""
      }
     },
     "2c74ac1ce8704397b17247d2b8bd11b0": {
      "model_module": "@jupyter-widgets/controls",
      "model_module_version": "1.5.0",
      "model_name": "TextModel",
      "state": {
       "layout": "IPY_MODEL_48dc69e00006489cab4b115f4e4f988b",
       "placeholder": "pdp",
       "style": "IPY_MODEL_a8e7a86a72764dd489a87996fc46d817",
       "value": "prep"
      }
     },
     "2cbee9bc121b416dbe0e005ca79e798a": {
      "model_module": "@jupyter-widgets/controls",
      "model_module_version": "1.5.0",
      "model_name": "DescriptionStyleModel",
      "state": {
       "description_width": ""
      }
     },
     "2d7ee530384a48d298682c324574afb4": {
      "model_module": "@jupyter-widgets/controls",
      "model_module_version": "1.5.0",
      "model_name": "BoxModel",
      "state": {
       "children": [
        "IPY_MODEL_fcd2f2cbe82d43e5a94126227fcf5fcd",
        "IPY_MODEL_beaff0379ae84a6ba3bb604b37fb2d8f"
       ],
       "layout": "IPY_MODEL_01352a6575424b748c32d2de7e71ba83"
      }
     },
     "2db5b121c8ab4cde9810d9b1052aadc9": {
      "model_module": "@jupyter-widgets/base",
      "model_module_version": "1.2.0",
      "model_name": "LayoutModel",
      "state": {
       "flex": "auto 1 1",
       "height": "3em",
       "width": "5em"
      }
     },
     "2e05042d0f154989ae06357c1b8114ac": {
      "model_module": "@jupyter-widgets/controls",
      "model_module_version": "1.5.0",
      "model_name": "BoxModel",
      "state": {
       "children": [
        "IPY_MODEL_6cca53a970aa4d6d9dbe38205cf72608",
        "IPY_MODEL_0409221e5f664a2ba811937ebf4d286a"
       ],
       "layout": "IPY_MODEL_fcc85ebf80f443ff865a072a7add8e21"
      }
     },
     "2e1eb37274b7455f98b955b6e62d44c2": {
      "model_module": "@jupyter-widgets/controls",
      "model_module_version": "1.5.0",
      "model_name": "DescriptionStyleModel",
      "state": {
       "description_width": ""
      }
     },
     "2e5bb8e443f548fcad4f1f1fd5af5d17": {
      "model_module": "@jupyter-widgets/controls",
      "model_module_version": "1.5.0",
      "model_name": "BoxModel",
      "state": {
       "children": [
        "IPY_MODEL_c6ff78067854426a96b9fcbd1b7b30ef",
        "IPY_MODEL_9080722a25674459ba43cc7851a20346"
       ],
       "layout": "IPY_MODEL_4ec5164b43e142c2b57b1fbcacc24ac8"
      }
     },
     "2e847f9e81bf4c4f8ba450e0e223a594": {
      "model_module": "@jupyter-widgets/controls",
      "model_module_version": "1.5.0",
      "model_name": "HTMLModel",
      "state": {
       "layout": "IPY_MODEL_3bf41dce3de94bd5bcdb2ea28f67db55",
       "style": "IPY_MODEL_9fc04633796348ea8b72e5a9b9499f8e",
       "value": "<a\n  class=\"txtu hbo\"\n  href=\"https://shebanq.ancient-data.org/hebrew/word?version=2021&amp;id=1RACJTn\"\n  target=\"_blank\"\n  title=\"Show this on SHEBANQ\">\n        <span class=\"txtp\">\n         rēšˌîṯ\n        </span>\n       </a>"
      }
     },
     "2e9a420799674b6eb1bd1a027087cffc": {
      "model_module": "@jupyter-widgets/base",
      "model_module_version": "1.2.0",
      "model_name": "LayoutModel",
      "state": {
       "flex": "auto 0 0"
      }
     },
     "2ef88c3057604541b0176b2b7338b6df": {
      "model_module": "@jupyter-widgets/controls",
      "model_module_version": "1.5.0",
      "model_name": "DescriptionStyleModel",
      "state": {
       "description_width": ""
      }
     },
     "2f2cecd5060643f480e73c530d87827e": {
      "model_module": "@jupyter-widgets/controls",
      "model_module_version": "1.5.0",
      "model_name": "DescriptionStyleModel",
      "state": {
       "description_width": ""
      }
     },
     "2fa0b04bef0449158f1d4cc9ef95e3c6": {
      "model_module": "@jupyter-widgets/controls",
      "model_module_version": "1.5.0",
      "model_name": "BoxModel",
      "state": {
       "children": [
        "IPY_MODEL_997258ce4cf84c02b4b62e5b6dbab4e1",
        "IPY_MODEL_93322af93d8d429bb543d8395f6aa882"
       ],
       "layout": "IPY_MODEL_8990e2f945f54dcf95daa3b18974dfb3"
      }
     },
     "2fbe63f9e22c4397987bb9455caadf79": {
      "model_module": "@jupyter-widgets/controls",
      "model_module_version": "1.5.0",
      "model_name": "BoxModel",
      "state": {
       "children": [
        "IPY_MODEL_76b3ee6f546a4dc68a5865e96721e56f",
        "IPY_MODEL_846f15f8e7124818bd431856b2a9b34b"
       ],
       "layout": "IPY_MODEL_70e35033b659422ca73c14783dfa2581"
      }
     },
     "2fbecf016cec4082b3ce71638aec9766": {
      "model_module": "@jupyter-widgets/controls",
      "model_module_version": "1.5.0",
      "model_name": "BoxModel",
      "state": {
       "children": [
        "IPY_MODEL_2718a80b59924e22af5c2bf96c8c93d7",
        "IPY_MODEL_a16155aa0c994343add2dcc2f0f9f8e6"
       ],
       "layout": "IPY_MODEL_96b02b5dd86544cbbb86d42d587479d4"
      }
     },
     "2fededaa29394320a0141f775469f32e": {
      "model_module": "@jupyter-widgets/controls",
      "model_module_version": "1.5.0",
      "model_name": "TextModel",
      "state": {
       "description": "pdp=",
       "layout": "IPY_MODEL_8974ad4913aa46d1bba4a70161db8544",
       "placeholder": "pdp",
       "style": "IPY_MODEL_63500ef51be44305997e1450c06df85e",
       "value": "prep"
      }
     },
     "30a6b67ac0f742e09e728cf83d634df1": {
      "model_module": "@jupyter-widgets/controls",
      "model_module_version": "1.5.0",
      "model_name": "BoxModel",
      "state": {
       "children": [
        "IPY_MODEL_b56fed63e1c24950a20449b8f48050da",
        "IPY_MODEL_d9662dbdf4a849f49a6bea20148560da",
        "IPY_MODEL_4473067845a9401c9e83c1ad60b7f3a6"
       ],
       "layout": "IPY_MODEL_ca4f59133780411199dd9b77de765b66"
      }
     },
     "30c2dc95ab25487283adf73be63c3f37": {
      "model_module": "@jupyter-widgets/controls",
      "model_module_version": "1.5.0",
      "model_name": "TextModel",
      "state": {
       "layout": "IPY_MODEL_2e9a420799674b6eb1bd1a027087cffc",
       "placeholder": "gloss",
       "style": "IPY_MODEL_2c2efcc4a25c4203ad1e1e9c4993e00d",
       "value": "in"
      }
     },
     "31f75772ce804cddbb46b8f904cd4877": {
      "model_module": "@jupyter-widgets/controls",
      "model_module_version": "1.5.0",
      "model_name": "TextModel",
      "state": {
       "layout": "IPY_MODEL_9439b66d43704d1ba9c6f287b47f660a",
       "placeholder": "gloss",
       "style": "IPY_MODEL_fa7448897fb2446291da45dcc290982e",
       "value": "beginning"
      }
     },
     "31fd167de41b4379880bac69e377f2b2": {
      "model_module": "@jupyter-widgets/controls",
      "model_module_version": "1.5.0",
      "model_name": "DescriptionStyleModel",
      "state": {
       "description_width": ""
      }
     },
     "3202865055e2486483d555b460eeb318": {
      "model_module": "@jupyter-widgets/controls",
      "model_module_version": "1.5.0",
      "model_name": "DescriptionStyleModel",
      "state": {
       "description_width": ""
      }
     },
     "3253a5a590284d83860f994972d1cd48": {
      "model_module": "@jupyter-widgets/base",
      "model_module_version": "1.2.0",
      "model_name": "LayoutModel",
      "state": {
       "align_content": "flex-start",
       "align_items": "flex-start",
       "border": "2px solid gray",
       "flex_flow": "column",
       "justify_content": "flex-start"
      }
     },
     "337f9db6087d403c8c4ed3c060463e3f": {
      "model_module": "@jupyter-widgets/controls",
      "model_module_version": "1.5.0",
      "model_name": "HTMLModel",
      "state": {
       "layout": "IPY_MODEL_70bb96bc2acd4b9a9d432fef4b7860b8",
       "style": "IPY_MODEL_a8f83bc0097d4dc5a933fcbe08a590f7",
       "value": "<a\n  class=\"txtu hbo\"\n  href=\"https://shebanq.ancient-data.org/hebrew/word?version=2021&amp;id=1B\"\n  target=\"_blank\"\n  title=\"Show this on SHEBANQ\">\n        <span class=\"txtp\">\n         bᵊ\n        </span>\n       </a>"
      }
     },
     "33d8c58f9466438ab8d8dec586809144": {
      "model_module": "@jupyter-widgets/base",
      "model_module_version": "1.2.0",
      "model_name": "LayoutModel",
      "state": {
       "align_content": "flex-start",
       "align_items": "flex-start",
       "border": "2px solid gray",
       "flex_flow": "column",
       "justify_content": "flex-start",
       "width": "10em"
      }
     },
     "34a454014e8e49b988eb6486a5ccccd8": {
      "model_module": "@jupyter-widgets/controls",
      "model_module_version": "1.5.0",
      "model_name": "DescriptionStyleModel",
      "state": {
       "description_width": ""
      }
     },
     "352a9446bd454ea4aa2e061c7d87ac3a": {
      "model_module": "@jupyter-widgets/controls",
      "model_module_version": "1.5.0",
      "model_name": "HTMLModel",
      "state": {
       "layout": "IPY_MODEL_3bf41dce3de94bd5bcdb2ea28f67db55",
       "style": "IPY_MODEL_eb8cef9990684aef9042f511ed1243fb",
       "value": "<a\n  class=\"txtu hbo\"\n  href=\"https://shebanq.ancient-data.org/hebrew/word?version=2021&amp;id=1B\"\n  target=\"_blank\"\n  title=\"Show this on SHEBANQ\">\n        <span class=\"txtp\">\n         bᵊ\n        </span>\n       </a>"
      }
     },
     "3538fc8643aa441288c3613317cb9c18": {
      "model_module": "@jupyter-widgets/controls",
      "model_module_version": "1.5.0",
      "model_name": "TextModel",
      "state": {
       "layout": "IPY_MODEL_2a6a9a0bfa6847b58659a209e437ffd3",
       "placeholder": "gloss",
       "style": "IPY_MODEL_485b035e30da4b71a72ee3424e73425b",
       "value": "in"
      }
     },
     "3651a517b44c48d290ff8eecd07bed2d": {
      "model_module": "@jupyter-widgets/controls",
      "model_module_version": "1.5.0",
      "model_name": "DescriptionStyleModel",
      "state": {
       "description_width": ""
      }
     },
     "3798d5c006bf442db1f30e302bbb4149": {
      "model_module": "@jupyter-widgets/base",
      "model_module_version": "1.2.0",
      "model_name": "LayoutModel",
      "state": {
       "flex": "auto 0 0"
      }
     },
     "37d479ec3b9e43d397a2817dd6658ade": {
      "model_module": "@jupyter-widgets/controls",
      "model_module_version": "1.5.0",
      "model_name": "BoxModel",
      "state": {
       "children": [
        "IPY_MODEL_2772dc6cd2e840c1a87f6905c4bae022",
        "IPY_MODEL_edfd7a26ce0b4c6291f138af945ef380"
       ],
       "layout": "IPY_MODEL_f0d753f8a2c84a1186020566d466f399"
      }
     },
     "3853f8ad5a874fcea02c9c81a65c8d15": {
      "model_module": "@jupyter-widgets/controls",
      "model_module_version": "1.5.0",
      "model_name": "BoxModel",
      "state": {
       "children": [
        "IPY_MODEL_40fca09b96c24e36b86a60cdd37fe1a0",
        "IPY_MODEL_f7256b53ab6645b9b9eec28249a6a39d",
        "IPY_MODEL_d794331242684cf19aeea1baf5d4b1ed"
       ],
       "layout": "IPY_MODEL_dbb8f00c4d0744e78c1807cb78f23e4a"
      }
     },
     "388e5a0c0679496ba31581d3356b85f6": {
      "model_module": "@jupyter-widgets/controls",
      "model_module_version": "1.5.0",
      "model_name": "DescriptionStyleModel",
      "state": {
       "description_width": ""
      }
     },
     "393ca98209f5425d95f80a3b6c64bcf4": {
      "model_module": "@jupyter-widgets/controls",
      "model_module_version": "1.5.0",
      "model_name": "DescriptionStyleModel",
      "state": {
       "description_width": ""
      }
     },
     "395a7ed32603498aad8e985929c50afe": {
      "model_module": "@jupyter-widgets/controls",
      "model_module_version": "1.5.0",
      "model_name": "TextModel",
      "state": {
       "layout": "IPY_MODEL_bd757e46aa7546bb8c69aa8d317ea115",
       "placeholder": "pdp",
       "style": "IPY_MODEL_132a3741ca6f474eb95b3eed7a34cb21",
       "value": "prep"
      }
     },
     "395bf992c9994569b04a401de9e96789": {
      "model_module": "@jupyter-widgets/controls",
      "model_module_version": "1.5.0",
      "model_name": "HTMLModel",
      "state": {
       "layout": "IPY_MODEL_8c1147a437d74b40b21c29eb701b0e71",
       "style": "IPY_MODEL_c1c27bdcc0d14b058b218fee0df36b26",
       "value": "pdp="
      }
     },
     "397eaa219b2840fb8dc0bbf7babf21b8": {
      "model_module": "@jupyter-widgets/controls",
      "model_module_version": "1.5.0",
      "model_name": "DescriptionStyleModel",
      "state": {
       "description_width": ""
      }
     },
     "39d9a9ccd3e046028c4c362602a89b46": {
      "model_module": "@jupyter-widgets/base",
      "model_module_version": "1.2.0",
      "model_name": "LayoutModel",
      "state": {}
     },
     "3a24dbf74c0448fea8613c63d09b3120": {
      "model_module": "@jupyter-widgets/controls",
      "model_module_version": "1.5.0",
      "model_name": "TextModel",
      "state": {
       "layout": "IPY_MODEL_5a571b7d267e4046bed4a3fe8d41bcce",
       "placeholder": "gloss",
       "style": "IPY_MODEL_61aaab1579884f48a6c502c060fa1992",
       "value": "in"
      }
     },
     "3a3050020f0a4293aa99417c289889d1": {
      "model_module": "@jupyter-widgets/base",
      "model_module_version": "1.2.0",
      "model_name": "LayoutModel",
      "state": {
       "align_content": "flex-start",
       "align_items": "flex-start",
       "border": "2px solid gray",
       "flex_flow": "column",
       "justify_content": "flex-start",
       "width": "10em"
      }
     },
     "3ab96d2095a0484fae1b3961e143522a": {
      "model_module": "@jupyter-widgets/controls",
      "model_module_version": "1.5.0",
      "model_name": "DescriptionStyleModel",
      "state": {
       "description_width": ""
      }
     },
     "3ab9fbd2acc043a0903f9e99152c70dd": {
      "model_module": "@jupyter-widgets/base",
      "model_module_version": "1.2.0",
      "model_name": "LayoutModel",
      "state": {
       "flex": "auto 0 0"
      }
     },
     "3abda5f8323a485b8b144ad00b604152": {
      "model_module": "@jupyter-widgets/controls",
      "model_module_version": "1.5.0",
      "model_name": "BoxModel",
      "state": {
       "children": [
        "IPY_MODEL_ac0b959a625a49809bd934ff30275a9a",
        "IPY_MODEL_63ee337a423f45b8aa17a4a4613bb2ea",
        "IPY_MODEL_2fededaa29394320a0141f775469f32e"
       ],
       "layout": "IPY_MODEL_dbb8f00c4d0744e78c1807cb78f23e4a"
      }
     },
     "3afc5aa056d44a1ca1f300c36750836a": {
      "model_module": "@jupyter-widgets/base",
      "model_module_version": "1.2.0",
      "model_name": "LayoutModel",
      "state": {
       "flex": "auto 1 1",
       "height": "4em"
      }
     },
     "3b5d0d6ee36741cb8e617e02542b62ae": {
      "model_module": "@jupyter-widgets/controls",
      "model_module_version": "1.5.0",
      "model_name": "DescriptionStyleModel",
      "state": {
       "description_width": ""
      }
     },
     "3bd7b59c7e8e4af19dde04db6580b1f9": {
      "model_module": "@jupyter-widgets/controls",
      "model_module_version": "1.5.0",
      "model_name": "DescriptionStyleModel",
      "state": {
       "description_width": ""
      }
     },
     "3bf41dce3de94bd5bcdb2ea28f67db55": {
      "model_module": "@jupyter-widgets/base",
      "model_module_version": "1.2.0",
      "model_name": "LayoutModel",
      "state": {
       "flex": "auto 1 1"
      }
     },
     "3c5923e10375423c96b5ed12a37379ae": {
      "model_module": "@jupyter-widgets/base",
      "model_module_version": "1.2.0",
      "model_name": "LayoutModel",
      "state": {
       "border": "2px solid gray",
       "flex_flow": "column",
       "width": "20em"
      }
     },
     "3c6ea2fa071d40e1bb1353482c8c3911": {
      "model_module": "@jupyter-widgets/controls",
      "model_module_version": "1.5.0",
      "model_name": "BoxModel",
      "state": {
       "children": [
        "IPY_MODEL_3eb375e03cd9427b8b8697b849d61b64",
        "IPY_MODEL_1f759194b50644e392ea8996159704aa"
       ],
       "layout": "IPY_MODEL_1b6a78cb20c74bae8a865dffa66ab869"
      }
     },
     "3cd3aae9819b4391b6ad43a04948e53c": {
      "model_module": "@jupyter-widgets/controls",
      "model_module_version": "1.5.0",
      "model_name": "BoxModel",
      "state": {
       "children": [
        "IPY_MODEL_428ef4ff071446f09547397768c74304",
        "IPY_MODEL_da758bb11c844f0ca7593dbf1f879200"
       ],
       "layout": "IPY_MODEL_7f7f3f72ad3d4f6aa61b0ee00665155f"
      }
     },
     "3d009c8d7a9b4135b919bb59df5a4bd4": {
      "model_module": "@jupyter-widgets/controls",
      "model_module_version": "1.5.0",
      "model_name": "DescriptionStyleModel",
      "state": {
       "description_width": ""
      }
     },
     "3d11f041d89d47a697b7f79f029c2d75": {
      "model_module": "@jupyter-widgets/controls",
      "model_module_version": "1.5.0",
      "model_name": "HTMLModel",
      "state": {
       "layout": "IPY_MODEL_868f19a322eb49abb7f68c359442dcd7",
       "style": "IPY_MODEL_a15ce8a2818f46ec990b412001e71330",
       "value": "<a\n  class=\"txtu hbo\"\n  href=\"https://shebanq.ancient-data.org/hebrew/word?version=2021&amp;id=1RACJTn\"\n  target=\"_blank\"\n  title=\"Show this on SHEBANQ\">\n        <span class=\"txtp\">\n         rēšˌîṯ\n        </span>\n       </a>"
      }
     },
     "3d23baf393f4476f91d9c76a15977a38": {
      "model_module": "@jupyter-widgets/controls",
      "model_module_version": "1.5.0",
      "model_name": "TextModel",
      "state": {
       "layout": "IPY_MODEL_47aa242da6384c6f9bc981c27b096204",
       "placeholder": "gloss",
       "style": "IPY_MODEL_9347c700f4f54321a2c22ef2912aee10",
       "value": "beginning"
      }
     },
     "3e1d3c9b8dc4415faf76c6eb0746106c": {
      "model_module": "@jupyter-widgets/controls",
      "model_module_version": "1.5.0",
      "model_name": "HTMLModel",
      "state": {
       "layout": "IPY_MODEL_09e370631ad745f1aaf48630f5e5512d",
       "style": "IPY_MODEL_f1a3373491fa41d18029fc434c66d110",
       "value": "pdp="
      }
     },
     "3e5253dc3d5946cc903f0c6a569885a6": {
      "model_module": "@jupyter-widgets/base",
      "model_module_version": "1.2.0",
      "model_name": "LayoutModel",
      "state": {
       "align_content": "flex-start"
      }
     },
     "3eb375e03cd9427b8b8697b849d61b64": {
      "model_module": "@jupyter-widgets/controls",
      "model_module_version": "1.5.0",
      "model_name": "HTMLModel",
      "state": {
       "layout": "IPY_MODEL_2e9a420799674b6eb1bd1a027087cffc",
       "style": "IPY_MODEL_0d67feb6d3234d3496d345117523f2c6",
       "value": "<a\n  class=\"txtu hbo\"\n  href=\"https://shebanq.ancient-data.org/hebrew/word?version=2021&amp;id=1RACJTn\"\n  target=\"_blank\"\n  title=\"Show this on SHEBANQ\">\n        <span class=\"txtp\">\n         rēšˌîṯ\n        </span>\n       </a>"
      }
     },
     "3ef290faa6f744cda75692132fe47df8": {
      "model_module": "@jupyter-widgets/controls",
      "model_module_version": "1.5.0",
      "model_name": "BoxModel",
      "state": {
       "children": [
        "IPY_MODEL_ebb09cd6555f4d979ab5684d462d860b",
        "IPY_MODEL_83ab59b10a6d4eb08657c4e0545a9e22"
       ],
       "layout": "IPY_MODEL_e50e6c22f3a2477f9259b1f47eb6d121"
      }
     },
     "3faf305734e8484886636125189a6467": {
      "model_module": "@jupyter-widgets/controls",
      "model_module_version": "1.5.0",
      "model_name": "HTMLModel",
      "state": {
       "layout": "IPY_MODEL_0fdbc9cccf6d43b99b22eab45d17ec39",
       "style": "IPY_MODEL_8a8849917e834098849262bcdb9393c5",
       "value": "pdp="
      }
     },
     "3fd3f015051e4532ae4dea4127f91d2f": {
      "model_module": "@jupyter-widgets/controls",
      "model_module_version": "1.5.0",
      "model_name": "BoxModel",
      "state": {
       "children": [
        "IPY_MODEL_5a43dbaec1cb4c97afb7a262026ef8fc",
        "IPY_MODEL_834882dc5fc846808e54d38e4fc32fdc"
       ],
       "layout": "IPY_MODEL_6c016230769941ab9eead016c19c80cc"
      }
     },
     "40273e4843b04d8a8105ccdb8c85d6a5": {
      "model_module": "@jupyter-widgets/controls",
      "model_module_version": "1.5.0",
      "model_name": "DescriptionStyleModel",
      "state": {
       "description_width": ""
      }
     },
     "40320c39cf7c42579ed753e42d7ea79d": {
      "model_module": "@jupyter-widgets/base",
      "model_module_version": "1.2.0",
      "model_name": "LayoutModel",
      "state": {
       "align_content": "flex-start",
       "align_items": "flex-start",
       "border": "2px solid gray",
       "flex_flow": "column",
       "justify_content": "flex-start",
       "width": "16em"
      }
     },
     "403cfe9cc27841d490a2ac647b28a2f6": {
      "model_module": "@jupyter-widgets/base",
      "model_module_version": "1.2.0",
      "model_name": "LayoutModel",
      "state": {
       "align_content": "flex-start"
      }
     },
     "40767549d85542dab8b328e066a76326": {
      "model_module": "@jupyter-widgets/controls",
      "model_module_version": "1.5.0",
      "model_name": "BoxModel",
      "state": {
       "children": [
        "IPY_MODEL_7c62a1d1894f4d1d9a134ab1e3f48d99",
        "IPY_MODEL_9f44332e038946b9a80f80c66df5024d"
       ],
       "layout": "IPY_MODEL_21307f5538c94a6b8ddce098f7355106"
      }
     },
     "40f5127d51594065b9edd50a70d4eab9": {
      "model_module": "@jupyter-widgets/base",
      "model_module_version": "1.2.0",
      "model_name": "LayoutModel",
      "state": {}
     },
     "40f774cf01de438c90429b7a7df53994": {
      "model_module": "@jupyter-widgets/controls",
      "model_module_version": "1.5.0",
      "model_name": "HTMLModel",
      "state": {
       "layout": "IPY_MODEL_a50839a5ad954fa2b7004331213504f7",
       "style": "IPY_MODEL_8309503d4e9a44e6b72a3acbd9cf440d",
       "value": "<a\n  class=\"txtu hbo\"\n  href=\"https://shebanq.ancient-data.org/hebrew/word?version=2021&amp;id=1B\"\n  target=\"_blank\"\n  title=\"Show this on SHEBANQ\">\n        <span class=\"txtp\">\n         bᵊ\n        </span>\n       </a>"
      }
     },
     "40fca09b96c24e36b86a60cdd37fe1a0": {
      "model_module": "@jupyter-widgets/controls",
      "model_module_version": "1.5.0",
      "model_name": "HTMLModel",
      "state": {
       "layout": "IPY_MODEL_b3404fe7ed104809b60d56118195bd66",
       "style": "IPY_MODEL_56c2a9f996c0491d91f91b75316774ba",
       "value": "<a\n  class=\"txtu hbo\"\n  href=\"https://shebanq.ancient-data.org/hebrew/word?version=2021&amp;id=1RACJTn\"\n  target=\"_blank\"\n  title=\"Show this on SHEBANQ\">\n        <span class=\"txtp\">\n         rēšˌîṯ\n        </span>\n       </a>"
      }
     },
     "4155034838ba45b49c5233e8a983fe23": {
      "model_module": "@jupyter-widgets/base",
      "model_module_version": "1.2.0",
      "model_name": "LayoutModel",
      "state": {
       "align_content": "flex-start",
       "height": "100%"
      }
     },
     "416588b67cff4d829e3c0dd02908f7be": {
      "model_module": "@jupyter-widgets/base",
      "model_module_version": "1.2.0",
      "model_name": "LayoutModel",
      "state": {
       "border": "2px solid gray",
       "flex": "auto 0 1",
       "flex_flow": "column",
       "width": "15em"
      }
     },
     "41b732ec11394d6a8410b4a73e0a5f11": {
      "model_module": "@jupyter-widgets/base",
      "model_module_version": "1.2.0",
      "model_name": "LayoutModel",
      "state": {
       "flex": "auto 0 0",
       "width": "10em"
      }
     },
     "41d6eae9917244ea9d00ea2a23ed946c": {
      "model_module": "@jupyter-widgets/controls",
      "model_module_version": "1.5.0",
      "model_name": "BoxModel",
      "state": {
       "children": [
        "IPY_MODEL_337f9db6087d403c8c4ed3c060463e3f",
        "IPY_MODEL_4ad201b2990047cab500a1e3f2dacefe",
        "IPY_MODEL_7b56b525dcae4cc3b67789441b30e545"
       ],
       "layout": "IPY_MODEL_4ea0f939db6446018136457a4f119e1e"
      }
     },
     "41e68accb2be45ea97ed5148257962a1": {
      "model_module": "@jupyter-widgets/base",
      "model_module_version": "1.2.0",
      "model_name": "LayoutModel",
      "state": {
       "align_content": "flex-start",
       "align_items": "flex-start",
       "border": "2px solid gray",
       "flex_flow": "column",
       "justify_content": "flex-start",
       "width": "10em"
      }
     },
     "428ef4ff071446f09547397768c74304": {
      "model_module": "@jupyter-widgets/controls",
      "model_module_version": "1.5.0",
      "model_name": "HTMLModel",
      "state": {
       "layout": "IPY_MODEL_50416c53fdb04bfaae929eba65eeea22",
       "style": "IPY_MODEL_7f64456421b848ab88036b062454fae4",
       "value": "pdp="
      }
     },
     "42a2e4d6d2f348c280433bc516987178": {
      "model_module": "@jupyter-widgets/controls",
      "model_module_version": "1.5.0",
      "model_name": "DescriptionStyleModel",
      "state": {
       "description_width": ""
      }
     },
     "42f3a00bfbad490c99467d3949dc8f46": {
      "model_module": "@jupyter-widgets/base",
      "model_module_version": "1.2.0",
      "model_name": "LayoutModel",
      "state": {
       "flex": "auto 0 0",
       "height": "3em",
       "width": "7em"
      }
     },
     "433435df758b4fb4921547a9ccb25b5f": {
      "model_module": "@jupyter-widgets/controls",
      "model_module_version": "1.5.0",
      "model_name": "DescriptionStyleModel",
      "state": {
       "description_width": ""
      }
     },
     "440784eb2010482ab66a8566bd570a81": {
      "model_module": "@jupyter-widgets/controls",
      "model_module_version": "1.5.0",
      "model_name": "DescriptionStyleModel",
      "state": {
       "description_width": ""
      }
     },
     "440c98927f1842738bd1644a8e9a0e58": {
      "model_module": "@jupyter-widgets/controls",
      "model_module_version": "1.5.0",
      "model_name": "BoxModel",
      "state": {
       "children": [
        "IPY_MODEL_395bf992c9994569b04a401de9e96789",
        "IPY_MODEL_cd37b59273b640fa84f1263515a53fdd"
       ],
       "layout": "IPY_MODEL_d006af3353604d12bc3ff75dfc01c7e6"
      }
     },
     "441e645a369143d9bbe93e5257055b80": {
      "model_module": "@jupyter-widgets/controls",
      "model_module_version": "1.5.0",
      "model_name": "HTMLModel",
      "state": {
       "layout": "IPY_MODEL_050aee8bc2c2473294aa146ac5c55a1b",
       "style": "IPY_MODEL_bad3e2a1bc044e38901fc0505e22ae47",
       "value": "<a\n  class=\"txtu hbo\"\n  href=\"https://shebanq.ancient-data.org/hebrew/word?version=2021&amp;id=1RACJTn\"\n  target=\"_blank\"\n  title=\"Show this on SHEBANQ\">\n        <span class=\"txtp\">\n         rēšˌîṯ\n        </span>\n       </a>"
      }
     },
     "441e801fca66420f85d4241932cb2a32": {
      "model_module": "@jupyter-widgets/controls",
      "model_module_version": "1.5.0",
      "model_name": "DescriptionStyleModel",
      "state": {
       "description_width": ""
      }
     },
     "444f47fe753e410b9f4aae383bbccdff": {
      "model_module": "@jupyter-widgets/base",
      "model_module_version": "1.2.0",
      "model_name": "LayoutModel",
      "state": {
       "flex": "auto 0 0"
      }
     },
     "4473067845a9401c9e83c1ad60b7f3a6": {
      "model_module": "@jupyter-widgets/controls",
      "model_module_version": "1.5.0",
      "model_name": "TextModel",
      "state": {
       "description": "pdp=",
       "layout": "IPY_MODEL_e45d22484d7e419fa4a744108874d785",
       "placeholder": "pdp",
       "style": "IPY_MODEL_7b79d158d46949ff88e2f553d89d7840",
       "value": "prep"
      }
     },
     "4518a09fdca24fbd86d51a7c5dcf0d4f": {
      "model_module": "@jupyter-widgets/base",
      "model_module_version": "1.2.0",
      "model_name": "LayoutModel",
      "state": {
       "flex": "auto 1 1",
       "height": "3em"
      }
     },
     "4543f41f98884cbbaa188a33a7bad8db": {
      "model_module": "@jupyter-widgets/controls",
      "model_module_version": "1.5.0",
      "model_name": "BoxModel",
      "state": {
       "children": [
        "IPY_MODEL_37d479ec3b9e43d397a2817dd6658ade",
        "IPY_MODEL_bc7861be95224ffabcd93a738c16968d"
       ],
       "layout": "IPY_MODEL_16d34dc5fe354ba58d392a41eceb22da"
      }
     },
     "4549c5570f0e46ee96fcabf6300bd250": {
      "model_module": "@jupyter-widgets/controls",
      "model_module_version": "1.5.0",
      "model_name": "HTMLModel",
      "state": {
       "layout": "IPY_MODEL_4be66476b9ff43fca6373530fb37bf95",
       "style": "IPY_MODEL_8b9466f37b4849e18dfe26df6daead90",
       "value": "<a\n  class=\"txtu hbo\"\n  href=\"https://shebanq.ancient-data.org/hebrew/word?version=2021&amp;id=1B\"\n  target=\"_blank\"\n  title=\"Show this on SHEBANQ\">\n        <span class=\"txtp\">\n         bᵊ\n        </span>\n       </a>"
      }
     },
     "455a5e2cc49242e0a6f289f4ed7fb496": {
      "model_module": "@jupyter-widgets/controls",
      "model_module_version": "1.5.0",
      "model_name": "DescriptionStyleModel",
      "state": {
       "description_width": ""
      }
     },
     "455f102b6dc54c63a4f8024472a57e51": {
      "model_module": "@jupyter-widgets/base",
      "model_module_version": "1.2.0",
      "model_name": "LayoutModel",
      "state": {
       "flex": "auto 0 0"
      }
     },
     "4573a2ab0aa84066b7a68b60e4ffc9fe": {
      "model_module": "@jupyter-widgets/controls",
      "model_module_version": "1.5.0",
      "model_name": "BoxModel",
      "state": {
       "children": [
        "IPY_MODEL_b03491f144504072acb4338a5815c412",
        "IPY_MODEL_5b3d80bfab9b4f8490f6086ea5969a18"
       ],
       "layout": "IPY_MODEL_c57351d077834e7f9c80ff0721ae318f"
      }
     },
     "45a51f8cac6940e2a91ef26ad7f3cb32": {
      "model_module": "@jupyter-widgets/controls",
      "model_module_version": "1.5.0",
      "model_name": "BoxModel",
      "state": {
       "children": [
        "IPY_MODEL_6f6a6a8a98d44deead733c06f6f2f6a0",
        "IPY_MODEL_aba7e0a8942d4a35b3509541c5007813",
        "IPY_MODEL_69744ed917d44c1f9e2072091b6c1b02"
       ],
       "layout": "IPY_MODEL_f5e3e582737141db90b2db5946578f9d"
      }
     },
     "45e59c45fd864274ba85bd508565a89c": {
      "model_module": "@jupyter-widgets/base",
      "model_module_version": "1.2.0",
      "model_name": "LayoutModel",
      "state": {
       "align_content": "flex-start",
       "min_height": "300%"
      }
     },
     "476fdbf889ff495885d42f66772c75be": {
      "model_module": "@jupyter-widgets/base",
      "model_module_version": "1.2.0",
      "model_name": "LayoutModel",
      "state": {
       "flex": "auto 0 0"
      }
     },
     "47aa242da6384c6f9bc981c27b096204": {
      "model_module": "@jupyter-widgets/base",
      "model_module_version": "1.2.0",
      "model_name": "LayoutModel",
      "state": {
       "flex": "auto 0 0",
       "height": "3em",
       "width": "10em"
      }
     },
     "47da25a846ca460eae62c4ff3864311b": {
      "model_module": "@jupyter-widgets/base",
      "model_module_version": "1.2.0",
      "model_name": "LayoutModel",
      "state": {
       "align_content": "flex-start",
       "align_items": "flex-start",
       "flex": "auto 0 0",
       "height": "3em",
       "justify_content": "flex-start",
       "width": "15em"
      }
     },
     "48197631fe5b44ab9ed6c09e1f65d71b": {
      "model_module": "@jupyter-widgets/controls",
      "model_module_version": "1.5.0",
      "model_name": "DescriptionStyleModel",
      "state": {
       "description_width": ""
      }
     },
     "4839d36afc9842b390989f431ce6acbe": {
      "model_module": "@jupyter-widgets/controls",
      "model_module_version": "1.5.0",
      "model_name": "DescriptionStyleModel",
      "state": {
       "description_width": ""
      }
     },
     "485b035e30da4b71a72ee3424e73425b": {
      "model_module": "@jupyter-widgets/controls",
      "model_module_version": "1.5.0",
      "model_name": "DescriptionStyleModel",
      "state": {
       "description_width": ""
      }
     },
     "489dbe7c23d043daad0703608df4b452": {
      "model_module": "@jupyter-widgets/base",
      "model_module_version": "1.2.0",
      "model_name": "LayoutModel",
      "state": {
       "flex": "auto 0 0",
       "width": "7em"
      }
     },
     "48a51df40cd44f50a1252eed14eb3671": {
      "model_module": "@jupyter-widgets/base",
      "model_module_version": "1.2.0",
      "model_name": "LayoutModel",
      "state": {
       "flex": "auto 1 1",
       "height": "4em"
      }
     },
     "48a6c115bb7f426aa13887145be953ff": {
      "model_module": "@jupyter-widgets/controls",
      "model_module_version": "1.5.0",
      "model_name": "TextModel",
      "state": {
       "layout": "IPY_MODEL_b57929a984484e388bab2766454f9343",
       "placeholder": "pdp",
       "style": "IPY_MODEL_5295b77ec7a64b88bfe68a05ecf48cab",
       "value": "prep"
      }
     },
     "48caadac771e4e108d73af40ac704556": {
      "model_module": "@jupyter-widgets/base",
      "model_module_version": "1.2.0",
      "model_name": "LayoutModel",
      "state": {
       "flex": "auto 0 0",
       "height": "3em",
       "width": "15em"
      }
     },
     "48dc69e00006489cab4b115f4e4f988b": {
      "model_module": "@jupyter-widgets/base",
      "model_module_version": "1.2.0",
      "model_name": "LayoutModel",
      "state": {
       "flex": "auto 0 0",
       "height": "3em",
       "width": "15em"
      }
     },
     "492a41de4c794e05a4c3b49726157d34": {
      "model_module": "@jupyter-widgets/controls",
      "model_module_version": "1.5.0",
      "model_name": "TextModel",
      "state": {
       "layout": "IPY_MODEL_d63633c2a26140cd9ab82a7387f842f1",
       "placeholder": "gloss",
       "style": "IPY_MODEL_f464b68ee3504bdebb07776e440fc046",
       "value": "in"
      }
     },
     "4933c10a534643a78984af5729118699": {
      "model_module": "@jupyter-widgets/controls",
      "model_module_version": "1.5.0",
      "model_name": "TextModel",
      "state": {
       "layout": "IPY_MODEL_a3920d983764424f87036295f23ded20",
       "placeholder": "gloss",
       "style": "IPY_MODEL_29b71a8ed30940b491452ecc716ad762",
       "value": "in"
      }
     },
     "4995604c42ae413bac8e80a825726ffd": {
      "model_module": "@jupyter-widgets/controls",
      "model_module_version": "1.5.0",
      "model_name": "TextModel",
      "state": {
       "layout": "IPY_MODEL_9f3fc02dc7ab4cc2819fb034ace2fcc8",
       "placeholder": "pdp",
       "style": "IPY_MODEL_ff1a12c90182400fab4d1ff25bbf9df5",
       "value": "prep"
      }
     },
     "49f7bf751a2f4994bdc1594afd909b04": {
      "model_module": "@jupyter-widgets/controls",
      "model_module_version": "1.5.0",
      "model_name": "DescriptionStyleModel",
      "state": {
       "description_width": ""
      }
     },
     "4a560c0b5256454cbd4f7f7e65b304ed": {
      "model_module": "@jupyter-widgets/controls",
      "model_module_version": "1.5.0",
      "model_name": "TextModel",
      "state": {
       "description": "pdp=",
       "layout": "IPY_MODEL_a4505a283a4043cc805496cdedd0c656",
       "placeholder": "pdp",
       "style": "IPY_MODEL_42a2e4d6d2f348c280433bc516987178",
       "value": "subs"
      }
     },
     "4ad201b2990047cab500a1e3f2dacefe": {
      "model_module": "@jupyter-widgets/controls",
      "model_module_version": "1.5.0",
      "model_name": "TextModel",
      "state": {
       "layout": "IPY_MODEL_9f3fc02dc7ab4cc2819fb034ace2fcc8",
       "placeholder": "gloss",
       "style": "IPY_MODEL_99ea6f6278f74b7b9ce2a595400c11d4",
       "value": "in"
      }
     },
     "4ad64b5a5f754ff392cee6ea02459cea": {
      "model_module": "@jupyter-widgets/controls",
      "model_module_version": "1.5.0",
      "model_name": "BoxModel",
      "state": {
       "children": [
        "IPY_MODEL_f907efe4044f49a18c0a39f8307d0283",
        "IPY_MODEL_4f787f7123a64488867a9d09af94a875",
        "IPY_MODEL_2e05042d0f154989ae06357c1b8114ac"
       ],
       "layout": "IPY_MODEL_6398afe452bf4710b9e65d372df2ce8c"
      }
     },
     "4adc180063254e40b95b7f23f19e9eb4": {
      "model_module": "@jupyter-widgets/controls",
      "model_module_version": "1.5.0",
      "model_name": "DescriptionStyleModel",
      "state": {
       "description_width": ""
      }
     },
     "4adf1be32afd46f68b29b8c8d24f71e2": {
      "model_module": "@jupyter-widgets/controls",
      "model_module_version": "1.5.0",
      "model_name": "DescriptionStyleModel",
      "state": {
       "description_width": ""
      }
     },
     "4b43114eeff542509db5aa279deadbe6": {
      "model_module": "@jupyter-widgets/controls",
      "model_module_version": "1.5.0",
      "model_name": "HTMLModel",
      "state": {
       "layout": "IPY_MODEL_40f5127d51594065b9edd50a70d4eab9",
       "style": "IPY_MODEL_cb619e051958470d8ed45782099be929",
       "value": "pdp="
      }
     },
     "4be66476b9ff43fca6373530fb37bf95": {
      "model_module": "@jupyter-widgets/base",
      "model_module_version": "1.2.0",
      "model_name": "LayoutModel",
      "state": {
       "flex": "auto 0 0"
      }
     },
     "4c3f3b8dda1f4ee180cab21643516fdf": {
      "model_module": "@jupyter-widgets/controls",
      "model_module_version": "1.5.0",
      "model_name": "DescriptionStyleModel",
      "state": {
       "description_width": ""
      }
     },
     "4d875b8f64b54a078c02d62840a40794": {
      "model_module": "@jupyter-widgets/controls",
      "model_module_version": "1.5.0",
      "model_name": "HTMLModel",
      "state": {
       "layout": "IPY_MODEL_ce9e96c3a70949f4b9b402e71cc8f8bf",
       "style": "IPY_MODEL_4ec7cdd146a44754ab2775db19aeab6f",
       "value": "<a\n  class=\"txtu hbo\"\n  href=\"https://shebanq.ancient-data.org/hebrew/word?version=2021&amp;id=1B\"\n  target=\"_blank\"\n  title=\"Show this on SHEBANQ\">\n        <span class=\"txtp\">\n         bᵊ\n        </span>\n       </a>"
      }
     },
     "4d87cbf1354d478fb2a0ba4df8f1ee8a": {
      "model_module": "@jupyter-widgets/controls",
      "model_module_version": "1.5.0",
      "model_name": "DescriptionStyleModel",
      "state": {
       "description_width": ""
      }
     },
     "4ddbb12db5eb4b85965a8500fe4a068c": {
      "model_module": "@jupyter-widgets/controls",
      "model_module_version": "1.5.0",
      "model_name": "DescriptionStyleModel",
      "state": {
       "description_width": ""
      }
     },
     "4e05aa85cdf7425484e0b1bcedd6d117": {
      "model_module": "@jupyter-widgets/controls",
      "model_module_version": "1.5.0",
      "model_name": "DescriptionStyleModel",
      "state": {
       "description_width": ""
      }
     },
     "4e17b095a544432a898adeeb08130231": {
      "model_module": "@jupyter-widgets/controls",
      "model_module_version": "1.5.0",
      "model_name": "TextModel",
      "state": {
       "layout": "IPY_MODEL_868f19a322eb49abb7f68c359442dcd7",
       "placeholder": "gloss",
       "style": "IPY_MODEL_0f2ecebb34bd41cabfb28ffcf96cd913",
       "value": "beginning"
      }
     },
     "4e270fffdcb840238725b0840a30aa2f": {
      "model_module": "@jupyter-widgets/base",
      "model_module_version": "1.2.0",
      "model_name": "LayoutModel",
      "state": {}
     },
     "4e5c7f73ce0945d4b76f8ec7bdf3f581": {
      "model_module": "@jupyter-widgets/controls",
      "model_module_version": "1.5.0",
      "model_name": "BoxModel",
      "state": {
       "children": [
        "IPY_MODEL_52c0aebb5d9d431abf3e12f064cb7161",
        "IPY_MODEL_4933c10a534643a78984af5729118699"
       ],
       "layout": "IPY_MODEL_4ec5164b43e142c2b57b1fbcacc24ac8"
      }
     },
     "4ea0f939db6446018136457a4f119e1e": {
      "model_module": "@jupyter-widgets/base",
      "model_module_version": "1.2.0",
      "model_name": "LayoutModel",
      "state": {
       "border": "2px solid gray",
       "flex": "auto 1 1",
       "flex_flow": "column"
      }
     },
     "4eb47bb059da4ef8a1dff5813abd56b6": {
      "model_module": "@jupyter-widgets/base",
      "model_module_version": "1.2.0",
      "model_name": "LayoutModel",
      "state": {
       "flex": "auto 0 0"
      }
     },
     "4ec5164b43e142c2b57b1fbcacc24ac8": {
      "model_module": "@jupyter-widgets/base",
      "model_module_version": "1.2.0",
      "model_name": "LayoutModel",
      "state": {
       "align_content": "flex-start",
       "align_items": "flex-start",
       "border": "2px solid gray",
       "flex_flow": "column",
       "justify_content": "flex-start"
      }
     },
     "4ec7cdd146a44754ab2775db19aeab6f": {
      "model_module": "@jupyter-widgets/controls",
      "model_module_version": "1.5.0",
      "model_name": "DescriptionStyleModel",
      "state": {
       "description_width": ""
      }
     },
     "4f453a88a0ac48b58e5a069121077f65": {
      "model_module": "@jupyter-widgets/base",
      "model_module_version": "1.2.0",
      "model_name": "LayoutModel",
      "state": {
       "align_content": "flex-start"
      }
     },
     "4f787f7123a64488867a9d09af94a875": {
      "model_module": "@jupyter-widgets/controls",
      "model_module_version": "1.5.0",
      "model_name": "TextModel",
      "state": {
       "layout": "IPY_MODEL_c040c937b6084ea18c5ef40ac3f4e422",
       "placeholder": "gloss",
       "style": "IPY_MODEL_77cbd2c4ff6443ce9043a7bce9aab5ac",
       "value": "in"
      }
     },
     "50416c53fdb04bfaae929eba65eeea22": {
      "model_module": "@jupyter-widgets/base",
      "model_module_version": "1.2.0",
      "model_name": "LayoutModel",
      "state": {}
     },
     "5295b77ec7a64b88bfe68a05ecf48cab": {
      "model_module": "@jupyter-widgets/controls",
      "model_module_version": "1.5.0",
      "model_name": "DescriptionStyleModel",
      "state": {
       "description_width": ""
      }
     },
     "52c0aebb5d9d431abf3e12f064cb7161": {
      "model_module": "@jupyter-widgets/controls",
      "model_module_version": "1.5.0",
      "model_name": "HTMLModel",
      "state": {
       "layout": "IPY_MODEL_28b1f79a47c84f058721d1d3a6159228",
       "style": "IPY_MODEL_d1b667401f304872a5294bc489ec7b84",
       "value": "<a\n  class=\"txtu hbo\"\n  href=\"https://shebanq.ancient-data.org/hebrew/word?version=2021&amp;id=1B\"\n  target=\"_blank\"\n  title=\"Show this on SHEBANQ\">\n        <span class=\"txtp\">\n         bᵊ\n        </span>\n       </a>"
      }
     },
     "5389f54636ad43d7b79fd6ed1bf2fe04": {
      "model_module": "@jupyter-widgets/controls",
      "model_module_version": "1.5.0",
      "model_name": "DescriptionStyleModel",
      "state": {
       "description_width": ""
      }
     },
     "53bdb4d206c24663aebba6f8c64a8978": {
      "model_module": "@jupyter-widgets/base",
      "model_module_version": "1.2.0",
      "model_name": "LayoutModel",
      "state": {
       "flex": "auto 0 0"
      }
     },
     "54f46b5dcfee4a1592d684de2b2f56ec": {
      "model_module": "@jupyter-widgets/controls",
      "model_module_version": "1.5.0",
      "model_name": "DescriptionStyleModel",
      "state": {
       "description_width": ""
      }
     },
     "5505dbdc9dc6410784ad236d7e87f1ce": {
      "model_module": "@jupyter-widgets/base",
      "model_module_version": "1.2.0",
      "model_name": "LayoutModel",
      "state": {}
     },
     "55447148210848e1978b2cfb348fcd9b": {
      "model_module": "@jupyter-widgets/controls",
      "model_module_version": "1.5.0",
      "model_name": "DescriptionStyleModel",
      "state": {
       "description_width": ""
      }
     },
     "555639b7522847e8aa0e36e75eca69c7": {
      "model_module": "@jupyter-widgets/controls",
      "model_module_version": "1.5.0",
      "model_name": "HTMLModel",
      "state": {
       "layout": "IPY_MODEL_29f4ecd78474492f80ed61812a6ff7ba",
       "style": "IPY_MODEL_acf956568c634e1699eca6ab1b290ed8",
       "value": "<a\n  class=\"txtu hbo\"\n  href=\"https://shebanq.ancient-data.org/hebrew/word?version=2021&amp;id=1B\"\n  target=\"_blank\"\n  title=\"Show this on SHEBANQ\">\n        <span class=\"txtp\">\n         bᵊ\n        </span>\n       </a>"
      }
     },
     "559199b1641b432d87868525e7c0df75": {
      "model_module": "@jupyter-widgets/base",
      "model_module_version": "1.2.0",
      "model_name": "LayoutModel",
      "state": {
       "align_content": "flex-start",
       "min_height": "200%"
      }
     },
     "55f8e4116ef14e95817c6c3ec84310dc": {
      "model_module": "@jupyter-widgets/controls",
      "model_module_version": "1.5.0",
      "model_name": "DescriptionStyleModel",
      "state": {
       "description_width": ""
      }
     },
     "5627726b4f8844cb918d9bdfc19a4a69": {
      "model_module": "@jupyter-widgets/controls",
      "model_module_version": "1.5.0",
      "model_name": "TextModel",
      "state": {
       "description": "pdp=",
       "layout": "IPY_MODEL_5a571b7d267e4046bed4a3fe8d41bcce",
       "placeholder": "pdp",
       "style": "IPY_MODEL_03cd6586787346cbb242ce8eaa0672a8",
       "value": "subs"
      }
     },
     "565f0f05b2054a96a9d94ae06d186e42": {
      "model_module": "@jupyter-widgets/controls",
      "model_module_version": "1.5.0",
      "model_name": "TextModel",
      "state": {
       "layout": "IPY_MODEL_2db5b121c8ab4cde9810d9b1052aadc9",
       "placeholder": "pdp",
       "style": "IPY_MODEL_72f410145c7440dcab760572c2ceacf1",
       "value": "prep"
      }
     },
     "5698ff2a95ff4f158a1e548a98565957": {
      "model_module": "@jupyter-widgets/controls",
      "model_module_version": "1.5.0",
      "model_name": "HTMLModel",
      "state": {
       "layout": "IPY_MODEL_d277d8985c6f4f3aadd87556bb2c81e2",
       "style": "IPY_MODEL_7d6f6e5c72814e64b4e279b877c9cc3c",
       "value": "<a\n  class=\"txtu hbo\"\n  href=\"https://shebanq.ancient-data.org/hebrew/word?version=2021&amp;id=1B\"\n  target=\"_blank\"\n  title=\"Show this on SHEBANQ\">\n        <span class=\"txtp\">\n         bᵊ\n        </span>\n       </a>"
      }
     },
     "56c2a9f996c0491d91f91b75316774ba": {
      "model_module": "@jupyter-widgets/controls",
      "model_module_version": "1.5.0",
      "model_name": "DescriptionStyleModel",
      "state": {
       "description_width": ""
      }
     },
     "56ea6aba11eb4267bf4bf20002ab594d": {
      "model_module": "@jupyter-widgets/controls",
      "model_module_version": "1.5.0",
      "model_name": "TextModel",
      "state": {
       "layout": "IPY_MODEL_91017e10dcf94f8cb09bbadda22777d8",
       "placeholder": "gloss",
       "style": "IPY_MODEL_c2e72fe2f0894fcaa214848ad8ead87b",
       "value": "in"
      }
     },
     "56ec0dc7a3d045a7a16613e61ef96a2c": {
      "model_module": "@jupyter-widgets/controls",
      "model_module_version": "1.5.0",
      "model_name": "TextModel",
      "state": {
       "layout": "IPY_MODEL_5a571b7d267e4046bed4a3fe8d41bcce",
       "placeholder": "gloss",
       "style": "IPY_MODEL_66cc8e3424534d0d94d10a2641845af8",
       "value": "in"
      }
     },
     "56fd41da36614a12acd32872e8c56618": {
      "model_module": "@jupyter-widgets/controls",
      "model_module_version": "1.5.0",
      "model_name": "TextModel",
      "state": {
       "layout": "IPY_MODEL_47da25a846ca460eae62c4ff3864311b",
       "placeholder": "gloss",
       "style": "IPY_MODEL_4e05aa85cdf7425484e0b1bcedd6d117",
       "value": "in"
      }
     },
     "5701d8507899465c9e4dd8045bafe01c": {
      "model_module": "@jupyter-widgets/base",
      "model_module_version": "1.2.0",
      "model_name": "LayoutModel",
      "state": {
       "border": "2px solid gray",
       "flex_flow": "column",
       "width": "20em"
      }
     },
     "57562b831e4f4858994923f042ff92e8": {
      "model_module": "@jupyter-widgets/controls",
      "model_module_version": "1.5.0",
      "model_name": "DescriptionStyleModel",
      "state": {
       "description_width": ""
      }
     },
     "5799a4d5904b4682aa5a9f35805f92d5": {
      "model_module": "@jupyter-widgets/controls",
      "model_module_version": "1.5.0",
      "model_name": "HTMLModel",
      "state": {
       "layout": "IPY_MODEL_da1347b052404b5ca4853cf37a5e0c24",
       "style": "IPY_MODEL_084d81fc81e547f0a009a6d5c8150918",
       "value": "<a\n  class=\"txtu hbo\"\n  href=\"https://shebanq.ancient-data.org/hebrew/word?version=2021&amp;id=1B\"\n  target=\"_blank\"\n  title=\"Show this on SHEBANQ\">\n        <span class=\"txtp\">\n         bᵊ\n        </span>\n       </a>"
      }
     },
     "5816ef2f7a7d47188d65a21896f6158c": {
      "model_module": "@jupyter-widgets/base",
      "model_module_version": "1.2.0",
      "model_name": "LayoutModel",
      "state": {
       "flex": "auto 0 0",
       "height": "3em",
       "width": "15em"
      }
     },
     "586f76bf683145d2960ed924cb2921e2": {
      "model_module": "@jupyter-widgets/controls",
      "model_module_version": "1.5.0",
      "model_name": "DescriptionStyleModel",
      "state": {
       "description_width": ""
      }
     },
     "59540a653ef641c489d4b050df77025c": {
      "model_module": "@jupyter-widgets/controls",
      "model_module_version": "1.5.0",
      "model_name": "DescriptionStyleModel",
      "state": {
       "description_width": ""
      }
     },
     "59b80bc482f94b60b10f8d0d0ae057f6": {
      "model_module": "@jupyter-widgets/controls",
      "model_module_version": "1.5.0",
      "model_name": "DescriptionStyleModel",
      "state": {
       "description_width": ""
      }
     },
     "59ca8dcc67144ae9ad4d5c9bd152f9fd": {
      "model_module": "@jupyter-widgets/controls",
      "model_module_version": "1.5.0",
      "model_name": "HTMLModel",
      "state": {
       "layout": "IPY_MODEL_b56308962fea416b83bf07c41fd9d073",
       "style": "IPY_MODEL_1d1af6163fad4c1fbefa54d47933b4fe",
       "value": "<a\n  class=\"txtu hbo\"\n  href=\"https://shebanq.ancient-data.org/hebrew/word?version=2021&amp;id=1B\"\n  target=\"_blank\"\n  title=\"Show this on SHEBANQ\">\n        <span class=\"txtp\">\n         bᵊ\n        </span>\n       </a>"
      }
     },
     "5a226d490a5e4babab9a7457a9c606e0": {
      "model_module": "@jupyter-widgets/controls",
      "model_module_version": "1.5.0",
      "model_name": "HTMLModel",
      "state": {
       "layout": "IPY_MODEL_1e0a98c7be1d45338ab44ecb70f14f78",
       "style": "IPY_MODEL_57562b831e4f4858994923f042ff92e8",
       "value": "pdp="
      }
     },
     "5a3c16bbd673432da434b15baf0180f4": {
      "model_module": "@jupyter-widgets/controls",
      "model_module_version": "1.5.0",
      "model_name": "DescriptionStyleModel",
      "state": {
       "description_width": ""
      }
     },
     "5a43dbaec1cb4c97afb7a262026ef8fc": {
      "model_module": "@jupyter-widgets/controls",
      "model_module_version": "1.5.0",
      "model_name": "BoxModel",
      "state": {
       "children": [
        "IPY_MODEL_1106e4e5d1b84693985453d04d7013a5",
        "IPY_MODEL_b3b6064833c7410b9d25228821263d81"
       ],
       "layout": "IPY_MODEL_8379e870525347ea911d92a63f4e1eeb"
      }
     },
     "5a571b7d267e4046bed4a3fe8d41bcce": {
      "model_module": "@jupyter-widgets/base",
      "model_module_version": "1.2.0",
      "model_name": "LayoutModel",
      "state": {
       "align_items": "flex-start",
       "flex": "auto 0 0",
       "height": "3em",
       "justify_content": "flex-start",
       "width": "15em"
      }
     },
     "5a9879fdddd94ac9940921049b9e4284": {
      "model_module": "@jupyter-widgets/controls",
      "model_module_version": "1.5.0",
      "model_name": "BoxModel",
      "state": {
       "children": [
        "IPY_MODEL_5d30cb6228574c7a82f82ce2ee809c66",
        "IPY_MODEL_9e19eac2dc58496db1edc15f5cd41b56"
       ],
       "layout": "IPY_MODEL_b746309460054cde9f33d814531a7cc3"
      }
     },
     "5b3d80bfab9b4f8490f6086ea5969a18": {
      "model_module": "@jupyter-widgets/controls",
      "model_module_version": "1.5.0",
      "model_name": "TextModel",
      "state": {
       "layout": "IPY_MODEL_91017e10dcf94f8cb09bbadda22777d8",
       "placeholder": "pdp",
       "style": "IPY_MODEL_87d0ac99016949a38f31befc6ae09ac9",
       "value": "prep"
      }
     },
     "5bebe67090864475baebbe8de16f5808": {
      "model_module": "@jupyter-widgets/controls",
      "model_module_version": "1.5.0",
      "model_name": "DescriptionStyleModel",
      "state": {
       "description_width": ""
      }
     },
     "5c10e76e75aa40c387df50aa845660af": {
      "model_module": "@jupyter-widgets/base",
      "model_module_version": "1.2.0",
      "model_name": "LayoutModel",
      "state": {
       "align_content": "flex-start",
       "align_items": "flex-start",
       "border": "2px solid gray",
       "flex_flow": "column",
       "justify_content": "flex-start",
       "width": "30em"
      }
     },
     "5c6488fef0424a2abd9713e1c16d40d2": {
      "model_module": "@jupyter-widgets/controls",
      "model_module_version": "1.5.0",
      "model_name": "DescriptionStyleModel",
      "state": {
       "description_width": ""
      }
     },
     "5c8a53ffced4434f9f14830485a17e75": {
      "model_module": "@jupyter-widgets/controls",
      "model_module_version": "1.5.0",
      "model_name": "DescriptionStyleModel",
      "state": {
       "description_width": ""
      }
     },
     "5d12f4ca745b4e68b60492c84204011f": {
      "model_module": "@jupyter-widgets/controls",
      "model_module_version": "1.5.0",
      "model_name": "DescriptionStyleModel",
      "state": {
       "description_width": ""
      }
     },
     "5d30cb6228574c7a82f82ce2ee809c66": {
      "model_module": "@jupyter-widgets/controls",
      "model_module_version": "1.5.0",
      "model_name": "HTMLModel",
      "state": {
       "layout": "IPY_MODEL_d7c812795f8046faa4a48c8927b868c0",
       "style": "IPY_MODEL_ff5ff4117b254f2a899f35ff7d0f3a88",
       "value": "pdp="
      }
     },
     "5dd96432ac05415b9fced08e42756dae": {
      "model_module": "@jupyter-widgets/controls",
      "model_module_version": "1.5.0",
      "model_name": "TextModel",
      "state": {
       "layout": "IPY_MODEL_91017e10dcf94f8cb09bbadda22777d8",
       "placeholder": "gloss",
       "style": "IPY_MODEL_cecbe0bc91e14019ac7ab6e1cf561c86",
       "value": "beginning"
      }
     },
     "5e1aa557302e4ab3a663a49b3a68eb8a": {
      "model_module": "@jupyter-widgets/controls",
      "model_module_version": "1.5.0",
      "model_name": "TextModel",
      "state": {
       "layout": "IPY_MODEL_0df7ba1410184b9b8836eaaf0b31860e",
       "placeholder": "pdp",
       "style": "IPY_MODEL_d683bf1a83624470ac04137ccfa40099",
       "value": "prep"
      }
     },
     "5fc6d2624e5f4d8c8459d2b7980154f4": {
      "model_module": "@jupyter-widgets/base",
      "model_module_version": "1.2.0",
      "model_name": "LayoutModel",
      "state": {
       "align_content": "flex-start"
      }
     },
     "5fff2da3c0f54deea06922b91ad71db1": {
      "model_module": "@jupyter-widgets/controls",
      "model_module_version": "1.5.0",
      "model_name": "DescriptionStyleModel",
      "state": {
       "description_width": ""
      }
     },
     "602ced21fdbb4af39910b9ca12e4a0a2": {
      "model_module": "@jupyter-widgets/controls",
      "model_module_version": "1.5.0",
      "model_name": "DescriptionStyleModel",
      "state": {
       "description_width": ""
      }
     },
     "60407a7c1bb84788a037c41a60ac4c6a": {
      "model_module": "@jupyter-widgets/base",
      "model_module_version": "1.2.0",
      "model_name": "LayoutModel",
      "state": {}
     },
     "605d42f82a214a5d94fadebc54b30cd0": {
      "model_module": "@jupyter-widgets/controls",
      "model_module_version": "1.5.0",
      "model_name": "DescriptionStyleModel",
      "state": {
       "description_width": ""
      }
     },
     "608eaa4c7f564e008a6bc77efe42d1c2": {
      "model_module": "@jupyter-widgets/controls",
      "model_module_version": "1.5.0",
      "model_name": "DescriptionStyleModel",
      "state": {
       "description_width": ""
      }
     },
     "60a3588498d847db86f85a9febdbf245": {
      "model_module": "@jupyter-widgets/controls",
      "model_module_version": "1.5.0",
      "model_name": "TextModel",
      "state": {
       "description": "pdp=",
       "layout": "IPY_MODEL_701bff399ba746859cd528ec52d8f7d0",
       "placeholder": "pdp",
       "style": "IPY_MODEL_441e801fca66420f85d4241932cb2a32",
       "value": "subs"
      }
     },
     "60bcb0dd994d453eac8af211503db9a2": {
      "model_module": "@jupyter-widgets/base",
      "model_module_version": "1.2.0",
      "model_name": "LayoutModel",
      "state": {
       "align_content": "flex-start"
      }
     },
     "613486fff40b4c059d63d396efa7321a": {
      "model_module": "@jupyter-widgets/base",
      "model_module_version": "1.2.0",
      "model_name": "LayoutModel",
      "state": {
       "align_content": "flex-start",
       "align_items": "flex-start",
       "border": "2px solid gray",
       "flex_flow": "column",
       "justify_content": "flex-start",
       "width": "20em"
      }
     },
     "6143379ece294360903a8004db9f39ee": {
      "model_module": "@jupyter-widgets/controls",
      "model_module_version": "1.5.0",
      "model_name": "DescriptionStyleModel",
      "state": {
       "description_width": ""
      }
     },
     "614a37f9706c4b0ba20993ea929a653f": {
      "model_module": "@jupyter-widgets/controls",
      "model_module_version": "1.5.0",
      "model_name": "BoxModel",
      "state": {
       "children": [
        "IPY_MODEL_81fa128b55d6497583a44a02ceab586d",
        "IPY_MODEL_d6da8c0bba3d443693d5fa4d5b7282f3"
       ],
       "layout": "IPY_MODEL_fde41e2437a449658aad412504cb83f2"
      }
     },
     "61aaab1579884f48a6c502c060fa1992": {
      "model_module": "@jupyter-widgets/controls",
      "model_module_version": "1.5.0",
      "model_name": "DescriptionStyleModel",
      "state": {
       "description_width": ""
      }
     },
     "62440deb484d440a85704098ea8e36ac": {
      "model_module": "@jupyter-widgets/controls",
      "model_module_version": "1.5.0",
      "model_name": "HTMLModel",
      "state": {
       "layout": "IPY_MODEL_85ae2a5e838a4ea8b9edd14e693ac8a5",
       "style": "IPY_MODEL_1b562e490c0d4750a9bfa441d625d5ed",
       "value": "<a\n  class=\"txtu hbo\"\n  href=\"https://shebanq.ancient-data.org/hebrew/word?version=2021&amp;id=1RACJTn\"\n  target=\"_blank\"\n  title=\"Show this on SHEBANQ\">\n        <span class=\"txtp\">\n         rēšˌîṯ\n        </span>\n       </a>"
      }
     },
     "62a9f887f75a4015bca6c1022874b4b0": {
      "model_module": "@jupyter-widgets/controls",
      "model_module_version": "1.5.0",
      "model_name": "HTMLModel",
      "state": {
       "layout": "IPY_MODEL_6a66545e55df4ecf8db104e613507546",
       "style": "IPY_MODEL_13f13936a013415ab8eef128e6a3584e",
       "value": "pdp="
      }
     },
     "62c662d5f3b94cce939805c5bf965a3b": {
      "model_module": "@jupyter-widgets/controls",
      "model_module_version": "1.5.0",
      "model_name": "BoxModel",
      "state": {
       "children": [
        "IPY_MODEL_a51a79f4203241588d9bde05c982fc14",
        "IPY_MODEL_75accf360a1b4f3890b645609b427f57"
       ],
       "layout": "IPY_MODEL_a4c0862c21474a9f9f679c8b7575e475"
      }
     },
     "62e53cccaba944f68e766806ad4869dd": {
      "model_module": "@jupyter-widgets/base",
      "model_module_version": "1.2.0",
      "model_name": "LayoutModel",
      "state": {}
     },
     "62fe667c5f95409f84caf0fabb5f194e": {
      "model_module": "@jupyter-widgets/controls",
      "model_module_version": "1.5.0",
      "model_name": "DescriptionStyleModel",
      "state": {
       "description_width": ""
      }
     },
     "63500ef51be44305997e1450c06df85e": {
      "model_module": "@jupyter-widgets/controls",
      "model_module_version": "1.5.0",
      "model_name": "DescriptionStyleModel",
      "state": {
       "description_width": ""
      }
     },
     "6369355065f144e3a1688032989be866": {
      "model_module": "@jupyter-widgets/controls",
      "model_module_version": "1.5.0",
      "model_name": "BoxModel",
      "state": {
       "children": [
        "IPY_MODEL_203a210f7f3c4624946099dd3a0b8dde",
        "IPY_MODEL_d737ceda7438486ca588b0cac4ab5367",
        "IPY_MODEL_83f52cd6266b4f558925810d99c2b1e6"
       ],
       "layout": "IPY_MODEL_3a3050020f0a4293aa99417c289889d1"
      }
     },
     "6398afe452bf4710b9e65d372df2ce8c": {
      "model_module": "@jupyter-widgets/base",
      "model_module_version": "1.2.0",
      "model_name": "LayoutModel",
      "state": {
       "align_content": "flex-start",
       "align_items": "flex-start",
       "border": "2px solid gray",
       "flex_flow": "column",
       "justify_content": "flex-start",
       "width": "20em"
      }
     },
     "63ad643db36c4d90b0f3d9c583238754": {
      "model_module": "@jupyter-widgets/controls",
      "model_module_version": "1.5.0",
      "model_name": "BoxModel",
      "state": {
       "children": [
        "IPY_MODEL_b58ca6dba1f543afaf196c398321a3b7",
        "IPY_MODEL_caaccfcfcdcf4fcab4247b080749a50e"
       ],
       "layout": "IPY_MODEL_b9f88450e951452fbb400caf2cc256c8"
      }
     },
     "63e4bb6650eb4d6e980323683e18e467": {
      "model_module": "@jupyter-widgets/controls",
      "model_module_version": "1.5.0",
      "model_name": "HTMLModel",
      "state": {
       "layout": "IPY_MODEL_b2c24a71d6014e7a943856c8bff54f17",
       "style": "IPY_MODEL_6545410de6b94c368593e10caf13264a",
       "value": "<a\n  class=\"txtu hbo\"\n  href=\"https://shebanq.ancient-data.org/hebrew/word?version=2021&amp;id=1B\"\n  target=\"_blank\"\n  title=\"Show this on SHEBANQ\">\n        <span class=\"txtp\">\n         bᵊ\n        </span>\n       </a>"
      }
     },
     "63ee337a423f45b8aa17a4a4613bb2ea": {
      "model_module": "@jupyter-widgets/controls",
      "model_module_version": "1.5.0",
      "model_name": "TextModel",
      "state": {
       "layout": "IPY_MODEL_8974ad4913aa46d1bba4a70161db8544",
       "placeholder": "gloss",
       "style": "IPY_MODEL_9dfaf1dc58c0442f9d73116a95752348",
       "value": "in"
      }
     },
     "63f8f2c8ecd2470b8de3be806755df28": {
      "model_module": "@jupyter-widgets/base",
      "model_module_version": "1.2.0",
      "model_name": "LayoutModel",
      "state": {}
     },
     "6411c481786a44c0bdfe619c06130620": {
      "model_module": "@jupyter-widgets/controls",
      "model_module_version": "1.5.0",
      "model_name": "TextModel",
      "state": {
       "layout": "IPY_MODEL_c90a5636fa4c40d196b9b56e5d8bdbfa",
       "placeholder": "gloss",
       "style": "IPY_MODEL_a0e2c9a5545349d0ab49670e8364bb80",
       "value": "in"
      }
     },
     "64129f3c3d4e467baa9e8b66637016dd": {
      "model_module": "@jupyter-widgets/controls",
      "model_module_version": "1.5.0",
      "model_name": "BoxModel",
      "state": {
       "children": [
        "IPY_MODEL_0c8491955fd7413bb7149b6e7eb95148",
        "IPY_MODEL_fe9ba9a187da4b969d1bdb23b3b66f5b",
        "IPY_MODEL_67490e239b4745bd99e2be2feffcc3a6"
       ],
       "layout": "IPY_MODEL_3a3050020f0a4293aa99417c289889d1"
      }
     },
     "6496fef5d4e84a5b95c87fb4ee7dd38d": {
      "model_module": "@jupyter-widgets/base",
      "model_module_version": "1.2.0",
      "model_name": "LayoutModel",
      "state": {
       "align_content": "flex-start",
       "align_items": "flex-start",
       "border": "2px solid gray",
       "flex_flow": "column",
       "justify_content": "flex-start"
      }
     },
     "64bdb904a3d54011afefd7919fe27a39": {
      "model_module": "@jupyter-widgets/controls",
      "model_module_version": "1.5.0",
      "model_name": "BoxModel",
      "state": {
       "children": [
        "IPY_MODEL_5698ff2a95ff4f158a1e548a98565957",
        "IPY_MODEL_9ae81130da734c77b6470a46a217cd31"
       ],
       "layout": "IPY_MODEL_caf1ae347bfc49f9b8fa662f023f759d"
      }
     },
     "6545410de6b94c368593e10caf13264a": {
      "model_module": "@jupyter-widgets/controls",
      "model_module_version": "1.5.0",
      "model_name": "DescriptionStyleModel",
      "state": {
       "description_width": ""
      }
     },
     "6574146fc3b04a54b1a3b50bc4a4354d": {
      "model_module": "@jupyter-widgets/controls",
      "model_module_version": "1.5.0",
      "model_name": "BoxModel",
      "state": {
       "children": [
        "IPY_MODEL_40f774cf01de438c90429b7a7df53994",
        "IPY_MODEL_b8b571fb85534d35b0335df5fd216d81",
        "IPY_MODEL_63ad643db36c4d90b0f3d9c583238754"
       ],
       "layout": "IPY_MODEL_09e4b8902e6a43f688ed44f7637e507c"
      }
     },
     "666b058aa39f41cba40bcb6d76af1620": {
      "model_module": "@jupyter-widgets/controls",
      "model_module_version": "1.5.0",
      "model_name": "TextModel",
      "state": {
       "layout": "IPY_MODEL_92ba247ff33945c7bdf85cf1d63b7d78",
       "placeholder": "gloss",
       "style": "IPY_MODEL_768fa22b2bca4d229b04fa0bddb3ef10",
       "value": "beginning"
      }
     },
     "6684de92e7fa4917a4c5dc8dc77890d7": {
      "model_module": "@jupyter-widgets/controls",
      "model_module_version": "1.5.0",
      "model_name": "DescriptionStyleModel",
      "state": {
       "description_width": ""
      }
     },
     "6694865109224185aa5df67788e3af89": {
      "model_module": "@jupyter-widgets/controls",
      "model_module_version": "1.5.0",
      "model_name": "HTMLModel",
      "state": {
       "layout": "IPY_MODEL_af7ecd6a505048f99af277ccd4e9414f",
       "style": "IPY_MODEL_de10d8f9903a438ea10b1bcbdd4c8658",
       "value": "<a\n  class=\"txtu hbo\"\n  href=\"https://shebanq.ancient-data.org/hebrew/word?version=2021&amp;id=1B\"\n  target=\"_blank\"\n  title=\"Show this on SHEBANQ\">\n        <span class=\"txtp\">\n         bᵊ\n        </span>\n       </a>"
      }
     },
     "66cc8e3424534d0d94d10a2641845af8": {
      "model_module": "@jupyter-widgets/controls",
      "model_module_version": "1.5.0",
      "model_name": "DescriptionStyleModel",
      "state": {
       "description_width": ""
      }
     },
     "672385c8566443229640541092b1203d": {
      "model_module": "@jupyter-widgets/base",
      "model_module_version": "1.2.0",
      "model_name": "LayoutModel",
      "state": {
       "border": "2px solid gray",
       "flex_flow": "column",
       "width": "20em"
      }
     },
     "67490e239b4745bd99e2be2feffcc3a6": {
      "model_module": "@jupyter-widgets/controls",
      "model_module_version": "1.5.0",
      "model_name": "TextModel",
      "state": {
       "description": "pdp=",
       "layout": "IPY_MODEL_42f3a00bfbad490c99467d3949dc8f46",
       "placeholder": "pdp",
       "style": "IPY_MODEL_5389f54636ad43d7b79fd6ed1bf2fe04",
       "value": "prep"
      }
     },
     "6768bf7187ce4b74807ddb4685e7ba83": {
      "model_module": "@jupyter-widgets/controls",
      "model_module_version": "1.5.0",
      "model_name": "BoxModel",
      "state": {
       "children": [
        "IPY_MODEL_7bdcb08d5cd64a2b9b87d557d7557224",
        "IPY_MODEL_3d23baf393f4476f91d9c76a15977a38",
        "IPY_MODEL_9b503bde63864e58aad52ca0228d612c"
       ],
       "layout": "IPY_MODEL_f01df8d1ad35448a8b226bf27e5e5c4a"
      }
     },
     "6786ba4c7b634f29af11ed9e3486a74b": {
      "model_module": "@jupyter-widgets/base",
      "model_module_version": "1.2.0",
      "model_name": "LayoutModel",
      "state": {
       "align_content": "flex-start",
       "min_height": "100%"
      }
     },
     "67c647bcb6af4f518be84f5fe88d6f14": {
      "model_module": "@jupyter-widgets/base",
      "model_module_version": "1.2.0",
      "model_name": "LayoutModel",
      "state": {
       "align_content": "flex-start"
      }
     },
     "69744ed917d44c1f9e2072091b6c1b02": {
      "model_module": "@jupyter-widgets/controls",
      "model_module_version": "1.5.0",
      "model_name": "TextModel",
      "state": {
       "description": "pdp=",
       "layout": "IPY_MODEL_c0143fa9d3a848138407e21dea8a2d85",
       "placeholder": "pdp",
       "style": "IPY_MODEL_4adc180063254e40b95b7f23f19e9eb4",
       "value": "prep"
      }
     },
     "69f0aec0baed47b7baa2f9c9dc4f9252": {
      "model_module": "@jupyter-widgets/base",
      "model_module_version": "1.2.0",
      "model_name": "LayoutModel",
      "state": {
       "border": "2px solid gray",
       "flex": "auto 0 0",
       "flex_flow": "column"
      }
     },
     "6a66545e55df4ecf8db104e613507546": {
      "model_module": "@jupyter-widgets/base",
      "model_module_version": "1.2.0",
      "model_name": "LayoutModel",
      "state": {}
     },
     "6b07abda18054600a5b23be74e02f051": {
      "model_module": "@jupyter-widgets/base",
      "model_module_version": "1.2.0",
      "model_name": "LayoutModel",
      "state": {
       "border": "2px solid gray",
       "flex": "auto 1 1",
       "flex_flow": "column",
       "width": "20em"
      }
     },
     "6c016230769941ab9eead016c19c80cc": {
      "model_module": "@jupyter-widgets/base",
      "model_module_version": "1.2.0",
      "model_name": "LayoutModel",
      "state": {
       "align_content": "flex-start",
       "min_height": "100%"
      }
     },
     "6c5f3b70acbb452bb497db06b4e22e15": {
      "model_module": "@jupyter-widgets/controls",
      "model_module_version": "1.5.0",
      "model_name": "HTMLModel",
      "state": {
       "layout": "IPY_MODEL_733697ed0266411ba2e49e09846f1446",
       "style": "IPY_MODEL_3b5d0d6ee36741cb8e617e02542b62ae",
       "value": "<a\n  class=\"txtu hbo\"\n  href=\"https://shebanq.ancient-data.org/hebrew/word?version=2021&amp;id=1B\"\n  target=\"_blank\"\n  title=\"Show this on SHEBANQ\">\n        <span class=\"txtp\">\n         bᵊ\n        </span>\n       </a>"
      }
     },
     "6ca6908adf0140cab23df95e72921d6a": {
      "model_module": "@jupyter-widgets/controls",
      "model_module_version": "1.5.0",
      "model_name": "DescriptionStyleModel",
      "state": {
       "description_width": ""
      }
     },
     "6cca53a970aa4d6d9dbe38205cf72608": {
      "model_module": "@jupyter-widgets/controls",
      "model_module_version": "1.5.0",
      "model_name": "HTMLModel",
      "state": {
       "layout": "IPY_MODEL_bae8de34060841c2ae8dab68e5264b85",
       "style": "IPY_MODEL_f0f6c3b4666f4049939630fefb6a63c8",
       "value": "pdp="
      }
     },
     "6d3da37bb91c4bb8a5b0a0539b3fc00b": {
      "model_module": "@jupyter-widgets/controls",
      "model_module_version": "1.5.0",
      "model_name": "HTMLModel",
      "state": {
       "layout": "IPY_MODEL_476fdbf889ff495885d42f66772c75be",
       "style": "IPY_MODEL_0c96d5fdcb9c4db5af83f5eb4ca6e69b",
       "value": "<a\n  class=\"txtu hbo\"\n  href=\"https://shebanq.ancient-data.org/hebrew/word?version=2021&amp;id=1B\"\n  target=\"_blank\"\n  title=\"Show this on SHEBANQ\">\n        <span class=\"txtp\">\n         bᵊ\n        </span>\n       </a>"
      }
     },
     "6f271149fb604d5ea5e95da102a74940": {
      "model_module": "@jupyter-widgets/base",
      "model_module_version": "1.2.0",
      "model_name": "LayoutModel",
      "state": {
       "align_content": "flex-start"
      }
     },
     "6f4522b9c2ce4bdb89d95f1fd9e02908": {
      "model_module": "@jupyter-widgets/base",
      "model_module_version": "1.2.0",
      "model_name": "LayoutModel",
      "state": {
       "flex": "auto 0 0"
      }
     },
     "6f6a6a8a98d44deead733c06f6f2f6a0": {
      "model_module": "@jupyter-widgets/controls",
      "model_module_version": "1.5.0",
      "model_name": "HTMLModel",
      "state": {
       "layout": "IPY_MODEL_a63388677fe745c08a13acdf2e54c919",
       "style": "IPY_MODEL_d1e8e764803942eaaaca8b459a09d9c2",
       "value": "<a\n  class=\"txtu hbo\"\n  href=\"https://shebanq.ancient-data.org/hebrew/word?version=2021&amp;id=1B\"\n  target=\"_blank\"\n  title=\"Show this on SHEBANQ\">\n        <span class=\"txtp\">\n         bᵊ\n        </span>\n       </a>"
      }
     },
     "6f97ebd74b944c1c9b377be22f1a9e1a": {
      "model_module": "@jupyter-widgets/controls",
      "model_module_version": "1.5.0",
      "model_name": "DescriptionStyleModel",
      "state": {
       "description_width": ""
      }
     },
     "6f9e08d63bb14e3aa482c7403e3457ac": {
      "model_module": "@jupyter-widgets/controls",
      "model_module_version": "1.5.0",
      "model_name": "TextModel",
      "state": {
       "layout": "IPY_MODEL_47da25a846ca460eae62c4ff3864311b",
       "placeholder": "gloss",
       "style": "IPY_MODEL_3202865055e2486483d555b460eeb318",
       "value": "in"
      }
     },
     "6fc66e51af6b4a7584e3caff3a40007d": {
      "model_module": "@jupyter-widgets/controls",
      "model_module_version": "1.5.0",
      "model_name": "HTMLModel",
      "state": {
       "layout": "IPY_MODEL_a67df818936b462c8004c623326ef4a3",
       "style": "IPY_MODEL_1d2b615d9bac449e88a4a3192250df9e",
       "value": "<a\n  class=\"txtu hbo\"\n  href=\"https://shebanq.ancient-data.org/hebrew/word?version=2021&amp;id=1RACJTn\"\n  target=\"_blank\"\n  title=\"Show this on SHEBANQ\">\n        <span class=\"txtp\">\n         rēšˌîṯ\n        </span>\n       </a>"
      }
     },
     "6fddb67d52ec4af3b312e6b43cb27df8": {
      "model_module": "@jupyter-widgets/controls",
      "model_module_version": "1.5.0",
      "model_name": "DescriptionStyleModel",
      "state": {
       "description_width": ""
      }
     },
     "701984dc693a48ee940575fef9945e02": {
      "model_module": "@jupyter-widgets/controls",
      "model_module_version": "1.5.0",
      "model_name": "BoxModel",
      "state": {
       "children": [
        "IPY_MODEL_ad29c8ce97964c2f80613ae2594745ad",
        "IPY_MODEL_bc3050b72a144b12b74c6843b639ff30",
        "IPY_MODEL_e60e1d60ee4a45b88bfc983c3a3c9374"
       ],
       "layout": "IPY_MODEL_db4d64d22bc24cd2b5b8ae3d9b45f14a"
      }
     },
     "701bff399ba746859cd528ec52d8f7d0": {
      "model_module": "@jupyter-widgets/base",
      "model_module_version": "1.2.0",
      "model_name": "LayoutModel",
      "state": {
       "flex": "auto 0 0",
       "height": "3em",
       "width": "15em"
      }
     },
     "70bb96bc2acd4b9a9d432fef4b7860b8": {
      "model_module": "@jupyter-widgets/base",
      "model_module_version": "1.2.0",
      "model_name": "LayoutModel",
      "state": {
       "flex": "auto 1 1"
      }
     },
     "70e35033b659422ca73c14783dfa2581": {
      "model_module": "@jupyter-widgets/base",
      "model_module_version": "1.2.0",
      "model_name": "LayoutModel",
      "state": {
       "flex": "auto 1 1",
       "height": "4em"
      }
     },
     "71070589be1a4c6d816d56ad33512ec9": {
      "model_module": "@jupyter-widgets/controls",
      "model_module_version": "1.5.0",
      "model_name": "DescriptionStyleModel",
      "state": {
       "description_width": ""
      }
     },
     "72c545194b554f778c26b4907558fa20": {
      "model_module": "@jupyter-widgets/controls",
      "model_module_version": "1.5.0",
      "model_name": "BoxModel",
      "state": {
       "children": [
        "IPY_MODEL_b3a272be3d4c4cb89b9826182bf26bcd",
        "IPY_MODEL_f0d93746b7e9429eae005b27081f9ebb",
        "IPY_MODEL_c422c3635fa9413ab8e6674545a1f5ec"
       ],
       "layout": "IPY_MODEL_1e7622a2f5a2456b8504bd11db17328a"
      }
     },
     "72f410145c7440dcab760572c2ceacf1": {
      "model_module": "@jupyter-widgets/controls",
      "model_module_version": "1.5.0",
      "model_name": "DescriptionStyleModel",
      "state": {
       "description_width": ""
      }
     },
     "733697ed0266411ba2e49e09846f1446": {
      "model_module": "@jupyter-widgets/base",
      "model_module_version": "1.2.0",
      "model_name": "LayoutModel",
      "state": {
       "flex": "auto 0 0"
      }
     },
     "73bfaa330e3f4212b92603c818693634": {
      "model_module": "@jupyter-widgets/base",
      "model_module_version": "1.2.0",
      "model_name": "LayoutModel",
      "state": {
       "border": "2px solid gray",
       "flex_flow": "column",
       "width": "20em"
      }
     },
     "73db93e12f234bb9902cc925213e61a8": {
      "model_module": "@jupyter-widgets/controls",
      "model_module_version": "1.5.0",
      "model_name": "HTMLModel",
      "state": {
       "layout": "IPY_MODEL_4be66476b9ff43fca6373530fb37bf95",
       "style": "IPY_MODEL_c045992043b941f1a3a52dc271b32451",
       "value": "<a\n  class=\"txtu hbo\"\n  href=\"https://shebanq.ancient-data.org/hebrew/word?version=2021&amp;id=1RACJTn\"\n  target=\"_blank\"\n  title=\"Show this on SHEBANQ\">\n        <span class=\"txtp\">\n         rēšˌîṯ\n        </span>\n       </a>"
      }
     },
     "7434e70ec3f346f1845ce2046836c0c7": {
      "model_module": "@jupyter-widgets/controls",
      "model_module_version": "1.5.0",
      "model_name": "DescriptionStyleModel",
      "state": {
       "description_width": ""
      }
     },
     "74d053387a254a4f862930aa08407813": {
      "model_module": "@jupyter-widgets/controls",
      "model_module_version": "1.5.0",
      "model_name": "DescriptionStyleModel",
      "state": {
       "description_width": ""
      }
     },
     "7501e93e8429427eb0fe9aafb89e0d2f": {
      "model_module": "@jupyter-widgets/controls",
      "model_module_version": "1.5.0",
      "model_name": "HTMLModel",
      "state": {
       "layout": "IPY_MODEL_85bb9077ab9d42a6bb59f7aeb1a603c3",
       "style": "IPY_MODEL_e42df5de48e54ce29cbd8c13113e223c",
       "value": "<a\n  class=\"txtu hbo\"\n  href=\"https://shebanq.ancient-data.org/hebrew/word?version=2021&amp;id=1B\"\n  target=\"_blank\"\n  title=\"Show this on SHEBANQ\">\n        <span class=\"txtp\">\n         bᵊ\n        </span>\n       </a>"
      }
     },
     "755a271414d54af38b8a51eee564ed31": {
      "model_module": "@jupyter-widgets/controls",
      "model_module_version": "1.5.0",
      "model_name": "TextModel",
      "state": {
       "layout": "IPY_MODEL_ac1f42cec5934d6287f58b0aa2e4088f",
       "placeholder": "gloss",
       "style": "IPY_MODEL_ba0fd248ddd04fe68d5f9fb19bd39ecf",
       "value": "in"
      }
     },
     "758d9ef0ec5d4d52892facbed363f368": {
      "model_module": "@jupyter-widgets/controls",
      "model_module_version": "1.5.0",
      "model_name": "TextModel",
      "state": {
       "layout": "IPY_MODEL_fd0d88aebfb14d669bd50db2088b0a8d",
       "placeholder": "gloss",
       "style": "IPY_MODEL_2cbee9bc121b416dbe0e005ca79e798a",
       "value": "beginning"
      }
     },
     "759cf936fb654dedaafc807024925fcb": {
      "model_module": "@jupyter-widgets/controls",
      "model_module_version": "1.5.0",
      "model_name": "BoxModel",
      "state": {
       "children": [
        "IPY_MODEL_058f2f13a8b0464689e5f2437169be21",
        "IPY_MODEL_06844d0343a94fff933d14471cd6ab5f",
        "IPY_MODEL_0e9bcfdda4ed4685a25467aa57800f23"
       ],
       "layout": "IPY_MODEL_9fd8cbd64ad544119e1293523e83acd9"
      }
     },
     "75accf360a1b4f3890b645609b427f57": {
      "model_module": "@jupyter-widgets/controls",
      "model_module_version": "1.5.0",
      "model_name": "BoxModel",
      "state": {
       "children": [
        "IPY_MODEL_1828a41e919f4a508544c45f6dad1caa",
        "IPY_MODEL_b7404ef74f51448ba0155607fc3d16e0",
        "IPY_MODEL_f88466e0f8ba4720b245d75689ba8067"
       ],
       "layout": "IPY_MODEL_3c5923e10375423c96b5ed12a37379ae"
      }
     },
     "762dd5ac2e9646729c85f9e71f31335c": {
      "model_module": "@jupyter-widgets/base",
      "model_module_version": "1.2.0",
      "model_name": "LayoutModel",
      "state": {}
     },
     "7671f3210c8c4197a4cdc1e4e9bff8c5": {
      "model_module": "@jupyter-widgets/base",
      "model_module_version": "1.2.0",
      "model_name": "LayoutModel",
      "state": {
       "align_content": "flex-start"
      }
     },
     "768fa22b2bca4d229b04fa0bddb3ef10": {
      "model_module": "@jupyter-widgets/controls",
      "model_module_version": "1.5.0",
      "model_name": "DescriptionStyleModel",
      "state": {
       "description_width": ""
      }
     },
     "76a5f046923246f4ba43ac94ad235365": {
      "model_module": "@jupyter-widgets/controls",
      "model_module_version": "1.5.0",
      "model_name": "HTMLModel",
      "state": {
       "layout": "IPY_MODEL_3ab9fbd2acc043a0903f9e99152c70dd",
       "style": "IPY_MODEL_455a5e2cc49242e0a6f289f4ed7fb496",
       "value": "<a\n  class=\"txtu hbo\"\n  href=\"https://shebanq.ancient-data.org/hebrew/word?version=2021&amp;id=1B\"\n  target=\"_blank\"\n  title=\"Show this on SHEBANQ\">\n        <span class=\"txtp\">\n         bᵊ\n        </span>\n       </a>"
      }
     },
     "76b3ee6f546a4dc68a5865e96721e56f": {
      "model_module": "@jupyter-widgets/controls",
      "model_module_version": "1.5.0",
      "model_name": "HTMLModel",
      "state": {
       "layout": "IPY_MODEL_dd08c76f366c43aabf850f1f2a1a7c92",
       "style": "IPY_MODEL_5a3c16bbd673432da434b15baf0180f4",
       "value": "pdp="
      }
     },
     "76bd36d00a9944c0af06cf3de21a54dc": {
      "model_module": "@jupyter-widgets/controls",
      "model_module_version": "1.5.0",
      "model_name": "DescriptionStyleModel",
      "state": {
       "description_width": ""
      }
     },
     "76d8c5682f4e4b868ffc810478fc3709": {
      "model_module": "@jupyter-widgets/controls",
      "model_module_version": "1.5.0",
      "model_name": "DescriptionStyleModel",
      "state": {
       "description_width": ""
      }
     },
     "77cbd2c4ff6443ce9043a7bce9aab5ac": {
      "model_module": "@jupyter-widgets/controls",
      "model_module_version": "1.5.0",
      "model_name": "DescriptionStyleModel",
      "state": {
       "description_width": ""
      }
     },
     "78bafaea094b4c98b83458cf79baf12f": {
      "model_module": "@jupyter-widgets/controls",
      "model_module_version": "1.5.0",
      "model_name": "HTMLModel",
      "state": {
       "layout": "IPY_MODEL_39d9a9ccd3e046028c4c362602a89b46",
       "style": "IPY_MODEL_4839d36afc9842b390989f431ce6acbe",
       "value": "pdp="
      }
     },
     "78f17e9268f64e28bb3e8b14ad53b853": {
      "model_module": "@jupyter-widgets/base",
      "model_module_version": "1.2.0",
      "model_name": "LayoutModel",
      "state": {}
     },
     "79a83239ad954308b23a7f6ebd6ed381": {
      "model_module": "@jupyter-widgets/base",
      "model_module_version": "1.2.0",
      "model_name": "LayoutModel",
      "state": {
       "flex": "auto 1 1"
      }
     },
     "7a8df1d8a1094f7abc4fd1f675ce9301": {
      "model_module": "@jupyter-widgets/controls",
      "model_module_version": "1.5.0",
      "model_name": "DescriptionStyleModel",
      "state": {
       "description_width": ""
      }
     },
     "7afb5a080c7248e389a4a51e2e4029b0": {
      "model_module": "@jupyter-widgets/controls",
      "model_module_version": "1.5.0",
      "model_name": "TextModel",
      "state": {
       "description": "pdp=",
       "layout": "IPY_MODEL_701bff399ba746859cd528ec52d8f7d0",
       "placeholder": "pdp",
       "style": "IPY_MODEL_586f76bf683145d2960ed924cb2921e2",
       "value": "prep"
      }
     },
     "7b013822259f40fc8adec590a4d4eb67": {
      "model_module": "@jupyter-widgets/controls",
      "model_module_version": "1.5.0",
      "model_name": "TextModel",
      "state": {
       "description": "pdp=",
       "layout": "IPY_MODEL_47da25a846ca460eae62c4ff3864311b",
       "placeholder": "pdp",
       "style": "IPY_MODEL_ccf099b8d54242b8b2a13aa971699e3f",
       "value": "prep"
      }
     },
     "7b56b525dcae4cc3b67789441b30e545": {
      "model_module": "@jupyter-widgets/controls",
      "model_module_version": "1.5.0",
      "model_name": "BoxModel",
      "state": {
       "children": [
        "IPY_MODEL_23f070104c1f4870bdf03d80c48925a3",
        "IPY_MODEL_4995604c42ae413bac8e80a825726ffd"
       ],
       "layout": "IPY_MODEL_ba75f2977beb4c2e9fd39d76fe0abaf4"
      }
     },
     "7b79d158d46949ff88e2f553d89d7840": {
      "model_module": "@jupyter-widgets/controls",
      "model_module_version": "1.5.0",
      "model_name": "DescriptionStyleModel",
      "state": {
       "description_width": ""
      }
     },
     "7bc07b5492f44c488dfc547be6a6e632": {
      "model_module": "@jupyter-widgets/controls",
      "model_module_version": "1.5.0",
      "model_name": "BoxModel",
      "state": {
       "children": [
        "IPY_MODEL_fc8abff3bee2481e8e1c7754b6312ad5",
        "IPY_MODEL_12961a9150f44cf5b12e198f60410296"
       ],
       "layout": "IPY_MODEL_403cfe9cc27841d490a2ac647b28a2f6"
      }
     },
     "7bdcb08d5cd64a2b9b87d557d7557224": {
      "model_module": "@jupyter-widgets/controls",
      "model_module_version": "1.5.0",
      "model_name": "HTMLModel",
      "state": {
       "layout": "IPY_MODEL_da1347b052404b5ca4853cf37a5e0c24",
       "style": "IPY_MODEL_cf64ea9dfa1d408ead23bf390ab378ec",
       "value": "<a\n  class=\"txtu hbo\"\n  href=\"https://shebanq.ancient-data.org/hebrew/word?version=2021&amp;id=1RACJTn\"\n  target=\"_blank\"\n  title=\"Show this on SHEBANQ\">\n        <span class=\"txtp\">\n         rēšˌîṯ\n        </span>\n       </a>"
      }
     },
     "7c07e6235c054b04b461f96d3eac60c3": {
      "model_module": "@jupyter-widgets/base",
      "model_module_version": "1.2.0",
      "model_name": "LayoutModel",
      "state": {
       "align_content": "flex-start",
       "align_items": "flex-start",
       "border": "2px solid gray",
       "flex_flow": "column",
       "justify_content": "flex-start",
       "width": "16em"
      }
     },
     "7c08dc2afa9a4f45af60650f9f27c39e": {
      "model_module": "@jupyter-widgets/base",
      "model_module_version": "1.2.0",
      "model_name": "LayoutModel",
      "state": {
       "flex": "auto 0 0"
      }
     },
     "7c62a1d1894f4d1d9a134ab1e3f48d99": {
      "model_module": "@jupyter-widgets/controls",
      "model_module_version": "1.5.0",
      "model_name": "BoxModel",
      "state": {
       "children": [
        "IPY_MODEL_6c5f3b70acbb452bb497db06b4e22e15",
        "IPY_MODEL_90c151a894a54562903e26d3c8a5a3bd",
        "IPY_MODEL_8a3e9cae246c461db67c4eb03ba21ba9"
       ],
       "layout": "IPY_MODEL_73bfaa330e3f4212b92603c818693634"
      }
     },
     "7d4531bc60914fa0af8001d7c56d7740": {
      "model_module": "@jupyter-widgets/controls",
      "model_module_version": "1.5.0",
      "model_name": "DescriptionStyleModel",
      "state": {
       "description_width": ""
      }
     },
     "7d6f6e5c72814e64b4e279b877c9cc3c": {
      "model_module": "@jupyter-widgets/controls",
      "model_module_version": "1.5.0",
      "model_name": "DescriptionStyleModel",
      "state": {
       "description_width": ""
      }
     },
     "7dbf2c8ff2e0418ba172dc0f532c4f10": {
      "model_module": "@jupyter-widgets/controls",
      "model_module_version": "1.5.0",
      "model_name": "BoxModel",
      "state": {
       "children": [
        "IPY_MODEL_e93cfe285c42483790124435c66ea582",
        "IPY_MODEL_17e61f40ab96487d91e7081c790b2f5f",
        "IPY_MODEL_ac6e437d855042b9b7df52783aabce08"
       ],
       "layout": "IPY_MODEL_41e68accb2be45ea97ed5148257962a1"
      }
     },
     "7e8e246da43e482e91ecc265286bae31": {
      "model_module": "@jupyter-widgets/controls",
      "model_module_version": "1.5.0",
      "model_name": "DescriptionStyleModel",
      "state": {
       "description_width": ""
      }
     },
     "7e9324dc6ceb43bcb7555c766ccf5adf": {
      "model_module": "@jupyter-widgets/base",
      "model_module_version": "1.2.0",
      "model_name": "LayoutModel",
      "state": {
       "flex": "auto 0 0"
      }
     },
     "7ec0899d03da475fba4ce39b2f5d1dfa": {
      "model_module": "@jupyter-widgets/controls",
      "model_module_version": "1.5.0",
      "model_name": "DescriptionStyleModel",
      "state": {
       "description_width": ""
      }
     },
     "7f64456421b848ab88036b062454fae4": {
      "model_module": "@jupyter-widgets/controls",
      "model_module_version": "1.5.0",
      "model_name": "DescriptionStyleModel",
      "state": {
       "description_width": ""
      }
     },
     "7f6ef48b6eb6467db57a95b7f042e1b8": {
      "model_module": "@jupyter-widgets/controls",
      "model_module_version": "1.5.0",
      "model_name": "BoxModel",
      "state": {
       "children": [
        "IPY_MODEL_555639b7522847e8aa0e36e75eca69c7",
        "IPY_MODEL_755a271414d54af38b8a51eee564ed31",
        "IPY_MODEL_d92a6db7bd2443f5afccacb8c367b151"
       ],
       "layout": "IPY_MODEL_e310d15f508442e2bcdf6696c8a9da94"
      }
     },
     "7f73387e842f48199fe64a486392249c": {
      "model_module": "@jupyter-widgets/controls",
      "model_module_version": "1.5.0",
      "model_name": "TextModel",
      "state": {
       "layout": "IPY_MODEL_1c9be211bed446ddbcce5c38f505cfe7",
       "placeholder": "gloss",
       "style": "IPY_MODEL_440784eb2010482ab66a8566bd570a81",
       "value": "in"
      }
     },
     "7f7f3f72ad3d4f6aa61b0ee00665155f": {
      "model_module": "@jupyter-widgets/base",
      "model_module_version": "1.2.0",
      "model_name": "LayoutModel",
      "state": {
       "flex": "auto 1 1",
       "height": "4em"
      }
     },
     "7fe34f07b81b4e76bf7072b14a4d4aa8": {
      "model_module": "@jupyter-widgets/base",
      "model_module_version": "1.2.0",
      "model_name": "LayoutModel",
      "state": {
       "align_content": "flex-start",
       "align_items": "flex-start",
       "border": "2px solid gray",
       "flex_flow": "column",
       "justify_content": "flex-start",
       "width": "10em"
      }
     },
     "801eb73783184ce2b47d3fc43736d6f7": {
      "model_module": "@jupyter-widgets/base",
      "model_module_version": "1.2.0",
      "model_name": "LayoutModel",
      "state": {
       "flex": "auto 0 0",
       "height": "3em",
       "width": "25em"
      }
     },
     "80b33f56b09c4e3386cf3f20fb43cdeb": {
      "model_module": "@jupyter-widgets/base",
      "model_module_version": "1.2.0",
      "model_name": "LayoutModel",
      "state": {
       "flex": "auto 0 0",
       "width": "7em"
      }
     },
     "81954c0838f74841bcee4d4564cbb4c5": {
      "model_module": "@jupyter-widgets/controls",
      "model_module_version": "1.5.0",
      "model_name": "TextModel",
      "state": {
       "layout": "IPY_MODEL_259c164b761a499ab43c1ad6003a2554",
       "placeholder": "pdp",
       "style": "IPY_MODEL_e586b452bce74c898e78c67555e60c2a",
       "value": "prep"
      }
     },
     "81be928cafcd4c36910e15e701076006": {
      "model_module": "@jupyter-widgets/controls",
      "model_module_version": "1.5.0",
      "model_name": "DescriptionStyleModel",
      "state": {
       "description_width": ""
      }
     },
     "81e23306b87d4b128e01bd3d5bd39744": {
      "model_module": "@jupyter-widgets/controls",
      "model_module_version": "1.5.0",
      "model_name": "BoxModel",
      "state": {
       "children": [
        "IPY_MODEL_c5f6b2d299924699aca0f9112655c06a",
        "IPY_MODEL_7f73387e842f48199fe64a486392249c",
        "IPY_MODEL_b740b675f1c54025bb375735aa8a66ae"
       ],
       "layout": "IPY_MODEL_5c10e76e75aa40c387df50aa845660af"
      }
     },
     "81fa128b55d6497583a44a02ceab586d": {
      "model_module": "@jupyter-widgets/controls",
      "model_module_version": "1.5.0",
      "model_name": "BoxModel",
      "state": {
       "children": [
        "IPY_MODEL_ea3f8e848ffa4ca1bc203e7f4cfca318",
        "IPY_MODEL_e832d551f3d9489cbd61629a839c74d3",
        "IPY_MODEL_7afb5a080c7248e389a4a51e2e4029b0"
       ],
       "layout": "IPY_MODEL_21d80b66a8484d49ae8e7b7e53a0b6b3"
      }
     },
     "8300e6e4b00b49a49bce4552e7a27714": {
      "model_module": "@jupyter-widgets/base",
      "model_module_version": "1.2.0",
      "model_name": "LayoutModel",
      "state": {
       "flex": "auto 0 0"
      }
     },
     "8309503d4e9a44e6b72a3acbd9cf440d": {
      "model_module": "@jupyter-widgets/controls",
      "model_module_version": "1.5.0",
      "model_name": "DescriptionStyleModel",
      "state": {
       "description_width": ""
      }
     },
     "834882dc5fc846808e54d38e4fc32fdc": {
      "model_module": "@jupyter-widgets/controls",
      "model_module_version": "1.5.0",
      "model_name": "BoxModel",
      "state": {
       "children": [
        "IPY_MODEL_6fc66e51af6b4a7584e3caff3a40007d",
        "IPY_MODEL_f96b29324f5448ba86da3696115fc3c8"
       ],
       "layout": "IPY_MODEL_8379e870525347ea911d92a63f4e1eeb"
      }
     },
     "8379e870525347ea911d92a63f4e1eeb": {
      "model_module": "@jupyter-widgets/base",
      "model_module_version": "1.2.0",
      "model_name": "LayoutModel",
      "state": {
       "align_content": "flex-start",
       "align_items": "flex-start",
       "border": "2px solid gray",
       "flex_flow": "column",
       "justify_content": "flex-start"
      }
     },
     "83a1edeecf2d44cfbd35ccb343583c7e": {
      "model_module": "@jupyter-widgets/controls",
      "model_module_version": "1.5.0",
      "model_name": "DescriptionStyleModel",
      "state": {
       "description_width": ""
      }
     },
     "83ab59b10a6d4eb08657c4e0545a9e22": {
      "model_module": "@jupyter-widgets/controls",
      "model_module_version": "1.5.0",
      "model_name": "TextModel",
      "state": {
       "layout": "IPY_MODEL_8300e6e4b00b49a49bce4552e7a27714",
       "placeholder": "gloss",
       "style": "IPY_MODEL_23146e868c264141a8379280b80f3783",
       "value": "beginning"
      }
     },
     "83cb4b283f2446fbb6f03224b843900d": {
      "model_module": "@jupyter-widgets/controls",
      "model_module_version": "1.5.0",
      "model_name": "TextModel",
      "state": {
       "layout": "IPY_MODEL_9439b66d43704d1ba9c6f287b47f660a",
       "placeholder": "gloss",
       "style": "IPY_MODEL_6684de92e7fa4917a4c5dc8dc77890d7",
       "value": "in"
      }
     },
     "83d47060a2d6445ea100ac5817f9dc8e": {
      "model_module": "@jupyter-widgets/controls",
      "model_module_version": "1.5.0",
      "model_name": "HTMLModel",
      "state": {
       "layout": "IPY_MODEL_0aabce3b8be54273a801dc3630c90d41",
       "style": "IPY_MODEL_bc461a7365164392a16c74176f23abfd",
       "value": "pdp="
      }
     },
     "83efd87f7fac4f9c845f84eb6cc288d7": {
      "model_module": "@jupyter-widgets/controls",
      "model_module_version": "1.5.0",
      "model_name": "HTMLModel",
      "state": {
       "layout": "IPY_MODEL_92870f0ec41548118f43860557188795",
       "style": "IPY_MODEL_b826237732a84922b5b7ec3bcbc372f1",
       "value": "pdp="
      }
     },
     "83efffa40e324ca59afde19191c1a008": {
      "model_module": "@jupyter-widgets/base",
      "model_module_version": "1.2.0",
      "model_name": "LayoutModel",
      "state": {
       "flex": "auto 0 0"
      }
     },
     "83f52cd6266b4f558925810d99c2b1e6": {
      "model_module": "@jupyter-widgets/controls",
      "model_module_version": "1.5.0",
      "model_name": "TextModel",
      "state": {
       "description": "pdp=",
       "layout": "IPY_MODEL_42f3a00bfbad490c99467d3949dc8f46",
       "placeholder": "pdp",
       "style": "IPY_MODEL_a15e4003e01e4efaa5ba5d8143e2e69b",
       "value": "subs"
      }
     },
     "846f15f8e7124818bd431856b2a9b34b": {
      "model_module": "@jupyter-widgets/controls",
      "model_module_version": "1.5.0",
      "model_name": "TextModel",
      "state": {
       "layout": "IPY_MODEL_fd0d88aebfb14d669bd50db2088b0a8d",
       "placeholder": "pdp",
       "style": "IPY_MODEL_977ee92bc59b4096bdcaefb85d6f43bf",
       "value": "prep"
      }
     },
     "84c27aaee32648bcb052871d3a9894b0": {
      "model_module": "@jupyter-widgets/controls",
      "model_module_version": "1.5.0",
      "model_name": "DescriptionStyleModel",
      "state": {
       "description_width": ""
      }
     },
     "85ae2a5e838a4ea8b9edd14e693ac8a5": {
      "model_module": "@jupyter-widgets/base",
      "model_module_version": "1.2.0",
      "model_name": "LayoutModel",
      "state": {
       "flex": "auto 0 0"
      }
     },
     "85bb9077ab9d42a6bb59f7aeb1a603c3": {
      "model_module": "@jupyter-widgets/base",
      "model_module_version": "1.2.0",
      "model_name": "LayoutModel",
      "state": {
       "flex": "auto 1 1"
      }
     },
     "86610466329f4119b8ee260e568d95cc": {
      "model_module": "@jupyter-widgets/controls",
      "model_module_version": "1.5.0",
      "model_name": "DescriptionStyleModel",
      "state": {
       "description_width": ""
      }
     },
     "868f19a322eb49abb7f68c359442dcd7": {
      "model_module": "@jupyter-widgets/base",
      "model_module_version": "1.2.0",
      "model_name": "LayoutModel",
      "state": {
       "flex": "auto 0 0"
      }
     },
     "86bfeb62c22e4e0b959db8fcda2d4777": {
      "model_module": "@jupyter-widgets/controls",
      "model_module_version": "1.5.0",
      "model_name": "DescriptionStyleModel",
      "state": {
       "description_width": ""
      }
     },
     "87011688c2024a29bc2658850f879aaa": {
      "model_module": "@jupyter-widgets/base",
      "model_module_version": "1.2.0",
      "model_name": "LayoutModel",
      "state": {
       "align_content": "flex-start",
       "align_items": "flex-start",
       "border": "2px solid gray",
       "flex_flow": "column",
       "justify_content": "flex-start",
       "width": "10em"
      }
     },
     "8712f3554c674cd183248ff931e60c1a": {
      "model_module": "@jupyter-widgets/controls",
      "model_module_version": "1.5.0",
      "model_name": "TextModel",
      "state": {
       "layout": "IPY_MODEL_701bff399ba746859cd528ec52d8f7d0",
       "placeholder": "gloss",
       "style": "IPY_MODEL_9fcb7c5bc6a243118453d8c6ff71b48a",
       "value": "beginning"
      }
     },
     "87d0ac99016949a38f31befc6ae09ac9": {
      "model_module": "@jupyter-widgets/controls",
      "model_module_version": "1.5.0",
      "model_name": "DescriptionStyleModel",
      "state": {
       "description_width": ""
      }
     },
     "888acb0c96b84c47981fbb3cf65a19fd": {
      "model_module": "@jupyter-widgets/controls",
      "model_module_version": "1.5.0",
      "model_name": "DescriptionStyleModel",
      "state": {
       "description_width": ""
      }
     },
     "8974ad4913aa46d1bba4a70161db8544": {
      "model_module": "@jupyter-widgets/base",
      "model_module_version": "1.2.0",
      "model_name": "LayoutModel",
      "state": {
       "align_content": "flex-start",
       "align_items": "flex-start",
       "flex": "auto 0 0",
       "height": "3em",
       "justify_content": "flex-start",
       "width": "15em"
      }
     },
     "8990e2f945f54dcf95daa3b18974dfb3": {
      "model_module": "@jupyter-widgets/base",
      "model_module_version": "1.2.0",
      "model_name": "LayoutModel",
      "state": {
       "flex": "auto 1 1",
       "height": "4em"
      }
     },
     "8a07efc7a7ee42eda619268087164780": {
      "model_module": "@jupyter-widgets/controls",
      "model_module_version": "1.5.0",
      "model_name": "BoxModel",
      "state": {
       "children": [
        "IPY_MODEL_a0162623578c432189638ef74af91640",
        "IPY_MODEL_492a41de4c794e05a4c3b49726157d34",
        "IPY_MODEL_2fa0b04bef0449158f1d4cc9ef95e3c6"
       ],
       "layout": "IPY_MODEL_e2129d744e1b407eab74eea93afa0439"
      }
     },
     "8a3e9cae246c461db67c4eb03ba21ba9": {
      "model_module": "@jupyter-widgets/controls",
      "model_module_version": "1.5.0",
      "model_name": "BoxModel",
      "state": {
       "children": [
        "IPY_MODEL_3e1d3c9b8dc4415faf76c6eb0746106c",
        "IPY_MODEL_068ac453f66b4cb6ad9d83352fc836f7"
       ],
       "layout": "IPY_MODEL_ac8b42e8de98444fb4aa2247cf9ede74"
      }
     },
     "8a6b08df55f844f886bbcf5441e7256f": {
      "model_module": "@jupyter-widgets/controls",
      "model_module_version": "1.5.0",
      "model_name": "BoxModel",
      "state": {
       "children": [
        "IPY_MODEL_76a5f046923246f4ba43ac94ad235365",
        "IPY_MODEL_3538fc8643aa441288c3613317cb9c18"
       ],
       "layout": "IPY_MODEL_87011688c2024a29bc2658850f879aaa"
      }
     },
     "8a8849917e834098849262bcdb9393c5": {
      "model_module": "@jupyter-widgets/controls",
      "model_module_version": "1.5.0",
      "model_name": "DescriptionStyleModel",
      "state": {
       "description_width": ""
      }
     },
     "8aacd096818c44b481c1275d34255905": {
      "model_module": "@jupyter-widgets/controls",
      "model_module_version": "1.5.0",
      "model_name": "BoxModel",
      "state": {
       "children": [
        "IPY_MODEL_3d11f041d89d47a697b7f79f029c2d75",
        "IPY_MODEL_4e17b095a544432a898adeeb08130231"
       ],
       "layout": "IPY_MODEL_6496fef5d4e84a5b95c87fb4ee7dd38d"
      }
     },
     "8b5b6be1041f4cd0a37864af43612079": {
      "model_module": "@jupyter-widgets/controls",
      "model_module_version": "1.5.0",
      "model_name": "BoxModel",
      "state": {
       "children": [
        "IPY_MODEL_e2233e116f8149b9b1e61f382a2fc5b4",
        "IPY_MODEL_5e1aa557302e4ab3a663a49b3a68eb8a"
       ],
       "layout": "IPY_MODEL_3afc5aa056d44a1ca1f300c36750836a"
      }
     },
     "8b9466f37b4849e18dfe26df6daead90": {
      "model_module": "@jupyter-widgets/controls",
      "model_module_version": "1.5.0",
      "model_name": "DescriptionStyleModel",
      "state": {
       "description_width": ""
      }
     },
     "8c1147a437d74b40b21c29eb701b0e71": {
      "model_module": "@jupyter-widgets/base",
      "model_module_version": "1.2.0",
      "model_name": "LayoutModel",
      "state": {}
     },
     "8d1f19b5469248e4a19a78fe09c98463": {
      "model_module": "@jupyter-widgets/controls",
      "model_module_version": "1.5.0",
      "model_name": "DescriptionStyleModel",
      "state": {
       "description_width": ""
      }
     },
     "8d366c23788545b6b529534c0dbc77e7": {
      "model_module": "@jupyter-widgets/controls",
      "model_module_version": "1.5.0",
      "model_name": "TextModel",
      "state": {
       "layout": "IPY_MODEL_47aa242da6384c6f9bc981c27b096204",
       "placeholder": "gloss",
       "style": "IPY_MODEL_c673c76d77924892983438268ace47a6",
       "value": "in"
      }
     },
     "8d4d10e602524a47951e757923aa162c": {
      "model_module": "@jupyter-widgets/controls",
      "model_module_version": "1.5.0",
      "model_name": "TextModel",
      "state": {
       "description": "pdp=",
       "layout": "IPY_MODEL_abdd438089a84b65a793cf22d9d1b081",
       "placeholder": "pdp",
       "style": "IPY_MODEL_5bebe67090864475baebbe8de16f5808",
       "value": "subs"
      }
     },
     "8d6b95274232434c883dac447f267433": {
      "model_module": "@jupyter-widgets/controls",
      "model_module_version": "1.5.0",
      "model_name": "DescriptionStyleModel",
      "state": {
       "description_width": ""
      }
     },
     "8d7e79749b524df9afbd77f32e0f67e4": {
      "model_module": "@jupyter-widgets/base",
      "model_module_version": "1.2.0",
      "model_name": "LayoutModel",
      "state": {
       "align_content": "flex-start",
       "align_items": "flex-start",
       "border": "2px solid gray",
       "flex_flow": "column",
       "justify_content": "flex-start"
      }
     },
     "8db6a696889d486eba9e0999e1e16d55": {
      "model_module": "@jupyter-widgets/base",
      "model_module_version": "1.2.0",
      "model_name": "LayoutModel",
      "state": {
       "align_content": "flex-start",
       "align_items": "flex-start",
       "border": "2px solid gray",
       "flex_flow": "column",
       "justify_content": "flex-start",
       "width": "20em"
      }
     },
     "8dd8e2882f6b46ee8b56036ee8f99c2c": {
      "model_module": "@jupyter-widgets/controls",
      "model_module_version": "1.5.0",
      "model_name": "BoxModel",
      "state": {
       "children": [
        "IPY_MODEL_fd8b0932599249f4b7ad3c3d997f833a",
        "IPY_MODEL_56fd41da36614a12acd32872e8c56618",
        "IPY_MODEL_7b013822259f40fc8adec590a4d4eb67"
       ],
       "layout": "IPY_MODEL_7c07e6235c054b04b461f96d3eac60c3"
      }
     },
     "8e5bcef23c9342b499a768cf23a19480": {
      "model_module": "@jupyter-widgets/base",
      "model_module_version": "1.2.0",
      "model_name": "LayoutModel",
      "state": {
       "flex": "auto 0 0"
      }
     },
     "8ee2cc813bfa4d6e94f006feed8179a7": {
      "model_module": "@jupyter-widgets/base",
      "model_module_version": "1.2.0",
      "model_name": "LayoutModel",
      "state": {
       "flex": "auto 0 0",
       "height": "3em",
       "width": "7em"
      }
     },
     "8fde3b90d85b415faf1eb5f2d51ae1f6": {
      "model_module": "@jupyter-widgets/controls",
      "model_module_version": "1.5.0",
      "model_name": "TextModel",
      "state": {
       "layout": "IPY_MODEL_ddf6c07b8bf84855ae94c21aac0e3395",
       "placeholder": "pdp",
       "style": "IPY_MODEL_602ced21fdbb4af39910b9ca12e4a0a2",
       "value": "prep"
      }
     },
     "90725437b46c47bf90e7239eb30f4a07": {
      "model_module": "@jupyter-widgets/controls",
      "model_module_version": "1.5.0",
      "model_name": "DescriptionStyleModel",
      "state": {
       "description_width": ""
      }
     },
     "9080722a25674459ba43cc7851a20346": {
      "model_module": "@jupyter-widgets/controls",
      "model_module_version": "1.5.0",
      "model_name": "TextModel",
      "state": {
       "layout": "IPY_MODEL_a3920d983764424f87036295f23ded20",
       "placeholder": "gloss",
       "style": "IPY_MODEL_397eaa219b2840fb8dc0bbf7babf21b8",
       "value": "beginning"
      }
     },
     "90a9926e24714bc1aa52eafa97e4cdd5": {
      "model_module": "@jupyter-widgets/controls",
      "model_module_version": "1.5.0",
      "model_name": "DescriptionStyleModel",
      "state": {
       "description_width": ""
      }
     },
     "90c151a894a54562903e26d3c8a5a3bd": {
      "model_module": "@jupyter-widgets/controls",
      "model_module_version": "1.5.0",
      "model_name": "TextModel",
      "state": {
       "layout": "IPY_MODEL_a4505a283a4043cc805496cdedd0c656",
       "placeholder": "gloss",
       "style": "IPY_MODEL_0bbb000ae27c46e5a193a6dc2aa45361",
       "value": "in"
      }
     },
     "91017e10dcf94f8cb09bbadda22777d8": {
      "model_module": "@jupyter-widgets/base",
      "model_module_version": "1.2.0",
      "model_name": "LayoutModel",
      "state": {
       "flex": "auto 1 1",
       "height": "3em"
      }
     },
     "9165074709a842f999bfaf3e7bbc4e07": {
      "model_module": "@jupyter-widgets/base",
      "model_module_version": "1.2.0",
      "model_name": "LayoutModel",
      "state": {
       "align_content": "flex-start",
       "align_items": "flex-start",
       "border": "2px solid gray",
       "flex_flow": "column",
       "justify_content": "flex-start"
      }
     },
     "9173b2314e96499fa662f5f4d01c1f75": {
      "model_module": "@jupyter-widgets/controls",
      "model_module_version": "1.5.0",
      "model_name": "BoxModel",
      "state": {
       "children": [
        "IPY_MODEL_64129f3c3d4e467baa9e8b66637016dd",
        "IPY_MODEL_6369355065f144e3a1688032989be866"
       ],
       "layout": "IPY_MODEL_4f453a88a0ac48b58e5a069121077f65"
      }
     },
     "92870f0ec41548118f43860557188795": {
      "model_module": "@jupyter-widgets/base",
      "model_module_version": "1.2.0",
      "model_name": "LayoutModel",
      "state": {}
     },
     "92ba247ff33945c7bdf85cf1d63b7d78": {
      "model_module": "@jupyter-widgets/base",
      "model_module_version": "1.2.0",
      "model_name": "LayoutModel",
      "state": {
       "flex": "auto 0 0",
       "height": "3em",
       "width": "7em"
      }
     },
     "93322af93d8d429bb543d8395f6aa882": {
      "model_module": "@jupyter-widgets/controls",
      "model_module_version": "1.5.0",
      "model_name": "TextModel",
      "state": {
       "layout": "IPY_MODEL_d63633c2a26140cd9ab82a7387f842f1",
       "placeholder": "pdp",
       "style": "IPY_MODEL_d408d4b5e0f34dbf9290766d02f684a9",
       "value": "prep"
      }
     },
     "9347c700f4f54321a2c22ef2912aee10": {
      "model_module": "@jupyter-widgets/controls",
      "model_module_version": "1.5.0",
      "model_name": "DescriptionStyleModel",
      "state": {
       "description_width": ""
      }
     },
     "93a6f29177cf4dfda1d516aa9f58e6aa": {
      "model_module": "@jupyter-widgets/controls",
      "model_module_version": "1.5.0",
      "model_name": "DescriptionStyleModel",
      "state": {
       "description_width": ""
      }
     },
     "9439b66d43704d1ba9c6f287b47f660a": {
      "model_module": "@jupyter-widgets/base",
      "model_module_version": "1.2.0",
      "model_name": "LayoutModel",
      "state": {
       "flex": "auto 0 0",
       "width": "7em"
      }
     },
     "9512ab45611b4cbc906d7dd9fd448e84": {
      "model_module": "@jupyter-widgets/controls",
      "model_module_version": "1.5.0",
      "model_name": "HTMLModel",
      "state": {
       "layout": "IPY_MODEL_f51d4dd34bd34e959013ccd7dff10487",
       "style": "IPY_MODEL_d5eba3dd68064792881a4f57667959a6",
       "value": "<a\n  class=\"txtu hbo\"\n  href=\"https://shebanq.ancient-data.org/hebrew/word?version=2021&amp;id=1B\"\n  target=\"_blank\"\n  title=\"Show this on SHEBANQ\">\n        <span class=\"txtp\">\n         bᵊ\n        </span>\n       </a>"
      }
     },
     "9661627c69c247b98f9fd10c257bb427": {
      "model_module": "@jupyter-widgets/base",
      "model_module_version": "1.2.0",
      "model_name": "LayoutModel",
      "state": {
       "flex": "auto 1 1"
      }
     },
     "969931415d5d43f6868e35fbeb46797d": {
      "model_module": "@jupyter-widgets/controls",
      "model_module_version": "1.5.0",
      "model_name": "TextModel",
      "state": {
       "layout": "IPY_MODEL_df5fb7939bed4396a0e038033092b2ee",
       "placeholder": "gloss",
       "style": "IPY_MODEL_bde7b451500f499ba4487745406752cc",
       "value": "in"
      }
     },
     "96b02b5dd86544cbbb86d42d587479d4": {
      "model_module": "@jupyter-widgets/base",
      "model_module_version": "1.2.0",
      "model_name": "LayoutModel",
      "state": {
       "align_content": "flex-start"
      }
     },
     "96bf7291d66649388348fcee5ed87c3c": {
      "model_module": "@jupyter-widgets/controls",
      "model_module_version": "1.5.0",
      "model_name": "BoxModel",
      "state": {
       "children": [
        "IPY_MODEL_a78e99d295ac41fcae54d34cf4ad4949",
        "IPY_MODEL_04262a7c97f34cb0a8219663a8af7156",
        "IPY_MODEL_be439157a9814a2495cf77b6144735e4"
       ],
       "layout": "IPY_MODEL_9d729939707b43d8b31260fb9d12892e"
      }
     },
     "977ee92bc59b4096bdcaefb85d6f43bf": {
      "model_module": "@jupyter-widgets/controls",
      "model_module_version": "1.5.0",
      "model_name": "DescriptionStyleModel",
      "state": {
       "description_width": ""
      }
     },
     "9802255d55d846b7b97372824c7c45d7": {
      "model_module": "@jupyter-widgets/controls",
      "model_module_version": "1.5.0",
      "model_name": "DescriptionStyleModel",
      "state": {
       "description_width": ""
      }
     },
     "9820d51bb2f5464eb936e1be320de86f": {
      "model_module": "@jupyter-widgets/base",
      "model_module_version": "1.2.0",
      "model_name": "LayoutModel",
      "state": {
       "flex": "auto 1 1",
       "height": "4em"
      }
     },
     "98ae9824e4e542fa92f5c6b4219b2999": {
      "model_module": "@jupyter-widgets/controls",
      "model_module_version": "1.5.0",
      "model_name": "BoxModel",
      "state": {
       "children": [
        "IPY_MODEL_6d3da37bb91c4bb8a5b0a0539b3fc00b",
        "IPY_MODEL_c56bc3e3d14c47339bf5549714a0f4f6",
        "IPY_MODEL_20b265b63cb44d80b231b08c47a11724"
       ],
       "layout": "IPY_MODEL_024a9c7f18f94654b5db13d0d1aea4eb"
      }
     },
     "993efd6cefe64ee5963f0cb20c3e0626": {
      "model_module": "@jupyter-widgets/controls",
      "model_module_version": "1.5.0",
      "model_name": "DescriptionStyleModel",
      "state": {
       "description_width": ""
      }
     },
     "997258ce4cf84c02b4b62e5b6dbab4e1": {
      "model_module": "@jupyter-widgets/controls",
      "model_module_version": "1.5.0",
      "model_name": "HTMLModel",
      "state": {
       "layout": "IPY_MODEL_19e9c3d026fe43599a27fbac086c4429",
       "style": "IPY_MODEL_55447148210848e1978b2cfb348fcd9b",
       "value": "pdp="
      }
     },
     "99ea6f6278f74b7b9ce2a595400c11d4": {
      "model_module": "@jupyter-widgets/controls",
      "model_module_version": "1.5.0",
      "model_name": "DescriptionStyleModel",
      "state": {
       "description_width": ""
      }
     },
     "9a02373e79014a2f8807683d3866d936": {
      "model_module": "@jupyter-widgets/controls",
      "model_module_version": "1.5.0",
      "model_name": "BoxModel",
      "state": {
       "children": [
        "IPY_MODEL_62a9f887f75a4015bca6c1022874b4b0",
        "IPY_MODEL_9a11ecaeedcb4871b6eacadb0c7a9ffe"
       ],
       "layout": "IPY_MODEL_1a8f1e48af3c485380b01eb863179026"
      }
     },
     "9a11ecaeedcb4871b6eacadb0c7a9ffe": {
      "model_module": "@jupyter-widgets/controls",
      "model_module_version": "1.5.0",
      "model_name": "TextModel",
      "state": {
       "layout": "IPY_MODEL_abdd438089a84b65a793cf22d9d1b081",
       "placeholder": "pdp",
       "style": "IPY_MODEL_e7e87819dad44f84b265823e26fd0fef",
       "value": "prep"
      }
     },
     "9a3b7e9502514c21ad26d603978058db": {
      "model_module": "@jupyter-widgets/base",
      "model_module_version": "1.2.0",
      "model_name": "LayoutModel",
      "state": {
       "flex": "auto 0 0"
      }
     },
     "9a41250a763a4b57bc591877e3cf3c56": {
      "model_module": "@jupyter-widgets/controls",
      "model_module_version": "1.5.0",
      "model_name": "BoxModel",
      "state": {
       "children": [
        "IPY_MODEL_fae35e28a4844607b283e51edb2c088d",
        "IPY_MODEL_bf79b2d76a7c40f4a590e61264907748",
        "IPY_MODEL_9a02373e79014a2f8807683d3866d936"
       ],
       "layout": "IPY_MODEL_5701d8507899465c9e4dd8045bafe01c"
      }
     },
     "9ae81130da734c77b6470a46a217cd31": {
      "model_module": "@jupyter-widgets/controls",
      "model_module_version": "1.5.0",
      "model_name": "TextModel",
      "state": {
       "layout": "IPY_MODEL_b257b97a1a3a4f92992b2ffa4f4a27bd",
       "placeholder": "gloss",
       "style": "IPY_MODEL_e4abb88c0edd4542b958983982f421ab",
       "value": "in"
      }
     },
     "9b503bde63864e58aad52ca0228d612c": {
      "model_module": "@jupyter-widgets/controls",
      "model_module_version": "1.5.0",
      "model_name": "TextModel",
      "state": {
       "description": "pdp=",
       "layout": "IPY_MODEL_47aa242da6384c6f9bc981c27b096204",
       "placeholder": "pdp",
       "style": "IPY_MODEL_6fddb67d52ec4af3b312e6b43cb27df8",
       "value": "subs"
      }
     },
     "9bf65982ca6f4730a275a15a26ccdecb": {
      "model_module": "@jupyter-widgets/controls",
      "model_module_version": "1.5.0",
      "model_name": "DescriptionStyleModel",
      "state": {
       "description_width": ""
      }
     },
     "9c0188a0cdf94982b1883197ed9dd45c": {
      "model_module": "@jupyter-widgets/controls",
      "model_module_version": "1.5.0",
      "model_name": "TextModel",
      "state": {
       "description": "pdp=",
       "layout": "IPY_MODEL_0df7ba1410184b9b8836eaaf0b31860e",
       "placeholder": "pdp",
       "style": "IPY_MODEL_f87d36483d8f4500abe27444984ab590",
       "value": "subs"
      }
     },
     "9d729939707b43d8b31260fb9d12892e": {
      "model_module": "@jupyter-widgets/base",
      "model_module_version": "1.2.0",
      "model_name": "LayoutModel",
      "state": {
       "align_content": "flex-start",
       "align_items": "flex-start",
       "border": "2px solid gray",
       "flex_flow": "column",
       "justify_content": "flex-start",
       "width": "20em"
      }
     },
     "9dfaf1dc58c0442f9d73116a95752348": {
      "model_module": "@jupyter-widgets/controls",
      "model_module_version": "1.5.0",
      "model_name": "DescriptionStyleModel",
      "state": {
       "description_width": ""
      }
     },
     "9e19eac2dc58496db1edc15f5cd41b56": {
      "model_module": "@jupyter-widgets/controls",
      "model_module_version": "1.5.0",
      "model_name": "TextModel",
      "state": {
       "layout": "IPY_MODEL_c357fc8dd34d492b8074c48f5a2d1618",
       "placeholder": "pdp",
       "style": "IPY_MODEL_34a454014e8e49b988eb6486a5ccccd8",
       "value": "prep"
      }
     },
     "9e1f06e235e94537be9e687331d38db5": {
      "model_module": "@jupyter-widgets/controls",
      "model_module_version": "1.5.0",
      "model_name": "DescriptionStyleModel",
      "state": {
       "description_width": ""
      }
     },
     "9ea2cc0cce914ec8ba2a7233bffb2033": {
      "model_module": "@jupyter-widgets/controls",
      "model_module_version": "1.5.0",
      "model_name": "DescriptionStyleModel",
      "state": {
       "description_width": ""
      }
     },
     "9f3fc02dc7ab4cc2819fb034ace2fcc8": {
      "model_module": "@jupyter-widgets/base",
      "model_module_version": "1.2.0",
      "model_name": "LayoutModel",
      "state": {
       "flex": "auto 0 0",
       "height": "3em",
       "width": "5em"
      }
     },
     "9f44332e038946b9a80f80c66df5024d": {
      "model_module": "@jupyter-widgets/controls",
      "model_module_version": "1.5.0",
      "model_name": "BoxModel",
      "state": {
       "children": [
        "IPY_MODEL_e7efc6052b5f4ef9bf53540c8cb853d6",
        "IPY_MODEL_ca7769a1c07540fa945abf3bcfcd5609",
        "IPY_MODEL_4a560c0b5256454cbd4f7f7e65b304ed"
       ],
       "layout": "IPY_MODEL_73bfaa330e3f4212b92603c818693634"
      }
     },
     "9fc04633796348ea8b72e5a9b9499f8e": {
      "model_module": "@jupyter-widgets/controls",
      "model_module_version": "1.5.0",
      "model_name": "DescriptionStyleModel",
      "state": {
       "description_width": ""
      }
     },
     "9fcb7c5bc6a243118453d8c6ff71b48a": {
      "model_module": "@jupyter-widgets/controls",
      "model_module_version": "1.5.0",
      "model_name": "DescriptionStyleModel",
      "state": {
       "description_width": ""
      }
     },
     "9fd8cbd64ad544119e1293523e83acd9": {
      "model_module": "@jupyter-widgets/base",
      "model_module_version": "1.2.0",
      "model_name": "LayoutModel",
      "state": {
       "border": "2px solid gray",
       "flex": "auto 0 1",
       "flex_flow": "column"
      }
     },
     "9feb4fb4287148aeb0007cb2b64b2de3": {
      "model_module": "@jupyter-widgets/controls",
      "model_module_version": "1.5.0",
      "model_name": "BoxModel",
      "state": {
       "children": [
        "IPY_MODEL_f5ca3826f9e1401bbb7eca31f279d817",
        "IPY_MODEL_12fc681761504381ad06b29c62bf0b53",
        "IPY_MODEL_8d4d10e602524a47951e757923aa162c"
       ],
       "layout": "IPY_MODEL_5701d8507899465c9e4dd8045bafe01c"
      }
     },
     "a002810b5cf04f98a0d595640ed28fc3": {
      "model_module": "@jupyter-widgets/base",
      "model_module_version": "1.2.0",
      "model_name": "LayoutModel",
      "state": {
       "flex": "auto 1 1"
      }
     },
     "a0162623578c432189638ef74af91640": {
      "model_module": "@jupyter-widgets/controls",
      "model_module_version": "1.5.0",
      "model_name": "HTMLModel",
      "state": {
       "layout": "IPY_MODEL_a002810b5cf04f98a0d595640ed28fc3",
       "style": "IPY_MODEL_393ca98209f5425d95f80a3b6c64bcf4",
       "value": "<a\n  class=\"txtu hbo\"\n  href=\"https://shebanq.ancient-data.org/hebrew/word?version=2021&amp;id=1B\"\n  target=\"_blank\"\n  title=\"Show this on SHEBANQ\">\n        <span class=\"txtp\">\n         bᵊ\n        </span>\n       </a>"
      }
     },
     "a0866a0c3f8e465abdb3c40e5d74154c": {
      "model_module": "@jupyter-widgets/controls",
      "model_module_version": "1.5.0",
      "model_name": "DescriptionStyleModel",
      "state": {
       "description_width": ""
      }
     },
     "a0e2c9a5545349d0ab49670e8364bb80": {
      "model_module": "@jupyter-widgets/controls",
      "model_module_version": "1.5.0",
      "model_name": "DescriptionStyleModel",
      "state": {
       "description_width": ""
      }
     },
     "a113f9a46e594837a72c18bee4c070ee": {
      "model_module": "@jupyter-widgets/controls",
      "model_module_version": "1.5.0",
      "model_name": "DescriptionStyleModel",
      "state": {
       "description_width": ""
      }
     },
     "a15ce8a2818f46ec990b412001e71330": {
      "model_module": "@jupyter-widgets/controls",
      "model_module_version": "1.5.0",
      "model_name": "DescriptionStyleModel",
      "state": {
       "description_width": ""
      }
     },
     "a15e4003e01e4efaa5ba5d8143e2e69b": {
      "model_module": "@jupyter-widgets/controls",
      "model_module_version": "1.5.0",
      "model_name": "DescriptionStyleModel",
      "state": {
       "description_width": ""
      }
     },
     "a16155aa0c994343add2dcc2f0f9f8e6": {
      "model_module": "@jupyter-widgets/controls",
      "model_module_version": "1.5.0",
      "model_name": "BoxModel",
      "state": {
       "children": [
        "IPY_MODEL_0983db13ce9940a2a9798778f3f8c0c4",
        "IPY_MODEL_1126bebf45274da09372d8a3890aea3b",
        "IPY_MODEL_9c0188a0cdf94982b1883197ed9dd45c"
       ],
       "layout": "IPY_MODEL_6b07abda18054600a5b23be74e02f051"
      }
     },
     "a1fb09761d934875a6b861aef79241ab": {
      "model_module": "@jupyter-widgets/controls",
      "model_module_version": "1.5.0",
      "model_name": "DescriptionStyleModel",
      "state": {
       "description_width": ""
      }
     },
     "a242b671d76d4200b2a14d7c6d0ab64d": {
      "model_module": "@jupyter-widgets/controls",
      "model_module_version": "1.5.0",
      "model_name": "HTMLModel",
      "state": {
       "layout": "IPY_MODEL_85bb9077ab9d42a6bb59f7aeb1a603c3",
       "style": "IPY_MODEL_888acb0c96b84c47981fbb3cf65a19fd",
       "value": "<a\n  class=\"txtu hbo\"\n  href=\"https://shebanq.ancient-data.org/hebrew/word?version=2021&amp;id=1RACJTn\"\n  target=\"_blank\"\n  title=\"Show this on SHEBANQ\">\n        <span class=\"txtp\">\n         rēšˌîṯ\n        </span>\n       </a>"
      }
     },
     "a245bd1c43674010b0ca9a352f98bc43": {
      "model_module": "@jupyter-widgets/controls",
      "model_module_version": "1.5.0",
      "model_name": "DescriptionStyleModel",
      "state": {
       "description_width": ""
      }
     },
     "a33591812ba3494da3de56adbdff921a": {
      "model_module": "@jupyter-widgets/controls",
      "model_module_version": "1.5.0",
      "model_name": "BoxModel",
      "state": {
       "children": [
        "IPY_MODEL_c7f8f790700e48d690bb91daa5a37095",
        "IPY_MODEL_1f62ca515b454fe9b55d7aa86522f7a7"
       ],
       "layout": "IPY_MODEL_8d7e79749b524df9afbd77f32e0f67e4"
      }
     },
     "a3920d983764424f87036295f23ded20": {
      "model_module": "@jupyter-widgets/base",
      "model_module_version": "1.2.0",
      "model_name": "LayoutModel",
      "state": {
       "flex": "auto 0 0",
       "width": "5em"
      }
     },
     "a39f6bb194c341e2b4999fcd423d6e9b": {
      "model_module": "@jupyter-widgets/controls",
      "model_module_version": "1.5.0",
      "model_name": "BoxModel",
      "state": {
       "children": [
        "IPY_MODEL_3abda5f8323a485b8b144ad00b604152",
        "IPY_MODEL_3853f8ad5a874fcea02c9c81a65c8d15"
       ],
       "layout": "IPY_MODEL_67c647bcb6af4f518be84f5fe88d6f14"
      }
     },
     "a4505a283a4043cc805496cdedd0c656": {
      "model_module": "@jupyter-widgets/base",
      "model_module_version": "1.2.0",
      "model_name": "LayoutModel",
      "state": {
       "flex": "auto 1 1",
       "height": "3em"
      }
     },
     "a47b5b660b7140f0ad0d32708fbd3c4b": {
      "model_module": "@jupyter-widgets/controls",
      "model_module_version": "1.5.0",
      "model_name": "HTMLModel",
      "state": {
       "layout": "IPY_MODEL_53bdb4d206c24663aebba6f8c64a8978",
       "style": "IPY_MODEL_c33c05923c9447d8a77eb1481025fbe8",
       "value": "<a\n  class=\"txtu hbo\"\n  href=\"https://shebanq.ancient-data.org/hebrew/word?version=2021&amp;id=1B\"\n  target=\"_blank\"\n  title=\"Show this on SHEBANQ\">\n        <span class=\"txtp\">\n         bᵊ\n        </span>\n       </a>"
      }
     },
     "a4c0862c21474a9f9f679c8b7575e475": {
      "model_module": "@jupyter-widgets/base",
      "model_module_version": "1.2.0",
      "model_name": "LayoutModel",
      "state": {
       "align_content": "flex-start"
      }
     },
     "a50839a5ad954fa2b7004331213504f7": {
      "model_module": "@jupyter-widgets/base",
      "model_module_version": "1.2.0",
      "model_name": "LayoutModel",
      "state": {
       "flex": "auto 1 1"
      }
     },
     "a51a79f4203241588d9bde05c982fc14": {
      "model_module": "@jupyter-widgets/controls",
      "model_module_version": "1.5.0",
      "model_name": "BoxModel",
      "state": {
       "children": [
        "IPY_MODEL_fa5d4cae47aa4c78bd0cfe15a8c104f7",
        "IPY_MODEL_d8e55b8c76bc4eba85600b4953967d84",
        "IPY_MODEL_d3861b585de942de993984fe2326aefc"
       ],
       "layout": "IPY_MODEL_3c5923e10375423c96b5ed12a37379ae"
      }
     },
     "a5753bd6142b4da1ba54bb01f239e697": {
      "model_module": "@jupyter-widgets/base",
      "model_module_version": "1.2.0",
      "model_name": "LayoutModel",
      "state": {
       "flex": "auto 0 0"
      }
     },
     "a5cf1aafa0df42f894d513432afc6564": {
      "model_module": "@jupyter-widgets/base",
      "model_module_version": "1.2.0",
      "model_name": "LayoutModel",
      "state": {
       "flex": "auto 0 0",
       "height": "4em",
       "width": "20m"
      }
     },
     "a63388677fe745c08a13acdf2e54c919": {
      "model_module": "@jupyter-widgets/base",
      "model_module_version": "1.2.0",
      "model_name": "LayoutModel",
      "state": {
       "flex": "auto 0 0"
      }
     },
     "a67df818936b462c8004c623326ef4a3": {
      "model_module": "@jupyter-widgets/base",
      "model_module_version": "1.2.0",
      "model_name": "LayoutModel",
      "state": {
       "flex": "auto 0 0"
      }
     },
     "a6d04fbe6a0c492b842145f4f339c202": {
      "model_module": "@jupyter-widgets/controls",
      "model_module_version": "1.5.0",
      "model_name": "BoxModel",
      "state": {
       "children": [
        "IPY_MODEL_b96431e14ccf44099a3afab1909d5ddc",
        "IPY_MODEL_8fde3b90d85b415faf1eb5f2d51ae1f6"
       ],
       "layout": "IPY_MODEL_47da25a846ca460eae62c4ff3864311b"
      }
     },
     "a78e99d295ac41fcae54d34cf4ad4949": {
      "model_module": "@jupyter-widgets/controls",
      "model_module_version": "1.5.0",
      "model_name": "HTMLModel",
      "state": {
       "layout": "IPY_MODEL_455f102b6dc54c63a4f8024472a57e51",
       "style": "IPY_MODEL_090339d7718d42e9a6b491305361a34d",
       "value": "<a\n  class=\"txtu hbo\"\n  href=\"https://shebanq.ancient-data.org/hebrew/word?version=2021&amp;id=1B\"\n  target=\"_blank\"\n  title=\"Show this on SHEBANQ\">\n        <span class=\"txtp\">\n         bᵊ\n        </span>\n       </a>"
      }
     },
     "a82372a6a57942c3b31789542b23a6f9": {
      "model_module": "@jupyter-widgets/controls",
      "model_module_version": "1.5.0",
      "model_name": "DescriptionStyleModel",
      "state": {
       "description_width": ""
      }
     },
     "a890fecf9d624894a1cdb6f1bd9c66eb": {
      "model_module": "@jupyter-widgets/controls",
      "model_module_version": "1.5.0",
      "model_name": "TextModel",
      "state": {
       "layout": "IPY_MODEL_47da25a846ca460eae62c4ff3864311b",
       "placeholder": "pdp",
       "style": "IPY_MODEL_a82372a6a57942c3b31789542b23a6f9",
       "value": "prep"
      }
     },
     "a8e7a86a72764dd489a87996fc46d817": {
      "model_module": "@jupyter-widgets/controls",
      "model_module_version": "1.5.0",
      "model_name": "DescriptionStyleModel",
      "state": {
       "description_width": ""
      }
     },
     "a8f83bc0097d4dc5a933fcbe08a590f7": {
      "model_module": "@jupyter-widgets/controls",
      "model_module_version": "1.5.0",
      "model_name": "DescriptionStyleModel",
      "state": {
       "description_width": ""
      }
     },
     "a9ad6b7bffc542eb9d11cdd7260f4fa0": {
      "model_module": "@jupyter-widgets/controls",
      "model_module_version": "1.5.0",
      "model_name": "BoxModel",
      "state": {
       "children": [
        "IPY_MODEL_b8d7a1fedebc43cfad32e6fbcc39affd",
        "IPY_MODEL_3a24dbf74c0448fea8613c63d09b3120",
        "IPY_MODEL_025826573da74d6ba46f7d39fa1c96c6"
       ],
       "layout": "IPY_MODEL_40320c39cf7c42579ed753e42d7ea79d"
      }
     },
     "aa760b9ffe6d404bb91d01c0b605c87d": {
      "model_module": "@jupyter-widgets/controls",
      "model_module_version": "1.5.0",
      "model_name": "BoxModel",
      "state": {
       "children": [
        "IPY_MODEL_d295590d6001484e8cff5dbeb4791add",
        "IPY_MODEL_151304d6f6a64710b2e87205eea49d0c"
       ],
       "layout": "IPY_MODEL_05098c488fd24b43b145fb991eda3072"
      }
     },
     "aa7fa565f0834e82b388e85e08f631ae": {
      "model_module": "@jupyter-widgets/controls",
      "model_module_version": "1.5.0",
      "model_name": "TextModel",
      "state": {
       "layout": "IPY_MODEL_80b33f56b09c4e3386cf3f20fb43cdeb",
       "placeholder": "gloss",
       "style": "IPY_MODEL_f1ccddc8619841f3bbb68f670b05678c",
       "value": "in"
      }
     },
     "aa8e126efa104b408d42beccfac7b495": {
      "model_module": "@jupyter-widgets/controls",
      "model_module_version": "1.5.0",
      "model_name": "BoxModel",
      "state": {
       "children": [
        "IPY_MODEL_9512ab45611b4cbc906d7dd9fd448e84",
        "IPY_MODEL_0f59d1f6bac54674aaaebfad130432d5"
       ],
       "layout": "IPY_MODEL_8d7e79749b524df9afbd77f32e0f67e4"
      }
     },
     "aae0926034f640a6810a5b55d5bbcf6a": {
      "model_module": "@jupyter-widgets/controls",
      "model_module_version": "1.5.0",
      "model_name": "DescriptionStyleModel",
      "state": {
       "description_width": ""
      }
     },
     "aaff52315cc24b5bbde5cb702d75b8d2": {
      "model_module": "@jupyter-widgets/controls",
      "model_module_version": "1.5.0",
      "model_name": "TextModel",
      "state": {
       "layout": "IPY_MODEL_868f19a322eb49abb7f68c359442dcd7",
       "placeholder": "gloss",
       "style": "IPY_MODEL_86bfeb62c22e4e0b959db8fcda2d4777",
       "value": "in"
      }
     },
     "ab65b50c40bf49ef9e6f4181e4d95b47": {
      "model_module": "@jupyter-widgets/controls",
      "model_module_version": "1.5.0",
      "model_name": "HTMLModel",
      "state": {
       "layout": "IPY_MODEL_5505dbdc9dc6410784ad236d7e87f1ce",
       "style": "IPY_MODEL_48197631fe5b44ab9ed6c09e1f65d71b",
       "value": "pdp="
      }
     },
     "aba7e0a8942d4a35b3509541c5007813": {
      "model_module": "@jupyter-widgets/controls",
      "model_module_version": "1.5.0",
      "model_name": "TextModel",
      "state": {
       "layout": "IPY_MODEL_c0143fa9d3a848138407e21dea8a2d85",
       "placeholder": "gloss",
       "style": "IPY_MODEL_de542186ce6b4eaf975f9fceb626df8d",
       "value": "in"
      }
     },
     "abdd438089a84b65a793cf22d9d1b081": {
      "model_module": "@jupyter-widgets/base",
      "model_module_version": "1.2.0",
      "model_name": "LayoutModel",
      "state": {
       "flex": "auto 2 2",
       "height": "3em"
      }
     },
     "abf67052075e42b887d0af40ea06cb08": {
      "model_module": "@jupyter-widgets/controls",
      "model_module_version": "1.5.0",
      "model_name": "HTMLModel",
      "state": {
       "layout": "IPY_MODEL_7c08dc2afa9a4f45af60650f9f27c39e",
       "style": "IPY_MODEL_a113f9a46e594837a72c18bee4c070ee",
       "value": "<a\n  class=\"txtu hbo\"\n  href=\"https://shebanq.ancient-data.org/hebrew/word?version=2021&amp;id=1B\"\n  target=\"_blank\"\n  title=\"Show this on SHEBANQ\">\n        <span class=\"txtp\">\n         bᵊ\n        </span>\n       </a>"
      }
     },
     "ac0b959a625a49809bd934ff30275a9a": {
      "model_module": "@jupyter-widgets/controls",
      "model_module_version": "1.5.0",
      "model_name": "HTMLModel",
      "state": {
       "layout": "IPY_MODEL_b3404fe7ed104809b60d56118195bd66",
       "style": "IPY_MODEL_5fff2da3c0f54deea06922b91ad71db1",
       "value": "<a\n  class=\"txtu hbo\"\n  href=\"https://shebanq.ancient-data.org/hebrew/word?version=2021&amp;id=1B\"\n  target=\"_blank\"\n  title=\"Show this on SHEBANQ\">\n        <span class=\"txtp\">\n         bᵊ\n        </span>\n       </a>"
      }
     },
     "ac1f42cec5934d6287f58b0aa2e4088f": {
      "model_module": "@jupyter-widgets/base",
      "model_module_version": "1.2.0",
      "model_name": "LayoutModel",
      "state": {
       "align_content": "flex-start",
       "align_items": "flex-start",
       "flex": "auto 0 0",
       "height": "3em",
       "justify_content": "flex-start",
       "width": "15em"
      }
     },
     "ac6e437d855042b9b7df52783aabce08": {
      "model_module": "@jupyter-widgets/controls",
      "model_module_version": "1.5.0",
      "model_name": "TextModel",
      "state": {
       "description": "pdp=",
       "layout": "IPY_MODEL_8ee2cc813bfa4d6e94f006feed8179a7",
       "placeholder": "pdp",
       "style": "IPY_MODEL_59540a653ef641c489d4b050df77025c",
       "value": "prep"
      }
     },
     "ac8b42e8de98444fb4aa2247cf9ede74": {
      "model_module": "@jupyter-widgets/base",
      "model_module_version": "1.2.0",
      "model_name": "LayoutModel",
      "state": {
       "flex": "auto 1 1",
       "height": "4em"
      }
     },
     "acc0eddb778e416a86cee2dfb6e1d0db": {
      "model_module": "@jupyter-widgets/controls",
      "model_module_version": "1.5.0",
      "model_name": "BoxModel",
      "state": {
       "children": [
        "IPY_MODEL_59ca8dcc67144ae9ad4d5c9bd152f9fd",
        "IPY_MODEL_042730659bab4016b4c61ace1a14f919",
        "IPY_MODEL_2fbe63f9e22c4397987bb9455caadf79"
       ],
       "layout": "IPY_MODEL_1ef14f24d90c4b6cbf6d0f95adfa0389"
      }
     },
     "acf956568c634e1699eca6ab1b290ed8": {
      "model_module": "@jupyter-widgets/controls",
      "model_module_version": "1.5.0",
      "model_name": "DescriptionStyleModel",
      "state": {
       "description_width": ""
      }
     },
     "ad29c8ce97964c2f80613ae2594745ad": {
      "model_module": "@jupyter-widgets/controls",
      "model_module_version": "1.5.0",
      "model_name": "HTMLModel",
      "state": {
       "layout": "IPY_MODEL_3798d5c006bf442db1f30e302bbb4149",
       "style": "IPY_MODEL_90725437b46c47bf90e7239eb30f4a07",
       "value": "<a\n  class=\"txtu hbo\"\n  href=\"https://shebanq.ancient-data.org/hebrew/word?version=2021&amp;id=1B\"\n  target=\"_blank\"\n  title=\"Show this on SHEBANQ\">\n        <span class=\"txtp\">\n         bᵊ\n        </span>\n       </a>"
      }
     },
     "aed90ccc63ee45ad99beea71ee4aad0d": {
      "model_module": "@jupyter-widgets/base",
      "model_module_version": "1.2.0",
      "model_name": "LayoutModel",
      "state": {
       "flex": "auto 1 1"
      }
     },
     "aee8bfde808348429e33131b5223921f": {
      "model_module": "@jupyter-widgets/controls",
      "model_module_version": "1.5.0",
      "model_name": "BoxModel",
      "state": {
       "children": [
        "IPY_MODEL_e6090fe7e3fe4610926b99e78454a0c4",
        "IPY_MODEL_e4efbb5f8dad4402ae2b07df30eb5a27"
       ],
       "layout": "IPY_MODEL_3e5253dc3d5946cc903f0c6a569885a6"
      }
     },
     "af06d1742e4c4fe38c6050899af8202d": {
      "model_module": "@jupyter-widgets/controls",
      "model_module_version": "1.5.0",
      "model_name": "BoxModel",
      "state": {
       "children": [
        "IPY_MODEL_4e5c7f73ce0945d4b76f8ec7bdf3f581",
        "IPY_MODEL_2e5bb8e443f548fcad4f1f1fd5af5d17"
       ],
       "layout": "IPY_MODEL_6786ba4c7b634f29af11ed9e3486a74b"
      }
     },
     "af7ecd6a505048f99af277ccd4e9414f": {
      "model_module": "@jupyter-widgets/base",
      "model_module_version": "1.2.0",
      "model_name": "LayoutModel",
      "state": {
       "flex": "auto 0 0"
      }
     },
     "b03491f144504072acb4338a5815c412": {
      "model_module": "@jupyter-widgets/controls",
      "model_module_version": "1.5.0",
      "model_name": "HTMLModel",
      "state": {
       "layout": "IPY_MODEL_78f17e9268f64e28bb3e8b14ad53b853",
       "style": "IPY_MODEL_0fb87886c02e4952bd77ec8f4ccc5da8",
       "value": "pdp="
      }
     },
     "b0fa3e7b282d46f8bbdf9dcaf2fa1a72": {
      "model_module": "@jupyter-widgets/controls",
      "model_module_version": "1.5.0",
      "model_name": "TextModel",
      "state": {
       "layout": "IPY_MODEL_050aee8bc2c2473294aa146ac5c55a1b",
       "placeholder": "gloss",
       "style": "IPY_MODEL_12fc329ce05b487d86de582d3403a9d1",
       "value": "beginning"
      }
     },
     "b257b97a1a3a4f92992b2ffa4f4a27bd": {
      "model_module": "@jupyter-widgets/base",
      "model_module_version": "1.2.0",
      "model_name": "LayoutModel",
      "state": {
       "flex": "auto 0 0",
       "height": "3em",
       "width": "7em"
      }
     },
     "b2c24a71d6014e7a943856c8bff54f17": {
      "model_module": "@jupyter-widgets/base",
      "model_module_version": "1.2.0",
      "model_name": "LayoutModel",
      "state": {
       "flex": "auto 1 1"
      }
     },
     "b2f796bab2924a3aa30a83de2162b9a8": {
      "model_module": "@jupyter-widgets/controls",
      "model_module_version": "1.5.0",
      "model_name": "DescriptionStyleModel",
      "state": {
       "description_width": ""
      }
     },
     "b3404fe7ed104809b60d56118195bd66": {
      "model_module": "@jupyter-widgets/base",
      "model_module_version": "1.2.0",
      "model_name": "LayoutModel",
      "state": {
       "flex": "auto 0 0"
      }
     },
     "b37b9149c3c64e9496b0c959bdd911e0": {
      "model_module": "@jupyter-widgets/controls",
      "model_module_version": "1.5.0",
      "model_name": "BoxModel",
      "state": {
       "children": [
        "IPY_MODEL_f473b89f35f348908fb750d52cdebcf3",
        "IPY_MODEL_190d11a08fdb4e509b20faea42ea1938"
       ],
       "layout": "IPY_MODEL_60bcb0dd994d453eac8af211503db9a2"
      }
     },
     "b3a272be3d4c4cb89b9826182bf26bcd": {
      "model_module": "@jupyter-widgets/controls",
      "model_module_version": "1.5.0",
      "model_name": "HTMLModel",
      "state": {
       "layout": "IPY_MODEL_aed90ccc63ee45ad99beea71ee4aad0d",
       "style": "IPY_MODEL_83a1edeecf2d44cfbd35ccb343583c7e",
       "value": "<a\n  class=\"txtu hbo\"\n  href=\"https://shebanq.ancient-data.org/hebrew/word?version=2021&amp;id=1B\"\n  target=\"_blank\"\n  title=\"Show this on SHEBANQ\">\n        <span class=\"txtp\">\n         bᵊ\n        </span>\n       </a>"
      }
     },
     "b3b6064833c7410b9d25228821263d81": {
      "model_module": "@jupyter-widgets/controls",
      "model_module_version": "1.5.0",
      "model_name": "TextModel",
      "state": {
       "layout": "IPY_MODEL_41b732ec11394d6a8410b4a73e0a5f11",
       "placeholder": "gloss",
       "style": "IPY_MODEL_da0aa975a4204379998be55222a4f6a4",
       "value": "in"
      }
     },
     "b42b11d8adfe4b999e0eb00c9128f1d5": {
      "model_module": "@jupyter-widgets/controls",
      "model_module_version": "1.5.0",
      "model_name": "BoxModel",
      "state": {
       "children": [
        "IPY_MODEL_df13a1ddb93845fb981c57629af7fae6",
        "IPY_MODEL_6768bf7187ce4b74807ddb4685e7ba83"
       ],
       "layout": "IPY_MODEL_f13534b49cc3426385e12cfb6ba72898"
      }
     },
     "b487d4c1270d4b00b20a9f421112a11f": {
      "model_module": "@jupyter-widgets/controls",
      "model_module_version": "1.5.0",
      "model_name": "HTMLModel",
      "state": {
       "layout": "IPY_MODEL_ce9e96c3a70949f4b9b402e71cc8f8bf",
       "style": "IPY_MODEL_f717a6a807794ee381816bef14b292a3",
       "value": "<a\n  class=\"txtu hbo\"\n  href=\"https://shebanq.ancient-data.org/hebrew/word?version=2021&amp;id=1RACJTn\"\n  target=\"_blank\"\n  title=\"Show this on SHEBANQ\">\n        <span class=\"txtp\">\n         rēšˌîṯ\n        </span>\n       </a>"
      }
     },
     "b4ab4e9d8b3e4b7db534846f2595321f": {
      "model_module": "@jupyter-widgets/controls",
      "model_module_version": "1.5.0",
      "model_name": "BoxModel",
      "state": {
       "children": [
        "IPY_MODEL_a242b671d76d4200b2a14d7c6d0ab64d",
        "IPY_MODEL_5dd96432ac05415b9fced08e42756dae",
        "IPY_MODEL_ebc5be023cad4ee8aab7169fe649b897"
       ],
       "layout": "IPY_MODEL_672385c8566443229640541092b1203d"
      }
     },
     "b50d0e25ef3240c0a0191f7bdb991934": {
      "model_module": "@jupyter-widgets/controls",
      "model_module_version": "1.5.0",
      "model_name": "BoxModel",
      "state": {
       "children": [
        "IPY_MODEL_041835a1273144c3929ac6e4fcb85581",
        "IPY_MODEL_0f1432daae684fba969ca0c1dd0a6c93"
       ],
       "layout": "IPY_MODEL_5fc6d2624e5f4d8c8459d2b7980154f4"
      }
     },
     "b52f8c5bba7b44d3895cfd6e1c0310b8": {
      "model_module": "@jupyter-widgets/controls",
      "model_module_version": "1.5.0",
      "model_name": "DescriptionStyleModel",
      "state": {
       "description_width": ""
      }
     },
     "b56308962fea416b83bf07c41fd9d073": {
      "model_module": "@jupyter-widgets/base",
      "model_module_version": "1.2.0",
      "model_name": "LayoutModel",
      "state": {
       "flex": "auto 1 1"
      }
     },
     "b56fed63e1c24950a20449b8f48050da": {
      "model_module": "@jupyter-widgets/controls",
      "model_module_version": "1.5.0",
      "model_name": "HTMLModel",
      "state": {
       "layout": "IPY_MODEL_4eb47bb059da4ef8a1dff5813abd56b6",
       "style": "IPY_MODEL_f4aae080385e4e49a5e062b4a10acb44",
       "value": "<a\n  class=\"txtu hbo\"\n  href=\"https://shebanq.ancient-data.org/hebrew/word?version=2021&amp;id=1B\"\n  target=\"_blank\"\n  title=\"Show this on SHEBANQ\">\n        <span class=\"txtp\">\n         bᵊ\n        </span>\n       </a>"
      }
     },
     "b57929a984484e388bab2766454f9343": {
      "model_module": "@jupyter-widgets/base",
      "model_module_version": "1.2.0",
      "model_name": "LayoutModel",
      "state": {
       "flex": "auto 1 1",
       "height": "3em"
      }
     },
     "b58ca6dba1f543afaf196c398321a3b7": {
      "model_module": "@jupyter-widgets/controls",
      "model_module_version": "1.5.0",
      "model_name": "HTMLModel",
      "state": {
       "layout": "IPY_MODEL_d8a8ad914f104dbaaccf358a83d73071",
       "style": "IPY_MODEL_e4d626dd87954c0c979e5fe56a2e7cff",
       "value": "pdp="
      }
     },
     "b5ffc72843924a4eb3dd78432dc461aa": {
      "model_module": "@jupyter-widgets/controls",
      "model_module_version": "1.5.0",
      "model_name": "DescriptionStyleModel",
      "state": {
       "description_width": ""
      }
     },
     "b60eb3203f6b4ea88e4b91b0d73f9be7": {
      "model_module": "@jupyter-widgets/controls",
      "model_module_version": "1.5.0",
      "model_name": "BoxModel",
      "state": {
       "children": [
        "IPY_MODEL_e6090fe7e3fe4610926b99e78454a0c4",
        "IPY_MODEL_e4efbb5f8dad4402ae2b07df30eb5a27"
       ],
       "layout": "IPY_MODEL_f6b2fc9058c8405b92afa7da2bb08665"
      }
     },
     "b699896b66fe401cb2ed5c6feed3c6d6": {
      "model_module": "@jupyter-widgets/controls",
      "model_module_version": "1.5.0",
      "model_name": "TextModel",
      "state": {
       "layout": "IPY_MODEL_47aa242da6384c6f9bc981c27b096204",
       "placeholder": "pdp",
       "style": "IPY_MODEL_bc02f1f02dbb4109bf51a2aed9c4eda8",
       "value": "prep"
      }
     },
     "b7404ef74f51448ba0155607fc3d16e0": {
      "model_module": "@jupyter-widgets/controls",
      "model_module_version": "1.5.0",
      "model_name": "TextModel",
      "state": {
       "layout": "IPY_MODEL_b57929a984484e388bab2766454f9343",
       "placeholder": "gloss",
       "style": "IPY_MODEL_7ec0899d03da475fba4ce39b2f5d1dfa",
       "value": "beginning"
      }
     },
     "b740b675f1c54025bb375735aa8a66ae": {
      "model_module": "@jupyter-widgets/controls",
      "model_module_version": "1.5.0",
      "model_name": "TextModel",
      "state": {
       "description": "pdp=",
       "layout": "IPY_MODEL_1c9be211bed446ddbcce5c38f505cfe7",
       "placeholder": "pdp",
       "style": "IPY_MODEL_3d009c8d7a9b4135b919bb59df5a4bd4",
       "value": "prep"
      }
     },
     "b742be8b70d7479291795b4a02c66895": {
      "model_module": "@jupyter-widgets/base",
      "model_module_version": "1.2.0",
      "model_name": "LayoutModel",
      "state": {
       "align_content": "flex-start",
       "align_items": "flex-start",
       "border": "2px solid gray",
       "flex_flow": "column",
       "justify_content": "flex-start",
       "width": "20em"
      }
     },
     "b746309460054cde9f33d814531a7cc3": {
      "model_module": "@jupyter-widgets/base",
      "model_module_version": "1.2.0",
      "model_name": "LayoutModel",
      "state": {
       "flex": "auto 1 1",
       "height": "4em"
      }
     },
     "b826237732a84922b5b7ec3bcbc372f1": {
      "model_module": "@jupyter-widgets/controls",
      "model_module_version": "1.5.0",
      "model_name": "DescriptionStyleModel",
      "state": {
       "description_width": ""
      }
     },
     "b8b571fb85534d35b0335df5fd216d81": {
      "model_module": "@jupyter-widgets/controls",
      "model_module_version": "1.5.0",
      "model_name": "TextModel",
      "state": {
       "layout": "IPY_MODEL_24bd033fc8dd4de493b8d5427ed51d4a",
       "placeholder": "gloss",
       "style": "IPY_MODEL_0d89ef7cea3848d1b05497fa0453b8de",
       "value": "in"
      }
     },
     "b8d7a1fedebc43cfad32e6fbcc39affd": {
      "model_module": "@jupyter-widgets/controls",
      "model_module_version": "1.5.0",
      "model_name": "HTMLModel",
      "state": {
       "layout": "IPY_MODEL_bfc06732825d4c43a3aa41ef89df5e72",
       "style": "IPY_MODEL_2ef88c3057604541b0176b2b7338b6df",
       "value": "<a\n  class=\"txtu hbo\"\n  href=\"https://shebanq.ancient-data.org/hebrew/word?version=2021&amp;id=1B\"\n  target=\"_blank\"\n  title=\"Show this on SHEBANQ\">\n        <span class=\"txtp\">\n         bᵊ\n        </span>\n       </a>"
      }
     },
     "b96431e14ccf44099a3afab1909d5ddc": {
      "model_module": "@jupyter-widgets/controls",
      "model_module_version": "1.5.0",
      "model_name": "HTMLModel",
      "state": {
       "layout": "IPY_MODEL_4e270fffdcb840238725b0840a30aa2f",
       "style": "IPY_MODEL_e41743ba9b354c8991e0a8e0d812a58b",
       "value": "pdp="
      }
     },
     "b9f88450e951452fbb400caf2cc256c8": {
      "model_module": "@jupyter-widgets/base",
      "model_module_version": "1.2.0",
      "model_name": "LayoutModel",
      "state": {
       "flex": "auto 2 2",
       "height": "4em"
      }
     },
     "ba0fd248ddd04fe68d5f9fb19bd39ecf": {
      "model_module": "@jupyter-widgets/controls",
      "model_module_version": "1.5.0",
      "model_name": "DescriptionStyleModel",
      "state": {
       "description_width": ""
      }
     },
     "ba75f2977beb4c2e9fd39d76fe0abaf4": {
      "model_module": "@jupyter-widgets/base",
      "model_module_version": "1.2.0",
      "model_name": "LayoutModel",
      "state": {
       "flex": "auto 1 1",
       "height": "4em"
      }
     },
     "bacb0fd606a84e66881ef51f513deafc": {
      "model_module": "@jupyter-widgets/controls",
      "model_module_version": "1.5.0",
      "model_name": "BoxModel",
      "state": {
       "children": [
        "IPY_MODEL_aa8e126efa104b408d42beccfac7b495",
        "IPY_MODEL_a33591812ba3494da3de56adbdff921a"
       ],
       "layout": "IPY_MODEL_117d3e75bec64220b63a6188216bb322"
      }
     },
     "bad3e2a1bc044e38901fc0505e22ae47": {
      "model_module": "@jupyter-widgets/controls",
      "model_module_version": "1.5.0",
      "model_name": "DescriptionStyleModel",
      "state": {
       "description_width": ""
      }
     },
     "bae8de34060841c2ae8dab68e5264b85": {
      "model_module": "@jupyter-widgets/base",
      "model_module_version": "1.2.0",
      "model_name": "LayoutModel",
      "state": {}
     },
     "bc02f1f02dbb4109bf51a2aed9c4eda8": {
      "model_module": "@jupyter-widgets/controls",
      "model_module_version": "1.5.0",
      "model_name": "DescriptionStyleModel",
      "state": {
       "description_width": ""
      }
     },
     "bc3050b72a144b12b74c6843b639ff30": {
      "model_module": "@jupyter-widgets/controls",
      "model_module_version": "1.5.0",
      "model_name": "TextModel",
      "state": {
       "layout": "IPY_MODEL_801eb73783184ce2b47d3fc43736d6f7",
       "placeholder": "gloss",
       "style": "IPY_MODEL_7e8e246da43e482e91ecc265286bae31",
       "value": "in"
      }
     },
     "bc461a7365164392a16c74176f23abfd": {
      "model_module": "@jupyter-widgets/controls",
      "model_module_version": "1.5.0",
      "model_name": "DescriptionStyleModel",
      "state": {
       "description_width": ""
      }
     },
     "bc7861be95224ffabcd93a738c16968d": {
      "model_module": "@jupyter-widgets/controls",
      "model_module_version": "1.5.0",
      "model_name": "BoxModel",
      "state": {
       "children": [
        "IPY_MODEL_62440deb484d440a85704098ea8e36ac",
        "IPY_MODEL_ed6982ede4064e3d87faf5c8ad764ac0"
       ],
       "layout": "IPY_MODEL_f0d753f8a2c84a1186020566d466f399"
      }
     },
     "bc91f480676346a4b489aae4b4a3630d": {
      "model_module": "@jupyter-widgets/controls",
      "model_module_version": "1.5.0",
      "model_name": "HTMLModel",
      "state": {
       "layout": "IPY_MODEL_b56308962fea416b83bf07c41fd9d073",
       "style": "IPY_MODEL_e777ad5fad614b1bb5b1ca63c432a585",
       "value": "<a\n  class=\"txtu hbo\"\n  href=\"https://shebanq.ancient-data.org/hebrew/word?version=2021&amp;id=1RACJTn\"\n  target=\"_blank\"\n  title=\"Show this on SHEBANQ\">\n        <span class=\"txtp\">\n         rēšˌîṯ\n        </span>\n       </a>"
      }
     },
     "bcf809a41bfe4a82be0b80b1af8d8caf": {
      "model_module": "@jupyter-widgets/controls",
      "model_module_version": "1.5.0",
      "model_name": "HTMLModel",
      "state": {
       "layout": "IPY_MODEL_444f47fe753e410b9f4aae383bbccdff",
       "style": "IPY_MODEL_84c27aaee32648bcb052871d3a9894b0",
       "value": "<a\n  class=\"txtu hbo\"\n  href=\"https://shebanq.ancient-data.org/hebrew/word?version=2021&amp;id=1B\"\n  target=\"_blank\"\n  title=\"Show this on SHEBANQ\">\n        <span class=\"txtp\">\n         bᵊ\n        </span>\n       </a>"
      }
     },
     "bd757e46aa7546bb8c69aa8d317ea115": {
      "model_module": "@jupyter-widgets/base",
      "model_module_version": "1.2.0",
      "model_name": "LayoutModel",
      "state": {
       "flex": "auto 1 0",
       "height": "3em"
      }
     },
     "bde7b451500f499ba4487745406752cc": {
      "model_module": "@jupyter-widgets/controls",
      "model_module_version": "1.5.0",
      "model_name": "DescriptionStyleModel",
      "state": {
       "description_width": ""
      }
     },
     "be0b414c5ed54e0186d8f47669d65a64": {
      "model_module": "@jupyter-widgets/controls",
      "model_module_version": "1.5.0",
      "model_name": "DescriptionStyleModel",
      "state": {
       "description_width": ""
      }
     },
     "be439157a9814a2495cf77b6144735e4": {
      "model_module": "@jupyter-widgets/controls",
      "model_module_version": "1.5.0",
      "model_name": "BoxModel",
      "state": {
       "children": [
        "IPY_MODEL_83d47060a2d6445ea100ac5817f9dc8e",
        "IPY_MODEL_08f490fa2f434869bdd9eb4d2a354360"
       ],
       "layout": "IPY_MODEL_e526fe3ffa5c42188a4ed9f0a5b6bdec"
      }
     },
     "be456ebed9e04d2bbe6513bd5b3d1fd2": {
      "model_module": "@jupyter-widgets/controls",
      "model_module_version": "1.5.0",
      "model_name": "TextModel",
      "state": {
       "layout": "IPY_MODEL_df5fb7939bed4396a0e038033092b2ee",
       "placeholder": "gloss",
       "style": "IPY_MODEL_4c3f3b8dda1f4ee180cab21643516fdf",
       "value": "beginning"
      }
     },
     "be9d1ba0938648aa84029ccf21044c58": {
      "model_module": "@jupyter-widgets/controls",
      "model_module_version": "1.5.0",
      "model_name": "DescriptionStyleModel",
      "state": {
       "description_width": ""
      }
     },
     "beaff0379ae84a6ba3bb604b37fb2d8f": {
      "model_module": "@jupyter-widgets/controls",
      "model_module_version": "1.5.0",
      "model_name": "TextModel",
      "state": {
       "layout": "IPY_MODEL_80b33f56b09c4e3386cf3f20fb43cdeb",
       "placeholder": "gloss",
       "style": "IPY_MODEL_d9b024a276354c27b385f5e0f24e6ecd",
       "value": "beginning"
      }
     },
     "bf79b2d76a7c40f4a590e61264907748": {
      "model_module": "@jupyter-widgets/controls",
      "model_module_version": "1.5.0",
      "model_name": "TextModel",
      "state": {
       "layout": "IPY_MODEL_abdd438089a84b65a793cf22d9d1b081",
       "placeholder": "gloss",
       "style": "IPY_MODEL_9ea2cc0cce914ec8ba2a7233bffb2033",
       "value": "in"
      }
     },
     "bfc06732825d4c43a3aa41ef89df5e72": {
      "model_module": "@jupyter-widgets/base",
      "model_module_version": "1.2.0",
      "model_name": "LayoutModel",
      "state": {
       "flex": "auto 0 0"
      }
     },
     "c0143fa9d3a848138407e21dea8a2d85": {
      "model_module": "@jupyter-widgets/base",
      "model_module_version": "1.2.0",
      "model_name": "LayoutModel",
      "state": {
       "flex": "auto 0 0",
       "height": "3em",
       "width": "15em"
      }
     },
     "c040c937b6084ea18c5ef40ac3f4e422": {
      "model_module": "@jupyter-widgets/base",
      "model_module_version": "1.2.0",
      "model_name": "LayoutModel",
      "state": {
       "flex": "auto 1 1",
       "height": "3em"
      }
     },
     "c045992043b941f1a3a52dc271b32451": {
      "model_module": "@jupyter-widgets/controls",
      "model_module_version": "1.5.0",
      "model_name": "DescriptionStyleModel",
      "state": {
       "description_width": ""
      }
     },
     "c1c27bdcc0d14b058b218fee0df36b26": {
      "model_module": "@jupyter-widgets/controls",
      "model_module_version": "1.5.0",
      "model_name": "DescriptionStyleModel",
      "state": {
       "description_width": ""
      }
     },
     "c2d3915b5f364665822229c0424f6412": {
      "model_module": "@jupyter-widgets/controls",
      "model_module_version": "1.5.0",
      "model_name": "HTMLModel",
      "state": {
       "layout": "IPY_MODEL_6f4522b9c2ce4bdb89d95f1fd9e02908",
       "style": "IPY_MODEL_d05aee909aa94de386a61d335b2e8a90",
       "value": "<a\n  class=\"txtu hbo\"\n  href=\"https://shebanq.ancient-data.org/hebrew/word?version=2021&amp;id=1B\"\n  target=\"_blank\"\n  title=\"Show this on SHEBANQ\">\n        <span class=\"txtp\">\n         bᵊ\n        </span>\n       </a>"
      }
     },
     "c2e72fe2f0894fcaa214848ad8ead87b": {
      "model_module": "@jupyter-widgets/controls",
      "model_module_version": "1.5.0",
      "model_name": "DescriptionStyleModel",
      "state": {
       "description_width": ""
      }
     },
     "c33c05923c9447d8a77eb1481025fbe8": {
      "model_module": "@jupyter-widgets/controls",
      "model_module_version": "1.5.0",
      "model_name": "DescriptionStyleModel",
      "state": {
       "description_width": ""
      }
     },
     "c357fc8dd34d492b8074c48f5a2d1618": {
      "model_module": "@jupyter-widgets/base",
      "model_module_version": "1.2.0",
      "model_name": "LayoutModel",
      "state": {
       "flex": "auto 0 0",
       "height": "3em",
       "width": "5em"
      }
     },
     "c422c3635fa9413ab8e6674545a1f5ec": {
      "model_module": "@jupyter-widgets/controls",
      "model_module_version": "1.5.0",
      "model_name": "BoxModel",
      "state": {
       "children": [
        "IPY_MODEL_5a226d490a5e4babab9a7457a9c606e0",
        "IPY_MODEL_565f0f05b2054a96a9d94ae06d186e42"
       ],
       "layout": "IPY_MODEL_48a51df40cd44f50a1252eed14eb3671"
      }
     },
     "c56bc3e3d14c47339bf5549714a0f4f6": {
      "model_module": "@jupyter-widgets/controls",
      "model_module_version": "1.5.0",
      "model_name": "TextModel",
      "state": {
       "layout": "IPY_MODEL_48dc69e00006489cab4b115f4e4f988b",
       "placeholder": "gloss",
       "style": "IPY_MODEL_4d87cbf1354d478fb2a0ba4df8f1ee8a",
       "value": "in"
      }
     },
     "c57351d077834e7f9c80ff0721ae318f": {
      "model_module": "@jupyter-widgets/base",
      "model_module_version": "1.2.0",
      "model_name": "LayoutModel",
      "state": {
       "flex": "auto 1 1",
       "height": "4em"
      }
     },
     "c5f6b2d299924699aca0f9112655c06a": {
      "model_module": "@jupyter-widgets/controls",
      "model_module_version": "1.5.0",
      "model_name": "HTMLModel",
      "state": {
       "layout": "IPY_MODEL_83efffa40e324ca59afde19191c1a008",
       "style": "IPY_MODEL_7d4531bc60914fa0af8001d7c56d7740",
       "value": "<a\n  class=\"txtu hbo\"\n  href=\"https://shebanq.ancient-data.org/hebrew/word?version=2021&amp;id=1B\"\n  target=\"_blank\"\n  title=\"Show this on SHEBANQ\">\n        <span class=\"txtp\">\n         bᵊ\n        </span>\n       </a>"
      }
     },
     "c673c76d77924892983438268ace47a6": {
      "model_module": "@jupyter-widgets/controls",
      "model_module_version": "1.5.0",
      "model_name": "DescriptionStyleModel",
      "state": {
       "description_width": ""
      }
     },
     "c6b68d0d5e8f4fa5ae5f00904829e518": {
      "model_module": "@jupyter-widgets/controls",
      "model_module_version": "1.5.0",
      "model_name": "BoxModel",
      "state": {
       "children": [
        "IPY_MODEL_e355f29931e1423e85e47f6cd756d084",
        "IPY_MODEL_395a7ed32603498aad8e985929c50afe"
       ],
       "layout": "IPY_MODEL_d7d3410fd54d4e658062b3f4ccf58118"
      }
     },
     "c6ff78067854426a96b9fcbd1b7b30ef": {
      "model_module": "@jupyter-widgets/controls",
      "model_module_version": "1.5.0",
      "model_name": "HTMLModel",
      "state": {
       "layout": "IPY_MODEL_28b1f79a47c84f058721d1d3a6159228",
       "style": "IPY_MODEL_9e1f06e235e94537be9e687331d38db5",
       "value": "<a\n  class=\"txtu hbo\"\n  href=\"https://shebanq.ancient-data.org/hebrew/word?version=2021&amp;id=1RACJTn\"\n  target=\"_blank\"\n  title=\"Show this on SHEBANQ\">\n        <span class=\"txtp\">\n         rēšˌîṯ\n        </span>\n       </a>"
      }
     },
     "c771c070578641f89ce0f01a6edd505f": {
      "model_module": "@jupyter-widgets/controls",
      "model_module_version": "1.5.0",
      "model_name": "BoxModel",
      "state": {
       "children": [
        "IPY_MODEL_0a9f8c37833d455ba693f914a624e995",
        "IPY_MODEL_8aacd096818c44b481c1275d34255905"
       ],
       "layout": "IPY_MODEL_45e59c45fd864274ba85bd508565a89c"
      }
     },
     "c7f8f790700e48d690bb91daa5a37095": {
      "model_module": "@jupyter-widgets/controls",
      "model_module_version": "1.5.0",
      "model_name": "HTMLModel",
      "state": {
       "layout": "IPY_MODEL_f51d4dd34bd34e959013ccd7dff10487",
       "style": "IPY_MODEL_8d1f19b5469248e4a19a78fe09c98463",
       "value": "<a\n  class=\"txtu hbo\"\n  href=\"https://shebanq.ancient-data.org/hebrew/word?version=2021&amp;id=1RACJTn\"\n  target=\"_blank\"\n  title=\"Show this on SHEBANQ\">\n        <span class=\"txtp\">\n         rēšˌîṯ\n        </span>\n       </a>"
      }
     },
     "c90a5636fa4c40d196b9b56e5d8bdbfa": {
      "model_module": "@jupyter-widgets/base",
      "model_module_version": "1.2.0",
      "model_name": "LayoutModel",
      "state": {
       "flex": "auto 0 0",
       "height": "3em",
       "width": "10em"
      }
     },
     "ca4f59133780411199dd9b77de765b66": {
      "model_module": "@jupyter-widgets/base",
      "model_module_version": "1.2.0",
      "model_name": "LayoutModel",
      "state": {
       "align_content": "flex-start",
       "align_items": "flex-start",
       "border": "2px solid gray",
       "flex_flow": "column",
       "justify_content": "flex-start",
       "width": "16em"
      }
     },
     "ca7769a1c07540fa945abf3bcfcd5609": {
      "model_module": "@jupyter-widgets/controls",
      "model_module_version": "1.5.0",
      "model_name": "TextModel",
      "state": {
       "layout": "IPY_MODEL_a4505a283a4043cc805496cdedd0c656",
       "placeholder": "gloss",
       "style": "IPY_MODEL_edd98a0f467b4a7c891faa4e10272653",
       "value": "beginning"
      }
     },
     "caaccfcfcdcf4fcab4247b080749a50e": {
      "model_module": "@jupyter-widgets/controls",
      "model_module_version": "1.5.0",
      "model_name": "TextModel",
      "state": {
       "layout": "IPY_MODEL_24bd033fc8dd4de493b8d5427ed51d4a",
       "placeholder": "pdp",
       "style": "IPY_MODEL_55f8e4116ef14e95817c6c3ec84310dc",
       "value": "prep"
      }
     },
     "cace9f37c2c04f46b39d777fc1e40710": {
      "model_module": "@jupyter-widgets/controls",
      "model_module_version": "1.5.0",
      "model_name": "BoxModel",
      "state": {
       "children": [
        "IPY_MODEL_4b43114eeff542509db5aa279deadbe6",
        "IPY_MODEL_f29e0f9ec2c640a2a4a689399e73eef1"
       ],
       "layout": "IPY_MODEL_a5cf1aafa0df42f894d513432afc6564"
      }
     },
     "caee1b1166eb4617a3349faf5e788fac": {
      "model_module": "@jupyter-widgets/base",
      "model_module_version": "1.2.0",
      "model_name": "LayoutModel",
      "state": {
       "flex": "auto 0 0"
      }
     },
     "caf1ae347bfc49f9b8fa662f023f759d": {
      "model_module": "@jupyter-widgets/base",
      "model_module_version": "1.2.0",
      "model_name": "LayoutModel",
      "state": {
       "align_content": "flex-start",
       "align_items": "flex-start",
       "border": "2px solid gray",
       "flex_flow": "column",
       "justify_content": "flex-start",
       "width": "10em"
      }
     },
     "cb06aa0b47cf4c6baed6fb0697ba26db": {
      "model_module": "@jupyter-widgets/controls",
      "model_module_version": "1.5.0",
      "model_name": "TextModel",
      "state": {
       "layout": "IPY_MODEL_bd757e46aa7546bb8c69aa8d317ea115",
       "placeholder": "gloss",
       "style": "IPY_MODEL_f147bbbe6e6c43a3a29bffc4543a3b8f",
       "value": "in"
      }
     },
     "cb619e051958470d8ed45782099be929": {
      "model_module": "@jupyter-widgets/controls",
      "model_module_version": "1.5.0",
      "model_name": "DescriptionStyleModel",
      "state": {
       "description_width": ""
      }
     },
     "cbaa23e731dc42df9396d528c8a684d3": {
      "model_module": "@jupyter-widgets/controls",
      "model_module_version": "1.5.0",
      "model_name": "TextModel",
      "state": {
       "layout": "IPY_MODEL_c90a5636fa4c40d196b9b56e5d8bdbfa",
       "placeholder": "gloss",
       "style": "IPY_MODEL_a0866a0c3f8e465abdb3c40e5d74154c",
       "value": "beginning"
      }
     },
     "cc3cc9b1dfb541408863715a948b5eb2": {
      "model_module": "@jupyter-widgets/controls",
      "model_module_version": "1.5.0",
      "model_name": "TextModel",
      "state": {
       "layout": "IPY_MODEL_489dbe7c23d043daad0703608df4b452",
       "placeholder": "gloss",
       "style": "IPY_MODEL_f2cb3292a1a44e9fb0eb710205aba651",
       "value": "in"
      }
     },
     "ccf099b8d54242b8b2a13aa971699e3f": {
      "model_module": "@jupyter-widgets/controls",
      "model_module_version": "1.5.0",
      "model_name": "DescriptionStyleModel",
      "state": {
       "description_width": ""
      }
     },
     "cd37b59273b640fa84f1263515a53fdd": {
      "model_module": "@jupyter-widgets/controls",
      "model_module_version": "1.5.0",
      "model_name": "TextModel",
      "state": {
       "layout": "IPY_MODEL_5816ef2f7a7d47188d65a21896f6158c",
       "placeholder": "pdp",
       "style": "IPY_MODEL_be9d1ba0938648aa84029ccf21044c58",
       "value": "prep"
      }
     },
     "ce9e96c3a70949f4b9b402e71cc8f8bf": {
      "model_module": "@jupyter-widgets/base",
      "model_module_version": "1.2.0",
      "model_name": "LayoutModel",
      "state": {
       "flex": "auto 0 0"
      }
     },
     "cecbe0bc91e14019ac7ab6e1cf561c86": {
      "model_module": "@jupyter-widgets/controls",
      "model_module_version": "1.5.0",
      "model_name": "DescriptionStyleModel",
      "state": {
       "description_width": ""
      }
     },
     "cf64ea9dfa1d408ead23bf390ab378ec": {
      "model_module": "@jupyter-widgets/controls",
      "model_module_version": "1.5.0",
      "model_name": "DescriptionStyleModel",
      "state": {
       "description_width": ""
      }
     },
     "cf69677879674c0fa37d73040f64e93c": {
      "model_module": "@jupyter-widgets/controls",
      "model_module_version": "1.5.0",
      "model_name": "DescriptionStyleModel",
      "state": {
       "description_width": ""
      }
     },
     "d006af3353604d12bc3ff75dfc01c7e6": {
      "model_module": "@jupyter-widgets/base",
      "model_module_version": "1.2.0",
      "model_name": "LayoutModel",
      "state": {
       "flex": "auto 0 0",
       "height": "3em",
       "width": "19m"
      }
     },
     "d05aee909aa94de386a61d335b2e8a90": {
      "model_module": "@jupyter-widgets/controls",
      "model_module_version": "1.5.0",
      "model_name": "DescriptionStyleModel",
      "state": {
       "description_width": ""
      }
     },
     "d16f928db6a446498ac72a42c0ba6f55": {
      "model_module": "@jupyter-widgets/controls",
      "model_module_version": "1.5.0",
      "model_name": "BoxModel",
      "state": {
       "children": [
        "IPY_MODEL_abf67052075e42b887d0af40ea06cb08",
        "IPY_MODEL_daf4221177c149739880ff6eaa6b0e52",
        "IPY_MODEL_440c98927f1842738bd1644a8e9a0e58"
       ],
       "layout": "IPY_MODEL_8db6a696889d486eba9e0999e1e16d55"
      }
     },
     "d1b667401f304872a5294bc489ec7b84": {
      "model_module": "@jupyter-widgets/controls",
      "model_module_version": "1.5.0",
      "model_name": "DescriptionStyleModel",
      "state": {
       "description_width": ""
      }
     },
     "d1e8e764803942eaaaca8b459a09d9c2": {
      "model_module": "@jupyter-widgets/controls",
      "model_module_version": "1.5.0",
      "model_name": "DescriptionStyleModel",
      "state": {
       "description_width": ""
      }
     },
     "d277d8985c6f4f3aadd87556bb2c81e2": {
      "model_module": "@jupyter-widgets/base",
      "model_module_version": "1.2.0",
      "model_name": "LayoutModel",
      "state": {
       "flex": "auto 0 0"
      }
     },
     "d295590d6001484e8cff5dbeb4791add": {
      "model_module": "@jupyter-widgets/controls",
      "model_module_version": "1.5.0",
      "model_name": "BoxModel",
      "state": {
       "children": [
        "IPY_MODEL_a47b5b660b7140f0ad0d32708fbd3c4b",
        "IPY_MODEL_0d4606e188b64b33bd95a4a85a910e9c"
       ],
       "layout": "IPY_MODEL_0bc2cf7092214cef8238c0c5953471e8"
      }
     },
     "d3861b585de942de993984fe2326aefc": {
      "model_module": "@jupyter-widgets/controls",
      "model_module_version": "1.5.0",
      "model_name": "BoxModel",
      "state": {
       "children": [
        "IPY_MODEL_f9102e360d634c62a096254931524ec2",
        "IPY_MODEL_48a6c115bb7f426aa13887145be953ff"
       ],
       "layout": "IPY_MODEL_1142c7cc187a48d5b67b4e054dee0324"
      }
     },
     "d39c4ec7c05a4dab930ab40bbff5feaa": {
      "model_module": "@jupyter-widgets/base",
      "model_module_version": "1.2.0",
      "model_name": "LayoutModel",
      "state": {
       "flex": "auto 0 0"
      }
     },
     "d408d4b5e0f34dbf9290766d02f684a9": {
      "model_module": "@jupyter-widgets/controls",
      "model_module_version": "1.5.0",
      "model_name": "DescriptionStyleModel",
      "state": {
       "description_width": ""
      }
     },
     "d59a15b7454b4acc85a701cc7d79214b": {
      "model_module": "@jupyter-widgets/controls",
      "model_module_version": "1.5.0",
      "model_name": "BoxModel",
      "state": {
       "children": [
        "IPY_MODEL_7501e93e8429427eb0fe9aafb89e0d2f",
        "IPY_MODEL_56ea6aba11eb4267bf4bf20002ab594d",
        "IPY_MODEL_4573a2ab0aa84066b7a68b60e4ffc9fe"
       ],
       "layout": "IPY_MODEL_672385c8566443229640541092b1203d"
      }
     },
     "d5eba3dd68064792881a4f57667959a6": {
      "model_module": "@jupyter-widgets/controls",
      "model_module_version": "1.5.0",
      "model_name": "DescriptionStyleModel",
      "state": {
       "description_width": ""
      }
     },
     "d61f1d50a645477f971bfb7333e7fcae": {
      "model_module": "@jupyter-widgets/controls",
      "model_module_version": "1.5.0",
      "model_name": "BoxModel",
      "state": {
       "children": [
        "IPY_MODEL_e647f27007e843e1822263d578db51bc",
        "IPY_MODEL_134c6a76085c4a4e904364720fe9325a",
        "IPY_MODEL_cace9f37c2c04f46b39d777fc1e40710"
       ],
       "layout": "IPY_MODEL_613486fff40b4c059d63d396efa7321a"
      }
     },
     "d63633c2a26140cd9ab82a7387f842f1": {
      "model_module": "@jupyter-widgets/base",
      "model_module_version": "1.2.0",
      "model_name": "LayoutModel",
      "state": {
       "flex": "auto 0 0",
       "height": "3em",
       "width": "5em"
      }
     },
     "d650fee30cad4a3bb0b0b9550c318e30": {
      "model_module": "@jupyter-widgets/controls",
      "model_module_version": "1.5.0",
      "model_name": "DescriptionStyleModel",
      "state": {
       "description_width": ""
      }
     },
     "d683bf1a83624470ac04137ccfa40099": {
      "model_module": "@jupyter-widgets/controls",
      "model_module_version": "1.5.0",
      "model_name": "DescriptionStyleModel",
      "state": {
       "description_width": ""
      }
     },
     "d6da8c0bba3d443693d5fa4d5b7282f3": {
      "model_module": "@jupyter-widgets/controls",
      "model_module_version": "1.5.0",
      "model_name": "BoxModel",
      "state": {
       "children": [
        "IPY_MODEL_2b4286c2d06e49b6a4f16031d0145ec6",
        "IPY_MODEL_8712f3554c674cd183248ff931e60c1a",
        "IPY_MODEL_60a3588498d847db86f85a9febdbf245"
       ],
       "layout": "IPY_MODEL_21d80b66a8484d49ae8e7b7e53a0b6b3"
      }
     },
     "d737ceda7438486ca588b0cac4ab5367": {
      "model_module": "@jupyter-widgets/controls",
      "model_module_version": "1.5.0",
      "model_name": "TextModel",
      "state": {
       "layout": "IPY_MODEL_42f3a00bfbad490c99467d3949dc8f46",
       "placeholder": "gloss",
       "style": "IPY_MODEL_3bd7b59c7e8e4af19dde04db6580b1f9",
       "value": "beginning"
      }
     },
     "d794331242684cf19aeea1baf5d4b1ed": {
      "model_module": "@jupyter-widgets/controls",
      "model_module_version": "1.5.0",
      "model_name": "TextModel",
      "state": {
       "description": "pdp=",
       "layout": "IPY_MODEL_8974ad4913aa46d1bba4a70161db8544",
       "placeholder": "pdp",
       "style": "IPY_MODEL_be0b414c5ed54e0186d8f47669d65a64",
       "value": "subs"
      }
     },
     "d7c812795f8046faa4a48c8927b868c0": {
      "model_module": "@jupyter-widgets/base",
      "model_module_version": "1.2.0",
      "model_name": "LayoutModel",
      "state": {}
     },
     "d7d3410fd54d4e658062b3f4ccf58118": {
      "model_module": "@jupyter-widgets/base",
      "model_module_version": "1.2.0",
      "model_name": "LayoutModel",
      "state": {
       "flex": "auto 0 0",
       "height": "4em",
       "width": "20m"
      }
     },
     "d800f12d37134a25bedb60b9e15853aa": {
      "model_module": "@jupyter-widgets/controls",
      "model_module_version": "1.5.0",
      "model_name": "HTMLModel",
      "state": {
       "layout": "IPY_MODEL_868f19a322eb49abb7f68c359442dcd7",
       "style": "IPY_MODEL_6ca6908adf0140cab23df95e72921d6a",
       "value": "<a\n  class=\"txtu hbo\"\n  href=\"https://shebanq.ancient-data.org/hebrew/word?version=2021&amp;id=1B\"\n  target=\"_blank\"\n  title=\"Show this on SHEBANQ\">\n        <span class=\"txtp\">\n         bᵊ\n        </span>\n       </a>"
      }
     },
     "d8a8ad914f104dbaaccf358a83d73071": {
      "model_module": "@jupyter-widgets/base",
      "model_module_version": "1.2.0",
      "model_name": "LayoutModel",
      "state": {}
     },
     "d8b51cbd523742c7ad2839d2f7cbf0fe": {
      "model_module": "@jupyter-widgets/controls",
      "model_module_version": "1.5.0",
      "model_name": "DescriptionStyleModel",
      "state": {
       "description_width": ""
      }
     },
     "d8e55b8c76bc4eba85600b4953967d84": {
      "model_module": "@jupyter-widgets/controls",
      "model_module_version": "1.5.0",
      "model_name": "TextModel",
      "state": {
       "layout": "IPY_MODEL_b57929a984484e388bab2766454f9343",
       "placeholder": "gloss",
       "style": "IPY_MODEL_6f97ebd74b944c1c9b377be22f1a9e1a",
       "value": "in"
      }
     },
     "d92a6db7bd2443f5afccacb8c367b151": {
      "model_module": "@jupyter-widgets/controls",
      "model_module_version": "1.5.0",
      "model_name": "BoxModel",
      "state": {
       "children": [
        "IPY_MODEL_3faf305734e8484886636125189a6467",
        "IPY_MODEL_08318aab3c4b407584139c4073975883"
       ],
       "layout": "IPY_MODEL_ac1f42cec5934d6287f58b0aa2e4088f"
      }
     },
     "d9662dbdf4a849f49a6bea20148560da": {
      "model_module": "@jupyter-widgets/controls",
      "model_module_version": "1.5.0",
      "model_name": "TextModel",
      "state": {
       "layout": "IPY_MODEL_e45d22484d7e419fa4a744108874d785",
       "placeholder": "gloss",
       "style": "IPY_MODEL_74d053387a254a4f862930aa08407813",
       "value": "in"
      }
     },
     "d9b024a276354c27b385f5e0f24e6ecd": {
      "model_module": "@jupyter-widgets/controls",
      "model_module_version": "1.5.0",
      "model_name": "DescriptionStyleModel",
      "state": {
       "description_width": ""
      }
     },
     "d9f712f3a49b4c92b5dce5eb056cf87e": {
      "model_module": "@jupyter-widgets/controls",
      "model_module_version": "1.5.0",
      "model_name": "TextModel",
      "state": {
       "layout": "IPY_MODEL_5a571b7d267e4046bed4a3fe8d41bcce",
       "placeholder": "gloss",
       "style": "IPY_MODEL_90a9926e24714bc1aa52eafa97e4cdd5",
       "value": "beginning"
      }
     },
     "da0aa975a4204379998be55222a4f6a4": {
      "model_module": "@jupyter-widgets/controls",
      "model_module_version": "1.5.0",
      "model_name": "DescriptionStyleModel",
      "state": {
       "description_width": ""
      }
     },
     "da1347b052404b5ca4853cf37a5e0c24": {
      "model_module": "@jupyter-widgets/base",
      "model_module_version": "1.2.0",
      "model_name": "LayoutModel",
      "state": {
       "flex": "auto 1 1"
      }
     },
     "da758bb11c844f0ca7593dbf1f879200": {
      "model_module": "@jupyter-widgets/controls",
      "model_module_version": "1.5.0",
      "model_name": "TextModel",
      "state": {
       "layout": "IPY_MODEL_c90a5636fa4c40d196b9b56e5d8bdbfa",
       "placeholder": "pdp",
       "style": "IPY_MODEL_71070589be1a4c6d816d56ad33512ec9",
       "value": "prep"
      }
     },
     "dac84fb56bf14c959c5c5bcea4872c5f": {
      "model_module": "@jupyter-widgets/controls",
      "model_module_version": "1.5.0",
      "model_name": "HTMLModel",
      "state": {
       "layout": "IPY_MODEL_050aee8bc2c2473294aa146ac5c55a1b",
       "style": "IPY_MODEL_7434e70ec3f346f1845ce2046836c0c7",
       "value": "<a\n  class=\"txtu hbo\"\n  href=\"https://shebanq.ancient-data.org/hebrew/word?version=2021&amp;id=1B\"\n  target=\"_blank\"\n  title=\"Show this on SHEBANQ\">\n        <span class=\"txtp\">\n         bᵊ\n        </span>\n       </a>"
      }
     },
     "daf4221177c149739880ff6eaa6b0e52": {
      "model_module": "@jupyter-widgets/controls",
      "model_module_version": "1.5.0",
      "model_name": "TextModel",
      "state": {
       "layout": "IPY_MODEL_5816ef2f7a7d47188d65a21896f6158c",
       "placeholder": "gloss",
       "style": "IPY_MODEL_62fe667c5f95409f84caf0fabb5f194e",
       "value": "in"
      }
     },
     "db378b01be584670ae75d14adb5b73b2": {
      "model_module": "@jupyter-widgets/controls",
      "model_module_version": "1.5.0",
      "model_name": "HTMLModel",
      "state": {
       "layout": "IPY_MODEL_8300e6e4b00b49a49bce4552e7a27714",
       "style": "IPY_MODEL_8d6b95274232434c883dac447f267433",
       "value": "<a\n  class=\"txtu hbo\"\n  href=\"https://shebanq.ancient-data.org/hebrew/word?version=2021&amp;id=1B\"\n  target=\"_blank\"\n  title=\"Show this on SHEBANQ\">\n        <span class=\"txtp\">\n         bᵊ\n        </span>\n       </a>"
      }
     },
     "db4d64d22bc24cd2b5b8ae3d9b45f14a": {
      "model_module": "@jupyter-widgets/base",
      "model_module_version": "1.2.0",
      "model_name": "LayoutModel",
      "state": {
       "align_content": "flex-start",
       "align_items": "flex-start",
       "border": "2px solid gray",
       "flex_flow": "column",
       "justify_content": "flex-start",
       "width": "10em"
      }
     },
     "db4fc0743c704eaea1e89c81d9b0f8c8": {
      "model_module": "@jupyter-widgets/base",
      "model_module_version": "1.2.0",
      "model_name": "LayoutModel",
      "state": {
       "flex": "auto 0 0"
      }
     },
     "dbb8f00c4d0744e78c1807cb78f23e4a": {
      "model_module": "@jupyter-widgets/base",
      "model_module_version": "1.2.0",
      "model_name": "LayoutModel",
      "state": {
       "align_content": "flex-start",
       "align_items": "flex-start",
       "border": "2px solid gray",
       "flex_flow": "column",
       "justify_content": "flex-start",
       "width": "16em"
      }
     },
     "dce38a2f867c4a5b9b6bb9ed3afeb06d": {
      "model_module": "@jupyter-widgets/controls",
      "model_module_version": "1.5.0",
      "model_name": "BoxModel",
      "state": {
       "children": [
        "IPY_MODEL_c2d3915b5f364665822229c0424f6412",
        "IPY_MODEL_cb06aa0b47cf4c6baed6fb0697ba26db",
        "IPY_MODEL_c6b68d0d5e8f4fa5ae5f00904829e518"
       ],
       "layout": "IPY_MODEL_b742be8b70d7479291795b4a02c66895"
      }
     },
     "dd08c76f366c43aabf850f1f2a1a7c92": {
      "model_module": "@jupyter-widgets/base",
      "model_module_version": "1.2.0",
      "model_name": "LayoutModel",
      "state": {}
     },
     "dd27f9f7feb64c0499046fc536769b5c": {
      "model_module": "@jupyter-widgets/controls",
      "model_module_version": "1.5.0",
      "model_name": "BoxModel",
      "state": {
       "children": [
        "IPY_MODEL_bc91f480676346a4b489aae4b4a3630d",
        "IPY_MODEL_758d9ef0ec5d4d52892facbed363f368",
        "IPY_MODEL_29d185a6d92b4a848426d2148a4c631d"
       ],
       "layout": "IPY_MODEL_1ef14f24d90c4b6cbf6d0f95adfa0389"
      }
     },
     "ddf6c07b8bf84855ae94c21aac0e3395": {
      "model_module": "@jupyter-widgets/base",
      "model_module_version": "1.2.0",
      "model_name": "LayoutModel",
      "state": {}
     },
     "de10d8f9903a438ea10b1bcbdd4c8658": {
      "model_module": "@jupyter-widgets/controls",
      "model_module_version": "1.5.0",
      "model_name": "DescriptionStyleModel",
      "state": {
       "description_width": ""
      }
     },
     "de542186ce6b4eaf975f9fceb626df8d": {
      "model_module": "@jupyter-widgets/controls",
      "model_module_version": "1.5.0",
      "model_name": "DescriptionStyleModel",
      "state": {
       "description_width": ""
      }
     },
     "df13a1ddb93845fb981c57629af7fae6": {
      "model_module": "@jupyter-widgets/controls",
      "model_module_version": "1.5.0",
      "model_name": "BoxModel",
      "state": {
       "children": [
        "IPY_MODEL_5799a4d5904b4682aa5a9f35805f92d5",
        "IPY_MODEL_8d366c23788545b6b529534c0dbc77e7",
        "IPY_MODEL_00cd9055bf4f4022828c4d3892d35da7"
       ],
       "layout": "IPY_MODEL_f01df8d1ad35448a8b226bf27e5e5c4a"
      }
     },
     "df5fb7939bed4396a0e038033092b2ee": {
      "model_module": "@jupyter-widgets/base",
      "model_module_version": "1.2.0",
      "model_name": "LayoutModel",
      "state": {
       "flex": "auto 0 0",
       "width": "7em"
      }
     },
     "e0b4a893d9614db9bca2f8910cb21239": {
      "model_module": "@jupyter-widgets/controls",
      "model_module_version": "1.5.0",
      "model_name": "HTMLModel",
      "state": {
       "layout": "IPY_MODEL_bfc06732825d4c43a3aa41ef89df5e72",
       "style": "IPY_MODEL_40273e4843b04d8a8105ccdb8c85d6a5",
       "value": "<a\n  class=\"txtu hbo\"\n  href=\"https://shebanq.ancient-data.org/hebrew/word?version=2021&amp;id=1RACJTn\"\n  target=\"_blank\"\n  title=\"Show this on SHEBANQ\">\n        <span class=\"txtp\">\n         rēšˌîṯ\n        </span>\n       </a>"
      }
     },
     "e2129d744e1b407eab74eea93afa0439": {
      "model_module": "@jupyter-widgets/base",
      "model_module_version": "1.2.0",
      "model_name": "LayoutModel",
      "state": {
       "border": "2px solid gray",
       "flex_flow": "column",
       "width": "20em"
      }
     },
     "e2233e116f8149b9b1e61f382a2fc5b4": {
      "model_module": "@jupyter-widgets/controls",
      "model_module_version": "1.5.0",
      "model_name": "HTMLModel",
      "state": {
       "layout": "IPY_MODEL_62e53cccaba944f68e766806ad4869dd",
       "style": "IPY_MODEL_2f2cecd5060643f480e73c530d87827e",
       "value": "pdp="
      }
     },
     "e2a374b7b08a49a6afde3d3e4636c1a5": {
      "model_module": "@jupyter-widgets/base",
      "model_module_version": "1.2.0",
      "model_name": "LayoutModel",
      "state": {
       "flex": "auto 1 1",
       "height": "4em"
      }
     },
     "e310d15f508442e2bcdf6696c8a9da94": {
      "model_module": "@jupyter-widgets/base",
      "model_module_version": "1.2.0",
      "model_name": "LayoutModel",
      "state": {
       "align_content": "flex-start",
       "align_items": "flex-start",
       "border": "2px solid gray",
       "flex_flow": "column",
       "justify_content": "flex-start",
       "width": "20em"
      }
     },
     "e355f29931e1423e85e47f6cd756d084": {
      "model_module": "@jupyter-widgets/controls",
      "model_module_version": "1.5.0",
      "model_name": "HTMLModel",
      "state": {
       "layout": "IPY_MODEL_28273620564b4863b6eb2b7f13171412",
       "style": "IPY_MODEL_0ced0f8992514610914a75cd98ae9ef6",
       "value": "pdp="
      }
     },
     "e3cc57650c1c45c4bfebc2498b67b8ba": {
      "model_module": "@jupyter-widgets/controls",
      "model_module_version": "1.5.0",
      "model_name": "TextModel",
      "state": {
       "layout": "IPY_MODEL_0c0fff40f6264ba09f45873bf138dd70",
       "placeholder": "gloss",
       "style": "IPY_MODEL_4adf1be32afd46f68b29b8c8d24f71e2",
       "value": "in"
      }
     },
     "e41743ba9b354c8991e0a8e0d812a58b": {
      "model_module": "@jupyter-widgets/controls",
      "model_module_version": "1.5.0",
      "model_name": "DescriptionStyleModel",
      "state": {
       "description_width": ""
      }
     },
     "e42df5de48e54ce29cbd8c13113e223c": {
      "model_module": "@jupyter-widgets/controls",
      "model_module_version": "1.5.0",
      "model_name": "DescriptionStyleModel",
      "state": {
       "description_width": ""
      }
     },
     "e45d22484d7e419fa4a744108874d785": {
      "model_module": "@jupyter-widgets/base",
      "model_module_version": "1.2.0",
      "model_name": "LayoutModel",
      "state": {
       "flex": "auto 0 0",
       "height": "3em",
       "justify_content": "flex-start",
       "width": "15em"
      }
     },
     "e4abb88c0edd4542b958983982f421ab": {
      "model_module": "@jupyter-widgets/controls",
      "model_module_version": "1.5.0",
      "model_name": "DescriptionStyleModel",
      "state": {
       "description_width": ""
      }
     },
     "e4d626dd87954c0c979e5fe56a2e7cff": {
      "model_module": "@jupyter-widgets/controls",
      "model_module_version": "1.5.0",
      "model_name": "DescriptionStyleModel",
      "state": {
       "description_width": ""
      }
     },
     "e4ee84db357648e198be9c59a8e0ef31": {
      "model_module": "@jupyter-widgets/controls",
      "model_module_version": "1.5.0",
      "model_name": "DescriptionStyleModel",
      "state": {
       "description_width": ""
      }
     },
     "e4efbb5f8dad4402ae2b07df30eb5a27": {
      "model_module": "@jupyter-widgets/controls",
      "model_module_version": "1.5.0",
      "model_name": "BoxModel",
      "state": {
       "children": [
        "IPY_MODEL_b487d4c1270d4b00b20a9f421112a11f",
        "IPY_MODEL_be456ebed9e04d2bbe6513bd5b3d1fd2"
       ],
       "layout": "IPY_MODEL_7fe34f07b81b4e76bf7072b14a4d4aa8"
      }
     },
     "e50e6c22f3a2477f9259b1f47eb6d121": {
      "model_module": "@jupyter-widgets/base",
      "model_module_version": "1.2.0",
      "model_name": "LayoutModel",
      "state": {
       "align_content": "flex-start",
       "align_items": "flex-start",
       "border": "2px solid gray",
       "flex_flow": "column",
       "justify_content": "flex-start"
      }
     },
     "e526fe3ffa5c42188a4ed9f0a5b6bdec": {
      "model_module": "@jupyter-widgets/base",
      "model_module_version": "1.2.0",
      "model_name": "LayoutModel",
      "state": {
       "flex": "auto 0 0",
       "height": "4em",
       "width": "20m"
      }
     },
     "e586b452bce74c898e78c67555e60c2a": {
      "model_module": "@jupyter-widgets/controls",
      "model_module_version": "1.5.0",
      "model_name": "DescriptionStyleModel",
      "state": {
       "description_width": ""
      }
     },
     "e6090fe7e3fe4610926b99e78454a0c4": {
      "model_module": "@jupyter-widgets/controls",
      "model_module_version": "1.5.0",
      "model_name": "BoxModel",
      "state": {
       "children": [
        "IPY_MODEL_4d875b8f64b54a078c02d62840a40794",
        "IPY_MODEL_969931415d5d43f6868e35fbeb46797d"
       ],
       "layout": "IPY_MODEL_7fe34f07b81b4e76bf7072b14a4d4aa8"
      }
     },
     "e60e1d60ee4a45b88bfc983c3a3c9374": {
      "model_module": "@jupyter-widgets/controls",
      "model_module_version": "1.5.0",
      "model_name": "TextModel",
      "state": {
       "description": "pdp=",
       "layout": "IPY_MODEL_801eb73783184ce2b47d3fc43736d6f7",
       "placeholder": "pdp",
       "style": "IPY_MODEL_e4ee84db357648e198be9c59a8e0ef31",
       "value": "prep"
      }
     },
     "e647f27007e843e1822263d578db51bc": {
      "model_module": "@jupyter-widgets/controls",
      "model_module_version": "1.5.0",
      "model_name": "HTMLModel",
      "state": {
       "layout": "IPY_MODEL_d39c4ec7c05a4dab930ab40bbff5feaa",
       "style": "IPY_MODEL_5d12f4ca745b4e68b60492c84204011f",
       "value": "<a\n  class=\"txtu hbo\"\n  href=\"https://shebanq.ancient-data.org/hebrew/word?version=2021&amp;id=1B\"\n  target=\"_blank\"\n  title=\"Show this on SHEBANQ\">\n        <span class=\"txtp\">\n         bᵊ\n        </span>\n       </a>"
      }
     },
     "e663c32ec51d431784d890dd5777401f": {
      "model_module": "@jupyter-widgets/controls",
      "model_module_version": "1.5.0",
      "model_name": "DescriptionStyleModel",
      "state": {
       "description_width": ""
      }
     },
     "e74becf6c6934e7eb427bfe220ccc12f": {
      "model_module": "@jupyter-widgets/controls",
      "model_module_version": "1.5.0",
      "model_name": "DescriptionStyleModel",
      "state": {
       "description_width": ""
      }
     },
     "e777ad5fad614b1bb5b1ca63c432a585": {
      "model_module": "@jupyter-widgets/controls",
      "model_module_version": "1.5.0",
      "model_name": "DescriptionStyleModel",
      "state": {
       "description_width": ""
      }
     },
     "e7dfd426fb434025a77f03d8240ee04f": {
      "model_module": "@jupyter-widgets/controls",
      "model_module_version": "1.5.0",
      "model_name": "TextModel",
      "state": {
       "layout": "IPY_MODEL_050aee8bc2c2473294aa146ac5c55a1b",
       "placeholder": "gloss",
       "style": "IPY_MODEL_1c2de2708aba41cda22c8dbd4d7ec509",
       "value": "in"
      }
     },
     "e7e87819dad44f84b265823e26fd0fef": {
      "model_module": "@jupyter-widgets/controls",
      "model_module_version": "1.5.0",
      "model_name": "DescriptionStyleModel",
      "state": {
       "description_width": ""
      }
     },
     "e7efc6052b5f4ef9bf53540c8cb853d6": {
      "model_module": "@jupyter-widgets/controls",
      "model_module_version": "1.5.0",
      "model_name": "HTMLModel",
      "state": {
       "layout": "IPY_MODEL_733697ed0266411ba2e49e09846f1446",
       "style": "IPY_MODEL_608eaa4c7f564e008a6bc77efe42d1c2",
       "value": "<a\n  class=\"txtu hbo\"\n  href=\"https://shebanq.ancient-data.org/hebrew/word?version=2021&amp;id=1RACJTn\"\n  target=\"_blank\"\n  title=\"Show this on SHEBANQ\">\n        <span class=\"txtp\">\n         rēšˌîṯ\n        </span>\n       </a>"
      }
     },
     "e832d551f3d9489cbd61629a839c74d3": {
      "model_module": "@jupyter-widgets/controls",
      "model_module_version": "1.5.0",
      "model_name": "TextModel",
      "state": {
       "layout": "IPY_MODEL_701bff399ba746859cd528ec52d8f7d0",
       "placeholder": "gloss",
       "style": "IPY_MODEL_93a6f29177cf4dfda1d516aa9f58e6aa",
       "value": "in"
      }
     },
     "e8374ac76a4641fdab1d9c60ff6e6446": {
      "model_module": "@jupyter-widgets/controls",
      "model_module_version": "1.5.0",
      "model_name": "DescriptionStyleModel",
      "state": {
       "description_width": ""
      }
     },
     "e869d3e4ae5d44379fee984c5b1278ed": {
      "model_module": "@jupyter-widgets/base",
      "model_module_version": "1.2.0",
      "model_name": "LayoutModel",
      "state": {
       "flex": "auto 1 1"
      }
     },
     "e8a8edc1df0441f98bf2d3468486ab13": {
      "model_module": "@jupyter-widgets/controls",
      "model_module_version": "1.5.0",
      "model_name": "BoxModel",
      "state": {
       "children": [
        "IPY_MODEL_d59a15b7454b4acc85a701cc7d79214b",
        "IPY_MODEL_b4ab4e9d8b3e4b7db534846f2595321f"
       ],
       "layout": "IPY_MODEL_7671f3210c8c4197a4cdc1e4e9bff8c5"
      }
     },
     "e93cfe285c42483790124435c66ea582": {
      "model_module": "@jupyter-widgets/controls",
      "model_module_version": "1.5.0",
      "model_name": "HTMLModel",
      "state": {
       "layout": "IPY_MODEL_a5753bd6142b4da1ba54bb01f239e697",
       "style": "IPY_MODEL_49f7bf751a2f4994bdc1594afd909b04",
       "value": "<a\n  class=\"txtu hbo\"\n  href=\"https://shebanq.ancient-data.org/hebrew/word?version=2021&amp;id=1B\"\n  target=\"_blank\"\n  title=\"Show this on SHEBANQ\">\n        <span class=\"txtp\">\n         bᵊ\n        </span>\n       </a>"
      }
     },
     "ea3f8e848ffa4ca1bc203e7f4cfca318": {
      "model_module": "@jupyter-widgets/controls",
      "model_module_version": "1.5.0",
      "model_name": "HTMLModel",
      "state": {
       "layout": "IPY_MODEL_7e9324dc6ceb43bcb7555c766ccf5adf",
       "style": "IPY_MODEL_f749d634db3b4906ae3231b773d4f91f",
       "value": "<a\n  class=\"txtu hbo\"\n  href=\"https://shebanq.ancient-data.org/hebrew/word?version=2021&amp;id=1B\"\n  target=\"_blank\"\n  title=\"Show this on SHEBANQ\">\n        <span class=\"txtp\">\n         bᵊ\n        </span>\n       </a>"
      }
     },
     "eb8cef9990684aef9042f511ed1243fb": {
      "model_module": "@jupyter-widgets/controls",
      "model_module_version": "1.5.0",
      "model_name": "DescriptionStyleModel",
      "state": {
       "description_width": ""
      }
     },
     "eb8e12bd3e294c638e425dbc7249ea73": {
      "model_module": "@jupyter-widgets/base",
      "model_module_version": "1.2.0",
      "model_name": "LayoutModel",
      "state": {
       "flex": "auto 0 0",
       "width": "10em"
      }
     },
     "ebb09cd6555f4d979ab5684d462d860b": {
      "model_module": "@jupyter-widgets/controls",
      "model_module_version": "1.5.0",
      "model_name": "HTMLModel",
      "state": {
       "layout": "IPY_MODEL_8300e6e4b00b49a49bce4552e7a27714",
       "style": "IPY_MODEL_a245bd1c43674010b0ca9a352f98bc43",
       "value": "<a\n  class=\"txtu hbo\"\n  href=\"https://shebanq.ancient-data.org/hebrew/word?version=2021&amp;id=1RACJTn\"\n  target=\"_blank\"\n  title=\"Show this on SHEBANQ\">\n        <span class=\"txtp\">\n         rēšˌîṯ\n        </span>\n       </a>"
      }
     },
     "ebc5be023cad4ee8aab7169fe649b897": {
      "model_module": "@jupyter-widgets/controls",
      "model_module_version": "1.5.0",
      "model_name": "TextModel",
      "state": {
       "description": "pdp=",
       "layout": "IPY_MODEL_91017e10dcf94f8cb09bbadda22777d8",
       "placeholder": "pdp",
       "style": "IPY_MODEL_b2f796bab2924a3aa30a83de2162b9a8",
       "value": "subs"
      }
     },
     "ec058f7b41e04664b0fac7a3a401d453": {
      "model_module": "@jupyter-widgets/controls",
      "model_module_version": "1.5.0",
      "model_name": "DescriptionStyleModel",
      "state": {
       "description_width": ""
      }
     },
     "ed6982ede4064e3d87faf5c8ad764ac0": {
      "model_module": "@jupyter-widgets/controls",
      "model_module_version": "1.5.0",
      "model_name": "TextModel",
      "state": {
       "layout": "IPY_MODEL_85ae2a5e838a4ea8b9edd14e693ac8a5",
       "placeholder": "gloss",
       "style": "IPY_MODEL_fc79d3ff0bb44a9e858d08a084e986f1",
       "value": "beginning"
      }
     },
     "edd98a0f467b4a7c891faa4e10272653": {
      "model_module": "@jupyter-widgets/controls",
      "model_module_version": "1.5.0",
      "model_name": "DescriptionStyleModel",
      "state": {
       "description_width": ""
      }
     },
     "edfd7a26ce0b4c6291f138af945ef380": {
      "model_module": "@jupyter-widgets/controls",
      "model_module_version": "1.5.0",
      "model_name": "TextModel",
      "state": {
       "layout": "IPY_MODEL_85ae2a5e838a4ea8b9edd14e693ac8a5",
       "placeholder": "gloss",
       "style": "IPY_MODEL_86610466329f4119b8ee260e568d95cc",
       "value": "in"
      }
     },
     "eea07b773faf453fbfd9da9b9db64bd0": {
      "model_module": "@jupyter-widgets/controls",
      "model_module_version": "1.5.0",
      "model_name": "DescriptionStyleModel",
      "state": {
       "description_width": ""
      }
     },
     "ef052c4a8fe4422f99fe2d9f4336894e": {
      "model_module": "@jupyter-widgets/controls",
      "model_module_version": "1.5.0",
      "model_name": "DescriptionStyleModel",
      "state": {
       "description_width": ""
      }
     },
     "f01df8d1ad35448a8b226bf27e5e5c4a": {
      "model_module": "@jupyter-widgets/base",
      "model_module_version": "1.2.0",
      "model_name": "LayoutModel",
      "state": {
       "border": "2px solid gray",
       "flex": "auto 1 1",
       "flex_flow": "column",
       "width": "20em"
      }
     },
     "f0d753f8a2c84a1186020566d466f399": {
      "model_module": "@jupyter-widgets/base",
      "model_module_version": "1.2.0",
      "model_name": "LayoutModel",
      "state": {
       "align_content": "flex-start",
       "align_items": "flex-start",
       "border": "2px solid gray",
       "flex_flow": "column",
       "justify_content": "flex-start"
      }
     },
     "f0d93746b7e9429eae005b27081f9ebb": {
      "model_module": "@jupyter-widgets/controls",
      "model_module_version": "1.5.0",
      "model_name": "TextModel",
      "state": {
       "layout": "IPY_MODEL_2db5b121c8ab4cde9810d9b1052aadc9",
       "placeholder": "gloss",
       "style": "IPY_MODEL_16e497ddea31442691db4ce6a6624031",
       "value": "in"
      }
     },
     "f0f6c3b4666f4049939630fefb6a63c8": {
      "model_module": "@jupyter-widgets/controls",
      "model_module_version": "1.5.0",
      "model_name": "DescriptionStyleModel",
      "state": {
       "description_width": ""
      }
     },
     "f13534b49cc3426385e12cfb6ba72898": {
      "model_module": "@jupyter-widgets/base",
      "model_module_version": "1.2.0",
      "model_name": "LayoutModel",
      "state": {
       "align_content": "flex-start"
      }
     },
     "f147bbbe6e6c43a3a29bffc4543a3b8f": {
      "model_module": "@jupyter-widgets/controls",
      "model_module_version": "1.5.0",
      "model_name": "DescriptionStyleModel",
      "state": {
       "description_width": ""
      }
     },
     "f1a3373491fa41d18029fc434c66d110": {
      "model_module": "@jupyter-widgets/controls",
      "model_module_version": "1.5.0",
      "model_name": "DescriptionStyleModel",
      "state": {
       "description_width": ""
      }
     },
     "f1ccddc8619841f3bbb68f670b05678c": {
      "model_module": "@jupyter-widgets/controls",
      "model_module_version": "1.5.0",
      "model_name": "DescriptionStyleModel",
      "state": {
       "description_width": ""
      }
     },
     "f2778df63b52443f8fb99ae01d6495a1": {
      "model_module": "@jupyter-widgets/controls",
      "model_module_version": "1.5.0",
      "model_name": "TextModel",
      "state": {
       "description": "pdp=",
       "layout": "IPY_MODEL_c90a5636fa4c40d196b9b56e5d8bdbfa",
       "placeholder": "pdp",
       "style": "IPY_MODEL_5c6488fef0424a2abd9713e1c16d40d2",
       "value": "subs"
      }
     },
     "f29e0f9ec2c640a2a4a689399e73eef1": {
      "model_module": "@jupyter-widgets/controls",
      "model_module_version": "1.5.0",
      "model_name": "TextModel",
      "state": {
       "layout": "IPY_MODEL_48caadac771e4e108d73af40ac704556",
       "placeholder": "pdp",
       "style": "IPY_MODEL_b52f8c5bba7b44d3895cfd6e1c0310b8",
       "value": "prep"
      }
     },
     "f2cb3292a1a44e9fb0eb710205aba651": {
      "model_module": "@jupyter-widgets/controls",
      "model_module_version": "1.5.0",
      "model_name": "DescriptionStyleModel",
      "state": {
       "description_width": ""
      }
     },
     "f302aa7659b84bd2b6bef4bfdc72ef78": {
      "model_module": "@jupyter-widgets/controls",
      "model_module_version": "1.5.0",
      "model_name": "BoxModel",
      "state": {
       "children": [
        "IPY_MODEL_117b59d4c19a43dfb41f95adce365f42",
        "IPY_MODEL_e3cc57650c1c45c4bfebc2498b67b8ba"
       ],
       "layout": "IPY_MODEL_ffee0a425f4b4dd5acc45a70ffb272a7"
      }
     },
     "f31c8e9991d848b7aec38f64e319e9b6": {
      "model_module": "@jupyter-widgets/controls",
      "model_module_version": "1.5.0",
      "model_name": "HTMLModel",
      "state": {
       "layout": "IPY_MODEL_bfc06732825d4c43a3aa41ef89df5e72",
       "style": "IPY_MODEL_140ed058823f40d0860bf6f5e953fa23",
       "value": "<a\n  class=\"txtu hbo\"\n  href=\"https://shebanq.ancient-data.org/hebrew/word?version=2021&amp;id=1B\"\n  target=\"_blank\"\n  title=\"Show this on SHEBANQ\">\n        <span class=\"txtp\">\n         bᵊ\n        </span>\n       </a>"
      }
     },
     "f3b57c87f15b437d93d93f1b88d9f412": {
      "model_module": "@jupyter-widgets/controls",
      "model_module_version": "1.5.0",
      "model_name": "DescriptionStyleModel",
      "state": {
       "description_width": ""
      }
     },
     "f464b68ee3504bdebb07776e440fc046": {
      "model_module": "@jupyter-widgets/controls",
      "model_module_version": "1.5.0",
      "model_name": "DescriptionStyleModel",
      "state": {
       "description_width": ""
      }
     },
     "f473b89f35f348908fb750d52cdebcf3": {
      "model_module": "@jupyter-widgets/controls",
      "model_module_version": "1.5.0",
      "model_name": "BoxModel",
      "state": {
       "children": [
        "IPY_MODEL_f31c8e9991d848b7aec38f64e319e9b6",
        "IPY_MODEL_56ec0dc7a3d045a7a16613e61ef96a2c",
        "IPY_MODEL_20b799cb4abb45f8ae5073a8ef1760d7"
       ],
       "layout": "IPY_MODEL_40320c39cf7c42579ed753e42d7ea79d"
      }
     },
     "f4aae080385e4e49a5e062b4a10acb44": {
      "model_module": "@jupyter-widgets/controls",
      "model_module_version": "1.5.0",
      "model_name": "DescriptionStyleModel",
      "state": {
       "description_width": ""
      }
     },
     "f51d4dd34bd34e959013ccd7dff10487": {
      "model_module": "@jupyter-widgets/base",
      "model_module_version": "1.2.0",
      "model_name": "LayoutModel",
      "state": {
       "flex": "auto 0 0"
      }
     },
     "f5573dafa909464a9538d13b4a483cd2": {
      "model_module": "@jupyter-widgets/controls",
      "model_module_version": "1.5.0",
      "model_name": "TextModel",
      "state": {
       "layout": "IPY_MODEL_0df7ba1410184b9b8836eaaf0b31860e",
       "placeholder": "gloss",
       "style": "IPY_MODEL_249fdafcb3be4c52b6b24849bc103363",
       "value": "in"
      }
     },
     "f5ca3826f9e1401bbb7eca31f279d817": {
      "model_module": "@jupyter-widgets/controls",
      "model_module_version": "1.5.0",
      "model_name": "HTMLModel",
      "state": {
       "layout": "IPY_MODEL_292f44f3606b45d5b014874f32ffb8c1",
       "style": "IPY_MODEL_31fd167de41b4379880bac69e377f2b2",
       "value": "<a\n  class=\"txtu hbo\"\n  href=\"https://shebanq.ancient-data.org/hebrew/word?version=2021&amp;id=1RACJTn\"\n  target=\"_blank\"\n  title=\"Show this on SHEBANQ\">\n        <span class=\"txtp\">\n         rēšˌîṯ\n        </span>\n       </a>"
      }
     },
     "f5e3e582737141db90b2db5946578f9d": {
      "model_module": "@jupyter-widgets/base",
      "model_module_version": "1.2.0",
      "model_name": "LayoutModel",
      "state": {
       "align_content": "flex-start",
       "align_items": "flex-start",
       "border": "2px solid gray",
       "flex_flow": "column",
       "justify_content": "flex-start",
       "width": "10em"
      }
     },
     "f6b2fc9058c8405b92afa7da2bb08665": {
      "model_module": "@jupyter-widgets/base",
      "model_module_version": "1.2.0",
      "model_name": "LayoutModel",
      "state": {
       "align_content": "flex-start"
      }
     },
     "f717a6a807794ee381816bef14b292a3": {
      "model_module": "@jupyter-widgets/controls",
      "model_module_version": "1.5.0",
      "model_name": "DescriptionStyleModel",
      "state": {
       "description_width": ""
      }
     },
     "f7256b53ab6645b9b9eec28249a6a39d": {
      "model_module": "@jupyter-widgets/controls",
      "model_module_version": "1.5.0",
      "model_name": "TextModel",
      "state": {
       "layout": "IPY_MODEL_8974ad4913aa46d1bba4a70161db8544",
       "placeholder": "gloss",
       "style": "IPY_MODEL_2e1eb37274b7455f98b955b6e62d44c2",
       "value": "beginning"
      }
     },
     "f749d634db3b4906ae3231b773d4f91f": {
      "model_module": "@jupyter-widgets/controls",
      "model_module_version": "1.5.0",
      "model_name": "DescriptionStyleModel",
      "state": {
       "description_width": ""
      }
     },
     "f83f324120804c01b3f8f61763a20bea": {
      "model_module": "@jupyter-widgets/controls",
      "model_module_version": "1.5.0",
      "model_name": "BoxModel",
      "state": {
       "children": [
        "IPY_MODEL_441e645a369143d9bbe93e5257055b80",
        "IPY_MODEL_b0fa3e7b282d46f8bbdf9dcaf2fa1a72"
       ],
       "layout": "IPY_MODEL_9165074709a842f999bfaf3e7bbc4e07"
      }
     },
     "f87d36483d8f4500abe27444984ab590": {
      "model_module": "@jupyter-widgets/controls",
      "model_module_version": "1.5.0",
      "model_name": "DescriptionStyleModel",
      "state": {
       "description_width": ""
      }
     },
     "f88466e0f8ba4720b245d75689ba8067": {
      "model_module": "@jupyter-widgets/controls",
      "model_module_version": "1.5.0",
      "model_name": "TextModel",
      "state": {
       "description": "pdp=",
       "layout": "IPY_MODEL_b57929a984484e388bab2766454f9343",
       "placeholder": "pdp",
       "style": "IPY_MODEL_0aa0eea7307e429783d7d035523161ec",
       "value": "subs"
      }
     },
     "f907efe4044f49a18c0a39f8307d0283": {
      "model_module": "@jupyter-widgets/controls",
      "model_module_version": "1.5.0",
      "model_name": "HTMLModel",
      "state": {
       "layout": "IPY_MODEL_fa6ca03903b448b6976d8ddf8be58833",
       "style": "IPY_MODEL_3ab96d2095a0484fae1b3961e143522a",
       "value": "<a\n  class=\"txtu hbo\"\n  href=\"https://shebanq.ancient-data.org/hebrew/word?version=2021&amp;id=1B\"\n  target=\"_blank\"\n  title=\"Show this on SHEBANQ\">\n        <span class=\"txtp\">\n         bᵊ\n        </span>\n       </a>"
      }
     },
     "f9102e360d634c62a096254931524ec2": {
      "model_module": "@jupyter-widgets/controls",
      "model_module_version": "1.5.0",
      "model_name": "HTMLModel",
      "state": {
       "layout": "IPY_MODEL_63f8f2c8ecd2470b8de3be806755df28",
       "style": "IPY_MODEL_f3b57c87f15b437d93d93f1b88d9f412",
       "value": "pdp="
      }
     },
     "f96b29324f5448ba86da3696115fc3c8": {
      "model_module": "@jupyter-widgets/controls",
      "model_module_version": "1.5.0",
      "model_name": "TextModel",
      "state": {
       "layout": "IPY_MODEL_41b732ec11394d6a8410b4a73e0a5f11",
       "placeholder": "gloss",
       "style": "IPY_MODEL_ec058f7b41e04664b0fac7a3a401d453",
       "value": "beginning"
      }
     },
     "f97b30dec12d494391ec1baa1ca76f66": {
      "model_module": "@jupyter-widgets/base",
      "model_module_version": "1.2.0",
      "model_name": "LayoutModel",
      "state": {
       "align_content": "flex-start",
       "min_height": "100%"
      }
     },
     "fa5d4cae47aa4c78bd0cfe15a8c104f7": {
      "model_module": "@jupyter-widgets/controls",
      "model_module_version": "1.5.0",
      "model_name": "HTMLModel",
      "state": {
       "layout": "IPY_MODEL_9661627c69c247b98f9fd10c257bb427",
       "style": "IPY_MODEL_76bd36d00a9944c0af06cf3de21a54dc",
       "value": "<a\n  class=\"txtu hbo\"\n  href=\"https://shebanq.ancient-data.org/hebrew/word?version=2021&amp;id=1B\"\n  target=\"_blank\"\n  title=\"Show this on SHEBANQ\">\n        <span class=\"txtp\">\n         bᵊ\n        </span>\n       </a>"
      }
     },
     "fa6ca03903b448b6976d8ddf8be58833": {
      "model_module": "@jupyter-widgets/base",
      "model_module_version": "1.2.0",
      "model_name": "LayoutModel",
      "state": {
       "flex": "auto 0 0"
      }
     },
     "fa7448897fb2446291da45dcc290982e": {
      "model_module": "@jupyter-widgets/controls",
      "model_module_version": "1.5.0",
      "model_name": "DescriptionStyleModel",
      "state": {
       "description_width": ""
      }
     },
     "fad359c7944847a8a634bb7c4efd3b3f": {
      "model_module": "@jupyter-widgets/controls",
      "model_module_version": "1.5.0",
      "model_name": "BoxModel",
      "state": {
       "children": [
        "IPY_MODEL_dac84fb56bf14c959c5c5bcea4872c5f",
        "IPY_MODEL_e7dfd426fb434025a77f03d8240ee04f"
       ],
       "layout": "IPY_MODEL_9165074709a842f999bfaf3e7bbc4e07"
      }
     },
     "fae35e28a4844607b283e51edb2c088d": {
      "model_module": "@jupyter-widgets/controls",
      "model_module_version": "1.5.0",
      "model_name": "HTMLModel",
      "state": {
       "layout": "IPY_MODEL_292f44f3606b45d5b014874f32ffb8c1",
       "style": "IPY_MODEL_059ad1b8c5404af28a5510023b3dd041",
       "value": "<a\n  class=\"txtu hbo\"\n  href=\"https://shebanq.ancient-data.org/hebrew/word?version=2021&amp;id=1B\"\n  target=\"_blank\"\n  title=\"Show this on SHEBANQ\">\n        <span class=\"txtp\">\n         bᵊ\n        </span>\n       </a>"
      }
     },
     "fb9d881ac2d047cb88190687af880d42": {
      "model_module": "@jupyter-widgets/base",
      "model_module_version": "1.2.0",
      "model_name": "LayoutModel",
      "state": {
       "align_content": "flex-start",
       "align_items": "flex-start",
       "border": "2px solid gray",
       "flex_flow": "column",
       "justify_content": "flex-start"
      }
     },
     "fc3a0bf2ed4f4a4b8495326e64f390ca": {
      "model_module": "@jupyter-widgets/controls",
      "model_module_version": "1.5.0",
      "model_name": "BoxModel",
      "state": {
       "children": [
        "IPY_MODEL_acc0eddb778e416a86cee2dfb6e1d0db",
        "IPY_MODEL_dd27f9f7feb64c0499046fc536769b5c"
       ],
       "layout": "IPY_MODEL_6f271149fb604d5ea5e95da102a74940"
      }
     },
     "fc79d3ff0bb44a9e858d08a084e986f1": {
      "model_module": "@jupyter-widgets/controls",
      "model_module_version": "1.5.0",
      "model_name": "DescriptionStyleModel",
      "state": {
       "description_width": ""
      }
     },
     "fc8abff3bee2481e8e1c7754b6312ad5": {
      "model_module": "@jupyter-widgets/controls",
      "model_module_version": "1.5.0",
      "model_name": "BoxModel",
      "state": {
       "children": [
        "IPY_MODEL_4549c5570f0e46ee96fcabf6300bd250",
        "IPY_MODEL_83cb4b283f2446fbb6f03224b843900d"
       ],
       "layout": "IPY_MODEL_3253a5a590284d83860f994972d1cd48"
      }
     },
     "fcc85ebf80f443ff865a072a7add8e21": {
      "model_module": "@jupyter-widgets/base",
      "model_module_version": "1.2.0",
      "model_name": "LayoutModel",
      "state": {
       "flex": "auto 1 1",
       "height": "4em",
       "width": "20m"
      }
     },
     "fcd2f2cbe82d43e5a94126227fcf5fcd": {
      "model_module": "@jupyter-widgets/controls",
      "model_module_version": "1.5.0",
      "model_name": "HTMLModel",
      "state": {
       "layout": "IPY_MODEL_8e5bcef23c9342b499a768cf23a19480",
       "style": "IPY_MODEL_6143379ece294360903a8004db9f39ee",
       "value": "<a\n  class=\"txtu hbo\"\n  href=\"https://shebanq.ancient-data.org/hebrew/word?version=2021&amp;id=1RACJTn\"\n  target=\"_blank\"\n  title=\"Show this on SHEBANQ\">\n        <span class=\"txtp\">\n         rēšˌîṯ\n        </span>\n       </a>"
      }
     },
     "fce92fb339ee44ef859bfcf84bcdc1cb": {
      "model_module": "@jupyter-widgets/controls",
      "model_module_version": "1.5.0",
      "model_name": "BoxModel",
      "state": {
       "children": [
        "IPY_MODEL_1998825ac1df48fa95ba85e2d69b3715",
        "IPY_MODEL_3ef290faa6f744cda75692132fe47df8"
       ],
       "layout": "IPY_MODEL_559199b1641b432d87868525e7c0df75"
      }
     },
     "fd0d88aebfb14d669bd50db2088b0a8d": {
      "model_module": "@jupyter-widgets/base",
      "model_module_version": "1.2.0",
      "model_name": "LayoutModel",
      "state": {
       "flex": "auto 0 0",
       "height": "3em",
       "width": "10em"
      }
     },
     "fd8b0932599249f4b7ad3c3d997f833a": {
      "model_module": "@jupyter-widgets/controls",
      "model_module_version": "1.5.0",
      "model_name": "HTMLModel",
      "state": {
       "layout": "IPY_MODEL_444f47fe753e410b9f4aae383bbccdff",
       "style": "IPY_MODEL_079b9e856b0c457b9d49aaeddbdc223a",
       "value": "<a\n  class=\"txtu hbo\"\n  href=\"https://shebanq.ancient-data.org/hebrew/word?version=2021&amp;id=1B\"\n  target=\"_blank\"\n  title=\"Show this on SHEBANQ\">\n        <span class=\"txtp\">\n         bᵊ\n        </span>\n       </a>"
      }
     },
     "fde41e2437a449658aad412504cb83f2": {
      "model_module": "@jupyter-widgets/base",
      "model_module_version": "1.2.0",
      "model_name": "LayoutModel",
      "state": {
       "align_content": "flex-start"
      }
     },
     "fe9ba9a187da4b969d1bdb23b3b66f5b": {
      "model_module": "@jupyter-widgets/controls",
      "model_module_version": "1.5.0",
      "model_name": "TextModel",
      "state": {
       "layout": "IPY_MODEL_42f3a00bfbad490c99467d3949dc8f46",
       "placeholder": "gloss",
       "style": "IPY_MODEL_9802255d55d846b7b97372824c7c45d7",
       "value": "in"
      }
     },
     "feb473389f6b412193b473d6735ade7a": {
      "model_module": "@jupyter-widgets/controls",
      "model_module_version": "1.5.0",
      "model_name": "BoxModel",
      "state": {
       "children": [
        "IPY_MODEL_0f38d74213b641c4b9c0f897244108aa",
        "IPY_MODEL_3c6ea2fa071d40e1bb1353482c8c3911"
       ],
       "layout": "IPY_MODEL_4155034838ba45b49c5233e8a983fe23"
      }
     },
     "ff1a12c90182400fab4d1ff25bbf9df5": {
      "model_module": "@jupyter-widgets/controls",
      "model_module_version": "1.5.0",
      "model_name": "DescriptionStyleModel",
      "state": {
       "description_width": ""
      }
     },
     "ff289377b82d4adb8e0f25939eeb3562": {
      "model_module": "@jupyter-widgets/controls",
      "model_module_version": "1.5.0",
      "model_name": "DescriptionStyleModel",
      "state": {
       "description_width": ""
      }
     },
     "ff5ff4117b254f2a899f35ff7d0f3a88": {
      "model_module": "@jupyter-widgets/controls",
      "model_module_version": "1.5.0",
      "model_name": "DescriptionStyleModel",
      "state": {
       "description_width": ""
      }
     },
     "ffee0a425f4b4dd5acc45a70ffb272a7": {
      "model_module": "@jupyter-widgets/base",
      "model_module_version": "1.2.0",
      "model_name": "LayoutModel",
      "state": {
       "align_content": "flex-start",
       "align_items": "flex-start",
       "border": "2px solid gray",
       "flex_flow": "column",
       "justify_content": "flex-start",
       "width": "10em"
      }
     },
     "fff3f118b486451381d057bc82668ab1": {
      "model_module": "@jupyter-widgets/base",
      "model_module_version": "1.2.0",
      "model_name": "LayoutModel",
      "state": {
       "align_content": "flex-start",
       "min_height": "100%"
      }
     }
    },
    "version_major": 2,
    "version_minor": 0
   }
  }
 },
 "nbformat": 4,
 "nbformat_minor": 5
}
