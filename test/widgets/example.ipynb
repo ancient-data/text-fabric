{
 "cells": [
  {
   "cell_type": "markdown",
   "id": "513a128f-b99a-42b2-8ccc-8ba77ba13450",
   "metadata": {
    "jp-MarkdownHeadingCollapsed": true,
    "tags": []
   },
   "source": [
    "# Pretty display with editable fields\n",
    "\n",
    "## Mockup\n",
    "\n",
    "We mock up a pretty display with editable fields: Genesis 1:1 in phonological transcription"
   ]
  },
  {
   "cell_type": "markdown",
   "id": "46c93b24-6d7f-4390-ae65-1a8793b3df18",
   "metadata": {
    "tags": []
   },
   "source": [
    "# Load the BHSA\n",
    "\n",
    "We load the BHSA and display the example in question."
   ]
  },
  {
   "cell_type": "code",
   "execution_count": 1,
   "id": "0e328851-cd10-42d4-80d9-d5d9999f9abd",
   "metadata": {},
   "outputs": [],
   "source": [
    "%load_ext autoreload\n",
    "%autoreload 2"
   ]
  },
  {
   "cell_type": "code",
   "execution_count": 2,
   "id": "56ab1abe-2cf5-4524-83c8-b58fb4850b83",
   "metadata": {},
   "outputs": [],
   "source": [
    "# pip3 install beautifulsoup4\n",
    "\n",
    "from bs4 import BeautifulSoup as bs\n",
    "\n",
    "from tf.app import use\n",
    "from tf.advanced.helpers import dh"
   ]
  },
  {
   "cell_type": "code",
   "execution_count": 3,
   "id": "d2b40487-0716-4d61-8ad7-0d0ea14254a9",
   "metadata": {},
   "outputs": [
    {
     "data": {
      "text/html": [
       "<b title=\"local release\">TF-app:</b> <span title=\"rv2.4.0=#571428c995d309c43ff592f885a5ebb42a87be6f offline under ~/text-fabric-data\">~/text-fabric-data/annotation/app-bhsa/code</span>"
      ],
      "text/plain": [
       "<IPython.core.display.HTML object>"
      ]
     },
     "metadata": {},
     "output_type": "display_data"
    },
    {
     "data": {
      "text/html": [
       "<b title=\"local release\">data:</b> <span title=\"rv1.7=#69f339de4eb38151e01ab56bc8cd85eca0bf78ba offline under ~/text-fabric-data\">~/text-fabric-data/etcbc/bhsa/tf/2021</span>"
      ],
      "text/plain": [
       "<IPython.core.display.HTML object>"
      ]
     },
     "metadata": {},
     "output_type": "display_data"
    },
    {
     "data": {
      "text/html": [
       "<b title=\"local release\">data:</b> <span title=\"rv2.0=#d74f7b52866927c316dfcaa2ac89eb51ea59c5dc offline under ~/text-fabric-data\">~/text-fabric-data/etcbc/phono/tf/2021</span>"
      ],
      "text/plain": [
       "<IPython.core.display.HTML object>"
      ]
     },
     "metadata": {},
     "output_type": "display_data"
    },
    {
     "data": {
      "text/html": [
       "<b title=\"local release\">data:</b> <span title=\"rv2.0=#2fb9e94de8ffc07e9e515e3efa36e502f95bdcea offline under ~/text-fabric-data\">~/text-fabric-data/etcbc/parallels/tf/2021</span>"
      ],
      "text/plain": [
       "<IPython.core.display.HTML object>"
      ]
     },
     "metadata": {},
     "output_type": "display_data"
    },
    {
     "name": "stdout",
     "output_type": "stream",
     "text": [
      "This is Text-Fabric 9.0.4\n",
      "Api reference : https://annotation.github.io/text-fabric/tf/cheatsheet.html\n",
      "\n",
      "121 features found and 0 ignored\n"
     ]
    },
    {
     "data": {
      "text/html": [
       "<b>Text-Fabric:</b> <a target=\"_blank\" href=\"https://annotation.github.io/text-fabric/tf/cheatsheet.html\" title=\"text-fabric-api\">Text-Fabric API 9.0.4</a>, <a target=\"_blank\" href=\"https://github.com/annotation/app-bhsa\" title=\"bhsa TF-app\">app-bhsa v3</a>, <a target=\"_blank\" href=\"https://annotation.github.io/text-fabric/tf/about/searchusage.html\" title=\"Search Templates Introduction and Reference\">Search Reference</a><br><b>Data:</b> <a target=\"_blank\" href=\"https://etcbc.github.io/bhsa/0_home\" title=\"provenance of BHSA = Biblia Hebraica Stuttgartensia Amstelodamensis\">BHSA</a>, <a target=\"_blank\" href=\"https://annotation.github.io/text-fabric/tf/writing/hebrew.html\" title=\"How TF features represent text\">Character table</a>, <a target=\"_blank\" href=\"https://etcbc.github.io/bhsa/features/0_home\" title=\"BHSA feature documentation\">Feature docs</a><br><b>Features:</b><br><details><summary><b>Parallel Passages</b></summary><b><i><a target=\"_blank\" href=\"https://nbviewer.jupyter.org/github/etcbc/parallels/blob/master/programs/parallels.ipynb\" title=\"~/text-fabric-data/etcbc/parallels/tf/2021/crossref.tf\">crossref</a></i></b><br></details><details><summary><b>BHSA = Biblia Hebraica Stuttgartensia Amstelodamensis</b></summary><a target=\"_blank\" href=\"https://etcbc.github.io/bhsa/features/book\" title=\"~/text-fabric-data/etcbc/bhsa/tf/2021/book.tf\">book</a><br><a target=\"_blank\" href=\"https://etcbc.github.io/bhsa/features/book@ll\" title=\"~/text-fabric-data/etcbc/bhsa/tf/2021/book@am.tf\">book@ll</a><br><a target=\"_blank\" href=\"https://etcbc.github.io/bhsa/features/chapter\" title=\"~/text-fabric-data/etcbc/bhsa/tf/2021/chapter.tf\">chapter</a><br><a target=\"_blank\" href=\"https://etcbc.github.io/bhsa/features/code\" title=\"~/text-fabric-data/etcbc/bhsa/tf/2021/code.tf\">code</a><br><a target=\"_blank\" href=\"https://etcbc.github.io/bhsa/features/det\" title=\"~/text-fabric-data/etcbc/bhsa/tf/2021/det.tf\">det</a><br><a target=\"_blank\" href=\"https://etcbc.github.io/bhsa/features/domain\" title=\"~/text-fabric-data/etcbc/bhsa/tf/2021/domain.tf\">domain</a><br><a target=\"_blank\" href=\"https://etcbc.github.io/bhsa/features/freq_lex\" title=\"~/text-fabric-data/etcbc/bhsa/tf/2021/freq_lex.tf\">freq_lex</a><br><a target=\"_blank\" href=\"https://etcbc.github.io/bhsa/features/function\" title=\"~/text-fabric-data/etcbc/bhsa/tf/2021/function.tf\">function</a><br><a target=\"_blank\" href=\"https://etcbc.github.io/bhsa/features/g_cons\" title=\"~/text-fabric-data/etcbc/bhsa/tf/2021/g_cons.tf\">g_cons</a><br><a target=\"_blank\" href=\"https://etcbc.github.io/bhsa/features/g_cons_utf8\" title=\"~/text-fabric-data/etcbc/bhsa/tf/2021/g_cons_utf8.tf\">g_cons_utf8</a><br><a target=\"_blank\" href=\"https://etcbc.github.io/bhsa/features/g_lex\" title=\"~/text-fabric-data/etcbc/bhsa/tf/2021/g_lex.tf\">g_lex</a><br><a target=\"_blank\" href=\"https://etcbc.github.io/bhsa/features/g_lex_utf8\" title=\"~/text-fabric-data/etcbc/bhsa/tf/2021/g_lex_utf8.tf\">g_lex_utf8</a><br><a target=\"_blank\" href=\"https://etcbc.github.io/bhsa/features/g_word\" title=\"~/text-fabric-data/etcbc/bhsa/tf/2021/g_word.tf\">g_word</a><br><a target=\"_blank\" href=\"https://etcbc.github.io/bhsa/features/g_word_utf8\" title=\"~/text-fabric-data/etcbc/bhsa/tf/2021/g_word_utf8.tf\">g_word_utf8</a><br><a target=\"_blank\" href=\"https://etcbc.github.io/bhsa/features/gloss\" title=\"~/text-fabric-data/etcbc/bhsa/tf/2021/gloss.tf\">gloss</a><br><a target=\"_blank\" href=\"https://etcbc.github.io/bhsa/features/gn\" title=\"~/text-fabric-data/etcbc/bhsa/tf/2021/gn.tf\">gn</a><br><a target=\"_blank\" href=\"https://etcbc.github.io/bhsa/features/label\" title=\"~/text-fabric-data/etcbc/bhsa/tf/2021/label.tf\">label</a><br><a target=\"_blank\" href=\"https://etcbc.github.io/bhsa/features/language\" title=\"~/text-fabric-data/etcbc/bhsa/tf/2021/language.tf\">language</a><br><a target=\"_blank\" href=\"https://etcbc.github.io/bhsa/features/lex\" title=\"~/text-fabric-data/etcbc/bhsa/tf/2021/lex.tf\">lex</a><br><a target=\"_blank\" href=\"https://etcbc.github.io/bhsa/features/lex_utf8\" title=\"~/text-fabric-data/etcbc/bhsa/tf/2021/lex_utf8.tf\">lex_utf8</a><br><a target=\"_blank\" href=\"https://etcbc.github.io/bhsa/features/ls\" title=\"~/text-fabric-data/etcbc/bhsa/tf/2021/ls.tf\">ls</a><br><a target=\"_blank\" href=\"https://etcbc.github.io/bhsa/features/nametype\" title=\"~/text-fabric-data/etcbc/bhsa/tf/2021/nametype.tf\">nametype</a><br><a target=\"_blank\" href=\"https://etcbc.github.io/bhsa/features/nme\" title=\"~/text-fabric-data/etcbc/bhsa/tf/2021/nme.tf\">nme</a><br><a target=\"_blank\" href=\"https://etcbc.github.io/bhsa/features/nu\" title=\"~/text-fabric-data/etcbc/bhsa/tf/2021/nu.tf\">nu</a><br><a target=\"_blank\" href=\"https://etcbc.github.io/bhsa/features/number\" title=\"~/text-fabric-data/etcbc/bhsa/tf/2021/number.tf\">number</a><br><a target=\"_blank\" href=\"https://etcbc.github.io/bhsa/features/otype\" title=\"~/text-fabric-data/etcbc/bhsa/tf/2021/otype.tf\">otype</a><br><a target=\"_blank\" href=\"https://etcbc.github.io/bhsa/features/pargr\" title=\"~/text-fabric-data/etcbc/bhsa/tf/2021/pargr.tf\">pargr</a><br><a target=\"_blank\" href=\"https://etcbc.github.io/bhsa/features/pdp\" title=\"~/text-fabric-data/etcbc/bhsa/tf/2021/pdp.tf\">pdp</a><br><a target=\"_blank\" href=\"https://etcbc.github.io/bhsa/features/pfm\" title=\"~/text-fabric-data/etcbc/bhsa/tf/2021/pfm.tf\">pfm</a><br><a target=\"_blank\" href=\"https://etcbc.github.io/bhsa/features/prs\" title=\"~/text-fabric-data/etcbc/bhsa/tf/2021/prs.tf\">prs</a><br><a target=\"_blank\" href=\"https://etcbc.github.io/bhsa/features/prs_gn\" title=\"~/text-fabric-data/etcbc/bhsa/tf/2021/prs_gn.tf\">prs_gn</a><br><a target=\"_blank\" href=\"https://etcbc.github.io/bhsa/features/prs_nu\" title=\"~/text-fabric-data/etcbc/bhsa/tf/2021/prs_nu.tf\">prs_nu</a><br><a target=\"_blank\" href=\"https://etcbc.github.io/bhsa/features/prs_ps\" title=\"~/text-fabric-data/etcbc/bhsa/tf/2021/prs_ps.tf\">prs_ps</a><br><a target=\"_blank\" href=\"https://etcbc.github.io/bhsa/features/ps\" title=\"~/text-fabric-data/etcbc/bhsa/tf/2021/ps.tf\">ps</a><br><a target=\"_blank\" href=\"https://etcbc.github.io/bhsa/features/qere\" title=\"~/text-fabric-data/etcbc/bhsa/tf/2021/qere.tf\">qere</a><br><a target=\"_blank\" href=\"https://etcbc.github.io/bhsa/features/qere_trailer\" title=\"~/text-fabric-data/etcbc/bhsa/tf/2021/qere_trailer.tf\">qere_trailer</a><br><a target=\"_blank\" href=\"https://etcbc.github.io/bhsa/features/qere_trailer_utf8\" title=\"~/text-fabric-data/etcbc/bhsa/tf/2021/qere_trailer_utf8.tf\">qere_trailer_utf8</a><br><a target=\"_blank\" href=\"https://etcbc.github.io/bhsa/features/qere_utf8\" title=\"~/text-fabric-data/etcbc/bhsa/tf/2021/qere_utf8.tf\">qere_utf8</a><br><a target=\"_blank\" href=\"https://etcbc.github.io/bhsa/features/rank_lex\" title=\"~/text-fabric-data/etcbc/bhsa/tf/2021/rank_lex.tf\">rank_lex</a><br><a target=\"_blank\" href=\"https://etcbc.github.io/bhsa/features/rela\" title=\"~/text-fabric-data/etcbc/bhsa/tf/2021/rela.tf\">rela</a><br><a target=\"_blank\" href=\"https://etcbc.github.io/bhsa/features/sp\" title=\"~/text-fabric-data/etcbc/bhsa/tf/2021/sp.tf\">sp</a><br><a target=\"_blank\" href=\"https://etcbc.github.io/bhsa/features/st\" title=\"~/text-fabric-data/etcbc/bhsa/tf/2021/st.tf\">st</a><br><a target=\"_blank\" href=\"https://etcbc.github.io/bhsa/features/tab\" title=\"~/text-fabric-data/etcbc/bhsa/tf/2021/tab.tf\">tab</a><br><a target=\"_blank\" href=\"https://etcbc.github.io/bhsa/features/trailer\" title=\"~/text-fabric-data/etcbc/bhsa/tf/2021/trailer.tf\">trailer</a><br><a target=\"_blank\" href=\"https://etcbc.github.io/bhsa/features/trailer_utf8\" title=\"~/text-fabric-data/etcbc/bhsa/tf/2021/trailer_utf8.tf\">trailer_utf8</a><br><a target=\"_blank\" href=\"https://etcbc.github.io/bhsa/features/txt\" title=\"~/text-fabric-data/etcbc/bhsa/tf/2021/txt.tf\">txt</a><br><a target=\"_blank\" href=\"https://etcbc.github.io/bhsa/features/typ\" title=\"~/text-fabric-data/etcbc/bhsa/tf/2021/typ.tf\">typ</a><br><a target=\"_blank\" href=\"https://etcbc.github.io/bhsa/features/uvf\" title=\"~/text-fabric-data/etcbc/bhsa/tf/2021/uvf.tf\">uvf</a><br><a target=\"_blank\" href=\"https://etcbc.github.io/bhsa/features/vbe\" title=\"~/text-fabric-data/etcbc/bhsa/tf/2021/vbe.tf\">vbe</a><br><a target=\"_blank\" href=\"https://etcbc.github.io/bhsa/features/vbs\" title=\"~/text-fabric-data/etcbc/bhsa/tf/2021/vbs.tf\">vbs</a><br><a target=\"_blank\" href=\"https://etcbc.github.io/bhsa/features/verse\" title=\"~/text-fabric-data/etcbc/bhsa/tf/2021/verse.tf\">verse</a><br><a target=\"_blank\" href=\"https://etcbc.github.io/bhsa/features/voc_lex\" title=\"~/text-fabric-data/etcbc/bhsa/tf/2021/voc_lex.tf\">voc_lex</a><br><a target=\"_blank\" href=\"https://etcbc.github.io/bhsa/features/voc_lex_utf8\" title=\"~/text-fabric-data/etcbc/bhsa/tf/2021/voc_lex_utf8.tf\">voc_lex_utf8</a><br><a target=\"_blank\" href=\"https://etcbc.github.io/bhsa/features/vs\" title=\"~/text-fabric-data/etcbc/bhsa/tf/2021/vs.tf\">vs</a><br><a target=\"_blank\" href=\"https://etcbc.github.io/bhsa/features/vt\" title=\"~/text-fabric-data/etcbc/bhsa/tf/2021/vt.tf\">vt</a><br><b><i><a target=\"_blank\" href=\"https://etcbc.github.io/bhsa/features/mother\" title=\"~/text-fabric-data/etcbc/bhsa/tf/2021/mother.tf\">mother</a></i></b><br><b><i><a target=\"_blank\" href=\"https://etcbc.github.io/bhsa/features/omap@ll\" title=\"~/text-fabric-data/etcbc/bhsa/tf/2021/omap@2017-2021.tf\">omap@ll</a></i></b><br><b><i><a target=\"_blank\" href=\"https://etcbc.github.io/bhsa/features/oslots\" title=\"~/text-fabric-data/etcbc/bhsa/tf/2021/oslots.tf\">oslots</a></i></b><br></details><details><summary><b>Phonetic Transcriptions</b></summary><a target=\"_blank\" href=\"https://nbviewer.jupyter.org/github/etcbc/phono/blob/master/programs/phono.ipynb\" title=\"~/text-fabric-data/etcbc/phono/tf/2021/phono.tf\">phono</a><br><a target=\"_blank\" href=\"https://nbviewer.jupyter.org/github/etcbc/phono/blob/master/programs/phono.ipynb\" title=\"~/text-fabric-data/etcbc/phono/tf/2021/phono_trailer.tf\">phono_trailer</a><br></details>"
      ],
      "text/plain": [
       "<IPython.core.display.HTML object>"
      ]
     },
     "metadata": {},
     "output_type": "display_data"
    },
    {
     "data": {
      "text/html": [
       "<style>tr.tf.ltr, td.tf.ltr, th.tf.ltr { text-align: left ! important;}\n",
       "tr.tf.rtl, td.tf.rtl, th.tf.rtl { text-align: right ! important;}\n",
       "@font-face {\n",
       "  font-family: \"Gentium Plus\";\n",
       "  src: local('Gentium Plus'), local('GentiumPlus'),\n",
       "    url('/server/static/fonts/GentiumPlus-R.woff') format('woff'),\n",
       "    url('https://github.com/annotation/text-fabric/blob/master/tf/server/static/fonts/GentiumPlus-R.woff?raw=true') format('woff');\n",
       "}\n",
       "\n",
       "@font-face {\n",
       "  font-family: \"Ezra SIL\";\n",
       "  src: local('Ezra SIL'), local('EzraSIL'),\n",
       "    url('/server/static/fonts/SILEOT.woff') format('woff'),\n",
       "    url('https://github.com/annotation/text-fabric/blob/master/tf/server/static/fonts/SILEOT.woff?raw=true') format('woff');\n",
       "}\n",
       "\n",
       "@font-face {\n",
       "  font-family: \"SBL Hebrew\";\n",
       "  src: local('SBL Hebrew'), local('SBLHebrew'),\n",
       "    url('/server/static/fonts/SBL_Hbrw.woff') format('woff'),\n",
       "    url('https://github.com/annotation/text-fabric/blob/master/tf/server/static/fonts/SBL_Hbrw.woff?raw=true') format('woff');\n",
       "}\n",
       "\n",
       "@font-face {\n",
       "  font-family: \"Estrangelo Edessa\";\n",
       "  src: local('Estrangelo Edessa'), local('EstrangeloEdessa');\n",
       "    url('/server/static/fonts/SyrCOMEdessa.woff') format('woff'),\n",
       "    url('https://github.com/annotation/text-fabric/blob/master/tf/server/static/fonts/SyrCOMEdessa.woff?raw=true') format('woff');\n",
       "}\n",
       "\n",
       "@font-face {\n",
       "  font-family: AmiriQuran;\n",
       "  font-style: normal;\n",
       "  font-weight: 400;\n",
       "  src: local('Amiri Quran'), local('AmiriQuran'),\n",
       "    url('/server/static/fonts/AmiriQuran.woff') format('woff'),\n",
       "    url('https://github.com/annotation/text-fabric/blob/master/tf/server/static/fonts/AmiriQuran.woff?raw=true') format('woff');\n",
       "}\n",
       "\n",
       "@font-face {\n",
       "  font-family: AmiriQuranColored;\n",
       "  font-style: normal;\n",
       "  font-weight: 400;\n",
       "  src: local('Amiri Quran Colored'), local('AmiriQuranColored'),\n",
       "    url('/server/static/fonts/AmiriQuranColored.woff') format('woff'),\n",
       "    url('https://github.com/annotation/text-fabric/blob/master/tf/server/static/fonts/AmiriQuranColored.woff?raw=true') format('woff');\n",
       "}\n",
       "\n",
       "@font-face {\n",
       "  font-family: \"Santakku\";\n",
       "  src: local('Santakku'),\n",
       "    url('/server/static/fonts/Santakku.woff') format('woff'),\n",
       "    url('https://github.com/annotation/text-fabric/blob/master/tf/server/static/fonts/Santakku.woff?raw=true') format('woff');\n",
       "}\n",
       "\n",
       "@font-face {\n",
       "  font-family: \"SantakkuM\";\n",
       "  src: local('SantakkuM'),\n",
       "    url('/server/static/fonts/SantakkuM.woff') format('woff'),\n",
       "    url('https://github.com/annotation/text-fabric/blob/master/tf/server/static/fonts/SantakkuM.woff?raw=true') format('woff');\n",
       "}\n",
       "/* bypassing some classical notebook settings */\n",
       "div#notebook {\n",
       "  line-height: unset;\n",
       "}\n",
       "/* neutral text */\n",
       ".txtn,.txtn a:visited,.txtn a:link {\n",
       "    font-family: sans-serif;\n",
       "    font-size: medium;\n",
       "    direction: ltr;\n",
       "    unicode-bidi: embed;\n",
       "    text-decoration: none;\n",
       "    color: var(--text-color);\n",
       "}\n",
       "/* transcription text */\n",
       ".txtt,.txtt a:visited,.txtt a:link {\n",
       "    font-family: monospace;\n",
       "    font-size: medium;\n",
       "    direction: ltr;\n",
       "    unicode-bidi: embed;\n",
       "    text-decoration: none;\n",
       "    color: var(--text-color);\n",
       "}\n",
       "/* source text */\n",
       ".txto,.txto a:visited,.txto a:link {\n",
       "    font-family: serif;\n",
       "    font-size: medium;\n",
       "    direction: ltr;\n",
       "    unicode-bidi: embed;\n",
       "    text-decoration: none;\n",
       "    color: var(--text-color);\n",
       "}\n",
       "/* phonetic text */\n",
       ".txtp,.txtp a:visited,.txtp a:link {\n",
       "    font-family: Gentium, sans-serif;\n",
       "    font-size: medium;\n",
       "    direction: ltr;\n",
       "    unicode-bidi: embed;\n",
       "    text-decoration: none;\n",
       "    color: var(--text-color);\n",
       "}\n",
       "/* original script text */\n",
       ".txtu,.txtu a:visited,.txtu a:link {\n",
       "    font-family: Gentium, sans-serif;\n",
       "    font-size: medium;\n",
       "    text-decoration: none;\n",
       "    color: var(--text-color);\n",
       "}\n",
       "/* hebrew */\n",
       ".txtu.hbo,.lex.hbo {\n",
       "    font-family: \"Ezra SIL\", \"SBL Hebrew\", sans-serif;\n",
       "    font-size: large;\n",
       "    direction: rtl ! important;\n",
       "    unicode-bidi: embed;\n",
       "}\n",
       "/* syriac */\n",
       ".txtu.syc,.lex.syc {\n",
       "    font-family: \"Estrangelo Edessa\", sans-serif;\n",
       "    font-size: medium;\n",
       "    direction: rtl ! important;\n",
       "    unicode-bidi: embed;\n",
       "}\n",
       "/* neo aramaic */\n",
       ".txtu.cld,.lex.cld {\n",
       "    font-family: \"CharisSIL-R\", sans-serif;\n",
       "    font-size: medium;\n",
       "    direction: ltr ! important;\n",
       "    unicode-bidi: embed;\n",
       "}\n",
       "/* standard arabic */\n",
       ".txtu.ara,.lex.ara {\n",
       "    font-family: \"AmiriQuran\", sans-serif;\n",
       "    font-size: large;\n",
       "    direction: rtl ! important;\n",
       "    unicode-bidi: embed;\n",
       "}\n",
       "/* cuneiform */\n",
       ".txtu.akk,.lex.akk {\n",
       "    font-family: Santakku, sans-serif;\n",
       "    font-size: large;\n",
       "    direction: ltr ! important;\n",
       "    unicode-bidi: embed;\n",
       "}\n",
       "/* greek */\n",
       ".txtu.grc,.lex.grc a:link {\n",
       "    font-family: Gentium, sans-serif;\n",
       "    font-size: medium;\n",
       "    direction: ltr ! important;\n",
       "    unicode-bidi: embed;\n",
       "}\n",
       "a:hover {\n",
       "    text-decoration: underline | important;\n",
       "    color: #0000ff | important;\n",
       "}\n",
       ".ltr {\n",
       "    direction: ltr ! important;\n",
       "    unicode-bidi: embed;\n",
       "}\n",
       ".rtl {\n",
       "    direction: rtl ! important;\n",
       "    unicode-bidi: embed;\n",
       "}\n",
       ".ubd {\n",
       "    unicode-bidi: embed;\n",
       "}\n",
       ".col {\n",
       "   display: inline-block;\n",
       "}\n",
       ".features {\n",
       "    font-family: monospace;\n",
       "    font-size: medium;\n",
       "    font-weight: bold;\n",
       "    color: var(--features);\n",
       "    display: flex;\n",
       "    flex-flow: column nowrap;\n",
       "    justify-content: flex-start;\n",
       "    align-items: flex-start;\n",
       "    align-content: flex-start;\n",
       "    padding: 2px;\n",
       "    margin: 2px;\n",
       "    direction: ltr;\n",
       "    unicode-bidi: embed;\n",
       "    border: var(--meta-width) solid var(--meta-color);\n",
       "    border-radius: var(--meta-width);\n",
       "}\n",
       ".features div,.features span {\n",
       "    padding: 0;\n",
       "    margin: -2px 0;\n",
       "}\n",
       ".features .f {\n",
       "    font-family: sans-serif;\n",
       "    font-size: small;\n",
       "    font-weight: normal;\n",
       "    color: #5555bb;\n",
       "}\n",
       ".features .xft {\n",
       "  color: #000000;\n",
       "  background-color: #eeeeee;\n",
       "  font-size: medium;\n",
       "  margin: 2px 0px;\n",
       "}\n",
       ".features .xft .f {\n",
       "  color: #000000;\n",
       "  background-color: #eeeeee;\n",
       "  font-size: small;\n",
       "  font-weight: normal;\n",
       "}\n",
       ".tfsechead {\n",
       "    font-family: sans-serif;\n",
       "    font-size: small;\n",
       "    font-weight: bold;\n",
       "    color: var(--tfsechead);\n",
       "    unicode-bidi: embed;\n",
       "    text-align: start;\n",
       "}\n",
       ".structure {\n",
       "    font-family: sans-serif;\n",
       "    font-size: small;\n",
       "    font-weight: bold;\n",
       "    color: var(--structure);\n",
       "    unicode-bidi: embed;\n",
       "    text-align: start;\n",
       "}\n",
       ".comments {\n",
       "    display: flex;\n",
       "    justify-content: flex-start;\n",
       "    align-items: flex-start;\n",
       "    align-content: flex-start;\n",
       "    flex-flow: column nowrap;\n",
       "}\n",
       ".nd, a:link.nd {\n",
       "    font-family: sans-serif;\n",
       "    font-size: small;\n",
       "    color: var(--node);\n",
       "    vertical-align: super;\n",
       "    direction: ltr ! important;\n",
       "    unicode-bidi: embed;\n",
       "}\n",
       ".lex {\n",
       "  color: var(--lex-color);;\n",
       "}\n",
       ".children,.children.ltr {\n",
       "    display: flex;\n",
       "    border: 0;\n",
       "    background-color: #ffffff;\n",
       "    justify-content: flex-start;\n",
       "    align-items: flex-start;\n",
       "    align-content: flex-start;\n",
       "}\n",
       ".children.stretch {\n",
       "    align-items: stretch;\n",
       "}\n",
       ".children.hor {\n",
       "    flex-flow: row nowrap;\n",
       "}\n",
       ".children.hor.wrap {\n",
       "    flex-flow: row wrap;\n",
       "}\n",
       ".children.ver {\n",
       "    flex-flow: column nowrap;\n",
       "}\n",
       ".children.ver.wrap {\n",
       "    flex-flow: column wrap;\n",
       "}\n",
       ".contnr {\n",
       "    width: fit-content;\n",
       "    display: flex;\n",
       "    justify-content: flex-start;\n",
       "    align-items: flex-start;\n",
       "    align-content: flex-start;\n",
       "    flex-flow: column nowrap;\n",
       "    background: #ffffff none repeat scroll 0 0;\n",
       "    padding:  10px 2px 2px 2px;\n",
       "    margin: 16px 2px 2px 2px;\n",
       "    border-style: solid;\n",
       "    font-size: small;\n",
       "}\n",
       ".contnr.trm {\n",
       "    background-attachment: local;\n",
       "}\n",
       ".contnr.cnul {\n",
       "    padding:  0;\n",
       "    margin: 0;\n",
       "    border-style: solid;\n",
       "    font-size: xx-small;\n",
       "}\n",
       ".contnr.cnul,.lbl.cnul {\n",
       "    border-color: var(--border-color-nul);\n",
       "    border-width: var(--border-width-nul);\n",
       "    border-radius: var(--border-width-nul);\n",
       "}\n",
       ".contnr.c0,.lbl.c0 {\n",
       "    border-color: var(--border-color0);\n",
       "    border-width: var(--border-width0);\n",
       "    border-radius: var(--border-width0);\n",
       "}\n",
       ".contnr.c1,.lbl.c1 {\n",
       "    border-color: var(--border-color1);\n",
       "    border-width: var(--border-width1);\n",
       "    border-radius: var(--border-width1);\n",
       "}\n",
       ".contnr.c2,.lbl.c2 {\n",
       "    border-color: var(--border-color2);\n",
       "    border-width: var(--border-width2);\n",
       "    border-radius: var(--border-width2);\n",
       "}\n",
       ".contnr.c3,.lbl.c3 {\n",
       "    border-color: var(--border-color3);\n",
       "    border-width: var(--border-width3);\n",
       "    border-radius: var(--border-width3);\n",
       "}\n",
       ".contnr.c4,.lbl.c4 {\n",
       "    border-color: var(--border-color4);\n",
       "    border-width: var(--border-width4);\n",
       "    border-radius: var(--border-width4);\n",
       "}\n",
       "span.plain {\n",
       "    display: inline-block;\n",
       "    white-space: pre-wrap;\n",
       "}\n",
       ".plain {\n",
       "    background-color: #ffffff;\n",
       "}\n",
       ".plain.l,.contnr.l,.contnr.l>.lbl {\n",
       "    border-left-style: dotted\n",
       "}\n",
       ".plain.r,.contnr.r,.contnr.r>.lbl {\n",
       "    border-right-style: dotted\n",
       "}\n",
       ".plain.lno,.contnr.lno,.contnr.lno>.lbl {\n",
       "    border-left-style: none\n",
       "}\n",
       ".plain.rno,.contnr.rno,.contnr.rno>.lbl {\n",
       "    border-right-style: none\n",
       "}\n",
       ".plain.l {\n",
       "    padding-left: 4px;\n",
       "    margin-left: 2px;\n",
       "    border-width: var(--border-width-plain);\n",
       "}\n",
       ".plain.r {\n",
       "    padding-right: 4px;\n",
       "    margin-right: 2px;\n",
       "    border-width: var(--border-width-plain);\n",
       "}\n",
       ".lbl {\n",
       "    font-family: monospace;\n",
       "    margin-top: -24px;\n",
       "    margin-left: 20px;\n",
       "    background: #ffffff none repeat scroll 0 0;\n",
       "    padding: 0 6px;\n",
       "    border-style: solid;\n",
       "    display: block;\n",
       "    color: var(--label)\n",
       "}\n",
       ".lbl.trm {\n",
       "    background-attachment: local;\n",
       "    margin-top: 2px;\n",
       "    margin-left: 2px;\n",
       "    padding: 2px 2px;\n",
       "    border-style: none;\n",
       "}\n",
       ".lbl.cnul {\n",
       "    font-size: xx-small;\n",
       "}\n",
       ".lbl.c0 {\n",
       "    font-size: small;\n",
       "}\n",
       ".lbl.c1 {\n",
       "    font-size: small;\n",
       "}\n",
       ".lbl.c2 {\n",
       "    font-size: medium;\n",
       "}\n",
       ".lbl.c3 {\n",
       "    font-size: medium;\n",
       "}\n",
       ".lbl.c4 {\n",
       "    font-size: large;\n",
       "}\n",
       ".occs, a:link.occs {\n",
       "    font-size: small;\n",
       "}\n",
       "\n",
       "/* PROVENANCE */\n",
       "\n",
       "div.prov {\n",
       "\tmargin: 40px;\n",
       "\tpadding: 20px;\n",
       "\tborder: 2px solid var(--fog-rim);\n",
       "}\n",
       "div.pline {\n",
       "\tdisplay: flex;\n",
       "\tflex-flow: row nowrap;\n",
       "\tjustify-content: stretch;\n",
       "\talign-items: baseline;\n",
       "}\n",
       "div.p2line {\n",
       "\tmargin-left: 2em;\n",
       "\tdisplay: flex;\n",
       "\tflex-flow: row nowrap;\n",
       "\tjustify-content: stretch;\n",
       "\talign-items: baseline;\n",
       "}\n",
       "div.psline {\n",
       "\tdisplay: flex;\n",
       "\tflex-flow: row nowrap;\n",
       "\tjustify-content: stretch;\n",
       "\talign-items: baseline;\n",
       "\tbackground-color: var(--gold-mist-back);\n",
       "}\n",
       "div.pname {\n",
       "\tflex: 0 0 5rem;\n",
       "\tfont-weight: bold;\n",
       "}\n",
       "div.pval {\n",
       "    flex: 1 1 auto;\n",
       "}\n",
       "\n",
       ":root {\n",
       "\t--node:               hsla(120, 100%,  20%, 1.0  );\n",
       "\t--label:              hsla(  0, 100%,  20%, 1.0  );\n",
       "\t--tfsechead:          hsla(  0, 100%,  25%, 1.0  );\n",
       "\t--structure:          hsla(120, 100%,  25%, 1.0  );\n",
       "\t--features:           hsla(  0,   0%,  30%, 1.0  );\n",
       "  --text-color:         hsla( 60,  80%,  10%, 1.0  );\n",
       "  --lex-color:          hsla(220,  90%,  60%, 1.0  );\n",
       "  --meta-color:         hsla(  0,   0%,  90%, 0.7  );\n",
       "  --meta-width:         3px;\n",
       "  --border-color-nul:   hsla(  0,   0%,  90%, 0.5  );\n",
       "  --border-color0:      hsla(  0,   0%,  90%, 0.9  );\n",
       "  --border-color1:      hsla(  0,   0%,  80%, 0.9  );\n",
       "  --border-color2:      hsla(  0,   0%,  70%, 0.9  );\n",
       "  --border-color3:      hsla(  0,   0%,  80%, 0.8  );\n",
       "  --border-color4:      hsla(  0,   0%,  60%, 0.9  );\n",
       "  --border-width-nul:   2px;\n",
       "  --border-width0:      2px;\n",
       "  --border-width1:      3px;\n",
       "  --border-width2:      4px;\n",
       "  --border-width3:      6px;\n",
       "  --border-width4:      5px;\n",
       "  --border-width-plain: 2px;\n",
       "}\n",
       ".hl {\n",
       "  background-color: var(--hl-strong);\n",
       "}\n",
       "span.hl {\n",
       "\tbackground-color: var(--hl-strong);\n",
       "\tborder-width: 0;\n",
       "\tborder-radius: 2px;\n",
       "\tborder-style: solid;\n",
       "}\n",
       "div.contnr.hl,div.lbl.hl {\n",
       "  background-color: var(--hl-strong);\n",
       "}\n",
       "div.contnr.hl {\n",
       "  border-color: var(--hl-rim) ! important;\n",
       "\tborder-width: 4px ! important;\n",
       "}\n",
       "\n",
       "span.hlbx {\n",
       "\tborder-color: var(--hl-rim);\n",
       "\tborder-width: 4px ! important;\n",
       "\tborder-style: solid;\n",
       "\tborder-radius: 6px;\n",
       "  padding: 4px;\n",
       "  margin: 4px;\n",
       "}\n",
       "\n",
       "span.plain {\n",
       "  display: inline-block;\n",
       "  white-space: pre-wrap;\n",
       "}\n",
       "\n",
       ":root {\n",
       "\t--hl-strong:        hsla( 60, 100%,  70%, 0.9  );\n",
       "\t--hl-rim:           hsla( 55,  80%,  50%, 1.0  );\n",
       "}\n",
       "</style>"
      ],
      "text/plain": [
       "<IPython.core.display.HTML object>"
      ]
     },
     "metadata": {},
     "output_type": "display_data"
    },
    {
     "data": {
      "text/html": [
       "<div><b>Text-Fabric API:</b> names <a target=\"_blank\" href=\"https://annotation.github.io/text-fabric/tf/cheatsheet.html\" title=\"doc\">N F E L T S C TF</a> directly usable</div><hr>"
      ],
      "text/plain": [
       "<IPython.core.display.HTML object>"
      ]
     },
     "metadata": {},
     "output_type": "display_data"
    }
   ],
   "source": [
    "A = use(\"bhsa\", hoist=globals())"
   ]
  },
  {
   "cell_type": "code",
   "execution_count": 4,
   "id": "b12a6ffa-c42a-44da-8a64-c61be93f4e7b",
   "metadata": {},
   "outputs": [],
   "source": [
    "from ipywidgets import Text, Layout, Box, HBox, VBox, Label, HTML, Button"
   ]
  },
  {
   "cell_type": "code",
   "execution_count": 5,
   "id": "d9bcfcb1-8277-4b86-a55f-53b444b9af27",
   "metadata": {},
   "outputs": [
    {
     "data": {
      "text/html": [
       "<div class=\"tfsechead ltr\"><span class=\"ltr\"><a target=\"_blank\" href=\"https://shebanq.ancient-data.org/hebrew/text?book=Genesis&amp;chapter=1&amp;verse=1&amp;version=2021&amp;mr=m&amp;qw=q&amp;tp=txt_p&amp;tr=hb&amp;wget=v&amp;qget=v&amp;nget=vt\" title=\"Show this on SHEBANQ\" sec=\"Genesis 1:1\">Genesis 1:1</a></span></div><div class=\"ltr children\"><div class=\"contnr c3  ltr  \" ><div class=\"lbl c3  \" ><span class=\"nd\">verse</span></div><div class=\"children hor wrap ltr\"><div class=\"contnr c2  ltr  \" ><div class=\"lbl c2  \" ><span class=\"nd\">sentence</span> <span class=\"\"><span title=\"number\">1</span></span></div><div class=\"children hor wrap ltr\"><div class=\"contnr c2  ltr  \" ><div class=\"lbl c2  \" ><span class=\"nd\">clause</span> <span class=\"\"><span title=\"typ\">xQtX</span> <span title=\"rela\">NA</span></span></div><div class=\"children hor wrap ltr\"><div class=\"contnr c1  ltr  \" ><div class=\"lbl c1  \" ><span class=\"nd\">phrase</span> <span class=\"\"><span title=\"typ\">PP</span> <span title=\"function\">Time</span></span></div><div class=\"children hor wrap ltr\"><div class=\"contnr c0 trm ltr  \" ><div class=\"lbl c0 trm \" ><a class=\" txtu hbo\" target=\"_blank\" href=\"https://shebanq.ancient-data.org/hebrew/word?version=2021&amp;id=1B\" title=\"Show this on SHEBANQ\"><span class=\"txtp\">bᵊ</span></a></div><div class='features'><span class=\"gloss \" title=\"gloss\">in</span><span class=\"pdp \" ><span class=\"f\">pdp=</span>prep</span></div></div><div class=\"contnr c0 trm ltr  \" ><div class=\"lbl c0 trm \" ><a class=\" txtu hbo\" target=\"_blank\" href=\"https://shebanq.ancient-data.org/hebrew/word?version=2021&amp;id=1RACJTn\" title=\"Show this on SHEBANQ\"><span class=\"txtp\">rēšˌîṯ </span></a></div><div class='features'><span class=\"gloss \" title=\"gloss\">beginning</span><span class=\"pdp \" ><span class=\"f\">pdp=</span>subs</span></div></div></div></div><div class=\"contnr c1  ltr  \" ><div class=\"lbl c1  \" ><span class=\"nd\">phrase</span> <span class=\"\"><span title=\"typ\">VP</span> <span title=\"function\">Pred</span></span></div><div class=\"children hor wrap ltr\"><div class=\"contnr c0 trm ltr  \" ><div class=\"lbl c0 trm \" ><a class=\" txtu hbo\" target=\"_blank\" href=\"https://shebanq.ancient-data.org/hebrew/word?version=2021&amp;id=1BRAv\" title=\"Show this on SHEBANQ\"><span class=\"txtp\">bārˈā </span></a></div><div class='features'><span class=\"gloss \" title=\"gloss\">create</span><span class=\"pdp \" ><span class=\"f\">pdp=</span>verb</span><span class=\"vs \" ><span class=\"f\">vs=</span>qal</span><span class=\"vt \" ><span class=\"f\">vt=</span>perf</span></div></div></div></div><div class=\"contnr c1  ltr  \" ><div class=\"lbl c1  \" ><span class=\"nd\">phrase</span> <span class=\"\"><span title=\"typ\">NP</span> <span title=\"function\">Subj</span></span></div><div class=\"children hor wrap ltr\"><div class=\"contnr c0 trm ltr  \" ><div class=\"lbl c0 trm \" ><a class=\" txtu hbo\" target=\"_blank\" href=\"https://shebanq.ancient-data.org/hebrew/word?version=2021&amp;id=1ALHJMn\" title=\"Show this on SHEBANQ\"><span class=\"txtp\">ʔᵉlōhˈîm </span></a></div><div class='features'><span class=\"gloss \" title=\"gloss\">god(s)</span><span class=\"pdp \" ><span class=\"f\">pdp=</span>subs</span></div></div></div></div><div class=\"contnr c1  ltr  \" ><div class=\"lbl c1  \" ><span class=\"nd\">phrase</span> <span class=\"\"><span title=\"typ\">PP</span> <span title=\"function\">Objc</span></span></div><div class=\"children hor wrap ltr\"><div class=\"contnr c0 trm ltr  \" ><div class=\"lbl c0 trm \" ><a class=\" txtu hbo\" target=\"_blank\" href=\"https://shebanq.ancient-data.org/hebrew/word?version=2021&amp;id=1AT\" title=\"Show this on SHEBANQ\"><span class=\"txtp\">ʔˌēṯ </span></a></div><div class='features'><span class=\"gloss \" title=\"gloss\">&lt;object marker></span><span class=\"pdp \" ><span class=\"f\">pdp=</span>prep</span></div></div><div class=\"contnr c0 trm ltr  \" ><div class=\"lbl c0 trm \" ><a class=\" txtu hbo\" target=\"_blank\" href=\"https://shebanq.ancient-data.org/hebrew/word?version=2021&amp;id=1H\" title=\"Show this on SHEBANQ\"><span class=\"txtp\">ha</span></a></div><div class='features'><span class=\"gloss \" title=\"gloss\">the</span><span class=\"pdp \" ><span class=\"f\">pdp=</span>art</span></div></div><div class=\"contnr c0 trm ltr  \" ><div class=\"lbl c0 trm \" ><a class=\" txtu hbo\" target=\"_blank\" href=\"https://shebanq.ancient-data.org/hebrew/word?version=2021&amp;id=1CMJMn\" title=\"Show this on SHEBANQ\"><span class=\"txtp\">ššāmˌayim </span></a></div><div class='features'><span class=\"gloss \" title=\"gloss\">heavens</span><span class=\"pdp \" ><span class=\"f\">pdp=</span>subs</span></div></div><div class=\"contnr c0 trm ltr  \" ><div class=\"lbl c0 trm \" ><a class=\" txtu hbo\" target=\"_blank\" href=\"https://shebanq.ancient-data.org/hebrew/word?version=2021&amp;id=1W\" title=\"Show this on SHEBANQ\"><span class=\"txtp\">wᵊ</span></a></div><div class='features'><span class=\"gloss \" title=\"gloss\">and</span><span class=\"pdp \" ><span class=\"f\">pdp=</span>conj</span></div></div><div class=\"contnr c0 trm ltr  \" ><div class=\"lbl c0 trm \" ><a class=\" txtu hbo\" target=\"_blank\" href=\"https://shebanq.ancient-data.org/hebrew/word?version=2021&amp;id=1AT\" title=\"Show this on SHEBANQ\"><span class=\"txtp\">ʔˌēṯ </span></a></div><div class='features'><span class=\"gloss \" title=\"gloss\">&lt;object marker></span><span class=\"pdp \" ><span class=\"f\">pdp=</span>prep</span></div></div><div class=\"contnr c0 trm ltr  \" ><div class=\"lbl c0 trm \" ><a class=\" txtu hbo\" target=\"_blank\" href=\"https://shebanq.ancient-data.org/hebrew/word?version=2021&amp;id=1H\" title=\"Show this on SHEBANQ\"><span class=\"txtp\">hā</span></a></div><div class='features'><span class=\"gloss \" title=\"gloss\">the</span><span class=\"pdp \" ><span class=\"f\">pdp=</span>art</span></div></div><div class=\"contnr c0 trm ltr  \" ><div class=\"lbl c0 trm \" ><a class=\" txtu hbo\" target=\"_blank\" href=\"https://shebanq.ancient-data.org/hebrew/word?version=2021&amp;id=1ARYn\" title=\"Show this on SHEBANQ\"><span class=\"txtp\">ʔˈāreṣ . </span></a></div><div class='features'><span class=\"gloss \" title=\"gloss\">earth</span><span class=\"pdp \" ><span class=\"f\">pdp=</span>subs</span></div></div></div></div></div></div></div></div></div></div></div>"
      ],
      "text/plain": [
       "<IPython.core.display.HTML object>"
      ]
     },
     "metadata": {},
     "output_type": "display_data"
    }
   ],
   "source": [
    "v1 = T.nodeFromSection((\"Genesis\", 1, 1))\n",
    "A.pretty(v1, standardFeatures=True, fmt=\"text-phono-full\")"
   ]
  },
  {
   "cell_type": "markdown",
   "id": "f0e9d530-fdd8-4395-87e3-72cac1e581f4",
   "metadata": {},
   "source": [
    "What we want is a display like this, but with the glosses (`in` `beginning` `create` etc) editable.\n",
    "Also all values after `pdp=` should be editable. And the information in the labels with clause and phrase as well\n",
    "(`xQtX`, `PP`, `Time`) etc. If you hover over them, you see they are values of features `typ`, `rela` and `function`.\n",
    "\n",
    "The task is to rebuild this from the\n",
    "[layout widgets of ipywidgets](https://ipywidgets.readthedocs.io/en/7.6.3/examples/Widget%20Styling.html),\n",
    "such as Box, HBox, VBox, HTML.\n",
    "\n",
    "We start with something simpler, the first phrase (`in beginning`), without the passage reference.\n",
    "We first generate the html, then display it\n"
   ]
  },
  {
   "cell_type": "code",
   "execution_count": 6,
   "id": "c53b0384-4ac5-42ba-902d-6daadbf6c958",
   "metadata": {},
   "outputs": [
    {
     "data": {
      "text/html": [
       "<div class=\"ltr children\"><div class=\"contnr c1  ltr  \" ><div class=\"lbl c1  \" ><span class=\"nd\">phrase</span> <span class=\"\"><span title=\"typ\">PP</span> <span title=\"function\">Time</span></span></div><div class=\"children hor wrap ltr\"><div class=\"contnr c0 trm ltr  \" ><div class=\"lbl c0 trm \" ><a class=\" txtu hbo\" target=\"_blank\" href=\"https://shebanq.ancient-data.org/hebrew/word?version=2021&amp;id=1B\" title=\"Show this on SHEBANQ\"><span class=\"txtp\">bᵊ</span></a></div><div class='features'><span class=\"gloss \" title=\"gloss\">in</span><span class=\"pdp \" ><span class=\"f\">pdp=</span>prep</span></div></div><div class=\"contnr c0 trm ltr  \" ><div class=\"lbl c0 trm \" ><a class=\" txtu hbo\" target=\"_blank\" href=\"https://shebanq.ancient-data.org/hebrew/word?version=2021&amp;id=1RACJTn\" title=\"Show this on SHEBANQ\"><span class=\"txtp\">rēšˌîṯ </span></a></div><div class='features'><span class=\"gloss \" title=\"gloss\">beginning</span><span class=\"pdp \" ><span class=\"f\">pdp=</span>subs</span></div></div></div></div></div>"
      ],
      "text/plain": [
       "<IPython.core.display.HTML object>"
      ]
     },
     "metadata": {},
     "output_type": "display_data"
    }
   ],
   "source": [
    "p1 = F.otype.s(\"phrase\")[0]\n",
    "html = A.pretty(p1, standardFeatures=True, fmt=\"text-phono-full\", withPassage=False, _asString=True)\n",
    "dh(html)"
   ]
  },
  {
   "cell_type": "markdown",
   "id": "ac7bc539-e5d0-4d51-ae5a-306b8005c9cc",
   "metadata": {},
   "source": [
    "We could also show the underlying HTML as a decently formatted string,\n",
    "using *beautifulsoup* and a convenience function:"
   ]
  },
  {
   "cell_type": "code",
   "execution_count": 7,
   "id": "7f0a410d-3e2b-4f75-94af-6e51900fa2c6",
   "metadata": {},
   "outputs": [],
   "source": [
    "def pdh(html):\n",
    "    print(bs(html).prettify())\n",
    "\n",
    "# pdh(html)"
   ]
  },
  {
   "cell_type": "markdown",
   "id": "a915fff8-3469-4c2b-9c94-a4742781c7a3",
   "metadata": {
    "tags": []
   },
   "source": [
    "# Displaying\n",
    "\n",
    "We have a (clumsy) shot at displaying this phrase with editable content."
   ]
  },
  {
   "cell_type": "code",
   "execution_count": 85,
   "id": "542efbf8-921e-4ea2-99e5-0f0994b286e0",
   "metadata": {},
   "outputs": [],
   "source": [
    "word1 = \"\"\"<a\n",
    "  class=\"txtu hbo\"\n",
    "  href=\"https://shebanq.ancient-data.org/hebrew/word?version=2021&amp;id=1B\"\n",
    "  target=\"_blank\"\n",
    "  title=\"Show this on SHEBANQ\">\n",
    "        <span class=\"txtp\">\n",
    "         bᵊ\n",
    "        </span>\n",
    "       </a>\"\"\"\n",
    "word2 = \"\"\"<a\n",
    "  class=\"txtu hbo\"\n",
    "  href=\"https://shebanq.ancient-data.org/hebrew/word?version=2021&amp;id=1RACJTn\"\n",
    "  target=\"_blank\"\n",
    "  title=\"Show this on SHEBANQ\">\n",
    "        <span class=\"txtp\">\n",
    "         rēšˌîṯ\n",
    "        </span>\n",
    "       </a>\"\"\"\n",
    "gloss1 = \"in\"\n",
    "gloss2 = \"beginning\"\n",
    "pdp1 = \"prep\"\n",
    "pdp2 = \"subs\""
   ]
  },
  {
   "cell_type": "code",
   "execution_count": 106,
   "id": "cd0d2cda-3b0e-4517-99a9-c04da757097c",
   "metadata": {},
   "outputs": [],
   "source": [
    "layout1 = Layout(flex=\"auto 1 1\")\n",
    "layout1a = Layout(\n",
    "    flex=\"auto 0 0\",\n",
    "    overflow=\"hidden\",\n",
    ")\n",
    "layout1b = Layout(\n",
    "    flex=\"auto 1 1\",\n",
    "    overflow=\"auto\",\n",
    ")\n",
    "layout2 = Layout(\n",
    "    display=\"inline-flex\",\n",
    "    flex_flow=\"column nowrap\",\n",
    "    border=\"2px solid gray\",\n",
    "    flex=\"auto 0 1\",\n",
    "    overflow=\"auto\",\n",
    ")\n",
    "layout2a = Layout(\n",
    "    display=\"inline-flex\",\n",
    "    flex_flow=\"column nowrap\",\n",
    "    border=\"2px solid gray\",\n",
    "    flex=\"auto 0 1\",\n",
    "    overflow=\"auto\",\n",
    ")\n",
    "layout2b = Layout(\n",
    "    display=\"inline-flex\",\n",
    "    flex_flow=\"row wrap\",\n",
    "    border=\"1px solid gray\",\n",
    "    flex=\"auto 0 1\",\n",
    "    overflow=\"auto\",\n",
    ")"
   ]
  },
  {
   "cell_type": "code",
   "execution_count": 107,
   "id": "a351b520-ea1a-4aac-b414-ea72bd2f0d1c",
   "metadata": {},
   "outputs": [],
   "source": [
    "w1 = Box(\n",
    "    [\n",
    "        HTML(value=word1, layout=layout1),\n",
    "        Text(value=gloss1, placeholder=\"gloss\", layout=layout1a),\n",
    "        Box([HTML(value=\"pdp=\"), Text(value=pdp1, placeholder=\"pdp\", layout=layout1a)], layout=layout1b),\n",
    "    ],\n",
    "    layout=layout2,\n",
    ")"
   ]
  },
  {
   "cell_type": "code",
   "execution_count": 108,
   "id": "a4284e7d-2c8c-4651-a980-6cfb3df70d4f",
   "metadata": {
    "tags": []
   },
   "outputs": [
    {
     "data": {
      "application/vnd.jupyter.widget-view+json": {
       "model_id": "c7583e55e9e84288900f75da4dd6be40",
       "version_major": 2,
       "version_minor": 0
      },
      "text/plain": [
       "Box(children=(HTML(value='<a\\n  class=\"txtu hbo\"\\n  href=\"https://shebanq.ancient-data.org/hebrew/word?version…"
      ]
     },
     "metadata": {},
     "output_type": "display_data"
    }
   ],
   "source": [
    "display(w1)"
   ]
  },
  {
   "cell_type": "code",
   "execution_count": 109,
   "id": "3bca15b5-4728-4e8d-ac04-917450681aff",
   "metadata": {},
   "outputs": [],
   "source": [
    "w2 = Box(\n",
    "    [\n",
    "        HTML(value=word2, layout=layout1),\n",
    "        Text(value=gloss2, placeholder=\"gloss\", layout=layout1a),\n",
    "        Text(value=pdp2, placeholder=\"pdp\", description=\"pdp=\", layout=layout1a),\n",
    "    ],\n",
    "    layout=layout2,\n",
    ")"
   ]
  },
  {
   "cell_type": "code",
   "execution_count": 110,
   "id": "c4ad79b9-6049-43c9-a158-6ca811f43bfe",
   "metadata": {
    "tags": []
   },
   "outputs": [
    {
     "data": {
      "application/vnd.jupyter.widget-view+json": {
       "model_id": "34453efaf7f047e2bfba26df5ed1a471",
       "version_major": 2,
       "version_minor": 0
      },
      "text/plain": [
       "Box(children=(HTML(value='<a\\n  class=\"txtu hbo\"\\n  href=\"https://shebanq.ancient-data.org/hebrew/word?version…"
      ]
     },
     "metadata": {},
     "output_type": "display_data"
    }
   ],
   "source": [
    "display(w2)"
   ]
  },
  {
   "cell_type": "code",
   "execution_count": 111,
   "id": "4a8379fa-69f6-40cc-a5b3-25c115600739",
   "metadata": {},
   "outputs": [],
   "source": [
    "layout3 = Layout(align_content=\"flex-start\")\n",
    "w12 = Box([w1, w2], layout=layout3)"
   ]
  },
  {
   "cell_type": "code",
   "execution_count": 112,
   "id": "a5ead64a-4a4b-4e73-a222-5e506b575a57",
   "metadata": {
    "tags": []
   },
   "outputs": [
    {
     "data": {
      "application/vnd.jupyter.widget-view+json": {
       "model_id": "3419b34e2dde4683b50f306ddfef6fd8",
       "version_major": 2,
       "version_minor": 0
      },
      "text/plain": [
       "Box(children=(Box(children=(HTML(value='<a\\n  class=\"txtu hbo\"\\n  href=\"https://shebanq.ancient-data.org/hebre…"
      ]
     },
     "metadata": {},
     "output_type": "display_data"
    }
   ],
   "source": [
    "display(w12)"
   ]
  },
  {
   "cell_type": "code",
   "execution_count": 113,
   "id": "436b1568-f3b7-4e5a-b821-cf70849139b7",
   "metadata": {},
   "outputs": [],
   "source": [
    "typ = \"PP\"\n",
    "function = \"Time\"\n",
    "\n",
    "w = Box(\n",
    "    [\n",
    "        Box(\n",
    "            [\n",
    "                HTML(value=\"phrase\", layout=layout1),\n",
    "                Text(value=typ, placeholder=\"typ\", layout=layout1a),\n",
    "                Text(value=function, placeholder=\"function\", layout=layout1a),\n",
    "            ],\n",
    "            layout=layout2b,\n",
    "        ),\n",
    "        w12,\n",
    "    ],\n",
    "    layout=layout2a,\n",
    ")"
   ]
  },
  {
   "cell_type": "code",
   "execution_count": 114,
   "id": "bfe48928-fe39-4de7-9023-fc764fbea546",
   "metadata": {},
   "outputs": [
    {
     "data": {
      "application/vnd.jupyter.widget-view+json": {
       "model_id": "c5b56b2c33af4d54a19f2cd37bf68566",
       "version_major": 2,
       "version_minor": 0
      },
      "text/plain": [
       "Box(children=(Box(children=(HTML(value='phrase', layout=Layout(flex='auto 1 1')), Text(value='PP', layout=Layo…"
      ]
     },
     "metadata": {},
     "output_type": "display_data"
    }
   ],
   "source": [
    "display(w)"
   ]
  },
  {
   "cell_type": "markdown",
   "id": "fe118bf1-bf1d-4425-b2bb-d7c8f13a0379",
   "metadata": {},
   "source": [
    "The styling and layout are far from optimal.\n",
    "But for the moment it will do."
   ]
  },
  {
   "cell_type": "markdown",
   "id": "b12e70c1-18b9-45d5-ac51-4c3b28592b95",
   "metadata": {
    "tags": []
   },
   "source": [
    "# Updating\n",
    "\n",
    "Now we want to change values and save them.\n",
    "\n",
    "For the moment, we store the data in dictionaries, keyed by feature name and then by node.\n",
    "\n",
    "We regenerate the display in a different way, but before we do that, we display the phrase with node numbers."
   ]
  },
  {
   "cell_type": "code",
   "execution_count": 18,
   "id": "04bc5f0d-4402-48b2-8988-0920784b1443",
   "metadata": {},
   "outputs": [
    {
     "data": {
      "text/html": [
       "<div class=\"ltr children\"><div class=\"contnr c1  ltr  \" ><div class=\"lbl c1  \" ><span class=\"nd\">phrase:651573</span> <span class=\"\"><span title=\"typ\">PP</span> <span title=\"function\">Time</span></span></div><div class=\"children hor wrap ltr\"><div class=\"contnr c0 trm ltr  \" ><div class=\"lbl c0 trm \" ><span class=\"nd\">1</span> <a class=\" txtu hbo\" target=\"_blank\" href=\"https://shebanq.ancient-data.org/hebrew/word?version=2021&amp;id=1B\" title=\"Show this on SHEBANQ\"><span class=\"txtp\">bᵊ</span></a></div><div class='features'><span class=\"gloss \" title=\"gloss\">in</span><span class=\"pdp \" ><span class=\"f\">pdp=</span>prep</span></div></div><div class=\"contnr c0 trm ltr  \" ><div class=\"lbl c0 trm \" ><span class=\"nd\">2</span> <a class=\" txtu hbo\" target=\"_blank\" href=\"https://shebanq.ancient-data.org/hebrew/word?version=2021&amp;id=1RACJTn\" title=\"Show this on SHEBANQ\"><span class=\"txtp\">rēšˌîṯ </span></a></div><div class='features'><span class=\"gloss \" title=\"gloss\">beginning</span><span class=\"pdp \" ><span class=\"f\">pdp=</span>subs</span></div></div></div></div></div>"
      ],
      "text/plain": [
       "<IPython.core.display.HTML object>"
      ]
     },
     "metadata": {},
     "output_type": "display_data"
    }
   ],
   "source": [
    "A.pretty(p1, standardFeatures=True, fmt=\"text-phono-full\", withPassage=False, withNodes=True)"
   ]
  },
  {
   "cell_type": "markdown",
   "id": "d0fb3119-d185-4f4d-a3f9-1a0e8d30c8d2",
   "metadata": {},
   "source": [
    "## Context\n",
    "\n",
    "Knowledge about the features."
   ]
  },
  {
   "cell_type": "code",
   "execution_count": 19,
   "id": "8046719b-66a8-4d84-a08b-99c43c83e982",
   "metadata": {},
   "outputs": [],
   "source": [
    "standardFeatures = {\"typ\", \"function\", \"gloss\"}\n",
    "\n",
    "featsFromType = dict(\n",
    "    phrase=[\"typ\", \"function\"],\n",
    "    word=[\"gloss\", \"pdp\"],\n",
    ")\n",
    "featOrder = (\"_\", \"typ\", \"function\", \"gloss\", \"pdp\")"
   ]
  },
  {
   "cell_type": "markdown",
   "id": "1b7e7f98-b7b8-4ebc-91be-eee8a13592a6",
   "metadata": {},
   "source": [
    "## Arguments\n",
    "\n",
    "Initial values of the features and structure of the data to display."
   ]
  },
  {
   "cell_type": "code",
   "execution_count": 20,
   "id": "4b59d469-40b3-4637-bb67-74317c8bd4b2",
   "metadata": {},
   "outputs": [],
   "source": [
    "features = dict(\n",
    "    typ={\n",
    "        651573: \"PP\",\n",
    "    },\n",
    "    function={\n",
    "        651573: \"Time\",\n",
    "    },\n",
    "    gloss={\n",
    "        1: \"in\",\n",
    "        2: \"beginning\",\n",
    "    },\n",
    "    pdp={\n",
    "        1: \"prep\",\n",
    "        2: \"subs\",\n",
    "    },\n",
    "    _= {\n",
    "        1: \"bᵊ\",\n",
    "        2: \"rēšˌîṯ\",\n",
    "    },\n",
    ")\n",
    "structure = [\n",
    "    (\"phrase\", 651573),\n",
    "    [(\"word\", 1)], \n",
    "    [(\"word\", 2)],\n",
    "]"
   ]
  },
  {
   "cell_type": "markdown",
   "id": "f1b6b3a5-74c1-4966-b07c-53a10b51ca82",
   "metadata": {},
   "source": [
    "When we create the display, we use the info in the dict `features` to provide the edit widgets with initial values.\n",
    "It also contains the texts to display with nodes, in the pseudo feature `_`.\n",
    "\n",
    "We write a function called `place` to place an editable representation of a node in an output cell.\n",
    "Its arguments are the structure and the initial values.\n",
    "\n",
    "We do not pass `standardFeatures` and `featsFromType`, we consider that part of the context that `place()` has access to.\n",
    "In it, \n",
    "we create a dictionary `widgets` with the same structure, but the values are now handles to the corresponding widgets.\n",
    "\n",
    "Finally we have to attach event handlers to all widgets whose values may change."
   ]
  },
  {
   "cell_type": "code",
   "execution_count": 205,
   "id": "66d3ab30-2557-4790-a5f6-972f0b735414",
   "metadata": {},
   "outputs": [],
   "source": [
    "layoutCommon = dict(\n",
    "    align_items=\"flex-start\",\n",
    "    align_content=\"flex-start\",\n",
    "    justify_content=\"flex-start\",\n",
    ")\n",
    "layoutA = Layout(\n",
    "    overflow=\"hidden\",\n",
    "    flex=\"auto 0 0\",\n",
    "    **layoutCommon\n",
    ")\n",
    "layoutV = Layout(\n",
    "    display=\"inline-flex\",\n",
    "    flex_flow=\"column nowrap\",\n",
    "    overflow=\"auto\",\n",
    "    border=\"1px solid gray\",\n",
    "    flex=\"auto 0 0\",\n",
    "    **layoutCommon\n",
    ")\n",
    "layoutV2 = Layout(\n",
    "    display=\"inline-flex\",\n",
    "    flex_flow=\"column nowrap\",\n",
    "    overflow=\"auto\",\n",
    "    border=\"3px solid gray\",\n",
    "    flex=\"auto 0 0\",\n",
    "    **layoutCommon\n",
    ")\n",
    "layoutV3 = Layout(\n",
    "    display=\"flex\",\n",
    "    flex_flow=\"column nowrap\",\n",
    "    align_items=\"flex-start\",\n",
    "    overflow=\"auto\",\n",
    "    border=\"2px solid #eeeeee\",\n",
    "    flex=\"auto 0 0\",\n",
    ")\n",
    "layoutH = Layout(\n",
    "    display=\"inline-flex\",\n",
    "    flex_flow=\"row wrap\",\n",
    "    overflow=\"auto\",\n",
    "    border=\"3px solid gray\",\n",
    "    flex=\"auto 0 0\",\n",
    "    **layoutCommon\n",
    ")\n",
    "layoutST = Layout(\n",
    "    # width=\"100%\",\n",
    "    # overflow=\"auto\",\n",
    "    flex=\"auto 1 1\",\n",
    ")\n",
    "layoutSV = Layout(\n",
    "    # width=\"100%\",\n",
    "    # overflow=\"auto\",\n",
    "    flex=\"auto 1 1\",\n",
    "    border=\"1px solid black\",\n",
    ")"
   ]
  },
  {
   "cell_type": "code",
   "execution_count": 206,
   "id": "d3bab036-8ce0-49ab-853b-f667709af659",
   "metadata": {},
   "outputs": [],
   "source": [
    "def place(structure, features):\n",
    "    widgets = {}\n",
    "    for (feat, values) in features.items():\n",
    "        for (node, value) in values.items():\n",
    "            if feat == \"_\":\n",
    "                w = HTML(value=value, layout=layoutA)\n",
    "            else:\n",
    "                params = dict(value=value, placeholder=\"feat\", layout=layoutA)\n",
    "                if feat not in standardFeatures:\n",
    "                    params[\"description\"] = f\"{feat}=\"\n",
    "                w = Text(**params)\n",
    "            widgets.setdefault(feat, {})[node] = w\n",
    "\n",
    "    def build(fragments):\n",
    "        result = []\n",
    "\n",
    "        for fragment in fragments:\n",
    "            (nType, node) = fragment[0]\n",
    "            children = fragment[1:]\n",
    "\n",
    "            ws = [HTML(value=nType, layout=layoutA)]\n",
    "            feats = featsFromType[nType]\n",
    "            for feat in featOrder:\n",
    "                if feat != \"_\" and feat not in feats:\n",
    "                    continue\n",
    "                wf = widgets.get(feat, {}).get(node, None)\n",
    "                if wf is not None:\n",
    "                    ws.append(wf)\n",
    "\n",
    "            nodeResult = Box(ws, layout=layoutV) if len(ws) > 1 else ws[0]\n",
    "            childrenResult = build(children)\n",
    "\n",
    "            if childrenResult:\n",
    "                thisResult = Box([nodeResult, childrenResult], layout=layoutV2)\n",
    "            else:\n",
    "                thisResult = nodeResult\n",
    "            result.append(thisResult)\n",
    "\n",
    "        if len(result) == 0:\n",
    "            return None\n",
    "        if len(result) == 1:\n",
    "            return result[0]\n",
    "        return Box(result, layout=layoutH)\n",
    "\n",
    "    def observe(widgets):\n",
    "        updates = {}\n",
    "\n",
    "        status = Label(value=\"Up to date\", layout=layoutST)\n",
    "        save = Button(description=\"Save\", layout=layoutSV, disabled=True)\n",
    "\n",
    "        def handleSave(b):\n",
    "            if updates:\n",
    "                for (feat, upds) in updates.items():\n",
    "                    for (node, value) in upds.items():\n",
    "                        features.setdefault(feat, {})[node] = value\n",
    "                updates.clear()\n",
    "            status.value = \"Up to date\"\n",
    "            save.disabled = True\n",
    "\n",
    "        save.on_click(handleSave)\n",
    "\n",
    "        def makeHandler(feat, node):\n",
    "            def handleChange(change):\n",
    "                updates.setdefault(feat, {})[node] = change.new\n",
    "                status.value = (\n",
    "                    f\"\"\"node {node} feature {feat} changed from '{change.old}' to '{change.new}'. \"\"\"\n",
    "                )\n",
    "                save.disabled = False\n",
    "\n",
    "            return handleChange\n",
    "\n",
    "        for (feat, ws) in widgets.items():\n",
    "            for (node, w) in ws.items():\n",
    "                if type(w) is not Text:\n",
    "                    continue\n",
    "                w.continuous_update = False\n",
    "                w.observe(makeHandler(feat, node), names=\"value\")\n",
    "        \n",
    "        return (status, save)\n",
    "\n",
    "    w = Box([build([structure]), *observe(widgets)], layout=layoutV3)\n",
    "    display(w)"
   ]
  },
  {
   "cell_type": "code",
   "execution_count": 207,
   "id": "ccb52877-be0d-467d-af01-53b453db50c8",
   "metadata": {},
   "outputs": [
    {
     "data": {
      "application/vnd.jupyter.widget-view+json": {
       "model_id": "7d85faf3d2874d3bb597827b3fa47fdb",
       "version_major": 2,
       "version_minor": 0
      },
      "text/plain": [
       "Box(children=(Box(children=(Box(children=(HTML(value='phrase', layout=Layout(align_content='flex-start', align…"
      ]
     },
     "metadata": {},
     "output_type": "display_data"
    }
   ],
   "source": [
    "place(structure, features)"
   ]
  },
  {
   "cell_type": "markdown",
   "id": "9050f7cc-51f2-44fd-ac44-d017cc43d3e8",
   "metadata": {},
   "source": [
    "Before we start doing anything, we inspect the current values of the first phrase feature (`typ`):"
   ]
  },
  {
   "cell_type": "code",
   "execution_count": 119,
   "id": "a142e817-e7ac-43be-b941-d43b92407814",
   "metadata": {},
   "outputs": [
    {
     "data": {
      "text/plain": [
       "{651573: 'PPxx'}"
      ]
     },
     "execution_count": 119,
     "metadata": {},
     "output_type": "execute_result"
    }
   ],
   "source": [
    "features[\"typ\"]"
   ]
  },
  {
   "cell_type": "markdown",
   "id": "f5d43e90-7860-428a-94ef-1bbf1a25c17e",
   "metadata": {},
   "source": [
    "Make a change to the PP value.\n",
    "The button that says Up-to-date will change and show the change, and you can click to save the change back to the\n",
    "`features` dictionary.\n",
    "\n",
    "Before that click, the button looks like this\n",
    "\n",
    "![button](images/button.png)"
   ]
  },
  {
   "cell_type": "markdown",
   "id": "cb731bc9-092f-48c6-8fea-57c13db58078",
   "metadata": {},
   "source": [
    "After saving a change, inspect the current value of the first phrase feature (`typ`)"
   ]
  },
  {
   "cell_type": "code",
   "execution_count": 26,
   "id": "7475fe4f-77be-4527-ba1d-a239ece4baba",
   "metadata": {},
   "outputs": [
    {
     "data": {
      "text/plain": [
       "{651573: 'PPxx'}"
      ]
     },
     "execution_count": 26,
     "metadata": {},
     "output_type": "execute_result"
    }
   ],
   "source": [
    "features[\"typ\"]"
   ]
  },
  {
   "cell_type": "markdown",
   "id": "8010e038-d2b8-40f4-b13c-12bbc34cc4f6",
   "metadata": {
    "jp-MarkdownHeadingCollapsed": true,
    "tags": []
   },
   "source": [
    "# Editable displays are possible\n",
    "\n",
    "Remarkable: your change has been saved!\n",
    "\n",
    "What does this really mean?\n",
    "\n",
    "Well, the widget gives you a user interface with which you can interact.\n",
    "This happens solely in the browser, through Javascript.\n",
    "\n",
    "However, through observing, we can make the Python kernel aware of the changes, and store them in a Python\n",
    "dictionary.\n",
    "\n",
    "In the end, we have changed Python data through Javascript.\n",
    "\n",
    "Put otherwise: we have changed Python data without running code cells, only by interacting with output cells.\n",
    "\n",
    "Users can now create/update annotations to a text inside a Jupyter notebook."
   ]
  },
  {
   "cell_type": "markdown",
   "id": "922ccef6-4204-4917-8adf-1c87cc8412cf",
   "metadata": {
    "tags": []
   },
   "source": [
    "# Further steps\n",
    "\n",
    "We can now write functions in Text-Fabric that let users edit feature data and save it back to other features\n",
    "or the same feature.\n",
    "\n",
    "Probably it is better to accomodate features in a local `edit` directory alongside the original features,\n",
    "so that the original features stay untouched.\n",
    "\n",
    "When loading features, we can ask Text-Fabric to use the features in `edit` to override existing features.\n",
    "\n",
    "When such edited features gain quality, the author can share them in his/her own github repo as a new\n",
    "data module.\n",
    "\n",
    "Imagine you can do a query and view its results while being able to change odd feature values and save it to a \n",
    "solid file on disk. Or comment on the query results one by one, storing the comments in a new, personal feature.\n",
    "\n",
    "See [datasharing](https://annotation.github.io/text-fabric/tf/about/datasharing.html).\n"
   ]
  },
  {
   "cell_type": "markdown",
   "id": "f7f015ce-0f2a-4ced-b3d9-ae7a45119586",
   "metadata": {},
   "source": [
    "# Low level experiments\n",
    "\n",
    "What follows are some intermediate bits and pieces where I try certain things out."
   ]
  },
  {
   "cell_type": "code",
   "execution_count": 121,
   "id": "6dbb617b-5003-4c00-8733-bda867d7d3a7",
   "metadata": {},
   "outputs": [
    {
     "data": {
      "text/html": [
       "\n",
       "<div style=\"\n",
       "    display: inline-flex;\n",
       "    flex-flow: row wrap;\n",
       "    align-items: flex-start;\n",
       "    align-content: flex-start;\n",
       "    justify-content: flex-start;\n",
       "    border: 3px solid red;\n",
       "    margin: 1em;\n",
       "    padding: 1em;\n",
       "    \"\n",
       ">\n",
       "<div style=\"\n",
       "    display: flex;\n",
       "    flex-flow: column nowrap;\n",
       "    align-items: flex-start;\n",
       "    align-content: flex-start;\n",
       "    justify-content: flex-start;\n",
       "    border: 3px solid blue;\n",
       "    margin: 1em;\n",
       "    padding: 1em;\n",
       "    \"\n",
       ">\n",
       "<div style=\"\n",
       "    flex: auto 0 0;\n",
       "    align-items: flex-start;\n",
       "    align-content: flex-start;\n",
       "    justify-content: flex-start;\n",
       "    border: 2px solid gray;\n",
       "    margin: 0.5em;\n",
       "    padding: 0.5em;\n",
       "    \"\n",
       ">A</div>\n",
       "\n",
       "<div style=\"\n",
       "    flex: auto 0 0;\n",
       "    align-items: flex-start;\n",
       "    align-content: flex-start;\n",
       "    justify-content: flex-start;\n",
       "    border: 2px solid gray;\n",
       "    margin: 0.5em;\n",
       "    padding: 0.5em;\n",
       "    \"\n",
       ">B</div>\n",
       "\n",
       "<div style=\"\n",
       "    flex: auto 0 0;\n",
       "    align-items: flex-start;\n",
       "    align-content: flex-start;\n",
       "    justify-content: flex-start;\n",
       "    border: 2px solid gray;\n",
       "    margin: 0.5em;\n",
       "    padding: 0.5em;\n",
       "    \"\n",
       ">C</div>\n",
       "</div>\n",
       "</div>\n"
      ],
      "text/plain": [
       "<IPython.core.display.HTML object>"
      ]
     },
     "metadata": {},
     "output_type": "display_data"
    }
   ],
   "source": [
    "def vbox(contents): \n",
    "    return f\"\"\"\n",
    "<div style=\"\n",
    "    display: flex;\n",
    "    flex-flow: column nowrap;\n",
    "    align-items: flex-start;\n",
    "    align-content: flex-start;\n",
    "    justify-content: flex-start;\n",
    "    border: 3px solid blue;\n",
    "    margin: 1em;\n",
    "    padding: 1em;\n",
    "    \"\n",
    ">{contents}</div>\n",
    "\"\"\"\n",
    "\n",
    "def hbox(contents): \n",
    "    return f\"\"\"\n",
    "<div style=\"\n",
    "    display: inline-flex;\n",
    "    flex-flow: row wrap;\n",
    "    align-items: flex-start;\n",
    "    align-content: flex-start;\n",
    "    justify-content: flex-start;\n",
    "    border: 3px solid red;\n",
    "    margin: 1em;\n",
    "    padding: 1em;\n",
    "    \"\n",
    ">{contents}</div>\n",
    "\"\"\"\n",
    "\n",
    "\n",
    "def abox(contents):\n",
    "    return f\"\"\"\n",
    "<div style=\"\n",
    "    flex: auto 0 0;\n",
    "    align-items: flex-start;\n",
    "    align-content: flex-start;\n",
    "    justify-content: flex-start;\n",
    "    border: 2px solid gray;\n",
    "    margin: 0.5em;\n",
    "    padding: 0.5em;\n",
    "    \"\n",
    ">{contents}</div>\n",
    "\"\"\"\n",
    "\n",
    "blocks = [\"A\", \"B\", \"C\"]\n",
    "html = hbox(vbox(\"\".join(abox(b) for b in blocks)))\n",
    "dh(html)"
   ]
  }
 ],
 "metadata": {
  "kernelspec": {
   "display_name": "Python 3 (ipykernel)",
   "language": "python",
   "name": "python3"
  },
  "language_info": {
   "codemirror_mode": {
    "name": "ipython",
    "version": 3
   },
   "file_extension": ".py",
   "mimetype": "text/x-python",
   "name": "python",
   "nbconvert_exporter": "python",
   "pygments_lexer": "ipython3",
   "version": "3.9.7"
  },
  "widgets": {
   "application/vnd.jupyter.widget-state+json": {
    "state": {
     "001b8554257c450293ccd89b868bfb97": {
      "model_module": "@jupyter-widgets/controls",
      "model_module_version": "1.5.0",
      "model_name": "TextModel",
      "state": {
       "continuous_update": false,
       "layout": "IPY_MODEL_264e65ad092d477ab783e47fe9b82a9e",
       "placeholder": "feat",
       "style": "IPY_MODEL_a2e3100282e5405dae73f3dac9a54e26",
       "value": "beginning"
      }
     },
     "0037d79cee554a2b9d05c0661cbdb4bc": {
      "model_module": "@jupyter-widgets/controls",
      "model_module_version": "1.5.0",
      "model_name": "DescriptionStyleModel",
      "state": {
       "description_width": ""
      }
     },
     "003af87568a5419b8e2d2c6913d1b57a": {
      "model_module": "@jupyter-widgets/controls",
      "model_module_version": "1.5.0",
      "model_name": "DescriptionStyleModel",
      "state": {
       "description_width": ""
      }
     },
     "006f07e3833a49f5a7a4fdc3964aeb27": {
      "model_module": "@jupyter-widgets/controls",
      "model_module_version": "1.5.0",
      "model_name": "DescriptionStyleModel",
      "state": {
       "description_width": ""
      }
     },
     "008d694b30c64b579f5b39c3d811fe22": {
      "model_module": "@jupyter-widgets/controls",
      "model_module_version": "1.5.0",
      "model_name": "HTMLModel",
      "state": {
       "layout": "IPY_MODEL_f464fdb9f8104126a654e746d77a93eb",
       "style": "IPY_MODEL_0a3dd8f4bd5345148b9797c7b07c0ead",
       "value": "rēšˌîṯ"
      }
     },
     "00939393a17c47c18d0d77bc97ec88a7": {
      "model_module": "@jupyter-widgets/base",
      "model_module_version": "1.2.0",
      "model_name": "LayoutModel",
      "state": {
       "align_content": "flex-start",
       "align_items": "flex-start",
       "flex": "auto 0 0",
       "justify_content": "flex-start",
       "overflow": "hidden"
      }
     },
     "0095b563a4424346bec4b1a4d24e64e3": {
      "model_module": "@jupyter-widgets/base",
      "model_module_version": "1.2.0",
      "model_name": "LayoutModel",
      "state": {
       "align_content": "flex-start",
       "align_items": "flex-start",
       "border": "3px solid gray",
       "display": "inline-flex",
       "flex": "auto 0 0",
       "flex_flow": "row wrap",
       "justify_content": "flex-start",
       "overflow": "auto"
      }
     },
     "01403840d6eb48e4976bf29bccc4e9b7": {
      "model_module": "@jupyter-widgets/controls",
      "model_module_version": "1.5.0",
      "model_name": "HTMLModel",
      "state": {
       "layout": "IPY_MODEL_f75ded8b87ee4d9398164535195e3672",
       "style": "IPY_MODEL_9d9638744dea4b06aa3372ed0fce825c",
       "value": "word"
      }
     },
     "01488a26cc724e67a9d1a491cb11c8e0": {
      "model_module": "@jupyter-widgets/controls",
      "model_module_version": "1.5.0",
      "model_name": "DescriptionStyleModel",
      "state": {
       "description_width": ""
      }
     },
     "015ee11544e547119228f96bbd6f42c6": {
      "model_module": "@jupyter-widgets/controls",
      "model_module_version": "1.5.0",
      "model_name": "DescriptionStyleModel",
      "state": {
       "description_width": ""
      }
     },
     "0182c1ef655f4d739934dba8b09381e6": {
      "model_module": "@jupyter-widgets/controls",
      "model_module_version": "1.5.0",
      "model_name": "BoxModel",
      "state": {
       "children": [
        "IPY_MODEL_0d83505f452c4900b6e3416d7936fb62",
        "IPY_MODEL_8a4c7920ef644b148d236d7425df218c"
       ],
       "layout": "IPY_MODEL_da42b759eeab4b4396c189409190c130"
      }
     },
     "018400e0a2174fa9a11900531058f666": {
      "model_module": "@jupyter-widgets/controls",
      "model_module_version": "1.5.0",
      "model_name": "DescriptionStyleModel",
      "state": {
       "description_width": ""
      }
     },
     "01956322a32a432393232e749ece083c": {
      "model_module": "@jupyter-widgets/controls",
      "model_module_version": "1.5.0",
      "model_name": "DescriptionStyleModel",
      "state": {
       "description_width": ""
      }
     },
     "01a6adacb46f47af82d36076eeb505e2": {
      "model_module": "@jupyter-widgets/controls",
      "model_module_version": "1.5.0",
      "model_name": "BoxModel",
      "state": {
       "children": [
        "IPY_MODEL_e0132d67e90840818c6bb57106498dea",
        "IPY_MODEL_be04e0d5da984efab424e4c0970a8c27",
        "IPY_MODEL_74ca1309f4d74476a058d28c6038490a",
        "IPY_MODEL_a11f6cc5cee643459ebe3e2b2732eaff"
       ],
       "layout": "IPY_MODEL_77c65fb5db6e460bb3fcc7ce041b7629"
      }
     },
     "01d1dafaa3d649ab888efd8b6cac787e": {
      "model_module": "@jupyter-widgets/controls",
      "model_module_version": "1.5.0",
      "model_name": "ButtonModel",
      "state": {
       "description": "Up to date",
       "disabled": true,
       "layout": "IPY_MODEL_06cb2daf6b7840e9bd6baf1cdb25514d",
       "style": "IPY_MODEL_c914bccf286c464291286d6e57ddf35e"
      }
     },
     "0200aa1f25f348ebb8621ac6af955bd2": {
      "model_module": "@jupyter-widgets/controls",
      "model_module_version": "1.5.0",
      "model_name": "DescriptionStyleModel",
      "state": {
       "description_width": ""
      }
     },
     "021606eb263d47d78ae251bd5013a88f": {
      "model_module": "@jupyter-widgets/controls",
      "model_module_version": "1.5.0",
      "model_name": "HTMLModel",
      "state": {
       "layout": "IPY_MODEL_482346b169324d308f3aa5ff45d8987f",
       "style": "IPY_MODEL_239f31346da34ddea6507770531ddb3f",
       "value": "word"
      }
     },
     "02372412e9bf4c72988858906489d2c5": {
      "model_module": "@jupyter-widgets/controls",
      "model_module_version": "1.5.0",
      "model_name": "HTMLModel",
      "state": {
       "layout": "IPY_MODEL_998193dda5ba4744897a9fd7f1881127",
       "style": "IPY_MODEL_75d706964a714bbb8d0690cf13a16fcc",
       "value": "word"
      }
     },
     "0244c8e7be6b4bc486b52d6917da470d": {
      "model_module": "@jupyter-widgets/controls",
      "model_module_version": "1.5.0",
      "model_name": "TextModel",
      "state": {
       "continuous_update": false,
       "description": "pdp=",
       "layout": "IPY_MODEL_00939393a17c47c18d0d77bc97ec88a7",
       "placeholder": "feat",
       "style": "IPY_MODEL_881f7dfb931e47d7a0f98aa3fb5e3068",
       "value": "prep"
      }
     },
     "0250fc84777b4fd2bd9ebe5c71045843": {
      "model_module": "@jupyter-widgets/controls",
      "model_module_version": "1.5.0",
      "model_name": "TextModel",
      "state": {
       "layout": "IPY_MODEL_79c71a0841844ebe9e52537eef841dbc",
       "placeholder": "gloss",
       "style": "IPY_MODEL_57ef186ee5a04e9b98eb494ef0ab3089",
       "value": "in"
      }
     },
     "029ad941160f41b1a18053873e078dcc": {
      "model_module": "@jupyter-widgets/controls",
      "model_module_version": "1.5.0",
      "model_name": "DescriptionStyleModel",
      "state": {
       "description_width": ""
      }
     },
     "02a737450c1540b3acbd98f3efc870fb": {
      "model_module": "@jupyter-widgets/base",
      "model_module_version": "1.2.0",
      "model_name": "LayoutModel",
      "state": {
       "flex": "auto 0 0",
       "overflow": "hidden"
      }
     },
     "02e04c2986bc4c709f87f495d35f10f7": {
      "model_module": "@jupyter-widgets/base",
      "model_module_version": "1.2.0",
      "model_name": "LayoutModel",
      "state": {
       "border": "1px solid gray",
       "flex": "auto 0 1",
       "flex_flow": "column"
      }
     },
     "02f64b5e74fa4a66bd1d4e8ec8011606": {
      "model_module": "@jupyter-widgets/controls",
      "model_module_version": "1.5.0",
      "model_name": "TextModel",
      "state": {
       "continuous_update": false,
       "layout": "IPY_MODEL_2e5b48b392c64f5fa618c525ca5043bb",
       "placeholder": "feat",
       "style": "IPY_MODEL_25e288d3fe824c1c84882edca27705e3",
       "value": "in"
      }
     },
     "0317f13c88ca4bde9387014107634cf6": {
      "model_module": "@jupyter-widgets/controls",
      "model_module_version": "1.5.0",
      "model_name": "DescriptionStyleModel",
      "state": {
       "description_width": ""
      }
     },
     "039aacd0646b4e68b55a7e2f0dd5a12c": {
      "model_module": "@jupyter-widgets/controls",
      "model_module_version": "1.5.0",
      "model_name": "TextModel",
      "state": {
       "continuous_update": false,
       "layout": "IPY_MODEL_00939393a17c47c18d0d77bc97ec88a7",
       "placeholder": "feat",
       "style": "IPY_MODEL_b64fafe5767446c99604a29e0f089884",
       "value": "PP"
      }
     },
     "03c1b644010446e2b2e437ed5843150d": {
      "model_module": "@jupyter-widgets/controls",
      "model_module_version": "1.5.0",
      "model_name": "DescriptionStyleModel",
      "state": {
       "description_width": ""
      }
     },
     "03e337ae2c6b4a47a567ac07a60d50c6": {
      "model_module": "@jupyter-widgets/controls",
      "model_module_version": "1.5.0",
      "model_name": "LabelModel",
      "state": {
       "layout": "IPY_MODEL_3609cd9775204bd8b2280a2924696e33",
       "style": "IPY_MODEL_066d235eca4e488d87f893b647db09f6",
       "value": "aap"
      }
     },
     "03e6e641bc1b4a808599996811c1c3bb": {
      "model_module": "@jupyter-widgets/base",
      "model_module_version": "1.2.0",
      "model_name": "LayoutModel",
      "state": {
       "align_content": "flex-start",
       "align_items": "flex-start",
       "flex": "auto 0 0",
       "justify_content": "flex-start",
       "overflow": "hidden"
      }
     },
     "03ff39b1ab984a08bddf4e45a7e3d7b3": {
      "model_module": "@jupyter-widgets/controls",
      "model_module_version": "1.5.0",
      "model_name": "BoxModel",
      "state": {
       "children": [
        "IPY_MODEL_463991f5796f4af9afcd169ab9d12de1",
        "IPY_MODEL_7e151b7877834ccd9c6b2d3cb674ceab"
       ],
       "layout": "IPY_MODEL_62fe594dbba14c82af14111e9ffadd53"
      }
     },
     "04055f8b9af7450f97c3972b1921bb75": {
      "model_module": "@jupyter-widgets/controls",
      "model_module_version": "1.5.0",
      "model_name": "LabelModel",
      "state": {
       "layout": "IPY_MODEL_0849d66c685647cbaef541f77c9d0c40",
       "style": "IPY_MODEL_7ef4f32896a24550a617ac5f5e909be1",
       "value": "aap"
      }
     },
     "041d6ba4be904d30b1e9684cebf0d386": {
      "model_module": "@jupyter-widgets/controls",
      "model_module_version": "1.5.0",
      "model_name": "ButtonStyleModel",
      "state": {}
     },
     "0420f7df67d94466b0859d27dbc2b236": {
      "model_module": "@jupyter-widgets/controls",
      "model_module_version": "1.5.0",
      "model_name": "TextModel",
      "state": {
       "layout": "IPY_MODEL_482346b169324d308f3aa5ff45d8987f",
       "placeholder": "feat",
       "style": "IPY_MODEL_982d878c977b400181c3f606f54b4a17",
       "value": "Time"
      }
     },
     "0447f6ff66274c8794614c0d11594035": {
      "model_module": "@jupyter-widgets/controls",
      "model_module_version": "1.5.0",
      "model_name": "DescriptionStyleModel",
      "state": {
       "description_width": ""
      }
     },
     "044f246017d54deca2a1e9307c6b7633": {
      "model_module": "@jupyter-widgets/controls",
      "model_module_version": "1.5.0",
      "model_name": "DescriptionStyleModel",
      "state": {
       "description_width": ""
      }
     },
     "04673d0a876747cabe7dba02dfdf3680": {
      "model_module": "@jupyter-widgets/controls",
      "model_module_version": "1.5.0",
      "model_name": "HTMLModel",
      "state": {
       "layout": "IPY_MODEL_55619af8f473438c9fd0cf8cb7d07840",
       "style": "IPY_MODEL_d680c89ec1d34b79a11ac3dac9b5305b",
       "value": "word"
      }
     },
     "04711fb9cd184c84b173786b239a5294": {
      "model_module": "@jupyter-widgets/controls",
      "model_module_version": "1.5.0",
      "model_name": "DescriptionStyleModel",
      "state": {
       "description_width": ""
      }
     },
     "048cafd6b7354ca79c4b14a5e4b01aff": {
      "model_module": "@jupyter-widgets/base",
      "model_module_version": "1.2.0",
      "model_name": "LayoutModel",
      "state": {
       "align_content": "flex-start",
       "align_items": "flex-start",
       "flex": "auto 0 0",
       "justify_content": "flex-start",
       "overflow": "hidden"
      }
     },
     "049ec4e51ebe4290bf73fdd7a0cb2670": {
      "model_module": "@jupyter-widgets/controls",
      "model_module_version": "1.5.0",
      "model_name": "LabelModel",
      "state": {
       "layout": "IPY_MODEL_a054f3628dd84288ab377ce9e1546aaf",
       "style": "IPY_MODEL_a64dbbf77af44ef2aa223ef5c1dc6b17",
       "value": "Up to date"
      }
     },
     "04d101d04b7d4244b50d0d328bfa9e2f": {
      "model_module": "@jupyter-widgets/base",
      "model_module_version": "1.2.0",
      "model_name": "LayoutModel",
      "state": {
       "flex": "auto 1 1"
      }
     },
     "04f1ce2d4cda40bf95f907692b6d30f8": {
      "model_module": "@jupyter-widgets/base",
      "model_module_version": "1.2.0",
      "model_name": "LayoutModel",
      "state": {
       "flex": "auto 1 1"
      }
     },
     "04f2375197364acba32dd5732a1fad7c": {
      "model_module": "@jupyter-widgets/controls",
      "model_module_version": "1.5.0",
      "model_name": "DescriptionStyleModel",
      "state": {
       "description_width": ""
      }
     },
     "0539f246bd50499d9fd842b6894b0562": {
      "model_module": "@jupyter-widgets/base",
      "model_module_version": "1.2.0",
      "model_name": "LayoutModel",
      "state": {
       "align_content": "flex-start",
       "align_items": "flex-start",
       "border": "3px solid gray",
       "display": "inline-flex",
       "flex": "auto 0 0",
       "flex_flow": "column nowrap",
       "justify_content": "flex-start",
       "overflow": "auto"
      }
     },
     "053ba8a8d72d40619a6a2129a9516441": {
      "model_module": "@jupyter-widgets/controls",
      "model_module_version": "1.5.0",
      "model_name": "DescriptionStyleModel",
      "state": {
       "description_width": ""
      }
     },
     "053d727c0aba4f3caedad4c8a5a5af15": {
      "model_module": "@jupyter-widgets/controls",
      "model_module_version": "1.5.0",
      "model_name": "DescriptionStyleModel",
      "state": {
       "description_width": ""
      }
     },
     "058586c6b54c4b448efc967ebcd5a62b": {
      "model_module": "@jupyter-widgets/controls",
      "model_module_version": "1.5.0",
      "model_name": "DescriptionStyleModel",
      "state": {
       "description_width": ""
      }
     },
     "05e15f06ffab44d4812c222705202674": {
      "model_module": "@jupyter-widgets/controls",
      "model_module_version": "1.5.0",
      "model_name": "BoxModel",
      "state": {
       "children": [
        "IPY_MODEL_9a66c31a929b439dafcdd481e43249e4",
        "IPY_MODEL_188837c133604977a29863ef9c65f7b3"
       ],
       "layout": "IPY_MODEL_de3dc179a4054b4f9522c714e1fd6aac"
      }
     },
     "05ebd1b7c2e1408c80ff694d4237fb07": {
      "model_module": "@jupyter-widgets/controls",
      "model_module_version": "1.5.0",
      "model_name": "HTMLModel",
      "state": {
       "layout": "IPY_MODEL_8ba1b58fc41a4001b29bb4c0a8408965",
       "style": "IPY_MODEL_9501e6d130c643b9ad123f948ff3027f",
       "value": "word"
      }
     },
     "06092567e0494de4a587a4dfa8ca71ec": {
      "model_module": "@jupyter-widgets/controls",
      "model_module_version": "1.5.0",
      "model_name": "TextModel",
      "state": {
       "continuous_update": false,
       "layout": "IPY_MODEL_998193dda5ba4744897a9fd7f1881127",
       "placeholder": "feat",
       "style": "IPY_MODEL_ff6a04a204e14c218f9b2f3b7a51b279",
       "value": "PPxx"
      }
     },
     "0611347edfab4860a551d12458e7489b": {
      "model_module": "@jupyter-widgets/controls",
      "model_module_version": "1.5.0",
      "model_name": "TextModel",
      "state": {
       "continuous_update": false,
       "layout": "IPY_MODEL_098553acf751448fbd093ebef7a99dfe",
       "placeholder": "feat",
       "style": "IPY_MODEL_51b0a1683d5b48019b8e68ff43bc6275",
       "value": "PP"
      }
     },
     "0616b2e3d25b49829c4c92a01cec963c": {
      "model_module": "@jupyter-widgets/controls",
      "model_module_version": "1.5.0",
      "model_name": "LabelModel",
      "state": {
       "layout": "IPY_MODEL_58c32340c2e849bcb673a15a2439c801",
       "style": "IPY_MODEL_95be6aa935db49b383c2f62d816f62c2",
       "value": "aap"
      }
     },
     "061834341e2040ee8220d4262405dfc2": {
      "model_module": "@jupyter-widgets/controls",
      "model_module_version": "1.5.0",
      "model_name": "DescriptionStyleModel",
      "state": {
       "description_width": ""
      }
     },
     "06234ae2eba441e2b88bb8a4ed4f4b9a": {
      "model_module": "@jupyter-widgets/controls",
      "model_module_version": "1.5.0",
      "model_name": "TextModel",
      "state": {
       "continuous_update": false,
       "layout": "IPY_MODEL_b39ca3c53f7744a68c6bb8fcca233870",
       "placeholder": "feat",
       "style": "IPY_MODEL_29f6377a9954437ea4682421a7e64813",
       "value": "PP"
      }
     },
     "065dc205b3ad4c8692d6a78eea34fe9f": {
      "model_module": "@jupyter-widgets/controls",
      "model_module_version": "1.5.0",
      "model_name": "TextModel",
      "state": {
       "continuous_update": false,
       "description": "pdp=",
       "layout": "IPY_MODEL_f464fdb9f8104126a654e746d77a93eb",
       "placeholder": "feat",
       "style": "IPY_MODEL_fb3d2cd0471f47c8b5c03cc7d9c2d515",
       "value": "subs"
      }
     },
     "066d235eca4e488d87f893b647db09f6": {
      "model_module": "@jupyter-widgets/controls",
      "model_module_version": "1.5.0",
      "model_name": "DescriptionStyleModel",
      "state": {
       "description_width": ""
      }
     },
     "0672df2ed5854538bc6371694e2a6097": {
      "model_module": "@jupyter-widgets/controls",
      "model_module_version": "1.5.0",
      "model_name": "HTMLModel",
      "state": {
       "layout": "IPY_MODEL_86081fc2db024fc3888cd615294f4415",
       "style": "IPY_MODEL_f6cc1ebdee954dcd972658fd9de77037",
       "value": "pdp="
      }
     },
     "06bc0fe3d98248b598bd3d62962f65dc": {
      "model_module": "@jupyter-widgets/controls",
      "model_module_version": "1.5.0",
      "model_name": "BoxModel",
      "state": {
       "children": [
        "IPY_MODEL_d92a96a5f9b94c2faf29aec40ec4faa6",
        "IPY_MODEL_3378123b85fc4be09c2b6a370ea8a97f"
       ],
       "layout": "IPY_MODEL_56f387cd886e4ce59b9bdcf2c2e18a92"
      }
     },
     "06cb2daf6b7840e9bd6baf1cdb25514d": {
      "model_module": "@jupyter-widgets/base",
      "model_module_version": "1.2.0",
      "model_name": "LayoutModel",
      "state": {
       "border": "1px solid black",
       "flex": "auto 1 1"
      }
     },
     "06eb66a9e7904b13868dbd630fdce4b4": {
      "model_module": "@jupyter-widgets/controls",
      "model_module_version": "1.5.0",
      "model_name": "DescriptionStyleModel",
      "state": {
       "description_width": ""
      }
     },
     "071083116a3b4b6ea012f3fcc9855c76": {
      "model_module": "@jupyter-widgets/controls",
      "model_module_version": "1.5.0",
      "model_name": "TextModel",
      "state": {
       "continuous_update": false,
       "layout": "IPY_MODEL_8de0c265d8cf4711b969eb197b477208",
       "placeholder": "feat",
       "style": "IPY_MODEL_53831289b97f4f0aa48541544926b3d8",
       "value": "Time"
      }
     },
     "073ed409e02d4e548c3a2cc4eb5da17b": {
      "model_module": "@jupyter-widgets/base",
      "model_module_version": "1.2.0",
      "model_name": "LayoutModel",
      "state": {
       "border": "1px solid gray",
       "flex": "auto 0 1",
       "flex_flow": "row",
       "width": "25em"
      }
     },
     "076fa701ad8c412987c68435180d5a68": {
      "model_module": "@jupyter-widgets/base",
      "model_module_version": "1.2.0",
      "model_name": "LayoutModel",
      "state": {
       "border": "1px solid black",
       "flex": "auto 1 1"
      }
     },
     "07c4579bde2b4d29a545ad9ac1e8734f": {
      "model_module": "@jupyter-widgets/base",
      "model_module_version": "1.2.0",
      "model_name": "LayoutModel",
      "state": {
       "align_content": "flex-start",
       "align_items": "flex-start",
       "flex": "auto 0 0",
       "justify_content": "flex-start"
      }
     },
     "081ba2a35d6241d4b0b546b27a65d91a": {
      "model_module": "@jupyter-widgets/controls",
      "model_module_version": "1.5.0",
      "model_name": "HTMLModel",
      "state": {
       "layout": "IPY_MODEL_482346b169324d308f3aa5ff45d8987f",
       "style": "IPY_MODEL_8102c665923f434e8013b1eaf7fd2190",
       "value": "phrase"
      }
     },
     "0849d66c685647cbaef541f77c9d0c40": {
      "model_module": "@jupyter-widgets/base",
      "model_module_version": "1.2.0",
      "model_name": "LayoutModel",
      "state": {}
     },
     "085aa8f11f39409b85f9ffe50f794d72": {
      "model_module": "@jupyter-widgets/controls",
      "model_module_version": "1.5.0",
      "model_name": "DescriptionStyleModel",
      "state": {
       "description_width": ""
      }
     },
     "0868182555d540728e38f4ad438b0aea": {
      "model_module": "@jupyter-widgets/controls",
      "model_module_version": "1.5.0",
      "model_name": "LabelModel",
      "state": {
       "layout": "IPY_MODEL_3754ac88cee24313817136bdc9d156dc",
       "style": "IPY_MODEL_afdb16f8ca2242d9bd722a493bf13c19",
       "value": "aap"
      }
     },
     "08a5f87328704ca9bbcd238c2b3fc026": {
      "model_module": "@jupyter-widgets/controls",
      "model_module_version": "1.5.0",
      "model_name": "DescriptionStyleModel",
      "state": {
       "description_width": ""
      }
     },
     "08db7bdb099648a8ad877b406176bf08": {
      "model_module": "@jupyter-widgets/controls",
      "model_module_version": "1.5.0",
      "model_name": "DescriptionStyleModel",
      "state": {
       "description_width": ""
      }
     },
     "09236d6e521e441fb1e77161c9d0c40f": {
      "model_module": "@jupyter-widgets/controls",
      "model_module_version": "1.5.0",
      "model_name": "DescriptionStyleModel",
      "state": {
       "description_width": ""
      }
     },
     "0931bd0256e544f9a817940553ef2c3e": {
      "model_module": "@jupyter-widgets/controls",
      "model_module_version": "1.5.0",
      "model_name": "BoxModel",
      "state": {
       "children": [
        "IPY_MODEL_5eff7fc0ac174149bfd388f0d0e0321d",
        "IPY_MODEL_9b0c3db127e341688c00bc10cd3d92fa",
        "IPY_MODEL_18422c15bb7d4be8af95f2f554ffb3a8",
        "IPY_MODEL_325827044b764435bcf374ca507b81ad"
       ],
       "layout": "IPY_MODEL_3862a8b494df4657b4b7fe948ad78cc9"
      }
     },
     "0942e48354424f049df8ed5f94da5fa6": {
      "model_module": "@jupyter-widgets/controls",
      "model_module_version": "1.5.0",
      "model_name": "DescriptionStyleModel",
      "state": {
       "description_width": ""
      }
     },
     "09439b64c1fb44cfa74d1c8b65c16628": {
      "model_module": "@jupyter-widgets/controls",
      "model_module_version": "1.5.0",
      "model_name": "DescriptionStyleModel",
      "state": {
       "description_width": ""
      }
     },
     "095d2b7cc999480abb74fdd01e6035f2": {
      "model_module": "@jupyter-widgets/controls",
      "model_module_version": "1.5.0",
      "model_name": "TextModel",
      "state": {
       "layout": "IPY_MODEL_a039411c9de9468d83405e91f9b7a441",
       "placeholder": "pdp",
       "style": "IPY_MODEL_a8464916d1de44658fe1e2bd4ebaaa79",
       "value": "prep"
      }
     },
     "098553acf751448fbd093ebef7a99dfe": {
      "model_module": "@jupyter-widgets/base",
      "model_module_version": "1.2.0",
      "model_name": "LayoutModel",
      "state": {
       "align_content": "flex-start",
       "align_items": "flex-start",
       "flex": "auto 0 0",
       "justify_content": "flex-start",
       "overflow": "hidden"
      }
     },
     "09890fb5b4e04957a00e78a84e9229a8": {
      "model_module": "@jupyter-widgets/controls",
      "model_module_version": "1.5.0",
      "model_name": "TextModel",
      "state": {
       "continuous_update": false,
       "layout": "IPY_MODEL_07c4579bde2b4d29a545ad9ac1e8734f",
       "placeholder": "feat",
       "style": "IPY_MODEL_5c841aef35fa4b4bbfb9a48f097b9c77",
       "value": "PPxx"
      }
     },
     "0a10b494b36942fb83b1c8dc007795e0": {
      "model_module": "@jupyter-widgets/controls",
      "model_module_version": "1.5.0",
      "model_name": "DescriptionStyleModel",
      "state": {
       "description_width": ""
      }
     },
     "0a3dd8f4bd5345148b9797c7b07c0ead": {
      "model_module": "@jupyter-widgets/controls",
      "model_module_version": "1.5.0",
      "model_name": "DescriptionStyleModel",
      "state": {
       "description_width": ""
      }
     },
     "0a4151640eff4073a57652b4db31278e": {
      "model_module": "@jupyter-widgets/controls",
      "model_module_version": "1.5.0",
      "model_name": "DescriptionStyleModel",
      "state": {
       "description_width": ""
      }
     },
     "0a4a151687874c8191ee5bf527107a07": {
      "model_module": "@jupyter-widgets/controls",
      "model_module_version": "1.5.0",
      "model_name": "TextModel",
      "state": {
       "continuous_update": false,
       "layout": "IPY_MODEL_fcbf3ee01ffe466dbdf5ac76fe08f70a",
       "placeholder": "feat",
       "style": "IPY_MODEL_f15d9b69187645f4a3649b015b3a8a63",
       "value": "Time"
      }
     },
     "0aa7ff75d8fe4f7b8720831c1e542584": {
      "model_module": "@jupyter-widgets/controls",
      "model_module_version": "1.5.0",
      "model_name": "BoxModel",
      "state": {
       "children": [
        "IPY_MODEL_c67f9d3b43cf4181ad548f2b89ce1c0b",
        "IPY_MODEL_cd9007d7ad48482b990007d9470e7a9b"
       ],
       "layout": "IPY_MODEL_0539f246bd50499d9fd842b6894b0562"
      }
     },
     "0b00022589724cb7927df8747b400398": {
      "model_module": "@jupyter-widgets/controls",
      "model_module_version": "1.5.0",
      "model_name": "TextModel",
      "state": {
       "continuous_update": false,
       "layout": "IPY_MODEL_2e5b48b392c64f5fa618c525ca5043bb",
       "placeholder": "feat",
       "style": "IPY_MODEL_f208894077434fe2a469b89918b90ee9",
       "value": "beginning"
      }
     },
     "0c031cc8928a428090648e73ee65a5f5": {
      "model_module": "@jupyter-widgets/controls",
      "model_module_version": "1.5.0",
      "model_name": "HTMLModel",
      "state": {
       "layout": "IPY_MODEL_8de0c265d8cf4711b969eb197b477208",
       "style": "IPY_MODEL_61dacc9a21a6473b9e8fc48cd5a3f313",
       "value": "rēšˌîṯ"
      }
     },
     "0c038f00c763402e90d3587f22864bb7": {
      "model_module": "@jupyter-widgets/base",
      "model_module_version": "1.2.0",
      "model_name": "LayoutModel",
      "state": {
       "align_content": "flex-start",
       "align_items": "flex-start",
       "flex": "auto 1 1",
       "justify_content": "flex-start"
      }
     },
     "0c0972ba97b34ed5b356f153b2926a2b": {
      "model_module": "@jupyter-widgets/controls",
      "model_module_version": "1.5.0",
      "model_name": "DescriptionStyleModel",
      "state": {
       "description_width": ""
      }
     },
     "0c216e9e06a84c8b9b6e355675304a73": {
      "model_module": "@jupyter-widgets/base",
      "model_module_version": "1.2.0",
      "model_name": "LayoutModel",
      "state": {
       "flex": "auto 1 1"
      }
     },
     "0c69d282145c44d48f0c49e2fc3eb0f6": {
      "model_module": "@jupyter-widgets/controls",
      "model_module_version": "1.5.0",
      "model_name": "HTMLModel",
      "state": {
       "layout": "IPY_MODEL_72d2e5878f844b7aa594f3e4b6e7c04f",
       "style": "IPY_MODEL_4c1f6cf2084d465c9093c866cb6f1c53",
       "value": "bᵊ"
      }
     },
     "0c6fe0df61dc4f32a3277a0db11358a0": {
      "model_module": "@jupyter-widgets/controls",
      "model_module_version": "1.5.0",
      "model_name": "ButtonModel",
      "state": {
       "description": "Up to date",
       "disabled": true,
       "layout": "IPY_MODEL_3609cd9775204bd8b2280a2924696e33",
       "style": "IPY_MODEL_24d7dd3cc0444b0085737f725cde3f70"
      }
     },
     "0cd0eeea287441ebb5085a934d4c29c8": {
      "model_module": "@jupyter-widgets/controls",
      "model_module_version": "1.5.0",
      "model_name": "TextModel",
      "state": {
       "layout": "IPY_MODEL_79c71a0841844ebe9e52537eef841dbc",
       "placeholder": "pdp",
       "style": "IPY_MODEL_74bdd5aa395d4c178ffb0d44d42f2224",
       "value": "prep"
      }
     },
     "0cd1e74ce8e843fe93fe7e220b5f3bea": {
      "model_module": "@jupyter-widgets/controls",
      "model_module_version": "1.5.0",
      "model_name": "DescriptionStyleModel",
      "state": {
       "description_width": ""
      }
     },
     "0cd662ffc0a14251b8a98ff288e44363": {
      "model_module": "@jupyter-widgets/controls",
      "model_module_version": "1.5.0",
      "model_name": "TextModel",
      "state": {
       "continuous_update": false,
       "layout": "IPY_MODEL_ed4491d0aceb4d65aad7e257a98b41e4",
       "placeholder": "feat",
       "style": "IPY_MODEL_624d20f997d745f6ae5bb990b627dcc4",
       "value": "PP"
      }
     },
     "0cdc54067a6e458a94249e8755c3efe0": {
      "model_module": "@jupyter-widgets/base",
      "model_module_version": "1.2.0",
      "model_name": "LayoutModel",
      "state": {
       "border": "1px solid gray",
       "display": "inline-flex",
       "flex": "auto 0 1",
       "flex_flow": "row wrap",
       "overflow": "auto"
      }
     },
     "0d1dded04b7a4ef39438e99c214a3e7e": {
      "model_module": "@jupyter-widgets/controls",
      "model_module_version": "1.5.0",
      "model_name": "TextModel",
      "state": {
       "continuous_update": false,
       "layout": "IPY_MODEL_72d2e5878f844b7aa594f3e4b6e7c04f",
       "placeholder": "feat",
       "style": "IPY_MODEL_a2981d5b71e04d35b508c31c188786fd",
       "value": "in"
      }
     },
     "0d3a301336b245258ff9dbd0a3277223": {
      "model_module": "@jupyter-widgets/controls",
      "model_module_version": "1.5.0",
      "model_name": "BoxModel",
      "state": {
       "children": [
        "IPY_MODEL_081ba2a35d6241d4b0b546b27a65d91a",
        "IPY_MODEL_aaa1059c98334611b97d344d1a0bc88e",
        "IPY_MODEL_297eee0638194652aa20674f4091ebb3"
       ],
       "layout": "IPY_MODEL_50e8694774624d85949bec3e6c545098"
      }
     },
     "0d4cec79a0ea4c9c9e8bf15c49650182": {
      "model_module": "@jupyter-widgets/controls",
      "model_module_version": "1.5.0",
      "model_name": "DescriptionStyleModel",
      "state": {
       "description_width": ""
      }
     },
     "0d64628a23d2414bbee05aef01ec52b4": {
      "model_module": "@jupyter-widgets/controls",
      "model_module_version": "1.5.0",
      "model_name": "BoxModel",
      "state": {
       "children": [
        "IPY_MODEL_2972ccb5b36c41b5bf904a69f6a8c835",
        "IPY_MODEL_f6987536e4744785be3702fe680d4e03",
        "IPY_MODEL_48d942dcc9e34f998ab02b825bb3166d"
       ],
       "layout": "IPY_MODEL_ee58c604ff0a464486bbefb578b3b1ef"
      }
     },
     "0d8240c34b64473984158dd021cb434b": {
      "model_module": "@jupyter-widgets/controls",
      "model_module_version": "1.5.0",
      "model_name": "DescriptionStyleModel",
      "state": {
       "description_width": ""
      }
     },
     "0d83505f452c4900b6e3416d7936fb62": {
      "model_module": "@jupyter-widgets/controls",
      "model_module_version": "1.5.0",
      "model_name": "BoxModel",
      "state": {
       "children": [
        "IPY_MODEL_5b92bb0a425249b18d53ceb90bd6a7e0",
        "IPY_MODEL_d4d9d68d1d6a4c1890915549580288eb",
        "IPY_MODEL_19af6c94f4c2437aae53e31304d6421f",
        "IPY_MODEL_5c2a863aec984d96b1f292c2858d33c4"
       ],
       "layout": "IPY_MODEL_6eaaff4862e1420f943b774350fc8845"
      }
     },
     "0d96b639d51f4c9486c715008c7f5930": {
      "model_module": "@jupyter-widgets/controls",
      "model_module_version": "1.5.0",
      "model_name": "DescriptionStyleModel",
      "state": {
       "description_width": ""
      }
     },
     "0da9e8d40dce4377bc7b5052b0237b84": {
      "model_module": "@jupyter-widgets/controls",
      "model_module_version": "1.5.0",
      "model_name": "BoxModel",
      "state": {
       "children": [
        "IPY_MODEL_6101d38f7ede4d60bb2359c651225722",
        "IPY_MODEL_06092567e0494de4a587a4dfa8ca71ec",
        "IPY_MODEL_d4bae83464644783a191067fd1cb9616"
       ],
       "layout": "IPY_MODEL_e9c39436724f4921b0fb479361de0405"
      }
     },
     "0e01c8160d574fca8fbd850412ebcb86": {
      "model_module": "@jupyter-widgets/controls",
      "model_module_version": "1.5.0",
      "model_name": "BoxModel",
      "state": {
       "children": [
        "IPY_MODEL_9135dffb9b9c41448453c89db9e4d89b",
        "IPY_MODEL_eaf47c7fe25340499daf43a7d600644c"
       ],
       "layout": "IPY_MODEL_5a8ca54042614f08b30af12e20dc5588"
      }
     },
     "0e65af9d0c004d71a7cb5a30e8c2dbb1": {
      "model_module": "@jupyter-widgets/controls",
      "model_module_version": "1.5.0",
      "model_name": "HTMLModel",
      "state": {
       "layout": "IPY_MODEL_20248d44181a4940977002cc4ba35e3b",
       "style": "IPY_MODEL_c9fd8e8e88474fafa4670ab26c7e7e15",
       "value": "word"
      }
     },
     "0ea79870db9a4701923b680205ef634d": {
      "model_module": "@jupyter-widgets/controls",
      "model_module_version": "1.5.0",
      "model_name": "HTMLModel",
      "state": {
       "layout": "IPY_MODEL_a4b0f23472354852938bc0cc627fc3ba",
       "style": "IPY_MODEL_c6f2dcacd4924fff82bc6dbef0567984",
       "value": "pdp="
      }
     },
     "0f691741120e4528aa38c2931e46ba0a": {
      "model_module": "@jupyter-widgets/controls",
      "model_module_version": "1.5.0",
      "model_name": "BoxModel",
      "state": {
       "children": [
        "IPY_MODEL_e087afecdb6245ec81da6e82a60dd7c6",
        "IPY_MODEL_3964e93854fe44d7bed2c2f0012703f3",
        "IPY_MODEL_cc99ee3676d94e4c82d86290aa104918",
        "IPY_MODEL_fe80e9b03a9244dcb39e18452be514f1"
       ],
       "layout": "IPY_MODEL_3450a643ba664e3099d422c945ae9032"
      }
     },
     "10353eb58f5c43fe8767f2b3d9705b1d": {
      "model_module": "@jupyter-widgets/controls",
      "model_module_version": "1.5.0",
      "model_name": "ButtonModel",
      "state": {
       "description": "Up to date",
       "disabled": true,
       "layout": "IPY_MODEL_f7bc3c2648784bdea1148626dd447b74",
       "style": "IPY_MODEL_8d69b5cd9c1347d595a10929f4548428"
      }
     },
     "103e2f32cc574da3a263042af46f7191": {
      "model_module": "@jupyter-widgets/controls",
      "model_module_version": "1.5.0",
      "model_name": "DescriptionStyleModel",
      "state": {
       "description_width": ""
      }
     },
     "10843b22290642a4bbcac9d7ac4fe4ad": {
      "model_module": "@jupyter-widgets/controls",
      "model_module_version": "1.5.0",
      "model_name": "TextModel",
      "state": {
       "continuous_update": false,
       "description": "pdp=",
       "layout": "IPY_MODEL_ad6fb28bc9ea40e2a8ba091a0609133a",
       "placeholder": "feat",
       "style": "IPY_MODEL_86eae1d7013e45b5b4106e7c02975326",
       "value": "prep"
      }
     },
     "10cb85a6915a470a8c5e6776811aa382": {
      "model_module": "@jupyter-widgets/controls",
      "model_module_version": "1.5.0",
      "model_name": "DescriptionStyleModel",
      "state": {
       "description_width": ""
      }
     },
     "11ce45f6cbda4a4ab99982396c3e91be": {
      "model_module": "@jupyter-widgets/controls",
      "model_module_version": "1.5.0",
      "model_name": "DescriptionStyleModel",
      "state": {
       "description_width": ""
      }
     },
     "12012af1e65649d88b1e97be143f8170": {
      "model_module": "@jupyter-widgets/controls",
      "model_module_version": "1.5.0",
      "model_name": "TextModel",
      "state": {
       "continuous_update": false,
       "description": "pdp=",
       "layout": "IPY_MODEL_fcbf3ee01ffe466dbdf5ac76fe08f70a",
       "placeholder": "feat",
       "style": "IPY_MODEL_5e71cec30e6a4af4a5fdd3d7433a0c21",
       "value": "subs"
      }
     },
     "127020b82f584f15b2f40c13370eebc8": {
      "model_module": "@jupyter-widgets/controls",
      "model_module_version": "1.5.0",
      "model_name": "DescriptionStyleModel",
      "state": {
       "description_width": ""
      }
     },
     "1294ee8116794c94a380295db0664de7": {
      "model_module": "@jupyter-widgets/controls",
      "model_module_version": "1.5.0",
      "model_name": "DescriptionStyleModel",
      "state": {
       "description_width": ""
      }
     },
     "1294f9b4dc7b4f52b6a0e4cc29dc6625": {
      "model_module": "@jupyter-widgets/base",
      "model_module_version": "1.2.0",
      "model_name": "LayoutModel",
      "state": {
       "align_content": "flex-start",
       "align_items": "flex-start",
       "border": "1px solid gray",
       "display": "inline-flex",
       "flex": "auto 0 0",
       "flex_flow": "column nowrap",
       "justify_content": "flex-start",
       "overflow": "auto"
      }
     },
     "12956c69762840bf9fb32b2537804bd9": {
      "model_module": "@jupyter-widgets/controls",
      "model_module_version": "1.5.0",
      "model_name": "HTMLModel",
      "state": {
       "layout": "IPY_MODEL_ed4491d0aceb4d65aad7e257a98b41e4",
       "style": "IPY_MODEL_d2f271b569734f45becdf9944a8eecce",
       "value": "word"
      }
     },
     "12b38866ead34adfafaf2c4837d0c29a": {
      "model_module": "@jupyter-widgets/controls",
      "model_module_version": "1.5.0",
      "model_name": "TextModel",
      "state": {
       "continuous_update": false,
       "description": "pdp=",
       "layout": "IPY_MODEL_048cafd6b7354ca79c4b14a5e4b01aff",
       "placeholder": "feat",
       "style": "IPY_MODEL_6bcbcdf558ac4c74a53ef76d8ecb3a8e",
       "value": "subs"
      }
     },
     "135e5bdfc70f46eb8770e41076417b4d": {
      "model_module": "@jupyter-widgets/controls",
      "model_module_version": "1.5.0",
      "model_name": "TextModel",
      "state": {
       "continuous_update": false,
       "layout": "IPY_MODEL_364cd1c6573f4ed9aa3144fe6d2fd71e",
       "placeholder": "feat",
       "style": "IPY_MODEL_6ee76809f60348e6a98fe90ce76e4717",
       "value": "beginning"
      }
     },
     "1368b21a66ae4e4c97ed8c852921bdae": {
      "model_module": "@jupyter-widgets/controls",
      "model_module_version": "1.5.0",
      "model_name": "TextModel",
      "state": {
       "layout": "IPY_MODEL_1ee42b717afc481eb04d9d8974a8935f",
       "placeholder": "gloss",
       "style": "IPY_MODEL_7d907cd5cec145ee8b96395b42befe9c",
       "value": "in"
      }
     },
     "136e6447132a42a19293ae11bf61249f": {
      "model_module": "@jupyter-widgets/controls",
      "model_module_version": "1.5.0",
      "model_name": "BoxModel",
      "state": {
       "children": [
        "IPY_MODEL_f633dd5241cb48feac01804de044c9a4",
        "IPY_MODEL_d93759ad7c2e48fcb864af8570e630e9",
        "IPY_MODEL_be2b510c23c04e098b0b8f9bdf976274"
       ],
       "layout": "IPY_MODEL_77c65fb5db6e460bb3fcc7ce041b7629"
      }
     },
     "137fc115203546ef8e7ac64ff26513d6": {
      "model_module": "@jupyter-widgets/controls",
      "model_module_version": "1.5.0",
      "model_name": "HTMLModel",
      "state": {
       "layout": "IPY_MODEL_04f1ce2d4cda40bf95f907692b6d30f8",
       "style": "IPY_MODEL_8f2365663d5243ae9978fa8185e6ff69",
       "value": "word"
      }
     },
     "13a03020483e42f1be1e0b115a3ec7a1": {
      "model_module": "@jupyter-widgets/controls",
      "model_module_version": "1.5.0",
      "model_name": "ButtonStyleModel",
      "state": {}
     },
     "13ac6f240b1e486b8c571dbd7591fd89": {
      "model_module": "@jupyter-widgets/controls",
      "model_module_version": "1.5.0",
      "model_name": "HTMLModel",
      "state": {
       "layout": "IPY_MODEL_a4489a0487464c6ea75ac4d407cac35e",
       "style": "IPY_MODEL_31e821f1b9b443b6aee3fe459052ad0b",
       "value": "<a\n  class=\"txtu hbo\"\n  href=\"https://shebanq.ancient-data.org/hebrew/word?version=2021&amp;id=1RACJTn\"\n  target=\"_blank\"\n  title=\"Show this on SHEBANQ\">\n        <span class=\"txtp\">\n         rēšˌîṯ\n        </span>\n       </a>"
      }
     },
     "13b5f44090854f81a37518e0666b4aeb": {
      "model_module": "@jupyter-widgets/controls",
      "model_module_version": "1.5.0",
      "model_name": "BoxModel",
      "state": {
       "children": [
        "IPY_MODEL_d9e4a77fda9940a9958b98536faf1d5c",
        "IPY_MODEL_7eb79194979e43a881f187ec8d83fb11"
       ],
       "layout": "IPY_MODEL_625dee1a95754720877d35cc130be2b4"
      }
     },
     "13c0484ef9af4bedb426d964bad8d908": {
      "model_module": "@jupyter-widgets/controls",
      "model_module_version": "1.5.0",
      "model_name": "BoxModel",
      "state": {
       "children": [
        "IPY_MODEL_147f73e3464c4627852df117e698d3e2",
        "IPY_MODEL_f158e66039834c848180bad82f2f992e"
       ],
       "layout": "IPY_MODEL_269754de252e4270969cef73cc0082fa"
      }
     },
     "144430d0d56840e79d66b6334a111b12": {
      "model_module": "@jupyter-widgets/controls",
      "model_module_version": "1.5.0",
      "model_name": "HTMLModel",
      "state": {
       "layout": "IPY_MODEL_fcbf3ee01ffe466dbdf5ac76fe08f70a",
       "style": "IPY_MODEL_303ea6fa712949e68a15cdae43dd1f03",
       "value": "word"
      }
     },
     "147f73e3464c4627852df117e698d3e2": {
      "model_module": "@jupyter-widgets/controls",
      "model_module_version": "1.5.0",
      "model_name": "HTMLModel",
      "state": {
       "layout": "IPY_MODEL_e88f6faa098c4511be39cc47d7957205",
       "style": "IPY_MODEL_5a17b73e342247c090cbf8ee5762e6fa",
       "value": "pdp="
      }
     },
     "14c87d0fda6345e285e5a2e3593e4bf4": {
      "model_module": "@jupyter-widgets/controls",
      "model_module_version": "1.5.0",
      "model_name": "DescriptionStyleModel",
      "state": {
       "description_width": ""
      }
     },
     "1538f7cd96a94b72b0ebc4517e909b23": {
      "model_module": "@jupyter-widgets/controls",
      "model_module_version": "1.5.0",
      "model_name": "DescriptionStyleModel",
      "state": {
       "description_width": ""
      }
     },
     "1540800daa8144038dcb572950d6d873": {
      "model_module": "@jupyter-widgets/controls",
      "model_module_version": "1.5.0",
      "model_name": "DescriptionStyleModel",
      "state": {
       "description_width": ""
      }
     },
     "15a2f77cb192488f9e38c0975e510b7e": {
      "model_module": "@jupyter-widgets/controls",
      "model_module_version": "1.5.0",
      "model_name": "DescriptionStyleModel",
      "state": {
       "description_width": ""
      }
     },
     "15a3a617374544509b6958f3f98a5e6f": {
      "model_module": "@jupyter-widgets/controls",
      "model_module_version": "1.5.0",
      "model_name": "TextModel",
      "state": {
       "continuous_update": false,
       "layout": "IPY_MODEL_56b5a25e16494ff696790ef8a9cd1acf",
       "placeholder": "feat",
       "style": "IPY_MODEL_0942e48354424f049df8ed5f94da5fa6",
       "value": "in"
      }
     },
     "15f00ca4d4aa48208d81428a0f6a8cab": {
      "model_module": "@jupyter-widgets/controls",
      "model_module_version": "1.5.0",
      "model_name": "BoxModel",
      "state": {
       "children": [
        "IPY_MODEL_4a2871da8c9a405bb6dbd1edd05759b6",
        "IPY_MODEL_21aa52de7ca041dfaed06aabab2a9aa1",
        "IPY_MODEL_741e4e2162d84b5299c52e440aa1bddc"
       ],
       "layout": "IPY_MODEL_a73c3e0f99964a77bd4c22c2d533fdf1"
      }
     },
     "16284787619044d0bae939e873b47b20": {
      "model_module": "@jupyter-widgets/controls",
      "model_module_version": "1.5.0",
      "model_name": "HTMLModel",
      "state": {
       "layout": "IPY_MODEL_20248d44181a4940977002cc4ba35e3b",
       "style": "IPY_MODEL_85b8fdca9feb4c129229bfe1002b693d",
       "value": "rēšˌîṯ"
      }
     },
     "16326584691148919407a6ef478e1dde": {
      "model_module": "@jupyter-widgets/controls",
      "model_module_version": "1.5.0",
      "model_name": "DescriptionStyleModel",
      "state": {
       "description_width": ""
      }
     },
     "163d6a1d207546558f740437ec96fe07": {
      "model_module": "@jupyter-widgets/controls",
      "model_module_version": "1.5.0",
      "model_name": "ButtonStyleModel",
      "state": {}
     },
     "16423e353fca48e1a4b93f05855fd7df": {
      "model_module": "@jupyter-widgets/controls",
      "model_module_version": "1.5.0",
      "model_name": "HTMLModel",
      "state": {
       "layout": "IPY_MODEL_2f741b88357f4c808fc3c9eb0bc6a098",
       "style": "IPY_MODEL_c1887623b9514c50b002e9e9f2a6dd64",
       "value": "rēšˌîṯ"
      }
     },
     "164a3a0b9dc849ecbcd47d9bbbcd252a": {
      "model_module": "@jupyter-widgets/controls",
      "model_module_version": "1.5.0",
      "model_name": "BoxModel",
      "state": {
       "children": [
        "IPY_MODEL_da02e6961da5491a92b125bcac19abfa",
        "IPY_MODEL_ca97853e88bb4184861ca9bb6f7b74fb",
        "IPY_MODEL_924350e9d5bc4efdbeb00ba4c9f41282"
       ],
       "layout": "IPY_MODEL_9f83c6ba64fa40cb9722cbe077e9c67d"
      }
     },
     "1651f63369f5466ab739f7435b30c9f8": {
      "model_module": "@jupyter-widgets/controls",
      "model_module_version": "1.5.0",
      "model_name": "BoxModel",
      "state": {
       "children": [
        "IPY_MODEL_c47f91ac3f0943f397cb064cf85e091f",
        "IPY_MODEL_7425dd5d5d8f4f74986a1566d69d12a9",
        "IPY_MODEL_c5b5b06e868a4266a8479b79acd74c55",
        "IPY_MODEL_d54b6a32f01546d4afb5208c4c5c0e41"
       ],
       "layout": "IPY_MODEL_ff1546fd96e54f168944d02711d56e0e"
      }
     },
     "1667be740b1d4c3eb6ac374620aedc49": {
      "model_module": "@jupyter-widgets/controls",
      "model_module_version": "1.5.0",
      "model_name": "HTMLModel",
      "state": {
       "layout": "IPY_MODEL_364cd1c6573f4ed9aa3144fe6d2fd71e",
       "style": "IPY_MODEL_c243e33a57ea4a9b8053ea6d7891c1fc",
       "value": "bᵊ"
      }
     },
     "16bfbef3150c4bd381ce058ac9707f7f": {
      "model_module": "@jupyter-widgets/controls",
      "model_module_version": "1.5.0",
      "model_name": "TextModel",
      "state": {
       "description": "pdp=",
       "layout": "IPY_MODEL_482346b169324d308f3aa5ff45d8987f",
       "placeholder": "feat",
       "style": "IPY_MODEL_4a7cbf4ffadb47bfb476eabcad34dd51",
       "value": "subs"
      }
     },
     "170e2fb8902b483f962bfa1a6baf33c8": {
      "model_module": "@jupyter-widgets/controls",
      "model_module_version": "1.5.0",
      "model_name": "HTMLModel",
      "state": {
       "layout": "IPY_MODEL_ad6fb28bc9ea40e2a8ba091a0609133a",
       "style": "IPY_MODEL_3efb39e4e2774a53884a758ca5ab57f2",
       "value": "word"
      }
     },
     "1739474394d8476da3c45cd10fce1374": {
      "model_module": "@jupyter-widgets/controls",
      "model_module_version": "1.5.0",
      "model_name": "HTMLModel",
      "state": {
       "layout": "IPY_MODEL_72d2e5878f844b7aa594f3e4b6e7c04f",
       "style": "IPY_MODEL_2ed1064a0bdb4c1784179356d001600a",
       "value": "bᵊ"
      }
     },
     "1764b268377e4883987d53f2bdb66a09": {
      "model_module": "@jupyter-widgets/controls",
      "model_module_version": "1.5.0",
      "model_name": "DescriptionStyleModel",
      "state": {
       "description_width": ""
      }
     },
     "177004f0684f40219190207a81f5883d": {
      "model_module": "@jupyter-widgets/controls",
      "model_module_version": "1.5.0",
      "model_name": "DescriptionStyleModel",
      "state": {
       "description_width": ""
      }
     },
     "179b081eaaf740b88a55ecbdf9981144": {
      "model_module": "@jupyter-widgets/controls",
      "model_module_version": "1.5.0",
      "model_name": "DescriptionStyleModel",
      "state": {
       "description_width": ""
      }
     },
     "17c9560660964e73b6b80e867ff3a494": {
      "model_module": "@jupyter-widgets/controls",
      "model_module_version": "1.5.0",
      "model_name": "HTMLModel",
      "state": {
       "layout": "IPY_MODEL_482346b169324d308f3aa5ff45d8987f",
       "style": "IPY_MODEL_78d9b3bd5d534b5394f38961166ccc22",
       "value": "rēšˌîṯ"
      }
     },
     "183beeae84f34cee9f144f18e3adc62b": {
      "model_module": "@jupyter-widgets/controls",
      "model_module_version": "1.5.0",
      "model_name": "TextModel",
      "state": {
       "continuous_update": false,
       "layout": "IPY_MODEL_04f1ce2d4cda40bf95f907692b6d30f8",
       "placeholder": "feat",
       "style": "IPY_MODEL_743fbbe8a3d945f9a85f2485c0a0a755",
       "value": "beginning"
      }
     },
     "18422c15bb7d4be8af95f2f554ffb3a8": {
      "model_module": "@jupyter-widgets/controls",
      "model_module_version": "1.5.0",
      "model_name": "TextModel",
      "state": {
       "continuous_update": false,
       "layout": "IPY_MODEL_28ef28c84dda496080c0768c6cd6a2a9",
       "placeholder": "feat",
       "style": "IPY_MODEL_dc6ff2af9dc04fccb977a3f010f9d6d7",
       "value": "beginning"
      }
     },
     "188133eadd084f7cb0198526a5c12309": {
      "model_module": "@jupyter-widgets/controls",
      "model_module_version": "1.5.0",
      "model_name": "TextModel",
      "state": {
       "continuous_update": false,
       "description": "pdp=",
       "layout": "IPY_MODEL_d35a76df3cda49868cc0d9ab8568c5b3",
       "placeholder": "feat",
       "style": "IPY_MODEL_4254857885e446ef876a6f45a24c16a0",
       "value": "prep"
      }
     },
     "188837c133604977a29863ef9c65f7b3": {
      "model_module": "@jupyter-widgets/controls",
      "model_module_version": "1.5.0",
      "model_name": "BoxModel",
      "state": {
       "children": [
        "IPY_MODEL_27ee5ae544a24f629c94ce727eabe66e",
        "IPY_MODEL_f8ea3d29a49e4aee920cafc503c8a4ed"
       ],
       "layout": "IPY_MODEL_aa9d5eaf7c5748d5b9ce672332b78f1e"
      }
     },
     "188ecab091d54e418490e97d5de6db55": {
      "model_module": "@jupyter-widgets/controls",
      "model_module_version": "1.5.0",
      "model_name": "DescriptionStyleModel",
      "state": {
       "description_width": ""
      }
     },
     "18b71a264ca7498582330ac50ef41a2f": {
      "model_module": "@jupyter-widgets/controls",
      "model_module_version": "1.5.0",
      "model_name": "BoxModel",
      "state": {
       "children": [
        "IPY_MODEL_c9455f14976d481f91da486fa0432f12",
        "IPY_MODEL_954a20d90c4247199c0aa2225d41e3cc",
        "IPY_MODEL_a78e63537e974005aa48b741c9d6a6a7"
       ],
       "layout": "IPY_MODEL_6cd2700a2e7b48bda092296594c56d71"
      }
     },
     "19af6c94f4c2437aae53e31304d6421f": {
      "model_module": "@jupyter-widgets/controls",
      "model_module_version": "1.5.0",
      "model_name": "TextModel",
      "state": {
       "continuous_update": false,
       "layout": "IPY_MODEL_ed4491d0aceb4d65aad7e257a98b41e4",
       "placeholder": "feat",
       "style": "IPY_MODEL_f775a53a19c74845a7e19b8b263eefd3",
       "value": "in"
      }
     },
     "19b7c1133cb346d982a59ba6b83e168c": {
      "model_module": "@jupyter-widgets/base",
      "model_module_version": "1.2.0",
      "model_name": "LayoutModel",
      "state": {
       "border": "1px solid gray",
       "flex": "auto 0 1",
       "flex_flow": "column"
      }
     },
     "1a098a5399c749f78d36ffcf8572b913": {
      "model_module": "@jupyter-widgets/controls",
      "model_module_version": "1.5.0",
      "model_name": "BoxModel",
      "state": {
       "children": [
        "IPY_MODEL_39c2c8b3e0ff4a28b9d2728a66d3464c",
        "IPY_MODEL_fa02c8e5b7894112bc7cfa46904cb8f9",
        "IPY_MODEL_50c8757fa1c941df86b3aa694bc13c8a",
        "IPY_MODEL_45121352c3bb4397a211fb5bce2d8992"
       ],
       "layout": "IPY_MODEL_77c65fb5db6e460bb3fcc7ce041b7629"
      }
     },
     "1a42fc8cb61548d4944545101a263a66": {
      "model_module": "@jupyter-widgets/controls",
      "model_module_version": "1.5.0",
      "model_name": "HTMLModel",
      "state": {
       "layout": "IPY_MODEL_bb1f8489dccf4a7f9b14c9e7b79b13ab",
       "style": "IPY_MODEL_72059c55e7454b2caf3b720f94a9043a",
       "value": "<a\n  class=\"txtu hbo\"\n  href=\"https://shebanq.ancient-data.org/hebrew/word?version=2021&amp;id=1B\"\n  target=\"_blank\"\n  title=\"Show this on SHEBANQ\">\n        <span class=\"txtp\">\n         bᵊ\n        </span>\n       </a>"
      }
     },
     "1a55c11e7985423d9e414c6313cf8437": {
      "model_module": "@jupyter-widgets/controls",
      "model_module_version": "1.5.0",
      "model_name": "TextModel",
      "state": {
       "continuous_update": false,
       "layout": "IPY_MODEL_f464fdb9f8104126a654e746d77a93eb",
       "placeholder": "feat",
       "style": "IPY_MODEL_6b4c424b3cd44de2af90eb97b10881b3",
       "value": "Time"
      }
     },
     "1a575ee6a9d34d5b9f15ddef353edbe4": {
      "model_module": "@jupyter-widgets/controls",
      "model_module_version": "1.5.0",
      "model_name": "DescriptionStyleModel",
      "state": {
       "description_width": ""
      }
     },
     "1a788ec08e094a0898bff8075da087b9": {
      "model_module": "@jupyter-widgets/controls",
      "model_module_version": "1.5.0",
      "model_name": "TextModel",
      "state": {
       "continuous_update": false,
       "description": "pdp=",
       "layout": "IPY_MODEL_72d2e5878f844b7aa594f3e4b6e7c04f",
       "placeholder": "feat",
       "style": "IPY_MODEL_7d7643a8459443afbcdcedc9530918ce",
       "value": "subs"
      }
     },
     "1a969ab25de64b1e8709d8134be2d0e9": {
      "model_module": "@jupyter-widgets/controls",
      "model_module_version": "1.5.0",
      "model_name": "TextModel",
      "state": {
       "layout": "IPY_MODEL_dbf6d89ff9684cbe9f7e69080120e728",
       "placeholder": "gloss",
       "style": "IPY_MODEL_3285f20e10fa4771bf7d4bc7394441df",
       "value": "in"
      }
     },
     "1aa691fbd70948b089e0473c615dd971": {
      "model_module": "@jupyter-widgets/controls",
      "model_module_version": "1.5.0",
      "model_name": "HTMLModel",
      "state": {
       "layout": "IPY_MODEL_2f741b88357f4c808fc3c9eb0bc6a098",
       "style": "IPY_MODEL_9de283b4ed2c4a9fb65e1c5d3fbf8af1",
       "value": "phrase"
      }
     },
     "1ac9ef4638cd41518c1f9bca8dffed97": {
      "model_module": "@jupyter-widgets/controls",
      "model_module_version": "1.5.0",
      "model_name": "TextModel",
      "state": {
       "continuous_update": false,
       "layout": "IPY_MODEL_55619af8f473438c9fd0cf8cb7d07840",
       "placeholder": "feat",
       "style": "IPY_MODEL_0200aa1f25f348ebb8621ac6af955bd2",
       "value": "PP"
      }
     },
     "1adc9654e91843c186c4448a13144ac9": {
      "model_module": "@jupyter-widgets/controls",
      "model_module_version": "1.5.0",
      "model_name": "LabelModel",
      "state": {
       "layout": "IPY_MODEL_4fd4f474745243d4887169f1b8cb0281",
       "style": "IPY_MODEL_aaad64b1cb7d4e41b5392566ee8de7f1",
       "value": "aap"
      }
     },
     "1afe62a996dc41a3b54724ca5d6bdfe9": {
      "model_module": "@jupyter-widgets/controls",
      "model_module_version": "1.5.0",
      "model_name": "DescriptionStyleModel",
      "state": {
       "description_width": ""
      }
     },
     "1b28ae9fb5dd4692ba9975e02d3204df": {
      "model_module": "@jupyter-widgets/controls",
      "model_module_version": "1.5.0",
      "model_name": "BoxModel",
      "state": {
       "children": [
        "IPY_MODEL_54c76119101348f7aa87311371aa873f",
        "IPY_MODEL_cccac7fa88e9456bb701376e5db4a40c",
        "IPY_MODEL_5bbd6857bc684b36b8d9b37b7d634f05"
       ],
       "layout": "IPY_MODEL_27d9037cfcdf4bddafdf6954da899f6d"
      }
     },
     "1b3dcf81d8a240f1831211675784213f": {
      "model_module": "@jupyter-widgets/controls",
      "model_module_version": "1.5.0",
      "model_name": "HTMLModel",
      "state": {
       "layout": "IPY_MODEL_72d2e5878f844b7aa594f3e4b6e7c04f",
       "style": "IPY_MODEL_f687c275dfed41b18ed981bbfcaa3dc5",
       "value": "word"
      }
     },
     "1b3e37e3e06d427d959f8e60e80f0f6d": {
      "model_module": "@jupyter-widgets/controls",
      "model_module_version": "1.5.0",
      "model_name": "DescriptionStyleModel",
      "state": {
       "description_width": ""
      }
     },
     "1ba31531c0b54ec594d9bec079f09ca8": {
      "model_module": "@jupyter-widgets/controls",
      "model_module_version": "1.5.0",
      "model_name": "ButtonModel",
      "state": {
       "description": "Up to date",
       "disabled": true,
       "layout": "IPY_MODEL_06cb2daf6b7840e9bd6baf1cdb25514d",
       "style": "IPY_MODEL_d2778dba5cdb4f9fa53fdf3d0ad57cd1"
      }
     },
     "1bdcd4b633d6476f819a3381288fd845": {
      "model_module": "@jupyter-widgets/controls",
      "model_module_version": "1.5.0",
      "model_name": "DescriptionStyleModel",
      "state": {
       "description_width": ""
      }
     },
     "1c1a3096812640538e654d3ff1b7b299": {
      "model_module": "@jupyter-widgets/controls",
      "model_module_version": "1.5.0",
      "model_name": "DescriptionStyleModel",
      "state": {
       "description_width": ""
      }
     },
     "1c5217c273c441f686cd98d18dee233e": {
      "model_module": "@jupyter-widgets/base",
      "model_module_version": "1.2.0",
      "model_name": "LayoutModel",
      "state": {
       "align_content": "flex-start",
       "align_items": "flex-start",
       "border": "3px solid gray",
       "display": "inline-flex",
       "flex": "auto 0 0",
       "flex_flow": "row wrap",
       "justify_content": "flex-start",
       "overflow": "auto"
      }
     },
     "1cb6bfefd8e94ee8aaf41d25627c4283": {
      "model_module": "@jupyter-widgets/controls",
      "model_module_version": "1.5.0",
      "model_name": "HTMLModel",
      "state": {
       "layout": "IPY_MODEL_b39ca3c53f7744a68c6bb8fcca233870",
       "style": "IPY_MODEL_2d0c2a1c3417430bb9b2b98a68782f14",
       "value": "bᵊ"
      }
     },
     "1cc882ea465141b791d48cb2371e2648": {
      "model_module": "@jupyter-widgets/base",
      "model_module_version": "1.2.0",
      "model_name": "LayoutModel",
      "state": {
       "border": "1px solid gray",
       "display": "inline-flex",
       "flex": "auto 0 1",
       "flex_flow": "row wrap"
      }
     },
     "1ce0601952df4d439482f7adaeff27d0": {
      "model_module": "@jupyter-widgets/controls",
      "model_module_version": "1.5.0",
      "model_name": "TextModel",
      "state": {
       "continuous_update": false,
       "layout": "IPY_MODEL_4c7f21bcac3c469988c886892e35ad6d",
       "placeholder": "feat",
       "style": "IPY_MODEL_a4e2bc7deaf746a28674c2edfce07c67",
       "value": "PP"
      }
     },
     "1d77dd585a774c929db0528fde1dc79d": {
      "model_module": "@jupyter-widgets/controls",
      "model_module_version": "1.5.0",
      "model_name": "BoxModel",
      "state": {
       "children": [
        "IPY_MODEL_d8d6c3b16b7f4d3c8f367c4f705769fc",
        "IPY_MODEL_eddf656d794a4e60980b66f82da096c6",
        "IPY_MODEL_9824edcc946e4f958fae815b744547fb",
        "IPY_MODEL_490141f876bc498a9d95f722dc2424f8"
       ],
       "layout": "IPY_MODEL_cd61e9d618644476ab41893e32d01136"
      }
     },
     "1d8f103a815d42d9950d3f6510ec1083": {
      "model_module": "@jupyter-widgets/controls",
      "model_module_version": "1.5.0",
      "model_name": "TextModel",
      "state": {
       "continuous_update": false,
       "layout": "IPY_MODEL_f75ded8b87ee4d9398164535195e3672",
       "placeholder": "feat",
       "style": "IPY_MODEL_49cd58151d9347faa727bc3fc299244f",
       "value": "in"
      }
     },
     "1db28dbd1314413aaf51ca227f578bbe": {
      "model_module": "@jupyter-widgets/controls",
      "model_module_version": "1.5.0",
      "model_name": "ButtonStyleModel",
      "state": {}
     },
     "1dc92f81a30c4cb4a6445093fd44ebcd": {
      "model_module": "@jupyter-widgets/controls",
      "model_module_version": "1.5.0",
      "model_name": "DescriptionStyleModel",
      "state": {
       "description_width": ""
      }
     },
     "1e0381ec09154a1a91335b8cfc303f58": {
      "model_module": "@jupyter-widgets/controls",
      "model_module_version": "1.5.0",
      "model_name": "DescriptionStyleModel",
      "state": {
       "description_width": ""
      }
     },
     "1e4504a3bd004a4187e70a1fb8a2b7f7": {
      "model_module": "@jupyter-widgets/controls",
      "model_module_version": "1.5.0",
      "model_name": "HTMLModel",
      "state": {
       "layout": "IPY_MODEL_9d2baabf83524d14b20e9d27b558ad14",
       "style": "IPY_MODEL_9d9e444df58b48498524d8ad97ff485c",
       "value": "word"
      }
     },
     "1e5295cc85eb425db0fbfa84cff53cba": {
      "model_module": "@jupyter-widgets/controls",
      "model_module_version": "1.5.0",
      "model_name": "DescriptionStyleModel",
      "state": {
       "description_width": ""
      }
     },
     "1e822aad88e74fb4b8f1b88f136c375d": {
      "model_module": "@jupyter-widgets/controls",
      "model_module_version": "1.5.0",
      "model_name": "TextModel",
      "state": {
       "continuous_update": false,
       "layout": "IPY_MODEL_f464fdb9f8104126a654e746d77a93eb",
       "placeholder": "feat",
       "style": "IPY_MODEL_ca6599f565e342968abddfef5bd51c96",
       "value": "in"
      }
     },
     "1ed77ce0461a4055a819027cdf730beb": {
      "model_module": "@jupyter-widgets/base",
      "model_module_version": "1.2.0",
      "model_name": "LayoutModel",
      "state": {
       "align_content": "flex-start"
      }
     },
     "1ee42b717afc481eb04d9d8974a8935f": {
      "model_module": "@jupyter-widgets/base",
      "model_module_version": "1.2.0",
      "model_name": "LayoutModel",
      "state": {
       "flex": "auto 0 0",
       "overflow": "auto"
      }
     },
     "1ef7029198bb420bab16c49cb4e4b0fd": {
      "model_module": "@jupyter-widgets/controls",
      "model_module_version": "1.5.0",
      "model_name": "HTMLModel",
      "state": {
       "layout": "IPY_MODEL_098553acf751448fbd093ebef7a99dfe",
       "style": "IPY_MODEL_56a9817a863e498684ee5843712d790b",
       "value": "phrase"
      }
     },
     "1f37c3eb0f6d44f7bc4e3656b762c94a": {
      "model_module": "@jupyter-widgets/controls",
      "model_module_version": "1.5.0",
      "model_name": "DescriptionStyleModel",
      "state": {
       "description_width": ""
      }
     },
     "1f391a04b9634267bebeb169b26bc2da": {
      "model_module": "@jupyter-widgets/controls",
      "model_module_version": "1.5.0",
      "model_name": "BoxModel",
      "state": {
       "children": [
        "IPY_MODEL_ee65677b2d2f497fae597177fa8721c5",
        "IPY_MODEL_3e89c03e64ac4dfe83ab970de4475f9e"
       ],
       "layout": "IPY_MODEL_dc4fc3eb418940fd9b847d99ba9ca09c"
      }
     },
     "1f78e7c135dc437da663d6d51428c268": {
      "model_module": "@jupyter-widgets/controls",
      "model_module_version": "1.5.0",
      "model_name": "TextModel",
      "state": {
       "continuous_update": false,
       "layout": "IPY_MODEL_482346b169324d308f3aa5ff45d8987f",
       "placeholder": "feat",
       "style": "IPY_MODEL_983a4bc494094c55aeb110282a8fc63a",
       "value": "beginning"
      }
     },
     "1fa05bc88da74369b3ae7a1ffb23f3cb": {
      "model_module": "@jupyter-widgets/base",
      "model_module_version": "1.2.0",
      "model_name": "LayoutModel",
      "state": {
       "align_content": "stretch",
       "align_items": "stretch",
       "border": "2px solid #eeeeee",
       "display": "flex",
       "flex": "auto 0 0",
       "flex_flow": "column nowrap",
       "justify_content": "center",
       "overflow": "auto"
      }
     },
     "200ec92efa654747b25f756cdf39ad0c": {
      "model_module": "@jupyter-widgets/controls",
      "model_module_version": "1.5.0",
      "model_name": "TextModel",
      "state": {
       "continuous_update": false,
       "layout": "IPY_MODEL_20248d44181a4940977002cc4ba35e3b",
       "placeholder": "feat",
       "style": "IPY_MODEL_6d8cea1a5aad49d5803830ebb51cb8c8",
       "value": "beginning"
      }
     },
     "201bb9a9e7c740cf9c4f95ff4cc31db9": {
      "model_module": "@jupyter-widgets/controls",
      "model_module_version": "1.5.0",
      "model_name": "HTMLModel",
      "state": {
       "layout": "IPY_MODEL_b39ca3c53f7744a68c6bb8fcca233870",
       "style": "IPY_MODEL_e959e67ca8c7406a8b5cf78f229bfd3e",
       "value": "word"
      }
     },
     "20248d44181a4940977002cc4ba35e3b": {
      "model_module": "@jupyter-widgets/base",
      "model_module_version": "1.2.0",
      "model_name": "LayoutModel",
      "state": {
       "align_content": "flex-start",
       "align_items": "flex-start",
       "flex": "auto 0 0",
       "justify_content": "flex-start",
       "overflow": "hidden"
      }
     },
     "20253abfa3884eb0ba23b2dac506b50a": {
      "model_module": "@jupyter-widgets/base",
      "model_module_version": "1.2.0",
      "model_name": "LayoutModel",
      "state": {
       "border": "1px solid black",
       "flex": "auto 1 1"
      }
     },
     "203a91d96b9a4ff78f21b3d747e05550": {
      "model_module": "@jupyter-widgets/controls",
      "model_module_version": "1.5.0",
      "model_name": "HTMLModel",
      "state": {
       "layout": "IPY_MODEL_04d101d04b7d4244b50d0d328bfa9e2f",
       "style": "IPY_MODEL_a6bb9e5429504c4792c5352ea7d79824",
       "value": "<a\n  class=\"txtu hbo\"\n  href=\"https://shebanq.ancient-data.org/hebrew/word?version=2021&amp;id=1B\"\n  target=\"_blank\"\n  title=\"Show this on SHEBANQ\">\n        <span class=\"txtp\">\n         bᵊ\n        </span>\n       </a>"
      }
     },
     "204614151de041349e38fb4437866b4c": {
      "model_module": "@jupyter-widgets/controls",
      "model_module_version": "1.5.0",
      "model_name": "DescriptionStyleModel",
      "state": {
       "description_width": ""
      }
     },
     "204f3eda76144a80aad94539f82f5237": {
      "model_module": "@jupyter-widgets/controls",
      "model_module_version": "1.5.0",
      "model_name": "HTMLModel",
      "state": {
       "layout": "IPY_MODEL_364cd1c6573f4ed9aa3144fe6d2fd71e",
       "style": "IPY_MODEL_9aeae92bda374ecaa18e4fee8a2235ee",
       "value": "word"
      }
     },
     "20891fc21bac4e3982b4349856499123": {
      "model_module": "@jupyter-widgets/controls",
      "model_module_version": "1.5.0",
      "model_name": "DescriptionStyleModel",
      "state": {
       "description_width": ""
      }
     },
     "2093b0c4ccaf40668777fec0544dbf5e": {
      "model_module": "@jupyter-widgets/controls",
      "model_module_version": "1.5.0",
      "model_name": "BoxModel",
      "state": {
       "children": [
        "IPY_MODEL_8dce4ec248c34277855af65ee58704f1",
        "IPY_MODEL_7d33c1c18baa444e8cac9070d3bbdc91",
        "IPY_MODEL_2a8da83257124c36927e21a899222b6f",
        "IPY_MODEL_fc491e9a36ac421b81f996f6a2cda380"
       ],
       "layout": "IPY_MODEL_7fe9a9527b0c45319455c92e06127806"
      }
     },
     "20a9a9ba38b346678835bfb7391ee718": {
      "model_module": "@jupyter-widgets/controls",
      "model_module_version": "1.5.0",
      "model_name": "BoxModel",
      "state": {
       "children": [
        "IPY_MODEL_6ee30195027b4f72b7c732a25c06d011",
        "IPY_MODEL_b2ff44c57a3a4e5ab9b336caee834b08",
        "IPY_MODEL_3b656313bce74cf5aa7934da87e5f4f8",
        "IPY_MODEL_53b93971ca13438798116bd9e8c3c16f"
       ],
       "layout": "IPY_MODEL_ff1546fd96e54f168944d02711d56e0e"
      }
     },
     "20c8459722e948d995ab6257c8d7efbd": {
      "model_module": "@jupyter-widgets/controls",
      "model_module_version": "1.5.0",
      "model_name": "HTMLModel",
      "state": {
       "layout": "IPY_MODEL_098553acf751448fbd093ebef7a99dfe",
       "style": "IPY_MODEL_eaae23dfeed441d6a619e524c19de814",
       "value": "word"
      }
     },
     "2123b25fbf0a4d50954281981f070a14": {
      "model_module": "@jupyter-widgets/base",
      "model_module_version": "1.2.0",
      "model_name": "LayoutModel",
      "state": {}
     },
     "21692ae8611d4c63901c331944570e4e": {
      "model_module": "@jupyter-widgets/controls",
      "model_module_version": "1.5.0",
      "model_name": "BoxModel",
      "state": {
       "children": [
        "IPY_MODEL_1aa691fbd70948b089e0473c615dd971",
        "IPY_MODEL_5ed742d7c5f341409cd3dc8b98b22259",
        "IPY_MODEL_469eab716bf24e81a7ed738a77f1841e"
       ],
       "layout": "IPY_MODEL_02e04c2986bc4c709f87f495d35f10f7"
      }
     },
     "2175553a232545138d5886fe2d1a60b8": {
      "model_module": "@jupyter-widgets/controls",
      "model_module_version": "1.5.0",
      "model_name": "DescriptionStyleModel",
      "state": {
       "description_width": ""
      }
     },
     "21884ee118c34652987d59250e123a32": {
      "model_module": "@jupyter-widgets/controls",
      "model_module_version": "1.5.0",
      "model_name": "DescriptionStyleModel",
      "state": {
       "description_width": ""
      }
     },
     "219699815b2a4f57acbb72d77452e763": {
      "model_module": "@jupyter-widgets/base",
      "model_module_version": "1.2.0",
      "model_name": "LayoutModel",
      "state": {
       "align_content": "flex-start",
       "align_items": "flex-start",
       "border": "3px solid gray",
       "display": "inline-flex",
       "flex": "auto 0 0",
       "flex_flow": "column nowrap",
       "justify_content": "flex-start",
       "overflow": "auto"
      }
     },
     "21aa52de7ca041dfaed06aabab2a9aa1": {
      "model_module": "@jupyter-widgets/controls",
      "model_module_version": "1.5.0",
      "model_name": "TextModel",
      "state": {
       "layout": "IPY_MODEL_ac81543066614473962c9c87eabced95",
       "placeholder": "gloss",
       "style": "IPY_MODEL_915cd7658a214c7687ecb53469ac3d73",
       "value": "in"
      }
     },
     "21add104b6804b75baecb9b32fd42df1": {
      "model_module": "@jupyter-widgets/controls",
      "model_module_version": "1.5.0",
      "model_name": "DescriptionStyleModel",
      "state": {
       "description_width": ""
      }
     },
     "21d8c8486e20484d82bc51177ee811a0": {
      "model_module": "@jupyter-widgets/controls",
      "model_module_version": "1.5.0",
      "model_name": "DescriptionStyleModel",
      "state": {
       "description_width": ""
      }
     },
     "21ddbea9889347948d58f19de0be264e": {
      "model_module": "@jupyter-widgets/controls",
      "model_module_version": "1.5.0",
      "model_name": "BoxModel",
      "state": {
       "children": [
        "IPY_MODEL_02372412e9bf4c72988858906489d2c5",
        "IPY_MODEL_998e1e3123c64757a56fa2dd2bb0922a",
        "IPY_MODEL_2f504974f6cd40a3b01779937a448efb",
        "IPY_MODEL_2b5628636c9c4fe081ed9f62c34ea887"
       ],
       "layout": "IPY_MODEL_e9c39436724f4921b0fb479361de0405"
      }
     },
     "2230261df48c492689ac760f753870c0": {
      "model_module": "@jupyter-widgets/controls",
      "model_module_version": "1.5.0",
      "model_name": "DescriptionStyleModel",
      "state": {
       "description_width": ""
      }
     },
     "2241f8a8052f4b38b171a41a4d6ede3e": {
      "model_module": "@jupyter-widgets/controls",
      "model_module_version": "1.5.0",
      "model_name": "TextModel",
      "state": {
       "continuous_update": false,
       "description": "pdp=",
       "layout": "IPY_MODEL_f75ded8b87ee4d9398164535195e3672",
       "placeholder": "feat",
       "style": "IPY_MODEL_8c5d401400fb459fbccc42734d311dce",
       "value": "prep"
      }
     },
     "2257acd104e7427798dd973d7158122a": {
      "model_module": "@jupyter-widgets/controls",
      "model_module_version": "1.5.0",
      "model_name": "TextModel",
      "state": {
       "continuous_update": false,
       "layout": "IPY_MODEL_72d2e5878f844b7aa594f3e4b6e7c04f",
       "placeholder": "feat",
       "style": "IPY_MODEL_cdcf8c7845cd41df9f9ed183a881f80d",
       "value": "PP"
      }
     },
     "226e0ede2cf44dc7a4ba90f971b817b4": {
      "model_module": "@jupyter-widgets/base",
      "model_module_version": "1.2.0",
      "model_name": "LayoutModel",
      "state": {
       "border": "2px solid gray",
       "display": "inline-flex",
       "flex": "auto 0 1",
       "flex_flow": "column nowrap"
      }
     },
     "2278da77950d4df5a9d3c5a52cc39678": {
      "model_module": "@jupyter-widgets/controls",
      "model_module_version": "1.5.0",
      "model_name": "BoxModel",
      "state": {
       "children": [
        "IPY_MODEL_7121da45d436478684bda4121b888845",
        "IPY_MODEL_0c031cc8928a428090648e73ee65a5f5",
        "IPY_MODEL_b037415baadc4c5cbd794534961337bb",
        "IPY_MODEL_a976cc90b54040a8948f3111c481abe7"
       ],
       "layout": "IPY_MODEL_f136af0e52034dfe8d3e38bbd5586239"
      }
     },
     "2278e811f94d4fb098dc4f9eddba0859": {
      "model_module": "@jupyter-widgets/controls",
      "model_module_version": "1.5.0",
      "model_name": "TextModel",
      "state": {
       "continuous_update": false,
       "layout": "IPY_MODEL_fcbf3ee01ffe466dbdf5ac76fe08f70a",
       "placeholder": "feat",
       "style": "IPY_MODEL_5921c7a7bcf34c07a9e18eca78235133",
       "value": "in"
      }
     },
     "22aa328c783a46998111ffd86ac65958": {
      "model_module": "@jupyter-widgets/controls",
      "model_module_version": "1.5.0",
      "model_name": "TextModel",
      "state": {
       "layout": "IPY_MODEL_1ee42b717afc481eb04d9d8974a8935f",
       "placeholder": "function",
       "style": "IPY_MODEL_30b01e4282fa4ac590823e60ed077e8a",
       "value": "Time"
      }
     },
     "2308d02a9fb345e99470c6810c096657": {
      "model_module": "@jupyter-widgets/controls",
      "model_module_version": "1.5.0",
      "model_name": "DescriptionStyleModel",
      "state": {
       "description_width": ""
      }
     },
     "231569e937d84b69bdd5ef82bf8f60f7": {
      "model_module": "@jupyter-widgets/controls",
      "model_module_version": "1.5.0",
      "model_name": "TextModel",
      "state": {
       "layout": "IPY_MODEL_02a737450c1540b3acbd98f3efc870fb",
       "placeholder": "function",
       "style": "IPY_MODEL_3bf9798af9d5441f83e063e57919c0d1",
       "value": "Time"
      }
     },
     "2319284301884c229dad57f8a13fe7ef": {
      "model_module": "@jupyter-widgets/controls",
      "model_module_version": "1.5.0",
      "model_name": "ButtonStyleModel",
      "state": {}
     },
     "239a3aefe2c849938a206feb01fec528": {
      "model_module": "@jupyter-widgets/controls",
      "model_module_version": "1.5.0",
      "model_name": "TextModel",
      "state": {
       "continuous_update": false,
       "layout": "IPY_MODEL_b39ca3c53f7744a68c6bb8fcca233870",
       "placeholder": "feat",
       "style": "IPY_MODEL_9314a9485ba84a258bea3b1b1727a3d4",
       "value": "PP"
      }
     },
     "239f31346da34ddea6507770531ddb3f": {
      "model_module": "@jupyter-widgets/controls",
      "model_module_version": "1.5.0",
      "model_name": "DescriptionStyleModel",
      "state": {
       "description_width": ""
      }
     },
     "23b230d1739247c89f52bec5b52a7515": {
      "model_module": "@jupyter-widgets/controls",
      "model_module_version": "1.5.0",
      "model_name": "TextModel",
      "state": {
       "layout": "IPY_MODEL_a039411c9de9468d83405e91f9b7a441",
       "placeholder": "gloss",
       "style": "IPY_MODEL_ac908038dfd844acbf926dc289d9502b",
       "value": "in"
      }
     },
     "23c3620730d74f988d900b8d3a78aa4c": {
      "model_module": "@jupyter-widgets/controls",
      "model_module_version": "1.5.0",
      "model_name": "DescriptionStyleModel",
      "state": {
       "description_width": ""
      }
     },
     "23d50b0fd08c4b5791bfacdb65b3b9d5": {
      "model_module": "@jupyter-widgets/controls",
      "model_module_version": "1.5.0",
      "model_name": "DescriptionStyleModel",
      "state": {
       "description_width": ""
      }
     },
     "23d8e8eb75a84decb58b3282a41e4a2a": {
      "model_module": "@jupyter-widgets/base",
      "model_module_version": "1.2.0",
      "model_name": "LayoutModel",
      "state": {
       "align_content": "flex-start",
       "align_items": "flex-start",
       "flex": "auto 0 0",
       "justify_content": "flex-start"
      }
     },
     "244686c7c4a443cdb6d7fa3a453c05df": {
      "model_module": "@jupyter-widgets/controls",
      "model_module_version": "1.5.0",
      "model_name": "TextModel",
      "state": {
       "continuous_update": false,
       "description": "pdp=",
       "layout": "IPY_MODEL_8ba1b58fc41a4001b29bb4c0a8408965",
       "placeholder": "feat",
       "style": "IPY_MODEL_302cc0eda0c24e60aa6996518e219261",
       "value": "subs"
      }
     },
     "2495bf463e4943c2b5182b832e358bc2": {
      "model_module": "@jupyter-widgets/base",
      "model_module_version": "1.2.0",
      "model_name": "LayoutModel",
      "state": {
       "flex": "auto 1 1"
      }
     },
     "24bad17afc03461f9f07d0fc55dbba01": {
      "model_module": "@jupyter-widgets/controls",
      "model_module_version": "1.5.0",
      "model_name": "ButtonStyleModel",
      "state": {}
     },
     "24c2a00548dc4d46961e1af1ecfd7a35": {
      "model_module": "@jupyter-widgets/controls",
      "model_module_version": "1.5.0",
      "model_name": "BoxModel",
      "state": {
       "children": [
        "IPY_MODEL_92904b3f3af9401e94bfd65c14733591",
        "IPY_MODEL_0d64628a23d2414bbee05aef01ec52b4"
       ],
       "layout": "IPY_MODEL_3888a1bbf0354e3592a01f87bd725eda"
      }
     },
     "24d7dd3cc0444b0085737f725cde3f70": {
      "model_module": "@jupyter-widgets/controls",
      "model_module_version": "1.5.0",
      "model_name": "ButtonStyleModel",
      "state": {}
     },
     "2579ce9d82064362a431358e7551d546": {
      "model_module": "@jupyter-widgets/controls",
      "model_module_version": "1.5.0",
      "model_name": "DescriptionStyleModel",
      "state": {
       "description_width": ""
      }
     },
     "257ee9e74e9641638da2f297e5901e22": {
      "model_module": "@jupyter-widgets/controls",
      "model_module_version": "1.5.0",
      "model_name": "TextModel",
      "state": {
       "continuous_update": false,
       "description": "pdp=",
       "layout": "IPY_MODEL_482346b169324d308f3aa5ff45d8987f",
       "placeholder": "feat",
       "style": "IPY_MODEL_5ec529d6128c4a298eb5d77bd4a7fd4a",
       "value": "subs"
      }
     },
     "25d1cbecebaa4433b562a8b1b9635039": {
      "model_module": "@jupyter-widgets/controls",
      "model_module_version": "1.5.0",
      "model_name": "DescriptionStyleModel",
      "state": {
       "description_width": ""
      }
     },
     "25e288d3fe824c1c84882edca27705e3": {
      "model_module": "@jupyter-widgets/controls",
      "model_module_version": "1.5.0",
      "model_name": "DescriptionStyleModel",
      "state": {
       "description_width": ""
      }
     },
     "261924dd79ab40209604790369a1b7d3": {
      "model_module": "@jupyter-widgets/controls",
      "model_module_version": "1.5.0",
      "model_name": "HTMLModel",
      "state": {
       "layout": "IPY_MODEL_a235fccd9fe4446d8e47b803b4370ce1",
       "style": "IPY_MODEL_1538f7cd96a94b72b0ebc4517e909b23",
       "value": "pdp="
      }
     },
     "2625abb7262248ac910667c5d8fc32d2": {
      "model_module": "@jupyter-widgets/controls",
      "model_module_version": "1.5.0",
      "model_name": "HTMLModel",
      "state": {
       "layout": "IPY_MODEL_048cafd6b7354ca79c4b14a5e4b01aff",
       "style": "IPY_MODEL_177004f0684f40219190207a81f5883d",
       "value": "phrase"
      }
     },
     "2629bb73b71f45f6b55bf28902ab876d": {
      "model_module": "@jupyter-widgets/controls",
      "model_module_version": "1.5.0",
      "model_name": "DescriptionStyleModel",
      "state": {
       "description_width": ""
      }
     },
     "264e65ad092d477ab783e47fe9b82a9e": {
      "model_module": "@jupyter-widgets/base",
      "model_module_version": "1.2.0",
      "model_name": "LayoutModel",
      "state": {
       "align_content": "flex-start",
       "align_items": "flex-start",
       "flex": "auto 0 0",
       "justify_content": "flex-start",
       "overflow": "hidden"
      }
     },
     "269754de252e4270969cef73cc0082fa": {
      "model_module": "@jupyter-widgets/base",
      "model_module_version": "1.2.0",
      "model_name": "LayoutModel",
      "state": {
       "flex": "auto 1 1",
       "overflow": "auto"
      }
     },
     "2759e2b881d848fd993eae590f3f8e4a": {
      "model_module": "@jupyter-widgets/base",
      "model_module_version": "1.2.0",
      "model_name": "LayoutModel",
      "state": {
       "align_items": "center",
       "border": "2px solid #eeeeee",
       "display": "flex",
       "flex": "auto 0 0",
       "flex_flow": "column nowrap",
       "overflow": "auto"
      }
     },
     "27784194c9ec41fe8f3fe3449792c260": {
      "model_module": "@jupyter-widgets/controls",
      "model_module_version": "1.5.0",
      "model_name": "BoxModel",
      "state": {
       "children": [
        "IPY_MODEL_0672df2ed5854538bc6371694e2a6097",
        "IPY_MODEL_adea74cdc1fd411e9f856cbf50ab7eb4"
       ],
       "layout": "IPY_MODEL_d2848a4ecc6249ad8bc56bd0d0b32dc6"
      }
     },
     "27b2a68d1e3a4f6a990293756fad10d6": {
      "model_module": "@jupyter-widgets/controls",
      "model_module_version": "1.5.0",
      "model_name": "BoxModel",
      "state": {
       "children": [
        "IPY_MODEL_2d7b65ab53f44865813e3347c0658561",
        "IPY_MODEL_1667be740b1d4c3eb6ac374620aedc49",
        "IPY_MODEL_c25e98cfd5574afc8a85fef3a74dcb1b",
        "IPY_MODEL_bbf2947f9ebd448dabba4d45c9423fe7"
       ],
       "layout": "IPY_MODEL_27d9037cfcdf4bddafdf6954da899f6d"
      }
     },
     "27ca3f36cb46460f911d89a0e536e7bc": {
      "model_module": "@jupyter-widgets/controls",
      "model_module_version": "1.5.0",
      "model_name": "HTMLModel",
      "state": {
       "layout": "IPY_MODEL_740e27f9b923410ea3b36f1e5b08c0c3",
       "style": "IPY_MODEL_964c4ac8ad2848239c68a1d54f9ef533",
       "value": "word"
      }
     },
     "27d9037cfcdf4bddafdf6954da899f6d": {
      "model_module": "@jupyter-widgets/base",
      "model_module_version": "1.2.0",
      "model_name": "LayoutModel",
      "state": {
       "align_content": "flex-start",
       "align_items": "flex-start",
       "border": "1px solid gray",
       "display": "inline-flex",
       "flex": "auto 0 0",
       "flex_flow": "column nowrap",
       "justify_content": "flex-start",
       "overflow": "auto"
      }
     },
     "27ee5ae544a24f629c94ce727eabe66e": {
      "model_module": "@jupyter-widgets/controls",
      "model_module_version": "1.5.0",
      "model_name": "BoxModel",
      "state": {
       "children": [
        "IPY_MODEL_acb195728e6449838a36a4494c0ad59c",
        "IPY_MODEL_ef98d6dec5e74f9bb3fd9f567c976ca0",
        "IPY_MODEL_15a3a617374544509b6958f3f98a5e6f",
        "IPY_MODEL_3c63868048a041d39cf07c6a10053d79"
       ],
       "layout": "IPY_MODEL_ede9c578de004049bd068de4bdffa1f4"
      }
     },
     "28873d6aba4547a5b2b57c1d24302237": {
      "model_module": "@jupyter-widgets/controls",
      "model_module_version": "1.5.0",
      "model_name": "DescriptionStyleModel",
      "state": {
       "description_width": ""
      }
     },
     "28a95c10c74441f38b951fafd625b90a": {
      "model_module": "@jupyter-widgets/controls",
      "model_module_version": "1.5.0",
      "model_name": "TextModel",
      "state": {
       "continuous_update": false,
       "layout": "IPY_MODEL_56b5a25e16494ff696790ef8a9cd1acf",
       "placeholder": "feat",
       "style": "IPY_MODEL_b64463dd308740e790cdb7c4f664d964",
       "value": "beginning"
      }
     },
     "28c5c0dc1ef54ff3997583fe474197c8": {
      "model_module": "@jupyter-widgets/base",
      "model_module_version": "1.2.0",
      "model_name": "LayoutModel",
      "state": {
       "border": "2px solid gray",
       "display": "inline-flex",
       "flex": "auto 0 1",
       "flex_flow": "column nowrap"
      }
     },
     "28cb2a1b3cf34b03b6e2deaf810bf535": {
      "model_module": "@jupyter-widgets/controls",
      "model_module_version": "1.5.0",
      "model_name": "TextModel",
      "state": {
       "continuous_update": false,
       "layout": "IPY_MODEL_20248d44181a4940977002cc4ba35e3b",
       "placeholder": "feat",
       "style": "IPY_MODEL_029ad941160f41b1a18053873e078dcc",
       "value": "Time"
      }
     },
     "28cefbe787fe43148429610e4185d240": {
      "model_module": "@jupyter-widgets/controls",
      "model_module_version": "1.5.0",
      "model_name": "TextModel",
      "state": {
       "layout": "IPY_MODEL_bf0de77b764547118f2b08517d675ed3",
       "placeholder": "gloss",
       "style": "IPY_MODEL_cdb1aee2b45442c59cf696e0346417eb",
       "value": "in"
      }
     },
     "28d86d231dd041cda91a59c50da3386f": {
      "model_module": "@jupyter-widgets/controls",
      "model_module_version": "1.5.0",
      "model_name": "TextModel",
      "state": {
       "continuous_update": false,
       "layout": "IPY_MODEL_f75ded8b87ee4d9398164535195e3672",
       "placeholder": "feat",
       "style": "IPY_MODEL_8b73641d7b4d42b8ba54ba4b3be3a338",
       "value": "beginning"
      }
     },
     "28ef28c84dda496080c0768c6cd6a2a9": {
      "model_module": "@jupyter-widgets/base",
      "model_module_version": "1.2.0",
      "model_name": "LayoutModel",
      "state": {
       "align_content": "flex-start",
       "align_items": "flex-start",
       "flex": "auto 0 0",
       "justify_content": "flex-start",
       "overflow": "hidden"
      }
     },
     "2901824bdd474f719f58902f5db8740f": {
      "model_module": "@jupyter-widgets/controls",
      "model_module_version": "1.5.0",
      "model_name": "BoxModel",
      "state": {
       "children": [
        "IPY_MODEL_91bf0308c2ed43898f3b75f109868792",
        "IPY_MODEL_945503db2406451aa8be6fd5052f0246",
        "IPY_MODEL_676af5ddfdae48f48fe24f34db67fc49"
       ],
       "layout": "IPY_MODEL_68e37cc7d3c547f39163d3cc94eb7c5e"
      }
     },
     "2915e786fb474f5fbd5d5774f017075e": {
      "model_module": "@jupyter-widgets/controls",
      "model_module_version": "1.5.0",
      "model_name": "ButtonStyleModel",
      "state": {}
     },
     "29420512df304e18b9e4798452941e24": {
      "model_module": "@jupyter-widgets/controls",
      "model_module_version": "1.5.0",
      "model_name": "BoxModel",
      "state": {
       "children": [
        "IPY_MODEL_0d3a301336b245258ff9dbd0a3277223",
        "IPY_MODEL_bd31aed111514b688e3be2eea51751af"
       ],
       "layout": "IPY_MODEL_56f387cd886e4ce59b9bdcf2c2e18a92"
      }
     },
     "29526b2e8fd84f12a51d516c93ce33fe": {
      "model_module": "@jupyter-widgets/controls",
      "model_module_version": "1.5.0",
      "model_name": "ButtonModel",
      "state": {
       "description": "Up to date",
       "disabled": true,
       "layout": "IPY_MODEL_bb2b3dc17aaa4ba09d6489a09f42929b",
       "style": "IPY_MODEL_c8d51f6fbe4e422cb5cfe58fc3467cc5"
      }
     },
     "2972ccb5b36c41b5bf904a69f6a8c835": {
      "model_module": "@jupyter-widgets/controls",
      "model_module_version": "1.5.0",
      "model_name": "HTMLModel",
      "state": {
       "layout": "IPY_MODEL_399fdcff98b84310beb38eceaa8556a6",
       "style": "IPY_MODEL_21884ee118c34652987d59250e123a32",
       "value": "<a\n  class=\"txtu hbo\"\n  href=\"https://shebanq.ancient-data.org/hebrew/word?version=2021&amp;id=1RACJTn\"\n  target=\"_blank\"\n  title=\"Show this on SHEBANQ\">\n        <span class=\"txtp\">\n         rēšˌîṯ\n        </span>\n       </a>"
      }
     },
     "297eee0638194652aa20674f4091ebb3": {
      "model_module": "@jupyter-widgets/controls",
      "model_module_version": "1.5.0",
      "model_name": "TextModel",
      "state": {
       "continuous_update": false,
       "layout": "IPY_MODEL_482346b169324d308f3aa5ff45d8987f",
       "placeholder": "feat",
       "style": "IPY_MODEL_861a81adc17f4f1880b1954c664e16d5",
       "value": "Time"
      }
     },
     "298d3474c9f7439fbabeb0d8f3dce787": {
      "model_module": "@jupyter-widgets/controls",
      "model_module_version": "1.5.0",
      "model_name": "HTMLModel",
      "state": {
       "layout": "IPY_MODEL_264e65ad092d477ab783e47fe9b82a9e",
       "style": "IPY_MODEL_deaca22e314c4d26b7fc3de9b31f53a1",
       "value": "word"
      }
     },
     "299bb126af0144998b4402324afb5f2e": {
      "model_module": "@jupyter-widgets/controls",
      "model_module_version": "1.5.0",
      "model_name": "DescriptionStyleModel",
      "state": {
       "description_width": ""
      }
     },
     "29bd1c3fbd9c45ebbe5230da85d0f57c": {
      "model_module": "@jupyter-widgets/base",
      "model_module_version": "1.2.0",
      "model_name": "LayoutModel",
      "state": {
       "align_content": "flex-start",
       "align_items": "flex-start",
       "border": "1px solid gray",
       "display": "inline-flex",
       "flex": "auto 0 0",
       "flex_flow": "column nowrap",
       "justify_content": "flex-start",
       "overflow": "auto"
      }
     },
     "29de82bf52294578ba92f6774e775e0e": {
      "model_module": "@jupyter-widgets/controls",
      "model_module_version": "1.5.0",
      "model_name": "ButtonStyleModel",
      "state": {}
     },
     "29f6377a9954437ea4682421a7e64813": {
      "model_module": "@jupyter-widgets/controls",
      "model_module_version": "1.5.0",
      "model_name": "DescriptionStyleModel",
      "state": {
       "description_width": ""
      }
     },
     "29f63f8048e54c85be4c53d5ca5dd817": {
      "model_module": "@jupyter-widgets/controls",
      "model_module_version": "1.5.0",
      "model_name": "DescriptionStyleModel",
      "state": {
       "description_width": ""
      }
     },
     "2a8da83257124c36927e21a899222b6f": {
      "model_module": "@jupyter-widgets/controls",
      "model_module_version": "1.5.0",
      "model_name": "TextModel",
      "state": {
       "continuous_update": false,
       "layout": "IPY_MODEL_d35a76df3cda49868cc0d9ab8568c5b3",
       "placeholder": "feat",
       "style": "IPY_MODEL_c8b0a8fc34c9417da860be1fea341780",
       "value": "beginning"
      }
     },
     "2ab2977c13074bf9a4296dc27046b101": {
      "model_module": "@jupyter-widgets/controls",
      "model_module_version": "1.5.0",
      "model_name": "TextModel",
      "state": {
       "continuous_update": false,
       "layout": "IPY_MODEL_8de0c265d8cf4711b969eb197b477208",
       "placeholder": "feat",
       "style": "IPY_MODEL_88f7eb47a0e243f1b7d7505620b17fdc",
       "value": "PPxx"
      }
     },
     "2ad9ed548585493cb0e27279c8965920": {
      "model_module": "@jupyter-widgets/controls",
      "model_module_version": "1.5.0",
      "model_name": "DescriptionStyleModel",
      "state": {
       "description_width": ""
      }
     },
     "2ae5421c0b9c4922ad5fa8d075368df1": {
      "model_module": "@jupyter-widgets/controls",
      "model_module_version": "1.5.0",
      "model_name": "TextModel",
      "state": {
       "layout": "IPY_MODEL_7a884a5865a24c94b62d0084a6c6de78",
       "placeholder": "gloss",
       "style": "IPY_MODEL_d9efad8bb49a40a694e1ed124fadaaad",
       "value": "in"
      }
     },
     "2b4813d280a34ee098a78c1a7a104da3": {
      "model_module": "@jupyter-widgets/controls",
      "model_module_version": "1.5.0",
      "model_name": "DescriptionStyleModel",
      "state": {
       "description_width": ""
      }
     },
     "2b5618d722174566b0833bb860b0452c": {
      "model_module": "@jupyter-widgets/controls",
      "model_module_version": "1.5.0",
      "model_name": "ButtonModel",
      "state": {
       "description": "Up to date",
       "disabled": true,
       "layout": "IPY_MODEL_7dfe732d10d44211a065f43ccff45377",
       "style": "IPY_MODEL_3d353568b52f41ad98d1a4513fd2e605"
      }
     },
     "2b5628636c9c4fe081ed9f62c34ea887": {
      "model_module": "@jupyter-widgets/controls",
      "model_module_version": "1.5.0",
      "model_name": "TextModel",
      "state": {
       "continuous_update": false,
       "description": "pdp=",
       "layout": "IPY_MODEL_998193dda5ba4744897a9fd7f1881127",
       "placeholder": "feat",
       "style": "IPY_MODEL_1afe62a996dc41a3b54724ca5d6bdfe9",
       "value": "prep"
      }
     },
     "2b752a62e7a24115887112a385874978": {
      "model_module": "@jupyter-widgets/controls",
      "model_module_version": "1.5.0",
      "model_name": "BoxModel",
      "state": {
       "children": [
        "IPY_MODEL_accd856cd96b4da5993a645eae34a211",
        "IPY_MODEL_dce78e37c7b945f8b07ed4789a88b8c0"
       ],
       "layout": "IPY_MODEL_e872507cd19c44919547e4a5caefa2d5"
      }
     },
     "2bd54a573f1b425cabb41f66d2842836": {
      "model_module": "@jupyter-widgets/controls",
      "model_module_version": "1.5.0",
      "model_name": "DescriptionStyleModel",
      "state": {
       "description_width": ""
      }
     },
     "2be096b2b0494bc3ae02bc90e3ab420b": {
      "model_module": "@jupyter-widgets/base",
      "model_module_version": "1.2.0",
      "model_name": "LayoutModel",
      "state": {
       "border": "1px solid black",
       "flex": "auto 1 1"
      }
     },
     "2c1499888de345a6823418da9f9caf86": {
      "model_module": "@jupyter-widgets/controls",
      "model_module_version": "1.5.0",
      "model_name": "TextModel",
      "state": {
       "layout": "IPY_MODEL_482346b169324d308f3aa5ff45d8987f",
       "placeholder": "feat",
       "style": "IPY_MODEL_c5718518b05144ef8b54a2f1ddf09163",
       "value": "in"
      }
     },
     "2c845a86df054915a45cdd82a852c228": {
      "model_module": "@jupyter-widgets/controls",
      "model_module_version": "1.5.0",
      "model_name": "TextModel",
      "state": {
       "continuous_update": false,
       "description": "pdp=",
       "layout": "IPY_MODEL_20248d44181a4940977002cc4ba35e3b",
       "placeholder": "feat",
       "style": "IPY_MODEL_a5d69178fab24dc8a1e09a9396b99911",
       "value": "prep"
      }
     },
     "2ca66a9e896f4feb9732a32ebb32cd62": {
      "model_module": "@jupyter-widgets/controls",
      "model_module_version": "1.5.0",
      "model_name": "BoxModel",
      "state": {
       "children": [
        "IPY_MODEL_4ed645c41c0f4834bdafbf75ed34b5ff",
        "IPY_MODEL_7f3b3722ee1843e582fb91ac1b1551b5"
       ],
       "layout": "IPY_MODEL_3e48ff3ac7c54fd3bb103db4e0f1311b"
      }
     },
     "2d0c2a1c3417430bb9b2b98a68782f14": {
      "model_module": "@jupyter-widgets/controls",
      "model_module_version": "1.5.0",
      "model_name": "DescriptionStyleModel",
      "state": {
       "description_width": ""
      }
     },
     "2d14ec401c264170b8c8dbb21c015f6d": {
      "model_module": "@jupyter-widgets/base",
      "model_module_version": "1.2.0",
      "model_name": "LayoutModel",
      "state": {
       "align_content": "flex-start",
       "align_items": "flex-start",
       "border": "3px solid gray",
       "display": "inline-flex",
       "flex": "auto 0 0",
       "flex_flow": "column nowrap",
       "justify_content": "flex-start",
       "overflow": "auto"
      }
     },
     "2d2cedf6037c4249bd83d4a09de48d34": {
      "model_module": "@jupyter-widgets/controls",
      "model_module_version": "1.5.0",
      "model_name": "DescriptionStyleModel",
      "state": {
       "description_width": ""
      }
     },
     "2d7b65ab53f44865813e3347c0658561": {
      "model_module": "@jupyter-widgets/controls",
      "model_module_version": "1.5.0",
      "model_name": "HTMLModel",
      "state": {
       "layout": "IPY_MODEL_364cd1c6573f4ed9aa3144fe6d2fd71e",
       "style": "IPY_MODEL_8e0e7fe9bcb14af69165cf97840f9a96",
       "value": "word"
      }
     },
     "2e5b48b392c64f5fa618c525ca5043bb": {
      "model_module": "@jupyter-widgets/base",
      "model_module_version": "1.2.0",
      "model_name": "LayoutModel",
      "state": {
       "align_content": "flex-start",
       "align_items": "flex-start",
       "flex": "auto 0 0",
       "justify_content": "flex-start",
       "overflow": "hidden"
      }
     },
     "2e92e99db8064a5489a307b3fb42d462": {
      "model_module": "@jupyter-widgets/controls",
      "model_module_version": "1.5.0",
      "model_name": "TextModel",
      "state": {
       "continuous_update": false,
       "description": "pdp=",
       "layout": "IPY_MODEL_f75ded8b87ee4d9398164535195e3672",
       "placeholder": "feat",
       "style": "IPY_MODEL_75160048974b497b8065a8a8879fbd91",
       "value": "subs"
      }
     },
     "2ea5a50ce99041049eebcea31ea6c9a1": {
      "model_module": "@jupyter-widgets/controls",
      "model_module_version": "1.5.0",
      "model_name": "HTMLModel",
      "state": {
       "layout": "IPY_MODEL_82e3d868650f4c398c4df1567b38dd58",
       "style": "IPY_MODEL_8a0dcae5a2c14686b91f3ebe173a86f8",
       "value": "phrase"
      }
     },
     "2ed1064a0bdb4c1784179356d001600a": {
      "model_module": "@jupyter-widgets/controls",
      "model_module_version": "1.5.0",
      "model_name": "DescriptionStyleModel",
      "state": {
       "description_width": ""
      }
     },
     "2ed3af56e4d447af8b860ce9a39187d7": {
      "model_module": "@jupyter-widgets/controls",
      "model_module_version": "1.5.0",
      "model_name": "HTMLModel",
      "state": {
       "layout": "IPY_MODEL_048cafd6b7354ca79c4b14a5e4b01aff",
       "style": "IPY_MODEL_d8bf1f76e00a44939e89d4a83bacdca6",
       "value": "bᵊ"
      }
     },
     "2f3ad41325f24d05ad18ed5306483549": {
      "model_module": "@jupyter-widgets/base",
      "model_module_version": "1.2.0",
      "model_name": "LayoutModel",
      "state": {
       "align_content": "flex-start",
       "align_items": "flex-start",
       "border": "1px solid gray",
       "display": "inline-flex",
       "flex": "auto 0 0",
       "flex_flow": "column nowrap",
       "justify_content": "flex-start",
       "overflow": "auto"
      }
     },
     "2f504974f6cd40a3b01779937a448efb": {
      "model_module": "@jupyter-widgets/controls",
      "model_module_version": "1.5.0",
      "model_name": "TextModel",
      "state": {
       "continuous_update": false,
       "layout": "IPY_MODEL_998193dda5ba4744897a9fd7f1881127",
       "placeholder": "feat",
       "style": "IPY_MODEL_e13bd34d27b34328bec7fa2045099aaf",
       "value": "in"
      }
     },
     "2f676c2a857e49b1a6fc1e428c5b49bb": {
      "model_module": "@jupyter-widgets/controls",
      "model_module_version": "1.5.0",
      "model_name": "HTMLModel",
      "state": {
       "layout": "IPY_MODEL_72d2e5878f844b7aa594f3e4b6e7c04f",
       "style": "IPY_MODEL_e815a7efbe2c4bc1a4485d5d3023db72",
       "value": "word"
      }
     },
     "2f741b88357f4c808fc3c9eb0bc6a098": {
      "model_module": "@jupyter-widgets/base",
      "model_module_version": "1.2.0",
      "model_name": "LayoutModel",
      "state": {
       "flex": "auto 1 1"
      }
     },
     "2f850182db4a4612a1eb58304cb6c5d1": {
      "model_module": "@jupyter-widgets/controls",
      "model_module_version": "1.5.0",
      "model_name": "HTMLModel",
      "state": {
       "layout": "IPY_MODEL_482346b169324d308f3aa5ff45d8987f",
       "style": "IPY_MODEL_23d50b0fd08c4b5791bfacdb65b3b9d5",
       "value": "rēšˌîṯ"
      }
     },
     "2f9c22913f384b9eb4d6372056bd0b6a": {
      "model_module": "@jupyter-widgets/controls",
      "model_module_version": "1.5.0",
      "model_name": "BoxModel",
      "state": {
       "children": [
        "IPY_MODEL_1ef7029198bb420bab16c49cb4e4b0fd",
        "IPY_MODEL_0611347edfab4860a551d12458e7489b",
        "IPY_MODEL_d01e03cc673d4a6bba8255d51fecabdc"
       ],
       "layout": "IPY_MODEL_575706b709aa4f829656baaa41aa009a"
      }
     },
     "30064c76c09b4238ac2148808ca23927": {
      "model_module": "@jupyter-widgets/controls",
      "model_module_version": "1.5.0",
      "model_name": "BoxModel",
      "state": {
       "children": [
        "IPY_MODEL_61158d70f07a4216a7b6fb9d9d299d39",
        "IPY_MODEL_ab6d53f6a235433693605db94801aa2b"
       ],
       "layout": "IPY_MODEL_219699815b2a4f57acbb72d77452e763"
      }
     },
     "30285b08a882432dae54e1a7f26b2610": {
      "model_module": "@jupyter-widgets/controls",
      "model_module_version": "1.5.0",
      "model_name": "DescriptionStyleModel",
      "state": {
       "description_width": ""
      }
     },
     "302cc0eda0c24e60aa6996518e219261": {
      "model_module": "@jupyter-widgets/controls",
      "model_module_version": "1.5.0",
      "model_name": "DescriptionStyleModel",
      "state": {
       "description_width": ""
      }
     },
     "303348ebd211486f8c358891a30982a6": {
      "model_module": "@jupyter-widgets/base",
      "model_module_version": "1.2.0",
      "model_name": "LayoutModel",
      "state": {
       "align_content": "flex-start",
       "align_items": "flex-start",
       "border": "1px solid gray",
       "display": "inline-flex",
       "flex": "auto 0 0",
       "flex_flow": "column nowrap",
       "justify_content": "flex-start",
       "overflow": "auto"
      }
     },
     "303ea6fa712949e68a15cdae43dd1f03": {
      "model_module": "@jupyter-widgets/controls",
      "model_module_version": "1.5.0",
      "model_name": "DescriptionStyleModel",
      "state": {
       "description_width": ""
      }
     },
     "304dc59c6ea742fb8def76b3388d4d4c": {
      "model_module": "@jupyter-widgets/controls",
      "model_module_version": "1.5.0",
      "model_name": "DescriptionStyleModel",
      "state": {
       "description_width": ""
      }
     },
     "308e8a64dc204fb68ec6c1b6269c26f9": {
      "model_module": "@jupyter-widgets/controls",
      "model_module_version": "1.5.0",
      "model_name": "HTMLModel",
      "state": {
       "layout": "IPY_MODEL_72d2e5878f844b7aa594f3e4b6e7c04f",
       "style": "IPY_MODEL_aadc4dfeb837483d98b06ffd1806b921",
       "value": "phrase"
      }
     },
     "30b01e4282fa4ac590823e60ed077e8a": {
      "model_module": "@jupyter-widgets/controls",
      "model_module_version": "1.5.0",
      "model_name": "DescriptionStyleModel",
      "state": {
       "description_width": ""
      }
     },
     "30cf9680843f482184e07f075ce990f3": {
      "model_module": "@jupyter-widgets/controls",
      "model_module_version": "1.5.0",
      "model_name": "BoxModel",
      "state": {
       "children": [
        "IPY_MODEL_1e4504a3bd004a4187e70a1fb8a2b7f7",
        "IPY_MODEL_7ee89fa402024c30bf02cb9d863f23e1",
        "IPY_MODEL_a8e473038f514cc681122de9af3f69f8",
        "IPY_MODEL_68c4033427ea4fada08d68f812de89d2"
       ],
       "layout": "IPY_MODEL_cd61e9d618644476ab41893e32d01136"
      }
     },
     "3109cdee36514f0387c64e654dc3ef5d": {
      "model_module": "@jupyter-widgets/controls",
      "model_module_version": "1.5.0",
      "model_name": "BoxModel",
      "state": {
       "children": [
        "IPY_MODEL_137fc115203546ef8e7ac64ff26513d6",
        "IPY_MODEL_6ab9c2ad40e9417a82ba5191c2908c97",
        "IPY_MODEL_e06ab678da3c40cfa0e4640b8c33d749",
        "IPY_MODEL_4d4ea3445a2842c995c7599b4de54382"
       ],
       "layout": "IPY_MODEL_19b7c1133cb346d982a59ba6b83e168c"
      }
     },
     "31e821f1b9b443b6aee3fe459052ad0b": {
      "model_module": "@jupyter-widgets/controls",
      "model_module_version": "1.5.0",
      "model_name": "DescriptionStyleModel",
      "state": {
       "description_width": ""
      }
     },
     "321d0a06daa74614a2fa606468104813": {
      "model_module": "@jupyter-widgets/controls",
      "model_module_version": "1.5.0",
      "model_name": "HTMLModel",
      "state": {
       "layout": "IPY_MODEL_8a9ee8dc3ad345768107421409c1d90d",
       "style": "IPY_MODEL_8f6002b4943645aea380195a57c3e825",
       "value": "<a\n  class=\"txtu hbo\"\n  href=\"https://shebanq.ancient-data.org/hebrew/word?version=2021&amp;id=1RACJTn\"\n  target=\"_blank\"\n  title=\"Show this on SHEBANQ\">\n        <span class=\"txtp\">\n         rēšˌîṯ\n        </span>\n       </a>"
      }
     },
     "324afb066ac5460e89d9322d65cc42ad": {
      "model_module": "@jupyter-widgets/controls",
      "model_module_version": "1.5.0",
      "model_name": "TextModel",
      "state": {
       "continuous_update": false,
       "layout": "IPY_MODEL_482346b169324d308f3aa5ff45d8987f",
       "placeholder": "feat",
       "style": "IPY_MODEL_21add104b6804b75baecb9b32fd42df1",
       "value": "beginning"
      }
     },
     "325827044b764435bcf374ca507b81ad": {
      "model_module": "@jupyter-widgets/controls",
      "model_module_version": "1.5.0",
      "model_name": "TextModel",
      "state": {
       "continuous_update": false,
       "description": "pdp=",
       "layout": "IPY_MODEL_28ef28c84dda496080c0768c6cd6a2a9",
       "placeholder": "feat",
       "style": "IPY_MODEL_6fea3a72a3bb4ec7a207755fd8dbf011",
       "value": "subs"
      }
     },
     "3269837fb473425480fb43f1992be232": {
      "model_module": "@jupyter-widgets/controls",
      "model_module_version": "1.5.0",
      "model_name": "TextModel",
      "state": {
       "continuous_update": false,
       "layout": "IPY_MODEL_d35a76df3cda49868cc0d9ab8568c5b3",
       "placeholder": "feat",
       "style": "IPY_MODEL_c66492d831b6409fb49dce585d993a50",
       "value": "Time"
      }
     },
     "3285f20e10fa4771bf7d4bc7394441df": {
      "model_module": "@jupyter-widgets/controls",
      "model_module_version": "1.5.0",
      "model_name": "DescriptionStyleModel",
      "state": {
       "description_width": ""
      }
     },
     "32bf008bf6bc4565868d07d6fa07cba1": {
      "model_module": "@jupyter-widgets/base",
      "model_module_version": "1.2.0",
      "model_name": "LayoutModel",
      "state": {
       "border": "2px solid gray",
       "flex": "auto 0 1",
       "flex_flow": "column"
      }
     },
     "32fc2ea3d9c64111bc925e04b69d5bcb": {
      "model_module": "@jupyter-widgets/controls",
      "model_module_version": "1.5.0",
      "model_name": "DescriptionStyleModel",
      "state": {
       "description_width": ""
      }
     },
     "332aef99f979485fa178b44d60ac7a23": {
      "model_module": "@jupyter-widgets/controls",
      "model_module_version": "1.5.0",
      "model_name": "TextModel",
      "state": {
       "description": "pdp=",
       "layout": "IPY_MODEL_02a737450c1540b3acbd98f3efc870fb",
       "placeholder": "pdp",
       "style": "IPY_MODEL_88ce33cd8e2a4b0da24be96ac9590d81",
       "value": "subs"
      }
     },
     "332e880510d34207af0dcafabe3243a3": {
      "model_module": "@jupyter-widgets/controls",
      "model_module_version": "1.5.0",
      "model_name": "HTMLModel",
      "state": {
       "layout": "IPY_MODEL_482346b169324d308f3aa5ff45d8987f",
       "style": "IPY_MODEL_f3f1d2f7177647019d1e42fae8383980",
       "value": "word"
      }
     },
     "33365d1dd9cc4866814483f54895ccde": {
      "model_module": "@jupyter-widgets/controls",
      "model_module_version": "1.5.0",
      "model_name": "BoxModel",
      "state": {
       "children": [
        "IPY_MODEL_3109cdee36514f0387c64e654dc3ef5d",
        "IPY_MODEL_5083e41d5a034746b379a79ab7a9e95d"
       ],
       "layout": "IPY_MODEL_35161a652058409b8c4966409e2aff20"
      }
     },
     "3378123b85fc4be09c2b6a370ea8a97f": {
      "model_module": "@jupyter-widgets/controls",
      "model_module_version": "1.5.0",
      "model_name": "BoxModel",
      "state": {
       "children": [
        "IPY_MODEL_ee9535c2c0c3484e846cd1ac9c4015a9",
        "IPY_MODEL_ff12d93e58ab45699d7f75a998fbe072"
       ],
       "layout": "IPY_MODEL_3e48ff3ac7c54fd3bb103db4e0f1311b"
      }
     },
     "33811fe9c6e64034bbf6ddaa3526ce12": {
      "model_module": "@jupyter-widgets/base",
      "model_module_version": "1.2.0",
      "model_name": "LayoutModel",
      "state": {
       "border": "2px solid gray",
       "flex": "auto 0 1",
       "flex_flow": "column",
       "width": "30em"
      }
     },
     "339cbebd69ff4f419a1d1c708dbed386": {
      "model_module": "@jupyter-widgets/controls",
      "model_module_version": "1.5.0",
      "model_name": "DescriptionStyleModel",
      "state": {
       "description_width": ""
      }
     },
     "33aec3a07566491f9157f40616d75c59": {
      "model_module": "@jupyter-widgets/base",
      "model_module_version": "1.2.0",
      "model_name": "LayoutModel",
      "state": {
       "align_content": "flex-start",
       "align_items": "flex-start",
       "border": "1px solid gray",
       "display": "inline-flex",
       "flex": "auto 0 0",
       "flex_flow": "column nowrap",
       "justify_content": "flex-start",
       "overflow": "auto"
      }
     },
     "3414902d06be4daca3d9df370c605ffb": {
      "model_module": "@jupyter-widgets/controls",
      "model_module_version": "1.5.0",
      "model_name": "HTMLModel",
      "state": {
       "layout": "IPY_MODEL_2f741b88357f4c808fc3c9eb0bc6a098",
       "style": "IPY_MODEL_9f9ecc1e45bc4dc087d88918f1f478fb",
       "value": "word"
      }
     },
     "3419b34e2dde4683b50f306ddfef6fd8": {
      "model_module": "@jupyter-widgets/controls",
      "model_module_version": "1.5.0",
      "model_name": "BoxModel",
      "state": {
       "children": [
        "IPY_MODEL_c7583e55e9e84288900f75da4dd6be40",
        "IPY_MODEL_34453efaf7f047e2bfba26df5ed1a471"
       ],
       "layout": "IPY_MODEL_1ed77ce0461a4055a819027cdf730beb"
      }
     },
     "34453efaf7f047e2bfba26df5ed1a471": {
      "model_module": "@jupyter-widgets/controls",
      "model_module_version": "1.5.0",
      "model_name": "BoxModel",
      "state": {
       "children": [
        "IPY_MODEL_321d0a06daa74614a2fa606468104813",
        "IPY_MODEL_9c0370a75f4f427abcca2e6e96076ae7",
        "IPY_MODEL_332aef99f979485fa178b44d60ac7a23"
       ],
       "layout": "IPY_MODEL_387cc03710fc4092b00558cc9e56752f"
      }
     },
     "34458d621cf540bbbca859ce6357dbbf": {
      "model_module": "@jupyter-widgets/controls",
      "model_module_version": "1.5.0",
      "model_name": "BoxModel",
      "state": {
       "children": [
        "IPY_MODEL_44e6dd0d95d648cb8b5eddff5347e583",
        "IPY_MODEL_a52d4426e66d4115ae7fcd920038033f",
        "IPY_MODEL_1d8f103a815d42d9950d3f6510ec1083",
        "IPY_MODEL_2241f8a8052f4b38b171a41a4d6ede3e"
       ],
       "layout": "IPY_MODEL_303348ebd211486f8c358891a30982a6"
      }
     },
     "3450a643ba664e3099d422c945ae9032": {
      "model_module": "@jupyter-widgets/base",
      "model_module_version": "1.2.0",
      "model_name": "LayoutModel",
      "state": {
       "align_content": "flex-start",
       "align_items": "flex-start",
       "border": "1px solid gray",
       "display": "inline-flex",
       "flex": "auto 0 0",
       "flex_flow": "column nowrap",
       "justify_content": "flex-start",
       "overflow": "auto"
      }
     },
     "346b8a0625954c0dba9f92d885b7d0b0": {
      "model_module": "@jupyter-widgets/controls",
      "model_module_version": "1.5.0",
      "model_name": "BoxModel",
      "state": {
       "children": [
        "IPY_MODEL_afa01ad8290843c99f7ae69c309f6c0f",
        "IPY_MODEL_99a45c37670a40fc98542cbbaf589f55",
        "IPY_MODEL_ae170f73bf3a43e8ad673f0446331dac",
        "IPY_MODEL_930701f0e01049faa99744d37e648de3"
       ],
       "layout": "IPY_MODEL_3862a8b494df4657b4b7fe948ad78cc9"
      }
     },
     "34f58962f8b84dce91656a5a5160c2c8": {
      "model_module": "@jupyter-widgets/controls",
      "model_module_version": "1.5.0",
      "model_name": "DescriptionStyleModel",
      "state": {
       "description_width": ""
      }
     },
     "350097e42d6340948b1816b5eacb85e0": {
      "model_module": "@jupyter-widgets/controls",
      "model_module_version": "1.5.0",
      "model_name": "DescriptionStyleModel",
      "state": {
       "description_width": ""
      }
     },
     "35161a652058409b8c4966409e2aff20": {
      "model_module": "@jupyter-widgets/base",
      "model_module_version": "1.2.0",
      "model_name": "LayoutModel",
      "state": {
       "border": "3px solid gray",
       "flex": "auto 0 1",
       "flex_flow": "row"
      }
     },
     "3539a14c2c854cd9a841e110b1f1ba49": {
      "model_module": "@jupyter-widgets/controls",
      "model_module_version": "1.5.0",
      "model_name": "BoxModel",
      "state": {
       "children": [
        "IPY_MODEL_a7b85230e3254635a5137ea843d4c46f",
        "IPY_MODEL_84f92edd7f604e3b8e8740c817756b38"
       ],
       "layout": "IPY_MODEL_ab1dd5d44ec34b4eae450d6e2b376362"
      }
     },
     "35481e4891ba4215a6741f3e02692bfd": {
      "model_module": "@jupyter-widgets/controls",
      "model_module_version": "1.5.0",
      "model_name": "BoxModel",
      "state": {
       "children": [
        "IPY_MODEL_f74a465a75944447ac6174e256f34f9c",
        "IPY_MODEL_1ac9ef4638cd41518c1f9bca8dffed97",
        "IPY_MODEL_db0b8077fdad4226b86f392a22be1d42"
       ],
       "layout": "IPY_MODEL_1294f9b4dc7b4f52b6a0e4cc29dc6625"
      }
     },
     "35503a341e61411aac007b14e103f5ff": {
      "model_module": "@jupyter-widgets/controls",
      "model_module_version": "1.5.0",
      "model_name": "HTMLModel",
      "state": {
       "layout": "IPY_MODEL_8de0c265d8cf4711b969eb197b477208",
       "style": "IPY_MODEL_103e2f32cc574da3a263042af46f7191",
       "value": "phrase"
      }
     },
     "3561138f12c44d1b9c6d2abd77f8e940": {
      "model_module": "@jupyter-widgets/controls",
      "model_module_version": "1.5.0",
      "model_name": "BoxModel",
      "state": {
       "children": [
        "IPY_MODEL_9ff04d72988542cbb62025767e6b2d4b",
        "IPY_MODEL_c85fa315c26941599ad196e18b8af96a"
       ],
       "layout": "IPY_MODEL_e87ca028d704432aaa8d1c36bde1bd39"
      }
     },
     "356c24188419488287477ac67e536e14": {
      "model_module": "@jupyter-widgets/controls",
      "model_module_version": "1.5.0",
      "model_name": "DescriptionStyleModel",
      "state": {
       "description_width": ""
      }
     },
     "35724f73f15b4664b14012bf3404c330": {
      "model_module": "@jupyter-widgets/controls",
      "model_module_version": "1.5.0",
      "model_name": "TextModel",
      "state": {
       "continuous_update": false,
       "layout": "IPY_MODEL_07c4579bde2b4d29a545ad9ac1e8734f",
       "placeholder": "feat",
       "style": "IPY_MODEL_4bd15a47ca484bf7815f2ec32151f0d0",
       "value": "Time"
      }
     },
     "36093caca41c44acba59d60a76e863c9": {
      "model_module": "@jupyter-widgets/controls",
      "model_module_version": "1.5.0",
      "model_name": "TextModel",
      "state": {
       "continuous_update": false,
       "layout": "IPY_MODEL_4c7f21bcac3c469988c886892e35ad6d",
       "placeholder": "feat",
       "style": "IPY_MODEL_d93d9299229248c98bd951c2d727c58d",
       "value": "Time"
      }
     },
     "3609cd9775204bd8b2280a2924696e33": {
      "model_module": "@jupyter-widgets/base",
      "model_module_version": "1.2.0",
      "model_name": "LayoutModel",
      "state": {
       "border": "1px solid black",
       "flex": "auto 1 1"
      }
     },
     "363168fa70b64d9792f2e8f8d2da654d": {
      "model_module": "@jupyter-widgets/controls",
      "model_module_version": "1.5.0",
      "model_name": "DescriptionStyleModel",
      "state": {
       "description_width": ""
      }
     },
     "364cd1c6573f4ed9aa3144fe6d2fd71e": {
      "model_module": "@jupyter-widgets/base",
      "model_module_version": "1.2.0",
      "model_name": "LayoutModel",
      "state": {
       "align_content": "flex-start",
       "align_items": "flex-start",
       "flex": "auto 0 0",
       "justify_content": "flex-start",
       "overflow": "hidden"
      }
     },
     "3676e9f8ed6843fe99c94513a5b6a764": {
      "model_module": "@jupyter-widgets/controls",
      "model_module_version": "1.5.0",
      "model_name": "HTMLModel",
      "state": {
       "layout": "IPY_MODEL_264e65ad092d477ab783e47fe9b82a9e",
       "style": "IPY_MODEL_356c24188419488287477ac67e536e14",
       "value": "phrase"
      }
     },
     "368ed2b567164f5f92c54eaef0c5f598": {
      "model_module": "@jupyter-widgets/controls",
      "model_module_version": "1.5.0",
      "model_name": "DescriptionStyleModel",
      "state": {
       "description_width": ""
      }
     },
     "36bba5e618db493da49c261606a64d94": {
      "model_module": "@jupyter-widgets/base",
      "model_module_version": "1.2.0",
      "model_name": "LayoutModel",
      "state": {
       "border": "1px solid gray",
       "display": "inline-flex",
       "flex": "auto 0 1",
       "flex_flow": "row wrap"
      }
     },
     "36c1e9ce89be4317a5f533de1d64ccde": {
      "model_module": "@jupyter-widgets/controls",
      "model_module_version": "1.5.0",
      "model_name": "HTMLModel",
      "state": {
       "layout": "IPY_MODEL_998193dda5ba4744897a9fd7f1881127",
       "style": "IPY_MODEL_b1c61b8713dc42e3a05f9a925d87a65d",
       "value": "rēšˌîṯ"
      }
     },
     "36d72340c5c142bdac5a133b22bf56cb": {
      "model_module": "@jupyter-widgets/controls",
      "model_module_version": "1.5.0",
      "model_name": "DescriptionStyleModel",
      "state": {
       "description_width": ""
      }
     },
     "36ea442525654c60b528720c48796f9b": {
      "model_module": "@jupyter-widgets/controls",
      "model_module_version": "1.5.0",
      "model_name": "DescriptionStyleModel",
      "state": {
       "description_width": ""
      }
     },
     "36ecda6691f941d89adb9fa326dcff7b": {
      "model_module": "@jupyter-widgets/controls",
      "model_module_version": "1.5.0",
      "model_name": "BoxModel",
      "state": {
       "children": [
        "IPY_MODEL_e5655547918847abbe657d1661e43fcf",
        "IPY_MODEL_7226a002cc7e4f71a4f655f4ee2cae94",
        "IPY_MODEL_28cb2a1b3cf34b03b6e2deaf810bf535"
       ],
       "layout": "IPY_MODEL_e37f597b7d81470796cfddb47d24323a"
      }
     },
     "36f61bcd889248b59c6511def1ebe7b0": {
      "model_module": "@jupyter-widgets/base",
      "model_module_version": "1.2.0",
      "model_name": "LayoutModel",
      "state": {
       "align_content": "flex-start",
       "align_items": "flex-start",
       "border": "3px solid gray",
       "display": "inline-flex",
       "flex": "auto 0 0",
       "flex_flow": "column nowrap",
       "justify_content": "flex-start",
       "overflow": "auto"
      }
     },
     "370cdc38dc62456ab74371e617696a10": {
      "model_module": "@jupyter-widgets/controls",
      "model_module_version": "1.5.0",
      "model_name": "HTMLModel",
      "state": {
       "layout": "IPY_MODEL_cf9df7f170f34131a037bf1778bb137e",
       "style": "IPY_MODEL_fd210678e1404fd7bbc7b57d0bfb51bf",
       "value": "<a\n  class=\"txtu hbo\"\n  href=\"https://shebanq.ancient-data.org/hebrew/word?version=2021&amp;id=1B\"\n  target=\"_blank\"\n  title=\"Show this on SHEBANQ\">\n        <span class=\"txtp\">\n         bᵊ\n        </span>\n       </a>"
      }
     },
     "3754ac88cee24313817136bdc9d156dc": {
      "model_module": "@jupyter-widgets/base",
      "model_module_version": "1.2.0",
      "model_name": "LayoutModel",
      "state": {}
     },
     "376431208bd044d2a4b385c2d2cf384c": {
      "model_module": "@jupyter-widgets/controls",
      "model_module_version": "1.5.0",
      "model_name": "BoxModel",
      "state": {
       "children": [
        "IPY_MODEL_8c602aabc0a04ab5a02801c57863d834",
        "IPY_MODEL_b08ffa2707994f23b0cf30a2ae9de922",
        "IPY_MODEL_93a9a822d1744fa78ac2ce37d86bed71"
       ],
       "layout": "IPY_MODEL_61a3796ee8534ab581fa8900df5ebe6a"
      }
     },
     "382bdaf2bb574d349d94d03976d82203": {
      "model_module": "@jupyter-widgets/controls",
      "model_module_version": "1.5.0",
      "model_name": "DescriptionStyleModel",
      "state": {
       "description_width": ""
      }
     },
     "382dde4bdff347b7a5912a524b5f3bc2": {
      "model_module": "@jupyter-widgets/controls",
      "model_module_version": "1.5.0",
      "model_name": "HTMLModel",
      "state": {
       "layout": "IPY_MODEL_ad6fb28bc9ea40e2a8ba091a0609133a",
       "style": "IPY_MODEL_da9abc09337349e2b067708d85fe1638",
       "value": "word"
      }
     },
     "3862a8b494df4657b4b7fe948ad78cc9": {
      "model_module": "@jupyter-widgets/base",
      "model_module_version": "1.2.0",
      "model_name": "LayoutModel",
      "state": {
       "align_content": "flex-start",
       "align_items": "flex-start",
       "border": "1px solid gray",
       "display": "inline-flex",
       "flex": "auto 0 0",
       "flex_flow": "column nowrap",
       "justify_content": "flex-start",
       "overflow": "auto"
      }
     },
     "387cc03710fc4092b00558cc9e56752f": {
      "model_module": "@jupyter-widgets/base",
      "model_module_version": "1.2.0",
      "model_name": "LayoutModel",
      "state": {
       "border": "2px solid gray",
       "display": "inline-flex",
       "flex": "auto 0 1",
       "flex_flow": "column nowrap",
       "overflow": "auto"
      }
     },
     "3888a1bbf0354e3592a01f87bd725eda": {
      "model_module": "@jupyter-widgets/base",
      "model_module_version": "1.2.0",
      "model_name": "LayoutModel",
      "state": {
       "align_content": "flex-start"
      }
     },
     "38cf8cd5755b4cee9e0515d3166aa724": {
      "model_module": "@jupyter-widgets/controls",
      "model_module_version": "1.5.0",
      "model_name": "ButtonModel",
      "state": {
       "description": "Up to date",
       "disabled": true,
       "layout": "IPY_MODEL_762f71eefea642f08faf452f00015a3e",
       "style": "IPY_MODEL_13a03020483e42f1be1e0b115a3ec7a1"
      }
     },
     "38d1af12eb6c4ede95318694f086f2dd": {
      "model_module": "@jupyter-widgets/controls",
      "model_module_version": "1.5.0",
      "model_name": "DescriptionStyleModel",
      "state": {
       "description_width": ""
      }
     },
     "39009b12b31a4cd5aa97a63281539793": {
      "model_module": "@jupyter-widgets/controls",
      "model_module_version": "1.5.0",
      "model_name": "DescriptionStyleModel",
      "state": {
       "description_width": ""
      }
     },
     "3909c1ff98e04813bda19a33b39c90b9": {
      "model_module": "@jupyter-widgets/controls",
      "model_module_version": "1.5.0",
      "model_name": "ButtonModel",
      "state": {
       "description": "Up to date",
       "disabled": true,
       "layout": "IPY_MODEL_cbc9e81df402492398a6bb1bb65b8024",
       "style": "IPY_MODEL_e7ed0973c9a04305ad444f3316f4057e"
      }
     },
     "390ab871e79c4985a83ceafe1c85be18": {
      "model_module": "@jupyter-widgets/controls",
      "model_module_version": "1.5.0",
      "model_name": "DescriptionStyleModel",
      "state": {
       "description_width": ""
      }
     },
     "395146135109484c95ca79a3326cf640": {
      "model_module": "@jupyter-widgets/controls",
      "model_module_version": "1.5.0",
      "model_name": "DescriptionStyleModel",
      "state": {
       "description_width": ""
      }
     },
     "3964e93854fe44d7bed2c2f0012703f3": {
      "model_module": "@jupyter-widgets/controls",
      "model_module_version": "1.5.0",
      "model_name": "HTMLModel",
      "state": {
       "layout": "IPY_MODEL_c98e258fce024947ae6249726835859c",
       "style": "IPY_MODEL_3a97fcca84c7427bb1f7681ddd837630",
       "value": "bᵊ"
      }
     },
     "399e8728883840f98ab30ff801db7e1b": {
      "model_module": "@jupyter-widgets/controls",
      "model_module_version": "1.5.0",
      "model_name": "HTMLModel",
      "state": {
       "layout": "IPY_MODEL_c98e258fce024947ae6249726835859c",
       "style": "IPY_MODEL_af3a1be7403b4d81802e83309fbd393b",
       "value": "word"
      }
     },
     "399fdcff98b84310beb38eceaa8556a6": {
      "model_module": "@jupyter-widgets/base",
      "model_module_version": "1.2.0",
      "model_name": "LayoutModel",
      "state": {
       "flex": "auto 1 1"
      }
     },
     "39c2c8b3e0ff4a28b9d2728a66d3464c": {
      "model_module": "@jupyter-widgets/controls",
      "model_module_version": "1.5.0",
      "model_name": "HTMLModel",
      "state": {
       "layout": "IPY_MODEL_4c7f21bcac3c469988c886892e35ad6d",
       "style": "IPY_MODEL_01956322a32a432393232e749ece083c",
       "value": "word"
      }
     },
     "39eca8eb898144f2869611331c620a00": {
      "model_module": "@jupyter-widgets/base",
      "model_module_version": "1.2.0",
      "model_name": "LayoutModel",
      "state": {
       "align_content": "flex-start",
       "align_items": "flex-start",
       "border": "3px solid gray",
       "display": "inline-flex",
       "flex": "auto 0 0",
       "flex_flow": "row wrap",
       "justify_content": "flex-start",
       "overflow": "auto"
      }
     },
     "3a97fcca84c7427bb1f7681ddd837630": {
      "model_module": "@jupyter-widgets/controls",
      "model_module_version": "1.5.0",
      "model_name": "DescriptionStyleModel",
      "state": {
       "description_width": ""
      }
     },
     "3af177cf54904f0e8c2db0440ae2e7c8": {
      "model_module": "@jupyter-widgets/base",
      "model_module_version": "1.2.0",
      "model_name": "LayoutModel",
      "state": {
       "align_content": "flex-start",
       "align_items": "flex-start",
       "align_self": "stretch",
       "flex": "auto 1 1",
       "justify_content": "flex-start"
      }
     },
     "3b09aafcd8c84e5d8d40f90af66556f1": {
      "model_module": "@jupyter-widgets/controls",
      "model_module_version": "1.5.0",
      "model_name": "BoxModel",
      "state": {
       "children": [
        "IPY_MODEL_690e500c7fec452e950ffb6a365f4152",
        "IPY_MODEL_b70683345b6a4cc88834286fa1741a4f",
        "IPY_MODEL_0a4a151687874c8191ee5bf527107a07"
       ],
       "layout": "IPY_MODEL_bac71c97da8346ed8289636b87c63ac4"
      }
     },
     "3b24e88d3816489f8a1f476887cab9d2": {
      "model_module": "@jupyter-widgets/controls",
      "model_module_version": "1.5.0",
      "model_name": "LabelModel",
      "state": {
       "layout": "IPY_MODEL_7dfe732d10d44211a065f43ccff45377",
       "style": "IPY_MODEL_8fe1506859fe4a7888d2157f01f1d72c",
       "value": "aap"
      }
     },
     "3b4f392552f046b09589deb0e1a05aee": {
      "model_module": "@jupyter-widgets/controls",
      "model_module_version": "1.5.0",
      "model_name": "ButtonModel",
      "state": {
       "description": "Up to date",
       "disabled": true,
       "layout": "IPY_MODEL_9cc4a65d0e7c40eea47de212e13ff20c",
       "style": "IPY_MODEL_24bad17afc03461f9f07d0fc55dbba01"
      }
     },
     "3b5ce1d5fc034d52bd11efc653518124": {
      "model_module": "@jupyter-widgets/controls",
      "model_module_version": "1.5.0",
      "model_name": "HTMLModel",
      "state": {
       "layout": "IPY_MODEL_740e27f9b923410ea3b36f1e5b08c0c3",
       "style": "IPY_MODEL_dc8bff3d052a4f43a825ecf016a91fe4",
       "value": "phrase"
      }
     },
     "3b656313bce74cf5aa7934da87e5f4f8": {
      "model_module": "@jupyter-widgets/controls",
      "model_module_version": "1.5.0",
      "model_name": "TextModel",
      "state": {
       "continuous_update": false,
       "layout": "IPY_MODEL_b39ca3c53f7744a68c6bb8fcca233870",
       "placeholder": "feat",
       "style": "IPY_MODEL_390ab871e79c4985a83ceafe1c85be18",
       "value": "beginning"
      }
     },
     "3b78fffc5be041e39c3560121cba3af6": {
      "model_module": "@jupyter-widgets/controls",
      "model_module_version": "1.5.0",
      "model_name": "DescriptionStyleModel",
      "state": {
       "description_width": ""
      }
     },
     "3bb709eff8ed4bbca162f47a499ed3b8": {
      "model_module": "@jupyter-widgets/controls",
      "model_module_version": "1.5.0",
      "model_name": "DescriptionStyleModel",
      "state": {
       "description_width": ""
      }
     },
     "3bf9798af9d5441f83e063e57919c0d1": {
      "model_module": "@jupyter-widgets/controls",
      "model_module_version": "1.5.0",
      "model_name": "DescriptionStyleModel",
      "state": {
       "description_width": ""
      }
     },
     "3c0a077db4b24899ad1dfbdd8a43b66e": {
      "model_module": "@jupyter-widgets/controls",
      "model_module_version": "1.5.0",
      "model_name": "DescriptionStyleModel",
      "state": {
       "description_width": ""
      }
     },
     "3c63868048a041d39cf07c6a10053d79": {
      "model_module": "@jupyter-widgets/controls",
      "model_module_version": "1.5.0",
      "model_name": "TextModel",
      "state": {
       "continuous_update": false,
       "description": "pdp=",
       "layout": "IPY_MODEL_56b5a25e16494ff696790ef8a9cd1acf",
       "placeholder": "feat",
       "style": "IPY_MODEL_2230261df48c492689ac760f753870c0",
       "value": "prep"
      }
     },
     "3c9228376ea242b3b4dc92a3f3fa1322": {
      "model_module": "@jupyter-widgets/controls",
      "model_module_version": "1.5.0",
      "model_name": "DescriptionStyleModel",
      "state": {
       "description_width": ""
      }
     },
     "3cd2c0cb9fc347d09650ef13858171a0": {
      "model_module": "@jupyter-widgets/controls",
      "model_module_version": "1.5.0",
      "model_name": "BoxModel",
      "state": {
       "children": [
        "IPY_MODEL_77a5d4acf0d94520be65367ab2b67883",
        "IPY_MODEL_eb4c142c33944c18bc43bcfc399cdf4f"
       ],
       "layout": "IPY_MODEL_b23e7349c01c42e09ad7607b05feedec"
      }
     },
     "3ce055c674334aa1b236f4338c837070": {
      "model_module": "@jupyter-widgets/base",
      "model_module_version": "1.2.0",
      "model_name": "LayoutModel",
      "state": {}
     },
     "3cf8ab6c584e42a08265a8f65bdb432c": {
      "model_module": "@jupyter-widgets/controls",
      "model_module_version": "1.5.0",
      "model_name": "HTMLModel",
      "state": {
       "layout": "IPY_MODEL_b39ca3c53f7744a68c6bb8fcca233870",
       "style": "IPY_MODEL_df58c093361f4f0db92dc72ed4e5f156",
       "value": "word"
      }
     },
     "3d086006a50f432da69ae3970c818441": {
      "model_module": "@jupyter-widgets/controls",
      "model_module_version": "1.5.0",
      "model_name": "BoxModel",
      "state": {
       "children": [
        "IPY_MODEL_298d3474c9f7439fbabeb0d8f3dce787",
        "IPY_MODEL_d452001cf2cb43c786f478750ea92ad5",
        "IPY_MODEL_001b8554257c450293ccd89b868bfb97",
        "IPY_MODEL_64f7c585fbf6468395c46eb2da0d4e34"
       ],
       "layout": "IPY_MODEL_4a6e73fa097040d5807409bf99201ded"
      }
     },
     "3d353568b52f41ad98d1a4513fd2e605": {
      "model_module": "@jupyter-widgets/controls",
      "model_module_version": "1.5.0",
      "model_name": "ButtonStyleModel",
      "state": {}
     },
     "3d615a1864d64bef83c086626e49f37c": {
      "model_module": "@jupyter-widgets/controls",
      "model_module_version": "1.5.0",
      "model_name": "DescriptionStyleModel",
      "state": {
       "description_width": ""
      }
     },
     "3d6a21712d1141c281048970a7f2288d": {
      "model_module": "@jupyter-widgets/base",
      "model_module_version": "1.2.0",
      "model_name": "LayoutModel",
      "state": {
       "align_content": "flex-start"
      }
     },
     "3d94be22c4424c188b03aad5015fa845": {
      "model_module": "@jupyter-widgets/controls",
      "model_module_version": "1.5.0",
      "model_name": "DescriptionStyleModel",
      "state": {
       "description_width": ""
      }
     },
     "3da318dfad06421dbc9cb02f12a5b9c1": {
      "model_module": "@jupyter-widgets/controls",
      "model_module_version": "1.5.0",
      "model_name": "BoxModel",
      "state": {
       "children": [
        "IPY_MODEL_261924dd79ab40209604790369a1b7d3",
        "IPY_MODEL_c9c0dd62169f428695a4dad011bd544b"
       ],
       "layout": "IPY_MODEL_8384f089856d4f669b5fc09d99dbaef5"
      }
     },
     "3dd32bfa5ca6410b9576f0c613bcd73e": {
      "model_module": "@jupyter-widgets/controls",
      "model_module_version": "1.5.0",
      "model_name": "BoxModel",
      "state": {
       "children": [
        "IPY_MODEL_40a6d53164f844dab0a620afd9ca3a13",
        "IPY_MODEL_7bb6e719deee4ec5ab24100baa9f3f95"
       ],
       "layout": "IPY_MODEL_efec0fe47fdb4eed8d3af8bfd1f260c4"
      }
     },
     "3e48ff3ac7c54fd3bb103db4e0f1311b": {
      "model_module": "@jupyter-widgets/base",
      "model_module_version": "1.2.0",
      "model_name": "LayoutModel",
      "state": {
       "align_content": "flex-start",
       "align_items": "flex-start",
       "border": "3px solid gray",
       "display": "inline-flex",
       "flex": "auto 0 0",
       "flex_flow": "row wrap",
       "justify_content": "flex-start",
       "overflow": "auto"
      }
     },
     "3e89c03e64ac4dfe83ab970de4475f9e": {
      "model_module": "@jupyter-widgets/controls",
      "model_module_version": "1.5.0",
      "model_name": "BoxModel",
      "state": {
       "children": [
        "IPY_MODEL_bfece768879f4bae859f14841c925414",
        "IPY_MODEL_e2cb8db910bd409c8fa4a642594b005b"
       ],
       "layout": "IPY_MODEL_8f315f26f75f4ad78ab7b74bd829e7b0"
      }
     },
     "3efb39e4e2774a53884a758ca5ab57f2": {
      "model_module": "@jupyter-widgets/controls",
      "model_module_version": "1.5.0",
      "model_name": "DescriptionStyleModel",
      "state": {
       "description_width": ""
      }
     },
     "3f01443fccf845bcb1e3f90cace4d09a": {
      "model_module": "@jupyter-widgets/controls",
      "model_module_version": "1.5.0",
      "model_name": "DescriptionStyleModel",
      "state": {
       "description_width": ""
      }
     },
     "3f8f6516a56f48ae82ffc634bd2b009d": {
      "model_module": "@jupyter-widgets/controls",
      "model_module_version": "1.5.0",
      "model_name": "BoxModel",
      "state": {
       "children": [
        "IPY_MODEL_f91bb79f326249eab85263a5070c91c5",
        "IPY_MODEL_376431208bd044d2a4b385c2d2cf384c"
       ],
       "layout": "IPY_MODEL_f054bb4fbfd448e69e6eb1ac2715128b"
      }
     },
     "3fb1fd6a19bf44c2a499bdd28c7b1897": {
      "model_module": "@jupyter-widgets/controls",
      "model_module_version": "1.5.0",
      "model_name": "HTMLModel",
      "state": {
       "layout": "IPY_MODEL_482346b169324d308f3aa5ff45d8987f",
       "style": "IPY_MODEL_4c30cc09d06445b19855cce5070bf4da",
       "value": "bᵊ"
      }
     },
     "4051d5f4fc4644e6ad26997e89244a1c": {
      "model_module": "@jupyter-widgets/controls",
      "model_module_version": "1.5.0",
      "model_name": "DescriptionStyleModel",
      "state": {
       "description_width": ""
      }
     },
     "40a6d53164f844dab0a620afd9ca3a13": {
      "model_module": "@jupyter-widgets/controls",
      "model_module_version": "1.5.0",
      "model_name": "BoxModel",
      "state": {
       "children": [
        "IPY_MODEL_36ecda6691f941d89adb9fa326dcff7b",
        "IPY_MODEL_7f966b6ea61e413f8a4149dfd22af465"
       ],
       "layout": "IPY_MODEL_4eb4c8395102491087e9000892d0d1e2"
      }
     },
     "4137e74107044ac7ab0a8d36396aabc6": {
      "model_module": "@jupyter-widgets/controls",
      "model_module_version": "1.5.0",
      "model_name": "TextModel",
      "state": {
       "continuous_update": false,
       "layout": "IPY_MODEL_9d2baabf83524d14b20e9d27b558ad14",
       "placeholder": "feat",
       "style": "IPY_MODEL_976c92b27d24422e98a3525c58390cae",
       "value": "Time"
      }
     },
     "4169a24099324fd3ae4607d4400c2174": {
      "model_module": "@jupyter-widgets/controls",
      "model_module_version": "1.5.0",
      "model_name": "ButtonStyleModel",
      "state": {}
     },
     "418b776cba5d43d5b0d0bfc6909f1913": {
      "model_module": "@jupyter-widgets/controls",
      "model_module_version": "1.5.0",
      "model_name": "TextModel",
      "state": {
       "continuous_update": false,
       "layout": "IPY_MODEL_048cafd6b7354ca79c4b14a5e4b01aff",
       "placeholder": "feat",
       "style": "IPY_MODEL_f32626f1ec504492bc4b8c3c0bdf6db9",
       "value": "Time"
      }
     },
     "422842b0658d4e2dba83c16b5a5e64af": {
      "model_module": "@jupyter-widgets/controls",
      "model_module_version": "1.5.0",
      "model_name": "TextModel",
      "state": {
       "layout": "IPY_MODEL_ac81543066614473962c9c87eabced95",
       "placeholder": "pdp",
       "style": "IPY_MODEL_c6ffdefc2fd64e1fb32c2a0ef08572be",
       "value": "prep"
      }
     },
     "4254857885e446ef876a6f45a24c16a0": {
      "model_module": "@jupyter-widgets/controls",
      "model_module_version": "1.5.0",
      "model_name": "DescriptionStyleModel",
      "state": {
       "description_width": ""
      }
     },
     "4297dfbf03684410a5fdc7b99591058b": {
      "model_module": "@jupyter-widgets/controls",
      "model_module_version": "1.5.0",
      "model_name": "DescriptionStyleModel",
      "state": {
       "description_width": ""
      }
     },
     "42ae18198a3b4562943d3a6af45a4a44": {
      "model_module": "@jupyter-widgets/controls",
      "model_module_version": "1.5.0",
      "model_name": "TextModel",
      "state": {
       "continuous_update": false,
       "layout": "IPY_MODEL_9d2baabf83524d14b20e9d27b558ad14",
       "placeholder": "feat",
       "style": "IPY_MODEL_6224cb0776f34bf8afafdaf6f77b7249",
       "value": "PP"
      }
     },
     "42cc65fd926346efa7ca011850ace4eb": {
      "model_module": "@jupyter-widgets/controls",
      "model_module_version": "1.5.0",
      "model_name": "TextModel",
      "state": {
       "continuous_update": false,
       "description": "pdp=",
       "layout": "IPY_MODEL_2f741b88357f4c808fc3c9eb0bc6a098",
       "placeholder": "feat",
       "style": "IPY_MODEL_d9b0c0af87fd4bcd9f09a4b14621fc9b",
       "value": "prep"
      }
     },
     "42d36b3975f44d888098c7bc06eacdc4": {
      "model_module": "@jupyter-widgets/controls",
      "model_module_version": "1.5.0",
      "model_name": "TextModel",
      "state": {
       "continuous_update": false,
       "description": "pdp=",
       "layout": "IPY_MODEL_04f1ce2d4cda40bf95f907692b6d30f8",
       "placeholder": "feat",
       "style": "IPY_MODEL_e63a21f0bfc54cf6a56129bf3f535f93",
       "value": "subs"
      }
     },
     "438d8de1d6ae44f485b6b4f153b39813": {
      "model_module": "@jupyter-widgets/controls",
      "model_module_version": "1.5.0",
      "model_name": "TextModel",
      "state": {
       "continuous_update": false,
       "description": "pdp=",
       "layout": "IPY_MODEL_998193dda5ba4744897a9fd7f1881127",
       "placeholder": "feat",
       "style": "IPY_MODEL_e44fc7f1eae74d0bba7b8d7c0cc8c673",
       "value": "subs"
      }
     },
     "439f3e097adf4d399f80b5fa3a76c630": {
      "model_module": "@jupyter-widgets/controls",
      "model_module_version": "1.5.0",
      "model_name": "DescriptionStyleModel",
      "state": {
       "description_width": ""
      }
     },
     "43b060e7488945a0b2bff5d6e04bac3b": {
      "model_module": "@jupyter-widgets/controls",
      "model_module_version": "1.5.0",
      "model_name": "HTMLModel",
      "state": {
       "layout": "IPY_MODEL_264e65ad092d477ab783e47fe9b82a9e",
       "style": "IPY_MODEL_ac10cfeda2f144f18f03c79b342fcf89",
       "value": "bᵊ"
      }
     },
     "4431ea4aeeb04a5282cad53c51c27943": {
      "model_module": "@jupyter-widgets/controls",
      "model_module_version": "1.5.0",
      "model_name": "DescriptionStyleModel",
      "state": {
       "description_width": ""
      }
     },
     "443f638384ee4b85a5392223404bdc22": {
      "model_module": "@jupyter-widgets/controls",
      "model_module_version": "1.5.0",
      "model_name": "TextModel",
      "state": {
       "continuous_update": false,
       "description": "pdp=",
       "layout": "IPY_MODEL_740e27f9b923410ea3b36f1e5b08c0c3",
       "placeholder": "feat",
       "style": "IPY_MODEL_f6d9ffacc07f44d0a3c345bcdd5eaa00",
       "value": "subs"
      }
     },
     "44955c3c3c8c413ebcf3e9867fff232f": {
      "model_module": "@jupyter-widgets/controls",
      "model_module_version": "1.5.0",
      "model_name": "DescriptionStyleModel",
      "state": {
       "description_width": ""
      }
     },
     "44e6dd0d95d648cb8b5eddff5347e583": {
      "model_module": "@jupyter-widgets/controls",
      "model_module_version": "1.5.0",
      "model_name": "HTMLModel",
      "state": {
       "layout": "IPY_MODEL_f75ded8b87ee4d9398164535195e3672",
       "style": "IPY_MODEL_cf07e982691d4863b27f6fc542724154",
       "value": "word"
      }
     },
     "44edc8c99889494aab0b3f488e06c622": {
      "model_module": "@jupyter-widgets/base",
      "model_module_version": "1.2.0",
      "model_name": "LayoutModel",
      "state": {
       "align_content": "flex-start",
       "align_items": "flex-start",
       "flex": "auto 0 0",
       "justify_content": "flex-start",
       "overflow": "hidden"
      }
     },
     "45121352c3bb4397a211fb5bce2d8992": {
      "model_module": "@jupyter-widgets/controls",
      "model_module_version": "1.5.0",
      "model_name": "TextModel",
      "state": {
       "continuous_update": false,
       "description": "pdp=",
       "layout": "IPY_MODEL_4c7f21bcac3c469988c886892e35ad6d",
       "placeholder": "feat",
       "style": "IPY_MODEL_c9e5cc77c74f4a818f2e3f6c8d7e20c0",
       "value": "subs"
      }
     },
     "4530c369046b446a8141f372ffd2b16c": {
      "model_module": "@jupyter-widgets/base",
      "model_module_version": "1.2.0",
      "model_name": "LayoutModel",
      "state": {
       "align_content": "flex-start",
       "align_items": "flex-start",
       "border": "3px solid gray",
       "display": "inline-flex",
       "flex": "auto 0 0",
       "flex_flow": "column nowrap",
       "justify_content": "flex-start",
       "overflow": "auto"
      }
     },
     "454d69b1c4f24cdaaf8f014254ef68b1": {
      "model_module": "@jupyter-widgets/controls",
      "model_module_version": "1.5.0",
      "model_name": "DescriptionStyleModel",
      "state": {
       "description_width": ""
      }
     },
     "45786de46da44768b457bedeb03d489d": {
      "model_module": "@jupyter-widgets/controls",
      "model_module_version": "1.5.0",
      "model_name": "ButtonModel",
      "state": {
       "description": "Up to date",
       "disabled": true,
       "layout": "IPY_MODEL_3af177cf54904f0e8c2db0440ae2e7c8",
       "style": "IPY_MODEL_c0f6a14e4aa4421e8e7f6881bb654b15"
      }
     },
     "45fb57f83445439195d315157691bb29": {
      "model_module": "@jupyter-widgets/controls",
      "model_module_version": "1.5.0",
      "model_name": "DescriptionStyleModel",
      "state": {
       "description_width": ""
      }
     },
     "463991f5796f4af9afcd169ab9d12de1": {
      "model_module": "@jupyter-widgets/controls",
      "model_module_version": "1.5.0",
      "model_name": "BoxModel",
      "state": {
       "children": [
        "IPY_MODEL_144430d0d56840e79d66b6334a111b12",
        "IPY_MODEL_ce9447fe038941e8b938f3c5608a80bf",
        "IPY_MODEL_2278e811f94d4fb098dc4f9eddba0859",
        "IPY_MODEL_5f4ba49dca7a4cb69b8045aee7c17a50"
       ],
       "layout": "IPY_MODEL_bac71c97da8346ed8289636b87c63ac4"
      }
     },
     "4641d3b5acb345939a6658c24f3d808e": {
      "model_module": "@jupyter-widgets/controls",
      "model_module_version": "1.5.0",
      "model_name": "TextModel",
      "state": {
       "continuous_update": false,
       "description": "pdp=",
       "layout": "IPY_MODEL_07c4579bde2b4d29a545ad9ac1e8734f",
       "placeholder": "feat",
       "style": "IPY_MODEL_4431ea4aeeb04a5282cad53c51c27943",
       "value": "prep"
      }
     },
     "469eab716bf24e81a7ed738a77f1841e": {
      "model_module": "@jupyter-widgets/controls",
      "model_module_version": "1.5.0",
      "model_name": "TextModel",
      "state": {
       "continuous_update": false,
       "layout": "IPY_MODEL_2f741b88357f4c808fc3c9eb0bc6a098",
       "placeholder": "feat",
       "style": "IPY_MODEL_1764b268377e4883987d53f2bdb66a09",
       "value": "Time"
      }
     },
     "47c2f5c74b1241bb9f8383860837aff0": {
      "model_module": "@jupyter-widgets/controls",
      "model_module_version": "1.5.0",
      "model_name": "BoxModel",
      "state": {
       "children": [
        "IPY_MODEL_85906b5fbd1f4424b1c79b9cd7c85c1a",
        "IPY_MODEL_5b3f66fea8284539a95cdb29a7e19a6d",
        "IPY_MODEL_0616b2e3d25b49829c4c92a01cec963c"
       ],
       "layout": "IPY_MODEL_ae2f9c123c984fdd99c52c78f84fdb11"
      }
     },
     "47d6e52b05ff4b7a9447fba1630fb988": {
      "model_module": "@jupyter-widgets/controls",
      "model_module_version": "1.5.0",
      "model_name": "HTMLModel",
      "state": {
       "layout": "IPY_MODEL_00939393a17c47c18d0d77bc97ec88a7",
       "style": "IPY_MODEL_862eedf5ae5d4ee29f5ac5bc4c8dae87",
       "value": "word"
      }
     },
     "47db3f66d7b04315aae4f184994c241a": {
      "model_module": "@jupyter-widgets/controls",
      "model_module_version": "1.5.0",
      "model_name": "TextModel",
      "state": {
       "continuous_update": false,
       "layout": "IPY_MODEL_ed4491d0aceb4d65aad7e257a98b41e4",
       "placeholder": "feat",
       "style": "IPY_MODEL_36d72340c5c142bdac5a133b22bf56cb",
       "value": "beginning"
      }
     },
     "47ddb1db017c46a2bdb65c7d8802a5ae": {
      "model_module": "@jupyter-widgets/controls",
      "model_module_version": "1.5.0",
      "model_name": "TextModel",
      "state": {
       "continuous_update": false,
       "description": "pdp=",
       "layout": "IPY_MODEL_8de0c265d8cf4711b969eb197b477208",
       "placeholder": "feat",
       "style": "IPY_MODEL_9aee992022dc48daaa0e19664827d39e",
       "value": "prep"
      }
     },
     "482346b169324d308f3aa5ff45d8987f": {
      "model_module": "@jupyter-widgets/base",
      "model_module_version": "1.2.0",
      "model_name": "LayoutModel",
      "state": {
       "align_content": "flex-start",
       "align_items": "flex-start",
       "flex": "auto 0 0",
       "justify_content": "flex-start",
       "overflow": "hidden"
      }
     },
     "482b08eee2594d4d97fa0e9f8a2d1644": {
      "model_module": "@jupyter-widgets/controls",
      "model_module_version": "1.5.0",
      "model_name": "TextModel",
      "state": {
       "continuous_update": false,
       "description": "pdp=",
       "layout": "IPY_MODEL_55619af8f473438c9fd0cf8cb7d07840",
       "placeholder": "feat",
       "style": "IPY_MODEL_8a54324df7e647fd8409e87bf4dbc7b8",
       "value": "subs"
      }
     },
     "48708a8d0ab54945bff8a7c957bd8984": {
      "model_module": "@jupyter-widgets/controls",
      "model_module_version": "1.5.0",
      "model_name": "DescriptionStyleModel",
      "state": {
       "description_width": ""
      }
     },
     "48d942dcc9e34f998ab02b825bb3166d": {
      "model_module": "@jupyter-widgets/controls",
      "model_module_version": "1.5.0",
      "model_name": "TextModel",
      "state": {
       "description": "pdp=",
       "layout": "IPY_MODEL_4dd64f63d8c74848adbb5380a98d2229",
       "placeholder": "pdp",
       "style": "IPY_MODEL_7497bd409d764a15a699bb97eddec783",
       "value": "subs"
      }
     },
     "48f283c4659b473a95f7aa1ffeaed4c8": {
      "model_module": "@jupyter-widgets/controls",
      "model_module_version": "1.5.0",
      "model_name": "HTMLModel",
      "state": {
       "layout": "IPY_MODEL_72d2e5878f844b7aa594f3e4b6e7c04f",
       "style": "IPY_MODEL_f12178b421a244de8fdd004882cc0eeb",
       "value": "rēšˌîṯ"
      }
     },
     "490141f876bc498a9d95f722dc2424f8": {
      "model_module": "@jupyter-widgets/controls",
      "model_module_version": "1.5.0",
      "model_name": "TextModel",
      "state": {
       "continuous_update": false,
       "description": "pdp=",
       "layout": "IPY_MODEL_9d2baabf83524d14b20e9d27b558ad14",
       "placeholder": "feat",
       "style": "IPY_MODEL_0c0972ba97b34ed5b356f153b2926a2b",
       "value": "prep"
      }
     },
     "49319f377bc24362bac5d13174896b2a": {
      "model_module": "@jupyter-widgets/controls",
      "model_module_version": "1.5.0",
      "model_name": "HTMLModel",
      "state": {
       "layout": "IPY_MODEL_f75ded8b87ee4d9398164535195e3672",
       "style": "IPY_MODEL_8c0d93c9fc4f454980edea25ece00781",
       "value": "rēšˌîṯ"
      }
     },
     "493ea933caaa49d2a5dac992e9eaa9fd": {
      "model_module": "@jupyter-widgets/controls",
      "model_module_version": "1.5.0",
      "model_name": "BoxModel",
      "state": {
       "children": [
        "IPY_MODEL_ad083b9ae54043d09b2a31fa637ff180",
        "IPY_MODEL_3d086006a50f432da69ae3970c818441"
       ],
       "layout": "IPY_MODEL_a6fc42266d1548ed96211caf1da25aa1"
      }
     },
     "4986800c51e442d6aa5774713fabc25c": {
      "model_module": "@jupyter-widgets/controls",
      "model_module_version": "1.5.0",
      "model_name": "DescriptionStyleModel",
      "state": {
       "description_width": ""
      }
     },
     "49abace547e846c8b383eef7409b0a0d": {
      "model_module": "@jupyter-widgets/controls",
      "model_module_version": "1.5.0",
      "model_name": "ButtonStyleModel",
      "state": {}
     },
     "49cd3a40d0cf4e208b47899d22a9f28b": {
      "model_module": "@jupyter-widgets/controls",
      "model_module_version": "1.5.0",
      "model_name": "DescriptionStyleModel",
      "state": {
       "description_width": ""
      }
     },
     "49cd58151d9347faa727bc3fc299244f": {
      "model_module": "@jupyter-widgets/controls",
      "model_module_version": "1.5.0",
      "model_name": "DescriptionStyleModel",
      "state": {
       "description_width": ""
      }
     },
     "4a197b678e134ea2bad5b843625d6a49": {
      "model_module": "@jupyter-widgets/controls",
      "model_module_version": "1.5.0",
      "model_name": "TextModel",
      "state": {
       "continuous_update": false,
       "layout": "IPY_MODEL_ad6fb28bc9ea40e2a8ba091a0609133a",
       "placeholder": "feat",
       "style": "IPY_MODEL_996cfa00bffb4594b9a944a33543a63f",
       "value": "PPxx"
      }
     },
     "4a2871da8c9a405bb6dbd1edd05759b6": {
      "model_module": "@jupyter-widgets/controls",
      "model_module_version": "1.5.0",
      "model_name": "HTMLModel",
      "state": {
       "layout": "IPY_MODEL_4b6dda8a917b44f0a5edd8ec4a91af6d",
       "style": "IPY_MODEL_32fc2ea3d9c64111bc925e04b69d5bcb",
       "value": "<a\n  class=\"txtu hbo\"\n  href=\"https://shebanq.ancient-data.org/hebrew/word?version=2021&amp;id=1B\"\n  target=\"_blank\"\n  title=\"Show this on SHEBANQ\">\n        <span class=\"txtp\">\n         bᵊ\n        </span>\n       </a>"
      }
     },
     "4a582ec5fad44742a5d608afab248f48": {
      "model_module": "@jupyter-widgets/controls",
      "model_module_version": "1.5.0",
      "model_name": "HTMLModel",
      "state": {
       "layout": "IPY_MODEL_9d2baabf83524d14b20e9d27b558ad14",
       "style": "IPY_MODEL_7402cd7c09ab4204a2a11b31226c5fe8",
       "value": "phrase"
      }
     },
     "4a5cf04b120043d5a22c054bf24236d1": {
      "model_module": "@jupyter-widgets/controls",
      "model_module_version": "1.5.0",
      "model_name": "DescriptionStyleModel",
      "state": {
       "description_width": ""
      }
     },
     "4a6e73fa097040d5807409bf99201ded": {
      "model_module": "@jupyter-widgets/base",
      "model_module_version": "1.2.0",
      "model_name": "LayoutModel",
      "state": {
       "align_content": "flex-start",
       "align_items": "flex-start",
       "border": "1px solid gray",
       "display": "inline-flex",
       "flex": "auto 0 0",
       "flex_flow": "column nowrap",
       "justify_content": "flex-start",
       "overflow": "auto"
      }
     },
     "4a7cbf4ffadb47bfb476eabcad34dd51": {
      "model_module": "@jupyter-widgets/controls",
      "model_module_version": "1.5.0",
      "model_name": "DescriptionStyleModel",
      "state": {
       "description_width": ""
      }
     },
     "4ac26bebd9d9401c885f35c00a42891a": {
      "model_module": "@jupyter-widgets/controls",
      "model_module_version": "1.5.0",
      "model_name": "DescriptionStyleModel",
      "state": {
       "description_width": ""
      }
     },
     "4ade70c1ae4b44cc96f241f01d96ceca": {
      "model_module": "@jupyter-widgets/controls",
      "model_module_version": "1.5.0",
      "model_name": "BoxModel",
      "state": {
       "children": [
        "IPY_MODEL_f85ce27b830c42ae8e8b7d1ea676fa93",
        "IPY_MODEL_1651f63369f5466ab739f7435b30c9f8"
       ],
       "layout": "IPY_MODEL_930c8de6f4d54e1e912d28ea1052f87c"
      }
     },
     "4b2facc7df984336b942d19b55facf87": {
      "model_module": "@jupyter-widgets/controls",
      "model_module_version": "1.5.0",
      "model_name": "HTMLModel",
      "state": {
       "layout": "IPY_MODEL_55619af8f473438c9fd0cf8cb7d07840",
       "style": "IPY_MODEL_db0a3248c891411783d3335ed495c514",
       "value": "bᵊ"
      }
     },
     "4b6dda8a917b44f0a5edd8ec4a91af6d": {
      "model_module": "@jupyter-widgets/base",
      "model_module_version": "1.2.0",
      "model_name": "LayoutModel",
      "state": {
       "flex": "auto 1 1"
      }
     },
     "4bcaa12fd03240888b2cdc2c6dae3eea": {
      "model_module": "@jupyter-widgets/controls",
      "model_module_version": "1.5.0",
      "model_name": "DescriptionStyleModel",
      "state": {
       "description_width": ""
      }
     },
     "4bcd3ffbcbe742dd9a692979bf761cde": {
      "model_module": "@jupyter-widgets/controls",
      "model_module_version": "1.5.0",
      "model_name": "DescriptionStyleModel",
      "state": {
       "description_width": ""
      }
     },
     "4bd15a47ca484bf7815f2ec32151f0d0": {
      "model_module": "@jupyter-widgets/controls",
      "model_module_version": "1.5.0",
      "model_name": "DescriptionStyleModel",
      "state": {
       "description_width": ""
      }
     },
     "4c1e7d6d0d1d48a697caf8c59c831018": {
      "model_module": "@jupyter-widgets/controls",
      "model_module_version": "1.5.0",
      "model_name": "DescriptionStyleModel",
      "state": {
       "description_width": ""
      }
     },
     "4c1f6cf2084d465c9093c866cb6f1c53": {
      "model_module": "@jupyter-widgets/controls",
      "model_module_version": "1.5.0",
      "model_name": "DescriptionStyleModel",
      "state": {
       "description_width": ""
      }
     },
     "4c30cc09d06445b19855cce5070bf4da": {
      "model_module": "@jupyter-widgets/controls",
      "model_module_version": "1.5.0",
      "model_name": "DescriptionStyleModel",
      "state": {
       "description_width": ""
      }
     },
     "4c3e5461437947b7bbc5d411c104a827": {
      "model_module": "@jupyter-widgets/controls",
      "model_module_version": "1.5.0",
      "model_name": "DescriptionStyleModel",
      "state": {
       "description_width": ""
      }
     },
     "4c5fe1d8c8c6484ea33646b6f023ceb0": {
      "model_module": "@jupyter-widgets/controls",
      "model_module_version": "1.5.0",
      "model_name": "BoxModel",
      "state": {
       "children": [
        "IPY_MODEL_9837f97b15b34e49a2c8d94d9e0f3aff",
        "IPY_MODEL_1ce0601952df4d439482f7adaeff27d0",
        "IPY_MODEL_36093caca41c44acba59d60a76e863c9"
       ],
       "layout": "IPY_MODEL_77c65fb5db6e460bb3fcc7ce041b7629"
      }
     },
     "4c77a35e02254cc6b3e0cd86adb051bf": {
      "model_module": "@jupyter-widgets/controls",
      "model_module_version": "1.5.0",
      "model_name": "HTMLModel",
      "state": {
       "layout": "IPY_MODEL_3ce055c674334aa1b236f4338c837070",
       "style": "IPY_MODEL_7239d02a3a9b42838d24ae78b085f4dc",
       "value": "pdp="
      }
     },
     "4c7f21bcac3c469988c886892e35ad6d": {
      "model_module": "@jupyter-widgets/base",
      "model_module_version": "1.2.0",
      "model_name": "LayoutModel",
      "state": {
       "align_content": "flex-start",
       "align_items": "flex-start",
       "flex": "auto 0 0",
       "justify_content": "flex-start",
       "overflow": "hidden"
      }
     },
     "4d11640df4c84bc3b28fa20e2d3869e7": {
      "model_module": "@jupyter-widgets/controls",
      "model_module_version": "1.5.0",
      "model_name": "TextModel",
      "state": {
       "continuous_update": false,
       "layout": "IPY_MODEL_048cafd6b7354ca79c4b14a5e4b01aff",
       "placeholder": "feat",
       "style": "IPY_MODEL_2b4813d280a34ee098a78c1a7a104da3",
       "value": "in"
      }
     },
     "4d4ea3445a2842c995c7599b4de54382": {
      "model_module": "@jupyter-widgets/controls",
      "model_module_version": "1.5.0",
      "model_name": "TextModel",
      "state": {
       "continuous_update": false,
       "description": "pdp=",
       "layout": "IPY_MODEL_04f1ce2d4cda40bf95f907692b6d30f8",
       "placeholder": "feat",
       "style": "IPY_MODEL_1e5295cc85eb425db0fbfa84cff53cba",
       "value": "prep"
      }
     },
     "4d62172d892e4a65bb3bc4fc3e41c482": {
      "model_module": "@jupyter-widgets/base",
      "model_module_version": "1.2.0",
      "model_name": "LayoutModel",
      "state": {
       "align_content": "flex-start",
       "align_items": "flex-start",
       "border": "3px solid gray",
       "display": "inline-flex",
       "flex": "auto 0 0",
       "flex_flow": "row wrap",
       "justify_content": "flex-start",
       "overflow": "auto"
      }
     },
     "4d8df27a48e8405a949fa1331c074936": {
      "model_module": "@jupyter-widgets/base",
      "model_module_version": "1.2.0",
      "model_name": "LayoutModel",
      "state": {
       "border": "1px solid gray",
       "flex": "auto 0 0",
       "flex_flow": "column"
      }
     },
     "4d8f8f37911941c19485f657d231a942": {
      "model_module": "@jupyter-widgets/controls",
      "model_module_version": "1.5.0",
      "model_name": "TextModel",
      "state": {
       "continuous_update": false,
       "description": "pdp=",
       "layout": "IPY_MODEL_740e27f9b923410ea3b36f1e5b08c0c3",
       "placeholder": "feat",
       "style": "IPY_MODEL_20891fc21bac4e3982b4349856499123",
       "value": "prep"
      }
     },
     "4da77b14b0c24ad0aeac75e4562e98b8": {
      "model_module": "@jupyter-widgets/controls",
      "model_module_version": "1.5.0",
      "model_name": "BoxModel",
      "state": {
       "children": [
        "IPY_MODEL_b3598a438c1743239be4eb3aa5ee6f86",
        "IPY_MODEL_5ced26f2f9e740f7b12799f9fa056574"
       ],
       "layout": "IPY_MODEL_fb942de305d04b4e8fdcb97a5dd0d9da"
      }
     },
     "4dd64f63d8c74848adbb5380a98d2229": {
      "model_module": "@jupyter-widgets/base",
      "model_module_version": "1.2.0",
      "model_name": "LayoutModel",
      "state": {
       "flex": "auto 0 0"
      }
     },
     "4e0df450c92a44b6acb5c715a5a45937": {
      "model_module": "@jupyter-widgets/controls",
      "model_module_version": "1.5.0",
      "model_name": "DescriptionStyleModel",
      "state": {
       "description_width": ""
      }
     },
     "4e986fce196f443ba5e74553f2eabc3b": {
      "model_module": "@jupyter-widgets/controls",
      "model_module_version": "1.5.0",
      "model_name": "HTMLModel",
      "state": {
       "layout": "IPY_MODEL_0c216e9e06a84c8b9b6e355675304a73",
       "style": "IPY_MODEL_9f7e0570d9334ce293ac75584f5e2e95",
       "value": "phrase"
      }
     },
     "4eb4c8395102491087e9000892d0d1e2": {
      "model_module": "@jupyter-widgets/base",
      "model_module_version": "1.2.0",
      "model_name": "LayoutModel",
      "state": {
       "align_content": "flex-start",
       "align_items": "flex-start",
       "border": "3px solid gray",
       "display": "inline-flex",
       "flex": "auto 0 0",
       "flex_flow": "column nowrap",
       "justify_content": "flex-start",
       "overflow": "auto"
      }
     },
     "4ed645c41c0f4834bdafbf75ed34b5ff": {
      "model_module": "@jupyter-widgets/controls",
      "model_module_version": "1.5.0",
      "model_name": "BoxModel",
      "state": {
       "children": [
        "IPY_MODEL_56f0af324272448d8e79fd6bc0ce9224",
        "IPY_MODEL_749ac6087e38479396129a41d42b82ac",
        "IPY_MODEL_91fc8cba9a67414dbf348e2113e04ba3",
        "IPY_MODEL_c565577819074e86bfc1a9212b9a72f7"
       ],
       "layout": "IPY_MODEL_50e8694774624d85949bec3e6c545098"
      }
     },
     "4efd8b9a6de3490dacb08f5d52930799": {
      "model_module": "@jupyter-widgets/base",
      "model_module_version": "1.2.0",
      "model_name": "LayoutModel",
      "state": {}
     },
     "4f2be8a44a804c0f896d5cfe7f9f4e1f": {
      "model_module": "@jupyter-widgets/base",
      "model_module_version": "1.2.0",
      "model_name": "LayoutModel",
      "state": {
       "align_content": "flex-start",
       "align_items": "flex-start",
       "border": "1px solid gray",
       "flex": "auto 0 0",
       "flex_flow": "column",
       "justify_content": "flex-start"
      }
     },
     "4f4599a1bc0d4b14a484dabc5856948b": {
      "model_module": "@jupyter-widgets/controls",
      "model_module_version": "1.5.0",
      "model_name": "TextModel",
      "state": {
       "continuous_update": false,
       "layout": "IPY_MODEL_72d2e5878f844b7aa594f3e4b6e7c04f",
       "placeholder": "feat",
       "style": "IPY_MODEL_06eb66a9e7904b13868dbd630fdce4b4",
       "value": "beginning"
      }
     },
     "4f56b0e512e9460fa6a0a819d137422b": {
      "model_module": "@jupyter-widgets/controls",
      "model_module_version": "1.5.0",
      "model_name": "BoxModel",
      "state": {
       "children": [
        "IPY_MODEL_d9301c6d68ee40d5a64cee293bb54227",
        "IPY_MODEL_75b2e731b5b04221946407a663794c69",
        "IPY_MODEL_0b00022589724cb7927df8747b400398",
        "IPY_MODEL_e714a369d833424a848f6b7346bbe805"
       ],
       "layout": "IPY_MODEL_9f83c6ba64fa40cb9722cbe077e9c67d"
      }
     },
     "4f6ff29a79664f2c9097063e446f0730": {
      "model_module": "@jupyter-widgets/controls",
      "model_module_version": "1.5.0",
      "model_name": "TextModel",
      "state": {
       "layout": "IPY_MODEL_d307a580f49944ca8ea07fe6045a70fa",
       "placeholder": "gloss",
       "style": "IPY_MODEL_a0f7a96d8891489181eefbf3aaf4946b",
       "value": "in"
      }
     },
     "4f8403d93bb84e00ae8025b62575650c": {
      "model_module": "@jupyter-widgets/controls",
      "model_module_version": "1.5.0",
      "model_name": "DescriptionStyleModel",
      "state": {
       "description_width": ""
      }
     },
     "4f92989690654a9390d72327fed917f5": {
      "model_module": "@jupyter-widgets/controls",
      "model_module_version": "1.5.0",
      "model_name": "HTMLModel",
      "state": {
       "layout": "IPY_MODEL_fa180f2e33ef4f1c8f72bf9e210b3b81",
       "style": "IPY_MODEL_5f03a63b9e004216b7cfe6b65fe4de0a",
       "value": "pdp="
      }
     },
     "4faf9cf6dd7d405997de20512ea04edc": {
      "model_module": "@jupyter-widgets/controls",
      "model_module_version": "1.5.0",
      "model_name": "BoxModel",
      "state": {
       "children": [
        "IPY_MODEL_54a0c04c9f78415eafb439a6eca1ace2",
        "IPY_MODEL_20a9a9ba38b346678835bfb7391ee718"
       ],
       "layout": "IPY_MODEL_930c8de6f4d54e1e912d28ea1052f87c"
      }
     },
     "4fb1d0fec0aa4392903b2dfeda3fabcc": {
      "model_module": "@jupyter-widgets/controls",
      "model_module_version": "1.5.0",
      "model_name": "BoxModel",
      "state": {
       "children": [
        "IPY_MODEL_d7148448a00e43069067fa93f81215f9",
        "IPY_MODEL_c76316fcd2df465cade4e0e522c537be",
        "IPY_MODEL_7f553f5159d34933b6d0f45196e8e01f"
       ],
       "layout": "IPY_MODEL_1fa05bc88da74369b3ae7a1ffb23f3cb"
      }
     },
     "4fb39c7d31054f3abf630797b717cd5d": {
      "model_module": "@jupyter-widgets/controls",
      "model_module_version": "1.5.0",
      "model_name": "BoxModel",
      "state": {
       "children": [
        "IPY_MODEL_94a93358ac5a40edb46c1d9dc8f417e3",
        "IPY_MODEL_76a9c8ecd81c4faa8f9894f012e3789b"
       ],
       "layout": "IPY_MODEL_d96ae4dc94a0443ea49cfcb7e88b0b19"
      }
     },
     "4fd4f474745243d4887169f1b8cb0281": {
      "model_module": "@jupyter-widgets/base",
      "model_module_version": "1.2.0",
      "model_name": "LayoutModel",
      "state": {
       "border": "1px solid black"
      }
     },
     "503fb09216d947e6bbf6f8f7f7943742": {
      "model_module": "@jupyter-widgets/controls",
      "model_module_version": "1.5.0",
      "model_name": "ButtonStyleModel",
      "state": {}
     },
     "5083e41d5a034746b379a79ab7a9e95d": {
      "model_module": "@jupyter-widgets/controls",
      "model_module_version": "1.5.0",
      "model_name": "BoxModel",
      "state": {
       "children": [
        "IPY_MODEL_6e24add6cab543849b0750c710e60051",
        "IPY_MODEL_f86c3a05bfbc45ae8743ccdbfc7d8158",
        "IPY_MODEL_183beeae84f34cee9f144f18e3adc62b",
        "IPY_MODEL_42d36b3975f44d888098c7bc06eacdc4"
       ],
       "layout": "IPY_MODEL_19b7c1133cb346d982a59ba6b83e168c"
      }
     },
     "50c8757fa1c941df86b3aa694bc13c8a": {
      "model_module": "@jupyter-widgets/controls",
      "model_module_version": "1.5.0",
      "model_name": "TextModel",
      "state": {
       "continuous_update": false,
       "layout": "IPY_MODEL_4c7f21bcac3c469988c886892e35ad6d",
       "placeholder": "feat",
       "style": "IPY_MODEL_8be3df34f8b24c80b9274a0c4ae13493",
       "value": "beginning"
      }
     },
     "50e8694774624d85949bec3e6c545098": {
      "model_module": "@jupyter-widgets/base",
      "model_module_version": "1.2.0",
      "model_name": "LayoutModel",
      "state": {
       "align_content": "flex-start",
       "align_items": "flex-start",
       "border": "1px solid gray",
       "display": "inline-flex",
       "flex": "auto 0 0",
       "flex_flow": "column nowrap",
       "justify_content": "flex-start",
       "overflow": "auto"
      }
     },
     "518f69d73c2740678954faaa121dd116": {
      "model_module": "@jupyter-widgets/controls",
      "model_module_version": "1.5.0",
      "model_name": "TextModel",
      "state": {
       "continuous_update": false,
       "description": "pdp=",
       "layout": "IPY_MODEL_4c7f21bcac3c469988c886892e35ad6d",
       "placeholder": "feat",
       "style": "IPY_MODEL_e4c576293a564ef19ffdca959e4caab0",
       "value": "prep"
      }
     },
     "51b0a1683d5b48019b8e68ff43bc6275": {
      "model_module": "@jupyter-widgets/controls",
      "model_module_version": "1.5.0",
      "model_name": "DescriptionStyleModel",
      "state": {
       "description_width": ""
      }
     },
     "51f317970783404bb6953f0ee9e534eb": {
      "model_module": "@jupyter-widgets/base",
      "model_module_version": "1.2.0",
      "model_name": "LayoutModel",
      "state": {
       "align_content": "flex-start",
       "align_items": "flex-start",
       "border": "3px solid gray",
       "flex": "auto 0 0",
       "flex_flow": "column nowrap",
       "justify_content": "flex-start"
      }
     },
     "522e0940ab7840f188088c23519cae2b": {
      "model_module": "@jupyter-widgets/controls",
      "model_module_version": "1.5.0",
      "model_name": "BoxModel",
      "state": {
       "children": [
        "IPY_MODEL_21ddbea9889347948d58f19de0be264e",
        "IPY_MODEL_6db5ad6b0f3545a99b6bef13aeb2ccc1"
       ],
       "layout": "IPY_MODEL_798dbc2d777d40d59792549766f5e4f5"
      }
     },
     "525b0734b4c9464f8403faa9819d8831": {
      "model_module": "@jupyter-widgets/controls",
      "model_module_version": "1.5.0",
      "model_name": "BoxModel",
      "state": {
       "children": [
        "IPY_MODEL_3b5ce1d5fc034d52bd11efc653518124",
        "IPY_MODEL_cb3106b0507a4c9b897d0f7f83d62df0",
        "IPY_MODEL_86622a178eb541b5a6dc93511a16ca7a"
       ],
       "layout": "IPY_MODEL_dcce164b641d458e9bbf8554f477d6eb"
      }
     },
     "52e07198f06e416698514d374e3e5182": {
      "model_module": "@jupyter-widgets/controls",
      "model_module_version": "1.5.0",
      "model_name": "BoxModel",
      "state": {
       "children": [
        "IPY_MODEL_0ea79870db9a4701923b680205ef634d",
        "IPY_MODEL_d1127552caa3431084bf092a636fc6a6"
       ],
       "layout": "IPY_MODEL_75bd2c80e08c499e8d7495282919ee5e"
      }
     },
     "52fddf81c060478f9a36b5cca506b39c": {
      "model_module": "@jupyter-widgets/controls",
      "model_module_version": "1.5.0",
      "model_name": "BoxModel",
      "state": {
       "children": [
        "IPY_MODEL_382dde4bdff347b7a5912a524b5f3bc2",
        "IPY_MODEL_f7cf943c97004189a619b2583cbdc3be",
        "IPY_MODEL_e00f5f6adbe24222b2496c1bb031faba",
        "IPY_MODEL_10843b22290642a4bbcac9d7ac4fe4ad"
       ],
       "layout": "IPY_MODEL_4d8df27a48e8405a949fa1331c074936"
      }
     },
     "534c5d0014ea4419a60d98ed3aba5dea": {
      "model_module": "@jupyter-widgets/controls",
      "model_module_version": "1.5.0",
      "model_name": "BoxModel",
      "state": {
       "children": [
        "IPY_MODEL_e561c8c619c14a22a43890f5b3aaacbf",
        "IPY_MODEL_bc0128b5042e4e12a2d6fb1aab0f82b9"
       ],
       "layout": "IPY_MODEL_842b8251ecfe4eddbfff7738c45376c0"
      }
     },
     "53831289b97f4f0aa48541544926b3d8": {
      "model_module": "@jupyter-widgets/controls",
      "model_module_version": "1.5.0",
      "model_name": "DescriptionStyleModel",
      "state": {
       "description_width": ""
      }
     },
     "53b93971ca13438798116bd9e8c3c16f": {
      "model_module": "@jupyter-widgets/controls",
      "model_module_version": "1.5.0",
      "model_name": "TextModel",
      "state": {
       "continuous_update": false,
       "description": "pdp=",
       "layout": "IPY_MODEL_b39ca3c53f7744a68c6bb8fcca233870",
       "placeholder": "feat",
       "style": "IPY_MODEL_0447f6ff66274c8794614c0d11594035",
       "value": "subs"
      }
     },
     "53c8796b25d14924827335adacbf5df3": {
      "model_module": "@jupyter-widgets/base",
      "model_module_version": "1.2.0",
      "model_name": "LayoutModel",
      "state": {
       "border": "2px solid gray",
       "display": "inline-flex",
       "flex": "auto 0 1",
       "flex_flow": "column nowrap"
      }
     },
     "548f04530ad04c8c83416397f9e90930": {
      "model_module": "@jupyter-widgets/base",
      "model_module_version": "1.2.0",
      "model_name": "LayoutModel",
      "state": {
       "align_content": "flex-start",
       "align_items": "flex-start",
       "border": "3px solid gray",
       "display": "inline-flex",
       "flex": "auto 0 0",
       "flex_flow": "column nowrap",
       "justify_content": "flex-start",
       "overflow": "auto"
      }
     },
     "54a0c04c9f78415eafb439a6eca1ace2": {
      "model_module": "@jupyter-widgets/controls",
      "model_module_version": "1.5.0",
      "model_name": "BoxModel",
      "state": {
       "children": [
        "IPY_MODEL_5e163483e074403e95bc879ac22a494c",
        "IPY_MODEL_b9861a86d1924787bb906d10a9efd6a9",
        "IPY_MODEL_bf938ce84969496bb843c6819f73aaf0",
        "IPY_MODEL_5980837a7cd846e8b68b1e95bbaeaf9e"
       ],
       "layout": "IPY_MODEL_ff1546fd96e54f168944d02711d56e0e"
      }
     },
     "54ae778757f44dc0ab1bda04882bbc6d": {
      "model_module": "@jupyter-widgets/controls",
      "model_module_version": "1.5.0",
      "model_name": "HTMLModel",
      "state": {
       "layout": "IPY_MODEL_740e27f9b923410ea3b36f1e5b08c0c3",
       "style": "IPY_MODEL_ddd097b10e47446193b3b3f927ed9863",
       "value": "bᵊ"
      }
     },
     "54c718b9488e4744bba132c6eadf298a": {
      "model_module": "@jupyter-widgets/controls",
      "model_module_version": "1.5.0",
      "model_name": "TextModel",
      "state": {
       "continuous_update": false,
       "layout": "IPY_MODEL_482346b169324d308f3aa5ff45d8987f",
       "placeholder": "feat",
       "style": "IPY_MODEL_49cd3a40d0cf4e208b47899d22a9f28b",
       "value": "PP"
      }
     },
     "54c76119101348f7aa87311371aa873f": {
      "model_module": "@jupyter-widgets/controls",
      "model_module_version": "1.5.0",
      "model_name": "HTMLModel",
      "state": {
       "layout": "IPY_MODEL_364cd1c6573f4ed9aa3144fe6d2fd71e",
       "style": "IPY_MODEL_73d7957be8214e5b8663eae967ce22b0",
       "value": "phrase"
      }
     },
     "54ffa0418e4c435b82d8a63ff1e1be9f": {
      "model_module": "@jupyter-widgets/base",
      "model_module_version": "1.2.0",
      "model_name": "LayoutModel",
      "state": {
       "align_content": "flex-start",
       "align_items": "flex-start",
       "flex": "auto 0 0",
       "justify_content": "flex-start",
       "width": "100%"
      }
     },
     "552d1865c2154e20a9d6639e2b032746": {
      "model_module": "@jupyter-widgets/controls",
      "model_module_version": "1.5.0",
      "model_name": "BoxModel",
      "state": {
       "children": [
        "IPY_MODEL_f69f56e0b5f648b7ae022bb3ebd99b45",
        "IPY_MODEL_3f8f6516a56f48ae82ffc634bd2b009d"
       ],
       "layout": "IPY_MODEL_33811fe9c6e64034bbf6ddaa3526ce12"
      }
     },
     "55619af8f473438c9fd0cf8cb7d07840": {
      "model_module": "@jupyter-widgets/base",
      "model_module_version": "1.2.0",
      "model_name": "LayoutModel",
      "state": {
       "align_content": "flex-start",
       "align_items": "flex-start",
       "flex": "auto 0 0",
       "justify_content": "flex-start",
       "overflow": "hidden"
      }
     },
     "55b06f0f40ad40d7962a113543177bb2": {
      "model_module": "@jupyter-widgets/controls",
      "model_module_version": "1.5.0",
      "model_name": "TextModel",
      "state": {
       "continuous_update": false,
       "description": "pdp=",
       "layout": "IPY_MODEL_00939393a17c47c18d0d77bc97ec88a7",
       "placeholder": "feat",
       "style": "IPY_MODEL_9317de18228643e8bff436abd29968c1",
       "value": "subs"
      }
     },
     "55d3eb144fd64391a2abd7a64aa305b1": {
      "model_module": "@jupyter-widgets/controls",
      "model_module_version": "1.5.0",
      "model_name": "BoxModel",
      "state": {
       "children": [
        "IPY_MODEL_2625abb7262248ac910667c5d8fc32d2",
        "IPY_MODEL_a504927f65a544d996611699e6ffc086",
        "IPY_MODEL_418b776cba5d43d5b0d0bfc6909f1913"
       ],
       "layout": "IPY_MODEL_87ea183ef8294f5e81ce9cdb7873eb4c"
      }
     },
     "5646edf29d9b4b2297db078809bf3a9f": {
      "model_module": "@jupyter-widgets/controls",
      "model_module_version": "1.5.0",
      "model_name": "TextModel",
      "state": {
       "description": "pdp=",
       "layout": "IPY_MODEL_bf0de77b764547118f2b08517d675ed3",
       "placeholder": "pdp",
       "style": "IPY_MODEL_f252bc4f34464272a88a859932adc879",
       "value": "subs"
      }
     },
     "56a9817a863e498684ee5843712d790b": {
      "model_module": "@jupyter-widgets/controls",
      "model_module_version": "1.5.0",
      "model_name": "DescriptionStyleModel",
      "state": {
       "description_width": ""
      }
     },
     "56b5a25e16494ff696790ef8a9cd1acf": {
      "model_module": "@jupyter-widgets/base",
      "model_module_version": "1.2.0",
      "model_name": "LayoutModel",
      "state": {
       "align_content": "flex-start",
       "align_items": "flex-start",
       "flex": "auto 0 0",
       "justify_content": "flex-start",
       "overflow": "hidden"
      }
     },
     "56f0af324272448d8e79fd6bc0ce9224": {
      "model_module": "@jupyter-widgets/controls",
      "model_module_version": "1.5.0",
      "model_name": "HTMLModel",
      "state": {
       "layout": "IPY_MODEL_482346b169324d308f3aa5ff45d8987f",
       "style": "IPY_MODEL_b6aaff42d96f4ca68541b713ea8834ab",
       "value": "word"
      }
     },
     "56f387cd886e4ce59b9bdcf2c2e18a92": {
      "model_module": "@jupyter-widgets/base",
      "model_module_version": "1.2.0",
      "model_name": "LayoutModel",
      "state": {
       "align_content": "flex-start",
       "align_items": "flex-start",
       "border": "3px solid gray",
       "display": "inline-flex",
       "flex": "auto 0 0",
       "flex_flow": "column nowrap",
       "justify_content": "flex-start",
       "overflow": "auto"
      }
     },
     "571207cf610e4fc992f1ce729ca486e1": {
      "model_module": "@jupyter-widgets/controls",
      "model_module_version": "1.5.0",
      "model_name": "DescriptionStyleModel",
      "state": {
       "description_width": ""
      }
     },
     "575518d330034d8fbf89d68f13af486d": {
      "model_module": "@jupyter-widgets/base",
      "model_module_version": "1.2.0",
      "model_name": "LayoutModel",
      "state": {
       "align_content": "flex-start",
       "align_items": "flex-start",
       "border": "3px solid gray",
       "display": "inline-flex",
       "flex": "auto 0 0",
       "flex_flow": "row wrap",
       "justify_content": "flex-start",
       "overflow": "auto"
      }
     },
     "575706b709aa4f829656baaa41aa009a": {
      "model_module": "@jupyter-widgets/base",
      "model_module_version": "1.2.0",
      "model_name": "LayoutModel",
      "state": {
       "align_content": "flex-start",
       "align_items": "flex-start",
       "border": "1px solid gray",
       "display": "inline-flex",
       "flex": "auto 0 0",
       "flex_flow": "column nowrap",
       "justify_content": "flex-start",
       "overflow": "auto"
      }
     },
     "5762736f5d904118bc507102081b1ed3": {
      "model_module": "@jupyter-widgets/controls",
      "model_module_version": "1.5.0",
      "model_name": "BoxModel",
      "state": {
       "children": [
        "IPY_MODEL_b283fd362c0f49768692fb470477c621",
        "IPY_MODEL_bde3818d9e9b45c18d1fb7d725df5610",
        "IPY_MODEL_c639736f5e324651b3c9d3e27a0accdd"
       ],
       "layout": "IPY_MODEL_ff1546fd96e54f168944d02711d56e0e"
      }
     },
     "57adfdba779b4b9bb0cbb35f695c0995": {
      "model_module": "@jupyter-widgets/controls",
      "model_module_version": "1.5.0",
      "model_name": "ButtonModel",
      "state": {
       "description": "Up to date",
       "disabled": true,
       "layout": "IPY_MODEL_2123b25fbf0a4d50954281981f070a14",
       "style": "IPY_MODEL_fce61d14682441f0a5d7d66d6b09aa3c"
      }
     },
     "57b9ffcc8bf441afb0e46278a6b97076": {
      "model_module": "@jupyter-widgets/controls",
      "model_module_version": "1.5.0",
      "model_name": "HTMLModel",
      "state": {
       "layout": "IPY_MODEL_482346b169324d308f3aa5ff45d8987f",
       "style": "IPY_MODEL_48708a8d0ab54945bff8a7c957bd8984",
       "value": "word"
      }
     },
     "57ef186ee5a04e9b98eb494ef0ab3089": {
      "model_module": "@jupyter-widgets/controls",
      "model_module_version": "1.5.0",
      "model_name": "DescriptionStyleModel",
      "state": {
       "description_width": ""
      }
     },
     "58474b77c5dd4ed985ae5df751e228b8": {
      "model_module": "@jupyter-widgets/base",
      "model_module_version": "1.2.0",
      "model_name": "LayoutModel",
      "state": {
       "align_items": "flex-start",
       "border": "2px solid #eeeeee",
       "display": "flex",
       "flex": "auto 0 0",
       "flex_flow": "column nowrap",
       "overflow": "auto"
      }
     },
     "5860ac1bbd3446dc815551e0511172d7": {
      "model_module": "@jupyter-widgets/controls",
      "model_module_version": "1.5.0",
      "model_name": "BoxModel",
      "state": {
       "children": [
        "IPY_MODEL_d2cc757087474b1687842e8ba2733091",
        "IPY_MODEL_7e9fe7a635234297a5efb08c62021754",
        "IPY_MODEL_e92b4e3596f54f9888daa553dca42224"
       ],
       "layout": "IPY_MODEL_d96ae4dc94a0443ea49cfcb7e88b0b19"
      }
     },
     "5870e037634c45a1af4c0866466f1fb3": {
      "model_module": "@jupyter-widgets/controls",
      "model_module_version": "1.5.0",
      "model_name": "DescriptionStyleModel",
      "state": {
       "description_width": ""
      }
     },
     "58c32340c2e849bcb673a15a2439c801": {
      "model_module": "@jupyter-widgets/base",
      "model_module_version": "1.2.0",
      "model_name": "LayoutModel",
      "state": {}
     },
     "58d6b701453f42fe9c48cb73eb20e6c5": {
      "model_module": "@jupyter-widgets/controls",
      "model_module_version": "1.5.0",
      "model_name": "HTMLModel",
      "state": {
       "layout": "IPY_MODEL_07c4579bde2b4d29a545ad9ac1e8734f",
       "style": "IPY_MODEL_3bb709eff8ed4bbca162f47a499ed3b8",
       "value": "word"
      }
     },
     "5921c7a7bcf34c07a9e18eca78235133": {
      "model_module": "@jupyter-widgets/controls",
      "model_module_version": "1.5.0",
      "model_name": "DescriptionStyleModel",
      "state": {
       "description_width": ""
      }
     },
     "5952a1bcf42a4f35ab340ce1224c0646": {
      "model_module": "@jupyter-widgets/controls",
      "model_module_version": "1.5.0",
      "model_name": "BoxModel",
      "state": {
       "children": [
        "IPY_MODEL_aad69c7f032a4a04b7eb47a8753bc0f2",
        "IPY_MODEL_09890fb5b4e04957a00e78a84e9229a8",
        "IPY_MODEL_35724f73f15b4664b14012bf3404c330"
       ],
       "layout": "IPY_MODEL_4f2be8a44a804c0f896d5cfe7f9f4e1f"
      }
     },
     "5980837a7cd846e8b68b1e95bbaeaf9e": {
      "model_module": "@jupyter-widgets/controls",
      "model_module_version": "1.5.0",
      "model_name": "TextModel",
      "state": {
       "continuous_update": false,
       "description": "pdp=",
       "layout": "IPY_MODEL_b39ca3c53f7744a68c6bb8fcca233870",
       "placeholder": "feat",
       "style": "IPY_MODEL_1540800daa8144038dcb572950d6d873",
       "value": "prep"
      }
     },
     "598f945d1c904224b9cfefdfeaee8f72": {
      "model_module": "@jupyter-widgets/controls",
      "model_module_version": "1.5.0",
      "model_name": "DescriptionStyleModel",
      "state": {
       "description_width": ""
      }
     },
     "59b12afb96e4409986a9c07a9c35bd94": {
      "model_module": "@jupyter-widgets/controls",
      "model_module_version": "1.5.0",
      "model_name": "TextModel",
      "state": {
       "continuous_update": false,
       "layout": "IPY_MODEL_4c7f21bcac3c469988c886892e35ad6d",
       "placeholder": "feat",
       "style": "IPY_MODEL_439f3e097adf4d399f80b5fa3a76c630",
       "value": "in"
      }
     },
     "5a11ee4efff34dc5b77bb52dad6e0d83": {
      "model_module": "@jupyter-widgets/controls",
      "model_module_version": "1.5.0",
      "model_name": "DescriptionStyleModel",
      "state": {
       "description_width": ""
      }
     },
     "5a17b73e342247c090cbf8ee5762e6fa": {
      "model_module": "@jupyter-widgets/controls",
      "model_module_version": "1.5.0",
      "model_name": "DescriptionStyleModel",
      "state": {
       "description_width": ""
      }
     },
     "5a8ca54042614f08b30af12e20dc5588": {
      "model_module": "@jupyter-widgets/base",
      "model_module_version": "1.2.0",
      "model_name": "LayoutModel",
      "state": {
       "align_content": "flex-start",
       "align_items": "flex-start",
       "border": "3px solid gray",
       "display": "inline-flex",
       "flex": "auto 0 0",
       "flex_flow": "column nowrap",
       "justify_content": "flex-start",
       "overflow": "auto"
      }
     },
     "5a9a4c7218dc42599411feb6ee2e37c7": {
      "model_module": "@jupyter-widgets/controls",
      "model_module_version": "1.5.0",
      "model_name": "DescriptionStyleModel",
      "state": {
       "description_width": ""
      }
     },
     "5ab9255b5ce64c679dfd0fafc0fa8d58": {
      "model_module": "@jupyter-widgets/controls",
      "model_module_version": "1.5.0",
      "model_name": "ButtonModel",
      "state": {
       "description": "node 651573 feature typ changed from 'PP' to 'PPxx'. Click to save",
       "layout": "IPY_MODEL_71218c89543c498db4a67f854c58c6fd",
       "style": "IPY_MODEL_6d2a612db9eb42589dfc2b1f27b2499d"
      }
     },
     "5ac6d83a87a6483a9412faf723737e99": {
      "model_module": "@jupyter-widgets/controls",
      "model_module_version": "1.5.0",
      "model_name": "TextModel",
      "state": {
       "continuous_update": false,
       "description": "pdp=",
       "layout": "IPY_MODEL_55619af8f473438c9fd0cf8cb7d07840",
       "placeholder": "feat",
       "style": "IPY_MODEL_df4ce8146e9545089c2f20a6163489f8",
       "value": "prep"
      }
     },
     "5b3f66fea8284539a95cdb29a7e19a6d": {
      "model_module": "@jupyter-widgets/controls",
      "model_module_version": "1.5.0",
      "model_name": "ButtonModel",
      "state": {
       "description": "Up to date",
       "disabled": true,
       "layout": "IPY_MODEL_076fa701ad8c412987c68435180d5a68",
       "style": "IPY_MODEL_503fb09216d947e6bbf6f8f7f7943742"
      }
     },
     "5b92bb0a425249b18d53ceb90bd6a7e0": {
      "model_module": "@jupyter-widgets/controls",
      "model_module_version": "1.5.0",
      "model_name": "HTMLModel",
      "state": {
       "layout": "IPY_MODEL_ed4491d0aceb4d65aad7e257a98b41e4",
       "style": "IPY_MODEL_44955c3c3c8c413ebcf3e9867fff232f",
       "value": "word"
      }
     },
     "5bbd6857bc684b36b8d9b37b7d634f05": {
      "model_module": "@jupyter-widgets/controls",
      "model_module_version": "1.5.0",
      "model_name": "TextModel",
      "state": {
       "continuous_update": false,
       "layout": "IPY_MODEL_364cd1c6573f4ed9aa3144fe6d2fd71e",
       "placeholder": "feat",
       "style": "IPY_MODEL_204614151de041349e38fb4437866b4c",
       "value": "Time"
      }
     },
     "5bcef6a120fe4a3980f78bd2272cabac": {
      "model_module": "@jupyter-widgets/controls",
      "model_module_version": "1.5.0",
      "model_name": "ButtonModel",
      "state": {
       "description": "Up to date",
       "disabled": true,
       "layout": "IPY_MODEL_23d8e8eb75a84decb58b3282a41e4a2a",
       "style": "IPY_MODEL_d4c0270137de405ca0f8d050964ca811"
      }
     },
     "5bff357b6d5b41c8b66a8f969af48c67": {
      "model_module": "@jupyter-widgets/controls",
      "model_module_version": "1.5.0",
      "model_name": "HTMLModel",
      "state": {
       "layout": "IPY_MODEL_740e27f9b923410ea3b36f1e5b08c0c3",
       "style": "IPY_MODEL_7bdd8231f5334fd09088516f94a58a22",
       "value": "word"
      }
     },
     "5c1bf8597f494b768e03254657e41fad": {
      "model_module": "@jupyter-widgets/controls",
      "model_module_version": "1.5.0",
      "model_name": "TextModel",
      "state": {
       "continuous_update": false,
       "description": "pdp=",
       "layout": "IPY_MODEL_2f741b88357f4c808fc3c9eb0bc6a098",
       "placeholder": "feat",
       "style": "IPY_MODEL_6fed5f59c9e24c799e74aecb4e4da442",
       "value": "subs"
      }
     },
     "5c2a863aec984d96b1f292c2858d33c4": {
      "model_module": "@jupyter-widgets/controls",
      "model_module_version": "1.5.0",
      "model_name": "TextModel",
      "state": {
       "continuous_update": false,
       "description": "pdp=",
       "layout": "IPY_MODEL_ed4491d0aceb4d65aad7e257a98b41e4",
       "placeholder": "feat",
       "style": "IPY_MODEL_e44157fdb6f54b1e85dd82572a5b06f8",
       "value": "prep"
      }
     },
     "5c841aef35fa4b4bbfb9a48f097b9c77": {
      "model_module": "@jupyter-widgets/controls",
      "model_module_version": "1.5.0",
      "model_name": "DescriptionStyleModel",
      "state": {
       "description_width": ""
      }
     },
     "5c9262386d0243b1a82c9265d015173e": {
      "model_module": "@jupyter-widgets/controls",
      "model_module_version": "1.5.0",
      "model_name": "TextModel",
      "state": {
       "continuous_update": false,
       "layout": "IPY_MODEL_28ef28c84dda496080c0768c6cd6a2a9",
       "placeholder": "feat",
       "style": "IPY_MODEL_66b8d3084e5a43a39a93477f064bbaab",
       "value": "Time"
      }
     },
     "5c9d2fb5357848c296708bfd8a0d0c41": {
      "model_module": "@jupyter-widgets/controls",
      "model_module_version": "1.5.0",
      "model_name": "TextModel",
      "state": {
       "continuous_update": false,
       "layout": "IPY_MODEL_b39ca3c53f7744a68c6bb8fcca233870",
       "placeholder": "feat",
       "style": "IPY_MODEL_e7dd1acb8d2a45e9980b7a26fd84a32b",
       "value": "Time"
      }
     },
     "5cbb68e4b7dd4160bd514494d3ff7ef1": {
      "model_module": "@jupyter-widgets/base",
      "model_module_version": "1.2.0",
      "model_name": "LayoutModel",
      "state": {
       "border": "3px solid gray",
       "flex": "auto 0 1",
       "flex_flow": "row"
      }
     },
     "5ced26f2f9e740f7b12799f9fa056574": {
      "model_module": "@jupyter-widgets/controls",
      "model_module_version": "1.5.0",
      "model_name": "BoxModel",
      "state": {
       "children": [
        "IPY_MODEL_27ca3f36cb46460f911d89a0e536e7bc",
        "IPY_MODEL_cc5011156a144a1bb37e3933c02c073a",
        "IPY_MODEL_fd5ca78d9ee240aa978240fa6b43d1b0",
        "IPY_MODEL_443f638384ee4b85a5392223404bdc22"
       ],
       "layout": "IPY_MODEL_dcce164b641d458e9bbf8554f477d6eb"
      }
     },
     "5d0de64335fa407fbcded514e10ac9c3": {
      "model_module": "@jupyter-widgets/controls",
      "model_module_version": "1.5.0",
      "model_name": "DescriptionStyleModel",
      "state": {
       "description_width": ""
      }
     },
     "5d1b930ce4404b79ac0bdae089c52046": {
      "model_module": "@jupyter-widgets/controls",
      "model_module_version": "1.5.0",
      "model_name": "BoxModel",
      "state": {
       "children": [
        "IPY_MODEL_9e9293bcfc1640bf95ffc811aaf14591",
        "IPY_MODEL_79bbe67692e9489892f349a6be8a3564",
        "IPY_MODEL_3269837fb473425480fb43f1992be232"
       ],
       "layout": "IPY_MODEL_7fe9a9527b0c45319455c92e06127806"
      }
     },
     "5e163483e074403e95bc879ac22a494c": {
      "model_module": "@jupyter-widgets/controls",
      "model_module_version": "1.5.0",
      "model_name": "HTMLModel",
      "state": {
       "layout": "IPY_MODEL_b39ca3c53f7744a68c6bb8fcca233870",
       "style": "IPY_MODEL_04f2375197364acba32dd5732a1fad7c",
       "value": "word"
      }
     },
     "5e2d5324f1f347989f61ef85c2d3b09f": {
      "model_module": "@jupyter-widgets/controls",
      "model_module_version": "1.5.0",
      "model_name": "DescriptionStyleModel",
      "state": {
       "description_width": ""
      }
     },
     "5e5650c420694b9991c70669ea2faca7": {
      "model_module": "@jupyter-widgets/controls",
      "model_module_version": "1.5.0",
      "model_name": "ButtonModel",
      "state": {
       "description": "Up to date",
       "disabled": true,
       "layout": "IPY_MODEL_94c1a86cd44443c39722381e09fea0d0",
       "style": "IPY_MODEL_163d6a1d207546558f740437ec96fe07"
      }
     },
     "5e71cec30e6a4af4a5fdd3d7433a0c21": {
      "model_module": "@jupyter-widgets/controls",
      "model_module_version": "1.5.0",
      "model_name": "DescriptionStyleModel",
      "state": {
       "description_width": ""
      }
     },
     "5ec529d6128c4a298eb5d77bd4a7fd4a": {
      "model_module": "@jupyter-widgets/controls",
      "model_module_version": "1.5.0",
      "model_name": "DescriptionStyleModel",
      "state": {
       "description_width": ""
      }
     },
     "5ed460c74ced441b92d422360317e10c": {
      "model_module": "@jupyter-widgets/controls",
      "model_module_version": "1.5.0",
      "model_name": "DescriptionStyleModel",
      "state": {
       "description_width": ""
      }
     },
     "5ed742d7c5f341409cd3dc8b98b22259": {
      "model_module": "@jupyter-widgets/controls",
      "model_module_version": "1.5.0",
      "model_name": "TextModel",
      "state": {
       "continuous_update": false,
       "layout": "IPY_MODEL_2f741b88357f4c808fc3c9eb0bc6a098",
       "placeholder": "feat",
       "style": "IPY_MODEL_aa520686dde44093a8c1eed71e8c9c30",
       "value": "PPxx"
      }
     },
     "5edefff6a0a04b88b2d7b61bc30040a5": {
      "model_module": "@jupyter-widgets/controls",
      "model_module_version": "1.5.0",
      "model_name": "DescriptionStyleModel",
      "state": {
       "description_width": ""
      }
     },
     "5eff7fc0ac174149bfd388f0d0e0321d": {
      "model_module": "@jupyter-widgets/controls",
      "model_module_version": "1.5.0",
      "model_name": "HTMLModel",
      "state": {
       "layout": "IPY_MODEL_28ef28c84dda496080c0768c6cd6a2a9",
       "style": "IPY_MODEL_4bcaa12fd03240888b2cdc2c6dae3eea",
       "value": "word"
      }
     },
     "5f03a63b9e004216b7cfe6b65fe4de0a": {
      "model_module": "@jupyter-widgets/controls",
      "model_module_version": "1.5.0",
      "model_name": "DescriptionStyleModel",
      "state": {
       "description_width": ""
      }
     },
     "5f0e7c2cba884bc09c7dffed6b3be01d": {
      "model_module": "@jupyter-widgets/controls",
      "model_module_version": "1.5.0",
      "model_name": "BoxModel",
      "state": {
       "children": [
        "IPY_MODEL_8fa6ad3b41d64353baa47300a66368b3",
        "IPY_MODEL_54c718b9488e4744bba132c6eadf298a",
        "IPY_MODEL_c94834cdaa3943fe9823ca9914bc8afa"
       ],
       "layout": "IPY_MODEL_50e8694774624d85949bec3e6c545098"
      }
     },
     "5f12c4b91b0343e99e964c630ecc82b2": {
      "model_module": "@jupyter-widgets/controls",
      "model_module_version": "1.5.0",
      "model_name": "TextModel",
      "state": {
       "continuous_update": false,
       "layout": "IPY_MODEL_72d2e5878f844b7aa594f3e4b6e7c04f",
       "placeholder": "feat",
       "style": "IPY_MODEL_39009b12b31a4cd5aa97a63281539793",
       "value": "beginning"
      }
     },
     "5f4ba49dca7a4cb69b8045aee7c17a50": {
      "model_module": "@jupyter-widgets/controls",
      "model_module_version": "1.5.0",
      "model_name": "TextModel",
      "state": {
       "continuous_update": false,
       "description": "pdp=",
       "layout": "IPY_MODEL_fcbf3ee01ffe466dbdf5ac76fe08f70a",
       "placeholder": "feat",
       "style": "IPY_MODEL_66bef6b0f924479abe143e70da5205b8",
       "value": "prep"
      }
     },
     "6101d38f7ede4d60bb2359c651225722": {
      "model_module": "@jupyter-widgets/controls",
      "model_module_version": "1.5.0",
      "model_name": "HTMLModel",
      "state": {
       "layout": "IPY_MODEL_998193dda5ba4744897a9fd7f1881127",
       "style": "IPY_MODEL_3d94be22c4424c188b03aad5015fa845",
       "value": "phrase"
      }
     },
     "6103c7efca7a40709988ab561e2c62de": {
      "model_module": "@jupyter-widgets/controls",
      "model_module_version": "1.5.0",
      "model_name": "DescriptionStyleModel",
      "state": {
       "description_width": ""
      }
     },
     "61158d70f07a4216a7b6fb9d9d299d39": {
      "model_module": "@jupyter-widgets/controls",
      "model_module_version": "1.5.0",
      "model_name": "BoxModel",
      "state": {
       "children": [
        "IPY_MODEL_308e8a64dc204fb68ec6c1b6269c26f9",
        "IPY_MODEL_a5e16ef176f14516aaadb529c1a87c98",
        "IPY_MODEL_e734dd0343f44bdc9077ddc411c4d0b6"
       ],
       "layout": "IPY_MODEL_33aec3a07566491f9157f40616d75c59"
      }
     },
     "6167a54a4b424bde83abcfdc50d16335": {
      "model_module": "@jupyter-widgets/base",
      "model_module_version": "1.2.0",
      "model_name": "LayoutModel",
      "state": {
       "align_items": "stretch",
       "border": "2px solid #eeeeee",
       "display": "flex",
       "flex": "auto 0 0",
       "flex_flow": "column nowrap",
       "overflow": "auto"
      }
     },
     "616fbf93edde4ab6a61f7ba36863585f": {
      "model_module": "@jupyter-widgets/controls",
      "model_module_version": "1.5.0",
      "model_name": "TextModel",
      "state": {
       "continuous_update": false,
       "description": "pdp=",
       "layout": "IPY_MODEL_048cafd6b7354ca79c4b14a5e4b01aff",
       "placeholder": "feat",
       "style": "IPY_MODEL_299bb126af0144998b4402324afb5f2e",
       "value": "prep"
      }
     },
     "617c5cd6a4a845b7949c5870299b17dd": {
      "model_module": "@jupyter-widgets/controls",
      "model_module_version": "1.5.0",
      "model_name": "DescriptionStyleModel",
      "state": {
       "description_width": ""
      }
     },
     "61917d09222b4372ae6f0266ef86c0e7": {
      "model_module": "@jupyter-widgets/controls",
      "model_module_version": "1.5.0",
      "model_name": "DescriptionStyleModel",
      "state": {
       "description_width": ""
      }
     },
     "61a3796ee8534ab581fa8900df5ebe6a": {
      "model_module": "@jupyter-widgets/base",
      "model_module_version": "1.2.0",
      "model_name": "LayoutModel",
      "state": {
       "border": "2px solid gray",
       "flex": "auto 0 1",
       "flex_flow": "column",
       "width": "15em"
      }
     },
     "61d1356cd27d409394985dcbd4fd67d0": {
      "model_module": "@jupyter-widgets/controls",
      "model_module_version": "1.5.0",
      "model_name": "BoxModel",
      "state": {
       "children": [
        "IPY_MODEL_8759702fa92c4d1fb0eef3b1bcf63535",
        "IPY_MODEL_f166b1f571dc4926a0d441673d281715",
        "IPY_MODEL_9e80f1ff970749bc842c3bede446eeb3",
        "IPY_MODEL_482b08eee2594d4d97fa0e9f8a2d1644"
       ],
       "layout": "IPY_MODEL_1294f9b4dc7b4f52b6a0e4cc29dc6625"
      }
     },
     "61dacc9a21a6473b9e8fc48cd5a3f313": {
      "model_module": "@jupyter-widgets/controls",
      "model_module_version": "1.5.0",
      "model_name": "DescriptionStyleModel",
      "state": {
       "description_width": ""
      }
     },
     "6224cb0776f34bf8afafdaf6f77b7249": {
      "model_module": "@jupyter-widgets/controls",
      "model_module_version": "1.5.0",
      "model_name": "DescriptionStyleModel",
      "state": {
       "description_width": ""
      }
     },
     "624d20f997d745f6ae5bb990b627dcc4": {
      "model_module": "@jupyter-widgets/controls",
      "model_module_version": "1.5.0",
      "model_name": "DescriptionStyleModel",
      "state": {
       "description_width": ""
      }
     },
     "625dee1a95754720877d35cc130be2b4": {
      "model_module": "@jupyter-widgets/base",
      "model_module_version": "1.2.0",
      "model_name": "LayoutModel",
      "state": {
       "align_items": "stretch",
       "border": "2px solid #eeeeee",
       "display": "flex",
       "flex": "auto 0 0",
       "flex_flow": "column nowrap",
       "overflow": "auto"
      }
     },
     "625ee40f73d14cd4b7bb234e7d6eeb9c": {
      "model_module": "@jupyter-widgets/controls",
      "model_module_version": "1.5.0",
      "model_name": "DescriptionStyleModel",
      "state": {
       "description_width": ""
      }
     },
     "62681645cd914fd8b9c23b5b999d88f8": {
      "model_module": "@jupyter-widgets/controls",
      "model_module_version": "1.5.0",
      "model_name": "DescriptionStyleModel",
      "state": {
       "description_width": ""
      }
     },
     "6277567e691f4c269d468e0f2697f9e5": {
      "model_module": "@jupyter-widgets/controls",
      "model_module_version": "1.5.0",
      "model_name": "DescriptionStyleModel",
      "state": {
       "description_width": ""
      }
     },
     "627c4dd39bac48988346e2035fde4b3c": {
      "model_module": "@jupyter-widgets/base",
      "model_module_version": "1.2.0",
      "model_name": "LayoutModel",
      "state": {
       "flex": "auto 1 1"
      }
     },
     "6292c23062c140bca4a8b4d931d680c5": {
      "model_module": "@jupyter-widgets/controls",
      "model_module_version": "1.5.0",
      "model_name": "DescriptionStyleModel",
      "state": {
       "description_width": ""
      }
     },
     "62adafd7c30f4e18bd713c9cea7870e5": {
      "model_module": "@jupyter-widgets/controls",
      "model_module_version": "1.5.0",
      "model_name": "BoxModel",
      "state": {
       "children": [
        "IPY_MODEL_c88cc7a3bb654287a968b1617953f281",
        "IPY_MODEL_cd1f1a57b3ee4b9e9a094ae4aaf484b2"
       ],
       "layout": "IPY_MODEL_cb5acbc20f6b4ae59cd2ba3884697076"
      }
     },
     "62fe594dbba14c82af14111e9ffadd53": {
      "model_module": "@jupyter-widgets/base",
      "model_module_version": "1.2.0",
      "model_name": "LayoutModel",
      "state": {
       "align_content": "flex-start",
       "align_items": "flex-start",
       "border": "3px solid gray",
       "display": "inline-flex",
       "flex": "auto 0 0",
       "flex_flow": "row wrap",
       "justify_content": "flex-start",
       "overflow": "auto"
      }
     },
     "63b7fa3e2afe4b88a3fdbced645b36f0": {
      "model_module": "@jupyter-widgets/controls",
      "model_module_version": "1.5.0",
      "model_name": "BoxModel",
      "state": {
       "children": [
        "IPY_MODEL_7e24f61563764b14b3a08d7811845053",
        "IPY_MODEL_986e11922b884740b07aeef2d0e2ed80"
       ],
       "layout": "IPY_MODEL_9ae4545af37946e48e8c3e47e1529120"
      }
     },
     "63d7757ac90044bebfa9912af737ee8f": {
      "model_module": "@jupyter-widgets/base",
      "model_module_version": "1.2.0",
      "model_name": "LayoutModel",
      "state": {
       "border": "3px solid gray",
       "flex": "auto 0 1",
       "flex_flow": "column"
      }
     },
     "63f439c8f735424b8bf70cecf991c58d": {
      "model_module": "@jupyter-widgets/controls",
      "model_module_version": "1.5.0",
      "model_name": "ButtonStyleModel",
      "state": {}
     },
     "644a5ea998f94e7694cc8dca6826dd05": {
      "model_module": "@jupyter-widgets/controls",
      "model_module_version": "1.5.0",
      "model_name": "DescriptionStyleModel",
      "state": {
       "description_width": ""
      }
     },
     "646270778f5e477b9340bff96f1e07f2": {
      "model_module": "@jupyter-widgets/controls",
      "model_module_version": "1.5.0",
      "model_name": "TextModel",
      "state": {
       "continuous_update": false,
       "layout": "IPY_MODEL_2f741b88357f4c808fc3c9eb0bc6a098",
       "placeholder": "feat",
       "style": "IPY_MODEL_2ad9ed548585493cb0e27279c8965920",
       "value": "in"
      }
     },
     "6473dda2915f41ed964de8ff103afadb": {
      "model_module": "@jupyter-widgets/base",
      "model_module_version": "1.2.0",
      "model_name": "LayoutModel",
      "state": {
       "flex": "auto 0 0",
       "overflow": "auto"
      }
     },
     "647a406a8a2046898e7afbdd5024fe49": {
      "model_module": "@jupyter-widgets/controls",
      "model_module_version": "1.5.0",
      "model_name": "TextModel",
      "state": {
       "continuous_update": false,
       "layout": "IPY_MODEL_098553acf751448fbd093ebef7a99dfe",
       "placeholder": "feat",
       "style": "IPY_MODEL_bd718f8562944c98a90c2bba8705d959",
       "value": "beginning"
      }
     },
     "6487fd52505d4c41916477098932fa3b": {
      "model_module": "@jupyter-widgets/controls",
      "model_module_version": "1.5.0",
      "model_name": "HTMLModel",
      "state": {
       "layout": "IPY_MODEL_048cafd6b7354ca79c4b14a5e4b01aff",
       "style": "IPY_MODEL_e1cac4aa0d2b45e09fb8a6413a5133f2",
       "value": "word"
      }
     },
     "648d38ed369c4db79665779bf4446062": {
      "model_module": "@jupyter-widgets/controls",
      "model_module_version": "1.5.0",
      "model_name": "TextModel",
      "state": {
       "continuous_update": false,
       "layout": "IPY_MODEL_20248d44181a4940977002cc4ba35e3b",
       "placeholder": "feat",
       "style": "IPY_MODEL_82a1640a54c7417695f621a6a35d358c",
       "value": "in"
      }
     },
     "64f7c585fbf6468395c46eb2da0d4e34": {
      "model_module": "@jupyter-widgets/controls",
      "model_module_version": "1.5.0",
      "model_name": "TextModel",
      "state": {
       "continuous_update": false,
       "description": "pdp=",
       "layout": "IPY_MODEL_264e65ad092d477ab783e47fe9b82a9e",
       "placeholder": "feat",
       "style": "IPY_MODEL_339cbebd69ff4f419a1d1c708dbed386",
       "value": "subs"
      }
     },
     "65008a7bebb242fa8fc06c6446720887": {
      "model_module": "@jupyter-widgets/controls",
      "model_module_version": "1.5.0",
      "model_name": "DescriptionStyleModel",
      "state": {
       "description_width": ""
      }
     },
     "65134bc219e84fa891b3ac60e3f05ebf": {
      "model_module": "@jupyter-widgets/controls",
      "model_module_version": "1.5.0",
      "model_name": "DescriptionStyleModel",
      "state": {
       "description_width": ""
      }
     },
     "6518aea4709d47f69c3bbe29f840827f": {
      "model_module": "@jupyter-widgets/controls",
      "model_module_version": "1.5.0",
      "model_name": "HTMLModel",
      "state": {
       "layout": "IPY_MODEL_72d2e5878f844b7aa594f3e4b6e7c04f",
       "style": "IPY_MODEL_a7c1d762746d47e6858171428a06727f",
       "value": "word"
      }
     },
     "6529a9578bb541b3878a2c7bf8a0b101": {
      "model_module": "@jupyter-widgets/controls",
      "model_module_version": "1.5.0",
      "model_name": "DescriptionStyleModel",
      "state": {
       "description_width": ""
      }
     },
     "65354358149b4d0ea158813f98c74c05": {
      "model_module": "@jupyter-widgets/controls",
      "model_module_version": "1.5.0",
      "model_name": "TextModel",
      "state": {
       "continuous_update": false,
       "layout": "IPY_MODEL_04f1ce2d4cda40bf95f907692b6d30f8",
       "placeholder": "feat",
       "style": "IPY_MODEL_d69981ef393148acb33065c8177a2beb",
       "value": "Time"
      }
     },
     "6567731bd0544eb8a4de23677006b897": {
      "model_module": "@jupyter-widgets/controls",
      "model_module_version": "1.5.0",
      "model_name": "BoxModel",
      "state": {
       "children": [
        "IPY_MODEL_a47f7978749e418ca587cc5babf0cd47",
        "IPY_MODEL_18b71a264ca7498582330ac50ef41a2f"
       ],
       "layout": "IPY_MODEL_d1293eace5574e489d0326c2b8c05b68"
      }
     },
     "65940c765a8d418eb200cc580793e93f": {
      "model_module": "@jupyter-widgets/controls",
      "model_module_version": "1.5.0",
      "model_name": "DescriptionStyleModel",
      "state": {
       "description_width": ""
      }
     },
     "65e2e53b56a74268a264cf826e46b8fc": {
      "model_module": "@jupyter-widgets/controls",
      "model_module_version": "1.5.0",
      "model_name": "HTMLModel",
      "state": {
       "layout": "IPY_MODEL_8a9ee8dc3ad345768107421409c1d90d",
       "style": "IPY_MODEL_ecde6dd5f25b44abb1183e6c65257dac",
       "value": "<a\n  class=\"txtu hbo\"\n  href=\"https://shebanq.ancient-data.org/hebrew/word?version=2021&amp;id=1B\"\n  target=\"_blank\"\n  title=\"Show this on SHEBANQ\">\n        <span class=\"txtp\">\n         bᵊ\n        </span>\n       </a>"
      }
     },
     "65f7983d09db4bac98f143bc157dd865": {
      "model_module": "@jupyter-widgets/controls",
      "model_module_version": "1.5.0",
      "model_name": "TextModel",
      "state": {
       "continuous_update": false,
       "layout": "IPY_MODEL_b39ca3c53f7744a68c6bb8fcca233870",
       "placeholder": "feat",
       "style": "IPY_MODEL_6529a9578bb541b3878a2c7bf8a0b101",
       "value": "in"
      }
     },
     "66563256276549b28bd133f9901235ac": {
      "model_module": "@jupyter-widgets/controls",
      "model_module_version": "1.5.0",
      "model_name": "DescriptionStyleModel",
      "state": {
       "description_width": ""
      }
     },
     "6670321dc3d54ebdae8fcff60b913242": {
      "model_module": "@jupyter-widgets/controls",
      "model_module_version": "1.5.0",
      "model_name": "BoxModel",
      "state": {
       "children": [
        "IPY_MODEL_678e9d6241854c908d9697ea004e97dd",
        "IPY_MODEL_095d2b7cc999480abb74fdd01e6035f2"
       ],
       "layout": "IPY_MODEL_f41bfdb3c1304ddd94f7bac6cdfc65c0"
      }
     },
     "6688f6763a3046a795d71e6548efdfc5": {
      "model_module": "@jupyter-widgets/base",
      "model_module_version": "1.2.0",
      "model_name": "LayoutModel",
      "state": {
       "align_items": "stretch",
       "border": "2px solid #eeeeee",
       "display": "flex",
       "flex": "auto 0 0",
       "flex_flow": "column nowrap",
       "overflow": "auto"
      }
     },
     "66b8d3084e5a43a39a93477f064bbaab": {
      "model_module": "@jupyter-widgets/controls",
      "model_module_version": "1.5.0",
      "model_name": "DescriptionStyleModel",
      "state": {
       "description_width": ""
      }
     },
     "66bef6b0f924479abe143e70da5205b8": {
      "model_module": "@jupyter-widgets/controls",
      "model_module_version": "1.5.0",
      "model_name": "DescriptionStyleModel",
      "state": {
       "description_width": ""
      }
     },
     "66df9ee86a6945b8981fc7b7d7c6daac": {
      "model_module": "@jupyter-widgets/controls",
      "model_module_version": "1.5.0",
      "model_name": "HTMLModel",
      "state": {
       "layout": "IPY_MODEL_fcbf3ee01ffe466dbdf5ac76fe08f70a",
       "style": "IPY_MODEL_9731c3472446455f9bd91bdbf245dfb5",
       "value": "rēšˌîṯ"
      }
     },
     "6714e6ebda5040ddb45f9ce1a9bd64cb": {
      "model_module": "@jupyter-widgets/base",
      "model_module_version": "1.2.0",
      "model_name": "LayoutModel",
      "state": {
       "align_content": "stretch",
       "align_items": "center",
       "border": "2px solid #eeeeee",
       "display": "flex",
       "flex": "auto 0 0",
       "flex_flow": "column nowrap",
       "justify_content": "center",
       "overflow": "auto"
      }
     },
     "676af5ddfdae48f48fe24f34db67fc49": {
      "model_module": "@jupyter-widgets/controls",
      "model_module_version": "1.5.0",
      "model_name": "TextModel",
      "state": {
       "layout": "IPY_MODEL_bf0de77b764547118f2b08517d675ed3",
       "placeholder": "function",
       "style": "IPY_MODEL_65134bc219e84fa891b3ac60e3f05ebf",
       "value": "Time"
      }
     },
     "676b2c486b244fa7b5b38f29acc3ee2a": {
      "model_module": "@jupyter-widgets/controls",
      "model_module_version": "1.5.0",
      "model_name": "ButtonStyleModel",
      "state": {}
     },
     "676f561fdaec45c6ba4c7df4894719e0": {
      "model_module": "@jupyter-widgets/controls",
      "model_module_version": "1.5.0",
      "model_name": "DescriptionStyleModel",
      "state": {
       "description_width": ""
      }
     },
     "678e9d6241854c908d9697ea004e97dd": {
      "model_module": "@jupyter-widgets/controls",
      "model_module_version": "1.5.0",
      "model_name": "HTMLModel",
      "state": {
       "layout": "IPY_MODEL_89045927e8e349e8868791db1d69a80f",
       "style": "IPY_MODEL_6f8d411a474d4d039333cecfb295f21b",
       "value": "pdp="
      }
     },
     "67ac90bba8e84bdea53b608d24d5b262": {
      "model_module": "@jupyter-widgets/controls",
      "model_module_version": "1.5.0",
      "model_name": "BoxModel",
      "state": {
       "children": [
        "IPY_MODEL_e93cda82749f4db1b50cddcacc0f5108",
        "IPY_MODEL_94891baf485a4ebb80813c93c360925e"
       ],
       "layout": "IPY_MODEL_6be8e93b38584957a9aff9cd79dd0384"
      }
     },
     "67d2345964fd4f7cb974d82201a375df": {
      "model_module": "@jupyter-widgets/controls",
      "model_module_version": "1.5.0",
      "model_name": "BoxModel",
      "state": {
       "children": [
        "IPY_MODEL_29420512df304e18b9e4798452941e24",
        "IPY_MODEL_850b7738a5b64acabb3f10f1545997f2"
       ],
       "layout": "IPY_MODEL_e2a1466045b340b58167d8124808ca27"
      }
     },
     "6811b25676d44727b9d44f099e169ca4": {
      "model_module": "@jupyter-widgets/controls",
      "model_module_version": "1.5.0",
      "model_name": "DescriptionStyleModel",
      "state": {
       "description_width": ""
      }
     },
     "681a1113cb1242d2a70de94b991026a6": {
      "model_module": "@jupyter-widgets/controls",
      "model_module_version": "1.5.0",
      "model_name": "DescriptionStyleModel",
      "state": {
       "description_width": ""
      }
     },
     "686f16f2beee4fc0a84d4f80249cc780": {
      "model_module": "@jupyter-widgets/controls",
      "model_module_version": "1.5.0",
      "model_name": "HTMLModel",
      "state": {
       "layout": "IPY_MODEL_56b5a25e16494ff696790ef8a9cd1acf",
       "style": "IPY_MODEL_76a7db1145bf467ebfb56afee5e5acb5",
       "value": "word"
      }
     },
     "68a54a6c8a1a4846ab4050302dc6b289": {
      "model_module": "@jupyter-widgets/controls",
      "model_module_version": "1.5.0",
      "model_name": "TextModel",
      "state": {
       "continuous_update": false,
       "layout": "IPY_MODEL_72d2e5878f844b7aa594f3e4b6e7c04f",
       "placeholder": "feat",
       "style": "IPY_MODEL_7b772ef674d94025a63671268c11b689",
       "value": "Time"
      }
     },
     "68c4033427ea4fada08d68f812de89d2": {
      "model_module": "@jupyter-widgets/controls",
      "model_module_version": "1.5.0",
      "model_name": "TextModel",
      "state": {
       "continuous_update": false,
       "description": "pdp=",
       "layout": "IPY_MODEL_9d2baabf83524d14b20e9d27b558ad14",
       "placeholder": "feat",
       "style": "IPY_MODEL_78b744ce591b492e8e31560fc47173d2",
       "value": "subs"
      }
     },
     "68c475d33b1a4a9694c8325a659be435": {
      "model_module": "@jupyter-widgets/controls",
      "model_module_version": "1.5.0",
      "model_name": "HTMLModel",
      "state": {
       "layout": "IPY_MODEL_04f1ce2d4cda40bf95f907692b6d30f8",
       "style": "IPY_MODEL_7dcb4947a2c34588b864c2c43ba19327",
       "value": "phrase"
      }
     },
     "68e37cc7d3c547f39163d3cc94eb7c5e": {
      "model_module": "@jupyter-widgets/base",
      "model_module_version": "1.2.0",
      "model_name": "LayoutModel",
      "state": {
       "border": "1px solid gray",
       "display": "inline-flex",
       "flex": "auto 0 1",
       "flex_flow": "row"
      }
     },
     "690e500c7fec452e950ffb6a365f4152": {
      "model_module": "@jupyter-widgets/controls",
      "model_module_version": "1.5.0",
      "model_name": "HTMLModel",
      "state": {
       "layout": "IPY_MODEL_fcbf3ee01ffe466dbdf5ac76fe08f70a",
       "style": "IPY_MODEL_5edefff6a0a04b88b2d7b61bc30040a5",
       "value": "phrase"
      }
     },
     "69751c0c3b8a427285c2b702633b1802": {
      "model_module": "@jupyter-widgets/controls",
      "model_module_version": "1.5.0",
      "model_name": "HTMLModel",
      "state": {
       "layout": "IPY_MODEL_82e3d868650f4c398c4df1567b38dd58",
       "style": "IPY_MODEL_de728d6fb2c049d4aadc9bada21779b9",
       "value": "<a\n  class=\"txtu hbo\"\n  href=\"https://shebanq.ancient-data.org/hebrew/word?version=2021&amp;id=1B\"\n  target=\"_blank\"\n  title=\"Show this on SHEBANQ\">\n        <span class=\"txtp\">\n         bᵊ\n        </span>\n       </a>"
      }
     },
     "6a765ff8eedf4ffab66ef1374a132706": {
      "model_module": "@jupyter-widgets/controls",
      "model_module_version": "1.5.0",
      "model_name": "DescriptionStyleModel",
      "state": {
       "description_width": ""
      }
     },
     "6ab9c2ad40e9417a82ba5191c2908c97": {
      "model_module": "@jupyter-widgets/controls",
      "model_module_version": "1.5.0",
      "model_name": "HTMLModel",
      "state": {
       "layout": "IPY_MODEL_04f1ce2d4cda40bf95f907692b6d30f8",
       "style": "IPY_MODEL_395146135109484c95ca79a3326cf640",
       "value": "bᵊ"
      }
     },
     "6adca9c17ab74bc39afe7576e4ae363f": {
      "model_module": "@jupyter-widgets/controls",
      "model_module_version": "1.5.0",
      "model_name": "DescriptionStyleModel",
      "state": {
       "description_width": ""
      }
     },
     "6b4c424b3cd44de2af90eb97b10881b3": {
      "model_module": "@jupyter-widgets/controls",
      "model_module_version": "1.5.0",
      "model_name": "DescriptionStyleModel",
      "state": {
       "description_width": ""
      }
     },
     "6bb1475dd50848769c557868b18b7e1b": {
      "model_module": "@jupyter-widgets/controls",
      "model_module_version": "1.5.0",
      "model_name": "DescriptionStyleModel",
      "state": {
       "description_width": ""
      }
     },
     "6bcbcdf558ac4c74a53ef76d8ecb3a8e": {
      "model_module": "@jupyter-widgets/controls",
      "model_module_version": "1.5.0",
      "model_name": "DescriptionStyleModel",
      "state": {
       "description_width": ""
      }
     },
     "6be8e93b38584957a9aff9cd79dd0384": {
      "model_module": "@jupyter-widgets/base",
      "model_module_version": "1.2.0",
      "model_name": "LayoutModel",
      "state": {
       "align_content": "flex-start",
       "align_items": "flex-start",
       "border": "3px solid gray",
       "display": "inline-flex",
       "flex": "auto 0 0",
       "flex_flow": "row wrap",
       "justify_content": "flex-start",
       "overflow": "auto"
      }
     },
     "6c3c5c7d7cfc4230835f72df2a07a108": {
      "model_module": "@jupyter-widgets/controls",
      "model_module_version": "1.5.0",
      "model_name": "BoxModel",
      "state": {
       "children": [
        "IPY_MODEL_e7d3e3255751415baa99b75802f400b6",
        "IPY_MODEL_8570d550f59b4585b62251946353db00",
        "IPY_MODEL_959824a5ee984dc984bb5418ec6126b2",
        "IPY_MODEL_188133eadd084f7cb0198526a5c12309"
       ],
       "layout": "IPY_MODEL_7fe9a9527b0c45319455c92e06127806"
      }
     },
     "6c6d678978a4415dbc0e6b4bb3725108": {
      "model_module": "@jupyter-widgets/controls",
      "model_module_version": "1.5.0",
      "model_name": "DescriptionStyleModel",
      "state": {
       "description_width": ""
      }
     },
     "6cd2700a2e7b48bda092296594c56d71": {
      "model_module": "@jupyter-widgets/base",
      "model_module_version": "1.2.0",
      "model_name": "LayoutModel",
      "state": {
       "border": "2px solid gray",
       "display": "inline-flex",
       "flex": "auto 0 1",
       "flex_flow": "column nowrap",
       "overflow": "auto"
      }
     },
     "6d1957b0a3674887bdf6859a9d9c8568": {
      "model_module": "@jupyter-widgets/controls",
      "model_module_version": "1.5.0",
      "model_name": "TextModel",
      "state": {
       "continuous_update": false,
       "layout": "IPY_MODEL_c98e258fce024947ae6249726835859c",
       "placeholder": "feat",
       "style": "IPY_MODEL_76a5814c479141ae99810de6fb5ef8bb",
       "value": "PP"
      }
     },
     "6d1ae029902d44a09c43e86cee3eff91": {
      "model_module": "@jupyter-widgets/controls",
      "model_module_version": "1.5.0",
      "model_name": "DescriptionStyleModel",
      "state": {
       "description_width": ""
      }
     },
     "6d2a612db9eb42589dfc2b1f27b2499d": {
      "model_module": "@jupyter-widgets/controls",
      "model_module_version": "1.5.0",
      "model_name": "ButtonStyleModel",
      "state": {}
     },
     "6d2dd688d93449fa953a0a5c3599f301": {
      "model_module": "@jupyter-widgets/controls",
      "model_module_version": "1.5.0",
      "model_name": "BoxModel",
      "state": {
       "children": [
        "IPY_MODEL_d2c0831d339140dabd13f7f01caa224a",
        "IPY_MODEL_0cd662ffc0a14251b8a98ff288e44363",
        "IPY_MODEL_af77a6e030db41e895cf36a81ac25df6"
       ],
       "layout": "IPY_MODEL_6eaaff4862e1420f943b774350fc8845"
      }
     },
     "6d8cea1a5aad49d5803830ebb51cb8c8": {
      "model_module": "@jupyter-widgets/controls",
      "model_module_version": "1.5.0",
      "model_name": "DescriptionStyleModel",
      "state": {
       "description_width": ""
      }
     },
     "6db5ad6b0f3545a99b6bef13aeb2ccc1": {
      "model_module": "@jupyter-widgets/controls",
      "model_module_version": "1.5.0",
      "model_name": "BoxModel",
      "state": {
       "children": [
        "IPY_MODEL_7706774246f74104b408efcb64b4ac12",
        "IPY_MODEL_36c1e9ce89be4317a5f533de1d64ccde",
        "IPY_MODEL_8f44b2252f5b418ba83789b421f54801",
        "IPY_MODEL_438d8de1d6ae44f485b6b4f153b39813"
       ],
       "layout": "IPY_MODEL_e9c39436724f4921b0fb479361de0405"
      }
     },
     "6dd1babdbd774ab6b9a7e7e9454fddd4": {
      "model_module": "@jupyter-widgets/controls",
      "model_module_version": "1.5.0",
      "model_name": "DescriptionStyleModel",
      "state": {
       "description_width": ""
      }
     },
     "6e11860f4ee94eb5a7de89c757d427c6": {
      "model_module": "@jupyter-widgets/controls",
      "model_module_version": "1.5.0",
      "model_name": "DescriptionStyleModel",
      "state": {
       "description_width": ""
      }
     },
     "6e24add6cab543849b0750c710e60051": {
      "model_module": "@jupyter-widgets/controls",
      "model_module_version": "1.5.0",
      "model_name": "HTMLModel",
      "state": {
       "layout": "IPY_MODEL_04f1ce2d4cda40bf95f907692b6d30f8",
       "style": "IPY_MODEL_732cd9eb6cc94713b6dbfeb93429b8d8",
       "value": "word"
      }
     },
     "6e4e4167241b4d1d9b270a8f6eeab762": {
      "model_module": "@jupyter-widgets/controls",
      "model_module_version": "1.5.0",
      "model_name": "BoxModel",
      "state": {
       "children": [
        "IPY_MODEL_6c3c5c7d7cfc4230835f72df2a07a108",
        "IPY_MODEL_2093b0c4ccaf40668777fec0544dbf5e"
       ],
       "layout": "IPY_MODEL_97423c81af2c49819ff6e0e32936b8cf"
      }
     },
     "6e50087071f94711b594d0eec123721d": {
      "model_module": "@jupyter-widgets/controls",
      "model_module_version": "1.5.0",
      "model_name": "DescriptionStyleModel",
      "state": {
       "description_width": ""
      }
     },
     "6e62bee393054400be007d3de633c226": {
      "model_module": "@jupyter-widgets/controls",
      "model_module_version": "1.5.0",
      "model_name": "DescriptionStyleModel",
      "state": {
       "description_width": ""
      }
     },
     "6e732e3aa7974535ae9f94b1c3afad03": {
      "model_module": "@jupyter-widgets/controls",
      "model_module_version": "1.5.0",
      "model_name": "BoxModel",
      "state": {
       "children": [
        "IPY_MODEL_d1301411a92945cb935a52f3e4f26ee3",
        "IPY_MODEL_bba8fb7efbb3498ab2117d203d93f722"
       ],
       "layout": "IPY_MODEL_e7a8eea5c38947d3b1044858f257d1a5"
      }
     },
     "6eaaff4862e1420f943b774350fc8845": {
      "model_module": "@jupyter-widgets/base",
      "model_module_version": "1.2.0",
      "model_name": "LayoutModel",
      "state": {
       "align_content": "flex-start",
       "align_items": "flex-start",
       "border": "1px solid gray",
       "display": "inline-flex",
       "flex": "auto 0 0",
       "flex_flow": "column nowrap",
       "justify_content": "flex-start",
       "overflow": "auto"
      }
     },
     "6ee1916c98594ad6b46e51d89224a3e1": {
      "model_module": "@jupyter-widgets/controls",
      "model_module_version": "1.5.0",
      "model_name": "TextModel",
      "state": {
       "continuous_update": false,
       "description": "pdp=",
       "layout": "IPY_MODEL_56b5a25e16494ff696790ef8a9cd1acf",
       "placeholder": "feat",
       "style": "IPY_MODEL_d31ed92355fd413995a2288c11100fb9",
       "value": "subs"
      }
     },
     "6ee30195027b4f72b7c732a25c06d011": {
      "model_module": "@jupyter-widgets/controls",
      "model_module_version": "1.5.0",
      "model_name": "HTMLModel",
      "state": {
       "layout": "IPY_MODEL_b39ca3c53f7744a68c6bb8fcca233870",
       "style": "IPY_MODEL_8c2547f426e54ed4b063c0058f75f291",
       "value": "word"
      }
     },
     "6ee76809f60348e6a98fe90ce76e4717": {
      "model_module": "@jupyter-widgets/controls",
      "model_module_version": "1.5.0",
      "model_name": "DescriptionStyleModel",
      "state": {
       "description_width": ""
      }
     },
     "6f5c5d14ac704558b5c00f40470544bb": {
      "model_module": "@jupyter-widgets/controls",
      "model_module_version": "1.5.0",
      "model_name": "ButtonModel",
      "state": {
       "description": "Save",
       "disabled": true,
       "layout": "IPY_MODEL_89e14fa6022147229cad977a48b9cfe6",
       "style": "IPY_MODEL_8e0cb9569ad842eb97c84fa382e8a33c"
      }
     },
     "6f8d411a474d4d039333cecfb295f21b": {
      "model_module": "@jupyter-widgets/controls",
      "model_module_version": "1.5.0",
      "model_name": "DescriptionStyleModel",
      "state": {
       "description_width": ""
      }
     },
     "6fc01117f47d4816913864cae920ac06": {
      "model_module": "@jupyter-widgets/controls",
      "model_module_version": "1.5.0",
      "model_name": "TextModel",
      "state": {
       "layout": "IPY_MODEL_02a737450c1540b3acbd98f3efc870fb",
       "placeholder": "typ",
       "style": "IPY_MODEL_28873d6aba4547a5b2b57c1d24302237",
       "value": "PP"
      }
     },
     "6fc17b071e5941f0a8e9b404a8e0c9f5": {
      "model_module": "@jupyter-widgets/base",
      "model_module_version": "1.2.0",
      "model_name": "LayoutModel",
      "state": {
       "align_content": "flex-start",
       "align_items": "flex-start",
       "border": "3px solid gray",
       "display": "inline-flex",
       "flex": "auto 0 0",
       "flex_flow": "row wrap",
       "justify_content": "flex-start",
       "overflow": "auto"
      }
     },
     "6fea3a72a3bb4ec7a207755fd8dbf011": {
      "model_module": "@jupyter-widgets/controls",
      "model_module_version": "1.5.0",
      "model_name": "DescriptionStyleModel",
      "state": {
       "description_width": ""
      }
     },
     "6fed5f59c9e24c799e74aecb4e4da442": {
      "model_module": "@jupyter-widgets/controls",
      "model_module_version": "1.5.0",
      "model_name": "DescriptionStyleModel",
      "state": {
       "description_width": ""
      }
     },
     "70231fe1df4a4b50a701d7a022812fe2": {
      "model_module": "@jupyter-widgets/base",
      "model_module_version": "1.2.0",
      "model_name": "LayoutModel",
      "state": {
       "align_content": "flex-start",
       "align_items": "flex-start",
       "border": "3px solid gray",
       "display": "inline-flex",
       "flex": "auto 0 0",
       "flex_flow": "column nowrap",
       "justify_content": "flex-start",
       "overflow": "auto"
      }
     },
     "7043b0dd96f34545a0fc76629f50bb6d": {
      "model_module": "@jupyter-widgets/controls",
      "model_module_version": "1.5.0",
      "model_name": "TextModel",
      "state": {
       "continuous_update": false,
       "description": "pdp=",
       "layout": "IPY_MODEL_72d2e5878f844b7aa594f3e4b6e7c04f",
       "placeholder": "feat",
       "style": "IPY_MODEL_4f8403d93bb84e00ae8025b62575650c",
       "value": "prep"
      }
     },
     "70457e4307b64df782ef8f0fb2aa7272": {
      "model_module": "@jupyter-widgets/controls",
      "model_module_version": "1.5.0",
      "model_name": "HTMLModel",
      "state": {
       "layout": "IPY_MODEL_8de0c265d8cf4711b969eb197b477208",
       "style": "IPY_MODEL_1c1a3096812640538e654d3ff1b7b299",
       "value": "word"
      }
     },
     "70ad53008d204407b0abe28fae2ee468": {
      "model_module": "@jupyter-widgets/controls",
      "model_module_version": "1.5.0",
      "model_name": "TextModel",
      "state": {
       "continuous_update": false,
       "layout": "IPY_MODEL_048cafd6b7354ca79c4b14a5e4b01aff",
       "placeholder": "feat",
       "style": "IPY_MODEL_6e62bee393054400be007d3de633c226",
       "value": "beginning"
      }
     },
     "70f49f65687a44a095d76cd4fd808920": {
      "model_module": "@jupyter-widgets/controls",
      "model_module_version": "1.5.0",
      "model_name": "DescriptionStyleModel",
      "state": {
       "description_width": ""
      }
     },
     "711904dd1341427db8c55c6e75b67a28": {
      "model_module": "@jupyter-widgets/base",
      "model_module_version": "1.2.0",
      "model_name": "LayoutModel",
      "state": {
       "align_content": "flex-start",
       "align_items": "flex-start",
       "border": "3px solid gray",
       "display": "inline-flex",
       "flex": "auto 0 0",
       "flex_flow": "column nowrap",
       "justify_content": "flex-start",
       "overflow": "auto"
      }
     },
     "71218c89543c498db4a67f854c58c6fd": {
      "model_module": "@jupyter-widgets/base",
      "model_module_version": "1.2.0",
      "model_name": "LayoutModel",
      "state": {
       "align_content": "flex-start",
       "align_items": "flex-start",
       "flex": "auto 1 1",
       "justify_content": "flex-start"
      }
     },
     "7121da45d436478684bda4121b888845": {
      "model_module": "@jupyter-widgets/controls",
      "model_module_version": "1.5.0",
      "model_name": "HTMLModel",
      "state": {
       "layout": "IPY_MODEL_8de0c265d8cf4711b969eb197b477208",
       "style": "IPY_MODEL_09236d6e521e441fb1e77161c9d0c40f",
       "value": "word"
      }
     },
     "715e31b7c8804549acc768ed5093f59c": {
      "model_module": "@jupyter-widgets/controls",
      "model_module_version": "1.5.0",
      "model_name": "BoxModel",
      "state": {
       "children": [
        "IPY_MODEL_e33f0c14b6d345f2a7a62cc7c5ee77c5",
        "IPY_MODEL_e65f30fd879f4071b67d8bb95f943302",
        "IPY_MODEL_5646edf29d9b4b2297db078809bf3a9f"
       ],
       "layout": "IPY_MODEL_a77ab74339404be7a1ef0fde9dcc7371"
      }
     },
     "716be4a0d212440488c42c41f48cc36c": {
      "model_module": "@jupyter-widgets/controls",
      "model_module_version": "1.5.0",
      "model_name": "TextModel",
      "state": {
       "layout": "IPY_MODEL_4dd64f63d8c74848adbb5380a98d2229",
       "placeholder": "pdp",
       "style": "IPY_MODEL_83795d6a387f46c38b4f33a8f1b06b61",
       "value": "prep"
      }
     },
     "71cee7fd4b0b44a1ad3d5c6330c76b8d": {
      "model_module": "@jupyter-widgets/controls",
      "model_module_version": "1.5.0",
      "model_name": "ButtonStyleModel",
      "state": {}
     },
     "71eb0ce79a4446f7bf8ed6dddb0eac1c": {
      "model_module": "@jupyter-widgets/controls",
      "model_module_version": "1.5.0",
      "model_name": "DescriptionStyleModel",
      "state": {
       "description_width": ""
      }
     },
     "72059c55e7454b2caf3b720f94a9043a": {
      "model_module": "@jupyter-widgets/controls",
      "model_module_version": "1.5.0",
      "model_name": "DescriptionStyleModel",
      "state": {
       "description_width": ""
      }
     },
     "7226a002cc7e4f71a4f655f4ee2cae94": {
      "model_module": "@jupyter-widgets/controls",
      "model_module_version": "1.5.0",
      "model_name": "TextModel",
      "state": {
       "continuous_update": false,
       "layout": "IPY_MODEL_20248d44181a4940977002cc4ba35e3b",
       "placeholder": "feat",
       "style": "IPY_MODEL_15a2f77cb192488f9e38c0975e510b7e",
       "value": "PPxx"
      }
     },
     "7239d02a3a9b42838d24ae78b085f4dc": {
      "model_module": "@jupyter-widgets/controls",
      "model_module_version": "1.5.0",
      "model_name": "DescriptionStyleModel",
      "state": {
       "description_width": ""
      }
     },
     "72776ea40b7647c4bb7370e25aad85cb": {
      "model_module": "@jupyter-widgets/base",
      "model_module_version": "1.2.0",
      "model_name": "LayoutModel",
      "state": {}
     },
     "72d2e5878f844b7aa594f3e4b6e7c04f": {
      "model_module": "@jupyter-widgets/base",
      "model_module_version": "1.2.0",
      "model_name": "LayoutModel",
      "state": {
       "align_content": "flex-start",
       "align_items": "flex-start",
       "flex": "auto 0 0",
       "justify_content": "flex-start",
       "overflow": "hidden"
      }
     },
     "732607b3cb9444e19c746b2b60b3c9a1": {
      "model_module": "@jupyter-widgets/base",
      "model_module_version": "1.2.0",
      "model_name": "LayoutModel",
      "state": {
       "border": "2px solid gray",
       "flex": "auto 0 1",
       "flex_flow": "column",
       "width": "15em"
      }
     },
     "732cd9eb6cc94713b6dbfeb93429b8d8": {
      "model_module": "@jupyter-widgets/controls",
      "model_module_version": "1.5.0",
      "model_name": "DescriptionStyleModel",
      "state": {
       "description_width": ""
      }
     },
     "73d7957be8214e5b8663eae967ce22b0": {
      "model_module": "@jupyter-widgets/controls",
      "model_module_version": "1.5.0",
      "model_name": "DescriptionStyleModel",
      "state": {
       "description_width": ""
      }
     },
     "7402cd7c09ab4204a2a11b31226c5fe8": {
      "model_module": "@jupyter-widgets/controls",
      "model_module_version": "1.5.0",
      "model_name": "DescriptionStyleModel",
      "state": {
       "description_width": ""
      }
     },
     "740e27f9b923410ea3b36f1e5b08c0c3": {
      "model_module": "@jupyter-widgets/base",
      "model_module_version": "1.2.0",
      "model_name": "LayoutModel",
      "state": {
       "align_content": "flex-start",
       "align_items": "flex-start",
       "flex": "auto 0 0",
       "justify_content": "flex-start",
       "overflow": "hidden"
      }
     },
     "740e64b5c357486a8f149f847a4dfdc5": {
      "model_module": "@jupyter-widgets/controls",
      "model_module_version": "1.5.0",
      "model_name": "DescriptionStyleModel",
      "state": {
       "description_width": ""
      }
     },
     "741e4e2162d84b5299c52e440aa1bddc": {
      "model_module": "@jupyter-widgets/controls",
      "model_module_version": "1.5.0",
      "model_name": "BoxModel",
      "state": {
       "children": [
        "IPY_MODEL_fa9237a528854beaa5fb0115d2ff72b5",
        "IPY_MODEL_422842b0658d4e2dba83c16b5a5e64af"
       ],
       "layout": "IPY_MODEL_c513a202edc044eab520f9bce0b07c28"
      }
     },
     "7425dd5d5d8f4f74986a1566d69d12a9": {
      "model_module": "@jupyter-widgets/controls",
      "model_module_version": "1.5.0",
      "model_name": "HTMLModel",
      "state": {
       "layout": "IPY_MODEL_b39ca3c53f7744a68c6bb8fcca233870",
       "style": "IPY_MODEL_e95658ef20ee4baaa5366425e8a5e8c9",
       "value": "rēšˌîṯ"
      }
     },
     "743d47e37481408e8b6bc9a8f902bf33": {
      "model_module": "@jupyter-widgets/controls",
      "model_module_version": "1.5.0",
      "model_name": "DescriptionStyleModel",
      "state": {
       "description_width": ""
      }
     },
     "743fbbe8a3d945f9a85f2485c0a0a755": {
      "model_module": "@jupyter-widgets/controls",
      "model_module_version": "1.5.0",
      "model_name": "DescriptionStyleModel",
      "state": {
       "description_width": ""
      }
     },
     "74821367f62042eca3713313a194e36f": {
      "model_module": "@jupyter-widgets/controls",
      "model_module_version": "1.5.0",
      "model_name": "DescriptionStyleModel",
      "state": {
       "description_width": ""
      }
     },
     "7497bd409d764a15a699bb97eddec783": {
      "model_module": "@jupyter-widgets/controls",
      "model_module_version": "1.5.0",
      "model_name": "DescriptionStyleModel",
      "state": {
       "description_width": ""
      }
     },
     "749ac6087e38479396129a41d42b82ac": {
      "model_module": "@jupyter-widgets/controls",
      "model_module_version": "1.5.0",
      "model_name": "HTMLModel",
      "state": {
       "layout": "IPY_MODEL_482346b169324d308f3aa5ff45d8987f",
       "style": "IPY_MODEL_1e0381ec09154a1a91335b8cfc303f58",
       "value": "bᵊ"
      }
     },
     "74bdd5aa395d4c178ffb0d44d42f2224": {
      "model_module": "@jupyter-widgets/controls",
      "model_module_version": "1.5.0",
      "model_name": "DescriptionStyleModel",
      "state": {
       "description_width": ""
      }
     },
     "74ca1309f4d74476a058d28c6038490a": {
      "model_module": "@jupyter-widgets/controls",
      "model_module_version": "1.5.0",
      "model_name": "TextModel",
      "state": {
       "continuous_update": false,
       "layout": "IPY_MODEL_4c7f21bcac3c469988c886892e35ad6d",
       "placeholder": "feat",
       "style": "IPY_MODEL_b2bcfd6a3c9e443dac8dc9d36856e092",
       "value": "in"
      }
     },
     "75160048974b497b8065a8a8879fbd91": {
      "model_module": "@jupyter-widgets/controls",
      "model_module_version": "1.5.0",
      "model_name": "DescriptionStyleModel",
      "state": {
       "description_width": ""
      }
     },
     "75541aa9ee094442808f81e2c8396116": {
      "model_module": "@jupyter-widgets/controls",
      "model_module_version": "1.5.0",
      "model_name": "TextModel",
      "state": {
       "continuous_update": false,
       "description": "pdp=",
       "layout": "IPY_MODEL_ad6fb28bc9ea40e2a8ba091a0609133a",
       "placeholder": "feat",
       "style": "IPY_MODEL_30285b08a882432dae54e1a7f26b2610",
       "value": "subs"
      }
     },
     "75b2e731b5b04221946407a663794c69": {
      "model_module": "@jupyter-widgets/controls",
      "model_module_version": "1.5.0",
      "model_name": "HTMLModel",
      "state": {
       "layout": "IPY_MODEL_2e5b48b392c64f5fa618c525ca5043bb",
       "style": "IPY_MODEL_f1f57c7026254ce3a21a73c74431fcf0",
       "value": "rēšˌîṯ"
      }
     },
     "75bd2c80e08c499e8d7495282919ee5e": {
      "model_module": "@jupyter-widgets/base",
      "model_module_version": "1.2.0",
      "model_name": "LayoutModel",
      "state": {
       "flex": "auto 1 1"
      }
     },
     "75ca4a9014c14d338bec87abc8529a48": {
      "model_module": "@jupyter-widgets/base",
      "model_module_version": "1.2.0",
      "model_name": "LayoutModel",
      "state": {
       "align_content": "flex-start",
       "align_items": "flex-start",
       "border": "3px solid gray",
       "display": "inline-flex",
       "flex": "auto 0 0",
       "flex_flow": "column nowrap",
       "justify_content": "flex-start",
       "overflow": "auto"
      }
     },
     "75d706964a714bbb8d0690cf13a16fcc": {
      "model_module": "@jupyter-widgets/controls",
      "model_module_version": "1.5.0",
      "model_name": "DescriptionStyleModel",
      "state": {
       "description_width": ""
      }
     },
     "762f71eefea642f08faf452f00015a3e": {
      "model_module": "@jupyter-widgets/base",
      "model_module_version": "1.2.0",
      "model_name": "LayoutModel",
      "state": {
       "align_content": "flex-start",
       "align_items": "flex-start",
       "flex": "auto 0 0",
       "justify_content": "flex-start"
      }
     },
     "76a5814c479141ae99810de6fb5ef8bb": {
      "model_module": "@jupyter-widgets/controls",
      "model_module_version": "1.5.0",
      "model_name": "DescriptionStyleModel",
      "state": {
       "description_width": ""
      }
     },
     "76a7db1145bf467ebfb56afee5e5acb5": {
      "model_module": "@jupyter-widgets/controls",
      "model_module_version": "1.5.0",
      "model_name": "DescriptionStyleModel",
      "state": {
       "description_width": ""
      }
     },
     "76a9c8ecd81c4faa8f9894f012e3789b": {
      "model_module": "@jupyter-widgets/controls",
      "model_module_version": "1.5.0",
      "model_name": "ButtonModel",
      "state": {
       "description": "Up to date",
       "disabled": true,
       "layout": "IPY_MODEL_791e5573afc543c996f5719214c8df59",
       "style": "IPY_MODEL_2319284301884c229dad57f8a13fe7ef"
      }
     },
     "76c0ee51e2d24d11892e498772bf3fbc": {
      "model_module": "@jupyter-widgets/controls",
      "model_module_version": "1.5.0",
      "model_name": "HTMLModel",
      "state": {
       "layout": "IPY_MODEL_00939393a17c47c18d0d77bc97ec88a7",
       "style": "IPY_MODEL_d6883d69869941c8b26ced63ccf5222c",
       "value": "bᵊ"
      }
     },
     "7706774246f74104b408efcb64b4ac12": {
      "model_module": "@jupyter-widgets/controls",
      "model_module_version": "1.5.0",
      "model_name": "HTMLModel",
      "state": {
       "layout": "IPY_MODEL_998193dda5ba4744897a9fd7f1881127",
       "style": "IPY_MODEL_d58deb8a150b47038ddc5d6b394ec2dd",
       "value": "word"
      }
     },
     "772bca4a5b324c9c860d9a8f8eea6b8e": {
      "model_module": "@jupyter-widgets/base",
      "model_module_version": "1.2.0",
      "model_name": "LayoutModel",
      "state": {
       "border": "2px solid gray",
       "display": "inline-flex",
       "flex": "auto 0 1",
       "flex_flow": "column nowrap"
      }
     },
     "77590f2159824e49abec8db0aa636aa4": {
      "model_module": "@jupyter-widgets/controls",
      "model_module_version": "1.5.0",
      "model_name": "DescriptionStyleModel",
      "state": {
       "description_width": ""
      }
     },
     "77a5d4acf0d94520be65367ab2b67883": {
      "model_module": "@jupyter-widgets/controls",
      "model_module_version": "1.5.0",
      "model_name": "BoxModel",
      "state": {
       "children": [
        "IPY_MODEL_35503a341e61411aac007b14e103f5ff",
        "IPY_MODEL_2ab2977c13074bf9a4296dc27046b101",
        "IPY_MODEL_071083116a3b4b6ea012f3fcc9855c76"
       ],
       "layout": "IPY_MODEL_f136af0e52034dfe8d3e38bbd5586239"
      }
     },
     "77c65fb5db6e460bb3fcc7ce041b7629": {
      "model_module": "@jupyter-widgets/base",
      "model_module_version": "1.2.0",
      "model_name": "LayoutModel",
      "state": {
       "align_content": "flex-start",
       "align_items": "flex-start",
       "border": "1px solid gray",
       "display": "inline-flex",
       "flex": "auto 0 0",
       "flex_flow": "column nowrap",
       "justify_content": "flex-start",
       "overflow": "auto"
      }
     },
     "77c827e0bf624f76b2cff0bdb4a3e70a": {
      "model_module": "@jupyter-widgets/controls",
      "model_module_version": "1.5.0",
      "model_name": "DescriptionStyleModel",
      "state": {
       "description_width": ""
      }
     },
     "77ed62a483c0494c8586ba7e0238acf3": {
      "model_module": "@jupyter-widgets/controls",
      "model_module_version": "1.5.0",
      "model_name": "BoxModel",
      "state": {
       "children": [
        "IPY_MODEL_d817d98bcb184bfeb2a6e4f77b40b40c",
        "IPY_MODEL_76c0ee51e2d24d11892e498772bf3fbc",
        "IPY_MODEL_a1773d2c9fe44665b4aa069c17fa2548",
        "IPY_MODEL_0244c8e7be6b4bc486b52d6917da470d"
       ],
       "layout": "IPY_MODEL_79e6eb621b1042e89c9c8a54ce3fd8a4"
      }
     },
     "7814ca5a9a8641d29f3441604366e0dd": {
      "model_module": "@jupyter-widgets/controls",
      "model_module_version": "1.5.0",
      "model_name": "HTMLModel",
      "state": {
       "layout": "IPY_MODEL_b39ca3c53f7744a68c6bb8fcca233870",
       "style": "IPY_MODEL_f5dd58fb7e4542cfabe3f1d174259986",
       "value": "phrase"
      }
     },
     "784d5ee188354a479672fc2fed6a16e3": {
      "model_module": "@jupyter-widgets/controls",
      "model_module_version": "1.5.0",
      "model_name": "DescriptionStyleModel",
      "state": {
       "description_width": ""
      }
     },
     "78b744ce591b492e8e31560fc47173d2": {
      "model_module": "@jupyter-widgets/controls",
      "model_module_version": "1.5.0",
      "model_name": "DescriptionStyleModel",
      "state": {
       "description_width": ""
      }
     },
     "78d9b3bd5d534b5394f38961166ccc22": {
      "model_module": "@jupyter-widgets/controls",
      "model_module_version": "1.5.0",
      "model_name": "DescriptionStyleModel",
      "state": {
       "description_width": ""
      }
     },
     "791e5573afc543c996f5719214c8df59": {
      "model_module": "@jupyter-widgets/base",
      "model_module_version": "1.2.0",
      "model_name": "LayoutModel",
      "state": {
       "flex": "auto 1 1"
      }
     },
     "7922ad7e043e4ad6b4874ff7ac2f25f7": {
      "model_module": "@jupyter-widgets/base",
      "model_module_version": "1.2.0",
      "model_name": "LayoutModel",
      "state": {
       "align_content": "flex-start",
       "align_items": "flex-start",
       "flex": "auto 1 1",
       "justify_content": "flex-start"
      }
     },
     "798dbc2d777d40d59792549766f5e4f5": {
      "model_module": "@jupyter-widgets/base",
      "model_module_version": "1.2.0",
      "model_name": "LayoutModel",
      "state": {
       "align_content": "flex-start",
       "align_items": "flex-start",
       "border": "3px solid gray",
       "flex": "auto 0 0",
       "flex_flow": "row wrap",
       "justify_content": "flex-start"
      }
     },
     "79bbe67692e9489892f349a6be8a3564": {
      "model_module": "@jupyter-widgets/controls",
      "model_module_version": "1.5.0",
      "model_name": "TextModel",
      "state": {
       "continuous_update": false,
       "layout": "IPY_MODEL_d35a76df3cda49868cc0d9ab8568c5b3",
       "placeholder": "feat",
       "style": "IPY_MODEL_fc501874f23a4eb68fefaf069145ac5a",
       "value": "PP"
      }
     },
     "79c71a0841844ebe9e52537eef841dbc": {
      "model_module": "@jupyter-widgets/base",
      "model_module_version": "1.2.0",
      "model_name": "LayoutModel",
      "state": {
       "flex": "auto 0 0"
      }
     },
     "79d00b4f43874846b6f742bb1455cbe6": {
      "model_module": "@jupyter-widgets/controls",
      "model_module_version": "1.5.0",
      "model_name": "TextModel",
      "state": {
       "continuous_update": false,
       "description": "pdp=",
       "layout": "IPY_MODEL_2e5b48b392c64f5fa618c525ca5043bb",
       "placeholder": "feat",
       "style": "IPY_MODEL_cb5111fa92914ca09109bd4621e53bd7",
       "value": "prep"
      }
     },
     "79e6eb621b1042e89c9c8a54ce3fd8a4": {
      "model_module": "@jupyter-widgets/base",
      "model_module_version": "1.2.0",
      "model_name": "LayoutModel",
      "state": {
       "align_content": "flex-start",
       "align_items": "flex-start",
       "border": "1px solid gray",
       "display": "inline-flex",
       "flex": "auto 0 0",
       "flex_flow": "column nowrap",
       "justify_content": "flex-start",
       "overflow": "auto"
      }
     },
     "7a1e0a3a748a48a3804ebd3e33bfb2c8": {
      "model_module": "@jupyter-widgets/controls",
      "model_module_version": "1.5.0",
      "model_name": "DescriptionStyleModel",
      "state": {
       "description_width": ""
      }
     },
     "7a2d0b940cda46a7a97a4babf9800d9a": {
      "model_module": "@jupyter-widgets/base",
      "model_module_version": "1.2.0",
      "model_name": "LayoutModel",
      "state": {
       "align_content": "flex-start"
      }
     },
     "7a3625897188464daba26ff718270e1b": {
      "model_module": "@jupyter-widgets/controls",
      "model_module_version": "1.5.0",
      "model_name": "DescriptionStyleModel",
      "state": {
       "description_width": ""
      }
     },
     "7a43878ab4a0485e85b9e8537b7d167d": {
      "model_module": "@jupyter-widgets/controls",
      "model_module_version": "1.5.0",
      "model_name": "HTMLModel",
      "state": {
       "layout": "IPY_MODEL_b39ca3c53f7744a68c6bb8fcca233870",
       "style": "IPY_MODEL_65940c765a8d418eb200cc580793e93f",
       "value": "rēšˌîṯ"
      }
     },
     "7a884a5865a24c94b62d0084a6c6de78": {
      "model_module": "@jupyter-widgets/base",
      "model_module_version": "1.2.0",
      "model_name": "LayoutModel",
      "state": {
       "flex": "auto 0 0"
      }
     },
     "7b47e424c3904833ae51ecf28a7ad516": {
      "model_module": "@jupyter-widgets/controls",
      "model_module_version": "1.5.0",
      "model_name": "BoxModel",
      "state": {
       "children": [
        "IPY_MODEL_a468b74966ab48cc81156ed6fe1f76c3",
        "IPY_MODEL_6fc01117f47d4816913864cae920ac06",
        "IPY_MODEL_231569e937d84b69bdd5ef82bf8f60f7"
       ],
       "layout": "IPY_MODEL_0cdc54067a6e458a94249e8755c3efe0"
      }
     },
     "7b723441d54b4b26b16c070c18ccce75": {
      "model_module": "@jupyter-widgets/controls",
      "model_module_version": "1.5.0",
      "model_name": "TextModel",
      "state": {
       "description": "pdp=",
       "layout": "IPY_MODEL_6473dda2915f41ed964de8ff103afadb",
       "placeholder": "pdp",
       "style": "IPY_MODEL_0d4cec79a0ea4c9c9e8bf15c49650182",
       "value": "subs"
      }
     },
     "7b772ef674d94025a63671268c11b689": {
      "model_module": "@jupyter-widgets/controls",
      "model_module_version": "1.5.0",
      "model_name": "DescriptionStyleModel",
      "state": {
       "description_width": ""
      }
     },
     "7ba93fbb28ed4e7886f3324c5953676f": {
      "model_module": "@jupyter-widgets/controls",
      "model_module_version": "1.5.0",
      "model_name": "HTMLModel",
      "state": {
       "layout": "IPY_MODEL_482346b169324d308f3aa5ff45d8987f",
       "style": "IPY_MODEL_01488a26cc724e67a9d1a491cb11c8e0",
       "value": "word"
      }
     },
     "7bb6e719deee4ec5ab24100baa9f3f95": {
      "model_module": "@jupyter-widgets/controls",
      "model_module_version": "1.5.0",
      "model_name": "ButtonModel",
      "state": {
       "description": "node 651573 feature typ changed from 'PP' to 'PPxx'. Click to save",
       "layout": "IPY_MODEL_f0c4879ee60a47d5a10f58e90a76e82a",
       "style": "IPY_MODEL_b05746bede9146789dc3d8f99ec280b0"
      }
     },
     "7bcbd61c31154f9788d1bb93d52c8df9": {
      "model_module": "@jupyter-widgets/controls",
      "model_module_version": "1.5.0",
      "model_name": "HTMLModel",
      "state": {
       "layout": "IPY_MODEL_b39ca3c53f7744a68c6bb8fcca233870",
       "style": "IPY_MODEL_fe1c8d80f9b843ff9f0f40dfbbeba356",
       "value": "phrase"
      }
     },
     "7bcd6d99a17444d994a666992924a307": {
      "model_module": "@jupyter-widgets/base",
      "model_module_version": "1.2.0",
      "model_name": "LayoutModel",
      "state": {
       "align_content": "flex-start",
       "align_items": "flex-start",
       "border": "3px solid gray",
       "display": "inline-flex",
       "flex": "auto 0 0",
       "flex_flow": "column nowrap",
       "justify_content": "flex-start",
       "overflow": "auto"
      }
     },
     "7bdd8231f5334fd09088516f94a58a22": {
      "model_module": "@jupyter-widgets/controls",
      "model_module_version": "1.5.0",
      "model_name": "DescriptionStyleModel",
      "state": {
       "description_width": ""
      }
     },
     "7bef5d051b5d43078efc9457f54aef41": {
      "model_module": "@jupyter-widgets/controls",
      "model_module_version": "1.5.0",
      "model_name": "TextModel",
      "state": {
       "continuous_update": false,
       "layout": "IPY_MODEL_b39ca3c53f7744a68c6bb8fcca233870",
       "placeholder": "feat",
       "style": "IPY_MODEL_3d615a1864d64bef83c086626e49f37c",
       "value": "in"
      }
     },
     "7c0bf443d860468ba09d477ae1ef1697": {
      "model_module": "@jupyter-widgets/controls",
      "model_module_version": "1.5.0",
      "model_name": "DescriptionStyleModel",
      "state": {
       "description_width": ""
      }
     },
     "7c1376445d1e4d088b1423f4c608e787": {
      "model_module": "@jupyter-widgets/controls",
      "model_module_version": "1.5.0",
      "model_name": "HTMLModel",
      "state": {
       "layout": "IPY_MODEL_c5793553071843269443ceb0ea8d7b2d",
       "style": "IPY_MODEL_9e1eb3b9567c4250b13fd86cee0e7d78",
       "value": "<a\n  class=\"txtu hbo\"\n  href=\"https://shebanq.ancient-data.org/hebrew/word?version=2021&amp;id=1B\"\n  target=\"_blank\"\n  title=\"Show this on SHEBANQ\">\n        <span class=\"txtp\">\n         bᵊ\n        </span>\n       </a>"
      }
     },
     "7d01e208bff5468f8f4385bda5147d3d": {
      "model_module": "@jupyter-widgets/controls",
      "model_module_version": "1.5.0",
      "model_name": "HTMLModel",
      "state": {
       "layout": "IPY_MODEL_c98e258fce024947ae6249726835859c",
       "style": "IPY_MODEL_dfc2e4ade8354b61be937f1a4ffc8f2f",
       "value": "phrase"
      }
     },
     "7d10d474801c4640a49bcd2cbcf05f80": {
      "model_module": "@jupyter-widgets/base",
      "model_module_version": "1.2.0",
      "model_name": "LayoutModel",
      "state": {
       "align_content": "flex-start",
       "align_items": "flex-start",
       "border": "1px solid gray",
       "display": "inline-flex",
       "flex": "auto 0 0",
       "flex_flow": "column nowrap",
       "justify_content": "flex-start",
       "overflow": "auto"
      }
     },
     "7d33c1c18baa444e8cac9070d3bbdc91": {
      "model_module": "@jupyter-widgets/controls",
      "model_module_version": "1.5.0",
      "model_name": "HTMLModel",
      "state": {
       "layout": "IPY_MODEL_d35a76df3cda49868cc0d9ab8568c5b3",
       "style": "IPY_MODEL_4297dfbf03684410a5fdc7b99591058b",
       "value": "rēšˌîṯ"
      }
     },
     "7d5bf313f62d4accb8ad3a0db58d56ec": {
      "model_module": "@jupyter-widgets/controls",
      "model_module_version": "1.5.0",
      "model_name": "HTMLModel",
      "state": {
       "layout": "IPY_MODEL_f464fdb9f8104126a654e746d77a93eb",
       "style": "IPY_MODEL_6103c7efca7a40709988ab561e2c62de",
       "value": "bᵊ"
      }
     },
     "7d66f5676d7c4d0b9ebb69ab89cb823b": {
      "model_module": "@jupyter-widgets/controls",
      "model_module_version": "1.5.0",
      "model_name": "BoxModel",
      "state": {
       "children": [
        "IPY_MODEL_1a42fc8cb61548d4944545101a263a66",
        "IPY_MODEL_28cefbe787fe43148429610e4185d240",
        "IPY_MODEL_52e07198f06e416698514d374e3e5182"
       ],
       "layout": "IPY_MODEL_a77ab74339404be7a1ef0fde9dcc7371"
      }
     },
     "7d7643a8459443afbcdcedc9530918ce": {
      "model_module": "@jupyter-widgets/controls",
      "model_module_version": "1.5.0",
      "model_name": "DescriptionStyleModel",
      "state": {
       "description_width": ""
      }
     },
     "7d85faf3d2874d3bb597827b3fa47fdb": {
      "model_module": "@jupyter-widgets/controls",
      "model_module_version": "1.5.0",
      "model_name": "BoxModel",
      "state": {
       "children": [
        "IPY_MODEL_a0ac722aa2894c0a87bdde3c6c56d330",
        "IPY_MODEL_e9816904deb04392a4a2c1143d146d8b",
        "IPY_MODEL_6f5c5d14ac704558b5c00f40470544bb"
       ],
       "layout": "IPY_MODEL_b2da55e520904e7b894758ceddbc0ea2"
      }
     },
     "7d907cd5cec145ee8b96395b42befe9c": {
      "model_module": "@jupyter-widgets/controls",
      "model_module_version": "1.5.0",
      "model_name": "DescriptionStyleModel",
      "state": {
       "description_width": ""
      }
     },
     "7dbc738fcf3049bf908530ebd65c6973": {
      "model_module": "@jupyter-widgets/controls",
      "model_module_version": "1.5.0",
      "model_name": "TextModel",
      "state": {
       "continuous_update": false,
       "description": "pdp=",
       "layout": "IPY_MODEL_8ba1b58fc41a4001b29bb4c0a8408965",
       "placeholder": "feat",
       "style": "IPY_MODEL_74821367f62042eca3713313a194e36f",
       "value": "prep"
      }
     },
     "7dcb4947a2c34588b864c2c43ba19327": {
      "model_module": "@jupyter-widgets/controls",
      "model_module_version": "1.5.0",
      "model_name": "DescriptionStyleModel",
      "state": {
       "description_width": ""
      }
     },
     "7df618239c1340b2bf2d6b458bb42d5b": {
      "model_module": "@jupyter-widgets/controls",
      "model_module_version": "1.5.0",
      "model_name": "DescriptionStyleModel",
      "state": {
       "description_width": ""
      }
     },
     "7dfe732d10d44211a065f43ccff45377": {
      "model_module": "@jupyter-widgets/base",
      "model_module_version": "1.2.0",
      "model_name": "LayoutModel",
      "state": {
       "border": "1px solid black",
       "flex": "auto 1 1"
      }
     },
     "7e151b7877834ccd9c6b2d3cb674ceab": {
      "model_module": "@jupyter-widgets/controls",
      "model_module_version": "1.5.0",
      "model_name": "BoxModel",
      "state": {
       "children": [
        "IPY_MODEL_be5757e5a81b41b5b1e05c66365debd8",
        "IPY_MODEL_66df9ee86a6945b8981fc7b7d7c6daac",
        "IPY_MODEL_f4dff030559149ae802bc40a24eea058",
        "IPY_MODEL_12012af1e65649d88b1e97be143f8170"
       ],
       "layout": "IPY_MODEL_bac71c97da8346ed8289636b87c63ac4"
      }
     },
     "7e24f61563764b14b3a08d7811845053": {
      "model_module": "@jupyter-widgets/controls",
      "model_module_version": "1.5.0",
      "model_name": "BoxModel",
      "state": {
       "children": [
        "IPY_MODEL_b1581dc69ea24cfab7fcb61b7c06dc23",
        "IPY_MODEL_d81ed1290dba4acb83e8f969cdc8bd7a",
        "IPY_MODEL_d268da8c08b046fd829b2b825642be90",
        "IPY_MODEL_d45a3b9b3c3248979ef00a8bbb422f49"
       ],
       "layout": "IPY_MODEL_575706b709aa4f829656baaa41aa009a"
      }
     },
     "7e32cd9a09114ba58d8beb86a1007e1f": {
      "model_module": "@jupyter-widgets/controls",
      "model_module_version": "1.5.0",
      "model_name": "BoxModel",
      "state": {
       "children": [
        "IPY_MODEL_7c1376445d1e4d088b1423f4c608e787",
        "IPY_MODEL_4f6ff29a79664f2c9097063e446f0730",
        "IPY_MODEL_3da318dfad06421dbc9cb02f12a5b9c1"
       ],
       "layout": "IPY_MODEL_732607b3cb9444e19c746b2b60b3c9a1"
      }
     },
     "7e60887d227a4015b9c4feb2d282a931": {
      "model_module": "@jupyter-widgets/controls",
      "model_module_version": "1.5.0",
      "model_name": "HTMLModel",
      "state": {
       "layout": "IPY_MODEL_f75ded8b87ee4d9398164535195e3672",
       "style": "IPY_MODEL_f0bc67a51a944886bd0e2ce57f0bc1ed",
       "value": "phrase"
      }
     },
     "7e9fe7a635234297a5efb08c62021754": {
      "model_module": "@jupyter-widgets/controls",
      "model_module_version": "1.5.0",
      "model_name": "ButtonModel",
      "state": {
       "description": "Up to date",
       "disabled": true,
       "layout": "IPY_MODEL_791e5573afc543c996f5719214c8df59",
       "style": "IPY_MODEL_87d025adee4a4b32983661950f715b15"
      }
     },
     "7eb79194979e43a881f187ec8d83fb11": {
      "model_module": "@jupyter-widgets/controls",
      "model_module_version": "1.5.0",
      "model_name": "ButtonModel",
      "state": {
       "description": "Up to date",
       "disabled": true,
       "layout": "IPY_MODEL_7efb6fb00e534fc8827575e9e4e5d12e",
       "style": "IPY_MODEL_2915e786fb474f5fbd5d5774f017075e"
      }
     },
     "7ed0c2b4fb7549b395434b84f28cd94a": {
      "model_module": "@jupyter-widgets/controls",
      "model_module_version": "1.5.0",
      "model_name": "DescriptionStyleModel",
      "state": {
       "description_width": ""
      }
     },
     "7edbb93d64e942dfb73c72ddc008a0b9": {
      "model_module": "@jupyter-widgets/controls",
      "model_module_version": "1.5.0",
      "model_name": "BoxModel",
      "state": {
       "children": [
        "IPY_MODEL_7d66f5676d7c4d0b9ebb69ab89cb823b",
        "IPY_MODEL_715e31b7c8804549acc768ed5093f59c"
       ],
       "layout": "IPY_MODEL_7a2d0b940cda46a7a97a4babf9800d9a"
      }
     },
     "7ee89fa402024c30bf02cb9d863f23e1": {
      "model_module": "@jupyter-widgets/controls",
      "model_module_version": "1.5.0",
      "model_name": "HTMLModel",
      "state": {
       "layout": "IPY_MODEL_9d2baabf83524d14b20e9d27b558ad14",
       "style": "IPY_MODEL_9a1bab5b194d4b6b8f1560270e9bcabc",
       "value": "rēšˌîṯ"
      }
     },
     "7eeb162a19114309ba5383787f19e12f": {
      "model_module": "@jupyter-widgets/controls",
      "model_module_version": "1.5.0",
      "model_name": "DescriptionStyleModel",
      "state": {
       "description_width": ""
      }
     },
     "7ef4f32896a24550a617ac5f5e909be1": {
      "model_module": "@jupyter-widgets/controls",
      "model_module_version": "1.5.0",
      "model_name": "DescriptionStyleModel",
      "state": {
       "description_width": ""
      }
     },
     "7efb6fb00e534fc8827575e9e4e5d12e": {
      "model_module": "@jupyter-widgets/base",
      "model_module_version": "1.2.0",
      "model_name": "LayoutModel",
      "state": {
       "border": "1px solid black",
       "flex": "auto 1 1"
      }
     },
     "7f1395d5cdcb460089d4f668537b8f07": {
      "model_module": "@jupyter-widgets/controls",
      "model_module_version": "1.5.0",
      "model_name": "TextModel",
      "state": {
       "continuous_update": false,
       "layout": "IPY_MODEL_8de0c265d8cf4711b969eb197b477208",
       "placeholder": "feat",
       "style": "IPY_MODEL_e12cef43c0eb425b9ab3a4177e5df3d1",
       "value": "in"
      }
     },
     "7f3b3722ee1843e582fb91ac1b1551b5": {
      "model_module": "@jupyter-widgets/controls",
      "model_module_version": "1.5.0",
      "model_name": "BoxModel",
      "state": {
       "children": [
        "IPY_MODEL_a98654c553814cc5944b0b3367919aa1",
        "IPY_MODEL_2f850182db4a4612a1eb58304cb6c5d1",
        "IPY_MODEL_324afb066ac5460e89d9322d65cc42ad",
        "IPY_MODEL_257ee9e74e9641638da2f297e5901e22"
       ],
       "layout": "IPY_MODEL_50e8694774624d85949bec3e6c545098"
      }
     },
     "7f4dbf27129141eeab260f245372b9b9": {
      "model_module": "@jupyter-widgets/controls",
      "model_module_version": "1.5.0",
      "model_name": "BoxModel",
      "state": {
       "children": [
        "IPY_MODEL_70457e4307b64df782ef8f0fb2aa7272",
        "IPY_MODEL_e7c09ca78215449aa0e0102f2799ebb2",
        "IPY_MODEL_7f1395d5cdcb460089d4f668537b8f07",
        "IPY_MODEL_47ddb1db017c46a2bdb65c7d8802a5ae"
       ],
       "layout": "IPY_MODEL_f136af0e52034dfe8d3e38bbd5586239"
      }
     },
     "7f553f5159d34933b6d0f45196e8e01f": {
      "model_module": "@jupyter-widgets/controls",
      "model_module_version": "1.5.0",
      "model_name": "LabelModel",
      "state": {
       "layout": "IPY_MODEL_8cdf9df554b64890944ffcb4ad0a6d3c",
       "style": "IPY_MODEL_179b081eaaf740b88a55ecbdf9981144",
       "value": "aap"
      }
     },
     "7f772032f46c4a1ea1f27e5ec978170d": {
      "model_module": "@jupyter-widgets/controls",
      "model_module_version": "1.5.0",
      "model_name": "BoxModel",
      "state": {
       "children": [
        "IPY_MODEL_13ac6f240b1e486b8c571dbd7591fd89",
        "IPY_MODEL_ae5045cb1c4c4ce5aed22ec5be02c7f8",
        "IPY_MODEL_7b723441d54b4b26b16c070c18ccce75"
       ],
       "layout": "IPY_MODEL_be91f9eabf634d278f767705ca48223c"
      }
     },
     "7f966b6ea61e413f8a4149dfd22af465": {
      "model_module": "@jupyter-widgets/controls",
      "model_module_version": "1.5.0",
      "model_name": "BoxModel",
      "state": {
       "children": [
        "IPY_MODEL_f07b955339bd4e02be92d7b3ffc914ab",
        "IPY_MODEL_a23e3f25c37b4c019a72c51e57536d38"
       ],
       "layout": "IPY_MODEL_ab324ec0f0af4f4387fc430c0347e275"
      }
     },
     "7fdb147661c8436a9f447787bfe3056a": {
      "model_module": "@jupyter-widgets/base",
      "model_module_version": "1.2.0",
      "model_name": "LayoutModel",
      "state": {
       "align_content": "flex-start",
       "align_items": "flex-start",
       "border": "3px solid gray",
       "display": "inline-flex",
       "flex": "auto 0 0",
       "flex_flow": "column nowrap",
       "justify_content": "flex-start",
       "overflow": "auto"
      }
     },
     "7fe9a9527b0c45319455c92e06127806": {
      "model_module": "@jupyter-widgets/base",
      "model_module_version": "1.2.0",
      "model_name": "LayoutModel",
      "state": {
       "align_content": "flex-start",
       "align_items": "flex-start",
       "border": "1px solid gray",
       "display": "inline-flex",
       "flex": "auto 0 0",
       "flex_flow": "column nowrap",
       "justify_content": "flex-start",
       "overflow": "auto"
      }
     },
     "7ffc77c4cae74ba39f36ca9786b34485": {
      "model_module": "@jupyter-widgets/controls",
      "model_module_version": "1.5.0",
      "model_name": "TextModel",
      "state": {
       "continuous_update": false,
       "layout": "IPY_MODEL_00939393a17c47c18d0d77bc97ec88a7",
       "placeholder": "feat",
       "style": "IPY_MODEL_e0a6c8b3ef784cff83b5710295fb2ec2",
       "value": "beginning"
      }
     },
     "800ed21ddab1453faaf8f36dc53d970f": {
      "model_module": "@jupyter-widgets/base",
      "model_module_version": "1.2.0",
      "model_name": "LayoutModel",
      "state": {}
     },
     "80107855a4dd473eba6a4e3732b77b60": {
      "model_module": "@jupyter-widgets/controls",
      "model_module_version": "1.5.0",
      "model_name": "TextModel",
      "state": {
       "continuous_update": false,
       "description": "pdp=",
       "layout": "IPY_MODEL_b39ca3c53f7744a68c6bb8fcca233870",
       "placeholder": "feat",
       "style": "IPY_MODEL_93794f1075f34dd8997a9ff2cb8c669d",
       "value": "subs"
      }
     },
     "8036fb5f0a204e8fb04165a0cfb8b10c": {
      "model_module": "@jupyter-widgets/controls",
      "model_module_version": "1.5.0",
      "model_name": "BoxModel",
      "state": {
       "children": [
        "IPY_MODEL_4f92989690654a9390d72327fed917f5",
        "IPY_MODEL_716be4a0d212440488c42c41f48cc36c"
       ],
       "layout": "IPY_MODEL_2495bf463e4943c2b5182b832e358bc2"
      }
     },
     "80bf31478f42499b8768add41ab9b3a8": {
      "model_module": "@jupyter-widgets/controls",
      "model_module_version": "1.5.0",
      "model_name": "BoxModel",
      "state": {
       "children": [
        "IPY_MODEL_d37af22b15304a92ab315ba4d1cf0e69",
        "IPY_MODEL_29526b2e8fd84f12a51d516c93ce33fe"
       ],
       "layout": "IPY_MODEL_6688f6763a3046a795d71e6548efdfc5"
      }
     },
     "80d531fc9d2947348dfe0a4596eef3c0": {
      "model_module": "@jupyter-widgets/base",
      "model_module_version": "1.2.0",
      "model_name": "LayoutModel",
      "state": {
       "align_content": "flex-start",
       "align_items": "flex-start",
       "border": "3px solid gray",
       "display": "inline-flex",
       "flex": "auto 0 0",
       "flex_flow": "column nowrap",
       "justify_content": "flex-start",
       "overflow": "auto"
      }
     },
     "80fb74ae6b404b309f3bdd7371957aca": {
      "model_module": "@jupyter-widgets/controls",
      "model_module_version": "1.5.0",
      "model_name": "DescriptionStyleModel",
      "state": {
       "description_width": ""
      }
     },
     "8102c665923f434e8013b1eaf7fd2190": {
      "model_module": "@jupyter-widgets/controls",
      "model_module_version": "1.5.0",
      "model_name": "DescriptionStyleModel",
      "state": {
       "description_width": ""
      }
     },
     "81aed8a7156e4592907e9c23ecd3078a": {
      "model_module": "@jupyter-widgets/controls",
      "model_module_version": "1.5.0",
      "model_name": "DescriptionStyleModel",
      "state": {
       "description_width": ""
      }
     },
     "81e00edd607640329b2b4f0eb618d3d2": {
      "model_module": "@jupyter-widgets/controls",
      "model_module_version": "1.5.0",
      "model_name": "DescriptionStyleModel",
      "state": {
       "description_width": ""
      }
     },
     "82481d037cdd451898fefb580f5bc117": {
      "model_module": "@jupyter-widgets/controls",
      "model_module_version": "1.5.0",
      "model_name": "TextModel",
      "state": {
       "continuous_update": false,
       "layout": "IPY_MODEL_f75ded8b87ee4d9398164535195e3672",
       "placeholder": "feat",
       "style": "IPY_MODEL_4a5cf04b120043d5a22c054bf24236d1",
       "value": "PPxx"
      }
     },
     "8250e3502aa042aa9c14aedd9519e419": {
      "model_module": "@jupyter-widgets/base",
      "model_module_version": "1.2.0",
      "model_name": "LayoutModel",
      "state": {
       "align_content": "flex-start",
       "align_items": "flex-start",
       "border": "1px solid gray",
       "display": "inline-flex",
       "flex": "auto 0 0",
       "flex_flow": "column nowrap",
       "justify_content": "flex-start",
       "overflow": "auto"
      }
     },
     "825d72e184824797ad9e159366978c97": {
      "model_module": "@jupyter-widgets/base",
      "model_module_version": "1.2.0",
      "model_name": "LayoutModel",
      "state": {
       "border": "2px solid gray",
       "display": "inline-flex",
       "flex": "auto 0 1",
       "flex_flow": "column nowrap",
       "overflow": "auto"
      }
     },
     "82a1640a54c7417695f621a6a35d358c": {
      "model_module": "@jupyter-widgets/controls",
      "model_module_version": "1.5.0",
      "model_name": "DescriptionStyleModel",
      "state": {
       "description_width": ""
      }
     },
     "82a4fe54fdbe413faa2bead5c458db5a": {
      "model_module": "@jupyter-widgets/controls",
      "model_module_version": "1.5.0",
      "model_name": "HTMLModel",
      "state": {
       "layout": "IPY_MODEL_048cafd6b7354ca79c4b14a5e4b01aff",
       "style": "IPY_MODEL_ab2104e2408c4f8cb000ecc0ef5db981",
       "value": "word"
      }
     },
     "82e3d868650f4c398c4df1567b38dd58": {
      "model_module": "@jupyter-widgets/base",
      "model_module_version": "1.2.0",
      "model_name": "LayoutModel",
      "state": {
       "flex": "auto 1 1"
      }
     },
     "8336522f9b6e41c088763e0af0fb4a49": {
      "model_module": "@jupyter-widgets/controls",
      "model_module_version": "1.5.0",
      "model_name": "BoxModel",
      "state": {
       "children": [
        "IPY_MODEL_85c17a2af8c94224b69c75a975a1f961",
        "IPY_MODEL_d08fd5ef9461485dbd2ec5a37da9d79d",
        "IPY_MODEL_02f64b5e74fa4a66bd1d4e8ec8011606",
        "IPY_MODEL_79d00b4f43874846b6f742bb1455cbe6"
       ],
       "layout": "IPY_MODEL_9f83c6ba64fa40cb9722cbe077e9c67d"
      }
     },
     "83684618855e4027a85edb28830ddea5": {
      "model_module": "@jupyter-widgets/controls",
      "model_module_version": "1.5.0",
      "model_name": "TextModel",
      "state": {
       "continuous_update": false,
       "description": "pdp=",
       "layout": "IPY_MODEL_264e65ad092d477ab783e47fe9b82a9e",
       "placeholder": "feat",
       "style": "IPY_MODEL_08db7bdb099648a8ad877b406176bf08",
       "value": "prep"
      }
     },
     "83795d6a387f46c38b4f33a8f1b06b61": {
      "model_module": "@jupyter-widgets/controls",
      "model_module_version": "1.5.0",
      "model_name": "DescriptionStyleModel",
      "state": {
       "description_width": ""
      }
     },
     "8384f089856d4f669b5fc09d99dbaef5": {
      "model_module": "@jupyter-widgets/base",
      "model_module_version": "1.2.0",
      "model_name": "LayoutModel",
      "state": {
       "flex": "auto 1 1",
       "height": "4em"
      }
     },
     "83f9dc9507224351bd7341d815b57ee2": {
      "model_module": "@jupyter-widgets/base",
      "model_module_version": "1.2.0",
      "model_name": "LayoutModel",
      "state": {
       "border": "1px solid black",
       "flex": "auto 1 1"
      }
     },
     "842b8251ecfe4eddbfff7738c45376c0": {
      "model_module": "@jupyter-widgets/base",
      "model_module_version": "1.2.0",
      "model_name": "LayoutModel",
      "state": {
       "align_content": "flex-start",
       "align_items": "flex-start",
       "border": "3px solid gray",
       "display": "inline-flex",
       "flex": "auto 0 0",
       "flex_flow": "column nowrap",
       "justify_content": "flex-start",
       "overflow": "auto"
      }
     },
     "844f463650234d88bbb870b1dc7cf074": {
      "model_module": "@jupyter-widgets/controls",
      "model_module_version": "1.5.0",
      "model_name": "DescriptionStyleModel",
      "state": {
       "description_width": ""
      }
     },
     "84d0554d4e0e45468dd0901f12bed788": {
      "model_module": "@jupyter-widgets/controls",
      "model_module_version": "1.5.0",
      "model_name": "TextModel",
      "state": {
       "continuous_update": false,
       "description": "pdp=",
       "layout": "IPY_MODEL_c98e258fce024947ae6249726835859c",
       "placeholder": "feat",
       "style": "IPY_MODEL_e08f3ceea47646659d7210c804a96772",
       "value": "subs"
      }
     },
     "84f8a6c8f8464c2398d4ba5833cdfea1": {
      "model_module": "@jupyter-widgets/controls",
      "model_module_version": "1.5.0",
      "model_name": "BoxModel",
      "state": {
       "children": [
        "IPY_MODEL_89d4c0160bda406c97b8677b8dda5f04",
        "IPY_MODEL_2ae5421c0b9c4922ad5fa8d075368df1",
        "IPY_MODEL_f8cae9256cb441d695e166f5cec2ef9a"
       ],
       "layout": "IPY_MODEL_32bf008bf6bc4565868d07d6fa07cba1"
      }
     },
     "84f92edd7f604e3b8e8740c817756b38": {
      "model_module": "@jupyter-widgets/controls",
      "model_module_version": "1.5.0",
      "model_name": "TextModel",
      "state": {
       "layout": "IPY_MODEL_1ee42b717afc481eb04d9d8974a8935f",
       "placeholder": "pdp",
       "style": "IPY_MODEL_061834341e2040ee8220d4262405dfc2",
       "value": "prep"
      }
     },
     "850b7738a5b64acabb3f10f1545997f2": {
      "model_module": "@jupyter-widgets/controls",
      "model_module_version": "1.5.0",
      "model_name": "ButtonModel",
      "state": {
       "description": "node 651573 feature typ changed from 'PP' to 'PPxx'. Click to save",
       "layout": "IPY_MODEL_f4d501e8f1cb425082751e3cc3eecb82",
       "style": "IPY_MODEL_1db28dbd1314413aaf51ca227f578bbe"
      }
     },
     "8570d550f59b4585b62251946353db00": {
      "model_module": "@jupyter-widgets/controls",
      "model_module_version": "1.5.0",
      "model_name": "HTMLModel",
      "state": {
       "layout": "IPY_MODEL_d35a76df3cda49868cc0d9ab8568c5b3",
       "style": "IPY_MODEL_de901ad18832466fb030cd2e598e8525",
       "value": "bᵊ"
      }
     },
     "8574f1966f8f4591b5faf3f659c4de7e": {
      "model_module": "@jupyter-widgets/controls",
      "model_module_version": "1.5.0",
      "model_name": "BoxModel",
      "state": {
       "children": [
        "IPY_MODEL_6e732e3aa7974535ae9f94b1c3afad03",
        "IPY_MODEL_aa2f09a02026440d8412621d5803d297"
       ],
       "layout": "IPY_MODEL_bb52b4e153c647cf9aebf685b1c07900"
      }
     },
     "85906b5fbd1f4424b1c79b9cd7c85c1a": {
      "model_module": "@jupyter-widgets/controls",
      "model_module_version": "1.5.0",
      "model_name": "BoxModel",
      "state": {
       "children": [
        "IPY_MODEL_2f9c22913f384b9eb4d6372056bd0b6a",
        "IPY_MODEL_63b7fa3e2afe4b88a3fdbced645b36f0"
       ],
       "layout": "IPY_MODEL_7bcd6d99a17444d994a666992924a307"
      }
     },
     "85b8fdca9feb4c129229bfe1002b693d": {
      "model_module": "@jupyter-widgets/controls",
      "model_module_version": "1.5.0",
      "model_name": "DescriptionStyleModel",
      "state": {
       "description_width": ""
      }
     },
     "85c17a2af8c94224b69c75a975a1f961": {
      "model_module": "@jupyter-widgets/controls",
      "model_module_version": "1.5.0",
      "model_name": "HTMLModel",
      "state": {
       "layout": "IPY_MODEL_2e5b48b392c64f5fa618c525ca5043bb",
       "style": "IPY_MODEL_f4facd767f05401784a63b8f19af65b1",
       "value": "word"
      }
     },
     "85fdcff9f9cf434abac55eb0297d4718": {
      "model_module": "@jupyter-widgets/controls",
      "model_module_version": "1.5.0",
      "model_name": "HTMLModel",
      "state": {
       "layout": "IPY_MODEL_72776ea40b7647c4bb7370e25aad85cb",
       "style": "IPY_MODEL_4c3e5461437947b7bbc5d411c104a827",
       "value": "pdp="
      }
     },
     "86081fc2db024fc3888cd615294f4415": {
      "model_module": "@jupyter-widgets/base",
      "model_module_version": "1.2.0",
      "model_name": "LayoutModel",
      "state": {}
     },
     "8608ad2380c84cef8c347e54ba2b8c1e": {
      "model_module": "@jupyter-widgets/controls",
      "model_module_version": "1.5.0",
      "model_name": "TextModel",
      "state": {
       "continuous_update": false,
       "description": "pdp=",
       "layout": "IPY_MODEL_f464fdb9f8104126a654e746d77a93eb",
       "placeholder": "feat",
       "style": "IPY_MODEL_6c6d678978a4415dbc0e6b4bb3725108",
       "value": "prep"
      }
     },
     "861a81adc17f4f1880b1954c664e16d5": {
      "model_module": "@jupyter-widgets/controls",
      "model_module_version": "1.5.0",
      "model_name": "DescriptionStyleModel",
      "state": {
       "description_width": ""
      }
     },
     "862eedf5ae5d4ee29f5ac5bc4c8dae87": {
      "model_module": "@jupyter-widgets/controls",
      "model_module_version": "1.5.0",
      "model_name": "DescriptionStyleModel",
      "state": {
       "description_width": ""
      }
     },
     "8632ccb779e947848eee86c49a42b962": {
      "model_module": "@jupyter-widgets/controls",
      "model_module_version": "1.5.0",
      "model_name": "DescriptionStyleModel",
      "state": {
       "description_width": ""
      }
     },
     "8654cc32670845a182623138cfcfdbc2": {
      "model_module": "@jupyter-widgets/controls",
      "model_module_version": "1.5.0",
      "model_name": "DescriptionStyleModel",
      "state": {
       "description_width": ""
      }
     },
     "86622a178eb541b5a6dc93511a16ca7a": {
      "model_module": "@jupyter-widgets/controls",
      "model_module_version": "1.5.0",
      "model_name": "TextModel",
      "state": {
       "continuous_update": false,
       "layout": "IPY_MODEL_740e27f9b923410ea3b36f1e5b08c0c3",
       "placeholder": "feat",
       "style": "IPY_MODEL_dfec264373ac483dadbcc2430f832715",
       "value": "Time"
      }
     },
     "86e92b0d75854f88845d319b3b9958d1": {
      "model_module": "@jupyter-widgets/controls",
      "model_module_version": "1.5.0",
      "model_name": "BoxModel",
      "state": {
       "children": [
        "IPY_MODEL_bd9e389ca7374790a181e3a626d174c2",
        "IPY_MODEL_0c6fe0df61dc4f32a3277a0db11358a0",
        "IPY_MODEL_04055f8b9af7450f97c3972b1921bb75"
       ],
       "layout": "IPY_MODEL_2759e2b881d848fd993eae590f3f8e4a"
      }
     },
     "86eae1d7013e45b5b4106e7c02975326": {
      "model_module": "@jupyter-widgets/controls",
      "model_module_version": "1.5.0",
      "model_name": "DescriptionStyleModel",
      "state": {
       "description_width": ""
      }
     },
     "86f5b608309e4c05a83d722fc6e04e30": {
      "model_module": "@jupyter-widgets/controls",
      "model_module_version": "1.5.0",
      "model_name": "DescriptionStyleModel",
      "state": {
       "description_width": ""
      }
     },
     "872f1700ae8c42ff85de32effb55f030": {
      "model_module": "@jupyter-widgets/controls",
      "model_module_version": "1.5.0",
      "model_name": "BoxModel",
      "state": {
       "children": [
        "IPY_MODEL_4e986fce196f443ba5e74553f2eabc3b",
        "IPY_MODEL_d5db7fc134cc49bb8d395884102224e9",
        "IPY_MODEL_22aa328c783a46998111ffd86ac65958"
       ],
       "layout": "IPY_MODEL_ab79f4f9e0a04cd8b2d328f64db36ce7"
      }
     },
     "873e50795e264958ab3607b31e076f3a": {
      "model_module": "@jupyter-widgets/controls",
      "model_module_version": "1.5.0",
      "model_name": "TextModel",
      "state": {
       "continuous_update": false,
       "layout": "IPY_MODEL_8ba1b58fc41a4001b29bb4c0a8408965",
       "placeholder": "feat",
       "style": "IPY_MODEL_97d4244c195b4facb2b1544ce31880ea",
       "value": "in"
      }
     },
     "8759702fa92c4d1fb0eef3b1bcf63535": {
      "model_module": "@jupyter-widgets/controls",
      "model_module_version": "1.5.0",
      "model_name": "HTMLModel",
      "state": {
       "layout": "IPY_MODEL_55619af8f473438c9fd0cf8cb7d07840",
       "style": "IPY_MODEL_2308d02a9fb345e99470c6810c096657",
       "value": "word"
      }
     },
     "87b499423f31489e98c99b21a5cd3136": {
      "model_module": "@jupyter-widgets/controls",
      "model_module_version": "1.5.0",
      "model_name": "TextModel",
      "state": {
       "continuous_update": false,
       "layout": "IPY_MODEL_f464fdb9f8104126a654e746d77a93eb",
       "placeholder": "feat",
       "style": "IPY_MODEL_29f63f8048e54c85be4c53d5ca5dd817",
       "value": "beginning"
      }
     },
     "87d025adee4a4b32983661950f715b15": {
      "model_module": "@jupyter-widgets/controls",
      "model_module_version": "1.5.0",
      "model_name": "ButtonStyleModel",
      "state": {}
     },
     "87ea183ef8294f5e81ce9cdb7873eb4c": {
      "model_module": "@jupyter-widgets/base",
      "model_module_version": "1.2.0",
      "model_name": "LayoutModel",
      "state": {
       "align_content": "flex-start",
       "align_items": "flex-start",
       "border": "1px solid gray",
       "display": "inline-flex",
       "flex": "auto 0 0",
       "flex_flow": "column nowrap",
       "justify_content": "flex-start",
       "overflow": "auto"
      }
     },
     "881f7dfb931e47d7a0f98aa3fb5e3068": {
      "model_module": "@jupyter-widgets/controls",
      "model_module_version": "1.5.0",
      "model_name": "DescriptionStyleModel",
      "state": {
       "description_width": ""
      }
     },
     "882659acb10e4df5a2d964a2b7f851d8": {
      "model_module": "@jupyter-widgets/controls",
      "model_module_version": "1.5.0",
      "model_name": "HTMLModel",
      "state": {
       "layout": "IPY_MODEL_00939393a17c47c18d0d77bc97ec88a7",
       "style": "IPY_MODEL_625ee40f73d14cd4b7bb234e7d6eeb9c",
       "value": "phrase"
      }
     },
     "885749af160b46c3977df1519eea86fd": {
      "model_module": "@jupyter-widgets/controls",
      "model_module_version": "1.5.0",
      "model_name": "BoxModel",
      "state": {
       "children": [
        "IPY_MODEL_370cdc38dc62456ab74371e617696a10",
        "IPY_MODEL_23b230d1739247c89f52bec5b52a7515",
        "IPY_MODEL_6670321dc3d54ebdae8fcff60b913242"
       ],
       "layout": "IPY_MODEL_53c8796b25d14924827335adacbf5df3"
      }
     },
     "886d4837a6eb498c8f24e3c1917e975c": {
      "model_module": "@jupyter-widgets/controls",
      "model_module_version": "1.5.0",
      "model_name": "TextModel",
      "state": {
       "continuous_update": false,
       "layout": "IPY_MODEL_740e27f9b923410ea3b36f1e5b08c0c3",
       "placeholder": "feat",
       "style": "IPY_MODEL_5e2d5324f1f347989f61ef85c2d3b09f",
       "value": "in"
      }
     },
     "88b4eb8ffc644471bda014999a60d018": {
      "model_module": "@jupyter-widgets/controls",
      "model_module_version": "1.5.0",
      "model_name": "DescriptionStyleModel",
      "state": {
       "description_width": ""
      }
     },
     "88ce33cd8e2a4b0da24be96ac9590d81": {
      "model_module": "@jupyter-widgets/controls",
      "model_module_version": "1.5.0",
      "model_name": "DescriptionStyleModel",
      "state": {
       "description_width": ""
      }
     },
     "88f7eb47a0e243f1b7d7505620b17fdc": {
      "model_module": "@jupyter-widgets/controls",
      "model_module_version": "1.5.0",
      "model_name": "DescriptionStyleModel",
      "state": {
       "description_width": ""
      }
     },
     "89013677f7e941c5834ed0d930fada7d": {
      "model_module": "@jupyter-widgets/controls",
      "model_module_version": "1.5.0",
      "model_name": "BoxModel",
      "state": {
       "children": [
        "IPY_MODEL_c5087586c3a8455aa8a80babbd989a0e",
        "IPY_MODEL_a6248c00f6f14eca848606414ca544e9"
       ],
       "layout": "IPY_MODEL_e1e8d58ce2b842f6acc58550db895078"
      }
     },
     "89045927e8e349e8868791db1d69a80f": {
      "model_module": "@jupyter-widgets/base",
      "model_module_version": "1.2.0",
      "model_name": "LayoutModel",
      "state": {}
     },
     "8972ca46e6674d6e91afcb747102a3a3": {
      "model_module": "@jupyter-widgets/controls",
      "model_module_version": "1.5.0",
      "model_name": "TextModel",
      "state": {
       "continuous_update": false,
       "layout": "IPY_MODEL_ad6fb28bc9ea40e2a8ba091a0609133a",
       "placeholder": "feat",
       "style": "IPY_MODEL_7eeb162a19114309ba5383787f19e12f",
       "value": "beginning"
      }
     },
     "89852f65c31c4c6da5f3d6fdafe27bd7": {
      "model_module": "@jupyter-widgets/controls",
      "model_module_version": "1.5.0",
      "model_name": "ButtonModel",
      "state": {
       "description": "Up to date",
       "disabled": true,
       "layout": "IPY_MODEL_f4d501e8f1cb425082751e3cc3eecb82",
       "style": "IPY_MODEL_041d6ba4be904d30b1e9684cebf0d386"
      }
     },
     "89b618bbe61448b7a2a65072ad43e112": {
      "model_module": "@jupyter-widgets/controls",
      "model_module_version": "1.5.0",
      "model_name": "TextModel",
      "state": {
       "continuous_update": false,
       "layout": "IPY_MODEL_72d2e5878f844b7aa594f3e4b6e7c04f",
       "placeholder": "feat",
       "style": "IPY_MODEL_21d8c8486e20484d82bc51177ee811a0",
       "value": "in"
      }
     },
     "89d4c0160bda406c97b8677b8dda5f04": {
      "model_module": "@jupyter-widgets/controls",
      "model_module_version": "1.5.0",
      "model_name": "HTMLModel",
      "state": {
       "layout": "IPY_MODEL_627c4dd39bac48988346e2035fde4b3c",
       "style": "IPY_MODEL_b60ed6d5625a4ff2baf137b52762b2cd",
       "value": "<a\n  class=\"txtu hbo\"\n  href=\"https://shebanq.ancient-data.org/hebrew/word?version=2021&amp;id=1B\"\n  target=\"_blank\"\n  title=\"Show this on SHEBANQ\">\n        <span class=\"txtp\">\n         bᵊ\n        </span>\n       </a>"
      }
     },
     "89e14fa6022147229cad977a48b9cfe6": {
      "model_module": "@jupyter-widgets/base",
      "model_module_version": "1.2.0",
      "model_name": "LayoutModel",
      "state": {
       "border": "1px solid black",
       "flex": "auto 1 1"
      }
     },
     "8a0dcae5a2c14686b91f3ebe173a86f8": {
      "model_module": "@jupyter-widgets/controls",
      "model_module_version": "1.5.0",
      "model_name": "DescriptionStyleModel",
      "state": {
       "description_width": ""
      }
     },
     "8a3a077f5ea84507bbb8ead133e9a510": {
      "model_module": "@jupyter-widgets/base",
      "model_module_version": "1.2.0",
      "model_name": "LayoutModel",
      "state": {
       "align_content": "flex-start",
       "align_items": "flex-start",
       "border": "3px solid gray",
       "display": "inline-flex",
       "flex": "auto 0 0",
       "flex_flow": "column nowrap",
       "justify_content": "flex-start",
       "overflow": "auto"
      }
     },
     "8a4c7920ef644b148d236d7425df218c": {
      "model_module": "@jupyter-widgets/controls",
      "model_module_version": "1.5.0",
      "model_name": "BoxModel",
      "state": {
       "children": [
        "IPY_MODEL_12956c69762840bf9fb32b2537804bd9",
        "IPY_MODEL_bcc09ac5293c4c91961afa37f754ca43",
        "IPY_MODEL_47db3f66d7b04315aae4f184994c241a",
        "IPY_MODEL_d8c5669cdeac4d00bb41adde2118da42"
       ],
       "layout": "IPY_MODEL_6eaaff4862e1420f943b774350fc8845"
      }
     },
     "8a54324df7e647fd8409e87bf4dbc7b8": {
      "model_module": "@jupyter-widgets/controls",
      "model_module_version": "1.5.0",
      "model_name": "DescriptionStyleModel",
      "state": {
       "description_width": ""
      }
     },
     "8a73de20fc294ed19a8b2b8dd068c085": {
      "model_module": "@jupyter-widgets/base",
      "model_module_version": "1.2.0",
      "model_name": "LayoutModel",
      "state": {
       "border": "1px solid gray",
       "flex": "auto 0 1",
       "flex_flow": "row"
      }
     },
     "8a94d12fddb5469aa82f161baeea03e5": {
      "model_module": "@jupyter-widgets/controls",
      "model_module_version": "1.5.0",
      "model_name": "BoxModel",
      "state": {
       "children": [
        "IPY_MODEL_c832de82faf84579b2e940303ab3c5b7",
        "IPY_MODEL_c2f43bafe4f34c3191c7390b8bddf564",
        "IPY_MODEL_c71d737af1e043e2af4fa62467544a78",
        "IPY_MODEL_f84bf9c7e3be49e99ee46fa367878521"
       ],
       "layout": "IPY_MODEL_4f2be8a44a804c0f896d5cfe7f9f4e1f"
      }
     },
     "8a9ee8dc3ad345768107421409c1d90d": {
      "model_module": "@jupyter-widgets/base",
      "model_module_version": "1.2.0",
      "model_name": "LayoutModel",
      "state": {
       "flex": "auto 1 1"
      }
     },
     "8b03dedc026b42038f9ade5a8660acbb": {
      "model_module": "@jupyter-widgets/controls",
      "model_module_version": "1.5.0",
      "model_name": "DescriptionStyleModel",
      "state": {
       "description_width": ""
      }
     },
     "8b122f908cf64615912dbc251f3c71e5": {
      "model_module": "@jupyter-widgets/controls",
      "model_module_version": "1.5.0",
      "model_name": "BoxModel",
      "state": {
       "children": [
        "IPY_MODEL_021606eb263d47d78ae251bd5013a88f",
        "IPY_MODEL_e4f84e2b6dfb4fc7b4ba745bbecebc7c",
        "IPY_MODEL_9a80613f38f34b5288299772ecb0937e",
        "IPY_MODEL_c8799f748be24b83bb2b7c58a6035511"
       ],
       "layout": "IPY_MODEL_50e8694774624d85949bec3e6c545098"
      }
     },
     "8b73641d7b4d42b8ba54ba4b3be3a338": {
      "model_module": "@jupyter-widgets/controls",
      "model_module_version": "1.5.0",
      "model_name": "DescriptionStyleModel",
      "state": {
       "description_width": ""
      }
     },
     "8ba1b58fc41a4001b29bb4c0a8408965": {
      "model_module": "@jupyter-widgets/base",
      "model_module_version": "1.2.0",
      "model_name": "LayoutModel",
      "state": {
       "align_content": "flex-start",
       "align_items": "flex-start",
       "flex": "auto 0 0",
       "justify_content": "flex-start",
       "overflow": "hidden"
      }
     },
     "8be0d11ad1fb43dfb09811f8546ea7f5": {
      "model_module": "@jupyter-widgets/controls",
      "model_module_version": "1.5.0",
      "model_name": "HTMLModel",
      "state": {
       "layout": "IPY_MODEL_00939393a17c47c18d0d77bc97ec88a7",
       "style": "IPY_MODEL_4e0df450c92a44b6acb5c715a5a45937",
       "value": "rēšˌîṯ"
      }
     },
     "8be3df34f8b24c80b9274a0c4ae13493": {
      "model_module": "@jupyter-widgets/controls",
      "model_module_version": "1.5.0",
      "model_name": "DescriptionStyleModel",
      "state": {
       "description_width": ""
      }
     },
     "8c0d93c9fc4f454980edea25ece00781": {
      "model_module": "@jupyter-widgets/controls",
      "model_module_version": "1.5.0",
      "model_name": "DescriptionStyleModel",
      "state": {
       "description_width": ""
      }
     },
     "8c11de331a2c401280ffee70a67477c6": {
      "model_module": "@jupyter-widgets/controls",
      "model_module_version": "1.5.0",
      "model_name": "DescriptionStyleModel",
      "state": {
       "description_width": ""
      }
     },
     "8c2547f426e54ed4b063c0058f75f291": {
      "model_module": "@jupyter-widgets/controls",
      "model_module_version": "1.5.0",
      "model_name": "DescriptionStyleModel",
      "state": {
       "description_width": ""
      }
     },
     "8c311b747da64da696ccc3d4da677af3": {
      "model_module": "@jupyter-widgets/controls",
      "model_module_version": "1.5.0",
      "model_name": "HTMLModel",
      "state": {
       "layout": "IPY_MODEL_28ef28c84dda496080c0768c6cd6a2a9",
       "style": "IPY_MODEL_3f01443fccf845bcb1e3f90cace4d09a",
       "value": "phrase"
      }
     },
     "8c413e19b22a4bb9b5fa8c0e9f328645": {
      "model_module": "@jupyter-widgets/controls",
      "model_module_version": "1.5.0",
      "model_name": "HTMLModel",
      "state": {
       "layout": "IPY_MODEL_4c7f21bcac3c469988c886892e35ad6d",
       "style": "IPY_MODEL_cde0ce27a8f4400fb783caf4f73130e2",
       "value": "word"
      }
     },
     "8c5d401400fb459fbccc42734d311dce": {
      "model_module": "@jupyter-widgets/controls",
      "model_module_version": "1.5.0",
      "model_name": "DescriptionStyleModel",
      "state": {
       "description_width": ""
      }
     },
     "8c602aabc0a04ab5a02801c57863d834": {
      "model_module": "@jupyter-widgets/controls",
      "model_module_version": "1.5.0",
      "model_name": "HTMLModel",
      "state": {
       "layout": "IPY_MODEL_82e3d868650f4c398c4df1567b38dd58",
       "style": "IPY_MODEL_d9c6da6d001a4886b8e149d3894936e1",
       "value": "<a\n  class=\"txtu hbo\"\n  href=\"https://shebanq.ancient-data.org/hebrew/word?version=2021&amp;id=1RACJTn\"\n  target=\"_blank\"\n  title=\"Show this on SHEBANQ\">\n        <span class=\"txtp\">\n         rēšˌîṯ\n        </span>\n       </a>"
      }
     },
     "8c923e4c83c6444691ed6e4111fa6252": {
      "model_module": "@jupyter-widgets/controls",
      "model_module_version": "1.5.0",
      "model_name": "DescriptionStyleModel",
      "state": {
       "description_width": ""
      }
     },
     "8cdf9df554b64890944ffcb4ad0a6d3c": {
      "model_module": "@jupyter-widgets/base",
      "model_module_version": "1.2.0",
      "model_name": "LayoutModel",
      "state": {}
     },
     "8d0d42b5c8594b7a8160f0905e1a83b6": {
      "model_module": "@jupyter-widgets/controls",
      "model_module_version": "1.5.0",
      "model_name": "DescriptionStyleModel",
      "state": {
       "description_width": ""
      }
     },
     "8d69b5cd9c1347d595a10929f4548428": {
      "model_module": "@jupyter-widgets/controls",
      "model_module_version": "1.5.0",
      "model_name": "ButtonStyleModel",
      "state": {}
     },
     "8d8a6cbd2df743e6ae0b802c6b5d4716": {
      "model_module": "@jupyter-widgets/base",
      "model_module_version": "1.2.0",
      "model_name": "LayoutModel",
      "state": {
       "align_content": "flex-start",
       "align_items": "flex-start",
       "border": "3px solid gray",
       "display": "inline-flex",
       "flex": "auto 0 0",
       "flex_flow": "column nowrap",
       "justify_content": "flex-start",
       "overflow": "auto"
      }
     },
     "8da823abcde24554a19fa23f79a5d0a9": {
      "model_module": "@jupyter-widgets/controls",
      "model_module_version": "1.5.0",
      "model_name": "DescriptionStyleModel",
      "state": {
       "description_width": ""
      }
     },
     "8dce4ec248c34277855af65ee58704f1": {
      "model_module": "@jupyter-widgets/controls",
      "model_module_version": "1.5.0",
      "model_name": "HTMLModel",
      "state": {
       "layout": "IPY_MODEL_d35a76df3cda49868cc0d9ab8568c5b3",
       "style": "IPY_MODEL_71eb0ce79a4446f7bf8ed6dddb0eac1c",
       "value": "word"
      }
     },
     "8de0c265d8cf4711b969eb197b477208": {
      "model_module": "@jupyter-widgets/base",
      "model_module_version": "1.2.0",
      "model_name": "LayoutModel",
      "state": {
       "align_content": "flex-start",
       "align_items": "flex-start",
       "flex": "auto 0 0",
       "justify_content": "flex-start",
       "overflow": "hidden"
      }
     },
     "8e0cb9569ad842eb97c84fa382e8a33c": {
      "model_module": "@jupyter-widgets/controls",
      "model_module_version": "1.5.0",
      "model_name": "ButtonStyleModel",
      "state": {}
     },
     "8e0e7fe9bcb14af69165cf97840f9a96": {
      "model_module": "@jupyter-widgets/controls",
      "model_module_version": "1.5.0",
      "model_name": "DescriptionStyleModel",
      "state": {
       "description_width": ""
      }
     },
     "8e27725f524548a6aae5596409559746": {
      "model_module": "@jupyter-widgets/controls",
      "model_module_version": "1.5.0",
      "model_name": "HTMLModel",
      "state": {
       "layout": "IPY_MODEL_4c7f21bcac3c469988c886892e35ad6d",
       "style": "IPY_MODEL_085aa8f11f39409b85f9ffe50f794d72",
       "value": "bᵊ"
      }
     },
     "8e4d4f8d8dd84c7e9ba0eeba12af17b4": {
      "model_module": "@jupyter-widgets/controls",
      "model_module_version": "1.5.0",
      "model_name": "BoxModel",
      "state": {
       "children": [
        "IPY_MODEL_3414902d06be4daca3d9df370c605ffb",
        "IPY_MODEL_d69705baca634e2aa2e6544c16c9e6c6",
        "IPY_MODEL_646270778f5e477b9340bff96f1e07f2",
        "IPY_MODEL_42cc65fd926346efa7ca011850ace4eb"
       ],
       "layout": "IPY_MODEL_02e04c2986bc4c709f87f495d35f10f7"
      }
     },
     "8e63612d3eae4de196a1bce5846e3e9b": {
      "model_module": "@jupyter-widgets/controls",
      "model_module_version": "1.5.0",
      "model_name": "BoxModel",
      "state": {
       "children": [
        "IPY_MODEL_abfc66ff5ee04825992102ff6aecf2df",
        "IPY_MODEL_8a94d12fddb5469aa82f161baeea03e5"
       ],
       "layout": "IPY_MODEL_d90c6bb058a941d2b4e5816f3dc8ec15"
      }
     },
     "8f2365663d5243ae9978fa8185e6ff69": {
      "model_module": "@jupyter-widgets/controls",
      "model_module_version": "1.5.0",
      "model_name": "DescriptionStyleModel",
      "state": {
       "description_width": ""
      }
     },
     "8f315f26f75f4ad78ab7b74bd829e7b0": {
      "model_module": "@jupyter-widgets/base",
      "model_module_version": "1.2.0",
      "model_name": "LayoutModel",
      "state": {
       "align_content": "flex-start",
       "align_items": "flex-start",
       "border": "3px solid gray",
       "display": "inline-flex",
       "flex": "auto 0 0",
       "flex_flow": "row wrap",
       "justify_content": "flex-start",
       "overflow": "auto"
      }
     },
     "8f44b2252f5b418ba83789b421f54801": {
      "model_module": "@jupyter-widgets/controls",
      "model_module_version": "1.5.0",
      "model_name": "TextModel",
      "state": {
       "continuous_update": false,
       "layout": "IPY_MODEL_998193dda5ba4744897a9fd7f1881127",
       "placeholder": "feat",
       "style": "IPY_MODEL_7a3625897188464daba26ff718270e1b",
       "value": "beginning"
      }
     },
     "8f6002b4943645aea380195a57c3e825": {
      "model_module": "@jupyter-widgets/controls",
      "model_module_version": "1.5.0",
      "model_name": "DescriptionStyleModel",
      "state": {
       "description_width": ""
      }
     },
     "8fa6ad3b41d64353baa47300a66368b3": {
      "model_module": "@jupyter-widgets/controls",
      "model_module_version": "1.5.0",
      "model_name": "HTMLModel",
      "state": {
       "layout": "IPY_MODEL_482346b169324d308f3aa5ff45d8987f",
       "style": "IPY_MODEL_644a5ea998f94e7694cc8dca6826dd05",
       "value": "phrase"
      }
     },
     "8fb50be174054297a7211cf62e7c071a": {
      "model_module": "@jupyter-widgets/controls",
      "model_module_version": "1.5.0",
      "model_name": "BoxModel",
      "state": {
       "children": [
        "IPY_MODEL_534c5d0014ea4419a60d98ed3aba5dea",
        "IPY_MODEL_bd491f142a7344948b3ea75972fc4da9",
        "IPY_MODEL_03e337ae2c6b4a47a567ac07a60d50c6"
       ],
       "layout": "IPY_MODEL_2759e2b881d848fd993eae590f3f8e4a"
      }
     },
     "8fc566f8dc9947ebb47def9c4222e51b": {
      "model_module": "@jupyter-widgets/controls",
      "model_module_version": "1.5.0",
      "model_name": "DescriptionStyleModel",
      "state": {
       "description_width": ""
      }
     },
     "8fe1506859fe4a7888d2157f01f1d72c": {
      "model_module": "@jupyter-widgets/controls",
      "model_module_version": "1.5.0",
      "model_name": "DescriptionStyleModel",
      "state": {
       "description_width": ""
      }
     },
     "90bc955cc9b94668b9b9f80e867f1f14": {
      "model_module": "@jupyter-widgets/base",
      "model_module_version": "1.2.0",
      "model_name": "LayoutModel",
      "state": {}
     },
     "9135dffb9b9c41448453c89db9e4d89b": {
      "model_module": "@jupyter-widgets/controls",
      "model_module_version": "1.5.0",
      "model_name": "BoxModel",
      "state": {
       "children": [
        "IPY_MODEL_4a582ec5fad44742a5d608afab248f48",
        "IPY_MODEL_42ae18198a3b4562943d3a6af45a4a44",
        "IPY_MODEL_4137e74107044ac7ab0a8d36396aabc6"
       ],
       "layout": "IPY_MODEL_cd61e9d618644476ab41893e32d01136"
      }
     },
     "915cd7658a214c7687ecb53469ac3d73": {
      "model_module": "@jupyter-widgets/controls",
      "model_module_version": "1.5.0",
      "model_name": "DescriptionStyleModel",
      "state": {
       "description_width": ""
      }
     },
     "91813cec2d71497dba1d4d8650bdee28": {
      "model_module": "@jupyter-widgets/controls",
      "model_module_version": "1.5.0",
      "model_name": "BoxModel",
      "state": {
       "children": [
        "IPY_MODEL_204f3eda76144a80aad94539f82f5237",
        "IPY_MODEL_bebe2e131c3a414aa969090c9665d29e",
        "IPY_MODEL_135e5bdfc70f46eb8770e41076417b4d",
        "IPY_MODEL_e32cbe01941a4b4f89fa6e5767b267e8"
       ],
       "layout": "IPY_MODEL_27d9037cfcdf4bddafdf6954da899f6d"
      }
     },
     "918e619fa6ce42b09e700221b1e70573": {
      "model_module": "@jupyter-widgets/base",
      "model_module_version": "1.2.0",
      "model_name": "LayoutModel",
      "state": {
       "border": "2px solid gray",
       "display": "inline-flex",
       "flex": "auto 0 1",
       "flex_flow": "column nowrap",
       "overflow": "auto"
      }
     },
     "919fd507b5194c39891ebca91018fca4": {
      "model_module": "@jupyter-widgets/base",
      "model_module_version": "1.2.0",
      "model_name": "LayoutModel",
      "state": {
       "align_content": "flex-start",
       "align_items": "flex-start",
       "flex": "auto 0 0",
       "justify_content": "flex-start"
      }
     },
     "91bf0308c2ed43898f3b75f109868792": {
      "model_module": "@jupyter-widgets/controls",
      "model_module_version": "1.5.0",
      "model_name": "HTMLModel",
      "state": {
       "layout": "IPY_MODEL_bb1f8489dccf4a7f9b14c9e7b79b13ab",
       "style": "IPY_MODEL_b99ffed4cc8f4950b32be4b808a344c0",
       "value": "phrase"
      }
     },
     "91e905880e9f427f8ea366ef55f02bae": {
      "model_module": "@jupyter-widgets/controls",
      "model_module_version": "1.5.0",
      "model_name": "TextModel",
      "state": {
       "continuous_update": false,
       "layout": "IPY_MODEL_b39ca3c53f7744a68c6bb8fcca233870",
       "placeholder": "feat",
       "style": "IPY_MODEL_8b03dedc026b42038f9ade5a8660acbb",
       "value": "beginning"
      }
     },
     "91fc8cba9a67414dbf348e2113e04ba3": {
      "model_module": "@jupyter-widgets/controls",
      "model_module_version": "1.5.0",
      "model_name": "TextModel",
      "state": {
       "continuous_update": false,
       "layout": "IPY_MODEL_482346b169324d308f3aa5ff45d8987f",
       "placeholder": "feat",
       "style": "IPY_MODEL_0cd1e74ce8e843fe93fe7e220b5f3bea",
       "value": "in"
      }
     },
     "924350e9d5bc4efdbeb00ba4c9f41282": {
      "model_module": "@jupyter-widgets/controls",
      "model_module_version": "1.5.0",
      "model_name": "TextModel",
      "state": {
       "continuous_update": false,
       "layout": "IPY_MODEL_2e5b48b392c64f5fa618c525ca5043bb",
       "placeholder": "feat",
       "style": "IPY_MODEL_10cb85a6915a470a8c5e6776811aa382",
       "value": "Time"
      }
     },
     "92904b3f3af9401e94bfd65c14733591": {
      "model_module": "@jupyter-widgets/controls",
      "model_module_version": "1.5.0",
      "model_name": "BoxModel",
      "state": {
       "children": [
        "IPY_MODEL_c7733363c0704fd78ad9106077cd1946",
        "IPY_MODEL_ebed82f51dc24db28debf21e22c87f37",
        "IPY_MODEL_8036fb5f0a204e8fb04165a0cfb8b10c"
       ],
       "layout": "IPY_MODEL_ee58c604ff0a464486bbefb578b3b1ef"
      }
     },
     "9292ff9a8a784cab8574c77e74bbd053": {
      "model_module": "@jupyter-widgets/base",
      "model_module_version": "1.2.0",
      "model_name": "LayoutModel",
      "state": {
       "border": "1px solid gray",
       "flex": "auto 0 1",
       "flex_flow": "row",
       "width": "25em"
      }
     },
     "92a60d3364844926a98a62ebb87d8586": {
      "model_module": "@jupyter-widgets/controls",
      "model_module_version": "1.5.0",
      "model_name": "TextModel",
      "state": {
       "layout": "IPY_MODEL_02a737450c1540b3acbd98f3efc870fb",
       "placeholder": "gloss",
       "style": "IPY_MODEL_0a10b494b36942fb83b1c8dc007795e0",
       "value": "in"
      }
     },
     "92cb7a672be2480b89aae40038044a1c": {
      "model_module": "@jupyter-widgets/controls",
      "model_module_version": "1.5.0",
      "model_name": "TextModel",
      "state": {
       "continuous_update": false,
       "layout": "IPY_MODEL_f75ded8b87ee4d9398164535195e3672",
       "placeholder": "feat",
       "style": "IPY_MODEL_984f0de07ac645b1aa73bbc03fb980db",
       "value": "Time"
      }
     },
     "92d0414b234a414abe8de6639b84899b": {
      "model_module": "@jupyter-widgets/controls",
      "model_module_version": "1.5.0",
      "model_name": "ButtonModel",
      "state": {
       "description": "Up to date",
       "disabled": true,
       "layout": "IPY_MODEL_54ffa0418e4c435b82d8a63ff1e1be9f",
       "style": "IPY_MODEL_676b2c486b244fa7b5b38f29acc3ee2a"
      }
     },
     "930701f0e01049faa99744d37e648de3": {
      "model_module": "@jupyter-widgets/controls",
      "model_module_version": "1.5.0",
      "model_name": "TextModel",
      "state": {
       "continuous_update": false,
       "description": "pdp=",
       "layout": "IPY_MODEL_28ef28c84dda496080c0768c6cd6a2a9",
       "placeholder": "feat",
       "style": "IPY_MODEL_e6b6433e888f4dcfb0a1c2fc5c76d7d3",
       "value": "prep"
      }
     },
     "930c8de6f4d54e1e912d28ea1052f87c": {
      "model_module": "@jupyter-widgets/base",
      "model_module_version": "1.2.0",
      "model_name": "LayoutModel",
      "state": {
       "align_content": "flex-start",
       "align_items": "flex-start",
       "border": "3px solid gray",
       "display": "inline-flex",
       "flex": "auto 0 0",
       "flex_flow": "row wrap",
       "justify_content": "flex-start",
       "overflow": "auto"
      }
     },
     "9314a9485ba84a258bea3b1b1727a3d4": {
      "model_module": "@jupyter-widgets/controls",
      "model_module_version": "1.5.0",
      "model_name": "DescriptionStyleModel",
      "state": {
       "description_width": ""
      }
     },
     "9317de18228643e8bff436abd29968c1": {
      "model_module": "@jupyter-widgets/controls",
      "model_module_version": "1.5.0",
      "model_name": "DescriptionStyleModel",
      "state": {
       "description_width": ""
      }
     },
     "932c63e42ab84667992a17e2b78d984e": {
      "model_module": "@jupyter-widgets/controls",
      "model_module_version": "1.5.0",
      "model_name": "BoxModel",
      "state": {
       "children": [
        "IPY_MODEL_d89485042d934407b70fc7deb50f442f",
        "IPY_MODEL_049ec4e51ebe4290bf73fdd7a0cb2670",
        "IPY_MODEL_cee023945456442ba5b256786a57d6d0"
       ],
       "layout": "IPY_MODEL_58474b77c5dd4ed985ae5df751e228b8"
      }
     },
     "93794f1075f34dd8997a9ff2cb8c669d": {
      "model_module": "@jupyter-widgets/controls",
      "model_module_version": "1.5.0",
      "model_name": "DescriptionStyleModel",
      "state": {
       "description_width": ""
      }
     },
     "93a9a822d1744fa78ac2ce37d86bed71": {
      "model_module": "@jupyter-widgets/controls",
      "model_module_version": "1.5.0",
      "model_name": "TextModel",
      "state": {
       "description": "pdp=",
       "layout": "IPY_MODEL_dbf6d89ff9684cbe9f7e69080120e728",
       "placeholder": "pdp",
       "style": "IPY_MODEL_09439b64c1fb44cfa74d1c8b65c16628",
       "value": "subs"
      }
     },
     "945503db2406451aa8be6fd5052f0246": {
      "model_module": "@jupyter-widgets/controls",
      "model_module_version": "1.5.0",
      "model_name": "TextModel",
      "state": {
       "layout": "IPY_MODEL_bf0de77b764547118f2b08517d675ed3",
       "placeholder": "typ",
       "style": "IPY_MODEL_8d0d42b5c8594b7a8160f0905e1a83b6",
       "value": "PP"
      }
     },
     "946a98f75d4d48be944b4ac2d6fb7dc7": {
      "model_module": "@jupyter-widgets/controls",
      "model_module_version": "1.5.0",
      "model_name": "DescriptionStyleModel",
      "state": {
       "description_width": ""
      }
     },
     "94891baf485a4ebb80813c93c360925e": {
      "model_module": "@jupyter-widgets/controls",
      "model_module_version": "1.5.0",
      "model_name": "BoxModel",
      "state": {
       "children": [
        "IPY_MODEL_a229cdffdab342a4bb8f0434702b7271",
        "IPY_MODEL_db7b7a5c19b9438cbe176ee494830bd2",
        "IPY_MODEL_d2f73f716c8e44c890cf4e1ad97683ec",
        "IPY_MODEL_244686c7c4a443cdb6d7fa3a453c05df"
       ],
       "layout": "IPY_MODEL_7d10d474801c4640a49bcd2cbcf05f80"
      }
     },
     "94a93358ac5a40edb46c1d9dc8f417e3": {
      "model_module": "@jupyter-widgets/controls",
      "model_module_version": "1.5.0",
      "model_name": "BoxModel",
      "state": {
       "children": [
        "IPY_MODEL_4c5fe1d8c8c6484ea33646b6f023ceb0",
        "IPY_MODEL_ba00c9c8b0574816b72b457286899109"
       ],
       "layout": "IPY_MODEL_75ca4a9014c14d338bec87abc8529a48"
      }
     },
     "94c1a86cd44443c39722381e09fea0d0": {
      "model_module": "@jupyter-widgets/base",
      "model_module_version": "1.2.0",
      "model_name": "LayoutModel",
      "state": {}
     },
     "94eeff632a364b3e8d4bc97d42bf57c1": {
      "model_module": "@jupyter-widgets/controls",
      "model_module_version": "1.5.0",
      "model_name": "DescriptionStyleModel",
      "state": {
       "description_width": ""
      }
     },
     "9501e6d130c643b9ad123f948ff3027f": {
      "model_module": "@jupyter-widgets/controls",
      "model_module_version": "1.5.0",
      "model_name": "DescriptionStyleModel",
      "state": {
       "description_width": ""
      }
     },
     "954a20d90c4247199c0aa2225d41e3cc": {
      "model_module": "@jupyter-widgets/controls",
      "model_module_version": "1.5.0",
      "model_name": "TextModel",
      "state": {
       "layout": "IPY_MODEL_1ee42b717afc481eb04d9d8974a8935f",
       "placeholder": "gloss",
       "style": "IPY_MODEL_b06d4102b73f47c6a283958f81fcf4fd",
       "value": "beginning"
      }
     },
     "957c70d2a94942bcb78bd6be36d6c9ab": {
      "model_module": "@jupyter-widgets/base",
      "model_module_version": "1.2.0",
      "model_name": "LayoutModel",
      "state": {
       "align_content": "flex-start",
       "align_items": "flex-start",
       "border": "1px solid gray",
       "display": "inline-flex",
       "flex": "auto 0 0",
       "flex_flow": "column nowrap",
       "justify_content": "flex-start",
       "overflow": "auto"
      }
     },
     "959824a5ee984dc984bb5418ec6126b2": {
      "model_module": "@jupyter-widgets/controls",
      "model_module_version": "1.5.0",
      "model_name": "TextModel",
      "state": {
       "continuous_update": false,
       "layout": "IPY_MODEL_d35a76df3cda49868cc0d9ab8568c5b3",
       "placeholder": "feat",
       "style": "IPY_MODEL_b86d06c983d746ccab04baf95951a9bc",
       "value": "in"
      }
     },
     "95be6aa935db49b383c2f62d816f62c2": {
      "model_module": "@jupyter-widgets/controls",
      "model_module_version": "1.5.0",
      "model_name": "DescriptionStyleModel",
      "state": {
       "description_width": ""
      }
     },
     "96217be90c0548f9be51261cc0861faa": {
      "model_module": "@jupyter-widgets/base",
      "model_module_version": "1.2.0",
      "model_name": "LayoutModel",
      "state": {
       "border": "1px solid black",
       "flex": "auto 1 1"
      }
     },
     "962a80f4fce5437a865dd505f327c04c": {
      "model_module": "@jupyter-widgets/controls",
      "model_module_version": "1.5.0",
      "model_name": "HTMLModel",
      "state": {
       "layout": "IPY_MODEL_482346b169324d308f3aa5ff45d8987f",
       "style": "IPY_MODEL_a2c6946ea4a9420da48637c15535d484",
       "value": "phrase"
      }
     },
     "964c4ac8ad2848239c68a1d54f9ef533": {
      "model_module": "@jupyter-widgets/controls",
      "model_module_version": "1.5.0",
      "model_name": "DescriptionStyleModel",
      "state": {
       "description_width": ""
      }
     },
     "969b8c5f4ffe499a91fa3933a09d1286": {
      "model_module": "@jupyter-widgets/controls",
      "model_module_version": "1.5.0",
      "model_name": "DescriptionStyleModel",
      "state": {
       "description_width": ""
      }
     },
     "96b7407f57cc4c6cacfede55521de2a5": {
      "model_module": "@jupyter-widgets/base",
      "model_module_version": "1.2.0",
      "model_name": "LayoutModel",
      "state": {
       "align_content": "flex-start",
       "align_items": "flex-start",
       "flex": "auto 0 0",
       "justify_content": "flex-start",
       "overflow": "hidden"
      }
     },
     "96e2f48ed7974361abefee41618f7910": {
      "model_module": "@jupyter-widgets/controls",
      "model_module_version": "1.5.0",
      "model_name": "TextModel",
      "state": {
       "continuous_update": false,
       "layout": "IPY_MODEL_00939393a17c47c18d0d77bc97ec88a7",
       "placeholder": "feat",
       "style": "IPY_MODEL_9d994b1536424b57b3f56e6a69ef8075",
       "value": "Time"
      }
     },
     "9701153813094c3793b02dbed139cfbc": {
      "model_module": "@jupyter-widgets/base",
      "model_module_version": "1.2.0",
      "model_name": "LayoutModel",
      "state": {}
     },
     "9731c3472446455f9bd91bdbf245dfb5": {
      "model_module": "@jupyter-widgets/controls",
      "model_module_version": "1.5.0",
      "model_name": "DescriptionStyleModel",
      "state": {
       "description_width": ""
      }
     },
     "97423c81af2c49819ff6e0e32936b8cf": {
      "model_module": "@jupyter-widgets/base",
      "model_module_version": "1.2.0",
      "model_name": "LayoutModel",
      "state": {
       "align_content": "flex-start",
       "align_items": "flex-start",
       "border": "3px solid gray",
       "display": "inline-flex",
       "flex": "auto 0 0",
       "flex_flow": "row wrap",
       "justify_content": "flex-start",
       "overflow": "auto"
      }
     },
     "976c7eacea584d349e1e983fabba6c0f": {
      "model_module": "@jupyter-widgets/controls",
      "model_module_version": "1.5.0",
      "model_name": "DescriptionStyleModel",
      "state": {
       "description_width": ""
      }
     },
     "976c92b27d24422e98a3525c58390cae": {
      "model_module": "@jupyter-widgets/controls",
      "model_module_version": "1.5.0",
      "model_name": "DescriptionStyleModel",
      "state": {
       "description_width": ""
      }
     },
     "977fbce27a9e45789bcdf1596d177e7d": {
      "model_module": "@jupyter-widgets/controls",
      "model_module_version": "1.5.0",
      "model_name": "BoxModel",
      "state": {
       "children": [
        "IPY_MODEL_8e4d4f8d8dd84c7e9ba0eeba12af17b4",
        "IPY_MODEL_f174a83093a34564b5d08176b88a9ae9"
       ],
       "layout": "IPY_MODEL_5cbb68e4b7dd4160bd514494d3ff7ef1"
      }
     },
     "97d4244c195b4facb2b1544ce31880ea": {
      "model_module": "@jupyter-widgets/controls",
      "model_module_version": "1.5.0",
      "model_name": "DescriptionStyleModel",
      "state": {
       "description_width": ""
      }
     },
     "9824edcc946e4f958fae815b744547fb": {
      "model_module": "@jupyter-widgets/controls",
      "model_module_version": "1.5.0",
      "model_name": "TextModel",
      "state": {
       "continuous_update": false,
       "layout": "IPY_MODEL_9d2baabf83524d14b20e9d27b558ad14",
       "placeholder": "feat",
       "style": "IPY_MODEL_188ecab091d54e418490e97d5de6db55",
       "value": "in"
      }
     },
     "982d878c977b400181c3f606f54b4a17": {
      "model_module": "@jupyter-widgets/controls",
      "model_module_version": "1.5.0",
      "model_name": "DescriptionStyleModel",
      "state": {
       "description_width": ""
      }
     },
     "9837f97b15b34e49a2c8d94d9e0f3aff": {
      "model_module": "@jupyter-widgets/controls",
      "model_module_version": "1.5.0",
      "model_name": "HTMLModel",
      "state": {
       "layout": "IPY_MODEL_4c7f21bcac3c469988c886892e35ad6d",
       "style": "IPY_MODEL_61917d09222b4372ae6f0266ef86c0e7",
       "value": "phrase"
      }
     },
     "983a4bc494094c55aeb110282a8fc63a": {
      "model_module": "@jupyter-widgets/controls",
      "model_module_version": "1.5.0",
      "model_name": "DescriptionStyleModel",
      "state": {
       "description_width": ""
      }
     },
     "984f0de07ac645b1aa73bbc03fb980db": {
      "model_module": "@jupyter-widgets/controls",
      "model_module_version": "1.5.0",
      "model_name": "DescriptionStyleModel",
      "state": {
       "description_width": ""
      }
     },
     "986e11922b884740b07aeef2d0e2ed80": {
      "model_module": "@jupyter-widgets/controls",
      "model_module_version": "1.5.0",
      "model_name": "BoxModel",
      "state": {
       "children": [
        "IPY_MODEL_20c8459722e948d995ab6257c8d7efbd",
        "IPY_MODEL_a465e5ff17994c48ab64f2bea20e1b6f",
        "IPY_MODEL_647a406a8a2046898e7afbdd5024fe49",
        "IPY_MODEL_de8004978efb49de992b5d32c69ced8b"
       ],
       "layout": "IPY_MODEL_575706b709aa4f829656baaa41aa009a"
      }
     },
     "98cf4a856e5440a0976299a011a57fb3": {
      "model_module": "@jupyter-widgets/controls",
      "model_module_version": "1.5.0",
      "model_name": "DescriptionStyleModel",
      "state": {
       "description_width": ""
      }
     },
     "9947596975764044b886aa6998c8f87e": {
      "model_module": "@jupyter-widgets/controls",
      "model_module_version": "1.5.0",
      "model_name": "BoxModel",
      "state": {
       "children": [
        "IPY_MODEL_c75af6e5769b4a85bde64f9133bea656",
        "IPY_MODEL_ba70797fc3614aa1ae9da4f7d0c397d8"
       ],
       "layout": "IPY_MODEL_575518d330034d8fbf89d68f13af486d"
      }
     },
     "996cfa00bffb4594b9a944a33543a63f": {
      "model_module": "@jupyter-widgets/controls",
      "model_module_version": "1.5.0",
      "model_name": "DescriptionStyleModel",
      "state": {
       "description_width": ""
      }
     },
     "998193dda5ba4744897a9fd7f1881127": {
      "model_module": "@jupyter-widgets/base",
      "model_module_version": "1.2.0",
      "model_name": "LayoutModel",
      "state": {
       "align_content": "flex-start",
       "align_items": "flex-start",
       "flex": "auto 0 0",
       "justify_content": "flex-start"
      }
     },
     "998e1e3123c64757a56fa2dd2bb0922a": {
      "model_module": "@jupyter-widgets/controls",
      "model_module_version": "1.5.0",
      "model_name": "HTMLModel",
      "state": {
       "layout": "IPY_MODEL_998193dda5ba4744897a9fd7f1881127",
       "style": "IPY_MODEL_f6183468ed3f411e86cdca56913ebf1c",
       "value": "bᵊ"
      }
     },
     "99a38a90622849758158bfb1f92f59f9": {
      "model_module": "@jupyter-widgets/controls",
      "model_module_version": "1.5.0",
      "model_name": "BoxModel",
      "state": {
       "children": [
        "IPY_MODEL_4c77a35e02254cc6b3e0cd86adb051bf",
        "IPY_MODEL_b58ebb4918b348aaa64c534faf8bae2f"
       ],
       "layout": "IPY_MODEL_e763f9fe8a8e47fc8fd4eeca2fc0015d"
      }
     },
     "99a45c37670a40fc98542cbbaf589f55": {
      "model_module": "@jupyter-widgets/controls",
      "model_module_version": "1.5.0",
      "model_name": "HTMLModel",
      "state": {
       "layout": "IPY_MODEL_28ef28c84dda496080c0768c6cd6a2a9",
       "style": "IPY_MODEL_08a5f87328704ca9bbcd238c2b3fc026",
       "value": "bᵊ"
      }
     },
     "9a04e86921f74f04b67002702eadf633": {
      "model_module": "@jupyter-widgets/controls",
      "model_module_version": "1.5.0",
      "model_name": "DescriptionStyleModel",
      "state": {
       "description_width": ""
      }
     },
     "9a1bab5b194d4b6b8f1560270e9bcabc": {
      "model_module": "@jupyter-widgets/controls",
      "model_module_version": "1.5.0",
      "model_name": "DescriptionStyleModel",
      "state": {
       "description_width": ""
      }
     },
     "9a312354788d4a99bc2c83cb625a845f": {
      "model_module": "@jupyter-widgets/controls",
      "model_module_version": "1.5.0",
      "model_name": "DescriptionStyleModel",
      "state": {
       "description_width": ""
      }
     },
     "9a46d34fff9441838c3132a195222f52": {
      "model_module": "@jupyter-widgets/controls",
      "model_module_version": "1.5.0",
      "model_name": "DescriptionStyleModel",
      "state": {
       "description_width": ""
      }
     },
     "9a6610e5d7be4feab929fe17a5cfab57": {
      "model_module": "@jupyter-widgets/controls",
      "model_module_version": "1.5.0",
      "model_name": "HTMLModel",
      "state": {
       "layout": "IPY_MODEL_72d2e5878f844b7aa594f3e4b6e7c04f",
       "style": "IPY_MODEL_4bcd3ffbcbe742dd9a692979bf761cde",
       "value": "word"
      }
     },
     "9a66c31a929b439dafcdd481e43249e4": {
      "model_module": "@jupyter-widgets/controls",
      "model_module_version": "1.5.0",
      "model_name": "BoxModel",
      "state": {
       "children": [
        "IPY_MODEL_c16638158b7a4b20b6d1191326c03ec9",
        "IPY_MODEL_e610252a9873435380fd64a19b9929a2",
        "IPY_MODEL_f2d23ca497db4b9882015c0907e7cba9"
       ],
       "layout": "IPY_MODEL_ede9c578de004049bd068de4bdffa1f4"
      }
     },
     "9a80613f38f34b5288299772ecb0937e": {
      "model_module": "@jupyter-widgets/controls",
      "model_module_version": "1.5.0",
      "model_name": "TextModel",
      "state": {
       "continuous_update": false,
       "layout": "IPY_MODEL_482346b169324d308f3aa5ff45d8987f",
       "placeholder": "feat",
       "style": "IPY_MODEL_25d1cbecebaa4433b562a8b1b9635039",
       "value": "in"
      }
     },
     "9ae4545af37946e48e8c3e47e1529120": {
      "model_module": "@jupyter-widgets/base",
      "model_module_version": "1.2.0",
      "model_name": "LayoutModel",
      "state": {
       "align_content": "flex-start",
       "align_items": "flex-start",
       "border": "3px solid gray",
       "display": "inline-flex",
       "flex": "auto 0 0",
       "flex_flow": "row wrap",
       "justify_content": "flex-start",
       "overflow": "auto"
      }
     },
     "9aeae92bda374ecaa18e4fee8a2235ee": {
      "model_module": "@jupyter-widgets/controls",
      "model_module_version": "1.5.0",
      "model_name": "DescriptionStyleModel",
      "state": {
       "description_width": ""
      }
     },
     "9aee992022dc48daaa0e19664827d39e": {
      "model_module": "@jupyter-widgets/controls",
      "model_module_version": "1.5.0",
      "model_name": "DescriptionStyleModel",
      "state": {
       "description_width": ""
      }
     },
     "9b0c3db127e341688c00bc10cd3d92fa": {
      "model_module": "@jupyter-widgets/controls",
      "model_module_version": "1.5.0",
      "model_name": "HTMLModel",
      "state": {
       "layout": "IPY_MODEL_28ef28c84dda496080c0768c6cd6a2a9",
       "style": "IPY_MODEL_7c0bf443d860468ba09d477ae1ef1697",
       "value": "rēšˌîṯ"
      }
     },
     "9b2359ab02174791a9bfa9554ce5bf1a": {
      "model_module": "@jupyter-widgets/base",
      "model_module_version": "1.2.0",
      "model_name": "LayoutModel",
      "state": {
       "flex": "auto 1 1"
      }
     },
     "9b38a24f3f3447719ba0df0a5d933fcb": {
      "model_module": "@jupyter-widgets/controls",
      "model_module_version": "1.5.0",
      "model_name": "DescriptionStyleModel",
      "state": {
       "description_width": ""
      }
     },
     "9b706df940774760a1cfca1158d0f947": {
      "model_module": "@jupyter-widgets/controls",
      "model_module_version": "1.5.0",
      "model_name": "BoxModel",
      "state": {
       "children": [
        "IPY_MODEL_c7d84d1750c94e97a8382b8a4c267637",
        "IPY_MODEL_2257acd104e7427798dd973d7158122a",
        "IPY_MODEL_68a54a6c8a1a4846ab4050302dc6b289"
       ],
       "layout": "IPY_MODEL_33aec3a07566491f9157f40616d75c59"
      }
     },
     "9bae589a66e14f1684932f6b57c6b252": {
      "model_module": "@jupyter-widgets/controls",
      "model_module_version": "1.5.0",
      "model_name": "TextModel",
      "state": {
       "continuous_update": false,
       "layout": "IPY_MODEL_8ba1b58fc41a4001b29bb4c0a8408965",
       "placeholder": "feat",
       "style": "IPY_MODEL_8c923e4c83c6444691ed6e4111fa6252",
       "value": "Time"
      }
     },
     "9bffbbf8621545bfb6d2fba9f1d0327e": {
      "model_module": "@jupyter-widgets/controls",
      "model_module_version": "1.5.0",
      "model_name": "TextModel",
      "state": {
       "layout": "IPY_MODEL_6473dda2915f41ed964de8ff103afadb",
       "placeholder": "typ",
       "style": "IPY_MODEL_d40dc5b6764e40cebb50ef82261a51df",
       "value": "PP"
      }
     },
     "9c0370a75f4f427abcca2e6e96076ae7": {
      "model_module": "@jupyter-widgets/controls",
      "model_module_version": "1.5.0",
      "model_name": "TextModel",
      "state": {
       "layout": "IPY_MODEL_02a737450c1540b3acbd98f3efc870fb",
       "placeholder": "gloss",
       "style": "IPY_MODEL_88b4eb8ffc644471bda014999a60d018",
       "value": "beginning"
      }
     },
     "9c53eb6e117640f2bc6d075436ff1d00": {
      "model_module": "@jupyter-widgets/controls",
      "model_module_version": "1.5.0",
      "model_name": "BoxModel",
      "state": {
       "children": [
        "IPY_MODEL_201bb9a9e7c740cf9c4f95ff4cc31db9",
        "IPY_MODEL_e22692d185a44e878d79ed5465db2f39",
        "IPY_MODEL_7bef5d051b5d43078efc9457f54aef41",
        "IPY_MODEL_ee152d7cf69041f28bcba3dc8627fa81"
       ],
       "layout": "IPY_MODEL_ff1546fd96e54f168944d02711d56e0e"
      }
     },
     "9cc4a65d0e7c40eea47de212e13ff20c": {
      "model_module": "@jupyter-widgets/base",
      "model_module_version": "1.2.0",
      "model_name": "LayoutModel",
      "state": {
       "border": "1px solid black",
       "flex": "auto 1 1"
      }
     },
     "9d2baabf83524d14b20e9d27b558ad14": {
      "model_module": "@jupyter-widgets/base",
      "model_module_version": "1.2.0",
      "model_name": "LayoutModel",
      "state": {
       "align_content": "flex-start",
       "align_items": "flex-start",
       "flex": "auto 0 0",
       "justify_content": "flex-start",
       "overflow": "hidden"
      }
     },
     "9d9638744dea4b06aa3372ed0fce825c": {
      "model_module": "@jupyter-widgets/controls",
      "model_module_version": "1.5.0",
      "model_name": "DescriptionStyleModel",
      "state": {
       "description_width": ""
      }
     },
     "9d994b1536424b57b3f56e6a69ef8075": {
      "model_module": "@jupyter-widgets/controls",
      "model_module_version": "1.5.0",
      "model_name": "DescriptionStyleModel",
      "state": {
       "description_width": ""
      }
     },
     "9d9e444df58b48498524d8ad97ff485c": {
      "model_module": "@jupyter-widgets/controls",
      "model_module_version": "1.5.0",
      "model_name": "DescriptionStyleModel",
      "state": {
       "description_width": ""
      }
     },
     "9de283b4ed2c4a9fb65e1c5d3fbf8af1": {
      "model_module": "@jupyter-widgets/controls",
      "model_module_version": "1.5.0",
      "model_name": "DescriptionStyleModel",
      "state": {
       "description_width": ""
      }
     },
     "9e1ea127280a43ca98c0fa359ca618c0": {
      "model_module": "@jupyter-widgets/base",
      "model_module_version": "1.2.0",
      "model_name": "LayoutModel",
      "state": {
       "border": "1px solid gray",
       "display": "inline-flex",
       "flex": "auto 0 1",
       "flex_flow": "row wrap"
      }
     },
     "9e1eb3b9567c4250b13fd86cee0e7d78": {
      "model_module": "@jupyter-widgets/controls",
      "model_module_version": "1.5.0",
      "model_name": "DescriptionStyleModel",
      "state": {
       "description_width": ""
      }
     },
     "9e430a130cd5403ba40347ee41a1193e": {
      "model_module": "@jupyter-widgets/controls",
      "model_module_version": "1.5.0",
      "model_name": "TextModel",
      "state": {
       "continuous_update": false,
       "layout": "IPY_MODEL_04f1ce2d4cda40bf95f907692b6d30f8",
       "placeholder": "feat",
       "style": "IPY_MODEL_03c1b644010446e2b2e437ed5843150d",
       "value": "PPxx"
      }
     },
     "9e625b68aa2147138e88053de58809ad": {
      "model_module": "@jupyter-widgets/controls",
      "model_module_version": "1.5.0",
      "model_name": "BoxModel",
      "state": {
       "children": [
        "IPY_MODEL_203a91d96b9a4ff78f21b3d747e05550",
        "IPY_MODEL_0250fc84777b4fd2bd9ebe5c71045843",
        "IPY_MODEL_e015e0c6853f4624934a56974105fb1a"
       ],
       "layout": "IPY_MODEL_fc02dc81d9414c44b4f63337f79098b1"
      }
     },
     "9e80f1ff970749bc842c3bede446eeb3": {
      "model_module": "@jupyter-widgets/controls",
      "model_module_version": "1.5.0",
      "model_name": "TextModel",
      "state": {
       "continuous_update": false,
       "layout": "IPY_MODEL_55619af8f473438c9fd0cf8cb7d07840",
       "placeholder": "feat",
       "style": "IPY_MODEL_4986800c51e442d6aa5774713fabc25c",
       "value": "beginning"
      }
     },
     "9e9293bcfc1640bf95ffc811aaf14591": {
      "model_module": "@jupyter-widgets/controls",
      "model_module_version": "1.5.0",
      "model_name": "HTMLModel",
      "state": {
       "layout": "IPY_MODEL_d35a76df3cda49868cc0d9ab8568c5b3",
       "style": "IPY_MODEL_1dc92f81a30c4cb4a6445093fd44ebcd",
       "value": "phrase"
      }
     },
     "9edae6dde2d2419f82c76e2305e7ed33": {
      "model_module": "@jupyter-widgets/controls",
      "model_module_version": "1.5.0",
      "model_name": "ButtonModel",
      "state": {
       "description": "Up to date",
       "disabled": true,
       "layout": "IPY_MODEL_3609cd9775204bd8b2280a2924696e33",
       "style": "IPY_MODEL_63f439c8f735424b8bf70cecf991c58d"
      }
     },
     "9f3d22b78f984a46b20b3d63a50efa63": {
      "model_module": "@jupyter-widgets/controls",
      "model_module_version": "1.5.0",
      "model_name": "DescriptionStyleModel",
      "state": {
       "description_width": ""
      }
     },
     "9f7a7f16f66a46daae74ce893b70f9a8": {
      "model_module": "@jupyter-widgets/base",
      "model_module_version": "1.2.0",
      "model_name": "LayoutModel",
      "state": {
       "border": "3px solid gray",
       "flex": "auto 0 0",
       "flex_flow": "row"
      }
     },
     "9f7e0570d9334ce293ac75584f5e2e95": {
      "model_module": "@jupyter-widgets/controls",
      "model_module_version": "1.5.0",
      "model_name": "DescriptionStyleModel",
      "state": {
       "description_width": ""
      }
     },
     "9f83c6ba64fa40cb9722cbe077e9c67d": {
      "model_module": "@jupyter-widgets/base",
      "model_module_version": "1.2.0",
      "model_name": "LayoutModel",
      "state": {
       "align_content": "flex-start",
       "align_items": "flex-start",
       "border": "1px solid gray",
       "display": "inline-flex",
       "flex": "auto 0 0",
       "flex_flow": "column nowrap",
       "justify_content": "flex-start",
       "overflow": "auto"
      }
     },
     "9f9ace8ae465485395cb22974b8ee819": {
      "model_module": "@jupyter-widgets/controls",
      "model_module_version": "1.5.0",
      "model_name": "DescriptionStyleModel",
      "state": {
       "description_width": ""
      }
     },
     "9f9ecc1e45bc4dc087d88918f1f478fb": {
      "model_module": "@jupyter-widgets/controls",
      "model_module_version": "1.5.0",
      "model_name": "DescriptionStyleModel",
      "state": {
       "description_width": ""
      }
     },
     "9fc9b45b3f3140f691d9bd1d046a4177": {
      "model_module": "@jupyter-widgets/controls",
      "model_module_version": "1.5.0",
      "model_name": "HTMLModel",
      "state": {
       "layout": "IPY_MODEL_f464fdb9f8104126a654e746d77a93eb",
       "style": "IPY_MODEL_7df618239c1340b2bf2d6b458bb42d5b",
       "value": "word"
      }
     },
     "9fcdde84ae2343318b0fc9e27f0dd98f": {
      "model_module": "@jupyter-widgets/controls",
      "model_module_version": "1.5.0",
      "model_name": "ButtonModel",
      "state": {
       "description": "Up to date",
       "disabled": true,
       "layout": "IPY_MODEL_4fd4f474745243d4887169f1b8cb0281",
       "style": "IPY_MODEL_49abace547e846c8b383eef7409b0a0d"
      }
     },
     "9ff04d72988542cbb62025767e6b2d4b": {
      "model_module": "@jupyter-widgets/controls",
      "model_module_version": "1.5.0",
      "model_name": "BoxModel",
      "state": {
       "children": [
        "IPY_MODEL_82a4fe54fdbe413faa2bead5c458db5a",
        "IPY_MODEL_2ed3af56e4d447af8b860ce9a39187d7",
        "IPY_MODEL_4d11640df4c84bc3b28fa20e2d3869e7",
        "IPY_MODEL_616fbf93edde4ab6a61f7ba36863585f"
       ],
       "layout": "IPY_MODEL_87ea183ef8294f5e81ce9cdb7873eb4c"
      }
     },
     "9ff95281199448d6994bdf24ea0e5540": {
      "model_module": "@jupyter-widgets/controls",
      "model_module_version": "1.5.0",
      "model_name": "DescriptionStyleModel",
      "state": {
       "description_width": ""
      }
     },
     "a01577f77e4f484a8e9565beada0cd73": {
      "model_module": "@jupyter-widgets/controls",
      "model_module_version": "1.5.0",
      "model_name": "TextModel",
      "state": {
       "continuous_update": false,
       "layout": "IPY_MODEL_4c7f21bcac3c469988c886892e35ad6d",
       "placeholder": "feat",
       "style": "IPY_MODEL_9a312354788d4a99bc2c83cb625a845f",
       "value": "beginning"
      }
     },
     "a039411c9de9468d83405e91f9b7a441": {
      "model_module": "@jupyter-widgets/base",
      "model_module_version": "1.2.0",
      "model_name": "LayoutModel",
      "state": {
       "flex": "auto 0 0"
      }
     },
     "a054f3628dd84288ab377ce9e1546aaf": {
      "model_module": "@jupyter-widgets/base",
      "model_module_version": "1.2.0",
      "model_name": "LayoutModel",
      "state": {
       "border": "1px solid black",
       "flex": "auto 1 1"
      }
     },
     "a0726c96c6d141d784695136cad43b0c": {
      "model_module": "@jupyter-widgets/base",
      "model_module_version": "1.2.0",
      "model_name": "LayoutModel",
      "state": {
       "align_content": "flex-start",
       "align_items": "flex-start",
       "border": "3px solid gray",
       "flex": "auto 0 0",
       "flex_flow": "column",
       "justify_content": "flex-start"
      }
     },
     "a0ac722aa2894c0a87bdde3c6c56d330": {
      "model_module": "@jupyter-widgets/controls",
      "model_module_version": "1.5.0",
      "model_name": "BoxModel",
      "state": {
       "children": [
        "IPY_MODEL_55d3eb144fd64391a2abd7a64aa305b1",
        "IPY_MODEL_3561138f12c44d1b9c6d2abd77f8e940"
       ],
       "layout": "IPY_MODEL_80d531fc9d2947348dfe0a4596eef3c0"
      }
     },
     "a0f7a96d8891489181eefbf3aaf4946b": {
      "model_module": "@jupyter-widgets/controls",
      "model_module_version": "1.5.0",
      "model_name": "DescriptionStyleModel",
      "state": {
       "description_width": ""
      }
     },
     "a10ff33ed90548ffb577c3f4bb37e9c4": {
      "model_module": "@jupyter-widgets/base",
      "model_module_version": "1.2.0",
      "model_name": "LayoutModel",
      "state": {
       "align_content": "flex-start",
       "align_items": "flex-start",
       "border": "3px solid gray",
       "display": "inline-flex",
       "flex": "auto 0 0",
       "flex_flow": "column nowrap",
       "justify_content": "flex-start",
       "overflow": "auto"
      }
     },
     "a11f6cc5cee643459ebe3e2b2732eaff": {
      "model_module": "@jupyter-widgets/controls",
      "model_module_version": "1.5.0",
      "model_name": "TextModel",
      "state": {
       "continuous_update": false,
       "description": "pdp=",
       "layout": "IPY_MODEL_4c7f21bcac3c469988c886892e35ad6d",
       "placeholder": "feat",
       "style": "IPY_MODEL_1b3e37e3e06d427d959f8e60e80f0f6d",
       "value": "prep"
      }
     },
     "a15d745797904f229d036422c75cb0e2": {
      "model_module": "@jupyter-widgets/controls",
      "model_module_version": "1.5.0",
      "model_name": "DescriptionStyleModel",
      "state": {
       "description_width": ""
      }
     },
     "a16ef84e50af4569be4ccff4ea6f3426": {
      "model_module": "@jupyter-widgets/controls",
      "model_module_version": "1.5.0",
      "model_name": "DescriptionStyleModel",
      "state": {
       "description_width": ""
      }
     },
     "a1773d2c9fe44665b4aa069c17fa2548": {
      "model_module": "@jupyter-widgets/controls",
      "model_module_version": "1.5.0",
      "model_name": "TextModel",
      "state": {
       "continuous_update": false,
       "layout": "IPY_MODEL_00939393a17c47c18d0d77bc97ec88a7",
       "placeholder": "feat",
       "style": "IPY_MODEL_a1fbc9da287f42f8bff130fc6d0ae343",
       "value": "in"
      }
     },
     "a1fbc9da287f42f8bff130fc6d0ae343": {
      "model_module": "@jupyter-widgets/controls",
      "model_module_version": "1.5.0",
      "model_name": "DescriptionStyleModel",
      "state": {
       "description_width": ""
      }
     },
     "a2278d7842f444a59e1cb686efbb5089": {
      "model_module": "@jupyter-widgets/controls",
      "model_module_version": "1.5.0",
      "model_name": "BoxModel",
      "state": {
       "children": [
        "IPY_MODEL_30064c76c09b4238ac2148808ca23927",
        "IPY_MODEL_01d1dafaa3d649ab888efd8b6cac787e"
       ],
       "layout": "IPY_MODEL_c52c9a18523e4190b87d60458fdb2aec"
      }
     },
     "a229cdffdab342a4bb8f0434702b7271": {
      "model_module": "@jupyter-widgets/controls",
      "model_module_version": "1.5.0",
      "model_name": "HTMLModel",
      "state": {
       "layout": "IPY_MODEL_8ba1b58fc41a4001b29bb4c0a8408965",
       "style": "IPY_MODEL_eebac16aa8324686b9c02a195360d639",
       "value": "word"
      }
     },
     "a235fccd9fe4446d8e47b803b4370ce1": {
      "model_module": "@jupyter-widgets/base",
      "model_module_version": "1.2.0",
      "model_name": "LayoutModel",
      "state": {}
     },
     "a238382748464aafb4267af103858479": {
      "model_module": "@jupyter-widgets/controls",
      "model_module_version": "1.5.0",
      "model_name": "HTMLModel",
      "state": {
       "layout": "IPY_MODEL_a4489a0487464c6ea75ac4d407cac35e",
       "style": "IPY_MODEL_6a765ff8eedf4ffab66ef1374a132706",
       "value": "phrase"
      }
     },
     "a23e3f25c37b4c019a72c51e57536d38": {
      "model_module": "@jupyter-widgets/controls",
      "model_module_version": "1.5.0",
      "model_name": "BoxModel",
      "state": {
       "children": [
        "IPY_MODEL_ca6808cdf13f4340a4ecc39f919edeb4",
        "IPY_MODEL_16284787619044d0bae939e873b47b20",
        "IPY_MODEL_200ec92efa654747b25f756cdf39ad0c",
        "IPY_MODEL_d6f8cb5deb9c46f0b34bc1e78d828ae1"
       ],
       "layout": "IPY_MODEL_e37f597b7d81470796cfddb47d24323a"
      }
     },
     "a2981d5b71e04d35b508c31c188786fd": {
      "model_module": "@jupyter-widgets/controls",
      "model_module_version": "1.5.0",
      "model_name": "DescriptionStyleModel",
      "state": {
       "description_width": ""
      }
     },
     "a2c6946ea4a9420da48637c15535d484": {
      "model_module": "@jupyter-widgets/controls",
      "model_module_version": "1.5.0",
      "model_name": "DescriptionStyleModel",
      "state": {
       "description_width": ""
      }
     },
     "a2e3100282e5405dae73f3dac9a54e26": {
      "model_module": "@jupyter-widgets/controls",
      "model_module_version": "1.5.0",
      "model_name": "DescriptionStyleModel",
      "state": {
       "description_width": ""
      }
     },
     "a3b49533af9546dbaf24d229318ea838": {
      "model_module": "@jupyter-widgets/controls",
      "model_module_version": "1.5.0",
      "model_name": "TextModel",
      "state": {
       "layout": "IPY_MODEL_482346b169324d308f3aa5ff45d8987f",
       "placeholder": "feat",
       "style": "IPY_MODEL_363168fa70b64d9792f2e8f8d2da654d",
       "value": "beginning"
      }
     },
     "a4489a0487464c6ea75ac4d407cac35e": {
      "model_module": "@jupyter-widgets/base",
      "model_module_version": "1.2.0",
      "model_name": "LayoutModel",
      "state": {
       "flex": "auto 1 1"
      }
     },
     "a4523e7b4ddc43f0829661964e98ee38": {
      "model_module": "@jupyter-widgets/controls",
      "model_module_version": "1.5.0",
      "model_name": "HTMLModel",
      "state": {
       "layout": "IPY_MODEL_20248d44181a4940977002cc4ba35e3b",
       "style": "IPY_MODEL_c1a688a2c5f147289318690d8351395e",
       "value": "bᵊ"
      }
     },
     "a465e5ff17994c48ab64f2bea20e1b6f": {
      "model_module": "@jupyter-widgets/controls",
      "model_module_version": "1.5.0",
      "model_name": "HTMLModel",
      "state": {
       "layout": "IPY_MODEL_098553acf751448fbd093ebef7a99dfe",
       "style": "IPY_MODEL_8da823abcde24554a19fa23f79a5d0a9",
       "value": "rēšˌîṯ"
      }
     },
     "a468b74966ab48cc81156ed6fe1f76c3": {
      "model_module": "@jupyter-widgets/controls",
      "model_module_version": "1.5.0",
      "model_name": "HTMLModel",
      "state": {
       "layout": "IPY_MODEL_8a9ee8dc3ad345768107421409c1d90d",
       "style": "IPY_MODEL_e2a0d8a2dd57424fb5699a0dbd9ffbf5",
       "value": "phrase"
      }
     },
     "a47f7978749e418ca587cc5babf0cd47": {
      "model_module": "@jupyter-widgets/controls",
      "model_module_version": "1.5.0",
      "model_name": "BoxModel",
      "state": {
       "children": [
        "IPY_MODEL_e5ce5cade422427cb6100f08d6d4dce5",
        "IPY_MODEL_1368b21a66ae4e4c97ed8c852921bdae",
        "IPY_MODEL_3539a14c2c854cd9a841e110b1f1ba49"
       ],
       "layout": "IPY_MODEL_6cd2700a2e7b48bda092296594c56d71"
      }
     },
     "a4b0f23472354852938bc0cc627fc3ba": {
      "model_module": "@jupyter-widgets/base",
      "model_module_version": "1.2.0",
      "model_name": "LayoutModel",
      "state": {}
     },
     "a4e2bc7deaf746a28674c2edfce07c67": {
      "model_module": "@jupyter-widgets/controls",
      "model_module_version": "1.5.0",
      "model_name": "DescriptionStyleModel",
      "state": {
       "description_width": ""
      }
     },
     "a504927f65a544d996611699e6ffc086": {
      "model_module": "@jupyter-widgets/controls",
      "model_module_version": "1.5.0",
      "model_name": "TextModel",
      "state": {
       "continuous_update": false,
       "layout": "IPY_MODEL_048cafd6b7354ca79c4b14a5e4b01aff",
       "placeholder": "feat",
       "style": "IPY_MODEL_ec7f0603d9c347b09829a142d6eed5de",
       "value": "PP"
      }
     },
     "a52d4426e66d4115ae7fcd920038033f": {
      "model_module": "@jupyter-widgets/controls",
      "model_module_version": "1.5.0",
      "model_name": "HTMLModel",
      "state": {
       "layout": "IPY_MODEL_f75ded8b87ee4d9398164535195e3672",
       "style": "IPY_MODEL_b1b554f302f645bbacf2a2bad3d15e1c",
       "value": "bᵊ"
      }
     },
     "a5d69178fab24dc8a1e09a9396b99911": {
      "model_module": "@jupyter-widgets/controls",
      "model_module_version": "1.5.0",
      "model_name": "DescriptionStyleModel",
      "state": {
       "description_width": ""
      }
     },
     "a5e16ef176f14516aaadb529c1a87c98": {
      "model_module": "@jupyter-widgets/controls",
      "model_module_version": "1.5.0",
      "model_name": "TextModel",
      "state": {
       "continuous_update": false,
       "layout": "IPY_MODEL_72d2e5878f844b7aa594f3e4b6e7c04f",
       "placeholder": "feat",
       "style": "IPY_MODEL_daae7f72d35e456abcbb103a47eab937",
       "value": "PP"
      }
     },
     "a5e2674b183b45efa4852bf5ee9e84db": {
      "model_module": "@jupyter-widgets/controls",
      "model_module_version": "1.5.0",
      "model_name": "TextModel",
      "state": {
       "layout": "IPY_MODEL_dbf6d89ff9684cbe9f7e69080120e728",
       "placeholder": "function",
       "style": "IPY_MODEL_f6c8bbdef55f44eab9fafd21eec051da",
       "value": "Time"
      }
     },
     "a5fe1eba68a4467a91272f0a206d595c": {
      "model_module": "@jupyter-widgets/controls",
      "model_module_version": "1.5.0",
      "model_name": "BoxModel",
      "state": {
       "children": [
        "IPY_MODEL_399e8728883840f98ab30ff801db7e1b",
        "IPY_MODEL_ef3f0d5c639246bbb4bc6f47b2cecbb8",
        "IPY_MODEL_cda84eb612ed4c9b8824f4252ed0a0f2",
        "IPY_MODEL_84d0554d4e0e45468dd0901f12bed788"
       ],
       "layout": "IPY_MODEL_3450a643ba664e3099d422c945ae9032"
      }
     },
     "a6248c00f6f14eca848606414ca544e9": {
      "model_module": "@jupyter-widgets/controls",
      "model_module_version": "1.5.0",
      "model_name": "ButtonModel",
      "state": {
       "description": "Up to date",
       "disabled": true,
       "layout": "IPY_MODEL_0c038f00c763402e90d3587f22864bb7",
       "style": "IPY_MODEL_4169a24099324fd3ae4607d4400c2174"
      }
     },
     "a64dbbf77af44ef2aa223ef5c1dc6b17": {
      "model_module": "@jupyter-widgets/controls",
      "model_module_version": "1.5.0",
      "model_name": "DescriptionStyleModel",
      "state": {
       "description_width": ""
      }
     },
     "a6bb9e5429504c4792c5352ea7d79824": {
      "model_module": "@jupyter-widgets/controls",
      "model_module_version": "1.5.0",
      "model_name": "DescriptionStyleModel",
      "state": {
       "description_width": ""
      }
     },
     "a6e2ff9659274fa58df98f0d89f83dec": {
      "model_module": "@jupyter-widgets/controls",
      "model_module_version": "1.5.0",
      "model_name": "DescriptionStyleModel",
      "state": {
       "description_width": ""
      }
     },
     "a6fc42266d1548ed96211caf1da25aa1": {
      "model_module": "@jupyter-widgets/base",
      "model_module_version": "1.2.0",
      "model_name": "LayoutModel",
      "state": {
       "align_content": "flex-start",
       "align_items": "flex-start",
       "border": "3px solid gray",
       "display": "inline-flex",
       "flex": "auto 0 0",
       "flex_flow": "row wrap",
       "justify_content": "flex-start",
       "overflow": "auto"
      }
     },
     "a704d0a12b114921bda46ca63604c8e4": {
      "model_module": "@jupyter-widgets/controls",
      "model_module_version": "1.5.0",
      "model_name": "BoxModel",
      "state": {
       "children": [
        "IPY_MODEL_f4b4bd2e4ac44a75b8d575faf0edfe9a",
        "IPY_MODEL_61d1356cd27d409394985dcbd4fd67d0"
       ],
       "layout": "IPY_MODEL_c7b4884a595842dda0fc4fb92ac2183d"
      }
     },
     "a73c3e0f99964a77bd4c22c2d533fdf1": {
      "model_module": "@jupyter-widgets/base",
      "model_module_version": "1.2.0",
      "model_name": "LayoutModel",
      "state": {
       "border": "2px solid gray",
       "display": "inline-flex",
       "flex": "auto 0 1",
       "flex_flow": "column nowrap"
      }
     },
     "a77ab74339404be7a1ef0fde9dcc7371": {
      "model_module": "@jupyter-widgets/base",
      "model_module_version": "1.2.0",
      "model_name": "LayoutModel",
      "state": {
       "border": "2px solid gray",
       "display": "inline-flex",
       "flex": "auto 0 1",
       "flex_flow": "column"
      }
     },
     "a78e63537e974005aa48b741c9d6a6a7": {
      "model_module": "@jupyter-widgets/controls",
      "model_module_version": "1.5.0",
      "model_name": "TextModel",
      "state": {
       "description": "pdp=",
       "layout": "IPY_MODEL_1ee42b717afc481eb04d9d8974a8935f",
       "placeholder": "pdp",
       "style": "IPY_MODEL_0037d79cee554a2b9d05c0661cbdb4bc",
       "value": "subs"
      }
     },
     "a7b85230e3254635a5137ea843d4c46f": {
      "model_module": "@jupyter-widgets/controls",
      "model_module_version": "1.5.0",
      "model_name": "HTMLModel",
      "state": {
       "layout": "IPY_MODEL_90bc955cc9b94668b9b9f80e867f1f14",
       "style": "IPY_MODEL_bc7c7c2299aa443ba34dd77957524f3c",
       "value": "pdp="
      }
     },
     "a7c1d762746d47e6858171428a06727f": {
      "model_module": "@jupyter-widgets/controls",
      "model_module_version": "1.5.0",
      "model_name": "DescriptionStyleModel",
      "state": {
       "description_width": ""
      }
     },
     "a823c4b79f5e4677bd3eeadd94249f24": {
      "model_module": "@jupyter-widgets/controls",
      "model_module_version": "1.5.0",
      "model_name": "HTMLModel",
      "state": {
       "layout": "IPY_MODEL_ad6fb28bc9ea40e2a8ba091a0609133a",
       "style": "IPY_MODEL_d96250a6b1094191aa227bd680fb55db",
       "value": "rēšˌîṯ"
      }
     },
     "a8464916d1de44658fe1e2bd4ebaaa79": {
      "model_module": "@jupyter-widgets/controls",
      "model_module_version": "1.5.0",
      "model_name": "DescriptionStyleModel",
      "state": {
       "description_width": ""
      }
     },
     "a860243a7db54734a5fc8669934fd961": {
      "model_module": "@jupyter-widgets/controls",
      "model_module_version": "1.5.0",
      "model_name": "DescriptionStyleModel",
      "state": {
       "description_width": ""
      }
     },
     "a860ae3ea38e4965901b522afea2066a": {
      "model_module": "@jupyter-widgets/controls",
      "model_module_version": "1.5.0",
      "model_name": "BoxModel",
      "state": {
       "children": [
        "IPY_MODEL_3676e9f8ed6843fe99c94513a5b6a764",
        "IPY_MODEL_c1751a64f4c34e54851750d69bae1a64",
        "IPY_MODEL_dab9e3bf48a64991890666478aa46c66"
       ],
       "layout": "IPY_MODEL_4a6e73fa097040d5807409bf99201ded"
      }
     },
     "a882ca2b62c94b4a82c4218420de9242": {
      "model_module": "@jupyter-widgets/controls",
      "model_module_version": "1.5.0",
      "model_name": "HTMLModel",
      "state": {
       "layout": "IPY_MODEL_8ba1b58fc41a4001b29bb4c0a8408965",
       "style": "IPY_MODEL_5a9a4c7218dc42599411feb6ee2e37c7",
       "value": "bᵊ"
      }
     },
     "a8e473038f514cc681122de9af3f69f8": {
      "model_module": "@jupyter-widgets/controls",
      "model_module_version": "1.5.0",
      "model_name": "TextModel",
      "state": {
       "continuous_update": false,
       "layout": "IPY_MODEL_9d2baabf83524d14b20e9d27b558ad14",
       "placeholder": "feat",
       "style": "IPY_MODEL_abb143a5fb8d47b68b5560f32ae4ec7e",
       "value": "beginning"
      }
     },
     "a92b087103334fa9915067ca62cf3719": {
      "model_module": "@jupyter-widgets/controls",
      "model_module_version": "1.5.0",
      "model_name": "BoxModel",
      "state": {
       "children": [
        "IPY_MODEL_5952a1bcf42a4f35ab340ce1224c0646",
        "IPY_MODEL_8e63612d3eae4de196a1bce5846e3e9b"
       ],
       "layout": "IPY_MODEL_a0726c96c6d141d784695136cad43b0c"
      }
     },
     "a976cc90b54040a8948f3111c481abe7": {
      "model_module": "@jupyter-widgets/controls",
      "model_module_version": "1.5.0",
      "model_name": "TextModel",
      "state": {
       "continuous_update": false,
       "description": "pdp=",
       "layout": "IPY_MODEL_8de0c265d8cf4711b969eb197b477208",
       "placeholder": "feat",
       "style": "IPY_MODEL_b3a0a32ada2e4332ab4b0096da7a0c8c",
       "value": "subs"
      }
     },
     "a98654c553814cc5944b0b3367919aa1": {
      "model_module": "@jupyter-widgets/controls",
      "model_module_version": "1.5.0",
      "model_name": "HTMLModel",
      "state": {
       "layout": "IPY_MODEL_482346b169324d308f3aa5ff45d8987f",
       "style": "IPY_MODEL_ed10c9bb7ce442358d7ea6fc67905959",
       "value": "word"
      }
     },
     "a99aad145eb14becbcb2b13521f03584": {
      "model_module": "@jupyter-widgets/controls",
      "model_module_version": "1.5.0",
      "model_name": "DescriptionStyleModel",
      "state": {
       "description_width": ""
      }
     },
     "aa2f09a02026440d8412621d5803d297": {
      "model_module": "@jupyter-widgets/controls",
      "model_module_version": "1.5.0",
      "model_name": "ButtonModel",
      "state": {
       "description": "Up to date",
       "disabled": true,
       "layout": "IPY_MODEL_7922ad7e043e4ad6b4874ff7ac2f25f7",
       "style": "IPY_MODEL_e225ba686cca4fd79b7ce32540e5da95"
      }
     },
     "aa520686dde44093a8c1eed71e8c9c30": {
      "model_module": "@jupyter-widgets/controls",
      "model_module_version": "1.5.0",
      "model_name": "DescriptionStyleModel",
      "state": {
       "description_width": ""
      }
     },
     "aa9d5eaf7c5748d5b9ce672332b78f1e": {
      "model_module": "@jupyter-widgets/base",
      "model_module_version": "1.2.0",
      "model_name": "LayoutModel",
      "state": {
       "align_content": "flex-start",
       "align_items": "flex-start",
       "border": "3px solid gray",
       "display": "inline-flex",
       "flex": "auto 0 0",
       "flex_flow": "row wrap",
       "justify_content": "flex-start",
       "overflow": "auto"
      }
     },
     "aaa1059c98334611b97d344d1a0bc88e": {
      "model_module": "@jupyter-widgets/controls",
      "model_module_version": "1.5.0",
      "model_name": "TextModel",
      "state": {
       "continuous_update": false,
       "layout": "IPY_MODEL_482346b169324d308f3aa5ff45d8987f",
       "placeholder": "feat",
       "style": "IPY_MODEL_ccc30124321b41df867ccaaca59b2084",
       "value": "PPxx"
      }
     },
     "aaad64b1cb7d4e41b5392566ee8de7f1": {
      "model_module": "@jupyter-widgets/controls",
      "model_module_version": "1.5.0",
      "model_name": "DescriptionStyleModel",
      "state": {
       "description_width": ""
      }
     },
     "aad69c7f032a4a04b7eb47a8753bc0f2": {
      "model_module": "@jupyter-widgets/controls",
      "model_module_version": "1.5.0",
      "model_name": "HTMLModel",
      "state": {
       "layout": "IPY_MODEL_07c4579bde2b4d29a545ad9ac1e8734f",
       "style": "IPY_MODEL_382bdaf2bb574d349d94d03976d82203",
       "value": "phrase"
      }
     },
     "aadc4dfeb837483d98b06ffd1806b921": {
      "model_module": "@jupyter-widgets/controls",
      "model_module_version": "1.5.0",
      "model_name": "DescriptionStyleModel",
      "state": {
       "description_width": ""
      }
     },
     "ab1dd5d44ec34b4eae450d6e2b376362": {
      "model_module": "@jupyter-widgets/base",
      "model_module_version": "1.2.0",
      "model_name": "LayoutModel",
      "state": {
       "flex": "auto 1 1",
       "overflow": "auto"
      }
     },
     "ab2104e2408c4f8cb000ecc0ef5db981": {
      "model_module": "@jupyter-widgets/controls",
      "model_module_version": "1.5.0",
      "model_name": "DescriptionStyleModel",
      "state": {
       "description_width": ""
      }
     },
     "ab324ec0f0af4f4387fc430c0347e275": {
      "model_module": "@jupyter-widgets/base",
      "model_module_version": "1.2.0",
      "model_name": "LayoutModel",
      "state": {
       "align_content": "flex-start",
       "align_items": "flex-start",
       "border": "3px solid gray",
       "display": "inline-flex",
       "flex": "auto 0 0",
       "flex_flow": "row wrap",
       "justify_content": "flex-start",
       "overflow": "auto"
      }
     },
     "ab6d53f6a235433693605db94801aa2b": {
      "model_module": "@jupyter-widgets/controls",
      "model_module_version": "1.5.0",
      "model_name": "BoxModel",
      "state": {
       "children": [
        "IPY_MODEL_e66b3efd565e472a84151335edbb3277",
        "IPY_MODEL_b66771584f95463295f3ab1b34ba4ef2"
       ],
       "layout": "IPY_MODEL_6fc17b071e5941f0a8e9b404a8e0c9f5"
      }
     },
     "ab79f4f9e0a04cd8b2d328f64db36ce7": {
      "model_module": "@jupyter-widgets/base",
      "model_module_version": "1.2.0",
      "model_name": "LayoutModel",
      "state": {
       "border": "1px solid gray",
       "display": "inline-flex",
       "flex": "auto 0 1",
       "flex_flow": "row wrap",
       "overflow": "auto"
      }
     },
     "abb143a5fb8d47b68b5560f32ae4ec7e": {
      "model_module": "@jupyter-widgets/controls",
      "model_module_version": "1.5.0",
      "model_name": "DescriptionStyleModel",
      "state": {
       "description_width": ""
      }
     },
     "abb4fbb25d524137aaebdbe70bff7ee3": {
      "model_module": "@jupyter-widgets/controls",
      "model_module_version": "1.5.0",
      "model_name": "BoxModel",
      "state": {
       "children": [
        "IPY_MODEL_27b2a68d1e3a4f6a990293756fad10d6",
        "IPY_MODEL_91813cec2d71497dba1d4d8650bdee28"
       ],
       "layout": "IPY_MODEL_bba2d68a13e043b7b10eae4a1e6c745e"
      }
     },
     "abfc66ff5ee04825992102ff6aecf2df": {
      "model_module": "@jupyter-widgets/controls",
      "model_module_version": "1.5.0",
      "model_name": "BoxModel",
      "state": {
       "children": [
        "IPY_MODEL_58d6b701453f42fe9c48cb73eb20e6c5",
        "IPY_MODEL_cffb885347744334a95d25496ba487d8",
        "IPY_MODEL_e2ed0febb2284bafbd461c34338e7831",
        "IPY_MODEL_4641d3b5acb345939a6658c24f3d808e"
       ],
       "layout": "IPY_MODEL_4f2be8a44a804c0f896d5cfe7f9f4e1f"
      }
     },
     "ac10cfeda2f144f18f03c79b342fcf89": {
      "model_module": "@jupyter-widgets/controls",
      "model_module_version": "1.5.0",
      "model_name": "DescriptionStyleModel",
      "state": {
       "description_width": ""
      }
     },
     "ac3615f064164b67a8ac00ac1894e795": {
      "model_module": "@jupyter-widgets/controls",
      "model_module_version": "1.5.0",
      "model_name": "DescriptionStyleModel",
      "state": {
       "description_width": ""
      }
     },
     "ac379c5df2374fe3b92b4e8f66303e45": {
      "model_module": "@jupyter-widgets/controls",
      "model_module_version": "1.5.0",
      "model_name": "BoxModel",
      "state": {
       "children": [
        "IPY_MODEL_52fddf81c060478f9a36b5cca506b39c",
        "IPY_MODEL_c42518a396d3496d89ccbdd9b69a2bf5"
       ],
       "layout": "IPY_MODEL_9f7a7f16f66a46daae74ce893b70f9a8"
      }
     },
     "ac81543066614473962c9c87eabced95": {
      "model_module": "@jupyter-widgets/base",
      "model_module_version": "1.2.0",
      "model_name": "LayoutModel",
      "state": {
       "flex": "auto 0 0"
      }
     },
     "ac908038dfd844acbf926dc289d9502b": {
      "model_module": "@jupyter-widgets/controls",
      "model_module_version": "1.5.0",
      "model_name": "DescriptionStyleModel",
      "state": {
       "description_width": ""
      }
     },
     "ac9c68c022bf4e438d01515c2cad0f38": {
      "model_module": "@jupyter-widgets/controls",
      "model_module_version": "1.5.0",
      "model_name": "BoxModel",
      "state": {
       "children": [
        "IPY_MODEL_bddea7b542fe4057b891792ab5cc9a88",
        "IPY_MODEL_d05f306182c748a6b1ef99c0b14f3f99",
        "IPY_MODEL_27784194c9ec41fe8f3fe3449792c260"
       ],
       "layout": "IPY_MODEL_be91f9eabf634d278f767705ca48223c"
      }
     },
     "acb195728e6449838a36a4494c0ad59c": {
      "model_module": "@jupyter-widgets/controls",
      "model_module_version": "1.5.0",
      "model_name": "HTMLModel",
      "state": {
       "layout": "IPY_MODEL_56b5a25e16494ff696790ef8a9cd1acf",
       "style": "IPY_MODEL_d84ba1f530d24dc2964d3f11392cb3ff",
       "value": "word"
      }
     },
     "accd856cd96b4da5993a645eae34a211": {
      "model_module": "@jupyter-widgets/controls",
      "model_module_version": "1.5.0",
      "model_name": "BoxModel",
      "state": {
       "children": [
        "IPY_MODEL_a238382748464aafb4267af103858479",
        "IPY_MODEL_9bffbbf8621545bfb6d2fba9f1d0327e",
        "IPY_MODEL_f0e4f32e78274469a215c8694a9dbaa6"
       ],
       "layout": "IPY_MODEL_da4ba9b3cc8444d2a10ded09076dbdb7"
      }
     },
     "ad083b9ae54043d09b2a31fa637ff180": {
      "model_module": "@jupyter-widgets/controls",
      "model_module_version": "1.5.0",
      "model_name": "BoxModel",
      "state": {
       "children": [
        "IPY_MODEL_f034da2d7d8b48a3a1d250508bc037ce",
        "IPY_MODEL_43b060e7488945a0b2bff5d6e04bac3b",
        "IPY_MODEL_c61670e7612c477da6f433fe4e669e2a",
        "IPY_MODEL_83684618855e4027a85edb28830ddea5"
       ],
       "layout": "IPY_MODEL_4a6e73fa097040d5807409bf99201ded"
      }
     },
     "ad225e6cb7c94ddd98e08761631de081": {
      "model_module": "@jupyter-widgets/controls",
      "model_module_version": "1.5.0",
      "model_name": "BoxModel",
      "state": {
       "children": [
        "IPY_MODEL_9e625b68aa2147138e88053de58809ad",
        "IPY_MODEL_0d64628a23d2414bbee05aef01ec52b4"
       ],
       "layout": "IPY_MODEL_b44aa6801ebb468a949292606f43c539"
      }
     },
     "ad6fb28bc9ea40e2a8ba091a0609133a": {
      "model_module": "@jupyter-widgets/base",
      "model_module_version": "1.2.0",
      "model_name": "LayoutModel",
      "state": {
       "flex": "auto 0 0"
      }
     },
     "ad74855183a34fe08c19e5600d95b1ce": {
      "model_module": "@jupyter-widgets/controls",
      "model_module_version": "1.5.0",
      "model_name": "ButtonStyleModel",
      "state": {}
     },
     "adea74cdc1fd411e9f856cbf50ab7eb4": {
      "model_module": "@jupyter-widgets/controls",
      "model_module_version": "1.5.0",
      "model_name": "TextModel",
      "state": {
       "layout": "IPY_MODEL_6473dda2915f41ed964de8ff103afadb",
       "placeholder": "pdp",
       "style": "IPY_MODEL_6dd1babdbd774ab6b9a7e7e9454fddd4",
       "value": "prep"
      }
     },
     "ae170f73bf3a43e8ad673f0446331dac": {
      "model_module": "@jupyter-widgets/controls",
      "model_module_version": "1.5.0",
      "model_name": "TextModel",
      "state": {
       "continuous_update": false,
       "layout": "IPY_MODEL_28ef28c84dda496080c0768c6cd6a2a9",
       "placeholder": "feat",
       "style": "IPY_MODEL_6d1ae029902d44a09c43e86cee3eff91",
       "value": "in"
      }
     },
     "ae2f9c123c984fdd99c52c78f84fdb11": {
      "model_module": "@jupyter-widgets/base",
      "model_module_version": "1.2.0",
      "model_name": "LayoutModel",
      "state": {
       "align_content": "stretch",
       "align_items": "flex-end",
       "border": "2px solid #eeeeee",
       "display": "flex",
       "flex": "auto 0 0",
       "flex_flow": "column nowrap",
       "justify_content": "center",
       "overflow": "auto"
      }
     },
     "ae5045cb1c4c4ce5aed22ec5be02c7f8": {
      "model_module": "@jupyter-widgets/controls",
      "model_module_version": "1.5.0",
      "model_name": "TextModel",
      "state": {
       "layout": "IPY_MODEL_6473dda2915f41ed964de8ff103afadb",
       "placeholder": "gloss",
       "style": "IPY_MODEL_bd78e9fd3bee46ad844083449652f110",
       "value": "beginning"
      }
     },
     "ae64e35c4556413dad11bbcaebd65575": {
      "model_module": "@jupyter-widgets/controls",
      "model_module_version": "1.5.0",
      "model_name": "TextModel",
      "state": {
       "continuous_update": false,
       "layout": "IPY_MODEL_ad6fb28bc9ea40e2a8ba091a0609133a",
       "placeholder": "feat",
       "style": "IPY_MODEL_70f49f65687a44a095d76cd4fd808920",
       "value": "Time"
      }
     },
     "ae852425632145d69e6b4e8c0bdf00a3": {
      "model_module": "@jupyter-widgets/controls",
      "model_module_version": "1.5.0",
      "model_name": "DescriptionStyleModel",
      "state": {
       "description_width": ""
      }
     },
     "af0c4301d92944f786e234f42dc14aa0": {
      "model_module": "@jupyter-widgets/base",
      "model_module_version": "1.2.0",
      "model_name": "LayoutModel",
      "state": {
       "align_content": "flex-start",
       "align_items": "flex-start",
       "border": "3px solid gray",
       "display": "inline-flex",
       "flex": "auto 0 0",
       "flex_flow": "column nowrap",
       "justify_content": "flex-start",
       "overflow": "auto"
      }
     },
     "af3a1be7403b4d81802e83309fbd393b": {
      "model_module": "@jupyter-widgets/controls",
      "model_module_version": "1.5.0",
      "model_name": "DescriptionStyleModel",
      "state": {
       "description_width": ""
      }
     },
     "af41cc18b84d4fcbbe2a0eb95ddb6ec7": {
      "model_module": "@jupyter-widgets/controls",
      "model_module_version": "1.5.0",
      "model_name": "HTMLModel",
      "state": {
       "layout": "IPY_MODEL_482346b169324d308f3aa5ff45d8987f",
       "style": "IPY_MODEL_c5f2bcb19296497ebaa8f16eb0726492",
       "value": "rēšˌîṯ"
      }
     },
     "af4c6290a0cc4c87b175fdc94ea9a736": {
      "model_module": "@jupyter-widgets/controls",
      "model_module_version": "1.5.0",
      "model_name": "BoxModel",
      "state": {
       "children": [
        "IPY_MODEL_1b3dcf81d8a240f1831211675784213f",
        "IPY_MODEL_48f283c4659b473a95f7aa1ffeaed4c8",
        "IPY_MODEL_5f12c4b91b0343e99e964c630ecc82b2",
        "IPY_MODEL_c63b3af22fb744b7b196098eeb72c199"
       ],
       "layout": "IPY_MODEL_33aec3a07566491f9157f40616d75c59"
      }
     },
     "af549ff68f384149b318a6e4593e080c": {
      "model_module": "@jupyter-widgets/base",
      "model_module_version": "1.2.0",
      "model_name": "LayoutModel",
      "state": {
       "align_content": "flex-start",
       "align_items": "flex-start",
       "border": "3px solid gray",
       "display": "inline-flex",
       "flex": "auto 0 0",
       "flex_flow": "row wrap",
       "justify_content": "flex-start",
       "overflow": "auto"
      }
     },
     "af77a6e030db41e895cf36a81ac25df6": {
      "model_module": "@jupyter-widgets/controls",
      "model_module_version": "1.5.0",
      "model_name": "TextModel",
      "state": {
       "continuous_update": false,
       "layout": "IPY_MODEL_ed4491d0aceb4d65aad7e257a98b41e4",
       "placeholder": "feat",
       "style": "IPY_MODEL_81aed8a7156e4592907e9c23ecd3078a",
       "value": "Time"
      }
     },
     "afa01ad8290843c99f7ae69c309f6c0f": {
      "model_module": "@jupyter-widgets/controls",
      "model_module_version": "1.5.0",
      "model_name": "HTMLModel",
      "state": {
       "layout": "IPY_MODEL_28ef28c84dda496080c0768c6cd6a2a9",
       "style": "IPY_MODEL_844f463650234d88bbb870b1dc7cf074",
       "value": "word"
      }
     },
     "afacb41cc4db4931bd578914b0b4a1e9": {
      "model_module": "@jupyter-widgets/controls",
      "model_module_version": "1.5.0",
      "model_name": "ButtonStyleModel",
      "state": {}
     },
     "afdb16f8ca2242d9bd722a493bf13c19": {
      "model_module": "@jupyter-widgets/controls",
      "model_module_version": "1.5.0",
      "model_name": "DescriptionStyleModel",
      "state": {
       "description_width": ""
      }
     },
     "b010c680df2f4721a81b9cc9cbd07a55": {
      "model_module": "@jupyter-widgets/controls",
      "model_module_version": "1.5.0",
      "model_name": "TextModel",
      "state": {
       "continuous_update": false,
       "description": "pdp=",
       "layout": "IPY_MODEL_72d2e5878f844b7aa594f3e4b6e7c04f",
       "placeholder": "feat",
       "style": "IPY_MODEL_ea2a1297b21e457eac4bbcd466ceb413",
       "value": "prep"
      }
     },
     "b037415baadc4c5cbd794534961337bb": {
      "model_module": "@jupyter-widgets/controls",
      "model_module_version": "1.5.0",
      "model_name": "TextModel",
      "state": {
       "continuous_update": false,
       "layout": "IPY_MODEL_8de0c265d8cf4711b969eb197b477208",
       "placeholder": "feat",
       "style": "IPY_MODEL_3c9228376ea242b3b4dc92a3f3fa1322",
       "value": "beginning"
      }
     },
     "b05746bede9146789dc3d8f99ec280b0": {
      "model_module": "@jupyter-widgets/controls",
      "model_module_version": "1.5.0",
      "model_name": "ButtonStyleModel",
      "state": {}
     },
     "b06d4102b73f47c6a283958f81fcf4fd": {
      "model_module": "@jupyter-widgets/controls",
      "model_module_version": "1.5.0",
      "model_name": "DescriptionStyleModel",
      "state": {
       "description_width": ""
      }
     },
     "b08ffa2707994f23b0cf30a2ae9de922": {
      "model_module": "@jupyter-widgets/controls",
      "model_module_version": "1.5.0",
      "model_name": "TextModel",
      "state": {
       "layout": "IPY_MODEL_dbf6d89ff9684cbe9f7e69080120e728",
       "placeholder": "gloss",
       "style": "IPY_MODEL_c2576a19870944c6b68a8dbc7615a566",
       "value": "beginning"
      }
     },
     "b1581dc69ea24cfab7fcb61b7c06dc23": {
      "model_module": "@jupyter-widgets/controls",
      "model_module_version": "1.5.0",
      "model_name": "HTMLModel",
      "state": {
       "layout": "IPY_MODEL_098553acf751448fbd093ebef7a99dfe",
       "style": "IPY_MODEL_2bd54a573f1b425cabb41f66d2842836",
       "value": "word"
      }
     },
     "b1b554f302f645bbacf2a2bad3d15e1c": {
      "model_module": "@jupyter-widgets/controls",
      "model_module_version": "1.5.0",
      "model_name": "DescriptionStyleModel",
      "state": {
       "description_width": ""
      }
     },
     "b1c61b8713dc42e3a05f9a925d87a65d": {
      "model_module": "@jupyter-widgets/controls",
      "model_module_version": "1.5.0",
      "model_name": "DescriptionStyleModel",
      "state": {
       "description_width": ""
      }
     },
     "b1da402badcb4c7d8a85fe5569388fda": {
      "model_module": "@jupyter-widgets/controls",
      "model_module_version": "1.5.0",
      "model_name": "TextModel",
      "state": {
       "continuous_update": false,
       "layout": "IPY_MODEL_8ba1b58fc41a4001b29bb4c0a8408965",
       "placeholder": "feat",
       "style": "IPY_MODEL_66563256276549b28bd133f9901235ac",
       "value": "PP"
      }
     },
     "b23e7349c01c42e09ad7607b05feedec": {
      "model_module": "@jupyter-widgets/base",
      "model_module_version": "1.2.0",
      "model_name": "LayoutModel",
      "state": {
       "align_content": "flex-start",
       "align_items": "flex-start",
       "border": "3px solid gray",
       "display": "inline-flex",
       "flex": "auto 0 0",
       "flex_flow": "column nowrap",
       "justify_content": "flex-start",
       "overflow": "auto"
      }
     },
     "b25d0ee4985d47b0be8751d72a35a67f": {
      "model_module": "@jupyter-widgets/controls",
      "model_module_version": "1.5.0",
      "model_name": "TextModel",
      "state": {
       "continuous_update": false,
       "layout": "IPY_MODEL_28ef28c84dda496080c0768c6cd6a2a9",
       "placeholder": "feat",
       "style": "IPY_MODEL_98cf4a856e5440a0976299a011a57fb3",
       "value": "PP"
      }
     },
     "b283fd362c0f49768692fb470477c621": {
      "model_module": "@jupyter-widgets/controls",
      "model_module_version": "1.5.0",
      "model_name": "HTMLModel",
      "state": {
       "layout": "IPY_MODEL_b39ca3c53f7744a68c6bb8fcca233870",
       "style": "IPY_MODEL_740e64b5c357486a8f149f847a4dfdc5",
       "value": "phrase"
      }
     },
     "b2bcfd6a3c9e443dac8dc9d36856e092": {
      "model_module": "@jupyter-widgets/controls",
      "model_module_version": "1.5.0",
      "model_name": "DescriptionStyleModel",
      "state": {
       "description_width": ""
      }
     },
     "b2da55e520904e7b894758ceddbc0ea2": {
      "model_module": "@jupyter-widgets/base",
      "model_module_version": "1.2.0",
      "model_name": "LayoutModel",
      "state": {
       "align_items": "flex-start",
       "border": "2px solid #eeeeee",
       "display": "flex",
       "flex": "auto 0 0",
       "flex_flow": "column nowrap",
       "overflow": "auto"
      }
     },
     "b2eeb72b5bac40f8b91ec9c61b4ebc5f": {
      "model_module": "@jupyter-widgets/controls",
      "model_module_version": "1.5.0",
      "model_name": "DescriptionStyleModel",
      "state": {
       "description_width": ""
      }
     },
     "b2ff44c57a3a4e5ab9b336caee834b08": {
      "model_module": "@jupyter-widgets/controls",
      "model_module_version": "1.5.0",
      "model_name": "HTMLModel",
      "state": {
       "layout": "IPY_MODEL_b39ca3c53f7744a68c6bb8fcca233870",
       "style": "IPY_MODEL_8fc566f8dc9947ebb47def9c4222e51b",
       "value": "rēšˌîṯ"
      }
     },
     "b30aeb8555374fd28ccf420e9e06cd94": {
      "model_module": "@jupyter-widgets/controls",
      "model_module_version": "1.5.0",
      "model_name": "DescriptionStyleModel",
      "state": {
       "description_width": ""
      }
     },
     "b3598a438c1743239be4eb3aa5ee6f86": {
      "model_module": "@jupyter-widgets/controls",
      "model_module_version": "1.5.0",
      "model_name": "BoxModel",
      "state": {
       "children": [
        "IPY_MODEL_5bff357b6d5b41c8b66a8f969af48c67",
        "IPY_MODEL_54ae778757f44dc0ab1bda04882bbc6d",
        "IPY_MODEL_886d4837a6eb498c8f24e3c1917e975c",
        "IPY_MODEL_4d8f8f37911941c19485f657d231a942"
       ],
       "layout": "IPY_MODEL_dcce164b641d458e9bbf8554f477d6eb"
      }
     },
     "b39ca3c53f7744a68c6bb8fcca233870": {
      "model_module": "@jupyter-widgets/base",
      "model_module_version": "1.2.0",
      "model_name": "LayoutModel",
      "state": {
       "align_content": "flex-start",
       "align_items": "flex-start",
       "flex": "auto 0 0",
       "justify_content": "flex-start",
       "overflow": "hidden"
      }
     },
     "b3a0a32ada2e4332ab4b0096da7a0c8c": {
      "model_module": "@jupyter-widgets/controls",
      "model_module_version": "1.5.0",
      "model_name": "DescriptionStyleModel",
      "state": {
       "description_width": ""
      }
     },
     "b44aa6801ebb468a949292606f43c539": {
      "model_module": "@jupyter-widgets/base",
      "model_module_version": "1.2.0",
      "model_name": "LayoutModel",
      "state": {
       "align_content": "flex-start"
      }
     },
     "b4ea5f6d75264742bb04311d7542df6e": {
      "model_module": "@jupyter-widgets/controls",
      "model_module_version": "1.5.0",
      "model_name": "DescriptionStyleModel",
      "state": {
       "description_width": ""
      }
     },
     "b5025b2663534e0cbdd36b5971796e25": {
      "model_module": "@jupyter-widgets/base",
      "model_module_version": "1.2.0",
      "model_name": "LayoutModel",
      "state": {}
     },
     "b5355e12e7a146b69e7c98e6322fc9ee": {
      "model_module": "@jupyter-widgets/controls",
      "model_module_version": "1.5.0",
      "model_name": "DescriptionStyleModel",
      "state": {
       "description_width": ""
      }
     },
     "b58ebb4918b348aaa64c534faf8bae2f": {
      "model_module": "@jupyter-widgets/controls",
      "model_module_version": "1.5.0",
      "model_name": "TextModel",
      "state": {
       "layout": "IPY_MODEL_dbf6d89ff9684cbe9f7e69080120e728",
       "placeholder": "pdp",
       "style": "IPY_MODEL_4c1e7d6d0d1d48a697caf8c59c831018",
       "value": "prep"
      }
     },
     "b60ed6d5625a4ff2baf137b52762b2cd": {
      "model_module": "@jupyter-widgets/controls",
      "model_module_version": "1.5.0",
      "model_name": "DescriptionStyleModel",
      "state": {
       "description_width": ""
      }
     },
     "b64463dd308740e790cdb7c4f664d964": {
      "model_module": "@jupyter-widgets/controls",
      "model_module_version": "1.5.0",
      "model_name": "DescriptionStyleModel",
      "state": {
       "description_width": ""
      }
     },
     "b64fafe5767446c99604a29e0f089884": {
      "model_module": "@jupyter-widgets/controls",
      "model_module_version": "1.5.0",
      "model_name": "DescriptionStyleModel",
      "state": {
       "description_width": ""
      }
     },
     "b66771584f95463295f3ab1b34ba4ef2": {
      "model_module": "@jupyter-widgets/controls",
      "model_module_version": "1.5.0",
      "model_name": "BoxModel",
      "state": {
       "children": [
        "IPY_MODEL_2f676c2a857e49b1a6fc1e428c5b49bb",
        "IPY_MODEL_c65bcb4667044b79a49e2dd1b3dad98a",
        "IPY_MODEL_4f4599a1bc0d4b14a484dabc5856948b",
        "IPY_MODEL_1a788ec08e094a0898bff8075da087b9"
       ],
       "layout": "IPY_MODEL_33aec3a07566491f9157f40616d75c59"
      }
     },
     "b66b0bc1b9494d218072392c0f085b96": {
      "model_module": "@jupyter-widgets/controls",
      "model_module_version": "1.5.0",
      "model_name": "BoxModel",
      "state": {
       "children": [
        "IPY_MODEL_47d6e52b05ff4b7a9447fba1630fb988",
        "IPY_MODEL_8be0d11ad1fb43dfb09811f8546ea7f5",
        "IPY_MODEL_7ffc77c4cae74ba39f36ca9786b34485",
        "IPY_MODEL_55b06f0f40ad40d7962a113543177bb2"
       ],
       "layout": "IPY_MODEL_79e6eb621b1042e89c9c8a54ce3fd8a4"
      }
     },
     "b6aaff42d96f4ca68541b713ea8834ab": {
      "model_module": "@jupyter-widgets/controls",
      "model_module_version": "1.5.0",
      "model_name": "DescriptionStyleModel",
      "state": {
       "description_width": ""
      }
     },
     "b70683345b6a4cc88834286fa1741a4f": {
      "model_module": "@jupyter-widgets/controls",
      "model_module_version": "1.5.0",
      "model_name": "TextModel",
      "state": {
       "continuous_update": false,
       "layout": "IPY_MODEL_fcbf3ee01ffe466dbdf5ac76fe08f70a",
       "placeholder": "feat",
       "style": "IPY_MODEL_1294ee8116794c94a380295db0664de7",
       "value": "PP"
      }
     },
     "b7450a17a162401da2a61613942388d8": {
      "model_module": "@jupyter-widgets/controls",
      "model_module_version": "1.5.0",
      "model_name": "DescriptionStyleModel",
      "state": {
       "description_width": ""
      }
     },
     "b81622a287054fb696b9917117777ccf": {
      "model_module": "@jupyter-widgets/controls",
      "model_module_version": "1.5.0",
      "model_name": "BoxModel",
      "state": {
       "children": [
        "IPY_MODEL_525b0734b4c9464f8403faa9819d8831",
        "IPY_MODEL_4da77b14b0c24ad0aeac75e4562e98b8"
       ],
       "layout": "IPY_MODEL_548f04530ad04c8c83416397f9e90930"
      }
     },
     "b86d06c983d746ccab04baf95951a9bc": {
      "model_module": "@jupyter-widgets/controls",
      "model_module_version": "1.5.0",
      "model_name": "DescriptionStyleModel",
      "state": {
       "description_width": ""
      }
     },
     "b8ab1939eb264553908417d6c55e5f20": {
      "model_module": "@jupyter-widgets/controls",
      "model_module_version": "1.5.0",
      "model_name": "DescriptionStyleModel",
      "state": {
       "description_width": ""
      }
     },
     "b8ceb69db26b46d180b409414e35603f": {
      "model_module": "@jupyter-widgets/controls",
      "model_module_version": "1.5.0",
      "model_name": "BoxModel",
      "state": {
       "children": [
        "IPY_MODEL_01403840d6eb48e4976bf29bccc4e9b7",
        "IPY_MODEL_49319f377bc24362bac5d13174896b2a",
        "IPY_MODEL_28d86d231dd041cda91a59c50da3386f",
        "IPY_MODEL_2e92e99db8064a5489a307b3fb42d462"
       ],
       "layout": "IPY_MODEL_303348ebd211486f8c358891a30982a6"
      }
     },
     "b9861a86d1924787bb906d10a9efd6a9": {
      "model_module": "@jupyter-widgets/controls",
      "model_module_version": "1.5.0",
      "model_name": "HTMLModel",
      "state": {
       "layout": "IPY_MODEL_b39ca3c53f7744a68c6bb8fcca233870",
       "style": "IPY_MODEL_304dc59c6ea742fb8def76b3388d4d4c",
       "value": "bᵊ"
      }
     },
     "b99ffed4cc8f4950b32be4b808a344c0": {
      "model_module": "@jupyter-widgets/controls",
      "model_module_version": "1.5.0",
      "model_name": "DescriptionStyleModel",
      "state": {
       "description_width": ""
      }
     },
     "ba00c9c8b0574816b72b457286899109": {
      "model_module": "@jupyter-widgets/controls",
      "model_module_version": "1.5.0",
      "model_name": "BoxModel",
      "state": {
       "children": [
        "IPY_MODEL_01a6adacb46f47af82d36076eeb505e2",
        "IPY_MODEL_1a098a5399c749f78d36ffcf8572b913"
       ],
       "layout": "IPY_MODEL_575518d330034d8fbf89d68f13af486d"
      }
     },
     "ba284f963e8342e996828679d5995754": {
      "model_module": "@jupyter-widgets/controls",
      "model_module_version": "1.5.0",
      "model_name": "BoxModel",
      "state": {
       "children": [
        "IPY_MODEL_7d01e208bff5468f8f4385bda5147d3d",
        "IPY_MODEL_6d1957b0a3674887bdf6859a9d9c8568",
        "IPY_MODEL_bb7af76e53b5459e897cfcd5b8e7a6ab"
       ],
       "layout": "IPY_MODEL_3450a643ba664e3099d422c945ae9032"
      }
     },
     "ba70797fc3614aa1ae9da4f7d0c397d8": {
      "model_module": "@jupyter-widgets/controls",
      "model_module_version": "1.5.0",
      "model_name": "BoxModel",
      "state": {
       "children": [
        "IPY_MODEL_be481437cd1d44748c186c87d6c16c0a",
        "IPY_MODEL_d50580aa8a88496ebc9bae1ed12e616d",
        "IPY_MODEL_a01577f77e4f484a8e9565beada0cd73",
        "IPY_MODEL_eb30fb1e131548e2bf76c4e9415b4143"
       ],
       "layout": "IPY_MODEL_77c65fb5db6e460bb3fcc7ce041b7629"
      }
     },
     "baa90ef6a05d49aa8e4274d4e87e256d": {
      "model_module": "@jupyter-widgets/controls",
      "model_module_version": "1.5.0",
      "model_name": "DescriptionStyleModel",
      "state": {
       "description_width": ""
      }
     },
     "bac71c97da8346ed8289636b87c63ac4": {
      "model_module": "@jupyter-widgets/base",
      "model_module_version": "1.2.0",
      "model_name": "LayoutModel",
      "state": {
       "align_content": "flex-start",
       "align_items": "flex-start",
       "border": "1px solid gray",
       "display": "inline-flex",
       "flex": "auto 0 0",
       "flex_flow": "column nowrap",
       "justify_content": "flex-start",
       "overflow": "auto"
      }
     },
     "bb06105574e74f87afa8ecdb08f6e42e": {
      "model_module": "@jupyter-widgets/controls",
      "model_module_version": "1.5.0",
      "model_name": "DescriptionStyleModel",
      "state": {
       "description_width": ""
      }
     },
     "bb1f8489dccf4a7f9b14c9e7b79b13ab": {
      "model_module": "@jupyter-widgets/base",
      "model_module_version": "1.2.0",
      "model_name": "LayoutModel",
      "state": {
       "flex": "auto 1 1"
      }
     },
     "bb2b3dc17aaa4ba09d6489a09f42929b": {
      "model_module": "@jupyter-widgets/base",
      "model_module_version": "1.2.0",
      "model_name": "LayoutModel",
      "state": {
       "border": "1px solid black",
       "flex": "auto 1 1"
      }
     },
     "bb33ab05ca024ba39f6a985a6fc5494c": {
      "model_module": "@jupyter-widgets/controls",
      "model_module_version": "1.5.0",
      "model_name": "TextModel",
      "state": {
       "description": "pdp=",
       "layout": "IPY_MODEL_482346b169324d308f3aa5ff45d8987f",
       "placeholder": "feat",
       "style": "IPY_MODEL_94eeff632a364b3e8d4bc97d42bf57c1",
       "value": "prep"
      }
     },
     "bb52b4e153c647cf9aebf685b1c07900": {
      "model_module": "@jupyter-widgets/base",
      "model_module_version": "1.2.0",
      "model_name": "LayoutModel",
      "state": {
       "align_items": "stretch",
       "border": "2px solid #eeeeee",
       "display": "flex",
       "flex": "auto 0 0",
       "flex_flow": "column nowrap",
       "overflow": "auto"
      }
     },
     "bb7af76e53b5459e897cfcd5b8e7a6ab": {
      "model_module": "@jupyter-widgets/controls",
      "model_module_version": "1.5.0",
      "model_name": "TextModel",
      "state": {
       "continuous_update": false,
       "layout": "IPY_MODEL_c98e258fce024947ae6249726835859c",
       "placeholder": "feat",
       "style": "IPY_MODEL_044f246017d54deca2a1e9307c6b7633",
       "value": "Time"
      }
     },
     "bba2d68a13e043b7b10eae4a1e6c745e": {
      "model_module": "@jupyter-widgets/base",
      "model_module_version": "1.2.0",
      "model_name": "LayoutModel",
      "state": {
       "align_content": "flex-start",
       "align_items": "flex-start",
       "border": "3px solid gray",
       "display": "inline-flex",
       "flex": "auto 0 0",
       "flex_flow": "row wrap",
       "justify_content": "flex-start",
       "overflow": "auto"
      }
     },
     "bba8fb7efbb3498ab2117d203d93f722": {
      "model_module": "@jupyter-widgets/controls",
      "model_module_version": "1.5.0",
      "model_name": "BoxModel",
      "state": {
       "children": [
        "IPY_MODEL_77ed62a483c0494c8586ba7e0238acf3",
        "IPY_MODEL_b66b0bc1b9494d218072392c0f085b96"
       ],
       "layout": "IPY_MODEL_d164ec29da894541bd9ba0048660e41f"
      }
     },
     "bbf2947f9ebd448dabba4d45c9423fe7": {
      "model_module": "@jupyter-widgets/controls",
      "model_module_version": "1.5.0",
      "model_name": "TextModel",
      "state": {
       "continuous_update": false,
       "description": "pdp=",
       "layout": "IPY_MODEL_364cd1c6573f4ed9aa3144fe6d2fd71e",
       "placeholder": "feat",
       "style": "IPY_MODEL_b4ea5f6d75264742bb04311d7542df6e",
       "value": "prep"
      }
     },
     "bc0128b5042e4e12a2d6fb1aab0f82b9": {
      "model_module": "@jupyter-widgets/controls",
      "model_module_version": "1.5.0",
      "model_name": "BoxModel",
      "state": {
       "children": [
        "IPY_MODEL_9c53eb6e117640f2bc6d075436ff1d00",
        "IPY_MODEL_eff21d93b416402b95b897b42ba3a2f8"
       ],
       "layout": "IPY_MODEL_930c8de6f4d54e1e912d28ea1052f87c"
      }
     },
     "bc7c7c2299aa443ba34dd77957524f3c": {
      "model_module": "@jupyter-widgets/controls",
      "model_module_version": "1.5.0",
      "model_name": "DescriptionStyleModel",
      "state": {
       "description_width": ""
      }
     },
     "bcabb6d89b5b4862b07f99d9b60e1bab": {
      "model_module": "@jupyter-widgets/controls",
      "model_module_version": "1.5.0",
      "model_name": "DescriptionStyleModel",
      "state": {
       "description_width": ""
      }
     },
     "bcc09ac5293c4c91961afa37f754ca43": {
      "model_module": "@jupyter-widgets/controls",
      "model_module_version": "1.5.0",
      "model_name": "HTMLModel",
      "state": {
       "layout": "IPY_MODEL_ed4491d0aceb4d65aad7e257a98b41e4",
       "style": "IPY_MODEL_681a1113cb1242d2a70de94b991026a6",
       "value": "rēšˌîṯ"
      }
     },
     "bd2f37fe0aa44658838e603fd45a6bb6": {
      "model_module": "@jupyter-widgets/base",
      "model_module_version": "1.2.0",
      "model_name": "LayoutModel",
      "state": {
       "align_content": "flex-end",
       "align_items": "stretch",
       "border": "2px solid #eeeeee",
       "display": "flex",
       "flex": "auto 0 0",
       "flex_flow": "column nowrap",
       "justify_content": "center",
       "overflow": "auto"
      }
     },
     "bd31aed111514b688e3be2eea51751af": {
      "model_module": "@jupyter-widgets/controls",
      "model_module_version": "1.5.0",
      "model_name": "BoxModel",
      "state": {
       "children": [
        "IPY_MODEL_8b122f908cf64615912dbc251f3c71e5",
        "IPY_MODEL_f72e19f0799247e7a8cc6bee0fa5479f"
       ],
       "layout": "IPY_MODEL_3e48ff3ac7c54fd3bb103db4e0f1311b"
      }
     },
     "bd491f142a7344948b3ea75972fc4da9": {
      "model_module": "@jupyter-widgets/controls",
      "model_module_version": "1.5.0",
      "model_name": "ButtonModel",
      "state": {
       "description": "Up to date",
       "disabled": true,
       "layout": "IPY_MODEL_3609cd9775204bd8b2280a2924696e33",
       "style": "IPY_MODEL_29de82bf52294578ba92f6774e775e0e"
      }
     },
     "bd718f8562944c98a90c2bba8705d959": {
      "model_module": "@jupyter-widgets/controls",
      "model_module_version": "1.5.0",
      "model_name": "DescriptionStyleModel",
      "state": {
       "description_width": ""
      }
     },
     "bd78e9fd3bee46ad844083449652f110": {
      "model_module": "@jupyter-widgets/controls",
      "model_module_version": "1.5.0",
      "model_name": "DescriptionStyleModel",
      "state": {
       "description_width": ""
      }
     },
     "bd9e389ca7374790a181e3a626d174c2": {
      "model_module": "@jupyter-widgets/controls",
      "model_module_version": "1.5.0",
      "model_name": "BoxModel",
      "state": {
       "children": [
        "IPY_MODEL_5762736f5d904118bc507102081b1ed3",
        "IPY_MODEL_4ade70c1ae4b44cc96f241f01d96ceca"
       ],
       "layout": "IPY_MODEL_842b8251ecfe4eddbfff7738c45376c0"
      }
     },
     "bddea7b542fe4057b891792ab5cc9a88": {
      "model_module": "@jupyter-widgets/controls",
      "model_module_version": "1.5.0",
      "model_name": "HTMLModel",
      "state": {
       "layout": "IPY_MODEL_a4489a0487464c6ea75ac4d407cac35e",
       "style": "IPY_MODEL_0d96b639d51f4c9486c715008c7f5930",
       "value": "<a\n  class=\"txtu hbo\"\n  href=\"https://shebanq.ancient-data.org/hebrew/word?version=2021&amp;id=1B\"\n  target=\"_blank\"\n  title=\"Show this on SHEBANQ\">\n        <span class=\"txtp\">\n         bᵊ\n        </span>\n       </a>"
      }
     },
     "bde3818d9e9b45c18d1fb7d725df5610": {
      "model_module": "@jupyter-widgets/controls",
      "model_module_version": "1.5.0",
      "model_name": "TextModel",
      "state": {
       "continuous_update": false,
       "layout": "IPY_MODEL_b39ca3c53f7744a68c6bb8fcca233870",
       "placeholder": "feat",
       "style": "IPY_MODEL_b2eeb72b5bac40f8b91ec9c61b4ebc5f",
       "value": "PP"
      }
     },
     "bdf8c63977fe4c84b9b58b298d6ee22f": {
      "model_module": "@jupyter-widgets/base",
      "model_module_version": "1.2.0",
      "model_name": "LayoutModel",
      "state": {
       "align_content": "flex-start",
       "align_items": "flex-start",
       "border": "3px solid gray",
       "display": "inline-flex",
       "flex": "auto 0 0",
       "flex_flow": "column nowrap",
       "justify_content": "flex-start",
       "overflow": "auto"
      }
     },
     "be04e0d5da984efab424e4c0970a8c27": {
      "model_module": "@jupyter-widgets/controls",
      "model_module_version": "1.5.0",
      "model_name": "HTMLModel",
      "state": {
       "layout": "IPY_MODEL_4c7f21bcac3c469988c886892e35ad6d",
       "style": "IPY_MODEL_9b38a24f3f3447719ba0df0a5d933fcb",
       "value": "bᵊ"
      }
     },
     "be2b510c23c04e098b0b8f9bdf976274": {
      "model_module": "@jupyter-widgets/controls",
      "model_module_version": "1.5.0",
      "model_name": "TextModel",
      "state": {
       "continuous_update": false,
       "layout": "IPY_MODEL_4c7f21bcac3c469988c886892e35ad6d",
       "placeholder": "feat",
       "style": "IPY_MODEL_c066e2055b4c4c8ea2d7613322a93714",
       "value": "Time"
      }
     },
     "be481437cd1d44748c186c87d6c16c0a": {
      "model_module": "@jupyter-widgets/controls",
      "model_module_version": "1.5.0",
      "model_name": "HTMLModel",
      "state": {
       "layout": "IPY_MODEL_4c7f21bcac3c469988c886892e35ad6d",
       "style": "IPY_MODEL_77c827e0bf624f76b2cff0bdb4a3e70a",
       "value": "word"
      }
     },
     "be5757e5a81b41b5b1e05c66365debd8": {
      "model_module": "@jupyter-widgets/controls",
      "model_module_version": "1.5.0",
      "model_name": "HTMLModel",
      "state": {
       "layout": "IPY_MODEL_fcbf3ee01ffe466dbdf5ac76fe08f70a",
       "style": "IPY_MODEL_6811b25676d44727b9d44f099e169ca4",
       "value": "word"
      }
     },
     "be91f9eabf634d278f767705ca48223c": {
      "model_module": "@jupyter-widgets/base",
      "model_module_version": "1.2.0",
      "model_name": "LayoutModel",
      "state": {
       "border": "2px solid gray",
       "display": "inline-flex",
       "flex": "auto 0 1",
       "flex_flow": "column nowrap"
      }
     },
     "bebe2e131c3a414aa969090c9665d29e": {
      "model_module": "@jupyter-widgets/controls",
      "model_module_version": "1.5.0",
      "model_name": "HTMLModel",
      "state": {
       "layout": "IPY_MODEL_364cd1c6573f4ed9aa3144fe6d2fd71e",
       "style": "IPY_MODEL_015ee11544e547119228f96bbd6f42c6",
       "value": "rēšˌîṯ"
      }
     },
     "bf0de77b764547118f2b08517d675ed3": {
      "model_module": "@jupyter-widgets/base",
      "model_module_version": "1.2.0",
      "model_name": "LayoutModel",
      "state": {
       "flex": "auto 0 0"
      }
     },
     "bf6057beed5c4e53b1f08134a48141f7": {
      "model_module": "@jupyter-widgets/controls",
      "model_module_version": "1.5.0",
      "model_name": "BoxModel",
      "state": {
       "children": [
        "IPY_MODEL_ff202590668f43e6980f1e497f40bc70",
        "IPY_MODEL_33365d1dd9cc4866814483f54895ccde"
       ],
       "layout": "IPY_MODEL_63d7757ac90044bebfa9912af737ee8f"
      }
     },
     "bf938ce84969496bb843c6819f73aaf0": {
      "model_module": "@jupyter-widgets/controls",
      "model_module_version": "1.5.0",
      "model_name": "TextModel",
      "state": {
       "continuous_update": false,
       "layout": "IPY_MODEL_b39ca3c53f7744a68c6bb8fcca233870",
       "placeholder": "feat",
       "style": "IPY_MODEL_6e50087071f94711b594d0eec123721d",
       "value": "in"
      }
     },
     "bfece768879f4bae859f14841c925414": {
      "model_module": "@jupyter-widgets/controls",
      "model_module_version": "1.5.0",
      "model_name": "BoxModel",
      "state": {
       "children": [
        "IPY_MODEL_9fc9b45b3f3140f691d9bd1d046a4177",
        "IPY_MODEL_7d5bf313f62d4accb8ad3a0db58d56ec",
        "IPY_MODEL_1e822aad88e74fb4b8f1b88f136c375d",
        "IPY_MODEL_8608ad2380c84cef8c347e54ba2b8c1e"
       ],
       "layout": "IPY_MODEL_2f3ad41325f24d05ad18ed5306483549"
      }
     },
     "c066e2055b4c4c8ea2d7613322a93714": {
      "model_module": "@jupyter-widgets/controls",
      "model_module_version": "1.5.0",
      "model_name": "DescriptionStyleModel",
      "state": {
       "description_width": ""
      }
     },
     "c09b109ddd2a4da7afad75bfe02855b1": {
      "model_module": "@jupyter-widgets/base",
      "model_module_version": "1.2.0",
      "model_name": "LayoutModel",
      "state": {
       "align_items": "flex-start",
       "border": "2px solid #eeeeee",
       "display": "flex",
       "flex": "auto 0 0",
       "flex_flow": "column nowrap",
       "overflow": "auto"
      }
     },
     "c0c742906c1a4a24bc8eba14603406e8": {
      "model_module": "@jupyter-widgets/controls",
      "model_module_version": "1.5.0",
      "model_name": "BoxModel",
      "state": {
       "children": [
        "IPY_MODEL_0da9e8d40dce4377bc7b5052b0237b84",
        "IPY_MODEL_522e0940ab7840f188088c23519cae2b"
       ],
       "layout": "IPY_MODEL_51f317970783404bb6953f0ee9e534eb"
      }
     },
     "c0f6a14e4aa4421e8e7f6881bb654b15": {
      "model_module": "@jupyter-widgets/controls",
      "model_module_version": "1.5.0",
      "model_name": "ButtonStyleModel",
      "state": {}
     },
     "c12102e75b0b4d86bcdda2cf117bde20": {
      "model_module": "@jupyter-widgets/controls",
      "model_module_version": "1.5.0",
      "model_name": "TextModel",
      "state": {
       "continuous_update": false,
       "layout": "IPY_MODEL_b39ca3c53f7744a68c6bb8fcca233870",
       "placeholder": "feat",
       "style": "IPY_MODEL_bcabb6d89b5b4862b07f99d9b60e1bab",
       "value": "Time"
      }
     },
     "c16638158b7a4b20b6d1191326c03ec9": {
      "model_module": "@jupyter-widgets/controls",
      "model_module_version": "1.5.0",
      "model_name": "HTMLModel",
      "state": {
       "layout": "IPY_MODEL_56b5a25e16494ff696790ef8a9cd1acf",
       "style": "IPY_MODEL_eccce765e6c746aab7c70498456092ee",
       "value": "phrase"
      }
     },
     "c1751a64f4c34e54851750d69bae1a64": {
      "model_module": "@jupyter-widgets/controls",
      "model_module_version": "1.5.0",
      "model_name": "TextModel",
      "state": {
       "continuous_update": false,
       "layout": "IPY_MODEL_264e65ad092d477ab783e47fe9b82a9e",
       "placeholder": "feat",
       "style": "IPY_MODEL_d2a325033b534996a9b24748f6e188c2",
       "value": "PP"
      }
     },
     "c1887623b9514c50b002e9e9f2a6dd64": {
      "model_module": "@jupyter-widgets/controls",
      "model_module_version": "1.5.0",
      "model_name": "DescriptionStyleModel",
      "state": {
       "description_width": ""
      }
     },
     "c1a688a2c5f147289318690d8351395e": {
      "model_module": "@jupyter-widgets/controls",
      "model_module_version": "1.5.0",
      "model_name": "DescriptionStyleModel",
      "state": {
       "description_width": ""
      }
     },
     "c1d81bd4ca174deca85fdb0d7b4ca63c": {
      "model_module": "@jupyter-widgets/controls",
      "model_module_version": "1.5.0",
      "model_name": "ButtonModel",
      "state": {
       "description": "node 651573 feature typ changed from 'PP' to 'PPxx'. Click to save",
       "layout": "IPY_MODEL_cf7263d1839e4d57b0948463bab59445",
       "style": "IPY_MODEL_afacb41cc4db4931bd578914b0b4a1e9"
      }
     },
     "c243e33a57ea4a9b8053ea6d7891c1fc": {
      "model_module": "@jupyter-widgets/controls",
      "model_module_version": "1.5.0",
      "model_name": "DescriptionStyleModel",
      "state": {
       "description_width": ""
      }
     },
     "c2576a19870944c6b68a8dbc7615a566": {
      "model_module": "@jupyter-widgets/controls",
      "model_module_version": "1.5.0",
      "model_name": "DescriptionStyleModel",
      "state": {
       "description_width": ""
      }
     },
     "c25e98cfd5574afc8a85fef3a74dcb1b": {
      "model_module": "@jupyter-widgets/controls",
      "model_module_version": "1.5.0",
      "model_name": "TextModel",
      "state": {
       "continuous_update": false,
       "layout": "IPY_MODEL_364cd1c6573f4ed9aa3144fe6d2fd71e",
       "placeholder": "feat",
       "style": "IPY_MODEL_cf497d6160464dd1bba31ad0ddf36405",
       "value": "in"
      }
     },
     "c2c8bccc6513431387b14b9f83db166f": {
      "model_module": "@jupyter-widgets/base",
      "model_module_version": "1.2.0",
      "model_name": "LayoutModel",
      "state": {
       "border": "2px solid gray",
       "display": "inline-flex",
       "flex": "auto 0 1",
       "flex_flow": "column nowrap"
      }
     },
     "c2f43bafe4f34c3191c7390b8bddf564": {
      "model_module": "@jupyter-widgets/controls",
      "model_module_version": "1.5.0",
      "model_name": "HTMLModel",
      "state": {
       "layout": "IPY_MODEL_07c4579bde2b4d29a545ad9ac1e8734f",
       "style": "IPY_MODEL_a15d745797904f229d036422c75cb0e2",
       "value": "rēšˌîṯ"
      }
     },
     "c38d10ee0e7d4e29b5f75f5aa05bf85b": {
      "model_module": "@jupyter-widgets/controls",
      "model_module_version": "1.5.0",
      "model_name": "DescriptionStyleModel",
      "state": {
       "description_width": ""
      }
     },
     "c39c2ed83f77491c94a6a1d9f816b253": {
      "model_module": "@jupyter-widgets/controls",
      "model_module_version": "1.5.0",
      "model_name": "DescriptionStyleModel",
      "state": {
       "description_width": ""
      }
     },
     "c42518a396d3496d89ccbdd9b69a2bf5": {
      "model_module": "@jupyter-widgets/controls",
      "model_module_version": "1.5.0",
      "model_name": "BoxModel",
      "state": {
       "children": [
        "IPY_MODEL_170e2fb8902b483f962bfa1a6baf33c8",
        "IPY_MODEL_a823c4b79f5e4677bd3eeadd94249f24",
        "IPY_MODEL_8972ca46e6674d6e91afcb747102a3a3",
        "IPY_MODEL_75541aa9ee094442808f81e2c8396116"
       ],
       "layout": "IPY_MODEL_4d8df27a48e8405a949fa1331c074936"
      }
     },
     "c4465421a8e04208b20f26ab43efcc17": {
      "model_module": "@jupyter-widgets/controls",
      "model_module_version": "1.5.0",
      "model_name": "DescriptionStyleModel",
      "state": {
       "description_width": ""
      }
     },
     "c47f91ac3f0943f397cb064cf85e091f": {
      "model_module": "@jupyter-widgets/controls",
      "model_module_version": "1.5.0",
      "model_name": "HTMLModel",
      "state": {
       "layout": "IPY_MODEL_b39ca3c53f7744a68c6bb8fcca233870",
       "style": "IPY_MODEL_c4465421a8e04208b20f26ab43efcc17",
       "value": "word"
      }
     },
     "c5087586c3a8455aa8a80babbd989a0e": {
      "model_module": "@jupyter-widgets/controls",
      "model_module_version": "1.5.0",
      "model_name": "BoxModel",
      "state": {
       "children": [
        "IPY_MODEL_ba284f963e8342e996828679d5995754",
        "IPY_MODEL_cbf506d607bc42d0a001ebfb4c1993dd"
       ],
       "layout": "IPY_MODEL_4530c369046b446a8141f372ffd2b16c"
      }
     },
     "c513a202edc044eab520f9bce0b07c28": {
      "model_module": "@jupyter-widgets/base",
      "model_module_version": "1.2.0",
      "model_name": "LayoutModel",
      "state": {
       "flex": "auto 1 1"
      }
     },
     "c52c9a18523e4190b87d60458fdb2aec": {
      "model_module": "@jupyter-widgets/base",
      "model_module_version": "1.2.0",
      "model_name": "LayoutModel",
      "state": {
       "align_items": "stretch",
       "border": "2px solid #eeeeee",
       "display": "flex",
       "flex": "auto 0 0",
       "flex_flow": "column nowrap",
       "overflow": "auto"
      }
     },
     "c565577819074e86bfc1a9212b9a72f7": {
      "model_module": "@jupyter-widgets/controls",
      "model_module_version": "1.5.0",
      "model_name": "TextModel",
      "state": {
       "continuous_update": false,
       "description": "pdp=",
       "layout": "IPY_MODEL_482346b169324d308f3aa5ff45d8987f",
       "placeholder": "feat",
       "style": "IPY_MODEL_ae852425632145d69e6b4e8c0bdf00a3",
       "value": "prep"
      }
     },
     "c5718518b05144ef8b54a2f1ddf09163": {
      "model_module": "@jupyter-widgets/controls",
      "model_module_version": "1.5.0",
      "model_name": "DescriptionStyleModel",
      "state": {
       "description_width": ""
      }
     },
     "c5793553071843269443ceb0ea8d7b2d": {
      "model_module": "@jupyter-widgets/base",
      "model_module_version": "1.2.0",
      "model_name": "LayoutModel",
      "state": {
       "flex": "auto 1 1"
      }
     },
     "c5b56b2c33af4d54a19f2cd37bf68566": {
      "model_module": "@jupyter-widgets/controls",
      "model_module_version": "1.5.0",
      "model_name": "BoxModel",
      "state": {
       "children": [
        "IPY_MODEL_7b47e424c3904833ae51ecf28a7ad516",
        "IPY_MODEL_3419b34e2dde4683b50f306ddfef6fd8"
       ],
       "layout": "IPY_MODEL_825d72e184824797ad9e159366978c97"
      }
     },
     "c5b5b06e868a4266a8479b79acd74c55": {
      "model_module": "@jupyter-widgets/controls",
      "model_module_version": "1.5.0",
      "model_name": "TextModel",
      "state": {
       "continuous_update": false,
       "layout": "IPY_MODEL_b39ca3c53f7744a68c6bb8fcca233870",
       "placeholder": "feat",
       "style": "IPY_MODEL_4051d5f4fc4644e6ad26997e89244a1c",
       "value": "beginning"
      }
     },
     "c5c5dae30d0e4c1cad2d81d64d36fa49": {
      "model_module": "@jupyter-widgets/controls",
      "model_module_version": "1.5.0",
      "model_name": "DescriptionStyleModel",
      "state": {
       "description_width": ""
      }
     },
     "c5f2bcb19296497ebaa8f16eb0726492": {
      "model_module": "@jupyter-widgets/controls",
      "model_module_version": "1.5.0",
      "model_name": "DescriptionStyleModel",
      "state": {
       "description_width": ""
      }
     },
     "c61670e7612c477da6f433fe4e669e2a": {
      "model_module": "@jupyter-widgets/controls",
      "model_module_version": "1.5.0",
      "model_name": "TextModel",
      "state": {
       "continuous_update": false,
       "layout": "IPY_MODEL_264e65ad092d477ab783e47fe9b82a9e",
       "placeholder": "feat",
       "style": "IPY_MODEL_5a11ee4efff34dc5b77bb52dad6e0d83",
       "value": "in"
      }
     },
     "c639736f5e324651b3c9d3e27a0accdd": {
      "model_module": "@jupyter-widgets/controls",
      "model_module_version": "1.5.0",
      "model_name": "TextModel",
      "state": {
       "continuous_update": false,
       "layout": "IPY_MODEL_b39ca3c53f7744a68c6bb8fcca233870",
       "placeholder": "feat",
       "style": "IPY_MODEL_0317f13c88ca4bde9387014107634cf6",
       "value": "Time"
      }
     },
     "c63b3af22fb744b7b196098eeb72c199": {
      "model_module": "@jupyter-widgets/controls",
      "model_module_version": "1.5.0",
      "model_name": "TextModel",
      "state": {
       "continuous_update": false,
       "description": "pdp=",
       "layout": "IPY_MODEL_72d2e5878f844b7aa594f3e4b6e7c04f",
       "placeholder": "feat",
       "style": "IPY_MODEL_a6e2ff9659274fa58df98f0d89f83dec",
       "value": "subs"
      }
     },
     "c65bcb4667044b79a49e2dd1b3dad98a": {
      "model_module": "@jupyter-widgets/controls",
      "model_module_version": "1.5.0",
      "model_name": "HTMLModel",
      "state": {
       "layout": "IPY_MODEL_72d2e5878f844b7aa594f3e4b6e7c04f",
       "style": "IPY_MODEL_11ce45f6cbda4a4ab99982396c3e91be",
       "value": "rēšˌîṯ"
      }
     },
     "c66492d831b6409fb49dce585d993a50": {
      "model_module": "@jupyter-widgets/controls",
      "model_module_version": "1.5.0",
      "model_name": "DescriptionStyleModel",
      "state": {
       "description_width": ""
      }
     },
     "c67f9d3b43cf4181ad548f2b89ce1c0b": {
      "model_module": "@jupyter-widgets/controls",
      "model_module_version": "1.5.0",
      "model_name": "BoxModel",
      "state": {
       "children": [
        "IPY_MODEL_8c311b747da64da696ccc3d4da677af3",
        "IPY_MODEL_b25d0ee4985d47b0be8751d72a35a67f",
        "IPY_MODEL_5c9262386d0243b1a82c9265d015173e"
       ],
       "layout": "IPY_MODEL_3862a8b494df4657b4b7fe948ad78cc9"
      }
     },
     "c6f2dcacd4924fff82bc6dbef0567984": {
      "model_module": "@jupyter-widgets/controls",
      "model_module_version": "1.5.0",
      "model_name": "DescriptionStyleModel",
      "state": {
       "description_width": ""
      }
     },
     "c6ffdefc2fd64e1fb32c2a0ef08572be": {
      "model_module": "@jupyter-widgets/controls",
      "model_module_version": "1.5.0",
      "model_name": "DescriptionStyleModel",
      "state": {
       "description_width": ""
      }
     },
     "c71d737af1e043e2af4fa62467544a78": {
      "model_module": "@jupyter-widgets/controls",
      "model_module_version": "1.5.0",
      "model_name": "TextModel",
      "state": {
       "continuous_update": false,
       "layout": "IPY_MODEL_07c4579bde2b4d29a545ad9ac1e8734f",
       "placeholder": "feat",
       "style": "IPY_MODEL_2175553a232545138d5886fe2d1a60b8",
       "value": "beginning"
      }
     },
     "c7583e55e9e84288900f75da4dd6be40": {
      "model_module": "@jupyter-widgets/controls",
      "model_module_version": "1.5.0",
      "model_name": "BoxModel",
      "state": {
       "children": [
        "IPY_MODEL_65e2e53b56a74268a264cf826e46b8fc",
        "IPY_MODEL_92a60d3364844926a98a62ebb87d8586",
        "IPY_MODEL_13c0484ef9af4bedb426d964bad8d908"
       ],
       "layout": "IPY_MODEL_387cc03710fc4092b00558cc9e56752f"
      }
     },
     "c75af6e5769b4a85bde64f9133bea656": {
      "model_module": "@jupyter-widgets/controls",
      "model_module_version": "1.5.0",
      "model_name": "BoxModel",
      "state": {
       "children": [
        "IPY_MODEL_8c413e19b22a4bb9b5fa8c0e9f328645",
        "IPY_MODEL_8e27725f524548a6aae5596409559746",
        "IPY_MODEL_59b12afb96e4409986a9c07a9c35bd94",
        "IPY_MODEL_518f69d73c2740678954faaa121dd116"
       ],
       "layout": "IPY_MODEL_77c65fb5db6e460bb3fcc7ce041b7629"
      }
     },
     "c76316fcd2df465cade4e0e522c537be": {
      "model_module": "@jupyter-widgets/controls",
      "model_module_version": "1.5.0",
      "model_name": "ButtonModel",
      "state": {
       "description": "Up to date",
       "disabled": true,
       "layout": "IPY_MODEL_2be096b2b0494bc3ae02bc90e3ab420b",
       "style": "IPY_MODEL_f8486effe7a6480f8f13ad130ffffffc"
      }
     },
     "c7730c03a7b94ef49b1500720c796ec1": {
      "model_module": "@jupyter-widgets/controls",
      "model_module_version": "1.5.0",
      "model_name": "DescriptionStyleModel",
      "state": {
       "description_width": ""
      }
     },
     "c7733363c0704fd78ad9106077cd1946": {
      "model_module": "@jupyter-widgets/controls",
      "model_module_version": "1.5.0",
      "model_name": "HTMLModel",
      "state": {
       "layout": "IPY_MODEL_399fdcff98b84310beb38eceaa8556a6",
       "style": "IPY_MODEL_c39c2ed83f77491c94a6a1d9f816b253",
       "value": "<a\n  class=\"txtu hbo\"\n  href=\"https://shebanq.ancient-data.org/hebrew/word?version=2021&amp;id=1B\"\n  target=\"_blank\"\n  title=\"Show this on SHEBANQ\">\n        <span class=\"txtp\">\n         bᵊ\n        </span>\n       </a>"
      }
     },
     "c7a4cccb97f941b38968488655cb2e24": {
      "model_module": "@jupyter-widgets/controls",
      "model_module_version": "1.5.0",
      "model_name": "TextModel",
      "state": {
       "continuous_update": false,
       "layout": "IPY_MODEL_2f741b88357f4c808fc3c9eb0bc6a098",
       "placeholder": "feat",
       "style": "IPY_MODEL_cc7171d259514871b793931eb95544a0",
       "value": "beginning"
      }
     },
     "c7a8f72be6154a4fa118f94cebbedc8d": {
      "model_module": "@jupyter-widgets/controls",
      "model_module_version": "1.5.0",
      "model_name": "ButtonModel",
      "state": {
       "description": "Up to date",
       "disabled": true,
       "layout": "IPY_MODEL_20253abfa3884eb0ba23b2dac506b50a",
       "style": "IPY_MODEL_e4752f76c43f4c63b865f64d68e80a07"
      }
     },
     "c7b4884a595842dda0fc4fb92ac2183d": {
      "model_module": "@jupyter-widgets/base",
      "model_module_version": "1.2.0",
      "model_name": "LayoutModel",
      "state": {
       "align_content": "flex-start",
       "align_items": "flex-start",
       "border": "3px solid gray",
       "display": "inline-flex",
       "flex": "auto 0 0",
       "flex_flow": "row wrap",
       "justify_content": "flex-start",
       "overflow": "auto"
      }
     },
     "c7d84d1750c94e97a8382b8a4c267637": {
      "model_module": "@jupyter-widgets/controls",
      "model_module_version": "1.5.0",
      "model_name": "HTMLModel",
      "state": {
       "layout": "IPY_MODEL_72d2e5878f844b7aa594f3e4b6e7c04f",
       "style": "IPY_MODEL_e32ec96f69e440cb9ca0d051031f56c0",
       "value": "phrase"
      }
     },
     "c832de82faf84579b2e940303ab3c5b7": {
      "model_module": "@jupyter-widgets/controls",
      "model_module_version": "1.5.0",
      "model_name": "HTMLModel",
      "state": {
       "layout": "IPY_MODEL_07c4579bde2b4d29a545ad9ac1e8734f",
       "style": "IPY_MODEL_9a46d34fff9441838c3132a195222f52",
       "value": "word"
      }
     },
     "c8495e8ffd894071ab435248ddc5ad33": {
      "model_module": "@jupyter-widgets/base",
      "model_module_version": "1.2.0",
      "model_name": "LayoutModel",
      "state": {
       "flex": "auto 1 1"
      }
     },
     "c85f1eb2620a434691eb1c73e3bdc2ed": {
      "model_module": "@jupyter-widgets/controls",
      "model_module_version": "1.5.0",
      "model_name": "BoxModel",
      "state": {
       "children": [
        "IPY_MODEL_9b706df940774760a1cfca1158d0f947",
        "IPY_MODEL_e5dbbe2d03a7494a8d0382a0afa44bfd"
       ],
       "layout": "IPY_MODEL_219699815b2a4f57acbb72d77452e763"
      }
     },
     "c85fa315c26941599ad196e18b8af96a": {
      "model_module": "@jupyter-widgets/controls",
      "model_module_version": "1.5.0",
      "model_name": "BoxModel",
      "state": {
       "children": [
        "IPY_MODEL_6487fd52505d4c41916477098932fa3b",
        "IPY_MODEL_d4753d7e21954332a9cd60a17a0aa4cf",
        "IPY_MODEL_70ad53008d204407b0abe28fae2ee468",
        "IPY_MODEL_12b38866ead34adfafaf2c4837d0c29a"
       ],
       "layout": "IPY_MODEL_87ea183ef8294f5e81ce9cdb7873eb4c"
      }
     },
     "c8799f748be24b83bb2b7c58a6035511": {
      "model_module": "@jupyter-widgets/controls",
      "model_module_version": "1.5.0",
      "model_name": "TextModel",
      "state": {
       "continuous_update": false,
       "description": "pdp=",
       "layout": "IPY_MODEL_482346b169324d308f3aa5ff45d8987f",
       "placeholder": "feat",
       "style": "IPY_MODEL_0d8240c34b64473984158dd021cb434b",
       "value": "prep"
      }
     },
     "c88cc7a3bb654287a968b1617953f281": {
      "model_module": "@jupyter-widgets/controls",
      "model_module_version": "1.5.0",
      "model_name": "BoxModel",
      "state": {
       "children": [
        "IPY_MODEL_6d2dd688d93449fa953a0a5c3599f301",
        "IPY_MODEL_0182c1ef655f4d739934dba8b09381e6"
       ],
       "layout": "IPY_MODEL_36f61bcd889248b59c6511def1ebe7b0"
      }
     },
     "c89a4061e83d45febc228cf9193a36eb": {
      "model_module": "@jupyter-widgets/base",
      "model_module_version": "1.2.0",
      "model_name": "LayoutModel",
      "state": {
       "flex": "auto 1 1"
      }
     },
     "c8b0a8fc34c9417da860be1fea341780": {
      "model_module": "@jupyter-widgets/controls",
      "model_module_version": "1.5.0",
      "model_name": "DescriptionStyleModel",
      "state": {
       "description_width": ""
      }
     },
     "c8ce9df79a69430a8e44fdd162a90ca2": {
      "model_module": "@jupyter-widgets/controls",
      "model_module_version": "1.5.0",
      "model_name": "DescriptionStyleModel",
      "state": {
       "description_width": ""
      }
     },
     "c8d51f6fbe4e422cb5cfe58fc3467cc5": {
      "model_module": "@jupyter-widgets/controls",
      "model_module_version": "1.5.0",
      "model_name": "ButtonStyleModel",
      "state": {}
     },
     "c914bccf286c464291286d6e57ddf35e": {
      "model_module": "@jupyter-widgets/controls",
      "model_module_version": "1.5.0",
      "model_name": "ButtonStyleModel",
      "state": {}
     },
     "c9455f14976d481f91da486fa0432f12": {
      "model_module": "@jupyter-widgets/controls",
      "model_module_version": "1.5.0",
      "model_name": "HTMLModel",
      "state": {
       "layout": "IPY_MODEL_0c216e9e06a84c8b9b6e355675304a73",
       "style": "IPY_MODEL_efde2d6900b14c868706f8aa8d3ad197",
       "value": "<a\n  class=\"txtu hbo\"\n  href=\"https://shebanq.ancient-data.org/hebrew/word?version=2021&amp;id=1RACJTn\"\n  target=\"_blank\"\n  title=\"Show this on SHEBANQ\">\n        <span class=\"txtp\">\n         rēšˌîṯ\n        </span>\n       </a>"
      }
     },
     "c94834cdaa3943fe9823ca9914bc8afa": {
      "model_module": "@jupyter-widgets/controls",
      "model_module_version": "1.5.0",
      "model_name": "TextModel",
      "state": {
       "continuous_update": false,
       "layout": "IPY_MODEL_482346b169324d308f3aa5ff45d8987f",
       "placeholder": "feat",
       "style": "IPY_MODEL_e725087b3f7147d284679c595a7d9c40",
       "value": "Time"
      }
     },
     "c98e258fce024947ae6249726835859c": {
      "model_module": "@jupyter-widgets/base",
      "model_module_version": "1.2.0",
      "model_name": "LayoutModel",
      "state": {
       "align_content": "flex-start",
       "align_items": "flex-start",
       "flex": "auto 0 0",
       "justify_content": "flex-start",
       "overflow": "hidden"
      }
     },
     "c9c0dd62169f428695a4dad011bd544b": {
      "model_module": "@jupyter-widgets/controls",
      "model_module_version": "1.5.0",
      "model_name": "TextModel",
      "state": {
       "layout": "IPY_MODEL_d307a580f49944ca8ea07fe6045a70fa",
       "placeholder": "pdp",
       "style": "IPY_MODEL_9ff95281199448d6994bdf24ea0e5540",
       "value": "prep"
      }
     },
     "c9e5cc77c74f4a818f2e3f6c8d7e20c0": {
      "model_module": "@jupyter-widgets/controls",
      "model_module_version": "1.5.0",
      "model_name": "DescriptionStyleModel",
      "state": {
       "description_width": ""
      }
     },
     "c9fd8e8e88474fafa4670ab26c7e7e15": {
      "model_module": "@jupyter-widgets/controls",
      "model_module_version": "1.5.0",
      "model_name": "DescriptionStyleModel",
      "state": {
       "description_width": ""
      }
     },
     "ca6599f565e342968abddfef5bd51c96": {
      "model_module": "@jupyter-widgets/controls",
      "model_module_version": "1.5.0",
      "model_name": "DescriptionStyleModel",
      "state": {
       "description_width": ""
      }
     },
     "ca6808cdf13f4340a4ecc39f919edeb4": {
      "model_module": "@jupyter-widgets/controls",
      "model_module_version": "1.5.0",
      "model_name": "HTMLModel",
      "state": {
       "layout": "IPY_MODEL_20248d44181a4940977002cc4ba35e3b",
       "style": "IPY_MODEL_368ed2b567164f5f92c54eaef0c5f598",
       "value": "word"
      }
     },
     "ca97853e88bb4184861ca9bb6f7b74fb": {
      "model_module": "@jupyter-widgets/controls",
      "model_module_version": "1.5.0",
      "model_name": "TextModel",
      "state": {
       "continuous_update": false,
       "layout": "IPY_MODEL_2e5b48b392c64f5fa618c525ca5043bb",
       "placeholder": "feat",
       "style": "IPY_MODEL_6adca9c17ab74bc39afe7576e4ae363f",
       "value": "PP"
      }
     },
     "cac4fffd5a42489f93d236948815ac88": {
      "model_module": "@jupyter-widgets/controls",
      "model_module_version": "1.5.0",
      "model_name": "BoxModel",
      "state": {
       "children": [
        "IPY_MODEL_5d1b930ce4404b79ac0bdae089c52046",
        "IPY_MODEL_6e4e4167241b4d1d9b270a8f6eeab762"
       ],
       "layout": "IPY_MODEL_af0c4301d92944f786e234f42dc14aa0"
      }
     },
     "cb3106b0507a4c9b897d0f7f83d62df0": {
      "model_module": "@jupyter-widgets/controls",
      "model_module_version": "1.5.0",
      "model_name": "TextModel",
      "state": {
       "continuous_update": false,
       "layout": "IPY_MODEL_740e27f9b923410ea3b36f1e5b08c0c3",
       "placeholder": "feat",
       "style": "IPY_MODEL_1f37c3eb0f6d44f7bc4e3656b762c94a",
       "value": "PPxx"
      }
     },
     "cb375d14a9b24bd4bc92e87af075fa3e": {
      "model_module": "@jupyter-widgets/controls",
      "model_module_version": "1.5.0",
      "model_name": "DescriptionStyleModel",
      "state": {
       "description_width": ""
      }
     },
     "cb5111fa92914ca09109bd4621e53bd7": {
      "model_module": "@jupyter-widgets/controls",
      "model_module_version": "1.5.0",
      "model_name": "DescriptionStyleModel",
      "state": {
       "description_width": ""
      }
     },
     "cb5acbc20f6b4ae59cd2ba3884697076": {
      "model_module": "@jupyter-widgets/base",
      "model_module_version": "1.2.0",
      "model_name": "LayoutModel",
      "state": {
       "align_items": "center",
       "border": "2px solid #eeeeee",
       "display": "flex",
       "flex": "auto 0 0",
       "flex_flow": "column nowrap",
       "overflow": "auto"
      }
     },
     "cbc9e81df402492398a6bb1bb65b8024": {
      "model_module": "@jupyter-widgets/base",
      "model_module_version": "1.2.0",
      "model_name": "LayoutModel",
      "state": {
       "width": "100%"
      }
     },
     "cbf506d607bc42d0a001ebfb4c1993dd": {
      "model_module": "@jupyter-widgets/controls",
      "model_module_version": "1.5.0",
      "model_name": "BoxModel",
      "state": {
       "children": [
        "IPY_MODEL_0f691741120e4528aa38c2931e46ba0a",
        "IPY_MODEL_a5fe1eba68a4467a91272f0a206d595c"
       ],
       "layout": "IPY_MODEL_af549ff68f384149b318a6e4593e080c"
      }
     },
     "cc5011156a144a1bb37e3933c02c073a": {
      "model_module": "@jupyter-widgets/controls",
      "model_module_version": "1.5.0",
      "model_name": "HTMLModel",
      "state": {
       "layout": "IPY_MODEL_740e27f9b923410ea3b36f1e5b08c0c3",
       "style": "IPY_MODEL_058586c6b54c4b448efc967ebcd5a62b",
       "value": "rēšˌîṯ"
      }
     },
     "cc68d071a56749f3a96489c9fc5567bd": {
      "model_module": "@jupyter-widgets/controls",
      "model_module_version": "1.5.0",
      "model_name": "HTMLModel",
      "state": {
       "layout": "IPY_MODEL_8ba1b58fc41a4001b29bb4c0a8408965",
       "style": "IPY_MODEL_018400e0a2174fa9a11900531058f666",
       "value": "phrase"
      }
     },
     "cc7171d259514871b793931eb95544a0": {
      "model_module": "@jupyter-widgets/controls",
      "model_module_version": "1.5.0",
      "model_name": "DescriptionStyleModel",
      "state": {
       "description_width": ""
      }
     },
     "cc79464118584be3baac27a7937a4d5d": {
      "model_module": "@jupyter-widgets/controls",
      "model_module_version": "1.5.0",
      "model_name": "BoxModel",
      "state": {
       "children": [
        "IPY_MODEL_21692ae8611d4c63901c331944570e4e",
        "IPY_MODEL_977fbce27a9e45789bcdf1596d177e7d"
       ],
       "layout": "IPY_MODEL_d7118f7155654af0a0dcf1ef63a531b6"
      }
     },
     "cc99ee3676d94e4c82d86290aa104918": {
      "model_module": "@jupyter-widgets/controls",
      "model_module_version": "1.5.0",
      "model_name": "TextModel",
      "state": {
       "continuous_update": false,
       "layout": "IPY_MODEL_c98e258fce024947ae6249726835859c",
       "placeholder": "feat",
       "style": "IPY_MODEL_8632ccb779e947848eee86c49a42b962",
       "value": "in"
      }
     },
     "cc9ccf4bf0864356992ab325c3046833": {
      "model_module": "@jupyter-widgets/controls",
      "model_module_version": "1.5.0",
      "model_name": "BoxModel",
      "state": {
       "children": [
        "IPY_MODEL_7814ca5a9a8641d29f3441604366e0dd",
        "IPY_MODEL_239a3aefe2c849938a206feb01fec528",
        "IPY_MODEL_5c9d2fb5357848c296708bfd8a0d0c41"
       ],
       "layout": "IPY_MODEL_ff1546fd96e54f168944d02711d56e0e"
      }
     },
     "ccc30124321b41df867ccaaca59b2084": {
      "model_module": "@jupyter-widgets/controls",
      "model_module_version": "1.5.0",
      "model_name": "DescriptionStyleModel",
      "state": {
       "description_width": ""
      }
     },
     "cccac7fa88e9456bb701376e5db4a40c": {
      "model_module": "@jupyter-widgets/controls",
      "model_module_version": "1.5.0",
      "model_name": "TextModel",
      "state": {
       "continuous_update": false,
       "layout": "IPY_MODEL_364cd1c6573f4ed9aa3144fe6d2fd71e",
       "placeholder": "feat",
       "style": "IPY_MODEL_fd0b07da2b374d7bbc9fa5d931d475dc",
       "value": "PP"
      }
     },
     "ccd2ea50e8254ea78a1a85bdaa951d86": {
      "model_module": "@jupyter-widgets/base",
      "model_module_version": "1.2.0",
      "model_name": "LayoutModel",
      "state": {
       "align_content": "flex-start",
       "align_items": "flex-start",
       "flex": "auto 0 0",
       "justify_content": "flex-start",
       "overflow": "hidden"
      }
     },
     "cd1f1a57b3ee4b9e9a094ae4aaf484b2": {
      "model_module": "@jupyter-widgets/controls",
      "model_module_version": "1.5.0",
      "model_name": "ButtonModel",
      "state": {
       "description": "Up to date",
       "disabled": true,
       "layout": "IPY_MODEL_96217be90c0548f9be51261cc0861faa",
       "style": "IPY_MODEL_ad74855183a34fe08c19e5600d95b1ce"
      }
     },
     "cd61e9d618644476ab41893e32d01136": {
      "model_module": "@jupyter-widgets/base",
      "model_module_version": "1.2.0",
      "model_name": "LayoutModel",
      "state": {
       "align_content": "flex-start",
       "align_items": "flex-start",
       "border": "1px solid gray",
       "display": "inline-flex",
       "flex": "auto 0 0",
       "flex_flow": "column nowrap",
       "justify_content": "flex-start",
       "overflow": "auto"
      }
     },
     "cd9007d7ad48482b990007d9470e7a9b": {
      "model_module": "@jupyter-widgets/controls",
      "model_module_version": "1.5.0",
      "model_name": "BoxModel",
      "state": {
       "children": [
        "IPY_MODEL_346b8a0625954c0dba9f92d885b7d0b0",
        "IPY_MODEL_0931bd0256e544f9a817940553ef2c3e"
       ],
       "layout": "IPY_MODEL_e6314c6602cd4750b15a6d28a15efe50"
      }
     },
     "cda84eb612ed4c9b8824f4252ed0a0f2": {
      "model_module": "@jupyter-widgets/controls",
      "model_module_version": "1.5.0",
      "model_name": "TextModel",
      "state": {
       "continuous_update": false,
       "layout": "IPY_MODEL_c98e258fce024947ae6249726835859c",
       "placeholder": "feat",
       "style": "IPY_MODEL_81e00edd607640329b2b4f0eb618d3d2",
       "value": "beginning"
      }
     },
     "cdb1aee2b45442c59cf696e0346417eb": {
      "model_module": "@jupyter-widgets/controls",
      "model_module_version": "1.5.0",
      "model_name": "DescriptionStyleModel",
      "state": {
       "description_width": ""
      }
     },
     "cdbabb2a529b4a8e8936c80f8eaad66f": {
      "model_module": "@jupyter-widgets/controls",
      "model_module_version": "1.5.0",
      "model_name": "DescriptionStyleModel",
      "state": {
       "description_width": ""
      }
     },
     "cdcf8c7845cd41df9f9ed183a881f80d": {
      "model_module": "@jupyter-widgets/controls",
      "model_module_version": "1.5.0",
      "model_name": "DescriptionStyleModel",
      "state": {
       "description_width": ""
      }
     },
     "cde0ce27a8f4400fb783caf4f73130e2": {
      "model_module": "@jupyter-widgets/controls",
      "model_module_version": "1.5.0",
      "model_name": "DescriptionStyleModel",
      "state": {
       "description_width": ""
      }
     },
     "ce9447fe038941e8b938f3c5608a80bf": {
      "model_module": "@jupyter-widgets/controls",
      "model_module_version": "1.5.0",
      "model_name": "HTMLModel",
      "state": {
       "layout": "IPY_MODEL_fcbf3ee01ffe466dbdf5ac76fe08f70a",
       "style": "IPY_MODEL_e7f9dcdd15894554be5954ed5a694c61",
       "value": "bᵊ"
      }
     },
     "cee023945456442ba5b256786a57d6d0": {
      "model_module": "@jupyter-widgets/controls",
      "model_module_version": "1.5.0",
      "model_name": "ButtonModel",
      "state": {
       "description": "Save",
       "disabled": true,
       "layout": "IPY_MODEL_83f9dc9507224351bd7341d815b57ee2",
       "style": "IPY_MODEL_71cee7fd4b0b44a1ad3d5c6330c76b8d"
      }
     },
     "cf07e982691d4863b27f6fc542724154": {
      "model_module": "@jupyter-widgets/controls",
      "model_module_version": "1.5.0",
      "model_name": "DescriptionStyleModel",
      "state": {
       "description_width": ""
      }
     },
     "cf43423aff4440c8ba2c3be1a584dece": {
      "model_module": "@jupyter-widgets/controls",
      "model_module_version": "1.5.0",
      "model_name": "DescriptionStyleModel",
      "state": {
       "description_width": ""
      }
     },
     "cf497d6160464dd1bba31ad0ddf36405": {
      "model_module": "@jupyter-widgets/controls",
      "model_module_version": "1.5.0",
      "model_name": "DescriptionStyleModel",
      "state": {
       "description_width": ""
      }
     },
     "cf7263d1839e4d57b0948463bab59445": {
      "model_module": "@jupyter-widgets/base",
      "model_module_version": "1.2.0",
      "model_name": "LayoutModel",
      "state": {
       "align_content": "flex-start",
       "align_items": "flex-start",
       "flex": "auto 0 0",
       "justify_content": "flex-start",
       "overflow": "auto"
      }
     },
     "cf9df7f170f34131a037bf1778bb137e": {
      "model_module": "@jupyter-widgets/base",
      "model_module_version": "1.2.0",
      "model_name": "LayoutModel",
      "state": {
       "flex": "auto 1 1"
      }
     },
     "cffb885347744334a95d25496ba487d8": {
      "model_module": "@jupyter-widgets/controls",
      "model_module_version": "1.5.0",
      "model_name": "HTMLModel",
      "state": {
       "layout": "IPY_MODEL_07c4579bde2b4d29a545ad9ac1e8734f",
       "style": "IPY_MODEL_1a575ee6a9d34d5b9f15ddef353edbe4",
       "value": "bᵊ"
      }
     },
     "d01e03cc673d4a6bba8255d51fecabdc": {
      "model_module": "@jupyter-widgets/controls",
      "model_module_version": "1.5.0",
      "model_name": "TextModel",
      "state": {
       "continuous_update": false,
       "layout": "IPY_MODEL_098553acf751448fbd093ebef7a99dfe",
       "placeholder": "feat",
       "style": "IPY_MODEL_04711fb9cd184c84b173786b239a5294",
       "value": "Time"
      }
     },
     "d05f306182c748a6b1ef99c0b14f3f99": {
      "model_module": "@jupyter-widgets/controls",
      "model_module_version": "1.5.0",
      "model_name": "TextModel",
      "state": {
       "layout": "IPY_MODEL_6473dda2915f41ed964de8ff103afadb",
       "placeholder": "gloss",
       "style": "IPY_MODEL_6292c23062c140bca4a8b4d931d680c5",
       "value": "in"
      }
     },
     "d08fd5ef9461485dbd2ec5a37da9d79d": {
      "model_module": "@jupyter-widgets/controls",
      "model_module_version": "1.5.0",
      "model_name": "HTMLModel",
      "state": {
       "layout": "IPY_MODEL_2e5b48b392c64f5fa618c525ca5043bb",
       "style": "IPY_MODEL_1bdcd4b633d6476f819a3381288fd845",
       "value": "bᵊ"
      }
     },
     "d099466e835745f6ac012494bbfc9ce5": {
      "model_module": "@jupyter-widgets/controls",
      "model_module_version": "1.5.0",
      "model_name": "BoxModel",
      "state": {
       "children": [
        "IPY_MODEL_cc9ccf4bf0864356992ab325c3046833",
        "IPY_MODEL_4faf9cf6dd7d405997de20512ea04edc"
       ],
       "layout": "IPY_MODEL_842b8251ecfe4eddbfff7738c45376c0"
      }
     },
     "d0e61751a66545ada17f813d9ac07153": {
      "model_module": "@jupyter-widgets/controls",
      "model_module_version": "1.5.0",
      "model_name": "BoxModel",
      "state": {
       "children": [
        "IPY_MODEL_05e15f06ffab44d4812c222705202674",
        "IPY_MODEL_10353eb58f5c43fe8767f2b3d9705b1d"
       ],
       "layout": "IPY_MODEL_c09b109ddd2a4da7afad75bfe02855b1"
      }
     },
     "d1127552caa3431084bf092a636fc6a6": {
      "model_module": "@jupyter-widgets/controls",
      "model_module_version": "1.5.0",
      "model_name": "TextModel",
      "state": {
       "layout": "IPY_MODEL_bf0de77b764547118f2b08517d675ed3",
       "placeholder": "pdp",
       "style": "IPY_MODEL_bb06105574e74f87afa8ecdb08f6e42e",
       "value": "prep"
      }
     },
     "d1293eace5574e489d0326c2b8c05b68": {
      "model_module": "@jupyter-widgets/base",
      "model_module_version": "1.2.0",
      "model_name": "LayoutModel",
      "state": {
       "align_content": "flex-start"
      }
     },
     "d1301411a92945cb935a52f3e4f26ee3": {
      "model_module": "@jupyter-widgets/controls",
      "model_module_version": "1.5.0",
      "model_name": "BoxModel",
      "state": {
       "children": [
        "IPY_MODEL_882659acb10e4df5a2d964a2b7f851d8",
        "IPY_MODEL_039aacd0646b4e68b55a7e2f0dd5a12c",
        "IPY_MODEL_96e2f48ed7974361abefee41618f7910"
       ],
       "layout": "IPY_MODEL_79e6eb621b1042e89c9c8a54ce3fd8a4"
      }
     },
     "d164ec29da894541bd9ba0048660e41f": {
      "model_module": "@jupyter-widgets/base",
      "model_module_version": "1.2.0",
      "model_name": "LayoutModel",
      "state": {
       "align_content": "flex-start",
       "align_items": "flex-start",
       "border": "3px solid gray",
       "display": "inline-flex",
       "flex": "auto 0 0",
       "flex_flow": "row wrap",
       "justify_content": "flex-start",
       "overflow": "auto"
      }
     },
     "d21f9431d0214187a5682c9346d2cbc2": {
      "model_module": "@jupyter-widgets/controls",
      "model_module_version": "1.5.0",
      "model_name": "BoxModel",
      "state": {
       "children": [
        "IPY_MODEL_a860ae3ea38e4965901b522afea2066a",
        "IPY_MODEL_493ea933caaa49d2a5dac992e9eaa9fd"
       ],
       "layout": "IPY_MODEL_70231fe1df4a4b50a701d7a022812fe2"
      }
     },
     "d268da8c08b046fd829b2b825642be90": {
      "model_module": "@jupyter-widgets/controls",
      "model_module_version": "1.5.0",
      "model_name": "TextModel",
      "state": {
       "continuous_update": false,
       "layout": "IPY_MODEL_098553acf751448fbd093ebef7a99dfe",
       "placeholder": "feat",
       "style": "IPY_MODEL_80fb74ae6b404b309f3bdd7371957aca",
       "value": "in"
      }
     },
     "d2778dba5cdb4f9fa53fdf3d0ad57cd1": {
      "model_module": "@jupyter-widgets/controls",
      "model_module_version": "1.5.0",
      "model_name": "ButtonStyleModel",
      "state": {}
     },
     "d2848a4ecc6249ad8bc56bd0d0b32dc6": {
      "model_module": "@jupyter-widgets/base",
      "model_module_version": "1.2.0",
      "model_name": "LayoutModel",
      "state": {
       "flex": "auto 1 1"
      }
     },
     "d2a325033b534996a9b24748f6e188c2": {
      "model_module": "@jupyter-widgets/controls",
      "model_module_version": "1.5.0",
      "model_name": "DescriptionStyleModel",
      "state": {
       "description_width": ""
      }
     },
     "d2ae2d3ec8ff4669ab15f43693cbf3e5": {
      "model_module": "@jupyter-widgets/controls",
      "model_module_version": "1.5.0",
      "model_name": "LabelModel",
      "state": {
       "layout": "IPY_MODEL_06cb2daf6b7840e9bd6baf1cdb25514d",
       "style": "IPY_MODEL_127020b82f584f15b2f40c13370eebc8",
       "value": "aap"
      }
     },
     "d2c0831d339140dabd13f7f01caa224a": {
      "model_module": "@jupyter-widgets/controls",
      "model_module_version": "1.5.0",
      "model_name": "HTMLModel",
      "state": {
       "layout": "IPY_MODEL_ed4491d0aceb4d65aad7e257a98b41e4",
       "style": "IPY_MODEL_053d727c0aba4f3caedad4c8a5a5af15",
       "value": "phrase"
      }
     },
     "d2cc757087474b1687842e8ba2733091": {
      "model_module": "@jupyter-widgets/controls",
      "model_module_version": "1.5.0",
      "model_name": "BoxModel",
      "state": {
       "children": [
        "IPY_MODEL_136e6447132a42a19293ae11bf61249f",
        "IPY_MODEL_9947596975764044b886aa6998c8f87e"
       ],
       "layout": "IPY_MODEL_75ca4a9014c14d338bec87abc8529a48"
      }
     },
     "d2f271b569734f45becdf9944a8eecce": {
      "model_module": "@jupyter-widgets/controls",
      "model_module_version": "1.5.0",
      "model_name": "DescriptionStyleModel",
      "state": {
       "description_width": ""
      }
     },
     "d2f73f716c8e44c890cf4e1ad97683ec": {
      "model_module": "@jupyter-widgets/controls",
      "model_module_version": "1.5.0",
      "model_name": "TextModel",
      "state": {
       "continuous_update": false,
       "layout": "IPY_MODEL_8ba1b58fc41a4001b29bb4c0a8408965",
       "placeholder": "feat",
       "style": "IPY_MODEL_b7450a17a162401da2a61613942388d8",
       "value": "beginning"
      }
     },
     "d307a580f49944ca8ea07fe6045a70fa": {
      "model_module": "@jupyter-widgets/base",
      "model_module_version": "1.2.0",
      "model_name": "LayoutModel",
      "state": {
       "flex": "auto 0 0",
       "height": "3em",
       "width": "10em"
      }
     },
     "d31ed92355fd413995a2288c11100fb9": {
      "model_module": "@jupyter-widgets/controls",
      "model_module_version": "1.5.0",
      "model_name": "DescriptionStyleModel",
      "state": {
       "description_width": ""
      }
     },
     "d35a76df3cda49868cc0d9ab8568c5b3": {
      "model_module": "@jupyter-widgets/base",
      "model_module_version": "1.2.0",
      "model_name": "LayoutModel",
      "state": {
       "align_content": "flex-start",
       "align_items": "flex-start",
       "flex": "auto 0 0",
       "justify_content": "flex-start",
       "overflow": "hidden"
      }
     },
     "d37af22b15304a92ab315ba4d1cf0e69": {
      "model_module": "@jupyter-widgets/controls",
      "model_module_version": "1.5.0",
      "model_name": "BoxModel",
      "state": {
       "children": [
        "IPY_MODEL_164a3a0b9dc849ecbcd47d9bbbcd252a",
        "IPY_MODEL_e44ca31b5a274794bc15f2ef1b6f99d3"
       ],
       "layout": "IPY_MODEL_e52fb6171e7a404fba94918b8ebac5d2"
      }
     },
     "d40dc5b6764e40cebb50ef82261a51df": {
      "model_module": "@jupyter-widgets/controls",
      "model_module_version": "1.5.0",
      "model_name": "DescriptionStyleModel",
      "state": {
       "description_width": ""
      }
     },
     "d452001cf2cb43c786f478750ea92ad5": {
      "model_module": "@jupyter-widgets/controls",
      "model_module_version": "1.5.0",
      "model_name": "HTMLModel",
      "state": {
       "layout": "IPY_MODEL_264e65ad092d477ab783e47fe9b82a9e",
       "style": "IPY_MODEL_003af87568a5419b8e2d2c6913d1b57a",
       "value": "rēšˌîṯ"
      }
     },
     "d45a3b9b3c3248979ef00a8bbb422f49": {
      "model_module": "@jupyter-widgets/controls",
      "model_module_version": "1.5.0",
      "model_name": "TextModel",
      "state": {
       "continuous_update": false,
       "description": "pdp=",
       "layout": "IPY_MODEL_098553acf751448fbd093ebef7a99dfe",
       "placeholder": "feat",
       "style": "IPY_MODEL_006f07e3833a49f5a7a4fdc3964aeb27",
       "value": "prep"
      }
     },
     "d4753d7e21954332a9cd60a17a0aa4cf": {
      "model_module": "@jupyter-widgets/controls",
      "model_module_version": "1.5.0",
      "model_name": "HTMLModel",
      "state": {
       "layout": "IPY_MODEL_048cafd6b7354ca79c4b14a5e4b01aff",
       "style": "IPY_MODEL_fae45cb5987944558ed6789d510c8619",
       "value": "rēšˌîṯ"
      }
     },
     "d480148abd1e4fd2b1f731a14efae604": {
      "model_module": "@jupyter-widgets/controls",
      "model_module_version": "1.5.0",
      "model_name": "DescriptionStyleModel",
      "state": {
       "description_width": ""
      }
     },
     "d4bae83464644783a191067fd1cb9616": {
      "model_module": "@jupyter-widgets/controls",
      "model_module_version": "1.5.0",
      "model_name": "TextModel",
      "state": {
       "continuous_update": false,
       "layout": "IPY_MODEL_998193dda5ba4744897a9fd7f1881127",
       "placeholder": "feat",
       "style": "IPY_MODEL_b5355e12e7a146b69e7c98e6322fc9ee",
       "value": "Time"
      }
     },
     "d4c0270137de405ca0f8d050964ca811": {
      "model_module": "@jupyter-widgets/controls",
      "model_module_version": "1.5.0",
      "model_name": "ButtonStyleModel",
      "state": {}
     },
     "d4d9d68d1d6a4c1890915549580288eb": {
      "model_module": "@jupyter-widgets/controls",
      "model_module_version": "1.5.0",
      "model_name": "HTMLModel",
      "state": {
       "layout": "IPY_MODEL_ed4491d0aceb4d65aad7e257a98b41e4",
       "style": "IPY_MODEL_784d5ee188354a479672fc2fed6a16e3",
       "value": "bᵊ"
      }
     },
     "d50580aa8a88496ebc9bae1ed12e616d": {
      "model_module": "@jupyter-widgets/controls",
      "model_module_version": "1.5.0",
      "model_name": "HTMLModel",
      "state": {
       "layout": "IPY_MODEL_4c7f21bcac3c469988c886892e35ad6d",
       "style": "IPY_MODEL_598f945d1c904224b9cfefdfeaee8f72",
       "value": "rēšˌîṯ"
      }
     },
     "d54b6a32f01546d4afb5208c4c5c0e41": {
      "model_module": "@jupyter-widgets/controls",
      "model_module_version": "1.5.0",
      "model_name": "TextModel",
      "state": {
       "continuous_update": false,
       "description": "pdp=",
       "layout": "IPY_MODEL_b39ca3c53f7744a68c6bb8fcca233870",
       "placeholder": "feat",
       "style": "IPY_MODEL_f2a108c9b55342c1937b1559fd019304",
       "value": "subs"
      }
     },
     "d58deb8a150b47038ddc5d6b394ec2dd": {
      "model_module": "@jupyter-widgets/controls",
      "model_module_version": "1.5.0",
      "model_name": "DescriptionStyleModel",
      "state": {
       "description_width": ""
      }
     },
     "d5933508b40f4a63a48fdc3e24d0aa3a": {
      "model_module": "@jupyter-widgets/controls",
      "model_module_version": "1.5.0",
      "model_name": "DescriptionStyleModel",
      "state": {
       "description_width": ""
      }
     },
     "d5db7fc134cc49bb8d395884102224e9": {
      "model_module": "@jupyter-widgets/controls",
      "model_module_version": "1.5.0",
      "model_name": "TextModel",
      "state": {
       "layout": "IPY_MODEL_1ee42b717afc481eb04d9d8974a8935f",
       "placeholder": "typ",
       "style": "IPY_MODEL_baa90ef6a05d49aa8e4274d4e87e256d",
       "value": "PP"
      }
     },
     "d5f8a8f3a5154e6195349446a79aebbc": {
      "model_module": "@jupyter-widgets/base",
      "model_module_version": "1.2.0",
      "model_name": "LayoutModel",
      "state": {
       "border": "2px solid gray",
       "flex": "auto 0 1",
       "flex_flow": "column"
      }
     },
     "d680c89ec1d34b79a11ac3dac9b5305b": {
      "model_module": "@jupyter-widgets/controls",
      "model_module_version": "1.5.0",
      "model_name": "DescriptionStyleModel",
      "state": {
       "description_width": ""
      }
     },
     "d6883d69869941c8b26ced63ccf5222c": {
      "model_module": "@jupyter-widgets/controls",
      "model_module_version": "1.5.0",
      "model_name": "DescriptionStyleModel",
      "state": {
       "description_width": ""
      }
     },
     "d69705baca634e2aa2e6544c16c9e6c6": {
      "model_module": "@jupyter-widgets/controls",
      "model_module_version": "1.5.0",
      "model_name": "HTMLModel",
      "state": {
       "layout": "IPY_MODEL_2f741b88357f4c808fc3c9eb0bc6a098",
       "style": "IPY_MODEL_c38d10ee0e7d4e29b5f75f5aa05bf85b",
       "value": "bᵊ"
      }
     },
     "d69981ef393148acb33065c8177a2beb": {
      "model_module": "@jupyter-widgets/controls",
      "model_module_version": "1.5.0",
      "model_name": "DescriptionStyleModel",
      "state": {
       "description_width": ""
      }
     },
     "d6f8cb5deb9c46f0b34bc1e78d828ae1": {
      "model_module": "@jupyter-widgets/controls",
      "model_module_version": "1.5.0",
      "model_name": "TextModel",
      "state": {
       "continuous_update": false,
       "description": "pdp=",
       "layout": "IPY_MODEL_20248d44181a4940977002cc4ba35e3b",
       "placeholder": "feat",
       "style": "IPY_MODEL_c8ce9df79a69430a8e44fdd162a90ca2",
       "value": "subs"
      }
     },
     "d7118f7155654af0a0dcf1ef63a531b6": {
      "model_module": "@jupyter-widgets/base",
      "model_module_version": "1.2.0",
      "model_name": "LayoutModel",
      "state": {
       "border": "3px solid gray",
       "flex": "auto 0 1",
       "flex_flow": "column"
      }
     },
     "d7148448a00e43069067fa93f81215f9": {
      "model_module": "@jupyter-widgets/controls",
      "model_module_version": "1.5.0",
      "model_name": "BoxModel",
      "state": {
       "children": [
        "IPY_MODEL_35481e4891ba4215a6741f3e02692bfd",
        "IPY_MODEL_a704d0a12b114921bda46ca63604c8e4"
       ],
       "layout": "IPY_MODEL_8d8a6cbd2df743e6ae0b802c6b5d4716"
      }
     },
     "d76e762b0d67417ea61b8fc584562218": {
      "model_module": "@jupyter-widgets/controls",
      "model_module_version": "1.5.0",
      "model_name": "TextModel",
      "state": {
       "layout": "IPY_MODEL_dbf6d89ff9684cbe9f7e69080120e728",
       "placeholder": "typ",
       "style": "IPY_MODEL_743d47e37481408e8b6bc9a8f902bf33",
       "value": "PP"
      }
     },
     "d817d98bcb184bfeb2a6e4f77b40b40c": {
      "model_module": "@jupyter-widgets/controls",
      "model_module_version": "1.5.0",
      "model_name": "HTMLModel",
      "state": {
       "layout": "IPY_MODEL_00939393a17c47c18d0d77bc97ec88a7",
       "style": "IPY_MODEL_e085962ccca14467b0e328c67ba5a386",
       "value": "word"
      }
     },
     "d81ed1290dba4acb83e8f969cdc8bd7a": {
      "model_module": "@jupyter-widgets/controls",
      "model_module_version": "1.5.0",
      "model_name": "HTMLModel",
      "state": {
       "layout": "IPY_MODEL_098553acf751448fbd093ebef7a99dfe",
       "style": "IPY_MODEL_c7730c03a7b94ef49b1500720c796ec1",
       "value": "bᵊ"
      }
     },
     "d84ba1f530d24dc2964d3f11392cb3ff": {
      "model_module": "@jupyter-widgets/controls",
      "model_module_version": "1.5.0",
      "model_name": "DescriptionStyleModel",
      "state": {
       "description_width": ""
      }
     },
     "d89485042d934407b70fc7deb50f442f": {
      "model_module": "@jupyter-widgets/controls",
      "model_module_version": "1.5.0",
      "model_name": "BoxModel",
      "state": {
       "children": [
        "IPY_MODEL_f5aa8049eb484b5bb26ca8b056671c49",
        "IPY_MODEL_da874413eeae4d119950afab8644c9be"
       ],
       "layout": "IPY_MODEL_bdf8c63977fe4c84b9b58b298d6ee22f"
      }
     },
     "d8bf1f76e00a44939e89d4a83bacdca6": {
      "model_module": "@jupyter-widgets/controls",
      "model_module_version": "1.5.0",
      "model_name": "DescriptionStyleModel",
      "state": {
       "description_width": ""
      }
     },
     "d8c5669cdeac4d00bb41adde2118da42": {
      "model_module": "@jupyter-widgets/controls",
      "model_module_version": "1.5.0",
      "model_name": "TextModel",
      "state": {
       "continuous_update": false,
       "description": "pdp=",
       "layout": "IPY_MODEL_ed4491d0aceb4d65aad7e257a98b41e4",
       "placeholder": "feat",
       "style": "IPY_MODEL_23c3620730d74f988d900b8d3a78aa4c",
       "value": "subs"
      }
     },
     "d8d6c3b16b7f4d3c8f367c4f705769fc": {
      "model_module": "@jupyter-widgets/controls",
      "model_module_version": "1.5.0",
      "model_name": "HTMLModel",
      "state": {
       "layout": "IPY_MODEL_9d2baabf83524d14b20e9d27b558ad14",
       "style": "IPY_MODEL_b8ab1939eb264553908417d6c55e5f20",
       "value": "word"
      }
     },
     "d90c6bb058a941d2b4e5816f3dc8ec15": {
      "model_module": "@jupyter-widgets/base",
      "model_module_version": "1.2.0",
      "model_name": "LayoutModel",
      "state": {
       "align_content": "flex-start",
       "align_items": "flex-start",
       "border": "3px solid gray",
       "flex": "auto 0 0",
       "flex_flow": "row",
       "justify_content": "flex-start"
      }
     },
     "d92a96a5f9b94c2faf29aec40ec4faa6": {
      "model_module": "@jupyter-widgets/controls",
      "model_module_version": "1.5.0",
      "model_name": "BoxModel",
      "state": {
       "children": [
        "IPY_MODEL_962a80f4fce5437a865dd505f327c04c",
        "IPY_MODEL_f72c2477b0d44b43a446f510fddcb713",
        "IPY_MODEL_0420f7df67d94466b0859d27dbc2b236"
       ],
       "layout": "IPY_MODEL_50e8694774624d85949bec3e6c545098"
      }
     },
     "d9301c6d68ee40d5a64cee293bb54227": {
      "model_module": "@jupyter-widgets/controls",
      "model_module_version": "1.5.0",
      "model_name": "HTMLModel",
      "state": {
       "layout": "IPY_MODEL_2e5b48b392c64f5fa618c525ca5043bb",
       "style": "IPY_MODEL_f8f89fcbe3db45aa8a3aa93f8d364f4a",
       "value": "word"
      }
     },
     "d93759ad7c2e48fcb864af8570e630e9": {
      "model_module": "@jupyter-widgets/controls",
      "model_module_version": "1.5.0",
      "model_name": "TextModel",
      "state": {
       "continuous_update": false,
       "layout": "IPY_MODEL_4c7f21bcac3c469988c886892e35ad6d",
       "placeholder": "feat",
       "style": "IPY_MODEL_cb375d14a9b24bd4bc92e87af075fa3e",
       "value": "PP"
      }
     },
     "d93d9299229248c98bd951c2d727c58d": {
      "model_module": "@jupyter-widgets/controls",
      "model_module_version": "1.5.0",
      "model_name": "DescriptionStyleModel",
      "state": {
       "description_width": ""
      }
     },
     "d96250a6b1094191aa227bd680fb55db": {
      "model_module": "@jupyter-widgets/controls",
      "model_module_version": "1.5.0",
      "model_name": "DescriptionStyleModel",
      "state": {
       "description_width": ""
      }
     },
     "d96ae4dc94a0443ea49cfcb7e88b0b19": {
      "model_module": "@jupyter-widgets/base",
      "model_module_version": "1.2.0",
      "model_name": "LayoutModel",
      "state": {
       "align_content": "stretch",
       "align_items": "stretch",
       "border": "2px solid #eeeeee",
       "display": "flex",
       "flex": "auto 0 0",
       "flex_flow": "column nowrap",
       "justify_content": "center",
       "overflow": "auto"
      }
     },
     "d9b0c0af87fd4bcd9f09a4b14621fc9b": {
      "model_module": "@jupyter-widgets/controls",
      "model_module_version": "1.5.0",
      "model_name": "DescriptionStyleModel",
      "state": {
       "description_width": ""
      }
     },
     "d9c6da6d001a4886b8e149d3894936e1": {
      "model_module": "@jupyter-widgets/controls",
      "model_module_version": "1.5.0",
      "model_name": "DescriptionStyleModel",
      "state": {
       "description_width": ""
      }
     },
     "d9e4a77fda9940a9958b98536faf1d5c": {
      "model_module": "@jupyter-widgets/controls",
      "model_module_version": "1.5.0",
      "model_name": "BoxModel",
      "state": {
       "children": [
        "IPY_MODEL_e15b85c7080146bf938fc8a197081be4",
        "IPY_MODEL_67ac90bba8e84bdea53b608d24d5b262"
       ],
       "layout": "IPY_MODEL_711904dd1341427db8c55c6e75b67a28"
      }
     },
     "d9efad8bb49a40a694e1ed124fadaaad": {
      "model_module": "@jupyter-widgets/controls",
      "model_module_version": "1.5.0",
      "model_name": "DescriptionStyleModel",
      "state": {
       "description_width": ""
      }
     },
     "da02e6961da5491a92b125bcac19abfa": {
      "model_module": "@jupyter-widgets/controls",
      "model_module_version": "1.5.0",
      "model_name": "HTMLModel",
      "state": {
       "layout": "IPY_MODEL_2e5b48b392c64f5fa618c525ca5043bb",
       "style": "IPY_MODEL_b30aeb8555374fd28ccf420e9e06cd94",
       "value": "phrase"
      }
     },
     "da42b759eeab4b4396c189409190c130": {
      "model_module": "@jupyter-widgets/base",
      "model_module_version": "1.2.0",
      "model_name": "LayoutModel",
      "state": {
       "align_content": "flex-start",
       "align_items": "flex-start",
       "border": "3px solid gray",
       "display": "inline-flex",
       "flex": "auto 0 0",
       "flex_flow": "row wrap",
       "justify_content": "flex-start",
       "overflow": "auto"
      }
     },
     "da4ba9b3cc8444d2a10ded09076dbdb7": {
      "model_module": "@jupyter-widgets/base",
      "model_module_version": "1.2.0",
      "model_name": "LayoutModel",
      "state": {
       "border": "1px solid gray",
       "display": "inline-flex",
       "flex": "auto 0 1",
       "flex_flow": "row wrap"
      }
     },
     "da874413eeae4d119950afab8644c9be": {
      "model_module": "@jupyter-widgets/controls",
      "model_module_version": "1.5.0",
      "model_name": "BoxModel",
      "state": {
       "children": [
        "IPY_MODEL_34458d621cf540bbbca859ce6357dbbf",
        "IPY_MODEL_b8ceb69db26b46d180b409414e35603f"
       ],
       "layout": "IPY_MODEL_4d62172d892e4a65bb3bc4fc3e41c482"
      }
     },
     "da9abc09337349e2b067708d85fe1638": {
      "model_module": "@jupyter-widgets/controls",
      "model_module_version": "1.5.0",
      "model_name": "DescriptionStyleModel",
      "state": {
       "description_width": ""
      }
     },
     "daae7f72d35e456abcbb103a47eab937": {
      "model_module": "@jupyter-widgets/controls",
      "model_module_version": "1.5.0",
      "model_name": "DescriptionStyleModel",
      "state": {
       "description_width": ""
      }
     },
     "dab3b27918344201b33d7c587f508b72": {
      "model_module": "@jupyter-widgets/controls",
      "model_module_version": "1.5.0",
      "model_name": "HTMLModel",
      "state": {
       "layout": "IPY_MODEL_2f741b88357f4c808fc3c9eb0bc6a098",
       "style": "IPY_MODEL_9f9ace8ae465485395cb22974b8ee819",
       "value": "word"
      }
     },
     "dab9e3bf48a64991890666478aa46c66": {
      "model_module": "@jupyter-widgets/controls",
      "model_module_version": "1.5.0",
      "model_name": "TextModel",
      "state": {
       "continuous_update": false,
       "layout": "IPY_MODEL_264e65ad092d477ab783e47fe9b82a9e",
       "placeholder": "feat",
       "style": "IPY_MODEL_45fb57f83445439195d315157691bb29",
       "value": "Time"
      }
     },
     "db0a3248c891411783d3335ed495c514": {
      "model_module": "@jupyter-widgets/controls",
      "model_module_version": "1.5.0",
      "model_name": "DescriptionStyleModel",
      "state": {
       "description_width": ""
      }
     },
     "db0b8077fdad4226b86f392a22be1d42": {
      "model_module": "@jupyter-widgets/controls",
      "model_module_version": "1.5.0",
      "model_name": "TextModel",
      "state": {
       "continuous_update": false,
       "layout": "IPY_MODEL_55619af8f473438c9fd0cf8cb7d07840",
       "placeholder": "feat",
       "style": "IPY_MODEL_36ea442525654c60b528720c48796f9b",
       "value": "Time"
      }
     },
     "db7b7a5c19b9438cbe176ee494830bd2": {
      "model_module": "@jupyter-widgets/controls",
      "model_module_version": "1.5.0",
      "model_name": "HTMLModel",
      "state": {
       "layout": "IPY_MODEL_8ba1b58fc41a4001b29bb4c0a8408965",
       "style": "IPY_MODEL_38d1af12eb6c4ede95318694f086f2dd",
       "value": "rēšˌîṯ"
      }
     },
     "dbf6d89ff9684cbe9f7e69080120e728": {
      "model_module": "@jupyter-widgets/base",
      "model_module_version": "1.2.0",
      "model_name": "LayoutModel",
      "state": {
       "flex": "auto 0 0",
       "height": "3em",
       "width": "10em"
      }
     },
     "dc4fc3eb418940fd9b847d99ba9ca09c": {
      "model_module": "@jupyter-widgets/base",
      "model_module_version": "1.2.0",
      "model_name": "LayoutModel",
      "state": {
       "align_content": "flex-start",
       "align_items": "flex-start",
       "border": "3px solid gray",
       "display": "inline-flex",
       "flex": "auto 0 0",
       "flex_flow": "column nowrap",
       "justify_content": "flex-start",
       "overflow": "auto"
      }
     },
     "dc6ff2af9dc04fccb977a3f010f9d6d7": {
      "model_module": "@jupyter-widgets/controls",
      "model_module_version": "1.5.0",
      "model_name": "DescriptionStyleModel",
      "state": {
       "description_width": ""
      }
     },
     "dc8bff3d052a4f43a825ecf016a91fe4": {
      "model_module": "@jupyter-widgets/controls",
      "model_module_version": "1.5.0",
      "model_name": "DescriptionStyleModel",
      "state": {
       "description_width": ""
      }
     },
     "dcce164b641d458e9bbf8554f477d6eb": {
      "model_module": "@jupyter-widgets/base",
      "model_module_version": "1.2.0",
      "model_name": "LayoutModel",
      "state": {
       "align_content": "flex-start",
       "align_items": "flex-start",
       "border": "1px solid gray",
       "display": "inline-flex",
       "flex": "auto 0 0",
       "flex_flow": "column nowrap",
       "justify_content": "flex-start",
       "overflow": "auto"
      }
     },
     "dce78e37c7b945f8b07ed4789a88b8c0": {
      "model_module": "@jupyter-widgets/controls",
      "model_module_version": "1.5.0",
      "model_name": "BoxModel",
      "state": {
       "children": [
        "IPY_MODEL_ac9c68c022bf4e438d01515c2cad0f38",
        "IPY_MODEL_7f772032f46c4a1ea1f27e5ec978170d"
       ],
       "layout": "IPY_MODEL_3d6a21712d1141c281048970a7f2288d"
      }
     },
     "ddd097b10e47446193b3b3f927ed9863": {
      "model_module": "@jupyter-widgets/controls",
      "model_module_version": "1.5.0",
      "model_name": "DescriptionStyleModel",
      "state": {
       "description_width": ""
      }
     },
     "de3dc179a4054b4f9522c714e1fd6aac": {
      "model_module": "@jupyter-widgets/base",
      "model_module_version": "1.2.0",
      "model_name": "LayoutModel",
      "state": {
       "align_content": "flex-start",
       "align_items": "flex-start",
       "border": "3px solid gray",
       "display": "inline-flex",
       "flex": "auto 0 0",
       "flex_flow": "column nowrap",
       "justify_content": "flex-start",
       "overflow": "auto"
      }
     },
     "de728d6fb2c049d4aadc9bada21779b9": {
      "model_module": "@jupyter-widgets/controls",
      "model_module_version": "1.5.0",
      "model_name": "DescriptionStyleModel",
      "state": {
       "description_width": ""
      }
     },
     "de8004978efb49de992b5d32c69ced8b": {
      "model_module": "@jupyter-widgets/controls",
      "model_module_version": "1.5.0",
      "model_name": "TextModel",
      "state": {
       "continuous_update": false,
       "description": "pdp=",
       "layout": "IPY_MODEL_098553acf751448fbd093ebef7a99dfe",
       "placeholder": "feat",
       "style": "IPY_MODEL_976c7eacea584d349e1e983fabba6c0f",
       "value": "subs"
      }
     },
     "de901ad18832466fb030cd2e598e8525": {
      "model_module": "@jupyter-widgets/controls",
      "model_module_version": "1.5.0",
      "model_name": "DescriptionStyleModel",
      "state": {
       "description_width": ""
      }
     },
     "de9542248b38454aa6303b7177c5ce18": {
      "model_module": "@jupyter-widgets/controls",
      "model_module_version": "1.5.0",
      "model_name": "TextModel",
      "state": {
       "continuous_update": false,
       "description": "pdp=",
       "layout": "IPY_MODEL_b39ca3c53f7744a68c6bb8fcca233870",
       "placeholder": "feat",
       "style": "IPY_MODEL_cf43423aff4440c8ba2c3be1a584dece",
       "value": "prep"
      }
     },
     "deaca22e314c4d26b7fc3de9b31f53a1": {
      "model_module": "@jupyter-widgets/controls",
      "model_module_version": "1.5.0",
      "model_name": "DescriptionStyleModel",
      "state": {
       "description_width": ""
      }
     },
     "df1d36d3b6fc4536bd22354b58dadae6": {
      "model_module": "@jupyter-widgets/controls",
      "model_module_version": "1.5.0",
      "model_name": "DescriptionStyleModel",
      "state": {
       "description_width": ""
      }
     },
     "df4ce8146e9545089c2f20a6163489f8": {
      "model_module": "@jupyter-widgets/controls",
      "model_module_version": "1.5.0",
      "model_name": "DescriptionStyleModel",
      "state": {
       "description_width": ""
      }
     },
     "df58c093361f4f0db92dc72ed4e5f156": {
      "model_module": "@jupyter-widgets/controls",
      "model_module_version": "1.5.0",
      "model_name": "DescriptionStyleModel",
      "state": {
       "description_width": ""
      }
     },
     "dfc2e4ade8354b61be937f1a4ffc8f2f": {
      "model_module": "@jupyter-widgets/controls",
      "model_module_version": "1.5.0",
      "model_name": "DescriptionStyleModel",
      "state": {
       "description_width": ""
      }
     },
     "dfec264373ac483dadbcc2430f832715": {
      "model_module": "@jupyter-widgets/controls",
      "model_module_version": "1.5.0",
      "model_name": "DescriptionStyleModel",
      "state": {
       "description_width": ""
      }
     },
     "e00f5f6adbe24222b2496c1bb031faba": {
      "model_module": "@jupyter-widgets/controls",
      "model_module_version": "1.5.0",
      "model_name": "TextModel",
      "state": {
       "continuous_update": false,
       "layout": "IPY_MODEL_ad6fb28bc9ea40e2a8ba091a0609133a",
       "placeholder": "feat",
       "style": "IPY_MODEL_676f561fdaec45c6ba4c7df4894719e0",
       "value": "in"
      }
     },
     "e0132d67e90840818c6bb57106498dea": {
      "model_module": "@jupyter-widgets/controls",
      "model_module_version": "1.5.0",
      "model_name": "HTMLModel",
      "state": {
       "layout": "IPY_MODEL_4c7f21bcac3c469988c886892e35ad6d",
       "style": "IPY_MODEL_454d69b1c4f24cdaaf8f014254ef68b1",
       "value": "word"
      }
     },
     "e015e0c6853f4624934a56974105fb1a": {
      "model_module": "@jupyter-widgets/controls",
      "model_module_version": "1.5.0",
      "model_name": "BoxModel",
      "state": {
       "children": [
        "IPY_MODEL_85fdcff9f9cf434abac55eb0297d4718",
        "IPY_MODEL_0cd0eeea287441ebb5085a934d4c29c8"
       ],
       "layout": "IPY_MODEL_c8495e8ffd894071ab435248ddc5ad33"
      }
     },
     "e04e041de6e145c392ea95a4c3bc4bd8": {
      "model_module": "@jupyter-widgets/controls",
      "model_module_version": "1.5.0",
      "model_name": "DescriptionStyleModel",
      "state": {
       "description_width": ""
      }
     },
     "e06ab678da3c40cfa0e4640b8c33d749": {
      "model_module": "@jupyter-widgets/controls",
      "model_module_version": "1.5.0",
      "model_name": "TextModel",
      "state": {
       "continuous_update": false,
       "layout": "IPY_MODEL_04f1ce2d4cda40bf95f907692b6d30f8",
       "placeholder": "feat",
       "style": "IPY_MODEL_4ac26bebd9d9401c885f35c00a42891a",
       "value": "in"
      }
     },
     "e085962ccca14467b0e328c67ba5a386": {
      "model_module": "@jupyter-widgets/controls",
      "model_module_version": "1.5.0",
      "model_name": "DescriptionStyleModel",
      "state": {
       "description_width": ""
      }
     },
     "e087afecdb6245ec81da6e82a60dd7c6": {
      "model_module": "@jupyter-widgets/controls",
      "model_module_version": "1.5.0",
      "model_name": "HTMLModel",
      "state": {
       "layout": "IPY_MODEL_c98e258fce024947ae6249726835859c",
       "style": "IPY_MODEL_e4211ac326ba45cb8de6c26a7fcb0b46",
       "value": "word"
      }
     },
     "e08f3ceea47646659d7210c804a96772": {
      "model_module": "@jupyter-widgets/controls",
      "model_module_version": "1.5.0",
      "model_name": "DescriptionStyleModel",
      "state": {
       "description_width": ""
      }
     },
     "e0a6c8b3ef784cff83b5710295fb2ec2": {
      "model_module": "@jupyter-widgets/controls",
      "model_module_version": "1.5.0",
      "model_name": "DescriptionStyleModel",
      "state": {
       "description_width": ""
      }
     },
     "e0ce467b1e92464f8b335270eb07d4ec": {
      "model_module": "@jupyter-widgets/controls",
      "model_module_version": "1.5.0",
      "model_name": "BoxModel",
      "state": {
       "children": [
        "IPY_MODEL_ed758f7ca6b649c8b0d74424cfc340a1",
        "IPY_MODEL_4a197b678e134ea2bad5b843625d6a49",
        "IPY_MODEL_ae64e35c4556413dad11bbcaebd65575"
       ],
       "layout": "IPY_MODEL_4d8df27a48e8405a949fa1331c074936"
      }
     },
     "e10165a8b1d643c9babe462c1fb098e2": {
      "model_module": "@jupyter-widgets/controls",
      "model_module_version": "1.5.0",
      "model_name": "DescriptionStyleModel",
      "state": {
       "description_width": ""
      }
     },
     "e103f39651fd4411b5dad5da33a01198": {
      "model_module": "@jupyter-widgets/controls",
      "model_module_version": "1.5.0",
      "model_name": "BoxModel",
      "state": {
       "children": [
        "IPY_MODEL_2901824bdd474f719f58902f5db8740f",
        "IPY_MODEL_7edbb93d64e942dfb73c72ddc008a0b9"
       ],
       "layout": "IPY_MODEL_e8732ccb11f24c30bd43c2c4c683643c"
      }
     },
     "e12cef43c0eb425b9ab3a4177e5df3d1": {
      "model_module": "@jupyter-widgets/controls",
      "model_module_version": "1.5.0",
      "model_name": "DescriptionStyleModel",
      "state": {
       "description_width": ""
      }
     },
     "e13bd34d27b34328bec7fa2045099aaf": {
      "model_module": "@jupyter-widgets/controls",
      "model_module_version": "1.5.0",
      "model_name": "DescriptionStyleModel",
      "state": {
       "description_width": ""
      }
     },
     "e15b85c7080146bf938fc8a197081be4": {
      "model_module": "@jupyter-widgets/controls",
      "model_module_version": "1.5.0",
      "model_name": "BoxModel",
      "state": {
       "children": [
        "IPY_MODEL_cc68d071a56749f3a96489c9fc5567bd",
        "IPY_MODEL_b1da402badcb4c7d8a85fe5569388fda",
        "IPY_MODEL_9bae589a66e14f1684932f6b57c6b252"
       ],
       "layout": "IPY_MODEL_7d10d474801c4640a49bcd2cbcf05f80"
      }
     },
     "e1cac4aa0d2b45e09fb8a6413a5133f2": {
      "model_module": "@jupyter-widgets/controls",
      "model_module_version": "1.5.0",
      "model_name": "DescriptionStyleModel",
      "state": {
       "description_width": ""
      }
     },
     "e1e8d58ce2b842f6acc58550db895078": {
      "model_module": "@jupyter-widgets/base",
      "model_module_version": "1.2.0",
      "model_name": "LayoutModel",
      "state": {
       "align_content": "stretch",
       "align_items": "stretch",
       "border": "2px solid #eeeeee",
       "display": "flex",
       "flex": "auto 0 0",
       "flex_flow": "column nowrap",
       "justify_content": "center",
       "overflow": "auto"
      }
     },
     "e20d963d9ebf42bfbad23ca2e94b8afc": {
      "model_module": "@jupyter-widgets/base",
      "model_module_version": "1.2.0",
      "model_name": "LayoutModel",
      "state": {
       "border": "2px solid gray",
       "flex": "auto 0 1",
       "flex_flow": "column",
       "width": "30em"
      }
     },
     "e225ba686cca4fd79b7ce32540e5da95": {
      "model_module": "@jupyter-widgets/controls",
      "model_module_version": "1.5.0",
      "model_name": "ButtonStyleModel",
      "state": {}
     },
     "e22692d185a44e878d79ed5465db2f39": {
      "model_module": "@jupyter-widgets/controls",
      "model_module_version": "1.5.0",
      "model_name": "HTMLModel",
      "state": {
       "layout": "IPY_MODEL_b39ca3c53f7744a68c6bb8fcca233870",
       "style": "IPY_MODEL_df1d36d3b6fc4536bd22354b58dadae6",
       "value": "bᵊ"
      }
     },
     "e2a0d8a2dd57424fb5699a0dbd9ffbf5": {
      "model_module": "@jupyter-widgets/controls",
      "model_module_version": "1.5.0",
      "model_name": "DescriptionStyleModel",
      "state": {
       "description_width": ""
      }
     },
     "e2a1466045b340b58167d8124808ca27": {
      "model_module": "@jupyter-widgets/base",
      "model_module_version": "1.2.0",
      "model_name": "LayoutModel",
      "state": {
       "align_content": "flex-start",
       "align_items": "flex-start",
       "border": "2px solid #eeeeee",
       "display": "flex",
       "flex": "auto 0 0",
       "flex_flow": "column nowrap",
       "justify_content": "flex-start",
       "overflow": "auto"
      }
     },
     "e2cb8db910bd409c8fa4a642594b005b": {
      "model_module": "@jupyter-widgets/controls",
      "model_module_version": "1.5.0",
      "model_name": "BoxModel",
      "state": {
       "children": [
        "IPY_MODEL_fb9946df84944544855efd31dcd22d72",
        "IPY_MODEL_008d694b30c64b579f5b39c3d811fe22",
        "IPY_MODEL_87b499423f31489e98c99b21a5cd3136",
        "IPY_MODEL_065dc205b3ad4c8692d6a78eea34fe9f"
       ],
       "layout": "IPY_MODEL_2f3ad41325f24d05ad18ed5306483549"
      }
     },
     "e2ed0febb2284bafbd461c34338e7831": {
      "model_module": "@jupyter-widgets/controls",
      "model_module_version": "1.5.0",
      "model_name": "TextModel",
      "state": {
       "continuous_update": false,
       "layout": "IPY_MODEL_07c4579bde2b4d29a545ad9ac1e8734f",
       "placeholder": "feat",
       "style": "IPY_MODEL_350097e42d6340948b1816b5eacb85e0",
       "value": "in"
      }
     },
     "e32cbe01941a4b4f89fa6e5767b267e8": {
      "model_module": "@jupyter-widgets/controls",
      "model_module_version": "1.5.0",
      "model_name": "TextModel",
      "state": {
       "continuous_update": false,
       "description": "pdp=",
       "layout": "IPY_MODEL_364cd1c6573f4ed9aa3144fe6d2fd71e",
       "placeholder": "feat",
       "style": "IPY_MODEL_5ed460c74ced441b92d422360317e10c",
       "value": "subs"
      }
     },
     "e32ec96f69e440cb9ca0d051031f56c0": {
      "model_module": "@jupyter-widgets/controls",
      "model_module_version": "1.5.0",
      "model_name": "DescriptionStyleModel",
      "state": {
       "description_width": ""
      }
     },
     "e33f0c14b6d345f2a7a62cc7c5ee77c5": {
      "model_module": "@jupyter-widgets/controls",
      "model_module_version": "1.5.0",
      "model_name": "HTMLModel",
      "state": {
       "layout": "IPY_MODEL_bb1f8489dccf4a7f9b14c9e7b79b13ab",
       "style": "IPY_MODEL_0a4151640eff4073a57652b4db31278e",
       "value": "<a\n  class=\"txtu hbo\"\n  href=\"https://shebanq.ancient-data.org/hebrew/word?version=2021&amp;id=1RACJTn\"\n  target=\"_blank\"\n  title=\"Show this on SHEBANQ\">\n        <span class=\"txtp\">\n         rēšˌîṯ\n        </span>\n       </a>"
      }
     },
     "e37f597b7d81470796cfddb47d24323a": {
      "model_module": "@jupyter-widgets/base",
      "model_module_version": "1.2.0",
      "model_name": "LayoutModel",
      "state": {
       "align_content": "flex-start",
       "align_items": "flex-start",
       "border": "1px solid gray",
       "display": "inline-flex",
       "flex": "auto 0 0",
       "flex_flow": "column nowrap",
       "justify_content": "flex-start",
       "overflow": "auto"
      }
     },
     "e4211ac326ba45cb8de6c26a7fcb0b46": {
      "model_module": "@jupyter-widgets/controls",
      "model_module_version": "1.5.0",
      "model_name": "DescriptionStyleModel",
      "state": {
       "description_width": ""
      }
     },
     "e44157fdb6f54b1e85dd82572a5b06f8": {
      "model_module": "@jupyter-widgets/controls",
      "model_module_version": "1.5.0",
      "model_name": "DescriptionStyleModel",
      "state": {
       "description_width": ""
      }
     },
     "e44ca31b5a274794bc15f2ef1b6f99d3": {
      "model_module": "@jupyter-widgets/controls",
      "model_module_version": "1.5.0",
      "model_name": "BoxModel",
      "state": {
       "children": [
        "IPY_MODEL_8336522f9b6e41c088763e0af0fb4a49",
        "IPY_MODEL_4f56b0e512e9460fa6a0a819d137422b"
       ],
       "layout": "IPY_MODEL_1c5217c273c441f686cd98d18dee233e"
      }
     },
     "e44fc7f1eae74d0bba7b8d7c0cc8c673": {
      "model_module": "@jupyter-widgets/controls",
      "model_module_version": "1.5.0",
      "model_name": "DescriptionStyleModel",
      "state": {
       "description_width": ""
      }
     },
     "e4752f76c43f4c63b865f64d68e80a07": {
      "model_module": "@jupyter-widgets/controls",
      "model_module_version": "1.5.0",
      "model_name": "ButtonStyleModel",
      "state": {}
     },
     "e4c576293a564ef19ffdca959e4caab0": {
      "model_module": "@jupyter-widgets/controls",
      "model_module_version": "1.5.0",
      "model_name": "DescriptionStyleModel",
      "state": {
       "description_width": ""
      }
     },
     "e4f84e2b6dfb4fc7b4ba745bbecebc7c": {
      "model_module": "@jupyter-widgets/controls",
      "model_module_version": "1.5.0",
      "model_name": "HTMLModel",
      "state": {
       "layout": "IPY_MODEL_482346b169324d308f3aa5ff45d8987f",
       "style": "IPY_MODEL_8c11de331a2c401280ffee70a67477c6",
       "value": "bᵊ"
      }
     },
     "e52fb6171e7a404fba94918b8ebac5d2": {
      "model_module": "@jupyter-widgets/base",
      "model_module_version": "1.2.0",
      "model_name": "LayoutModel",
      "state": {
       "align_content": "flex-start",
       "align_items": "flex-start",
       "border": "3px solid gray",
       "display": "inline-flex",
       "flex": "auto 1 1",
       "flex_flow": "column nowrap",
       "justify_content": "flex-start",
       "overflow": "auto"
      }
     },
     "e53403992b034ce29488b8a03aa83dc4": {
      "model_module": "@jupyter-widgets/controls",
      "model_module_version": "1.5.0",
      "model_name": "TextModel",
      "state": {
       "layout": "IPY_MODEL_7a884a5865a24c94b62d0084a6c6de78",
       "placeholder": "pdp",
       "style": "IPY_MODEL_77590f2159824e49abec8db0aa636aa4",
       "value": "prep"
      }
     },
     "e561c8c619c14a22a43890f5b3aaacbf": {
      "model_module": "@jupyter-widgets/controls",
      "model_module_version": "1.5.0",
      "model_name": "BoxModel",
      "state": {
       "children": [
        "IPY_MODEL_7bcbd61c31154f9788d1bb93d52c8df9",
        "IPY_MODEL_06234ae2eba441e2b88bb8a4ed4f4b9a",
        "IPY_MODEL_c12102e75b0b4d86bcdda2cf117bde20"
       ],
       "layout": "IPY_MODEL_ff1546fd96e54f168944d02711d56e0e"
      }
     },
     "e5655547918847abbe657d1661e43fcf": {
      "model_module": "@jupyter-widgets/controls",
      "model_module_version": "1.5.0",
      "model_name": "HTMLModel",
      "state": {
       "layout": "IPY_MODEL_20248d44181a4940977002cc4ba35e3b",
       "style": "IPY_MODEL_e04e041de6e145c392ea95a4c3bc4bd8",
       "value": "phrase"
      }
     },
     "e5ce5cade422427cb6100f08d6d4dce5": {
      "model_module": "@jupyter-widgets/controls",
      "model_module_version": "1.5.0",
      "model_name": "HTMLModel",
      "state": {
       "layout": "IPY_MODEL_0c216e9e06a84c8b9b6e355675304a73",
       "style": "IPY_MODEL_969b8c5f4ffe499a91fa3933a09d1286",
       "value": "<a\n  class=\"txtu hbo\"\n  href=\"https://shebanq.ancient-data.org/hebrew/word?version=2021&amp;id=1B\"\n  target=\"_blank\"\n  title=\"Show this on SHEBANQ\">\n        <span class=\"txtp\">\n         bᵊ\n        </span>\n       </a>"
      }
     },
     "e5dbbe2d03a7494a8d0382a0afa44bfd": {
      "model_module": "@jupyter-widgets/controls",
      "model_module_version": "1.5.0",
      "model_name": "BoxModel",
      "state": {
       "children": [
        "IPY_MODEL_ee59475dc5014f2d97fe472dde77922a",
        "IPY_MODEL_af4c6290a0cc4c87b175fdc94ea9a736"
       ],
       "layout": "IPY_MODEL_6fc17b071e5941f0a8e9b404a8e0c9f5"
      }
     },
     "e610252a9873435380fd64a19b9929a2": {
      "model_module": "@jupyter-widgets/controls",
      "model_module_version": "1.5.0",
      "model_name": "TextModel",
      "state": {
       "continuous_update": false,
       "layout": "IPY_MODEL_56b5a25e16494ff696790ef8a9cd1acf",
       "placeholder": "feat",
       "style": "IPY_MODEL_5d0de64335fa407fbcded514e10ac9c3",
       "value": "PP"
      }
     },
     "e6314c6602cd4750b15a6d28a15efe50": {
      "model_module": "@jupyter-widgets/base",
      "model_module_version": "1.2.0",
      "model_name": "LayoutModel",
      "state": {
       "align_content": "flex-start",
       "align_items": "flex-start",
       "border": "3px solid gray",
       "display": "inline-flex",
       "flex": "auto 0 0",
       "flex_flow": "row wrap",
       "justify_content": "flex-start",
       "overflow": "auto"
      }
     },
     "e63a21f0bfc54cf6a56129bf3f535f93": {
      "model_module": "@jupyter-widgets/controls",
      "model_module_version": "1.5.0",
      "model_name": "DescriptionStyleModel",
      "state": {
       "description_width": ""
      }
     },
     "e65eb09b4dba427584eb2c1995d350b3": {
      "model_module": "@jupyter-widgets/base",
      "model_module_version": "1.2.0",
      "model_name": "LayoutModel",
      "state": {
       "align_items": "stretch",
       "border": "2px solid #eeeeee",
       "display": "flex",
       "flex": "auto 0 0",
       "flex_flow": "column nowrap",
       "overflow": "auto"
      }
     },
     "e65f30fd879f4071b67d8bb95f943302": {
      "model_module": "@jupyter-widgets/controls",
      "model_module_version": "1.5.0",
      "model_name": "TextModel",
      "state": {
       "layout": "IPY_MODEL_bf0de77b764547118f2b08517d675ed3",
       "placeholder": "gloss",
       "style": "IPY_MODEL_6bb1475dd50848769c557868b18b7e1b",
       "value": "beginning"
      }
     },
     "e66b3efd565e472a84151335edbb3277": {
      "model_module": "@jupyter-widgets/controls",
      "model_module_version": "1.5.0",
      "model_name": "BoxModel",
      "state": {
       "children": [
        "IPY_MODEL_9a6610e5d7be4feab929fe17a5cfab57",
        "IPY_MODEL_1739474394d8476da3c45cd10fce1374",
        "IPY_MODEL_89b618bbe61448b7a2a65072ad43e112",
        "IPY_MODEL_b010c680df2f4721a81b9cc9cbd07a55"
       ],
       "layout": "IPY_MODEL_33aec3a07566491f9157f40616d75c59"
      }
     },
     "e6a89c02f5d94e359073fd16d962fde3": {
      "model_module": "@jupyter-widgets/controls",
      "model_module_version": "1.5.0",
      "model_name": "DescriptionStyleModel",
      "state": {
       "description_width": ""
      }
     },
     "e6b6433e888f4dcfb0a1c2fc5c76d7d3": {
      "model_module": "@jupyter-widgets/controls",
      "model_module_version": "1.5.0",
      "model_name": "DescriptionStyleModel",
      "state": {
       "description_width": ""
      }
     },
     "e6c5511c317f4f6abd3a300398cbe971": {
      "model_module": "@jupyter-widgets/controls",
      "model_module_version": "1.5.0",
      "model_name": "DescriptionStyleModel",
      "state": {
       "description_width": ""
      }
     },
     "e6dd7263dffb4137bb3ffe1decd1f062": {
      "model_module": "@jupyter-widgets/controls",
      "model_module_version": "1.5.0",
      "model_name": "LabelModel",
      "state": {
       "layout": "IPY_MODEL_9701153813094c3793b02dbed139cfbc",
       "style": "IPY_MODEL_ec0ae355f23042288199e7dd78ad8a85",
       "value": "aap"
      }
     },
     "e714a369d833424a848f6b7346bbe805": {
      "model_module": "@jupyter-widgets/controls",
      "model_module_version": "1.5.0",
      "model_name": "TextModel",
      "state": {
       "continuous_update": false,
       "description": "pdp=",
       "layout": "IPY_MODEL_2e5b48b392c64f5fa618c525ca5043bb",
       "placeholder": "feat",
       "style": "IPY_MODEL_cdbabb2a529b4a8e8936c80f8eaad66f",
       "value": "subs"
      }
     },
     "e725087b3f7147d284679c595a7d9c40": {
      "model_module": "@jupyter-widgets/controls",
      "model_module_version": "1.5.0",
      "model_name": "DescriptionStyleModel",
      "state": {
       "description_width": ""
      }
     },
     "e72aae4df73642e8b98cab849200c31f": {
      "model_module": "@jupyter-widgets/base",
      "model_module_version": "1.2.0",
      "model_name": "LayoutModel",
      "state": {
       "border": "1px solid gray",
       "display": "inline-flex",
       "flex": "auto 0 1",
       "flex_flow": "row wrap"
      }
     },
     "e734dd0343f44bdc9077ddc411c4d0b6": {
      "model_module": "@jupyter-widgets/controls",
      "model_module_version": "1.5.0",
      "model_name": "TextModel",
      "state": {
       "continuous_update": false,
       "layout": "IPY_MODEL_72d2e5878f844b7aa594f3e4b6e7c04f",
       "placeholder": "feat",
       "style": "IPY_MODEL_7a1e0a3a748a48a3804ebd3e33bfb2c8",
       "value": "Time"
      }
     },
     "e763f9fe8a8e47fc8fd4eeca2fc0015d": {
      "model_module": "@jupyter-widgets/base",
      "model_module_version": "1.2.0",
      "model_name": "LayoutModel",
      "state": {
       "flex": "auto 1 1",
       "height": "4em"
      }
     },
     "e7a8eea5c38947d3b1044858f257d1a5": {
      "model_module": "@jupyter-widgets/base",
      "model_module_version": "1.2.0",
      "model_name": "LayoutModel",
      "state": {
       "align_content": "flex-start",
       "align_items": "flex-start",
       "border": "3px solid gray",
       "display": "inline-flex",
       "flex": "auto 0 0",
       "flex_flow": "column nowrap",
       "justify_content": "flex-start",
       "overflow": "auto"
      }
     },
     "e7c09ca78215449aa0e0102f2799ebb2": {
      "model_module": "@jupyter-widgets/controls",
      "model_module_version": "1.5.0",
      "model_name": "HTMLModel",
      "state": {
       "layout": "IPY_MODEL_8de0c265d8cf4711b969eb197b477208",
       "style": "IPY_MODEL_946a98f75d4d48be944b4ac2d6fb7dc7",
       "value": "bᵊ"
      }
     },
     "e7d3e3255751415baa99b75802f400b6": {
      "model_module": "@jupyter-widgets/controls",
      "model_module_version": "1.5.0",
      "model_name": "HTMLModel",
      "state": {
       "layout": "IPY_MODEL_d35a76df3cda49868cc0d9ab8568c5b3",
       "style": "IPY_MODEL_a99aad145eb14becbcb2b13521f03584",
       "value": "word"
      }
     },
     "e7dd1acb8d2a45e9980b7a26fd84a32b": {
      "model_module": "@jupyter-widgets/controls",
      "model_module_version": "1.5.0",
      "model_name": "DescriptionStyleModel",
      "state": {
       "description_width": ""
      }
     },
     "e7ed0973c9a04305ad444f3316f4057e": {
      "model_module": "@jupyter-widgets/controls",
      "model_module_version": "1.5.0",
      "model_name": "ButtonStyleModel",
      "state": {}
     },
     "e7f9dcdd15894554be5954ed5a694c61": {
      "model_module": "@jupyter-widgets/controls",
      "model_module_version": "1.5.0",
      "model_name": "DescriptionStyleModel",
      "state": {
       "description_width": ""
      }
     },
     "e815a7efbe2c4bc1a4485d5d3023db72": {
      "model_module": "@jupyter-widgets/controls",
      "model_module_version": "1.5.0",
      "model_name": "DescriptionStyleModel",
      "state": {
       "description_width": ""
      }
     },
     "e872507cd19c44919547e4a5caefa2d5": {
      "model_module": "@jupyter-widgets/base",
      "model_module_version": "1.2.0",
      "model_name": "LayoutModel",
      "state": {
       "border": "2px solid gray",
       "display": "inline-flex",
       "flex": "auto 0 1",
       "flex_flow": "column nowrap"
      }
     },
     "e8732ccb11f24c30bd43c2c4c683643c": {
      "model_module": "@jupyter-widgets/base",
      "model_module_version": "1.2.0",
      "model_name": "LayoutModel",
      "state": {
       "border": "2px solid gray",
       "display": "inline-flex",
       "flex": "auto 0 1",
       "flex_flow": "column"
      }
     },
     "e87ca028d704432aaa8d1c36bde1bd39": {
      "model_module": "@jupyter-widgets/base",
      "model_module_version": "1.2.0",
      "model_name": "LayoutModel",
      "state": {
       "align_content": "flex-start",
       "align_items": "flex-start",
       "border": "3px solid gray",
       "display": "inline-flex",
       "flex": "auto 0 0",
       "flex_flow": "row wrap",
       "justify_content": "flex-start",
       "overflow": "auto"
      }
     },
     "e88f6faa098c4511be39cc47d7957205": {
      "model_module": "@jupyter-widgets/base",
      "model_module_version": "1.2.0",
      "model_name": "LayoutModel",
      "state": {}
     },
     "e92b4e3596f54f9888daa553dca42224": {
      "model_module": "@jupyter-widgets/controls",
      "model_module_version": "1.5.0",
      "model_name": "LabelModel",
      "state": {
       "layout": "IPY_MODEL_b5025b2663534e0cbdd36b5971796e25",
       "style": "IPY_MODEL_2629bb73b71f45f6b55bf28902ab876d",
       "value": "aap"
      }
     },
     "e93cda82749f4db1b50cddcacc0f5108": {
      "model_module": "@jupyter-widgets/controls",
      "model_module_version": "1.5.0",
      "model_name": "BoxModel",
      "state": {
       "children": [
        "IPY_MODEL_05ebd1b7c2e1408c80ff694d4237fb07",
        "IPY_MODEL_a882ca2b62c94b4a82c4218420de9242",
        "IPY_MODEL_873e50795e264958ab3607b31e076f3a",
        "IPY_MODEL_7dbc738fcf3049bf908530ebd65c6973"
       ],
       "layout": "IPY_MODEL_7d10d474801c4640a49bcd2cbcf05f80"
      }
     },
     "e95658ef20ee4baaa5366425e8a5e8c9": {
      "model_module": "@jupyter-widgets/controls",
      "model_module_version": "1.5.0",
      "model_name": "DescriptionStyleModel",
      "state": {
       "description_width": ""
      }
     },
     "e959e67ca8c7406a8b5cf78f229bfd3e": {
      "model_module": "@jupyter-widgets/controls",
      "model_module_version": "1.5.0",
      "model_name": "DescriptionStyleModel",
      "state": {
       "description_width": ""
      }
     },
     "e9816904deb04392a4a2c1143d146d8b": {
      "model_module": "@jupyter-widgets/controls",
      "model_module_version": "1.5.0",
      "model_name": "LabelModel",
      "state": {
       "layout": "IPY_MODEL_c89a4061e83d45febc228cf9193a36eb",
       "style": "IPY_MODEL_c5c5dae30d0e4c1cad2d81d64d36fa49",
       "value": "Up to date"
      }
     },
     "e9c39436724f4921b0fb479361de0405": {
      "model_module": "@jupyter-widgets/base",
      "model_module_version": "1.2.0",
      "model_name": "LayoutModel",
      "state": {
       "align_content": "flex-start",
       "align_items": "flex-start",
       "border": "1px solid gray",
       "flex": "auto 0 0",
       "flex_flow": "column nowrap",
       "justify_content": "flex-start"
      }
     },
     "e9e78e8be2244d25935b086d3396ae36": {
      "model_module": "@jupyter-widgets/base",
      "model_module_version": "1.2.0",
      "model_name": "LayoutModel",
      "state": {
       "align_content": "flex-start",
       "align_items": "flex-start",
       "border": "1px solid gray",
       "display": "inline-flex",
       "flex": "auto 0 0",
       "flex_flow": "column nowrap",
       "justify_content": "flex-start",
       "overflow": "auto"
      }
     },
     "ea2a1297b21e457eac4bbcd466ceb413": {
      "model_module": "@jupyter-widgets/controls",
      "model_module_version": "1.5.0",
      "model_name": "DescriptionStyleModel",
      "state": {
       "description_width": ""
      }
     },
     "ea616368f56844f79d6f07d82ef4d395": {
      "model_module": "@jupyter-widgets/controls",
      "model_module_version": "1.5.0",
      "model_name": "BoxModel",
      "state": {
       "children": [
        "IPY_MODEL_5f0e7c2cba884bc09c7dffed6b3be01d",
        "IPY_MODEL_2ca66a9e896f4feb9732a32ebb32cd62"
       ],
       "layout": "IPY_MODEL_56f387cd886e4ce59b9bdcf2c2e18a92"
      }
     },
     "eaae23dfeed441d6a619e524c19de814": {
      "model_module": "@jupyter-widgets/controls",
      "model_module_version": "1.5.0",
      "model_name": "DescriptionStyleModel",
      "state": {
       "description_width": ""
      }
     },
     "eaf47c7fe25340499daf43a7d600644c": {
      "model_module": "@jupyter-widgets/controls",
      "model_module_version": "1.5.0",
      "model_name": "BoxModel",
      "state": {
       "children": [
        "IPY_MODEL_1d77dd585a774c929db0528fde1dc79d",
        "IPY_MODEL_30cf9680843f482184e07f075ce990f3"
       ],
       "layout": "IPY_MODEL_fa299e45a23c4f01b7cd20dbc0bc3a88"
      }
     },
     "eb30fb1e131548e2bf76c4e9415b4143": {
      "model_module": "@jupyter-widgets/controls",
      "model_module_version": "1.5.0",
      "model_name": "TextModel",
      "state": {
       "continuous_update": false,
       "description": "pdp=",
       "layout": "IPY_MODEL_4c7f21bcac3c469988c886892e35ad6d",
       "placeholder": "feat",
       "style": "IPY_MODEL_16326584691148919407a6ef478e1dde",
       "value": "subs"
      }
     },
     "eb4c142c33944c18bc43bcfc399cdf4f": {
      "model_module": "@jupyter-widgets/controls",
      "model_module_version": "1.5.0",
      "model_name": "BoxModel",
      "state": {
       "children": [
        "IPY_MODEL_7f4dbf27129141eeab260f245372b9b9",
        "IPY_MODEL_2278da77950d4df5a9d3c5a52cc39678"
       ],
       "layout": "IPY_MODEL_0095b563a4424346bec4b1a4d24e64e3"
      }
     },
     "ebe1bf980588418883f94c40e30af401": {
      "model_module": "@jupyter-widgets/controls",
      "model_module_version": "1.5.0",
      "model_name": "BoxModel",
      "state": {
       "children": [
        "IPY_MODEL_f8f4cbaee5504dcb88ecb680cc34fd63",
        "IPY_MODEL_9fcdde84ae2343318b0fc9e27f0dd98f",
        "IPY_MODEL_1adc9654e91843c186c4448a13144ac9"
       ],
       "layout": "IPY_MODEL_e65eb09b4dba427584eb2c1995d350b3"
      }
     },
     "ebed82f51dc24db28debf21e22c87f37": {
      "model_module": "@jupyter-widgets/controls",
      "model_module_version": "1.5.0",
      "model_name": "TextModel",
      "state": {
       "layout": "IPY_MODEL_4dd64f63d8c74848adbb5380a98d2229",
       "placeholder": "gloss",
       "style": "IPY_MODEL_f1c4163c81354d5791d2a9fe0bbc24cf",
       "value": "in"
      }
     },
     "ec0ae355f23042288199e7dd78ad8a85": {
      "model_module": "@jupyter-widgets/controls",
      "model_module_version": "1.5.0",
      "model_name": "DescriptionStyleModel",
      "state": {
       "description_width": ""
      }
     },
     "ec4dc5136c4441fe9837d3a2ea874461": {
      "model_module": "@jupyter-widgets/controls",
      "model_module_version": "1.5.0",
      "model_name": "BoxModel",
      "state": {
       "children": [
        "IPY_MODEL_3b09aafcd8c84e5d8d40f90af66556f1",
        "IPY_MODEL_03ff39b1ab984a08bddf4e45a7e3d7b3"
       ],
       "layout": "IPY_MODEL_ffabd45cdeae459791da7349592e5413"
      }
     },
     "ec7f0603d9c347b09829a142d6eed5de": {
      "model_module": "@jupyter-widgets/controls",
      "model_module_version": "1.5.0",
      "model_name": "DescriptionStyleModel",
      "state": {
       "description_width": ""
      }
     },
     "ec8d6557de7a40b9821b9dc510d1b92b": {
      "model_module": "@jupyter-widgets/controls",
      "model_module_version": "1.5.0",
      "model_name": "HTMLModel",
      "state": {
       "layout": "IPY_MODEL_56b5a25e16494ff696790ef8a9cd1acf",
       "style": "IPY_MODEL_e10165a8b1d643c9babe462c1fb098e2",
       "value": "rēšˌîṯ"
      }
     },
     "eccce765e6c746aab7c70498456092ee": {
      "model_module": "@jupyter-widgets/controls",
      "model_module_version": "1.5.0",
      "model_name": "DescriptionStyleModel",
      "state": {
       "description_width": ""
      }
     },
     "ecde6dd5f25b44abb1183e6c65257dac": {
      "model_module": "@jupyter-widgets/controls",
      "model_module_version": "1.5.0",
      "model_name": "DescriptionStyleModel",
      "state": {
       "description_width": ""
      }
     },
     "ed10c9bb7ce442358d7ea6fc67905959": {
      "model_module": "@jupyter-widgets/controls",
      "model_module_version": "1.5.0",
      "model_name": "DescriptionStyleModel",
      "state": {
       "description_width": ""
      }
     },
     "ed26da0a362e4c798ea09aba5c0b86e0": {
      "model_module": "@jupyter-widgets/base",
      "model_module_version": "1.2.0",
      "model_name": "LayoutModel",
      "state": {
       "border": "3px solid gray",
       "flex": "auto 0 0",
       "flex_flow": "column"
      }
     },
     "ed4491d0aceb4d65aad7e257a98b41e4": {
      "model_module": "@jupyter-widgets/base",
      "model_module_version": "1.2.0",
      "model_name": "LayoutModel",
      "state": {
       "align_content": "flex-start",
       "align_items": "flex-start",
       "flex": "auto 0 0",
       "justify_content": "flex-start",
       "overflow": "hidden"
      }
     },
     "ed758f7ca6b649c8b0d74424cfc340a1": {
      "model_module": "@jupyter-widgets/controls",
      "model_module_version": "1.5.0",
      "model_name": "HTMLModel",
      "state": {
       "layout": "IPY_MODEL_ad6fb28bc9ea40e2a8ba091a0609133a",
       "style": "IPY_MODEL_e6a89c02f5d94e359073fd16d962fde3",
       "value": "phrase"
      }
     },
     "eddf656d794a4e60980b66f82da096c6": {
      "model_module": "@jupyter-widgets/controls",
      "model_module_version": "1.5.0",
      "model_name": "HTMLModel",
      "state": {
       "layout": "IPY_MODEL_9d2baabf83524d14b20e9d27b558ad14",
       "style": "IPY_MODEL_d5933508b40f4a63a48fdc3e24d0aa3a",
       "value": "bᵊ"
      }
     },
     "ede9c578de004049bd068de4bdffa1f4": {
      "model_module": "@jupyter-widgets/base",
      "model_module_version": "1.2.0",
      "model_name": "LayoutModel",
      "state": {
       "align_content": "flex-start",
       "align_items": "flex-start",
       "border": "1px solid gray",
       "display": "inline-flex",
       "flex": "auto 0 0",
       "flex_flow": "column nowrap",
       "justify_content": "flex-start",
       "overflow": "auto"
      }
     },
     "ee152d7cf69041f28bcba3dc8627fa81": {
      "model_module": "@jupyter-widgets/controls",
      "model_module_version": "1.5.0",
      "model_name": "TextModel",
      "state": {
       "continuous_update": false,
       "description": "pdp=",
       "layout": "IPY_MODEL_b39ca3c53f7744a68c6bb8fcca233870",
       "placeholder": "feat",
       "style": "IPY_MODEL_2579ce9d82064362a431358e7551d546",
       "value": "prep"
      }
     },
     "ee2fbb8be1264b9ea71114a24935ba11": {
      "model_module": "@jupyter-widgets/controls",
      "model_module_version": "1.5.0",
      "model_name": "ButtonStyleModel",
      "state": {}
     },
     "ee32fd9b6c7340b4b6db540f8d093b4b": {
      "model_module": "@jupyter-widgets/controls",
      "model_module_version": "1.5.0",
      "model_name": "DescriptionStyleModel",
      "state": {
       "description_width": ""
      }
     },
     "ee58c604ff0a464486bbefb578b3b1ef": {
      "model_module": "@jupyter-widgets/base",
      "model_module_version": "1.2.0",
      "model_name": "LayoutModel",
      "state": {
       "border": "2px solid gray",
       "display": "inline-flex",
       "flex": "auto 0 1",
       "flex_flow": "column nowrap"
      }
     },
     "ee59475dc5014f2d97fe472dde77922a": {
      "model_module": "@jupyter-widgets/controls",
      "model_module_version": "1.5.0",
      "model_name": "BoxModel",
      "state": {
       "children": [
        "IPY_MODEL_6518aea4709d47f69c3bbe29f840827f",
        "IPY_MODEL_0c69d282145c44d48f0c49e2fc3eb0f6",
        "IPY_MODEL_0d1dded04b7a4ef39438e99c214a3e7e",
        "IPY_MODEL_7043b0dd96f34545a0fc76629f50bb6d"
       ],
       "layout": "IPY_MODEL_33aec3a07566491f9157f40616d75c59"
      }
     },
     "ee65677b2d2f497fae597177fa8721c5": {
      "model_module": "@jupyter-widgets/controls",
      "model_module_version": "1.5.0",
      "model_name": "BoxModel",
      "state": {
       "children": [
        "IPY_MODEL_f4cf6a9538f74578b46eff1edeac32f1",
        "IPY_MODEL_f0ec33bf5b2b4d579960de9839c76b2c",
        "IPY_MODEL_1a55c11e7985423d9e414c6313cf8437"
       ],
       "layout": "IPY_MODEL_2f3ad41325f24d05ad18ed5306483549"
      }
     },
     "ee9535c2c0c3484e846cd1ac9c4015a9": {
      "model_module": "@jupyter-widgets/controls",
      "model_module_version": "1.5.0",
      "model_name": "BoxModel",
      "state": {
       "children": [
        "IPY_MODEL_57b9ffcc8bf441afb0e46278a6b97076",
        "IPY_MODEL_3fb1fd6a19bf44c2a499bdd28c7b1897",
        "IPY_MODEL_2c1499888de345a6823418da9f9caf86",
        "IPY_MODEL_bb33ab05ca024ba39f6a985a6fc5494c"
       ],
       "layout": "IPY_MODEL_50e8694774624d85949bec3e6c545098"
      }
     },
     "eebac16aa8324686b9c02a195360d639": {
      "model_module": "@jupyter-widgets/controls",
      "model_module_version": "1.5.0",
      "model_name": "DescriptionStyleModel",
      "state": {
       "description_width": ""
      }
     },
     "ef3f0d5c639246bbb4bc6f47b2cecbb8": {
      "model_module": "@jupyter-widgets/controls",
      "model_module_version": "1.5.0",
      "model_name": "HTMLModel",
      "state": {
       "layout": "IPY_MODEL_c98e258fce024947ae6249726835859c",
       "style": "IPY_MODEL_a860243a7db54734a5fc8669934fd961",
       "value": "rēšˌîṯ"
      }
     },
     "ef76f9b6c7504ec888a4b681ea127026": {
      "model_module": "@jupyter-widgets/controls",
      "model_module_version": "1.5.0",
      "model_name": "BoxModel",
      "state": {
       "children": [
        "IPY_MODEL_c85f1eb2620a434691eb1c73e3bdc2ed",
        "IPY_MODEL_1ba31531c0b54ec594d9bec079f09ca8",
        "IPY_MODEL_d2ae2d3ec8ff4669ab15f43693cbf3e5"
       ],
       "layout": "IPY_MODEL_c52c9a18523e4190b87d60458fdb2aec"
      }
     },
     "ef98d6dec5e74f9bb3fd9f567c976ca0": {
      "model_module": "@jupyter-widgets/controls",
      "model_module_version": "1.5.0",
      "model_name": "HTMLModel",
      "state": {
       "layout": "IPY_MODEL_56b5a25e16494ff696790ef8a9cd1acf",
       "style": "IPY_MODEL_3c0a077db4b24899ad1dfbdd8a43b66e",
       "value": "bᵊ"
      }
     },
     "efde2d6900b14c868706f8aa8d3ad197": {
      "model_module": "@jupyter-widgets/controls",
      "model_module_version": "1.5.0",
      "model_name": "DescriptionStyleModel",
      "state": {
       "description_width": ""
      }
     },
     "efec0fe47fdb4eed8d3af8bfd1f260c4": {
      "model_module": "@jupyter-widgets/base",
      "model_module_version": "1.2.0",
      "model_name": "LayoutModel",
      "state": {
       "align_content": "stretch",
       "border": "2px solid #eeeeee",
       "display": "flex",
       "flex": "auto 0 0",
       "flex_flow": "column nowrap",
       "overflow": "auto"
      }
     },
     "eff21d93b416402b95b897b42ba3a2f8": {
      "model_module": "@jupyter-widgets/controls",
      "model_module_version": "1.5.0",
      "model_name": "BoxModel",
      "state": {
       "children": [
        "IPY_MODEL_3cf8ab6c584e42a08265a8f65bdb432c",
        "IPY_MODEL_7a43878ab4a0485e85b9e8537b7d167d",
        "IPY_MODEL_91e905880e9f427f8ea366ef55f02bae",
        "IPY_MODEL_80107855a4dd473eba6a4e3732b77b60"
       ],
       "layout": "IPY_MODEL_ff1546fd96e54f168944d02711d56e0e"
      }
     },
     "f0244fbb9d0043648f2e7c0c8b124673": {
      "model_module": "@jupyter-widgets/controls",
      "model_module_version": "1.5.0",
      "model_name": "TextModel",
      "state": {
       "continuous_update": false,
       "layout": "IPY_MODEL_55619af8f473438c9fd0cf8cb7d07840",
       "placeholder": "feat",
       "style": "IPY_MODEL_f978739aed90421bb85543020c299ec7",
       "value": "in"
      }
     },
     "f034da2d7d8b48a3a1d250508bc037ce": {
      "model_module": "@jupyter-widgets/controls",
      "model_module_version": "1.5.0",
      "model_name": "HTMLModel",
      "state": {
       "layout": "IPY_MODEL_264e65ad092d477ab783e47fe9b82a9e",
       "style": "IPY_MODEL_a16ef84e50af4569be4ccff4ea6f3426",
       "value": "word"
      }
     },
     "f054bb4fbfd448e69e6eb1ac2715128b": {
      "model_module": "@jupyter-widgets/base",
      "model_module_version": "1.2.0",
      "model_name": "LayoutModel",
      "state": {
       "align_content": "flex-start"
      }
     },
     "f07b955339bd4e02be92d7b3ffc914ab": {
      "model_module": "@jupyter-widgets/controls",
      "model_module_version": "1.5.0",
      "model_name": "BoxModel",
      "state": {
       "children": [
        "IPY_MODEL_0e65af9d0c004d71a7cb5a30e8c2dbb1",
        "IPY_MODEL_a4523e7b4ddc43f0829661964e98ee38",
        "IPY_MODEL_648d38ed369c4db79665779bf4446062",
        "IPY_MODEL_2c845a86df054915a45cdd82a852c228"
       ],
       "layout": "IPY_MODEL_e37f597b7d81470796cfddb47d24323a"
      }
     },
     "f0bc67a51a944886bd0e2ce57f0bc1ed": {
      "model_module": "@jupyter-widgets/controls",
      "model_module_version": "1.5.0",
      "model_name": "DescriptionStyleModel",
      "state": {
       "description_width": ""
      }
     },
     "f0c4879ee60a47d5a10f58e90a76e82a": {
      "model_module": "@jupyter-widgets/base",
      "model_module_version": "1.2.0",
      "model_name": "LayoutModel",
      "state": {
       "align_content": "flex-start",
       "align_items": "flex-start",
       "flex": "auto 1 1",
       "justify_content": "flex-start"
      }
     },
     "f0e4f32e78274469a215c8694a9dbaa6": {
      "model_module": "@jupyter-widgets/controls",
      "model_module_version": "1.5.0",
      "model_name": "TextModel",
      "state": {
       "layout": "IPY_MODEL_6473dda2915f41ed964de8ff103afadb",
       "placeholder": "function",
       "style": "IPY_MODEL_6e11860f4ee94eb5a7de89c757d427c6",
       "value": "Time"
      }
     },
     "f0ec33bf5b2b4d579960de9839c76b2c": {
      "model_module": "@jupyter-widgets/controls",
      "model_module_version": "1.5.0",
      "model_name": "TextModel",
      "state": {
       "continuous_update": false,
       "layout": "IPY_MODEL_f464fdb9f8104126a654e746d77a93eb",
       "placeholder": "feat",
       "style": "IPY_MODEL_f3e20cffc0534c499d784cf960c19ff5",
       "value": "PP"
      }
     },
     "f12178b421a244de8fdd004882cc0eeb": {
      "model_module": "@jupyter-widgets/controls",
      "model_module_version": "1.5.0",
      "model_name": "DescriptionStyleModel",
      "state": {
       "description_width": ""
      }
     },
     "f136af0e52034dfe8d3e38bbd5586239": {
      "model_module": "@jupyter-widgets/base",
      "model_module_version": "1.2.0",
      "model_name": "LayoutModel",
      "state": {
       "align_content": "flex-start",
       "align_items": "flex-start",
       "border": "1px solid gray",
       "display": "inline-flex",
       "flex": "auto 0 0",
       "flex_flow": "column nowrap",
       "justify_content": "flex-start",
       "overflow": "auto"
      }
     },
     "f158e66039834c848180bad82f2f992e": {
      "model_module": "@jupyter-widgets/controls",
      "model_module_version": "1.5.0",
      "model_name": "TextModel",
      "state": {
       "layout": "IPY_MODEL_02a737450c1540b3acbd98f3efc870fb",
       "placeholder": "pdp",
       "style": "IPY_MODEL_6277567e691f4c269d468e0f2697f9e5",
       "value": "prep"
      }
     },
     "f15d9b69187645f4a3649b015b3a8a63": {
      "model_module": "@jupyter-widgets/controls",
      "model_module_version": "1.5.0",
      "model_name": "DescriptionStyleModel",
      "state": {
       "description_width": ""
      }
     },
     "f166b1f571dc4926a0d441673d281715": {
      "model_module": "@jupyter-widgets/controls",
      "model_module_version": "1.5.0",
      "model_name": "HTMLModel",
      "state": {
       "layout": "IPY_MODEL_55619af8f473438c9fd0cf8cb7d07840",
       "style": "IPY_MODEL_7ed0c2b4fb7549b395434b84f28cd94a",
       "value": "rēšˌîṯ"
      }
     },
     "f174a83093a34564b5d08176b88a9ae9": {
      "model_module": "@jupyter-widgets/controls",
      "model_module_version": "1.5.0",
      "model_name": "BoxModel",
      "state": {
       "children": [
        "IPY_MODEL_dab3b27918344201b33d7c587f508b72",
        "IPY_MODEL_16423e353fca48e1a4b93f05855fd7df",
        "IPY_MODEL_c7a4cccb97f941b38968488655cb2e24",
        "IPY_MODEL_5c1bf8597f494b768e03254657e41fad"
       ],
       "layout": "IPY_MODEL_02e04c2986bc4c709f87f495d35f10f7"
      }
     },
     "f1c4163c81354d5791d2a9fe0bbc24cf": {
      "model_module": "@jupyter-widgets/controls",
      "model_module_version": "1.5.0",
      "model_name": "DescriptionStyleModel",
      "state": {
       "description_width": ""
      }
     },
     "f1f57c7026254ce3a21a73c74431fcf0": {
      "model_module": "@jupyter-widgets/controls",
      "model_module_version": "1.5.0",
      "model_name": "DescriptionStyleModel",
      "state": {
       "description_width": ""
      }
     },
     "f208894077434fe2a469b89918b90ee9": {
      "model_module": "@jupyter-widgets/controls",
      "model_module_version": "1.5.0",
      "model_name": "DescriptionStyleModel",
      "state": {
       "description_width": ""
      }
     },
     "f252bc4f34464272a88a859932adc879": {
      "model_module": "@jupyter-widgets/controls",
      "model_module_version": "1.5.0",
      "model_name": "DescriptionStyleModel",
      "state": {
       "description_width": ""
      }
     },
     "f2a108c9b55342c1937b1559fd019304": {
      "model_module": "@jupyter-widgets/controls",
      "model_module_version": "1.5.0",
      "model_name": "DescriptionStyleModel",
      "state": {
       "description_width": ""
      }
     },
     "f2d23ca497db4b9882015c0907e7cba9": {
      "model_module": "@jupyter-widgets/controls",
      "model_module_version": "1.5.0",
      "model_name": "TextModel",
      "state": {
       "continuous_update": false,
       "layout": "IPY_MODEL_56b5a25e16494ff696790ef8a9cd1acf",
       "placeholder": "feat",
       "style": "IPY_MODEL_86f5b608309e4c05a83d722fc6e04e30",
       "value": "Time"
      }
     },
     "f2f217d649aa4d15a2e6734da0392f19": {
      "model_module": "@jupyter-widgets/base",
      "model_module_version": "1.2.0",
      "model_name": "LayoutModel",
      "state": {
       "align_content": "flex-start",
       "align_items": "flex-start",
       "border": "3px solid gray",
       "display": "inline-flex",
       "flex": "auto 0 0",
       "flex_flow": "column nowrap",
       "justify_content": "flex-start",
       "overflow": "auto"
      }
     },
     "f32626f1ec504492bc4b8c3c0bdf6db9": {
      "model_module": "@jupyter-widgets/controls",
      "model_module_version": "1.5.0",
      "model_name": "DescriptionStyleModel",
      "state": {
       "description_width": ""
      }
     },
     "f3e20cffc0534c499d784cf960c19ff5": {
      "model_module": "@jupyter-widgets/controls",
      "model_module_version": "1.5.0",
      "model_name": "DescriptionStyleModel",
      "state": {
       "description_width": ""
      }
     },
     "f3f1d2f7177647019d1e42fae8383980": {
      "model_module": "@jupyter-widgets/controls",
      "model_module_version": "1.5.0",
      "model_name": "DescriptionStyleModel",
      "state": {
       "description_width": ""
      }
     },
     "f3f3afcd17d44a9d8b6e989db11bfaf7": {
      "model_module": "@jupyter-widgets/controls",
      "model_module_version": "1.5.0",
      "model_name": "BoxModel",
      "state": {
       "children": [
        "IPY_MODEL_872f1700ae8c42ff85de32effb55f030",
        "IPY_MODEL_6567731bd0544eb8a4de23677006b897"
       ],
       "layout": "IPY_MODEL_918e619fa6ce42b09e700221b1e70573"
      }
     },
     "f41bfdb3c1304ddd94f7bac6cdfc65c0": {
      "model_module": "@jupyter-widgets/base",
      "model_module_version": "1.2.0",
      "model_name": "LayoutModel",
      "state": {
       "flex": "auto 1 1"
      }
     },
     "f464fdb9f8104126a654e746d77a93eb": {
      "model_module": "@jupyter-widgets/base",
      "model_module_version": "1.2.0",
      "model_name": "LayoutModel",
      "state": {
       "align_content": "flex-start",
       "align_items": "flex-start",
       "flex": "auto 0 0",
       "justify_content": "flex-start",
       "overflow": "hidden"
      }
     },
     "f49cc339ba7c434293c5dd07a05d3af8": {
      "model_module": "@jupyter-widgets/controls",
      "model_module_version": "1.5.0",
      "model_name": "BoxModel",
      "state": {
       "children": [
        "IPY_MODEL_e0ce467b1e92464f8b335270eb07d4ec",
        "IPY_MODEL_ac379c5df2374fe3b92b4e8f66303e45"
       ],
       "layout": "IPY_MODEL_ed26da0a362e4c798ea09aba5c0b86e0"
      }
     },
     "f4b4bd2e4ac44a75b8d575faf0edfe9a": {
      "model_module": "@jupyter-widgets/controls",
      "model_module_version": "1.5.0",
      "model_name": "BoxModel",
      "state": {
       "children": [
        "IPY_MODEL_04673d0a876747cabe7dba02dfdf3680",
        "IPY_MODEL_4b2facc7df984336b942d19b55facf87",
        "IPY_MODEL_f0244fbb9d0043648f2e7c0c8b124673",
        "IPY_MODEL_5ac6d83a87a6483a9412faf723737e99"
       ],
       "layout": "IPY_MODEL_1294f9b4dc7b4f52b6a0e4cc29dc6625"
      }
     },
     "f4cf6a9538f74578b46eff1edeac32f1": {
      "model_module": "@jupyter-widgets/controls",
      "model_module_version": "1.5.0",
      "model_name": "HTMLModel",
      "state": {
       "layout": "IPY_MODEL_f464fdb9f8104126a654e746d77a93eb",
       "style": "IPY_MODEL_8654cc32670845a182623138cfcfdbc2",
       "value": "phrase"
      }
     },
     "f4d501e8f1cb425082751e3cc3eecb82": {
      "model_module": "@jupyter-widgets/base",
      "model_module_version": "1.2.0",
      "model_name": "LayoutModel",
      "state": {
       "align_content": "flex-start",
       "align_items": "flex-start",
       "align_self": "stretch",
       "flex": "auto 1 1",
       "justify_content": "flex-start"
      }
     },
     "f4dff030559149ae802bc40a24eea058": {
      "model_module": "@jupyter-widgets/controls",
      "model_module_version": "1.5.0",
      "model_name": "TextModel",
      "state": {
       "continuous_update": false,
       "layout": "IPY_MODEL_fcbf3ee01ffe466dbdf5ac76fe08f70a",
       "placeholder": "feat",
       "style": "IPY_MODEL_053ba8a8d72d40619a6a2129a9516441",
       "value": "beginning"
      }
     },
     "f4facd767f05401784a63b8f19af65b1": {
      "model_module": "@jupyter-widgets/controls",
      "model_module_version": "1.5.0",
      "model_name": "DescriptionStyleModel",
      "state": {
       "description_width": ""
      }
     },
     "f5aa8049eb484b5bb26ca8b056671c49": {
      "model_module": "@jupyter-widgets/controls",
      "model_module_version": "1.5.0",
      "model_name": "BoxModel",
      "state": {
       "children": [
        "IPY_MODEL_7e60887d227a4015b9c4feb2d282a931",
        "IPY_MODEL_82481d037cdd451898fefb580f5bc117",
        "IPY_MODEL_92cb7a672be2480b89aae40038044a1c"
       ],
       "layout": "IPY_MODEL_303348ebd211486f8c358891a30982a6"
      }
     },
     "f5dd58fb7e4542cfabe3f1d174259986": {
      "model_module": "@jupyter-widgets/controls",
      "model_module_version": "1.5.0",
      "model_name": "DescriptionStyleModel",
      "state": {
       "description_width": ""
      }
     },
     "f6183468ed3f411e86cdca56913ebf1c": {
      "model_module": "@jupyter-widgets/controls",
      "model_module_version": "1.5.0",
      "model_name": "DescriptionStyleModel",
      "state": {
       "description_width": ""
      }
     },
     "f633dd5241cb48feac01804de044c9a4": {
      "model_module": "@jupyter-widgets/controls",
      "model_module_version": "1.5.0",
      "model_name": "HTMLModel",
      "state": {
       "layout": "IPY_MODEL_4c7f21bcac3c469988c886892e35ad6d",
       "style": "IPY_MODEL_9f3d22b78f984a46b20b3d63a50efa63",
       "value": "phrase"
      }
     },
     "f687c275dfed41b18ed981bbfcaa3dc5": {
      "model_module": "@jupyter-widgets/controls",
      "model_module_version": "1.5.0",
      "model_name": "DescriptionStyleModel",
      "state": {
       "description_width": ""
      }
     },
     "f6987536e4744785be3702fe680d4e03": {
      "model_module": "@jupyter-widgets/controls",
      "model_module_version": "1.5.0",
      "model_name": "TextModel",
      "state": {
       "layout": "IPY_MODEL_4dd64f63d8c74848adbb5380a98d2229",
       "placeholder": "gloss",
       "style": "IPY_MODEL_571207cf610e4fc992f1ce729ca486e1",
       "value": "beginning"
      }
     },
     "f69f56e0b5f648b7ae022bb3ebd99b45": {
      "model_module": "@jupyter-widgets/controls",
      "model_module_version": "1.5.0",
      "model_name": "BoxModel",
      "state": {
       "children": [
        "IPY_MODEL_2ea5a50ce99041049eebcea31ea6c9a1",
        "IPY_MODEL_d76e762b0d67417ea61b8fc584562218",
        "IPY_MODEL_a5e2674b183b45efa4852bf5ee9e84db"
       ],
       "layout": "IPY_MODEL_9292ff9a8a784cab8574c77e74bbd053"
      }
     },
     "f6b0a4c9d06847edba23d02bfc9ce767": {
      "model_module": "@jupyter-widgets/controls",
      "model_module_version": "1.5.0",
      "model_name": "HTMLModel",
      "state": {
       "layout": "IPY_MODEL_b39ca3c53f7744a68c6bb8fcca233870",
       "style": "IPY_MODEL_f7e9bea660174a699f24748bc10d926f",
       "value": "word"
      }
     },
     "f6c8bbdef55f44eab9fafd21eec051da": {
      "model_module": "@jupyter-widgets/controls",
      "model_module_version": "1.5.0",
      "model_name": "DescriptionStyleModel",
      "state": {
       "description_width": ""
      }
     },
     "f6cc1ebdee954dcd972658fd9de77037": {
      "model_module": "@jupyter-widgets/controls",
      "model_module_version": "1.5.0",
      "model_name": "DescriptionStyleModel",
      "state": {
       "description_width": ""
      }
     },
     "f6d9ffacc07f44d0a3c345bcdd5eaa00": {
      "model_module": "@jupyter-widgets/controls",
      "model_module_version": "1.5.0",
      "model_name": "DescriptionStyleModel",
      "state": {
       "description_width": ""
      }
     },
     "f72c2477b0d44b43a446f510fddcb713": {
      "model_module": "@jupyter-widgets/controls",
      "model_module_version": "1.5.0",
      "model_name": "TextModel",
      "state": {
       "layout": "IPY_MODEL_482346b169324d308f3aa5ff45d8987f",
       "placeholder": "feat",
       "style": "IPY_MODEL_65008a7bebb242fa8fc06c6446720887",
       "value": "PP"
      }
     },
     "f72e19f0799247e7a8cc6bee0fa5479f": {
      "model_module": "@jupyter-widgets/controls",
      "model_module_version": "1.5.0",
      "model_name": "BoxModel",
      "state": {
       "children": [
        "IPY_MODEL_332e880510d34207af0dcafabe3243a3",
        "IPY_MODEL_af41cc18b84d4fcbbe2a0eb95ddb6ec7",
        "IPY_MODEL_1f78e7c135dc437da663d6d51428c268",
        "IPY_MODEL_fcd1057c2f8a4f7ba52730eadf207156"
       ],
       "layout": "IPY_MODEL_50e8694774624d85949bec3e6c545098"
      }
     },
     "f74a465a75944447ac6174e256f34f9c": {
      "model_module": "@jupyter-widgets/controls",
      "model_module_version": "1.5.0",
      "model_name": "HTMLModel",
      "state": {
       "layout": "IPY_MODEL_55619af8f473438c9fd0cf8cb7d07840",
       "style": "IPY_MODEL_9a04e86921f74f04b67002702eadf633",
       "value": "phrase"
      }
     },
     "f75ded8b87ee4d9398164535195e3672": {
      "model_module": "@jupyter-widgets/base",
      "model_module_version": "1.2.0",
      "model_name": "LayoutModel",
      "state": {
       "align_content": "flex-start",
       "align_items": "flex-start",
       "flex": "auto 0 0",
       "justify_content": "flex-start",
       "overflow": "hidden"
      }
     },
     "f775a53a19c74845a7e19b8b263eefd3": {
      "model_module": "@jupyter-widgets/controls",
      "model_module_version": "1.5.0",
      "model_name": "DescriptionStyleModel",
      "state": {
       "description_width": ""
      }
     },
     "f7bc3c2648784bdea1148626dd447b74": {
      "model_module": "@jupyter-widgets/base",
      "model_module_version": "1.2.0",
      "model_name": "LayoutModel",
      "state": {
       "border": "1px solid black",
       "flex": "auto 1 1"
      }
     },
     "f7cf943c97004189a619b2583cbdc3be": {
      "model_module": "@jupyter-widgets/controls",
      "model_module_version": "1.5.0",
      "model_name": "HTMLModel",
      "state": {
       "layout": "IPY_MODEL_ad6fb28bc9ea40e2a8ba091a0609133a",
       "style": "IPY_MODEL_d480148abd1e4fd2b1f731a14efae604",
       "value": "bᵊ"
      }
     },
     "f7e9bea660174a699f24748bc10d926f": {
      "model_module": "@jupyter-widgets/controls",
      "model_module_version": "1.5.0",
      "model_name": "DescriptionStyleModel",
      "state": {
       "description_width": ""
      }
     },
     "f8486effe7a6480f8f13ad130ffffffc": {
      "model_module": "@jupyter-widgets/controls",
      "model_module_version": "1.5.0",
      "model_name": "ButtonStyleModel",
      "state": {}
     },
     "f84bf9c7e3be49e99ee46fa367878521": {
      "model_module": "@jupyter-widgets/controls",
      "model_module_version": "1.5.0",
      "model_name": "TextModel",
      "state": {
       "continuous_update": false,
       "description": "pdp=",
       "layout": "IPY_MODEL_07c4579bde2b4d29a545ad9ac1e8734f",
       "placeholder": "feat",
       "style": "IPY_MODEL_5870e037634c45a1af4c0866466f1fb3",
       "value": "subs"
      }
     },
     "f85ce27b830c42ae8e8b7d1ea676fa93": {
      "model_module": "@jupyter-widgets/controls",
      "model_module_version": "1.5.0",
      "model_name": "BoxModel",
      "state": {
       "children": [
        "IPY_MODEL_f6b0a4c9d06847edba23d02bfc9ce767",
        "IPY_MODEL_1cb6bfefd8e94ee8aaf41d25627c4283",
        "IPY_MODEL_65f7983d09db4bac98f143bc157dd865",
        "IPY_MODEL_de9542248b38454aa6303b7177c5ce18"
       ],
       "layout": "IPY_MODEL_ff1546fd96e54f168944d02711d56e0e"
      }
     },
     "f86c3a05bfbc45ae8743ccdbfc7d8158": {
      "model_module": "@jupyter-widgets/controls",
      "model_module_version": "1.5.0",
      "model_name": "HTMLModel",
      "state": {
       "layout": "IPY_MODEL_04f1ce2d4cda40bf95f907692b6d30f8",
       "style": "IPY_MODEL_e6c5511c317f4f6abd3a300398cbe971",
       "value": "rēšˌîṯ"
      }
     },
     "f8cae9256cb441d695e166f5cec2ef9a": {
      "model_module": "@jupyter-widgets/controls",
      "model_module_version": "1.5.0",
      "model_name": "BoxModel",
      "state": {
       "children": [
        "IPY_MODEL_fb9331a5cbaf4a0595dafe2462c5c0d7",
        "IPY_MODEL_e53403992b034ce29488b8a03aa83dc4"
       ],
       "layout": "IPY_MODEL_9b2359ab02174791a9bfa9554ce5bf1a"
      }
     },
     "f8ea3d29a49e4aee920cafc503c8a4ed": {
      "model_module": "@jupyter-widgets/controls",
      "model_module_version": "1.5.0",
      "model_name": "BoxModel",
      "state": {
       "children": [
        "IPY_MODEL_686f16f2beee4fc0a84d4f80249cc780",
        "IPY_MODEL_ec8d6557de7a40b9821b9dc510d1b92b",
        "IPY_MODEL_28a95c10c74441f38b951fafd625b90a",
        "IPY_MODEL_6ee1916c98594ad6b46e51d89224a3e1"
       ],
       "layout": "IPY_MODEL_ede9c578de004049bd068de4bdffa1f4"
      }
     },
     "f8f4cbaee5504dcb88ecb680cc34fd63": {
      "model_module": "@jupyter-widgets/controls",
      "model_module_version": "1.5.0",
      "model_name": "BoxModel",
      "state": {
       "children": [
        "IPY_MODEL_1b28ae9fb5dd4692ba9975e02d3204df",
        "IPY_MODEL_abb4fbb25d524137aaebdbe70bff7ee3"
       ],
       "layout": "IPY_MODEL_8a3a077f5ea84507bbb8ead133e9a510"
      }
     },
     "f8f89fcbe3db45aa8a3aa93f8d364f4a": {
      "model_module": "@jupyter-widgets/controls",
      "model_module_version": "1.5.0",
      "model_name": "DescriptionStyleModel",
      "state": {
       "description_width": ""
      }
     },
     "f91bb79f326249eab85263a5070c91c5": {
      "model_module": "@jupyter-widgets/controls",
      "model_module_version": "1.5.0",
      "model_name": "BoxModel",
      "state": {
       "children": [
        "IPY_MODEL_69751c0c3b8a427285c2b702633b1802",
        "IPY_MODEL_1a969ab25de64b1e8709d8134be2d0e9",
        "IPY_MODEL_99a38a90622849758158bfb1f92f59f9"
       ],
       "layout": "IPY_MODEL_61a3796ee8534ab581fa8900df5ebe6a"
      }
     },
     "f978739aed90421bb85543020c299ec7": {
      "model_module": "@jupyter-widgets/controls",
      "model_module_version": "1.5.0",
      "model_name": "DescriptionStyleModel",
      "state": {
       "description_width": ""
      }
     },
     "fa02c8e5b7894112bc7cfa46904cb8f9": {
      "model_module": "@jupyter-widgets/controls",
      "model_module_version": "1.5.0",
      "model_name": "HTMLModel",
      "state": {
       "layout": "IPY_MODEL_4c7f21bcac3c469988c886892e35ad6d",
       "style": "IPY_MODEL_14c87d0fda6345e285e5a2e3593e4bf4",
       "value": "rēšˌîṯ"
      }
     },
     "fa180f2e33ef4f1c8f72bf9e210b3b81": {
      "model_module": "@jupyter-widgets/base",
      "model_module_version": "1.2.0",
      "model_name": "LayoutModel",
      "state": {}
     },
     "fa299e45a23c4f01b7cd20dbc0bc3a88": {
      "model_module": "@jupyter-widgets/base",
      "model_module_version": "1.2.0",
      "model_name": "LayoutModel",
      "state": {
       "align_content": "flex-start",
       "align_items": "flex-start",
       "border": "3px solid gray",
       "display": "inline-flex",
       "flex": "auto 0 0",
       "flex_flow": "row wrap",
       "justify_content": "flex-start",
       "overflow": "auto"
      }
     },
     "fa9237a528854beaa5fb0115d2ff72b5": {
      "model_module": "@jupyter-widgets/controls",
      "model_module_version": "1.5.0",
      "model_name": "HTMLModel",
      "state": {
       "layout": "IPY_MODEL_4efd8b9a6de3490dacb08f5d52930799",
       "style": "IPY_MODEL_ac3615f064164b67a8ac00ac1894e795",
       "value": "pdp="
      }
     },
     "fae45cb5987944558ed6789d510c8619": {
      "model_module": "@jupyter-widgets/controls",
      "model_module_version": "1.5.0",
      "model_name": "DescriptionStyleModel",
      "state": {
       "description_width": ""
      }
     },
     "fb16a2f7c3d44fd083297278bd6b9d95": {
      "model_module": "@jupyter-widgets/controls",
      "model_module_version": "1.5.0",
      "model_name": "ButtonModel",
      "state": {
       "description": "Up to date",
       "disabled": true,
       "layout": "IPY_MODEL_919fd507b5194c39891ebca91018fca4",
       "style": "IPY_MODEL_ee2fbb8be1264b9ea71114a24935ba11"
      }
     },
     "fb3d2cd0471f47c8b5c03cc7d9c2d515": {
      "model_module": "@jupyter-widgets/controls",
      "model_module_version": "1.5.0",
      "model_name": "DescriptionStyleModel",
      "state": {
       "description_width": ""
      }
     },
     "fb60900a3e6d4d9e86ec187689174985": {
      "model_module": "@jupyter-widgets/controls",
      "model_module_version": "1.5.0",
      "model_name": "BoxModel",
      "state": {
       "children": [
        "IPY_MODEL_0e01c8160d574fca8fbd850412ebcb86",
        "IPY_MODEL_2b5618d722174566b0833bb860b0452c",
        "IPY_MODEL_3b24e88d3816489f8a1f476887cab9d2"
       ],
       "layout": "IPY_MODEL_6167a54a4b424bde83abcfdc50d16335"
      }
     },
     "fb9331a5cbaf4a0595dafe2462c5c0d7": {
      "model_module": "@jupyter-widgets/controls",
      "model_module_version": "1.5.0",
      "model_name": "HTMLModel",
      "state": {
       "layout": "IPY_MODEL_800ed21ddab1453faaf8f36dc53d970f",
       "style": "IPY_MODEL_ee32fd9b6c7340b4b6db540f8d093b4b",
       "value": "pdp="
      }
     },
     "fb942de305d04b4e8fdcb97a5dd0d9da": {
      "model_module": "@jupyter-widgets/base",
      "model_module_version": "1.2.0",
      "model_name": "LayoutModel",
      "state": {
       "align_content": "flex-start",
       "align_items": "flex-start",
       "border": "3px solid gray",
       "display": "inline-flex",
       "flex": "auto 0 0",
       "flex_flow": "row wrap",
       "justify_content": "flex-start",
       "overflow": "auto"
      }
     },
     "fb9946df84944544855efd31dcd22d72": {
      "model_module": "@jupyter-widgets/controls",
      "model_module_version": "1.5.0",
      "model_name": "HTMLModel",
      "state": {
       "layout": "IPY_MODEL_f464fdb9f8104126a654e746d77a93eb",
       "style": "IPY_MODEL_2d2cedf6037c4249bd83d4a09de48d34",
       "value": "word"
      }
     },
     "fc02dc81d9414c44b4f63337f79098b1": {
      "model_module": "@jupyter-widgets/base",
      "model_module_version": "1.2.0",
      "model_name": "LayoutModel",
      "state": {
       "border": "2px solid gray",
       "display": "inline-flex",
       "flex": "auto 0 1",
       "flex_flow": "column nowrap"
      }
     },
     "fc27475cb4dc499dae0dd96b99ad3a35": {
      "model_module": "@jupyter-widgets/controls",
      "model_module_version": "1.5.0",
      "model_name": "BoxModel",
      "state": {
       "children": [
        "IPY_MODEL_ec4dc5136c4441fe9837d3a2ea874461",
        "IPY_MODEL_3b4f392552f046b09589deb0e1a05aee",
        "IPY_MODEL_0868182555d540728e38f4ad438b0aea"
       ],
       "layout": "IPY_MODEL_6714e6ebda5040ddb45f9ce1a9bd64cb"
      }
     },
     "fc491e9a36ac421b81f996f6a2cda380": {
      "model_module": "@jupyter-widgets/controls",
      "model_module_version": "1.5.0",
      "model_name": "TextModel",
      "state": {
       "continuous_update": false,
       "description": "pdp=",
       "layout": "IPY_MODEL_d35a76df3cda49868cc0d9ab8568c5b3",
       "placeholder": "feat",
       "style": "IPY_MODEL_617c5cd6a4a845b7949c5870299b17dd",
       "value": "subs"
      }
     },
     "fc501874f23a4eb68fefaf069145ac5a": {
      "model_module": "@jupyter-widgets/controls",
      "model_module_version": "1.5.0",
      "model_name": "DescriptionStyleModel",
      "state": {
       "description_width": ""
      }
     },
     "fcbf3ee01ffe466dbdf5ac76fe08f70a": {
      "model_module": "@jupyter-widgets/base",
      "model_module_version": "1.2.0",
      "model_name": "LayoutModel",
      "state": {
       "align_content": "flex-start",
       "align_items": "flex-start",
       "flex": "auto 0 0",
       "justify_content": "flex-start",
       "overflow": "hidden"
      }
     },
     "fcd1057c2f8a4f7ba52730eadf207156": {
      "model_module": "@jupyter-widgets/controls",
      "model_module_version": "1.5.0",
      "model_name": "TextModel",
      "state": {
       "continuous_update": false,
       "description": "pdp=",
       "layout": "IPY_MODEL_482346b169324d308f3aa5ff45d8987f",
       "placeholder": "feat",
       "style": "IPY_MODEL_3b78fffc5be041e39c3560121cba3af6",
       "value": "subs"
      }
     },
     "fce61d14682441f0a5d7d66d6b09aa3c": {
      "model_module": "@jupyter-widgets/controls",
      "model_module_version": "1.5.0",
      "model_name": "ButtonStyleModel",
      "state": {}
     },
     "fd0b07da2b374d7bbc9fa5d931d475dc": {
      "model_module": "@jupyter-widgets/controls",
      "model_module_version": "1.5.0",
      "model_name": "DescriptionStyleModel",
      "state": {
       "description_width": ""
      }
     },
     "fd210678e1404fd7bbc7b57d0bfb51bf": {
      "model_module": "@jupyter-widgets/controls",
      "model_module_version": "1.5.0",
      "model_name": "DescriptionStyleModel",
      "state": {
       "description_width": ""
      }
     },
     "fd5ca78d9ee240aa978240fa6b43d1b0": {
      "model_module": "@jupyter-widgets/controls",
      "model_module_version": "1.5.0",
      "model_name": "TextModel",
      "state": {
       "continuous_update": false,
       "layout": "IPY_MODEL_740e27f9b923410ea3b36f1e5b08c0c3",
       "placeholder": "feat",
       "style": "IPY_MODEL_62681645cd914fd8b9c23b5b999d88f8",
       "value": "beginning"
      }
     },
     "fe1c8d80f9b843ff9f0f40dfbbeba356": {
      "model_module": "@jupyter-widgets/controls",
      "model_module_version": "1.5.0",
      "model_name": "DescriptionStyleModel",
      "state": {
       "description_width": ""
      }
     },
     "fe80e9b03a9244dcb39e18452be514f1": {
      "model_module": "@jupyter-widgets/controls",
      "model_module_version": "1.5.0",
      "model_name": "TextModel",
      "state": {
       "continuous_update": false,
       "description": "pdp=",
       "layout": "IPY_MODEL_c98e258fce024947ae6249726835859c",
       "placeholder": "feat",
       "style": "IPY_MODEL_34f58962f8b84dce91656a5a5160c2c8",
       "value": "prep"
      }
     },
     "feeb6508d6874d23948d4290cf568c0c": {
      "model_module": "@jupyter-widgets/controls",
      "model_module_version": "1.5.0",
      "model_name": "BoxModel",
      "state": {
       "children": [
        "IPY_MODEL_1f391a04b9634267bebeb169b26bc2da",
        "IPY_MODEL_c7a8f72be6154a4fa118f94cebbedc8d",
        "IPY_MODEL_e6dd7263dffb4137bb3ffe1decd1f062"
       ],
       "layout": "IPY_MODEL_bd2f37fe0aa44658838e603fd45a6bb6"
      }
     },
     "ff12d93e58ab45699d7f75a998fbe072": {
      "model_module": "@jupyter-widgets/controls",
      "model_module_version": "1.5.0",
      "model_name": "BoxModel",
      "state": {
       "children": [
        "IPY_MODEL_7ba93fbb28ed4e7886f3324c5953676f",
        "IPY_MODEL_17c9560660964e73b6b80e867ff3a494",
        "IPY_MODEL_a3b49533af9546dbaf24d229318ea838",
        "IPY_MODEL_16bfbef3150c4bd381ce058ac9707f7f"
       ],
       "layout": "IPY_MODEL_50e8694774624d85949bec3e6c545098"
      }
     },
     "ff1546fd96e54f168944d02711d56e0e": {
      "model_module": "@jupyter-widgets/base",
      "model_module_version": "1.2.0",
      "model_name": "LayoutModel",
      "state": {
       "align_content": "flex-start",
       "align_items": "flex-start",
       "border": "1px solid gray",
       "display": "inline-flex",
       "flex": "auto 0 0",
       "flex_flow": "column nowrap",
       "justify_content": "flex-start",
       "overflow": "auto"
      }
     },
     "ff202590668f43e6980f1e497f40bc70": {
      "model_module": "@jupyter-widgets/controls",
      "model_module_version": "1.5.0",
      "model_name": "BoxModel",
      "state": {
       "children": [
        "IPY_MODEL_68c475d33b1a4a9694c8325a659be435",
        "IPY_MODEL_9e430a130cd5403ba40347ee41a1193e",
        "IPY_MODEL_65354358149b4d0ea158813f98c74c05"
       ],
       "layout": "IPY_MODEL_19b7c1133cb346d982a59ba6b83e168c"
      }
     },
     "ff6a04a204e14c218f9b2f3b7a51b279": {
      "model_module": "@jupyter-widgets/controls",
      "model_module_version": "1.5.0",
      "model_name": "DescriptionStyleModel",
      "state": {
       "description_width": ""
      }
     },
     "ffabd45cdeae459791da7349592e5413": {
      "model_module": "@jupyter-widgets/base",
      "model_module_version": "1.2.0",
      "model_name": "LayoutModel",
      "state": {
       "align_content": "flex-start",
       "align_items": "flex-start",
       "border": "3px solid gray",
       "display": "inline-flex",
       "flex": "auto 0 0",
       "flex_flow": "column nowrap",
       "justify_content": "flex-start",
       "overflow": "auto"
      }
     }
    },
    "version_major": 2,
    "version_minor": 0
   }
  }
 },
 "nbformat": 4,
 "nbformat_minor": 5
}
