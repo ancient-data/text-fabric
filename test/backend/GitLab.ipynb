{
 "cells": [
  {
   "cell_type": "code",
   "execution_count": 1,
   "id": "8f207e7e-2abb-45b4-abee-979c565ab25b",
   "metadata": {},
   "outputs": [],
   "source": [
    "%load_ext autoreload\n",
    "%autoreload 2"
   ]
  },
  {
   "cell_type": "code",
   "execution_count": 3,
   "id": "53711529-a020-4824-acfe-0ea089b5bcb4",
   "metadata": {},
   "outputs": [],
   "source": [
    "import os\n",
    "import io\n",
    "from gitlab import Gitlab, GitlabListError\n",
    "from zipfile import ZipFile\n",
    "\n",
    "from tf.advanced.repo import checkoutRepo"
   ]
  },
  {
   "cell_type": "code",
   "execution_count": 4,
   "id": "aaa6fad1-2f14-43b9-9712-5f3c4ea5dd8d",
   "metadata": {},
   "outputs": [],
   "source": [
    "HOST = \"https://gitlab.huc.knaw.nl\"\n",
    "ORG = \"annotation\"\n",
    "REPO = \"banks\"\n",
    "VERSION = \"0.2\"\n",
    "DOWNLOAD = os.path.expanduser(f\"~/Downloads/{REPO}-tf-{VERSION}.zip\")\n",
    "GLREPO = f\"{ORG}%2F{REPO}\"\n",
    "ZIPPATH = f\"tf%2F{VERSION}\""
   ]
  },
  {
   "cell_type": "code",
   "execution_count": 5,
   "id": "de72d1a1-83f3-4e2f-b412-dc14162c4752",
   "metadata": {},
   "outputs": [],
   "source": [
    "APP_ID = \"0d17daf0ee59ff66b3a0509cbad5993ec6a432afd94d91007d9ed3842669b2f2\"\n",
    "APP_SECRET = \"00e13cc0f5d0c7f5316dbb809d3be60d96c217c96cc512283ea98a259d0d3357\"\n",
    "GLPERS = \"gXPbayNdMs5uSqvnW3RC\"\n",
    "\n",
    "slug = f\"{HOST}/api/v4/\"\n",
    "auth = f\"?private_token={GLPERS}\"\n",
    "\n",
    "GLPATH = f\"{slug}/projects/{GLREPO}\""
   ]
  },
  {
   "cell_type": "markdown",
   "id": "43dd2c08-7212-4579-8fe3-3c8644396317",
   "metadata": {},
   "source": [
    "# Direct via curl"
   ]
  },
  {
   "cell_type": "code",
   "execution_count": 6,
   "id": "51630778-b23e-44dd-90cd-c98977c55894",
   "metadata": {
    "tags": []
   },
   "outputs": [
    {
     "name": "stdout",
     "output_type": "stream",
     "text": [
      "{\"version\":\"12.5.4-ee\",\"revision\":\"2a57951c0ee\"}"
     ]
    }
   ],
   "source": [
    "!curl \"{slug}/version{auth}\""
   ]
  },
  {
   "cell_type": "code",
   "execution_count": 7,
   "id": "1d2b78a3-1a7e-4715-a196-bc76f9748f50",
   "metadata": {
    "tags": []
   },
   "outputs": [
    {
     "name": "stdout",
     "output_type": "stream",
     "text": [
      "{\"id\":214,\"description\":\"\",\"name\":\"banks\",\"name_with_namespace\":\"annotation / banks\",\"path\":\"banks\",\"path_with_namespace\":\"annotation/banks\",\"created_at\":\"2022-06-16T08:25:18.139Z\",\"default_branch\":\"master\",\"tag_list\":[],\"ssh_url_to_repo\":\"ssh://git@ssh.gitlab.huc.knaw.nl:2222/annotation/banks.git\",\"http_url_to_repo\":\"http://gitlab.huc.knaw.nl/annotation/banks.git\",\"web_url\":\"http://gitlab.huc.knaw.nl/annotation/banks\",\"readme_url\":\"http://gitlab.huc.knaw.nl/annotation/banks/blob/master/README.md\",\"avatar_url\":null,\"star_count\":0,\"forks_count\":0,\"last_activity_at\":\"2022-06-16T17:28:28.815Z\",\"namespace\":{\"id\":71,\"name\":\"annotation\",\"path\":\"annotation\",\"kind\":\"group\",\"full_path\":\"annotation\",\"parent_id\":null,\"avatar_url\":null,\"web_url\":\"http://gitlab.huc.knaw.nl/groups/annotation\"},\"_links\":{\"self\":\"http://gitlab.huc.knaw.nl/api/v4/projects/214\",\"issues\":\"http://gitlab.huc.knaw.nl/api/v4/projects/214/issues\",\"merge_requests\":\"http://gitlab.huc.knaw.nl/api/v4/projects/214/merge_requests\",\"repo_branches\":\"http://gitlab.huc.knaw.nl/api/v4/projects/214/repository/branches\",\"labels\":\"http://gitlab.huc.knaw.nl/api/v4/projects/214/labels\",\"events\":\"http://gitlab.huc.knaw.nl/api/v4/projects/214/events\",\"members\":\"http://gitlab.huc.knaw.nl/api/v4/projects/214/members\"},\"empty_repo\":false,\"archived\":false,\"visibility\":\"internal\",\"resolve_outdated_diff_discussions\":false,\"container_registry_enabled\":true,\"issues_enabled\":true,\"merge_requests_enabled\":true,\"wiki_enabled\":true,\"jobs_enabled\":true,\"snippets_enabled\":true,\"issues_access_level\":\"enabled\",\"repository_access_level\":\"enabled\",\"merge_requests_access_level\":\"enabled\",\"wiki_access_level\":\"enabled\",\"builds_access_level\":\"enabled\",\"snippets_access_level\":\"enabled\",\"shared_runners_enabled\":true,\"lfs_enabled\":true,\"creator_id\":52,\"import_status\":\"none\",\"import_error\":null,\"open_issues_count\":0,\"runners_token\":\"EEaqjxA_SsYz6LomZgQu\",\"ci_default_git_depth\":50,\"public_jobs\":true,\"build_git_strategy\":\"fetch\",\"build_timeout\":3600,\"auto_cancel_pending_pipelines\":\"enabled\",\"build_coverage_regex\":null,\"ci_config_path\":null,\"shared_with_groups\":[],\"only_allow_merge_if_pipeline_succeeds\":false,\"request_access_enabled\":true,\"only_allow_merge_if_all_discussions_are_resolved\":false,\"remove_source_branch_after_merge\":true,\"printing_merge_request_link_enabled\":true,\"merge_method\":\"merge\",\"auto_devops_enabled\":false,\"auto_devops_deploy_strategy\":\"continuous\",\"permissions\":{\"project_access\":null,\"group_access\":{\"access_level\":50,\"notification_level\":3}}}"
     ]
    }
   ],
   "source": [
    "!curl \"{slug}/projects/214{auth}\""
   ]
  },
  {
   "cell_type": "code",
   "execution_count": 8,
   "id": "c8aff78f-648a-403c-9ab1-52a4d32fda92",
   "metadata": {
    "tags": []
   },
   "outputs": [
    {
     "name": "stdout",
     "output_type": "stream",
     "text": [
      "{\"id\":214,\"description\":\"\",\"name\":\"banks\",\"name_with_namespace\":\"annotation / banks\",\"path\":\"banks\",\"path_with_namespace\":\"annotation/banks\",\"created_at\":\"2022-06-16T08:25:18.139Z\",\"default_branch\":\"master\",\"tag_list\":[],\"ssh_url_to_repo\":\"ssh://git@ssh.gitlab.huc.knaw.nl:2222/annotation/banks.git\",\"http_url_to_repo\":\"http://gitlab.huc.knaw.nl/annotation/banks.git\",\"web_url\":\"http://gitlab.huc.knaw.nl/annotation/banks\",\"readme_url\":\"http://gitlab.huc.knaw.nl/annotation/banks/blob/master/README.md\",\"avatar_url\":null,\"star_count\":0,\"forks_count\":0,\"last_activity_at\":\"2022-06-16T17:28:28.815Z\",\"namespace\":{\"id\":71,\"name\":\"annotation\",\"path\":\"annotation\",\"kind\":\"group\",\"full_path\":\"annotation\",\"parent_id\":null,\"avatar_url\":null,\"web_url\":\"http://gitlab.huc.knaw.nl/groups/annotation\"},\"_links\":{\"self\":\"http://gitlab.huc.knaw.nl/api/v4/projects/214\",\"issues\":\"http://gitlab.huc.knaw.nl/api/v4/projects/214/issues\",\"merge_requests\":\"http://gitlab.huc.knaw.nl/api/v4/projects/214/merge_requests\",\"repo_branches\":\"http://gitlab.huc.knaw.nl/api/v4/projects/214/repository/branches\",\"labels\":\"http://gitlab.huc.knaw.nl/api/v4/projects/214/labels\",\"events\":\"http://gitlab.huc.knaw.nl/api/v4/projects/214/events\",\"members\":\"http://gitlab.huc.knaw.nl/api/v4/projects/214/members\"},\"empty_repo\":false,\"archived\":false,\"visibility\":\"internal\",\"resolve_outdated_diff_discussions\":false,\"container_registry_enabled\":true,\"issues_enabled\":true,\"merge_requests_enabled\":true,\"wiki_enabled\":true,\"jobs_enabled\":true,\"snippets_enabled\":true,\"issues_access_level\":\"enabled\",\"repository_access_level\":\"enabled\",\"merge_requests_access_level\":\"enabled\",\"wiki_access_level\":\"enabled\",\"builds_access_level\":\"enabled\",\"snippets_access_level\":\"enabled\",\"shared_runners_enabled\":true,\"lfs_enabled\":true,\"creator_id\":52,\"import_status\":\"none\",\"import_error\":null,\"open_issues_count\":0,\"runners_token\":\"EEaqjxA_SsYz6LomZgQu\",\"ci_default_git_depth\":50,\"public_jobs\":true,\"build_git_strategy\":\"fetch\",\"build_timeout\":3600,\"auto_cancel_pending_pipelines\":\"enabled\",\"build_coverage_regex\":null,\"ci_config_path\":null,\"shared_with_groups\":[],\"only_allow_merge_if_pipeline_succeeds\":false,\"request_access_enabled\":true,\"only_allow_merge_if_all_discussions_are_resolved\":false,\"remove_source_branch_after_merge\":true,\"printing_merge_request_link_enabled\":true,\"merge_method\":\"merge\",\"auto_devops_enabled\":false,\"auto_devops_deploy_strategy\":\"continuous\",\"permissions\":{\"project_access\":null,\"group_access\":{\"access_level\":50,\"notification_level\":3}}}"
     ]
    }
   ],
   "source": [
    "!curl \"{GLPATH}{auth}\""
   ]
  },
  {
   "cell_type": "code",
   "execution_count": 9,
   "id": "29bdf68c-b804-4d2d-b97b-1b0cc46afa7e",
   "metadata": {
    "tags": []
   },
   "outputs": [
    {
     "name": "stdout",
     "output_type": "stream",
     "text": [
      "[{\"id\":\"6df4abe58169bdd31acd85c64f9750b208a4c60f\",\"short_id\":\"6df4abe5\",\"created_at\":\"2022-06-16T08:43:09.000Z\",\"parent_ids\":[\"5e28b54aaf679d5fbbbf7e879a6316f323b9d330\"],\"title\":\"test\",\"message\":\"test\\n\",\"author_name\":\"Dirk Roorda\",\"author_email\":\"dirk.roorda@di.huc.knaw.nl\",\"authored_date\":\"2022-06-16T08:43:09.000Z\",\"committer_name\":\"Dirk Roorda\",\"committer_email\":\"dirk.roorda@di.huc.knaw.nl\",\"committed_date\":\"2022-06-16T08:43:09.000Z\"},{\"id\":\"5e28b54aaf679d5fbbbf7e879a6316f323b9d330\",\"short_id\":\"5e28b54a\",\"created_at\":\"2022-01-31T09:36:31.000Z\",\"parent_ids\":[\"5df379a68800729cc207cde836cd3ba77a0ed018\"],\"title\":\"tutorial\",\"message\":\"tutorial\\n\",\"author_name\":\"Dirk Roorda\",\"author_email\":\"text.annotation@icloud.com\",\"authored_date\":\"2022-01-31T09:36:31.000Z\",\"committer_name\":\"Dirk Roorda\",\"committer_email\":\"text.annotation@icloud.com\",\"committed_date\":\"2022-01-31T09:36:31.000Z\"},{\"id\":\"5df379a68800729cc207cde836cd3ba77a0ed018\",\"short_id\":\"5df379a6\",\"created_at\":\"2022-01-06T11:06:59.000Z\",\"parent_ids\":[\"1c6e648d17f5e972604ae991d587988232b64ba0\"],\"title\":\"reorg\",\"message\":\"reorg\\n\",\"author_name\":\"Dirk Roorda\",\"author_email\":\"text.annotation@icloud.com\",\"authored_date\":\"2022-01-06T11:06:59.000Z\",\"committer_name\":\"Dirk Roorda\",\"committer_email\":\"text.annotation@icloud.com\",\"committed_date\":\"2022-01-06T11:06:59.000Z\"},{\"id\":\"1c6e648d17f5e972604ae991d587988232b64ba0\",\"short_id\":\"1c6e648d\",\"created_at\":\"2021-11-24T13:49:21.000Z\",\"parent_ids\":[\"4a724ed593f520816f02bc013135944b40c2dfc5\"],\"title\":\"readme\",\"message\":\"readme\\n\",\"author_name\":\"Dirk Roorda\",\"author_email\":\"dirk.roorda@dans.knaw.nl\",\"authored_date\":\"2021-11-24T13:49:21.000Z\",\"committer_name\":\"Dirk Roorda\",\"committer_email\":\"dirk.roorda@dans.knaw.nl\",\"committed_date\":\"2021-11-24T13:49:21.000Z\"},{\"id\":\"4a724ed593f520816f02bc013135944b40c2dfc5\",\"short_id\":\"4a724ed5\",\"created_at\":\"2020-08-27T15:35:37.000Z\",\"parent_ids\":[\"4fc68c6f0bf20ef7070a82ec534416bf39b836a2\"],\"title\":\"credits\",\"message\":\"credits\\n\",\"author_name\":\"Dirk Roorda\",\"author_email\":\"dirk.roorda@dans.knaw.nl\",\"authored_date\":\"2020-08-27T15:35:37.000Z\",\"committer_name\":\"Dirk Roorda\",\"committer_email\":\"dirk.roorda@dans.knaw.nl\",\"committed_date\":\"2020-08-27T15:35:37.000Z\"},{\"id\":\"4fc68c6f0bf20ef7070a82ec534416bf39b836a2\",\"short_id\":\"4fc68c6f\",\"created_at\":\"2020-06-26T14:23:46.000Z\",\"parent_ids\":[\"8d87675fd02ee96ad6f4c3a5ce99e0bda8277a54\"],\"title\":\"readme badges\",\"message\":\"readme badges\\n\",\"author_name\":\"Dirk Roorda\",\"author_email\":\"dirk.roorda@dans.knaw.nl\",\"authored_date\":\"2020-06-26T14:23:46.000Z\",\"committer_name\":\"Dirk Roorda\",\"committer_email\":\"dirk.roorda@dans.knaw.nl\",\"committed_date\":\"2020-06-26T14:23:46.000Z\"},{\"id\":\"8d87675fd02ee96ad6f4c3a5ce99e0bda8277a54\",\"short_id\":\"8d87675f\",\"created_at\":\"2019-12-11T17:35:08.000Z\",\"parent_ids\":[\"0c148b3af1fb8801d1300866b0e72441a59b9548\"],\"title\":\"swh-badge\",\"message\":\"swh-badge\\n\",\"author_name\":\"Dirk Roorda\",\"author_email\":\"dirk.roorda@dans.knaw.nl\",\"authored_date\":\"2019-12-11T17:35:08.000Z\",\"committer_name\":\"Dirk Roorda\",\"committer_email\":\"dirk.roorda@dans.knaw.nl\",\"committed_date\":\"2019-12-11T17:35:08.000Z\"},{\"id\":\"0c148b3af1fb8801d1300866b0e72441a59b9548\",\"short_id\":\"0c148b3a\",\"created_at\":\"2019-05-20T19:13:08.000Z\",\"parent_ids\":[\"9880541ad1de45d0eff01f035265e05d590c9be0\"],\"title\":\"cv.activeTypes\",\"message\":\"cv.activeTypes\\n\",\"author_name\":\"Dirk Roorda\",\"author_email\":\"dirk.roorda@dans.knaw.nl\",\"authored_date\":\"2019-05-20T19:13:08.000Z\",\"committer_name\":\"Dirk Roorda\",\"committer_email\":\"dirk.roorda@dans.knaw.nl\",\"committed_date\":\"2019-05-20T19:13:08.000Z\"},{\"id\":\"9880541ad1de45d0eff01f035265e05d590c9be0\",\"short_id\":\"9880541a\",\"created_at\":\"2019-05-16T07:38:03.000Z\",\"parent_ids\":[\"7698c97f3a060838f9406b08bef9959e293ab16a\"],\"title\":\"memopt\",\"message\":\"memopt\\n\",\"author_name\":\"Dirk Roorda\",\"author_email\":\"dirk.roorda@dans.knaw.nl\",\"authored_date\":\"2019-05-16T07:38:03.000Z\",\"committer_name\":\"Dirk Roorda\",\"committer_email\":\"dirk.roorda@dans.knaw.nl\",\"committed_date\":\"2019-05-16T07:38:03.000Z\"},{\"id\":\"7698c97f3a060838f9406b08bef9959e293ab16a\",\"short_id\":\"7698c97f\",\"created_at\":\"2019-05-13T10:27:34.000Z\",\"parent_ids\":[\"13ec0c7d8fc9bf8a5e261dccadc721051300c8b6\"],\"title\":\"structure\",\"message\":\"structure\\n\",\"author_name\":\"Dirk Roorda\",\"author_email\":\"dirk.roorda@dans.knaw.nl\",\"authored_date\":\"2019-05-13T10:27:34.000Z\",\"committer_name\":\"Dirk Roorda\",\"committer_email\":\"dirk.roorda@dans.knaw.nl\",\"committed_date\":\"2019-05-13T10:27:34.000Z\"},{\"id\":\"13ec0c7d8fc9bf8a5e261dccadc721051300c8b6\",\"short_id\":\"13ec0c7d\",\"created_at\":\"2019-05-12T10:21:11.000Z\",\"parent_ids\":[\"3dcd8697a1873ceefb21e3e13a70a10db331ee0c\"],\"title\":\"structure\",\"message\":\"structure\\n\",\"author_name\":\"Dirk Roorda\",\"author_email\":\"dirk.roorda@dans.knaw.nl\",\"authored_date\":\"2019-05-12T10:21:11.000Z\",\"committer_name\":\"Dirk Roorda\",\"committer_email\":\"dirk.roorda@dans.knaw.nl\",\"committed_date\":\"2019-05-12T10:21:11.000Z\"},{\"id\":\"3dcd8697a1873ceefb21e3e13a70a10db331ee0c\",\"short_id\":\"3dcd8697\",\"created_at\":\"2019-04-25T14:33:13.000Z\",\"parent_ids\":[\"2209b344918cb9b6aeb6337366ea4da1f68e2e85\"],\"title\":\"cv.meta\",\"message\":\"cv.meta\\n\",\"author_name\":\"Dirk Roorda\",\"author_email\":\"dirk.roorda@dans.knaw.nl\",\"authored_date\":\"2019-04-25T14:33:13.000Z\",\"committer_name\":\"Dirk Roorda\",\"committer_email\":\"dirk.roorda@dans.knaw.nl\",\"committed_date\":\"2019-04-25T14:33:13.000Z\"},{\"id\":\"2209b344918cb9b6aeb6337366ea4da1f68e2e85\",\"short_id\":\"2209b344\",\"created_at\":\"2019-04-11T11:06:14.000Z\",\"parent_ids\":[\"d85066b124504da47e56be112fdf420facc575ab\"],\"title\":\"fixes\",\"message\":\"fixes\\n\",\"author_name\":\"Dirk Roorda\",\"author_email\":\"dirk.roorda@dans.knaw.nl\",\"authored_date\":\"2019-04-11T11:06:14.000Z\",\"committer_name\":\"Dirk Roorda\",\"committer_email\":\"dirk.roorda@dans.knaw.nl\",\"committed_date\":\"2019-04-11T11:06:14.000Z\"},{\"id\":\"d85066b124504da47e56be112fdf420facc575ab\",\"short_id\":\"d85066b1\",\"created_at\":\"2019-04-10T07:35:05.000Z\",\"parent_ids\":[\"b5e29e7805c30e17641ca517eb2304f4d10c2281\"],\"title\":\"fixes\",\"message\":\"fixes\\n\",\"author_name\":\"Dirk Roorda\",\"author_email\":\"dirk.roorda@dans.knaw.nl\",\"authored_date\":\"2019-04-10T07:35:05.000Z\",\"committer_name\":\"Dirk Roorda\",\"committer_email\":\"dirk.roorda@dans.knaw.nl\",\"committed_date\":\"2019-04-10T07:35:05.000Z\"},{\"id\":\"b5e29e7805c30e17641ca517eb2304f4d10c2281\",\"short_id\":\"b5e29e78\",\"created_at\":\"2019-04-09T14:24:38.000Z\",\"parent_ids\":[\"7ddc482a9a6b15f0d4a4d2c256f40cdfb366791f\"],\"title\":\"similarities\",\"message\":\"similarities\\n\",\"author_name\":\"Dirk Roorda\",\"author_email\":\"dirk.roorda@dans.knaw.nl\",\"authored_date\":\"2019-04-09T14:24:38.000Z\",\"committer_name\":\"Dirk Roorda\",\"committer_email\":\"dirk.roorda@dans.knaw.nl\",\"committed_date\":\"2019-04-09T14:24:38.000Z\"},{\"id\":\"7ddc482a9a6b15f0d4a4d2c256f40cdfb366791f\",\"short_id\":\"7ddc482a\",\"created_at\":\"2019-04-09T14:20:05.000Z\",\"parent_ids\":[\"4c9cc7e25531d521403de8508d54a717e8f02803\"],\"title\":\"readme\",\"message\":\"readme\\n\",\"author_name\":\"Dirk Roorda\",\"author_email\":\"dirk.roorda@dans.knaw.nl\",\"authored_date\":\"2019-04-09T14:20:05.000Z\",\"committer_name\":\"Dirk Roorda\",\"committer_email\":\"dirk.roorda@dans.knaw.nl\",\"committed_date\":\"2019-04-09T14:20:05.000Z\"},{\"id\":\"4c9cc7e25531d521403de8508d54a717e8f02803\",\"short_id\":\"4c9cc7e2\",\"created_at\":\"2019-04-09T14:17:00.000Z\",\"parent_ids\":[\"33f757ed47d14816f523162244c2e31dcaf0a208\"],\"title\":\"readme\",\"message\":\"readme\\n\",\"author_name\":\"Dirk Roorda\",\"author_email\":\"dirk.roorda@dans.knaw.nl\",\"authored_date\":\"2019-04-09T14:17:00.000Z\",\"committer_name\":\"Dirk Roorda\",\"committer_email\":\"dirk.roorda@dans.knaw.nl\",\"committed_date\":\"2019-04-09T14:17:00.000Z\"},{\"id\":\"33f757ed47d14816f523162244c2e31dcaf0a208\",\"short_id\":\"33f757ed\",\"created_at\":\"2019-04-09T14:15:00.000Z\",\"parent_ids\":[\"436e0d99b023983b9a8f52d01f7bce64fd985871\"],\"title\":\"prepared for sims\",\"message\":\"prepared for sims\\n\",\"author_name\":\"Dirk Roorda\",\"author_email\":\"dirk.roorda@dans.knaw.nl\",\"authored_date\":\"2019-04-09T14:15:00.000Z\",\"committer_name\":\"Dirk Roorda\",\"committer_email\":\"dirk.roorda@dans.knaw.nl\",\"committed_date\":\"2019-04-09T14:15:00.000Z\"},{\"id\":\"436e0d99b023983b9a8f52d01f7bce64fd985871\",\"short_id\":\"436e0d99\",\"created_at\":\"2019-04-09T14:12:00.000Z\",\"parent_ids\":[\"427b65f5a782c84b618389aa6d76236deab134f3\"],\"title\":\"version 0.2\",\"message\":\"version 0.2\\n\",\"author_name\":\"Dirk Roorda\",\"author_email\":\"dirk.roorda@dans.knaw.nl\",\"authored_date\":\"2019-04-09T14:12:00.000Z\",\"committer_name\":\"Dirk Roorda\",\"committer_email\":\"dirk.roorda@dans.knaw.nl\",\"committed_date\":\"2019-04-09T14:12:00.000Z\"},{\"id\":\"427b65f5a782c84b618389aa6d76236deab134f3\",\"short_id\":\"427b65f5\",\"created_at\":\"2019-04-09T14:10:31.000Z\",\"parent_ids\":[\"a8e1831a47d53133aa770c746ab3c76c3bcbc1c9\"],\"title\":\"tweak in metadata\",\"message\":\"tweak in metadata\\n\",\"author_name\":\"Dirk Roorda\",\"author_email\":\"dirk.roorda@dans.knaw.nl\",\"authored_date\":\"2019-04-09T14:10:31.000Z\",\"committer_name\":\"Dirk Roorda\",\"committer_email\":\"dirk.roorda@dans.knaw.nl\",\"committed_date\":\"2019-04-09T14:10:31.000Z\"}]"
     ]
    }
   ],
   "source": [
    "!curl \"{GLPATH}/repository/commits{auth}\""
   ]
  },
  {
   "cell_type": "code",
   "execution_count": 10,
   "id": "15f759cd-9482-4e82-afbb-00cda40adbc9",
   "metadata": {
    "tags": []
   },
   "outputs": [
    {
     "name": "stdout",
     "output_type": "stream",
     "text": [
      "  % Total    % Received % Xferd  Average Speed   Time    Time     Time  Current\n",
      "                                 Dload  Upload   Total   Spent    Left  Speed\n",
      "100  516k    0  516k    0     0  2364k      0 --:--:-- --:--:-- --:--:-- 2457k\n"
     ]
    }
   ],
   "source": [
    "!curl --output {DOWNLOAD} \"{GLPATH}/repository/archive.zip{auth}&path={ZIPPATH}\""
   ]
  },
  {
   "cell_type": "code",
   "execution_count": 11,
   "id": "fb9e12d4-3971-48de-9bef-f8c885999006",
   "metadata": {},
   "outputs": [
    {
     "name": "stdout",
     "output_type": "stream",
     "text": [
      "[{\"name\":\"Zenodo\",\"tag_name\":\"v3.0\",\"description\":\"readme badges\",\"description_html\":\"\\u003cp data-sourcepos=\\\"1:1-1:13\\\" dir=\\\"auto\\\"\\u003ereadme badges\\u003c/p\\u003e\",\"created_at\":\"2022-06-16T08:50:09.485Z\",\"released_at\":\"2022-06-16T08:50:09.483Z\",\"author\":{\"id\":52,\"name\":\"Dirk Roorda\",\"username\":\"dirk.roorda\",\"state\":\"active\",\"avatar_url\":\"https://www.gravatar.com/avatar/5ceb75ea9ecebbe550652cd736c5053b?s=80\\u0026d=identicon\",\"web_url\":\"http://gitlab.huc.knaw.nl/dirk.roorda\"},\"commit\":{\"id\":\"4fc68c6f0bf20ef7070a82ec534416bf39b836a2\",\"short_id\":\"4fc68c6f\",\"created_at\":\"2020-06-26T16:23:46.000+02:00\",\"parent_ids\":[\"8d87675fd02ee96ad6f4c3a5ce99e0bda8277a54\"],\"title\":\"readme badges\",\"message\":\"readme badges\\n\",\"author_name\":\"Dirk Roorda\",\"author_email\":\"dirk.roorda@dans.knaw.nl\",\"authored_date\":\"2020-06-26T16:23:46.000+02:00\",\"committer_name\":\"Dirk Roorda\",\"committer_email\":\"dirk.roorda@dans.knaw.nl\",\"committed_date\":\"2020-06-26T16:23:46.000+02:00\"},\"upcoming_release\":false,\"commit_path\":\"/annotation/banks/commit/4fc68c6f0bf20ef7070a82ec534416bf39b836a2\",\"tag_path\":\"/annotation/banks/-/tags/v3.0\",\"assets\":{\"count\":4,\"sources\":[{\"format\":\"zip\",\"url\":\"http://gitlab.huc.knaw.nl/annotation/banks/-/archive/v3.0/banks-v3.0.zip\"},{\"format\":\"tar.gz\",\"url\":\"http://gitlab.huc.knaw.nl/annotation/banks/-/archive/v3.0/banks-v3.0.tar.gz\"},{\"format\":\"tar.bz2\",\"url\":\"http://gitlab.huc.knaw.nl/annotation/banks/-/archive/v3.0/banks-v3.0.tar.bz2\"},{\"format\":\"tar\",\"url\":\"http://gitlab.huc.knaw.nl/annotation/banks/-/archive/v3.0/banks-v3.0.tar\"}],\"links\":[]},\"_links\":{\"edit_url\":\"http://gitlab.huc.knaw.nl/annotation/banks/-/releases/v3.0/edit\"}},{\"name\":\"Version 0.2 of the data\",\"tag_name\":\"v2.0\",\"description\":\"Data upgraded to version 0.2.\\nReadme updated.\",\"description_html\":\"\\u003cp data-sourcepos=\\\"1:1-2:15\\\" dir=\\\"auto\\\"\\u003eData upgraded to version 0.2.\\u0026#x000A;Readme updated.\\u003c/p\\u003e\",\"created_at\":\"2022-06-16T08:50:08.071Z\",\"released_at\":\"2022-06-16T08:50:08.068Z\",\"author\":{\"id\":52,\"name\":\"Dirk Roorda\",\"username\":\"dirk.roorda\",\"state\":\"active\",\"avatar_url\":\"https://www.gravatar.com/avatar/5ceb75ea9ecebbe550652cd736c5053b?s=80\\u0026d=identicon\",\"web_url\":\"http://gitlab.huc.knaw.nl/dirk.roorda\"},\"commit\":{\"id\":\"9713e71c18fd296cf1860d6411312f9127710ba7\",\"short_id\":\"9713e71c\",\"created_at\":\"2019-04-09T16:20:05.000+02:00\",\"parent_ids\":[\"d27b97a889d5c9eed861bef9acbb5ea307ec4ec3\"],\"title\":\"readme\",\"message\":\"readme\\n\",\"author_name\":\"Dirk Roorda\",\"author_email\":\"dirk.roorda@dans.knaw.nl\",\"authored_date\":\"2019-04-09T16:20:05.000+02:00\",\"committer_name\":\"Dirk Roorda\",\"committer_email\":\"dirk.roorda@dans.knaw.nl\",\"committed_date\":\"2019-04-09T16:20:05.000+02:00\"},\"upcoming_release\":false,\"commit_path\":\"/annotation/banks/commit/9713e71c18fd296cf1860d6411312f9127710ba7\",\"tag_path\":\"/annotation/banks/-/tags/v2.0\",\"assets\":{\"count\":4,\"sources\":[{\"format\":\"zip\",\"url\":\"http://gitlab.huc.knaw.nl/annotation/banks/-/archive/v2.0/banks-v2.0.zip\"},{\"format\":\"tar.gz\",\"url\":\"http://gitlab.huc.knaw.nl/annotation/banks/-/archive/v2.0/banks-v2.0.tar.gz\"},{\"format\":\"tar.bz2\",\"url\":\"http://gitlab.huc.knaw.nl/annotation/banks/-/archive/v2.0/banks-v2.0.tar.bz2\"},{\"format\":\"tar\",\"url\":\"http://gitlab.huc.knaw.nl/annotation/banks/-/archive/v2.0/banks-v2.0.tar\"}],\"links\":[]},\"_links\":{\"edit_url\":\"http://gitlab.huc.knaw.nl/annotation/banks/-/releases/v2.0/edit\"}},{\"name\":\"First conversion to TF\",\"tag_name\":\"v1.0\",\"description\":\"Features have been produced.\\nFeatures have the version as metadata in them.\",\"description_html\":\"\\u003cp data-sourcepos=\\\"1:1-2:46\\\" dir=\\\"auto\\\"\\u003eFeatures have been produced.\\u0026#x000A;Features have the version as metadata in them.\\u003c/p\\u003e\",\"created_at\":\"2022-06-16T08:50:06.784Z\",\"released_at\":\"2022-06-16T08:50:06.781Z\",\"author\":{\"id\":52,\"name\":\"Dirk Roorda\",\"username\":\"dirk.roorda\",\"state\":\"active\",\"avatar_url\":\"https://www.gravatar.com/avatar/5ceb75ea9ecebbe550652cd736c5053b?s=80\\u0026d=identicon\",\"web_url\":\"http://gitlab.huc.knaw.nl/dirk.roorda\"},\"commit\":{\"id\":\"5b7dca212dd456e705f4c2cb1aa0f895ab5b2fc9\",\"short_id\":\"5b7dca21\",\"created_at\":\"2019-04-09T15:58:16.000+02:00\",\"parent_ids\":[\"a81746c5f9627637db4dae04c2d5348bda9e511a\"],\"title\":\"added version metadata: 0.1\",\"message\":\"added version metadata: 0.1\\n\",\"author_name\":\"Dirk Roorda\",\"author_email\":\"dirk.roorda@dans.knaw.nl\",\"authored_date\":\"2019-04-09T15:58:16.000+02:00\",\"committer_name\":\"Dirk Roorda\",\"committer_email\":\"dirk.roorda@dans.knaw.nl\",\"committed_date\":\"2019-04-09T15:58:16.000+02:00\"},\"upcoming_release\":false,\"commit_path\":\"/annotation/banks/commit/5b7dca212dd456e705f4c2cb1aa0f895ab5b2fc9\",\"tag_path\":\"/annotation/banks/-/tags/v1.0\",\"assets\":{\"count\":4,\"sources\":[{\"format\":\"zip\",\"url\":\"http://gitlab.huc.knaw.nl/annotation/banks/-/archive/v1.0/banks-v1.0.zip\"},{\"format\":\"tar.gz\",\"url\":\"http://gitlab.huc.knaw.nl/annotation/banks/-/archive/v1.0/banks-v1.0.tar.gz\"},{\"format\":\"tar.bz2\",\"url\":\"http://gitlab.huc.knaw.nl/annotation/banks/-/archive/v1.0/banks-v1.0.tar.bz2\"},{\"format\":\"tar\",\"url\":\"http://gitlab.huc.knaw.nl/annotation/banks/-/archive/v1.0/banks-v1.0.tar\"}],\"links\":[]},\"_links\":{\"edit_url\":\"http://gitlab.huc.knaw.nl/annotation/banks/-/releases/v1.0/edit\"}}]"
     ]
    }
   ],
   "source": [
    "!curl \"{GLPATH}/releases{auth}\""
   ]
  },
  {
   "cell_type": "markdown",
   "id": "6461ec19-20b2-4a5e-a279-816505d31d83",
   "metadata": {},
   "source": [
    "# Via Python-Gitlab"
   ]
  },
  {
   "cell_type": "code",
   "execution_count": 12,
   "id": "9ee11977-564d-4783-958e-5eaf56751c3e",
   "metadata": {
    "tags": []
   },
   "outputs": [],
   "source": [
    "glConn = Gitlab(HOST, private_token=GLPERS)"
   ]
  },
  {
   "cell_type": "code",
   "execution_count": 13,
   "id": "c44c0b4f-e4dc-47c9-8f7d-7f30796fce61",
   "metadata": {},
   "outputs": [
    {
     "data": {
      "text/plain": [
       "('12.5.4-ee', '2a57951c0ee')"
      ]
     },
     "execution_count": 13,
     "metadata": {},
     "output_type": "execute_result"
    }
   ],
   "source": [
    "glConn.version()"
   ]
  },
  {
   "cell_type": "code",
   "execution_count": 14,
   "id": "c9da9bfb-29b7-4f72-a72a-7aa392f730d6",
   "metadata": {
    "tags": []
   },
   "outputs": [
    {
     "name": "stdout",
     "output_type": "stream",
     "text": [
      "<class 'gitlab.v4.objects.projects.Project'> => {'id': 214, 'description': '', 'name': 'banks', 'name_with_namespace': 'annotation / banks', 'path': 'banks', 'path_with_namespace': 'annotation/banks', 'created_at': '2022-06-16T08:25:18.139Z', 'default_branch': 'master', 'tag_list': [], 'ssh_url_to_repo': 'ssh://git@ssh.gitlab.huc.knaw.nl:2222/annotation/banks.git', 'http_url_to_repo': 'http://gitlab.huc.knaw.nl/annotation/banks.git', 'web_url': 'http://gitlab.huc.knaw.nl/annotation/banks', 'readme_url': 'http://gitlab.huc.knaw.nl/annotation/banks/blob/master/README.md', 'avatar_url': None, 'star_count': 0, 'forks_count': 0, 'last_activity_at': '2022-06-16T17:28:28.815Z', 'namespace': {'id': 71, 'name': 'annotation', 'path': 'annotation', 'kind': 'group', 'full_path': 'annotation', 'parent_id': None, 'avatar_url': None, 'web_url': 'http://gitlab.huc.knaw.nl/groups/annotation'}, '_links': {'self': 'http://gitlab.huc.knaw.nl/api/v4/projects/214', 'issues': 'http://gitlab.huc.knaw.nl/api/v4/projects/214/issues', 'merge_requests': 'http://gitlab.huc.knaw.nl/api/v4/projects/214/merge_requests', 'repo_branches': 'http://gitlab.huc.knaw.nl/api/v4/projects/214/repository/branches', 'labels': 'http://gitlab.huc.knaw.nl/api/v4/projects/214/labels', 'events': 'http://gitlab.huc.knaw.nl/api/v4/projects/214/events', 'members': 'http://gitlab.huc.knaw.nl/api/v4/projects/214/members'}, 'empty_repo': False, 'archived': False, 'visibility': 'internal', 'resolve_outdated_diff_discussions': False, 'container_registry_enabled': True, 'issues_enabled': True, 'merge_requests_enabled': True, 'wiki_enabled': True, 'jobs_enabled': True, 'snippets_enabled': True, 'issues_access_level': 'enabled', 'repository_access_level': 'enabled', 'merge_requests_access_level': 'enabled', 'wiki_access_level': 'enabled', 'builds_access_level': 'enabled', 'snippets_access_level': 'enabled', 'shared_runners_enabled': True, 'lfs_enabled': True, 'creator_id': 52, 'import_status': 'none', 'import_error': None, 'open_issues_count': 0, 'runners_token': 'EEaqjxA_SsYz6LomZgQu', 'ci_default_git_depth': 50, 'public_jobs': True, 'build_git_strategy': 'fetch', 'build_timeout': 3600, 'auto_cancel_pending_pipelines': 'enabled', 'build_coverage_regex': None, 'ci_config_path': None, 'shared_with_groups': [], 'only_allow_merge_if_pipeline_succeeds': False, 'request_access_enabled': True, 'only_allow_merge_if_all_discussions_are_resolved': False, 'remove_source_branch_after_merge': True, 'printing_merge_request_link_enabled': True, 'merge_method': 'merge', 'auto_devops_enabled': False, 'auto_devops_deploy_strategy': 'continuous', 'permissions': {'project_access': None, 'group_access': {'access_level': 50, 'notification_level': 3}}}\n"
     ]
    }
   ],
   "source": [
    "project = glConn.projects.get(f\"{ORG}/{REPO}\")\n",
    "print(project)"
   ]
  },
  {
   "cell_type": "code",
   "execution_count": 15,
   "id": "0ab29e90-c350-4e15-80b0-1550070eb1a4",
   "metadata": {},
   "outputs": [
    {
     "name": "stdout",
     "output_type": "stream",
     "text": [
      "[<ProjectCommit id:6df4abe58169bdd31acd85c64f9750b208a4c60f title:test>, <ProjectCommit id:5e28b54aaf679d5fbbbf7e879a6316f323b9d330 title:tutorial>, <ProjectCommit id:5df379a68800729cc207cde836cd3ba77a0ed018 title:reorg>, <ProjectCommit id:1c6e648d17f5e972604ae991d587988232b64ba0 title:readme>, <ProjectCommit id:4a724ed593f520816f02bc013135944b40c2dfc5 title:credits>, <ProjectCommit id:4fc68c6f0bf20ef7070a82ec534416bf39b836a2 title:readme badges>, <ProjectCommit id:8d87675fd02ee96ad6f4c3a5ce99e0bda8277a54 title:swh-badge>, <ProjectCommit id:0c148b3af1fb8801d1300866b0e72441a59b9548 title:cv.activeTypes>, <ProjectCommit id:9880541ad1de45d0eff01f035265e05d590c9be0 title:memopt>, <ProjectCommit id:7698c97f3a060838f9406b08bef9959e293ab16a title:structure>, <ProjectCommit id:13ec0c7d8fc9bf8a5e261dccadc721051300c8b6 title:structure>, <ProjectCommit id:3dcd8697a1873ceefb21e3e13a70a10db331ee0c title:cv.meta>, <ProjectCommit id:2209b344918cb9b6aeb6337366ea4da1f68e2e85 title:fixes>, <ProjectCommit id:d85066b124504da47e56be112fdf420facc575ab title:fixes>, <ProjectCommit id:b5e29e7805c30e17641ca517eb2304f4d10c2281 title:similarities>, <ProjectCommit id:7ddc482a9a6b15f0d4a4d2c256f40cdfb366791f title:readme>, <ProjectCommit id:4c9cc7e25531d521403de8508d54a717e8f02803 title:readme>, <ProjectCommit id:33f757ed47d14816f523162244c2e31dcaf0a208 title:prepared for sims>, <ProjectCommit id:436e0d99b023983b9a8f52d01f7bce64fd985871 title:version 0.2>, <ProjectCommit id:427b65f5a782c84b618389aa6d76236deab134f3 title:tweak in metadata>, <ProjectCommit id:a8e1831a47d53133aa770c746ab3c76c3bcbc1c9 title:added version metadata: 0.1>, <ProjectCommit id:e3f9b16860f0b065a6bfb307b18602ef57721e92 title:first production>, <ProjectCommit id:6ac4fe5bfcaa8a719974c12ac3286fb080e4d29c title:Initial commit>]\n"
     ]
    }
   ],
   "source": [
    "commits = project.commits.list(all=True)\n",
    "print(commits)"
   ]
  },
  {
   "cell_type": "code",
   "execution_count": 16,
   "id": "ed4db754-c3c4-452e-a61e-30b9e6925424",
   "metadata": {},
   "outputs": [
    {
     "data": {
      "text/plain": [
       "23"
      ]
     },
     "execution_count": 16,
     "metadata": {},
     "output_type": "execute_result"
    }
   ],
   "source": [
    "len(commits)"
   ]
  },
  {
   "cell_type": "code",
   "execution_count": 17,
   "id": "73d72d0c-0590-41ae-9d36-db09a368c35f",
   "metadata": {
    "tags": []
   },
   "outputs": [
    {
     "name": "stdout",
     "output_type": "stream",
     "text": [
      "<class 'gitlab.v4.objects.commits.ProjectCommit'> => {'id': '6df4abe58169bdd31acd85c64f9750b208a4c60f', 'short_id': '6df4abe5', 'created_at': '2022-06-16T08:43:09.000Z', 'parent_ids': ['5e28b54aaf679d5fbbbf7e879a6316f323b9d330'], 'title': 'test', 'message': 'test\\n', 'author_name': 'Dirk Roorda', 'author_email': 'dirk.roorda@di.huc.knaw.nl', 'authored_date': '2022-06-16T08:43:09.000Z', 'committer_name': 'Dirk Roorda', 'committer_email': 'dirk.roorda@di.huc.knaw.nl', 'committed_date': '2022-06-16T08:43:09.000Z'}\n",
      "[{'type': 'branch', 'name': 'master'}]\n",
      "<class 'gitlab.v4.objects.commits.ProjectCommit'> => {'id': '5e28b54aaf679d5fbbbf7e879a6316f323b9d330', 'short_id': '5e28b54a', 'created_at': '2022-01-31T09:36:31.000Z', 'parent_ids': ['5df379a68800729cc207cde836cd3ba77a0ed018'], 'title': 'tutorial', 'message': 'tutorial\\n', 'author_name': 'Dirk Roorda', 'author_email': 'text.annotation@icloud.com', 'authored_date': '2022-01-31T09:36:31.000Z', 'committer_name': 'Dirk Roorda', 'committer_email': 'text.annotation@icloud.com', 'committed_date': '2022-01-31T09:36:31.000Z'}\n",
      "[{'type': 'branch', 'name': 'master'}]\n",
      "<class 'gitlab.v4.objects.commits.ProjectCommit'> => {'id': '5df379a68800729cc207cde836cd3ba77a0ed018', 'short_id': '5df379a6', 'created_at': '2022-01-06T11:06:59.000Z', 'parent_ids': ['1c6e648d17f5e972604ae991d587988232b64ba0'], 'title': 'reorg', 'message': 'reorg\\n', 'author_name': 'Dirk Roorda', 'author_email': 'text.annotation@icloud.com', 'authored_date': '2022-01-06T11:06:59.000Z', 'committer_name': 'Dirk Roorda', 'committer_email': 'text.annotation@icloud.com', 'committed_date': '2022-01-06T11:06:59.000Z'}\n",
      "[{'type': 'branch', 'name': 'master'}, {'type': 'tag', 'name': 'v3.1'}]\n",
      "<class 'gitlab.v4.objects.commits.ProjectCommit'> => {'id': '1c6e648d17f5e972604ae991d587988232b64ba0', 'short_id': '1c6e648d', 'created_at': '2021-11-24T13:49:21.000Z', 'parent_ids': ['4a724ed593f520816f02bc013135944b40c2dfc5'], 'title': 'readme', 'message': 'readme\\n', 'author_name': 'Dirk Roorda', 'author_email': 'dirk.roorda@dans.knaw.nl', 'authored_date': '2021-11-24T13:49:21.000Z', 'committer_name': 'Dirk Roorda', 'committer_email': 'dirk.roorda@dans.knaw.nl', 'committed_date': '2021-11-24T13:49:21.000Z'}\n",
      "[{'type': 'branch', 'name': 'master'}, {'type': 'tag', 'name': 'v3.1'}]\n",
      "<class 'gitlab.v4.objects.commits.ProjectCommit'> => {'id': '4a724ed593f520816f02bc013135944b40c2dfc5', 'short_id': '4a724ed5', 'created_at': '2020-08-27T15:35:37.000Z', 'parent_ids': ['4fc68c6f0bf20ef7070a82ec534416bf39b836a2'], 'title': 'credits', 'message': 'credits\\n', 'author_name': 'Dirk Roorda', 'author_email': 'dirk.roorda@dans.knaw.nl', 'authored_date': '2020-08-27T15:35:37.000Z', 'committer_name': 'Dirk Roorda', 'committer_email': 'dirk.roorda@dans.knaw.nl', 'committed_date': '2020-08-27T15:35:37.000Z'}\n",
      "[{'type': 'branch', 'name': 'master'}, {'type': 'tag', 'name': 'v3.1'}]\n",
      "<class 'gitlab.v4.objects.commits.ProjectCommit'> => {'id': '4fc68c6f0bf20ef7070a82ec534416bf39b836a2', 'short_id': '4fc68c6f', 'created_at': '2020-06-26T14:23:46.000Z', 'parent_ids': ['8d87675fd02ee96ad6f4c3a5ce99e0bda8277a54'], 'title': 'readme badges', 'message': 'readme badges\\n', 'author_name': 'Dirk Roorda', 'author_email': 'dirk.roorda@dans.knaw.nl', 'authored_date': '2020-06-26T14:23:46.000Z', 'committer_name': 'Dirk Roorda', 'committer_email': 'dirk.roorda@dans.knaw.nl', 'committed_date': '2020-06-26T14:23:46.000Z'}\n",
      "[{'type': 'branch', 'name': 'master'}, {'type': 'tag', 'name': 'v3.0'}, {'type': 'tag', 'name': 'v3.1'}]\n",
      "<class 'gitlab.v4.objects.commits.ProjectCommit'> => {'id': '8d87675fd02ee96ad6f4c3a5ce99e0bda8277a54', 'short_id': '8d87675f', 'created_at': '2019-12-11T17:35:08.000Z', 'parent_ids': ['0c148b3af1fb8801d1300866b0e72441a59b9548'], 'title': 'swh-badge', 'message': 'swh-badge\\n', 'author_name': 'Dirk Roorda', 'author_email': 'dirk.roorda@dans.knaw.nl', 'authored_date': '2019-12-11T17:35:08.000Z', 'committer_name': 'Dirk Roorda', 'committer_email': 'dirk.roorda@dans.knaw.nl', 'committed_date': '2019-12-11T17:35:08.000Z'}\n",
      "[{'type': 'branch', 'name': 'master'}, {'type': 'tag', 'name': 'v3.0'}, {'type': 'tag', 'name': 'v3.1'}]\n",
      "<class 'gitlab.v4.objects.commits.ProjectCommit'> => {'id': '0c148b3af1fb8801d1300866b0e72441a59b9548', 'short_id': '0c148b3a', 'created_at': '2019-05-20T19:13:08.000Z', 'parent_ids': ['9880541ad1de45d0eff01f035265e05d590c9be0'], 'title': 'cv.activeTypes', 'message': 'cv.activeTypes\\n', 'author_name': 'Dirk Roorda', 'author_email': 'dirk.roorda@dans.knaw.nl', 'authored_date': '2019-05-20T19:13:08.000Z', 'committer_name': 'Dirk Roorda', 'committer_email': 'dirk.roorda@dans.knaw.nl', 'committed_date': '2019-05-20T19:13:08.000Z'}\n",
      "[{'type': 'branch', 'name': 'master'}, {'type': 'tag', 'name': 'v3.0'}, {'type': 'tag', 'name': 'v3.1'}]\n",
      "<class 'gitlab.v4.objects.commits.ProjectCommit'> => {'id': '9880541ad1de45d0eff01f035265e05d590c9be0', 'short_id': '9880541a', 'created_at': '2019-05-16T07:38:03.000Z', 'parent_ids': ['7698c97f3a060838f9406b08bef9959e293ab16a'], 'title': 'memopt', 'message': 'memopt\\n', 'author_name': 'Dirk Roorda', 'author_email': 'dirk.roorda@dans.knaw.nl', 'authored_date': '2019-05-16T07:38:03.000Z', 'committer_name': 'Dirk Roorda', 'committer_email': 'dirk.roorda@dans.knaw.nl', 'committed_date': '2019-05-16T07:38:03.000Z'}\n",
      "[{'type': 'branch', 'name': 'master'}, {'type': 'tag', 'name': 'v3.0'}, {'type': 'tag', 'name': 'v3.1'}]\n",
      "<class 'gitlab.v4.objects.commits.ProjectCommit'> => {'id': '7698c97f3a060838f9406b08bef9959e293ab16a', 'short_id': '7698c97f', 'created_at': '2019-05-13T10:27:34.000Z', 'parent_ids': ['13ec0c7d8fc9bf8a5e261dccadc721051300c8b6'], 'title': 'structure', 'message': 'structure\\n', 'author_name': 'Dirk Roorda', 'author_email': 'dirk.roorda@dans.knaw.nl', 'authored_date': '2019-05-13T10:27:34.000Z', 'committer_name': 'Dirk Roorda', 'committer_email': 'dirk.roorda@dans.knaw.nl', 'committed_date': '2019-05-13T10:27:34.000Z'}\n",
      "[{'type': 'branch', 'name': 'master'}, {'type': 'tag', 'name': 'v3.0'}, {'type': 'tag', 'name': 'v3.1'}]\n",
      "<class 'gitlab.v4.objects.commits.ProjectCommit'> => {'id': '13ec0c7d8fc9bf8a5e261dccadc721051300c8b6', 'short_id': '13ec0c7d', 'created_at': '2019-05-12T10:21:11.000Z', 'parent_ids': ['3dcd8697a1873ceefb21e3e13a70a10db331ee0c'], 'title': 'structure', 'message': 'structure\\n', 'author_name': 'Dirk Roorda', 'author_email': 'dirk.roorda@dans.knaw.nl', 'authored_date': '2019-05-12T10:21:11.000Z', 'committer_name': 'Dirk Roorda', 'committer_email': 'dirk.roorda@dans.knaw.nl', 'committed_date': '2019-05-12T10:21:11.000Z'}\n",
      "[{'type': 'branch', 'name': 'master'}, {'type': 'tag', 'name': 'v3.0'}, {'type': 'tag', 'name': 'v3.1'}]\n",
      "<class 'gitlab.v4.objects.commits.ProjectCommit'> => {'id': '3dcd8697a1873ceefb21e3e13a70a10db331ee0c', 'short_id': '3dcd8697', 'created_at': '2019-04-25T14:33:13.000Z', 'parent_ids': ['2209b344918cb9b6aeb6337366ea4da1f68e2e85'], 'title': 'cv.meta', 'message': 'cv.meta\\n', 'author_name': 'Dirk Roorda', 'author_email': 'dirk.roorda@dans.knaw.nl', 'authored_date': '2019-04-25T14:33:13.000Z', 'committer_name': 'Dirk Roorda', 'committer_email': 'dirk.roorda@dans.knaw.nl', 'committed_date': '2019-04-25T14:33:13.000Z'}\n",
      "[{'type': 'branch', 'name': 'master'}, {'type': 'tag', 'name': 'v3.0'}, {'type': 'tag', 'name': 'v3.1'}]\n",
      "<class 'gitlab.v4.objects.commits.ProjectCommit'> => {'id': '2209b344918cb9b6aeb6337366ea4da1f68e2e85', 'short_id': '2209b344', 'created_at': '2019-04-11T11:06:14.000Z', 'parent_ids': ['d85066b124504da47e56be112fdf420facc575ab'], 'title': 'fixes', 'message': 'fixes\\n', 'author_name': 'Dirk Roorda', 'author_email': 'dirk.roorda@dans.knaw.nl', 'authored_date': '2019-04-11T11:06:14.000Z', 'committer_name': 'Dirk Roorda', 'committer_email': 'dirk.roorda@dans.knaw.nl', 'committed_date': '2019-04-11T11:06:14.000Z'}\n",
      "[{'type': 'branch', 'name': 'master'}, {'type': 'tag', 'name': 'v3.0'}, {'type': 'tag', 'name': 'v3.1'}]\n",
      "<class 'gitlab.v4.objects.commits.ProjectCommit'> => {'id': 'd85066b124504da47e56be112fdf420facc575ab', 'short_id': 'd85066b1', 'created_at': '2019-04-10T07:35:05.000Z', 'parent_ids': ['b5e29e7805c30e17641ca517eb2304f4d10c2281'], 'title': 'fixes', 'message': 'fixes\\n', 'author_name': 'Dirk Roorda', 'author_email': 'dirk.roorda@dans.knaw.nl', 'authored_date': '2019-04-10T07:35:05.000Z', 'committer_name': 'Dirk Roorda', 'committer_email': 'dirk.roorda@dans.knaw.nl', 'committed_date': '2019-04-10T07:35:05.000Z'}\n",
      "[{'type': 'branch', 'name': 'master'}, {'type': 'tag', 'name': 'v3.0'}, {'type': 'tag', 'name': 'v3.1'}]\n",
      "<class 'gitlab.v4.objects.commits.ProjectCommit'> => {'id': 'b5e29e7805c30e17641ca517eb2304f4d10c2281', 'short_id': 'b5e29e78', 'created_at': '2019-04-09T14:24:38.000Z', 'parent_ids': ['7ddc482a9a6b15f0d4a4d2c256f40cdfb366791f'], 'title': 'similarities', 'message': 'similarities\\n', 'author_name': 'Dirk Roorda', 'author_email': 'dirk.roorda@dans.knaw.nl', 'authored_date': '2019-04-09T14:24:38.000Z', 'committer_name': 'Dirk Roorda', 'committer_email': 'dirk.roorda@dans.knaw.nl', 'committed_date': '2019-04-09T14:24:38.000Z'}\n",
      "[{'type': 'branch', 'name': 'master'}, {'type': 'tag', 'name': 'v3.0'}, {'type': 'tag', 'name': 'v3.1'}]\n",
      "<class 'gitlab.v4.objects.commits.ProjectCommit'> => {'id': '7ddc482a9a6b15f0d4a4d2c256f40cdfb366791f', 'short_id': '7ddc482a', 'created_at': '2019-04-09T14:20:05.000Z', 'parent_ids': ['4c9cc7e25531d521403de8508d54a717e8f02803'], 'title': 'readme', 'message': 'readme\\n', 'author_name': 'Dirk Roorda', 'author_email': 'dirk.roorda@dans.knaw.nl', 'authored_date': '2019-04-09T14:20:05.000Z', 'committer_name': 'Dirk Roorda', 'committer_email': 'dirk.roorda@dans.knaw.nl', 'committed_date': '2019-04-09T14:20:05.000Z'}\n",
      "[{'type': 'branch', 'name': 'master'}, {'type': 'tag', 'name': 'v3.0'}, {'type': 'tag', 'name': 'v3.1'}]\n",
      "<class 'gitlab.v4.objects.commits.ProjectCommit'> => {'id': '4c9cc7e25531d521403de8508d54a717e8f02803', 'short_id': '4c9cc7e2', 'created_at': '2019-04-09T14:17:00.000Z', 'parent_ids': ['33f757ed47d14816f523162244c2e31dcaf0a208'], 'title': 'readme', 'message': 'readme\\n', 'author_name': 'Dirk Roorda', 'author_email': 'dirk.roorda@dans.knaw.nl', 'authored_date': '2019-04-09T14:17:00.000Z', 'committer_name': 'Dirk Roorda', 'committer_email': 'dirk.roorda@dans.knaw.nl', 'committed_date': '2019-04-09T14:17:00.000Z'}\n",
      "[{'type': 'branch', 'name': 'master'}, {'type': 'tag', 'name': 'v3.0'}, {'type': 'tag', 'name': 'v3.1'}]\n",
      "<class 'gitlab.v4.objects.commits.ProjectCommit'> => {'id': '33f757ed47d14816f523162244c2e31dcaf0a208', 'short_id': '33f757ed', 'created_at': '2019-04-09T14:15:00.000Z', 'parent_ids': ['436e0d99b023983b9a8f52d01f7bce64fd985871'], 'title': 'prepared for sims', 'message': 'prepared for sims\\n', 'author_name': 'Dirk Roorda', 'author_email': 'dirk.roorda@dans.knaw.nl', 'authored_date': '2019-04-09T14:15:00.000Z', 'committer_name': 'Dirk Roorda', 'committer_email': 'dirk.roorda@dans.knaw.nl', 'committed_date': '2019-04-09T14:15:00.000Z'}\n",
      "[{'type': 'branch', 'name': 'master'}, {'type': 'tag', 'name': 'v3.0'}, {'type': 'tag', 'name': 'v3.1'}]\n",
      "<class 'gitlab.v4.objects.commits.ProjectCommit'> => {'id': '436e0d99b023983b9a8f52d01f7bce64fd985871', 'short_id': '436e0d99', 'created_at': '2019-04-09T14:12:00.000Z', 'parent_ids': ['427b65f5a782c84b618389aa6d76236deab134f3'], 'title': 'version 0.2', 'message': 'version 0.2\\n', 'author_name': 'Dirk Roorda', 'author_email': 'dirk.roorda@dans.knaw.nl', 'authored_date': '2019-04-09T14:12:00.000Z', 'committer_name': 'Dirk Roorda', 'committer_email': 'dirk.roorda@dans.knaw.nl', 'committed_date': '2019-04-09T14:12:00.000Z'}\n",
      "[{'type': 'branch', 'name': 'master'}, {'type': 'tag', 'name': 'v3.0'}, {'type': 'tag', 'name': 'v3.1'}]\n",
      "<class 'gitlab.v4.objects.commits.ProjectCommit'> => {'id': '427b65f5a782c84b618389aa6d76236deab134f3', 'short_id': '427b65f5', 'created_at': '2019-04-09T14:10:31.000Z', 'parent_ids': ['a8e1831a47d53133aa770c746ab3c76c3bcbc1c9'], 'title': 'tweak in metadata', 'message': 'tweak in metadata\\n', 'author_name': 'Dirk Roorda', 'author_email': 'dirk.roorda@dans.knaw.nl', 'authored_date': '2019-04-09T14:10:31.000Z', 'committer_name': 'Dirk Roorda', 'committer_email': 'dirk.roorda@dans.knaw.nl', 'committed_date': '2019-04-09T14:10:31.000Z'}\n",
      "[{'type': 'branch', 'name': 'master'}, {'type': 'tag', 'name': 'v3.0'}, {'type': 'tag', 'name': 'v3.1'}]\n",
      "<class 'gitlab.v4.objects.commits.ProjectCommit'> => {'id': 'a8e1831a47d53133aa770c746ab3c76c3bcbc1c9', 'short_id': 'a8e1831a', 'created_at': '2019-04-09T13:58:16.000Z', 'parent_ids': ['e3f9b16860f0b065a6bfb307b18602ef57721e92'], 'title': 'added version metadata: 0.1', 'message': 'added version metadata: 0.1\\n', 'author_name': 'Dirk Roorda', 'author_email': 'dirk.roorda@dans.knaw.nl', 'authored_date': '2019-04-09T13:58:16.000Z', 'committer_name': 'Dirk Roorda', 'committer_email': 'dirk.roorda@dans.knaw.nl', 'committed_date': '2019-04-09T13:58:16.000Z'}\n",
      "[{'type': 'branch', 'name': 'master'}, {'type': 'tag', 'name': 'v3.0'}, {'type': 'tag', 'name': 'v3.1'}]\n",
      "<class 'gitlab.v4.objects.commits.ProjectCommit'> => {'id': 'e3f9b16860f0b065a6bfb307b18602ef57721e92', 'short_id': 'e3f9b168', 'created_at': '2019-04-09T13:57:06.000Z', 'parent_ids': ['6ac4fe5bfcaa8a719974c12ac3286fb080e4d29c'], 'title': 'first production', 'message': 'first production\\n', 'author_name': 'Dirk Roorda', 'author_email': 'dirk.roorda@dans.knaw.nl', 'authored_date': '2019-04-09T13:57:06.000Z', 'committer_name': 'Dirk Roorda', 'committer_email': 'dirk.roorda@dans.knaw.nl', 'committed_date': '2019-04-09T13:57:06.000Z'}\n",
      "[{'type': 'branch', 'name': 'master'}, {'type': 'tag', 'name': 'v3.0'}, {'type': 'tag', 'name': 'v3.1'}]\n",
      "<class 'gitlab.v4.objects.commits.ProjectCommit'> => {'id': '6ac4fe5bfcaa8a719974c12ac3286fb080e4d29c', 'short_id': '6ac4fe5b', 'created_at': '2019-04-09T13:30:12.000Z', 'parent_ids': [], 'title': 'Initial commit', 'message': 'Initial commit', 'author_name': 'Dirk Roorda', 'author_email': 'dirk.roorda@dans.knaw.nl', 'authored_date': '2019-04-09T13:30:12.000Z', 'committer_name': 'GitHub', 'committer_email': 'noreply@github.com', 'committed_date': '2019-04-09T13:30:12.000Z'}\n",
      "[{'type': 'branch', 'name': 'master'}, {'type': 'tag', 'name': 'v3.0'}, {'type': 'tag', 'name': 'v3.1'}]\n"
     ]
    }
   ],
   "source": [
    "for commit in commits:\n",
    "    print(commit)\n",
    "    print(commit.refs())"
   ]
  },
  {
   "cell_type": "code",
   "execution_count": 18,
   "id": "3f98b251-3d32-40cd-97de-7e3b2add5cc4",
   "metadata": {},
   "outputs": [
    {
     "data": {
      "text/plain": [
       "<ProjectCommit id:5df379a68800729cc207cde836cd3ba77a0ed018 title:reorg>"
      ]
     },
     "execution_count": 18,
     "metadata": {},
     "output_type": "execute_result"
    }
   ],
   "source": [
    "project.commits.get(\"5df379a68800729cc207cde836cd3ba77a0ed018\")"
   ]
  },
  {
   "cell_type": "code",
   "execution_count": 25,
   "id": "106ac2db-d5b7-4126-847f-b1f1506a348e",
   "metadata": {},
   "outputs": [],
   "source": [
    "releases = project.releases.list(all=True)"
   ]
  },
  {
   "cell_type": "code",
   "execution_count": 26,
   "id": "3797397e-690e-4be5-a48d-03349d577969",
   "metadata": {},
   "outputs": [
    {
     "data": {
      "text/plain": [
       "<ProjectRelease tag_name:v3.1>"
      ]
     },
     "execution_count": 26,
     "metadata": {},
     "output_type": "execute_result"
    }
   ],
   "source": [
    "sorted(releases, key=lambda r: r.tag_name)[-1] if releases else None"
   ]
  },
  {
   "cell_type": "code",
   "execution_count": 21,
   "id": "5f34719d-9bf0-4a34-a039-02c8d9d2402d",
   "metadata": {},
   "outputs": [],
   "source": [
    "zf = project.repository_archive(format=\"zip\", sha=\"5b7dca212dd456e705f4c2cb1aa0f895ab5b2fc9\")"
   ]
  },
  {
   "cell_type": "code",
   "execution_count": 22,
   "id": "a5b1c70c-a71c-4656-8913-9c34e9c37ee8",
   "metadata": {},
   "outputs": [],
   "source": [
    "with open(f\"/Users/me/Downloads/{REPO}-tf-{VERSION}.zip\", \"wb\") as fh:\n",
    "    fh.write(zf)"
   ]
  },
  {
   "cell_type": "markdown",
   "id": "7c7c28db-5fea-4a40-bd4e-9351df5fde22",
   "metadata": {},
   "source": [
    "## Release creation"
   ]
  },
  {
   "cell_type": "code",
   "execution_count": 35,
   "id": "891a7d20-95f4-425a-ac39-41a916832a98",
   "metadata": {},
   "outputs": [],
   "source": [
    "if not True:\n",
    "    project.releases.create(\n",
    "        dict(\n",
    "            name=\"First conversion to TF\",\n",
    "            tag_name=\"v1.0\",\n",
    "            description=\"\"\"Features have been produced.\n",
    "Features have the version as metadata in them.\"\"\",\n",
    "        )\n",
    "    )"
   ]
  },
  {
   "cell_type": "code",
   "execution_count": 36,
   "id": "4d33ffac-6061-4058-b368-b07a1e680870",
   "metadata": {},
   "outputs": [],
   "source": [
    "if not True:\n",
    "    project.releases.create(\n",
    "        dict(\n",
    "            name=\"Version 0.2 of the data\",\n",
    "            tag_name=\"v2.0\",\n",
    "            description=\"\"\"Data upgraded to version 0.2.\n",
    "Readme updated.\"\"\",\n",
    "        )\n",
    "    )"
   ]
  },
  {
   "cell_type": "code",
   "execution_count": 37,
   "id": "5ad54e7f-f076-457c-adda-b6d2b99277d1",
   "metadata": {},
   "outputs": [],
   "source": [
    "if not True:\n",
    "    project.releases.create(\n",
    "        dict(\n",
    "            name=\"Zenodo\",\n",
    "            tag_name=\"v3.0\",\n",
    "            description=\"\"\"readme badges\"\"\",\n",
    "        )\n",
    "    )"
   ]
  },
  {
   "cell_type": "code",
   "execution_count": 24,
   "id": "c523ac95-0eab-4f2f-84c6-544daa8c5aa8",
   "metadata": {},
   "outputs": [],
   "source": [
    "if not True:\n",
    "    project.releases.create(\n",
    "        dict(\n",
    "            name=\"Reorganized\",\n",
    "            tag_name=\"v3.1\",\n",
    "            description=\"\"\"There is now an app inside\"\"\",\n",
    "        )\n",
    "    )"
   ]
  },
  {
   "cell_type": "code",
   "execution_count": null,
   "id": "17416957-47a0-4a2e-acaf-ef8c535a0eb4",
   "metadata": {},
   "outputs": [],
   "source": []
  }
 ],
 "metadata": {
  "kernelspec": {
   "display_name": "Python 3 (ipykernel)",
   "language": "python",
   "name": "python3"
  },
  "language_info": {
   "codemirror_mode": {
    "name": "ipython",
    "version": 3
   },
   "file_extension": ".py",
   "mimetype": "text/x-python",
   "name": "python",
   "nbconvert_exporter": "python",
   "pygments_lexer": "ipython3",
   "version": "3.10.4"
  }
 },
 "nbformat": 4,
 "nbformat_minor": 5
}
