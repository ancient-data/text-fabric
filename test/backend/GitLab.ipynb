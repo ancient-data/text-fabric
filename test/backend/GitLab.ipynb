{
 "cells": [
  {
   "cell_type": "code",
   "execution_count": 1,
   "id": "8f207e7e-2abb-45b4-abee-979c565ab25b",
   "metadata": {},
   "outputs": [],
   "source": [
    "%load_ext autoreload\n",
    "%autoreload 2"
   ]
  },
  {
   "cell_type": "code",
   "execution_count": 2,
   "id": "53711529-a020-4824-acfe-0ea089b5bcb4",
   "metadata": {},
   "outputs": [],
   "source": [
    "import os\n",
    "import io\n",
    "import json\n",
    "import re\n",
    "\n",
    "from gitlab import Gitlab, GitlabListError\n",
    "from zipfile import ZipFile\n",
    "from subprocess import run\n",
    "\n",
    "from tf.advanced.repo import checkoutRepo"
   ]
  },
  {
   "cell_type": "code",
   "execution_count": 3,
   "id": "aaa6fad1-2f14-43b9-9712-5f3c4ea5dd8d",
   "metadata": {},
   "outputs": [],
   "source": [
    "GL = \"GL\"\n",
    "HC = \"HC\"\n",
    "\n",
    "VERSION = \"0.2\"\n",
    "REPO = \"banks\"\n",
    "COMMIT = \"5df379a68800729cc207cde836cd3ba77a0ed018\"\n",
    "MOD = \"sim/tf\"\n",
    "\n",
    "ZIPPATH = f\"tf%2F{VERSION}\"\n",
    "\n",
    "BACKEND = {GL: \"https://gitlab.com\", HC: \"https://gitlab.huc.knaw.nl\"}\n",
    "ORG = {GL: \"annotation-huc\", HC: \"annotation\"}\n",
    "FREPO = {GL: f\"{ORG[GL]}%2F{REPO}\", HC: f\"{ORG[HC]}%2F{REPO}\"}\n",
    "\n",
    "PERS = {\n",
    "    GL: os.environ[\"GL_GITLAB_COM_PERS\"],\n",
    "    HC: os.environ[\"GL_GITLAB_HUC_KNAW_NL_PERS\"],\n",
    "}\n",
    "SLUG = {b: f\"{bUrl}/api/v4\" for (b, bUrl) in BACKEND.items()}\n",
    "AUTH = {b: f\"private_token={token}\" for (b, token) in PERS.items()}\n",
    "PATH = {b: f\"{slug}/projects/{FREPO[b]}\" for (b, slug) in SLUG.items()}\n",
    "DOWNLOAD = {\n",
    "    b: os.path.expanduser(f\"~/Downloads/{b}-{REPO}-tf-{VERSION}.zip\") for b in BACKEND\n",
    "}"
   ]
  },
  {
   "cell_type": "markdown",
   "id": "43dd2c08-7212-4579-8fe3-3c8644396317",
   "metadata": {},
   "source": [
    "# Direct via curl"
   ]
  },
  {
   "cell_type": "code",
   "execution_count": 4,
   "id": "d2e2cb24-32f1-4d69-b09c-d760a2d018c4",
   "metadata": {},
   "outputs": [],
   "source": [
    "def curl(request, key=None):\n",
    "    completed = run(f\"curl -s {request}\", capture_output=True, shell=True)\n",
    "    response = json.loads(completed.stdout.decode(\"utf8\"))\n",
    "    if key is not None:\n",
    "        response = response.get(key, \"NOT FOUND\")\n",
    "    if completed.returncode:\n",
    "        print(completed.stderr)\n",
    "        return None\n",
    "    return response"
   ]
  },
  {
   "cell_type": "code",
   "execution_count": 5,
   "id": "4777be27-bdde-4832-ad91-e116a05ac7af",
   "metadata": {},
   "outputs": [],
   "source": [
    "props = dict(GL={\"org\": ORG[GL], \"conn\": None}, HC={\"org\": ORG[HC], \"conn\": None})"
   ]
  },
  {
   "cell_type": "code",
   "execution_count": 6,
   "id": "472892f8-2f10-4453-bdea-cac3b908791d",
   "metadata": {},
   "outputs": [],
   "source": [
    "VAR_RE = re.compile(r\"\"\"<([^>]+)>\"\"\")\n",
    "\n",
    "\n",
    "def fire(command, key=None, store=None):\n",
    "    if store is None:\n",
    "        store = command if key is None else key\n",
    "\n",
    "    for backend in (GL, HC):\n",
    "\n",
    "        def varRepl(match):\n",
    "            var = match.group(1)\n",
    "            val = str(props[backend].get(var, f\"!{var}!\"))\n",
    "            return val\n",
    "\n",
    "        bCommand = VAR_RE.sub(varRepl, command)\n",
    "        sep = \"&\" if \"?\" in bCommand else \"?\"\n",
    "        response = curl(f\"{SLUG[backend]}/{bCommand}{sep}{AUTH[backend]}\", key=key)\n",
    "        responseRep = str(response)\n",
    "        trail = \"\" if len(responseRep) <= 80 else f\" ... {len(responseRep)} chars\"\n",
    "        responseRep = f\"{responseRep[0:80]}{trail}\"\n",
    "\n",
    "        if key is not None:\n",
    "            print(f\"<{backend}> {key}={responseRep}\")\n",
    "        else:\n",
    "            print(f\"<{backend}> {responseRep}\")\n",
    "        props[backend][store] = response\n",
    "\n",
    "\n",
    "def connect():\n",
    "    for (backend, bUrl) in BACKEND.items():\n",
    "        props[backend][\"conn\"] = Gitlab(bUrl, private_token=PERS[backend])\n",
    "\n",
    "\n",
    "def version():\n",
    "    for backend in BACKEND:\n",
    "        conn = props[backend][\"conn\"]\n",
    "        response = conn.version()\n",
    "        print(f\"<{backend}> version={response[0]}\")\n",
    "        props[backend][\"version\"] = response\n",
    "\n",
    "\n",
    "def project():\n",
    "    for backend in BACKEND:\n",
    "        conn = props[backend][\"conn\"]\n",
    "        response = conn.projects.get(f\"{ORG[backend]}/{REPO}\")\n",
    "        projectId = getattr(response, \"id\")\n",
    "        print(f\"<{backend}> projectId={projectId}\")\n",
    "        props[backend][\"project\"] = response\n",
    "        props[backend][\"projectId\"] = projectId\n",
    "\n",
    "\n",
    "def subfolder():\n",
    "    for backend in BACKEND:\n",
    "        conn = props[backend][\"conn\"]\n",
    "        proj = props[backend][\"project\"]\n",
    "        projId = getattr(proj, \"id\")\n",
    "        response = conn.http_get(\n",
    "            f\"/projects/{projId}/repository/archive.zip\",\n",
    "            query_data=dict(sha=COMMIT, path=MOD),\n",
    "            raw=True,\n",
    "        )\n",
    "        zf = response.content\n",
    "        \n",
    "        with open(DOWNLOAD[backend], \"wb\") as fh:\n",
    "            fh.write(zf)"
   ]
  },
  {
   "cell_type": "markdown",
   "id": "2bd1832a-c728-4d39-9feb-96d267379195",
   "metadata": {},
   "source": [
    "# Connection and version"
   ]
  },
  {
   "cell_type": "code",
   "execution_count": 7,
   "id": "18667e04-8fef-4b9d-874e-bf789b7401b4",
   "metadata": {},
   "outputs": [
    {
     "name": "stdout",
     "output_type": "stream",
     "text": [
      "<GL> version=15.1.0-pre\n",
      "<HC> version=12.5.4-ee\n"
     ]
    }
   ],
   "source": [
    "fire(\"version\", key=\"version\")"
   ]
  },
  {
   "cell_type": "markdown",
   "id": "816fce6c-a67d-4c2d-945e-1f4e63a091f1",
   "metadata": {},
   "source": [
    "# Current user"
   ]
  },
  {
   "cell_type": "code",
   "execution_count": 8,
   "id": "076a6300-add9-4cce-9e66-a43aa0267ee9",
   "metadata": {},
   "outputs": [
    {
     "name": "stdout",
     "output_type": "stream",
     "text": [
      "<GL> id=11713030\n",
      "<HC> id=52\n"
     ]
    }
   ],
   "source": [
    "fire(\"user\", key=\"id\", store=\"userId\")"
   ]
  },
  {
   "cell_type": "markdown",
   "id": "6461ec19-20b2-4a5e-a279-816505d31d83",
   "metadata": {},
   "source": [
    "# Via Python-Gitlab"
   ]
  },
  {
   "cell_type": "code",
   "execution_count": 9,
   "id": "9ee11977-564d-4783-958e-5eaf56751c3e",
   "metadata": {
    "tags": []
   },
   "outputs": [],
   "source": [
    "connect()"
   ]
  },
  {
   "cell_type": "code",
   "execution_count": 10,
   "id": "c44c0b4f-e4dc-47c9-8f7d-7f30796fce61",
   "metadata": {},
   "outputs": [
    {
     "name": "stdout",
     "output_type": "stream",
     "text": [
      "<GL> version=15.1.0-pre\n",
      "<HC> version=12.5.4-ee\n"
     ]
    }
   ],
   "source": [
    "version()"
   ]
  },
  {
   "cell_type": "code",
   "execution_count": 11,
   "id": "c9da9bfb-29b7-4f72-a72a-7aa392f730d6",
   "metadata": {
    "tags": []
   },
   "outputs": [
    {
     "name": "stdout",
     "output_type": "stream",
     "text": [
      "<GL> projectId=37114984\n",
      "<HC> projectId=214\n"
     ]
    }
   ],
   "source": [
    "project()"
   ]
  },
  {
   "cell_type": "markdown",
   "id": "fdfc220e-a598-484a-bccf-7a93afcbab45",
   "metadata": {},
   "source": [
    "# Subfolder download\n",
    "\n",
    "Works with gitlab.com, not with gitlab.huc.knaw.nl.\n",
    "\n",
    "The gitlab version should be at least 14.4.0"
   ]
  },
  {
   "cell_type": "code",
   "execution_count": 12,
   "id": "271f1db1-9524-48f0-a36c-e2e86eaf8ce1",
   "metadata": {},
   "outputs": [],
   "source": [
    "subfolder()"
   ]
  },
  {
   "cell_type": "markdown",
   "id": "7c7c28db-5fea-4a40-bd4e-9351df5fde22",
   "metadata": {},
   "source": [
    "## Release creation"
   ]
  },
  {
   "cell_type": "code",
   "execution_count": 35,
   "id": "891a7d20-95f4-425a-ac39-41a916832a98",
   "metadata": {},
   "outputs": [],
   "source": [
    "if not True:\n",
    "    project.releases.create(\n",
    "        dict(\n",
    "            name=\"First conversion to TF\",\n",
    "            tag_name=\"v1.0\",\n",
    "            description=\"\"\"Features have been produced.\n",
    "Features have the version as metadata in them.\"\"\",\n",
    "        )\n",
    "    )"
   ]
  },
  {
   "cell_type": "code",
   "execution_count": 36,
   "id": "4d33ffac-6061-4058-b368-b07a1e680870",
   "metadata": {},
   "outputs": [],
   "source": [
    "if not True:\n",
    "    project.releases.create(\n",
    "        dict(\n",
    "            name=\"Version 0.2 of the data\",\n",
    "            tag_name=\"v2.0\",\n",
    "            description=\"\"\"Data upgraded to version 0.2.\n",
    "Readme updated.\"\"\",\n",
    "        )\n",
    "    )"
   ]
  },
  {
   "cell_type": "code",
   "execution_count": 37,
   "id": "5ad54e7f-f076-457c-adda-b6d2b99277d1",
   "metadata": {},
   "outputs": [],
   "source": [
    "if not True:\n",
    "    project.releases.create(\n",
    "        dict(\n",
    "            name=\"Zenodo\",\n",
    "            tag_name=\"v3.0\",\n",
    "            description=\"\"\"readme badges\"\"\",\n",
    "        )\n",
    "    )"
   ]
  },
  {
   "cell_type": "code",
   "execution_count": 24,
   "id": "c523ac95-0eab-4f2f-84c6-544daa8c5aa8",
   "metadata": {},
   "outputs": [],
   "source": [
    "if not True:\n",
    "    project.releases.create(\n",
    "        dict(\n",
    "            name=\"Reorganized\",\n",
    "            tag_name=\"v3.1\",\n",
    "            description=\"\"\"There is now an app inside\"\"\",\n",
    "        )\n",
    "    )"
   ]
  },
  {
   "cell_type": "code",
   "execution_count": null,
   "id": "2fea7902-f25a-4700-8af1-cc5dca5276e3",
   "metadata": {},
   "outputs": [],
   "source": []
  }
 ],
 "metadata": {
  "kernelspec": {
   "display_name": "Python 3 (ipykernel)",
   "language": "python",
   "name": "python3"
  },
  "language_info": {
   "codemirror_mode": {
    "name": "ipython",
    "version": 3
   },
   "file_extension": ".py",
   "mimetype": "text/x-python",
   "name": "python",
   "nbconvert_exporter": "python",
   "pygments_lexer": "ipython3",
   "version": "3.10.4"
  }
 },
 "nbformat": 4,
 "nbformat_minor": 5
}
