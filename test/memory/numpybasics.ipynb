{
 "cells": [
  {
   "cell_type": "code",
   "execution_count": 68,
   "id": "95c6b941-a0f6-4176-9fce-1a31a99561cd",
   "metadata": {},
   "outputs": [],
   "source": [
    "import numpy\n",
    "\n",
    "import pickle\n",
    "from pickletools import optimize\n",
    "import gzip\n",
    "\n",
    "from timeit import timeit\n",
    "\n",
    "from tf.core.helpers import deepSize\n",
    "from tf.core.files import expanduser as ex"
   ]
  },
  {
   "cell_type": "markdown",
   "id": "b59871ae-85fc-40a2-b930-9d10a0122930",
   "metadata": {},
   "source": [
    "# The data\n",
    "\n",
    "We take a sizable piece of data from the BHSA: the oslots data."
   ]
  },
  {
   "cell_type": "code",
   "execution_count": 6,
   "id": "cda77842-fa6b-45b9-a1ad-8d61ceb65fdf",
   "metadata": {},
   "outputs": [],
   "source": [
    "oslotsFile = ex(\"~/github/ETCBC/bhsa/tf/2021/.tf/3/oslots.tfx\")"
   ]
  },
  {
   "cell_type": "code",
   "execution_count": 40,
   "id": "320ecb7f-5390-4898-842e-cdf6b393992e",
   "metadata": {},
   "outputs": [
    {
     "name": "stdout",
     "output_type": "stream",
     "text": [
      " 426590 slots\n",
      "1446831 nodes\n"
     ]
    }
   ],
   "source": [
    "with gzip.open(oslotsFile, \"rb\") as f:\n",
    "    data = pickle.load(f)\n",
    "(eoslots, maxSlot, maxNode) = data\n",
    "print(f\"{maxSlot:>7} slots\\n{maxNode:>7} nodes\")"
   ]
  },
  {
   "cell_type": "code",
   "execution_count": 41,
   "id": "b7978c24-5dda-4981-b845-c006f6ba6788",
   "metadata": {},
   "outputs": [
    {
     "name": "stdout",
     "output_type": "stream",
     "text": [
      "eoslots is a tuple of array of int\n"
     ]
    }
   ],
   "source": []
  },
  {
   "cell_type": "code",
   "execution_count": 58,
   "id": "6601c9c3-6ea5-42fc-b4b4-4f28ab3b6090",
   "metadata": {},
   "outputs": [],
   "source": [
    "def getSize(material):\n",
    "    return int(round(deepSize(material) / 1024 / 1024))\n",
    "\n",
    "def getInfo(name, material):\n",
    "    typ = f\"{type(material).__name__} of {type(material[0]).__name__} of {type(material[0][0]).__name__}\"\n",
    "    print(f\"{name} is a {typ}\")\n",
    "    n = sum(len(x) for x in material)\n",
    "    s = getSize(material)\n",
    "    print(f\"{len(material):>7} node linkages\\n{n:>7} numbers\\n{s:>7} MB\")"
   ]
  },
  {
   "cell_type": "code",
   "execution_count": 59,
   "id": "32f81d10-a75f-42c9-92e5-dc32a4b265eb",
   "metadata": {},
   "outputs": [
    {
     "name": "stdout",
     "output_type": "stream",
     "text": [
      "original is a tuple of array of int\n",
      "1020241 node linkages\n",
      "4854312 numbers\n",
      "    116 MB\n"
     ]
    }
   ],
   "source": [
    "getInfo(\"original\", eoslots)"
   ]
  },
  {
   "cell_type": "markdown",
   "id": "b57f646f-b9ec-451c-87c6-3b59d85091aa",
   "metadata": {},
   "source": [
    "# Experiments\n",
    "\n",
    "We'll pack the same data in numpy arrays, in several different ways."
   ]
  },
  {
   "cell_type": "markdown",
   "id": "d3724c1b-c479-4d37-9b8f-01ac8202ed90",
   "metadata": {},
   "source": [
    "# As array of arrays\n",
    "\n",
    "We make a numpy array of numpy arrays.\n",
    "Note that the sub-arrays have different length.\n",
    "Numpy can handle this."
   ]
  },
  {
   "cell_type": "code",
   "execution_count": 60,
   "id": "14f314b8-f3aa-4544-89b9-8b1747b4ed19",
   "metadata": {},
   "outputs": [],
   "source": [
    "eoslots1 = numpy.array([numpy.array(x, dtype=\"uint32\") for x in eoslots], dtype=object) "
   ]
  },
  {
   "cell_type": "code",
   "execution_count": 61,
   "id": "c9391077-dad8-4cdb-ab75-ed32a6c449e5",
   "metadata": {},
   "outputs": [
    {
     "name": "stdout",
     "output_type": "stream",
     "text": [
      "rough numpy is a ndarray of ndarray of uint32\n",
      "1020241 node linkages\n",
      "4854312 numbers\n",
      "      8 MB\n"
     ]
    }
   ],
   "source": [
    "getInfo(\"rough numpy\", eoslots1)"
   ]
  },
  {
   "cell_type": "markdown",
   "id": "296dd2b9-9cad-42e9-b37c-accb7c94bb75",
   "metadata": {},
   "source": [
    "# As one big array with an index array"
   ]
  },
  {
   "cell_type": "code",
   "execution_count": 99,
   "id": "3b99d3fc-1923-4be4-ad1d-5fc342dca514",
   "metadata": {},
   "outputs": [],
   "source": [
    "eoslots2main = []\n",
    "eoslots2start = []\n",
    "eoslots2end = []\n",
    "\n",
    "b = 0\n",
    "\n",
    "for ns in eoslots:\n",
    "    eoslots2start.append(b)\n",
    "    eoslots2main.extend(ns)\n",
    "    b += len(ns)\n",
    "    eoslots2end.append(b)\n",
    "    \n",
    "eoslots2main = numpy.array(eoslots2main, dtype=\"uint32\")\n",
    "eoslots2start = numpy.array(eoslots2start, dtype=\"uint32\")\n",
    "eoslots2end = numpy.array(eoslots2end, dtype=\"uint32\")"
   ]
  },
  {
   "cell_type": "code",
   "execution_count": 100,
   "id": "a4f110f8-747d-413d-9e20-db144b40216e",
   "metadata": {},
   "outputs": [
    {
     "data": {
      "text/plain": [
       "19"
      ]
     },
     "execution_count": 100,
     "metadata": {},
     "output_type": "execute_result"
    }
   ],
   "source": [
    "getSize(eoslots2main)"
   ]
  },
  {
   "cell_type": "code",
   "execution_count": 101,
   "id": "1ce1548a-aa74-4bb0-a021-cc6365751c63",
   "metadata": {},
   "outputs": [
    {
     "data": {
      "text/plain": [
       "4"
      ]
     },
     "execution_count": 101,
     "metadata": {},
     "output_type": "execute_result"
    }
   ],
   "source": [
    "getSize(eoslots2start)"
   ]
  },
  {
   "cell_type": "code",
   "execution_count": 102,
   "id": "287de1f6-acc3-4218-9a1b-35db6a33152e",
   "metadata": {},
   "outputs": [
    {
     "data": {
      "text/plain": [
       "4"
      ]
     },
     "execution_count": 102,
     "metadata": {},
     "output_type": "execute_result"
    }
   ],
   "source": [
    "getSize(eoslots2end)"
   ]
  },
  {
   "cell_type": "markdown",
   "id": "9b088876-6033-4ace-9946-fdeb48a15de8",
   "metadata": {},
   "source": [
    "# Speed\n",
    "\n",
    "What about speed?\n",
    "\n",
    "Let's extract all data and take the average of all numbers found in all representations."
   ]
  },
  {
   "cell_type": "code",
   "execution_count": 107,
   "id": "70640f65-16a7-449e-bb56-6d3dfc487230",
   "metadata": {},
   "outputs": [],
   "source": [
    "def getSpeed(material, indexed=False):\n",
    "    if indexed:\n",
    "\n",
    "        def action():\n",
    "            (main, start, end) = material\n",
    "            total = sum(sum(main[start[n] : end[n]]) for n in range(len(start)))\n",
    "            n = sum(end[n] - start[n] for n in range(len(start)))\n",
    "            return (n, total)\n",
    "\n",
    "    else:\n",
    "\n",
    "        def action():\n",
    "            total = sum(sum(ns) for ns in material)\n",
    "            n = sum(len(ns) for ns in material)\n",
    "            return (n, total)\n",
    "\n",
    "    (n, total) = action()\n",
    "    xTime = timeit(\"action()\", globals=locals(), number=1)\n",
    "    print(f\"{n:>8} {total:>8} {xTime}\")"
   ]
  },
  {
   "cell_type": "code",
   "execution_count": 108,
   "id": "107a4a57-78db-4501-a75c-cc885bae76ec",
   "metadata": {},
   "outputs": [
    {
     "name": "stdout",
     "output_type": "stream",
     "text": [
      " 4854312 1034928337345 0.18651545800094027\n"
     ]
    }
   ],
   "source": [
    "getSpeed(eoslots)"
   ]
  },
  {
   "cell_type": "code",
   "execution_count": 109,
   "id": "1a5abb0c-c34d-4f68-977a-120b9f007463",
   "metadata": {},
   "outputs": [
    {
     "name": "stdout",
     "output_type": "stream",
     "text": [
      " 4854312 1034928337345 1.7245157919969643\n"
     ]
    }
   ],
   "source": [
    "getSpeed(eoslots1)"
   ]
  },
  {
   "cell_type": "code",
   "execution_count": 110,
   "id": "c22ed29e-971c-4c16-9a2e-c95ba474d6e4",
   "metadata": {},
   "outputs": [
    {
     "name": "stdout",
     "output_type": "stream",
     "text": [
      " 4854312 1034928337345 2.1193653749942314\n"
     ]
    }
   ],
   "source": [
    "getSpeed((eoslots2main, eoslots2start, eoslots2end), indexed=True)"
   ]
  },
  {
   "cell_type": "markdown",
   "id": "fcd3e27e-831a-40ce-8749-b66a25e0d612",
   "metadata": {},
   "source": [
    "# Observation\n",
    "\n",
    "It is no use to cram all numbers in a single numpy array rather than in a numpy array of numpy arrays.\n",
    "Both the memory footprint and the performance suffer from it.\n",
    "\n",
    "The performance suffers 10 fold with numpy as compared to plain tuples.\n",
    "But the memory footprint decreases almost 15 fold!"
   ]
  },
  {
   "cell_type": "code",
   "execution_count": null,
   "id": "ce693ca7-ebfd-4800-99ff-b7cde92df271",
   "metadata": {},
   "outputs": [],
   "source": []
  }
 ],
 "metadata": {
  "kernelspec": {
   "display_name": "Python 3 (ipykernel)",
   "language": "python",
   "name": "python3"
  },
  "language_info": {
   "codemirror_mode": {
    "name": "ipython",
    "version": 3
   },
   "file_extension": ".py",
   "mimetype": "text/x-python",
   "name": "python",
   "nbconvert_exporter": "python",
   "pygments_lexer": "ipython3",
   "version": "3.11.1"
  }
 },
 "nbformat": 4,
 "nbformat_minor": 5
}
