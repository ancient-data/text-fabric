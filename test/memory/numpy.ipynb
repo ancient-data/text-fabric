{
 "cells": [
  {
   "cell_type": "markdown",
   "id": "fc06a53b-2be7-4fd1-94f8-089f622f1d13",
   "metadata": {},
   "source": [
    "# Numpy arrays\n",
    "\n",
    "We experiment with numpy arrays for storing a lot of data."
   ]
  },
  {
   "cell_type": "markdown",
   "id": "502dbf00-6516-4502-801f-bc9250e23dfd",
   "metadata": {},
   "source": [
    "We load the BHSA in the normal way, end then we write code to represent the levUp data,\n",
    "which is a list of lists of numbers.\n",
    "\n",
    "Can we represent this as a numpy array, and what is the performance gain in terms of memory,\n",
    "and is there a performance penalty in terms of speed?"
   ]
  },
  {
   "cell_type": "code",
   "execution_count": 1,
   "id": "fdf9c8f5-fd3d-4fe2-8f70-65dba7c922c0",
   "metadata": {},
   "outputs": [],
   "source": [
    "%load_ext autoreload\n",
    "%autoreload 2"
   ]
  },
  {
   "cell_type": "code",
   "execution_count": 2,
   "id": "0bfb685d-fc50-4eb2-8180-d25b34855b30",
   "metadata": {},
   "outputs": [],
   "source": [
    "from tf.app import use\n",
    "import functools\n",
    "from timeit import timeit\n",
    "\n",
    "import numpy\n",
    "from pack import deepSize"
   ]
  },
  {
   "cell_type": "code",
   "execution_count": 3,
   "id": "84486ca7-6459-4a34-990f-89a8827007e6",
   "metadata": {},
   "outputs": [],
   "source": [
    "def testPerformance(data):\n",
    "    testMember = 100000\n",
    "    times = 10000000\n",
    "    xTime = timeit(\"data[testMember]\", globals=locals(), number=times)\n",
    "    return xTime"
   ]
  },
  {
   "cell_type": "code",
   "execution_count": null,
   "id": "daceed1d-ca2f-452a-83ac-6d90154a955c",
   "metadata": {},
   "outputs": [
    {
     "data": {
      "text/markdown": [
       "**Locating corpus resources ...**"
      ],
      "text/plain": [
       "<IPython.core.display.Markdown object>"
      ]
     },
     "metadata": {},
     "output_type": "display_data"
    },
    {
     "data": {
      "text/html": [
       "<b title=\"local github\">app:</b> <span title=\"repo clone offline under /Users/me/github\">~/github/ETCBC/bhsa/app</span>"
      ],
      "text/plain": [
       "<IPython.core.display.HTML object>"
      ]
     },
     "metadata": {},
     "output_type": "display_data"
    },
    {
     "data": {
      "text/html": [
       "<b title=\"local github\">data:</b> <span title=\"repo clone offline under /Users/me/github\">~/github/ETCBC/bhsa/tf/2021</span>"
      ],
      "text/plain": [
       "<IPython.core.display.HTML object>"
      ]
     },
     "metadata": {},
     "output_type": "display_data"
    },
    {
     "data": {
      "text/html": [
       "<b title=\"local github\">data:</b> <span title=\"repo clone offline under /Users/me/github\">~/github/ETCBC/phono/tf/2021</span>"
      ],
      "text/plain": [
       "<IPython.core.display.HTML object>"
      ]
     },
     "metadata": {},
     "output_type": "display_data"
    },
    {
     "data": {
      "text/html": [
       "<b title=\"local github\">data:</b> <span title=\"repo clone offline under /Users/me/github\">~/github/ETCBC/parallels/tf/2021</span>"
      ],
      "text/plain": [
       "<IPython.core.display.HTML object>"
      ]
     },
     "metadata": {},
     "output_type": "display_data"
    },
    {
     "name": "stdout",
     "output_type": "stream",
     "text": [
      "This is Text-Fabric 11.4.6\n",
      "122 features found and 0 ignored\n",
      "   |     0.80s T otype                from ~/github/ETCBC/bhsa/tf/2021\n",
      "   |       11s T oslots               from ~/github/ETCBC/bhsa/tf/2021\n",
      "    12s Dataset without structure sections in otext:no structure functions in the T-API\n",
      "   |     0.00s T book@zh              from ~/github/ETCBC/bhsa/tf/2021\n",
      "   |     0.00s T book@pa              from ~/github/ETCBC/bhsa/tf/2021\n",
      "   |     0.00s T book@ja              from ~/github/ETCBC/bhsa/tf/2021\n",
      "   |     0.99s T g_cons_utf8          from ~/github/ETCBC/bhsa/tf/2021\n",
      "   |     0.00s T book@el              from ~/github/ETCBC/bhsa/tf/2021\n",
      "   |     1.05s T g_word               from ~/github/ETCBC/bhsa/tf/2021\n",
      "   |     0.00s T book@ur              from ~/github/ETCBC/bhsa/tf/2021\n",
      "   |     0.00s T book@la              from ~/github/ETCBC/bhsa/tf/2021\n",
      "   |     0.00s T book@es              from ~/github/ETCBC/bhsa/tf/2021\n",
      "   |     0.00s T book@id              from ~/github/ETCBC/bhsa/tf/2021\n",
      "   |     0.00s T book@ko              from ~/github/ETCBC/bhsa/tf/2021\n",
      "   |     0.00s T book@fr              from ~/github/ETCBC/bhsa/tf/2021\n",
      "   |     0.00s T book@pt              from ~/github/ETCBC/bhsa/tf/2021\n",
      "   |     0.95s T lex                  from ~/github/ETCBC/bhsa/tf/2021\n",
      "   |     0.96s T g_cons               from ~/github/ETCBC/bhsa/tf/2021\n",
      "   |     0.00s T book@ar              from ~/github/ETCBC/bhsa/tf/2021\n",
      "   |     0.82s T trailer              from ~/github/ETCBC/bhsa/tf/2021\n",
      "   |     0.00s T book@sw              from ~/github/ETCBC/bhsa/tf/2021\n",
      "   |     0.00s T book@en              from ~/github/ETCBC/bhsa/tf/2021\n",
      "   |     0.00s T book@am              from ~/github/ETCBC/bhsa/tf/2021\n",
      "   |     0.00s T book@ru              from ~/github/ETCBC/bhsa/tf/2021\n",
      "   |     0.97s T lex_utf8             from ~/github/ETCBC/bhsa/tf/2021\n",
      "   |     0.00s T book@de              from ~/github/ETCBC/bhsa/tf/2021\n",
      "   |     0.04s T chapter              from ~/github/ETCBC/bhsa/tf/2021\n",
      "   |     0.00s T book@hi              from ~/github/ETCBC/bhsa/tf/2021\n",
      "   |     0.83s T trailer_utf8         from ~/github/ETCBC/bhsa/tf/2021\n",
      "   |     0.00s T book@tr              from ~/github/ETCBC/bhsa/tf/2021\n",
      "   |     0.04s T verse                from ~/github/ETCBC/bhsa/tf/2021\n",
      "   |     0.01s T qere_utf8            from ~/github/ETCBC/bhsa/tf/2021\n",
      "   |     0.00s T qere_trailer_utf8    from ~/github/ETCBC/bhsa/tf/2021\n",
      "   |     1.12s T g_word_utf8          from ~/github/ETCBC/bhsa/tf/2021\n",
      "   |     0.00s T book@nl              from ~/github/ETCBC/bhsa/tf/2021\n",
      "   |     0.00s T book@bn              from ~/github/ETCBC/bhsa/tf/2021\n",
      "   |     0.00s T book@yo              from ~/github/ETCBC/bhsa/tf/2021\n",
      "   |     0.01s T qere                 from ~/github/ETCBC/bhsa/tf/2021\n",
      "   |     1.00s T g_lex_utf8           from ~/github/ETCBC/bhsa/tf/2021\n",
      "   |     0.00s T book@fa              from ~/github/ETCBC/bhsa/tf/2021\n",
      "   |     0.00s T book@da              from ~/github/ETCBC/bhsa/tf/2021\n",
      "   |     0.00s T book@he              from ~/github/ETCBC/bhsa/tf/2021\n",
      "   |     1.03s T g_lex                from ~/github/ETCBC/bhsa/tf/2021\n",
      "   |     0.05s T book                 from ~/github/ETCBC/bhsa/tf/2021\n",
      "   |     0.00s T book@syc             from ~/github/ETCBC/bhsa/tf/2021\n",
      "   |     1.01s T voc_lex_utf8         from ~/github/ETCBC/bhsa/tf/2021\n",
      "   |     0.00s T qere_trailer         from ~/github/ETCBC/bhsa/tf/2021\n",
      "   |      |     0.26s C __levels__           from otype, oslots, otext\n",
      "   |      |     6.62s C __order__            from otype, oslots, __levels__\n",
      "   |      |     0.30s C __rank__             from otype, __order__\n",
      "   |      |       17s C __levUp__            from otype, oslots, __rank__\n"
     ]
    }
   ],
   "source": [
    "A = use(\"ETCBC/bhsa:clone\", checkout=\"clone\", hoist=globals(), silent=\"verbose\")"
   ]
  },
  {
   "cell_type": "code",
   "execution_count": 22,
   "id": "1e50c687-9360-4404-a8a3-fd53463eb660",
   "metadata": {},
   "outputs": [
    {
     "data": {
      "text/plain": [
       "numpy.uint32"
      ]
     },
     "execution_count": 22,
     "metadata": {},
     "output_type": "execute_result"
    }
   ],
   "source": [
    "x = numpy.array([1, 2, 3], dtype=numpy.uint32)\n",
    "type(x[0])"
   ]
  },
  {
   "cell_type": "code",
   "execution_count": 23,
   "id": "6a65b4bc-9495-4db4-8adc-a46c94fac7f4",
   "metadata": {},
   "outputs": [
    {
     "data": {
      "text/plain": [
       "True"
      ]
     },
     "execution_count": 23,
     "metadata": {},
     "output_type": "execute_result"
    }
   ],
   "source": [
    "type(x[0]) is numpy.uint32"
   ]
  },
  {
   "cell_type": "code",
   "execution_count": 19,
   "id": "fb861751-0b0f-4afd-be61-0cea923bc578",
   "metadata": {},
   "outputs": [
    {
     "name": "stdout",
     "output_type": "stream",
     "text": [
      "  1.12s 53869 results\n"
     ]
    }
   ],
   "source": [
    "results = A.search(\"\"\"\n",
    "clause\n",
    "  phrase function=Pred\n",
    "    word sp=verb\n",
    "\"\"\")"
   ]
  },
  {
   "cell_type": "code",
   "execution_count": 20,
   "id": "cd9f5264-2b8b-4bba-940d-ed8e3e203c45",
   "metadata": {},
   "outputs": [
    {
     "data": {
      "text/plain": [
       "[(427559, 651574, 3), (427560, 651579, 15), (427563, 651589, 33)]"
      ]
     },
     "execution_count": 20,
     "metadata": {},
     "output_type": "execute_result"
    }
   ],
   "source": [
    "results[0:3]"
   ]
  },
  {
   "cell_type": "code",
   "execution_count": 26,
   "id": "43a8aad0-1b74-449b-8f59-fae56e316478",
   "metadata": {},
   "outputs": [
    {
     "name": "stdout",
     "output_type": "stream",
     "text": [
      "single=True nodes=427559\n"
     ]
    },
    {
     "data": {
      "text/plain": [
       "'בְּרֵאשִׁ֖ית בָּרָ֣א אֱלֹהִ֑ים אֵ֥ת הַשָּׁמַ֖יִם וְאֵ֥ת הָאָֽרֶץ׃ '"
      ]
     },
     "execution_count": 26,
     "metadata": {},
     "output_type": "execute_result"
    }
   ],
   "source": [
    "T.text(results[0][0])"
   ]
  },
  {
   "cell_type": "code",
   "execution_count": 28,
   "id": "36a1e56b-5d67-4662-ac50-9cb9f23c86a7",
   "metadata": {},
   "outputs": [
    {
     "data": {
      "text/html": [
       "<p><b>result</b> <i>1</i>"
      ],
      "text/plain": [
       "<IPython.core.display.HTML object>"
      ]
     },
     "metadata": {},
     "output_type": "display_data"
    },
    {
     "data": {
      "text/html": [
       "<div class=\"tfsechead rtl\"><span class=\"ltr\"><a target=\"_blank\" href=\"https://shebanq.ancient-data.org/hebrew/text?book=Genesis&amp;chapter=1&amp;verse=1&amp;version=2021&amp;mr=m&amp;qw=q&amp;tp=txt_p&amp;tr=hb&amp;wget=v&amp;qget=v&amp;nget=vt\" title=\"Show this on SHEBANQ\" sec=\"Genesis 1:1\">Genesis 1:1</a></span></div><div class=\"rtl children\"><div class=\"contnr c3  rtl  \" ><div class=\"lbl c3  \" ><span class=\"nd\">verse </span></div><div class=\"children hor wrap rtl\"><div class=\"contnr c2  rtl  \" ><div class=\"lbl c2  \" ><span class=\"nd\">sentence </span> <span class=\"\"><span title=\"number\">1</span></span></div><div class=\"children hor wrap rtl\"><div class=\"contnr c2  rtl  hl\" ><div class=\"lbl c2  hl\" ><span class=\"nd\">clause </span> <span class=\"\"><span title=\"typ\">xQtX</span> <span title=\"rela\">NA</span></span></div><div class=\"children hor wrap rtl\"><div class=\"contnr c1  rtl  \" ><div class=\"lbl c1  \" ><span class=\"nd\">phrase </span> <span class=\"\"><span title=\"typ\">PP</span> <span title=\"function\">Time</span></span></div><div class=\"features\"><span class=\"function xft\" ><span class=\"f\">function=</span>Time</span></div><div class=\"children hor wrap rtl\"><div class=\"contnr c0 trm rtl  \" ><div class=\"lbl c0 trm \" ><a class=\" txtu hbo\" target=\"_blank\" href=\"https://shebanq.ancient-data.org/hebrew/word?version=2021&amp;id=1B\" title=\"Show this on SHEBANQ\"><span class=\"txtu hbo\">בְּ</span></a></div><div class=\"features\"><span class=\"sp xft\" ><span class=\"f\">sp=</span>prep</span></div></div><div class=\"contnr c0 trm rtl  \" ><div class=\"lbl c0 trm \" ><a class=\" txtu hbo\" target=\"_blank\" href=\"https://shebanq.ancient-data.org/hebrew/word?version=2021&amp;id=1RACJTn\" title=\"Show this on SHEBANQ\"><span class=\"txtu hbo\">רֵאשִׁ֖ית </span></a></div><div class=\"features\"><span class=\"sp xft\" ><span class=\"f\">sp=</span>subs</span></div></div></div></div><div class=\"contnr c1  rtl  hl\" ><div class=\"lbl c1  hl\" ><span class=\"nd\">phrase </span> <span class=\"\"><span title=\"typ\">VP</span> <span title=\"function\">Pred</span></span></div><div class=\"features\"><span class=\"function xft\" ><span class=\"f\">function=</span>Pred</span></div><div class=\"children hor wrap rtl\"><div class=\"contnr c0 trm rtl  hl\" ><div class=\"lbl c0 trm hl\" ><a class=\" txtu hbo\" target=\"_blank\" href=\"https://shebanq.ancient-data.org/hebrew/word?version=2021&amp;id=1BRAv\" title=\"Show this on SHEBANQ\"><span class=\"txtu hbo\">בָּרָ֣א </span></a></div><div class=\"features\"><span class=\"sp xft\" ><span class=\"f\">sp=</span>verb</span></div></div></div></div><div class=\"contnr c1  rtl  \" ><div class=\"lbl c1  \" ><span class=\"nd\">phrase </span> <span class=\"\"><span title=\"typ\">NP</span> <span title=\"function\">Subj</span></span></div><div class=\"features\"><span class=\"function xft\" ><span class=\"f\">function=</span>Subj</span></div><div class=\"children hor wrap rtl\"><div class=\"contnr c0 trm rtl  \" ><div class=\"lbl c0 trm \" ><a class=\" txtu hbo\" target=\"_blank\" href=\"https://shebanq.ancient-data.org/hebrew/word?version=2021&amp;id=1ALHJMn\" title=\"Show this on SHEBANQ\"><span class=\"txtu hbo\">אֱלֹהִ֑ים </span></a></div><div class=\"features\"><span class=\"sp xft\" ><span class=\"f\">sp=</span>subs</span></div></div></div></div><div class=\"contnr c1  rtl  \" ><div class=\"lbl c1  \" ><span class=\"nd\">phrase </span> <span class=\"\"><span title=\"typ\">PP</span> <span title=\"function\">Objc</span></span></div><div class=\"features\"><span class=\"function xft\" ><span class=\"f\">function=</span>Objc</span></div><div class=\"children hor wrap rtl\"><div class=\"contnr c0 trm rtl  \" ><div class=\"lbl c0 trm \" ><a class=\" txtu hbo\" target=\"_blank\" href=\"https://shebanq.ancient-data.org/hebrew/word?version=2021&amp;id=1AT\" title=\"Show this on SHEBANQ\"><span class=\"txtu hbo\">אֵ֥ת </span></a></div><div class=\"features\"><span class=\"sp xft\" ><span class=\"f\">sp=</span>prep</span></div></div><div class=\"contnr c0 trm rtl  \" ><div class=\"lbl c0 trm \" ><a class=\" txtu hbo\" target=\"_blank\" href=\"https://shebanq.ancient-data.org/hebrew/word?version=2021&amp;id=1H\" title=\"Show this on SHEBANQ\"><span class=\"txtu hbo\">הַ</span></a></div><div class=\"features\"><span class=\"sp xft\" ><span class=\"f\">sp=</span>art</span></div></div><div class=\"contnr c0 trm rtl  \" ><div class=\"lbl c0 trm \" ><a class=\" txtu hbo\" target=\"_blank\" href=\"https://shebanq.ancient-data.org/hebrew/word?version=2021&amp;id=1CMJMn\" title=\"Show this on SHEBANQ\"><span class=\"txtu hbo\">שָּׁמַ֖יִם </span></a></div><div class=\"features\"><span class=\"sp xft\" ><span class=\"f\">sp=</span>subs</span></div></div><div class=\"contnr c0 trm rtl  \" ><div class=\"lbl c0 trm \" ><a class=\" txtu hbo\" target=\"_blank\" href=\"https://shebanq.ancient-data.org/hebrew/word?version=2021&amp;id=1W\" title=\"Show this on SHEBANQ\"><span class=\"txtu hbo\">וְ</span></a></div><div class=\"features\"><span class=\"sp xft\" ><span class=\"f\">sp=</span>conj</span></div></div><div class=\"contnr c0 trm rtl  \" ><div class=\"lbl c0 trm \" ><a class=\" txtu hbo\" target=\"_blank\" href=\"https://shebanq.ancient-data.org/hebrew/word?version=2021&amp;id=1AT\" title=\"Show this on SHEBANQ\"><span class=\"txtu hbo\">אֵ֥ת </span></a></div><div class=\"features\"><span class=\"sp xft\" ><span class=\"f\">sp=</span>prep</span></div></div><div class=\"contnr c0 trm rtl  \" ><div class=\"lbl c0 trm \" ><a class=\" txtu hbo\" target=\"_blank\" href=\"https://shebanq.ancient-data.org/hebrew/word?version=2021&amp;id=1H\" title=\"Show this on SHEBANQ\"><span class=\"txtu hbo\">הָ</span></a></div><div class=\"features\"><span class=\"sp xft\" ><span class=\"f\">sp=</span>art</span></div></div><div class=\"contnr c0 trm rtl  \" ><div class=\"lbl c0 trm \" ><a class=\" txtu hbo\" target=\"_blank\" href=\"https://shebanq.ancient-data.org/hebrew/word?version=2021&amp;id=1ARYn\" title=\"Show this on SHEBANQ\"><span class=\"txtu hbo\">אָֽרֶץ׃ </span></a></div><div class=\"features\"><span class=\"sp xft\" ><span class=\"f\">sp=</span>subs</span></div></div></div></div></div></div></div></div></div></div></div>"
      ],
      "text/plain": [
       "<IPython.core.display.HTML object>"
      ]
     },
     "metadata": {},
     "output_type": "display_data"
    },
    {
     "data": {
      "text/html": [
       "<p><b>result</b> <i>2</i>"
      ],
      "text/plain": [
       "<IPython.core.display.HTML object>"
      ]
     },
     "metadata": {},
     "output_type": "display_data"
    },
    {
     "data": {
      "text/html": [
       "<div class=\"tfsechead rtl\"><span class=\"ltr\"><a target=\"_blank\" href=\"https://shebanq.ancient-data.org/hebrew/text?book=Genesis&amp;chapter=1&amp;verse=2&amp;version=2021&amp;mr=m&amp;qw=q&amp;tp=txt_p&amp;tr=hb&amp;wget=v&amp;qget=v&amp;nget=vt\" title=\"Show this on SHEBANQ\" sec=\"Genesis 1:2\">Genesis 1:2</a></span></div><div class=\"rtl children\"><div class=\"contnr c3  rtl  \" ><div class=\"lbl c3  \" ><span class=\"nd\">verse </span></div><div class=\"children hor wrap rtl\"><div class=\"contnr c2  rtl  \" ><div class=\"lbl c2  \" ><span class=\"nd\">sentence </span> <span class=\"\"><span title=\"number\">2</span></span></div><div class=\"children hor wrap rtl\"><div class=\"contnr c2  rtl  hl\" ><div class=\"lbl c2  hl\" ><span class=\"nd\">clause </span> <span class=\"\"><span title=\"typ\">WXQt</span> <span title=\"rela\">NA</span></span></div><div class=\"children hor wrap rtl\"><div class=\"contnr c1  rtl  \" ><div class=\"lbl c1  \" ><span class=\"nd\">phrase </span> <span class=\"\"><span title=\"typ\">CP</span> <span title=\"function\">Conj</span></span></div><div class=\"features\"><span class=\"function xft\" ><span class=\"f\">function=</span>Conj</span></div><div class=\"children hor wrap rtl\"><div class=\"contnr c0 trm rtl  \" ><div class=\"lbl c0 trm \" ><a class=\" txtu hbo\" target=\"_blank\" href=\"https://shebanq.ancient-data.org/hebrew/word?version=2021&amp;id=1W\" title=\"Show this on SHEBANQ\"><span class=\"txtu hbo\">וְ</span></a></div><div class=\"features\"><span class=\"sp xft\" ><span class=\"f\">sp=</span>conj</span></div></div></div></div><div class=\"contnr c1  rtl  \" ><div class=\"lbl c1  \" ><span class=\"nd\">phrase </span> <span class=\"\"><span title=\"typ\">NP</span> <span title=\"function\">Subj</span></span></div><div class=\"features\"><span class=\"function xft\" ><span class=\"f\">function=</span>Subj</span></div><div class=\"children hor wrap rtl\"><div class=\"contnr c0 trm rtl  \" ><div class=\"lbl c0 trm \" ><a class=\" txtu hbo\" target=\"_blank\" href=\"https://shebanq.ancient-data.org/hebrew/word?version=2021&amp;id=1H\" title=\"Show this on SHEBANQ\"><span class=\"txtu hbo\">הָ</span></a></div><div class=\"features\"><span class=\"sp xft\" ><span class=\"f\">sp=</span>art</span></div></div><div class=\"contnr c0 trm rtl  \" ><div class=\"lbl c0 trm \" ><a class=\" txtu hbo\" target=\"_blank\" href=\"https://shebanq.ancient-data.org/hebrew/word?version=2021&amp;id=1ARYn\" title=\"Show this on SHEBANQ\"><span class=\"txtu hbo\">אָ֗רֶץ </span></a></div><div class=\"features\"><span class=\"sp xft\" ><span class=\"f\">sp=</span>subs</span></div></div></div></div><div class=\"contnr c1  rtl  hl\" ><div class=\"lbl c1  hl\" ><span class=\"nd\">phrase </span> <span class=\"\"><span title=\"typ\">VP</span> <span title=\"function\">Pred</span></span></div><div class=\"features\"><span class=\"function xft\" ><span class=\"f\">function=</span>Pred</span></div><div class=\"children hor wrap rtl\"><div class=\"contnr c0 trm rtl  hl\" ><div class=\"lbl c0 trm hl\" ><a class=\" txtu hbo\" target=\"_blank\" href=\"https://shebanq.ancient-data.org/hebrew/word?version=2021&amp;id=1HJHv\" title=\"Show this on SHEBANQ\"><span class=\"txtu hbo\">הָיְתָ֥ה </span></a></div><div class=\"features\"><span class=\"sp xft\" ><span class=\"f\">sp=</span>verb</span></div></div></div></div><div class=\"contnr c1  rtl  \" ><div class=\"lbl c1  \" ><span class=\"nd\">phrase </span> <span class=\"\"><span title=\"typ\">NP</span> <span title=\"function\">PreC</span></span></div><div class=\"features\"><span class=\"function xft\" ><span class=\"f\">function=</span>PreC</span></div><div class=\"children hor wrap rtl\"><div class=\"contnr c0 trm rtl  \" ><div class=\"lbl c0 trm \" ><a class=\" txtu hbo\" target=\"_blank\" href=\"https://shebanq.ancient-data.org/hebrew/word?version=2021&amp;id=1THWn\" title=\"Show this on SHEBANQ\"><span class=\"txtu hbo\">תֹ֨הוּ֙ </span></a></div><div class=\"features\"><span class=\"sp xft\" ><span class=\"f\">sp=</span>subs</span></div></div><div class=\"contnr c0 trm rtl  \" ><div class=\"lbl c0 trm \" ><a class=\" txtu hbo\" target=\"_blank\" href=\"https://shebanq.ancient-data.org/hebrew/word?version=2021&amp;id=1W\" title=\"Show this on SHEBANQ\"><span class=\"txtu hbo\">וָ</span></a></div><div class=\"features\"><span class=\"sp xft\" ><span class=\"f\">sp=</span>conj</span></div></div><div class=\"contnr c0 trm rtl  \" ><div class=\"lbl c0 trm \" ><a class=\" txtu hbo\" target=\"_blank\" href=\"https://shebanq.ancient-data.org/hebrew/word?version=2021&amp;id=1BHWn\" title=\"Show this on SHEBANQ\"><span class=\"txtu hbo\">בֹ֔הוּ </span></a></div><div class=\"features\"><span class=\"sp xft\" ><span class=\"f\">sp=</span>subs</span></div></div></div></div></div></div></div></div><div class=\"contnr c2  rtl  \" ><div class=\"lbl c2  \" ><span class=\"nd\">sentence </span> <span class=\"\"><span title=\"number\">3</span></span></div><div class=\"children hor wrap rtl\"><div class=\"contnr c2  rtl  \" ><div class=\"lbl c2  \" ><span class=\"nd\">clause </span> <span class=\"\"><span title=\"typ\">NmCl</span> <span title=\"rela\">NA</span></span></div><div class=\"children hor wrap rtl\"><div class=\"contnr c1  rtl  \" ><div class=\"lbl c1  \" ><span class=\"nd\">phrase </span> <span class=\"\"><span title=\"typ\">CP</span> <span title=\"function\">Conj</span></span></div><div class=\"features\"><span class=\"function xft\" ><span class=\"f\">function=</span>Conj</span></div><div class=\"children hor wrap rtl\"><div class=\"contnr c0 trm rtl  \" ><div class=\"lbl c0 trm \" ><a class=\" txtu hbo\" target=\"_blank\" href=\"https://shebanq.ancient-data.org/hebrew/word?version=2021&amp;id=1W\" title=\"Show this on SHEBANQ\"><span class=\"txtu hbo\">וְ</span></a></div><div class=\"features\"><span class=\"sp xft\" ><span class=\"f\">sp=</span>conj</span></div></div></div></div><div class=\"contnr c1  rtl  \" ><div class=\"lbl c1  \" ><span class=\"nd\">phrase </span> <span class=\"\"><span title=\"typ\">NP</span> <span title=\"function\">Subj</span></span></div><div class=\"features\"><span class=\"function xft\" ><span class=\"f\">function=</span>Subj</span></div><div class=\"children hor wrap rtl\"><div class=\"contnr c0 trm rtl  \" ><div class=\"lbl c0 trm \" ><a class=\" txtu hbo\" target=\"_blank\" href=\"https://shebanq.ancient-data.org/hebrew/word?version=2021&amp;id=1XCKn\" title=\"Show this on SHEBANQ\"><span class=\"txtu hbo\">חֹ֖שֶׁךְ </span></a></div><div class=\"features\"><span class=\"sp xft\" ><span class=\"f\">sp=</span>subs</span></div></div></div></div><div class=\"contnr c1  rtl  \" ><div class=\"lbl c1  \" ><span class=\"nd\">phrase </span> <span class=\"\"><span title=\"typ\">PP</span> <span title=\"function\">PreC</span></span></div><div class=\"features\"><span class=\"function xft\" ><span class=\"f\">function=</span>PreC</span></div><div class=\"children hor wrap rtl\"><div class=\"contnr c0 trm rtl  \" ><div class=\"lbl c0 trm \" ><a class=\" txtu hbo\" target=\"_blank\" href=\"https://shebanq.ancient-data.org/hebrew/word?version=2021&amp;id=1OL\" title=\"Show this on SHEBANQ\"><span class=\"txtu hbo\">עַל־</span></a></div><div class=\"features\"><span class=\"sp xft\" ><span class=\"f\">sp=</span>prep</span></div></div><div class=\"contnr c0 trm rtl  \" ><div class=\"lbl c0 trm \" ><a class=\" txtu hbo\" target=\"_blank\" href=\"https://shebanq.ancient-data.org/hebrew/word?version=2021&amp;id=1PNHn\" title=\"Show this on SHEBANQ\"><span class=\"txtu hbo\">פְּנֵ֣י </span></a></div><div class=\"features\"><span class=\"sp xft\" ><span class=\"f\">sp=</span>subs</span></div></div><div class=\"contnr c0 trm rtl  \" ><div class=\"lbl c0 trm \" ><a class=\" txtu hbo\" target=\"_blank\" href=\"https://shebanq.ancient-data.org/hebrew/word?version=2021&amp;id=1THWMn\" title=\"Show this on SHEBANQ\"><span class=\"txtu hbo\">תְהֹ֑ום </span></a></div><div class=\"features\"><span class=\"sp xft\" ><span class=\"f\">sp=</span>subs</span></div></div></div></div></div></div></div></div><div class=\"contnr c2  rtl  \" ><div class=\"lbl c2  \" ><span class=\"nd\">sentence </span> <span class=\"\"><span title=\"number\">4</span></span></div><div class=\"children hor wrap rtl\"><div class=\"contnr c2  rtl  \" ><div class=\"lbl c2  \" ><span class=\"nd\">clause </span> <span class=\"\"><span title=\"typ\">Ptcp</span> <span title=\"rela\">NA</span></span></div><div class=\"children hor wrap rtl\"><div class=\"contnr c1  rtl  \" ><div class=\"lbl c1  \" ><span class=\"nd\">phrase </span> <span class=\"\"><span title=\"typ\">CP</span> <span title=\"function\">Conj</span></span></div><div class=\"features\"><span class=\"function xft\" ><span class=\"f\">function=</span>Conj</span></div><div class=\"children hor wrap rtl\"><div class=\"contnr c0 trm rtl  \" ><div class=\"lbl c0 trm \" ><a class=\" txtu hbo\" target=\"_blank\" href=\"https://shebanq.ancient-data.org/hebrew/word?version=2021&amp;id=1W\" title=\"Show this on SHEBANQ\"><span class=\"txtu hbo\">וְ</span></a></div><div class=\"features\"><span class=\"sp xft\" ><span class=\"f\">sp=</span>conj</span></div></div></div></div><div class=\"contnr c1  rtl  \" ><div class=\"lbl c1  \" ><span class=\"nd\">phrase </span> <span class=\"\"><span title=\"typ\">NP</span> <span title=\"function\">Subj</span></span></div><div class=\"features\"><span class=\"function xft\" ><span class=\"f\">function=</span>Subj</span></div><div class=\"children hor wrap rtl\"><div class=\"contnr c0 trm rtl  \" ><div class=\"lbl c0 trm \" ><a class=\" txtu hbo\" target=\"_blank\" href=\"https://shebanq.ancient-data.org/hebrew/word?version=2021&amp;id=1RWXn\" title=\"Show this on SHEBANQ\"><span class=\"txtu hbo\">ר֣וּחַ </span></a></div><div class=\"features\"><span class=\"sp xft\" ><span class=\"f\">sp=</span>subs</span></div></div><div class=\"contnr c0 trm rtl  \" ><div class=\"lbl c0 trm \" ><a class=\" txtu hbo\" target=\"_blank\" href=\"https://shebanq.ancient-data.org/hebrew/word?version=2021&amp;id=1ALHJMn\" title=\"Show this on SHEBANQ\"><span class=\"txtu hbo\">אֱלֹהִ֔ים </span></a></div><div class=\"features\"><span class=\"sp xft\" ><span class=\"f\">sp=</span>subs</span></div></div></div></div><div class=\"contnr c1  rtl  \" ><div class=\"lbl c1  \" ><span class=\"nd\">phrase </span> <span class=\"\"><span title=\"typ\">VP</span> <span title=\"function\">PreC</span></span></div><div class=\"features\"><span class=\"function xft\" ><span class=\"f\">function=</span>PreC</span></div><div class=\"children hor wrap rtl\"><div class=\"contnr c0 trm rtl  \" ><div class=\"lbl c0 trm \" ><a class=\" txtu hbo\" target=\"_blank\" href=\"https://shebanq.ancient-data.org/hebrew/word?version=2021&amp;id=1RXPv\" title=\"Show this on SHEBANQ\"><span class=\"txtu hbo\">מְרַחֶ֖פֶת </span></a></div><div class=\"features\"><span class=\"sp xft\" ><span class=\"f\">sp=</span>verb</span></div></div></div></div><div class=\"contnr c1  rtl  \" ><div class=\"lbl c1  \" ><span class=\"nd\">phrase </span> <span class=\"\"><span title=\"typ\">PP</span> <span title=\"function\">Cmpl</span></span></div><div class=\"features\"><span class=\"function xft\" ><span class=\"f\">function=</span>Cmpl</span></div><div class=\"children hor wrap rtl\"><div class=\"contnr c0 trm rtl  \" ><div class=\"lbl c0 trm \" ><a class=\" txtu hbo\" target=\"_blank\" href=\"https://shebanq.ancient-data.org/hebrew/word?version=2021&amp;id=1OL\" title=\"Show this on SHEBANQ\"><span class=\"txtu hbo\">עַל־</span></a></div><div class=\"features\"><span class=\"sp xft\" ><span class=\"f\">sp=</span>prep</span></div></div><div class=\"contnr c0 trm rtl  \" ><div class=\"lbl c0 trm \" ><a class=\" txtu hbo\" target=\"_blank\" href=\"https://shebanq.ancient-data.org/hebrew/word?version=2021&amp;id=1PNHn\" title=\"Show this on SHEBANQ\"><span class=\"txtu hbo\">פְּנֵ֥י </span></a></div><div class=\"features\"><span class=\"sp xft\" ><span class=\"f\">sp=</span>subs</span></div></div><div class=\"contnr c0 trm rtl  \" ><div class=\"lbl c0 trm \" ><a class=\" txtu hbo\" target=\"_blank\" href=\"https://shebanq.ancient-data.org/hebrew/word?version=2021&amp;id=1H\" title=\"Show this on SHEBANQ\"><span class=\"txtu hbo\">הַ</span></a></div><div class=\"features\"><span class=\"sp xft\" ><span class=\"f\">sp=</span>art</span></div></div><div class=\"contnr c0 trm rtl  \" ><div class=\"lbl c0 trm \" ><a class=\" txtu hbo\" target=\"_blank\" href=\"https://shebanq.ancient-data.org/hebrew/word?version=2021&amp;id=1MJMn\" title=\"Show this on SHEBANQ\"><span class=\"txtu hbo\">מָּֽיִם׃ </span></a></div><div class=\"features\"><span class=\"sp xft\" ><span class=\"f\">sp=</span>subs</span></div></div></div></div></div></div></div></div></div></div></div>"
      ],
      "text/plain": [
       "<IPython.core.display.HTML object>"
      ]
     },
     "metadata": {},
     "output_type": "display_data"
    },
    {
     "data": {
      "text/html": [
       "<p><b>result</b> <i>3</i>"
      ],
      "text/plain": [
       "<IPython.core.display.HTML object>"
      ]
     },
     "metadata": {},
     "output_type": "display_data"
    },
    {
     "data": {
      "text/html": [
       "<div class=\"tfsechead rtl\"><span class=\"ltr\"><a target=\"_blank\" href=\"https://shebanq.ancient-data.org/hebrew/text?book=Genesis&amp;chapter=1&amp;verse=3&amp;version=2021&amp;mr=m&amp;qw=q&amp;tp=txt_p&amp;tr=hb&amp;wget=v&amp;qget=v&amp;nget=vt\" title=\"Show this on SHEBANQ\" sec=\"Genesis 1:3\">Genesis 1:3</a></span></div><div class=\"rtl children\"><div class=\"contnr c3  rtl  \" ><div class=\"lbl c3  \" ><span class=\"nd\">verse </span></div><div class=\"children hor wrap rtl\"><div class=\"contnr c2  rtl  \" ><div class=\"lbl c2  \" ><span class=\"nd\">sentence </span> <span class=\"\"><span title=\"number\">5</span></span></div><div class=\"children hor wrap rtl\"><div class=\"contnr c2  rtl  hl\" ><div class=\"lbl c2  hl\" ><span class=\"nd\">clause </span> <span class=\"\"><span title=\"typ\">WayX</span> <span title=\"rela\">NA</span></span></div><div class=\"children hor wrap rtl\"><div class=\"contnr c1  rtl  \" ><div class=\"lbl c1  \" ><span class=\"nd\">phrase </span> <span class=\"\"><span title=\"typ\">CP</span> <span title=\"function\">Conj</span></span></div><div class=\"features\"><span class=\"function xft\" ><span class=\"f\">function=</span>Conj</span></div><div class=\"children hor wrap rtl\"><div class=\"contnr c0 trm rtl  \" ><div class=\"lbl c0 trm \" ><a class=\" txtu hbo\" target=\"_blank\" href=\"https://shebanq.ancient-data.org/hebrew/word?version=2021&amp;id=1W\" title=\"Show this on SHEBANQ\"><span class=\"txtu hbo\">וַ</span></a></div><div class=\"features\"><span class=\"sp xft\" ><span class=\"f\">sp=</span>conj</span></div></div></div></div><div class=\"contnr c1  rtl  hl\" ><div class=\"lbl c1  hl\" ><span class=\"nd\">phrase </span> <span class=\"\"><span title=\"typ\">VP</span> <span title=\"function\">Pred</span></span></div><div class=\"features\"><span class=\"function xft\" ><span class=\"f\">function=</span>Pred</span></div><div class=\"children hor wrap rtl\"><div class=\"contnr c0 trm rtl  hl\" ><div class=\"lbl c0 trm hl\" ><a class=\" txtu hbo\" target=\"_blank\" href=\"https://shebanq.ancient-data.org/hebrew/word?version=2021&amp;id=1AMRv\" title=\"Show this on SHEBANQ\"><span class=\"txtu hbo\">יֹּ֥אמֶר </span></a></div><div class=\"features\"><span class=\"sp xft\" ><span class=\"f\">sp=</span>verb</span></div></div></div></div><div class=\"contnr c1  rtl  \" ><div class=\"lbl c1  \" ><span class=\"nd\">phrase </span> <span class=\"\"><span title=\"typ\">NP</span> <span title=\"function\">Subj</span></span></div><div class=\"features\"><span class=\"function xft\" ><span class=\"f\">function=</span>Subj</span></div><div class=\"children hor wrap rtl\"><div class=\"contnr c0 trm rtl  \" ><div class=\"lbl c0 trm \" ><a class=\" txtu hbo\" target=\"_blank\" href=\"https://shebanq.ancient-data.org/hebrew/word?version=2021&amp;id=1ALHJMn\" title=\"Show this on SHEBANQ\"><span class=\"txtu hbo\">אֱלֹהִ֖ים </span></a></div><div class=\"features\"><span class=\"sp xft\" ><span class=\"f\">sp=</span>subs</span></div></div></div></div></div></div></div></div><div class=\"contnr c2  rtl  \" ><div class=\"lbl c2  \" ><span class=\"nd\">sentence </span> <span class=\"\"><span title=\"number\">6</span></span></div><div class=\"children hor wrap rtl\"><div class=\"contnr c2  rtl  \" ><div class=\"lbl c2  \" ><span class=\"nd\">clause </span> <span class=\"\"><span title=\"typ\">ZYqX</span> <span title=\"rela\">NA</span></span></div><div class=\"children hor wrap rtl\"><div class=\"contnr c1  rtl  \" ><div class=\"lbl c1  \" ><span class=\"nd\">phrase </span> <span class=\"\"><span title=\"typ\">VP</span> <span title=\"function\">Pred</span></span></div><div class=\"features\"><span class=\"function xft\" ><span class=\"f\">function=</span>Pred</span></div><div class=\"children hor wrap rtl\"><div class=\"contnr c0 trm rtl  \" ><div class=\"lbl c0 trm \" ><a class=\" txtu hbo\" target=\"_blank\" href=\"https://shebanq.ancient-data.org/hebrew/word?version=2021&amp;id=1HJHv\" title=\"Show this on SHEBANQ\"><span class=\"txtu hbo\">יְהִ֣י </span></a></div><div class=\"features\"><span class=\"sp xft\" ><span class=\"f\">sp=</span>verb</span></div></div></div></div><div class=\"contnr c1  rtl  \" ><div class=\"lbl c1  \" ><span class=\"nd\">phrase </span> <span class=\"\"><span title=\"typ\">NP</span> <span title=\"function\">Subj</span></span></div><div class=\"features\"><span class=\"function xft\" ><span class=\"f\">function=</span>Subj</span></div><div class=\"children hor wrap rtl\"><div class=\"contnr c0 trm rtl  \" ><div class=\"lbl c0 trm \" ><a class=\" txtu hbo\" target=\"_blank\" href=\"https://shebanq.ancient-data.org/hebrew/word?version=2021&amp;id=1AWRn\" title=\"Show this on SHEBANQ\"><span class=\"txtu hbo\">אֹ֑ור </span></a></div><div class=\"features\"><span class=\"sp xft\" ><span class=\"f\">sp=</span>subs</span></div></div></div></div></div></div></div></div><div class=\"contnr c2  rtl  \" ><div class=\"lbl c2  \" ><span class=\"nd\">sentence </span> <span class=\"\"><span title=\"number\">7</span></span></div><div class=\"children hor wrap rtl\"><div class=\"contnr c2  rtl  \" ><div class=\"lbl c2  \" ><span class=\"nd\">clause </span> <span class=\"\"><span title=\"typ\">WayX</span> <span title=\"rela\">NA</span></span></div><div class=\"children hor wrap rtl\"><div class=\"contnr c1  rtl  \" ><div class=\"lbl c1  \" ><span class=\"nd\">phrase </span> <span class=\"\"><span title=\"typ\">CP</span> <span title=\"function\">Conj</span></span></div><div class=\"features\"><span class=\"function xft\" ><span class=\"f\">function=</span>Conj</span></div><div class=\"children hor wrap rtl\"><div class=\"contnr c0 trm rtl  \" ><div class=\"lbl c0 trm \" ><a class=\" txtu hbo\" target=\"_blank\" href=\"https://shebanq.ancient-data.org/hebrew/word?version=2021&amp;id=1W\" title=\"Show this on SHEBANQ\"><span class=\"txtu hbo\">וַֽ</span></a></div><div class=\"features\"><span class=\"sp xft\" ><span class=\"f\">sp=</span>conj</span></div></div></div></div><div class=\"contnr c1  rtl  \" ><div class=\"lbl c1  \" ><span class=\"nd\">phrase </span> <span class=\"\"><span title=\"typ\">VP</span> <span title=\"function\">Pred</span></span></div><div class=\"features\"><span class=\"function xft\" ><span class=\"f\">function=</span>Pred</span></div><div class=\"children hor wrap rtl\"><div class=\"contnr c0 trm rtl  \" ><div class=\"lbl c0 trm \" ><a class=\" txtu hbo\" target=\"_blank\" href=\"https://shebanq.ancient-data.org/hebrew/word?version=2021&amp;id=1HJHv\" title=\"Show this on SHEBANQ\"><span class=\"txtu hbo\">יְהִי־</span></a></div><div class=\"features\"><span class=\"sp xft\" ><span class=\"f\">sp=</span>verb</span></div></div></div></div><div class=\"contnr c1  rtl  \" ><div class=\"lbl c1  \" ><span class=\"nd\">phrase </span> <span class=\"\"><span title=\"typ\">NP</span> <span title=\"function\">Subj</span></span></div><div class=\"features\"><span class=\"function xft\" ><span class=\"f\">function=</span>Subj</span></div><div class=\"children hor wrap rtl\"><div class=\"contnr c0 trm rtl  \" ><div class=\"lbl c0 trm \" ><a class=\" txtu hbo\" target=\"_blank\" href=\"https://shebanq.ancient-data.org/hebrew/word?version=2021&amp;id=1AWRn\" title=\"Show this on SHEBANQ\"><span class=\"txtu hbo\">אֹֽור׃ </span></a></div><div class=\"features\"><span class=\"sp xft\" ><span class=\"f\">sp=</span>subs</span></div></div></div></div></div></div></div></div></div></div></div>"
      ],
      "text/plain": [
       "<IPython.core.display.HTML object>"
      ]
     },
     "metadata": {},
     "output_type": "display_data"
    }
   ],
   "source": [
    "A.show(results, end=3)"
   ]
  },
  {
   "cell_type": "markdown",
   "id": "6dec12f4-c027-42b2-8d71-87211ba6a91e",
   "metadata": {},
   "source": [
    "Now we compute an alternative representation for the levUp data."
   ]
  },
  {
   "cell_type": "code",
   "execution_count": 12,
   "id": "b4bb41b0-aeb5-480a-9421-ca932cbc9e9f",
   "metadata": {},
   "outputs": [],
   "source": [
    "info = A.info\n",
    "error = A.error\n",
    "otype = A.TF.features[\"otype\"].data\n",
    "oslots = A.TF.features[\"oslots\"].data\n",
    "rank = C.rank.data"
   ]
  },
  {
   "cell_type": "code",
   "execution_count": 45,
   "id": "7038a418-a5d9-452a-9fd9-b35c2600b92a",
   "metadata": {},
   "outputs": [],
   "source": [
    "def levUp(info, error, otype, oslots, rank):\n",
    "    (otype, maxSlot, maxNode, slotType) = otype\n",
    "    oslots = oslots[0]\n",
    "    info(\"making inverse of edge feature oslots\")\n",
    "    oslotsInv = {}\n",
    "    for (k, mList) in enumerate(oslots):\n",
    "        for m in mList:\n",
    "            oslotsInv.setdefault(m, set()).add(k + 1 + maxSlot)\n",
    "    info(\"listing embedders of all nodes\")\n",
    "    embedders = []\n",
    "    for n in range(1, maxSlot + 1):\n",
    "        contentEmbedders = oslotsInv.get(n, tuple())\n",
    "        embedders.append(\n",
    "            numpy.array(\n",
    "                sorted(\n",
    "                    (m for m in contentEmbedders if m != n),\n",
    "                    key=lambda k: -rank[k - 1],\n",
    "                ),\n",
    "                dtype=\"uint32\",\n",
    "            )\n",
    "        )\n",
    "    seen = {}\n",
    "    for n in range(maxSlot + 1, maxNode + 1):\n",
    "        mList = tuple(oslots[n - maxSlot - 1])\n",
    "        if mList in seen:\n",
    "            theseEmbedders = seen[mList]\n",
    "        else:\n",
    "            if len(mList) == 0:\n",
    "                theseEmbedders = numpy.array()\n",
    "            else:\n",
    "                contentEmbedders = functools.reduce(\n",
    "                    lambda x, y: x & oslotsInv[y],\n",
    "                    mList[1:],\n",
    "                    oslotsInv[mList[0]],\n",
    "                )\n",
    "                theseEmbedders = numpy.array(\n",
    "                    sorted(\n",
    "                        (m for m in contentEmbedders if m != n),\n",
    "                        key=lambda k: -rank[k - 1],\n",
    "                    ),\n",
    "                    dtype=\"uint32\",\n",
    "                )\n",
    "            seen[mList] = theseEmbedders\n",
    "        embedders.append(theseEmbedders)\n",
    "    return numpy.array(embedders, dtype=object)"
   ]
  },
  {
   "cell_type": "code",
   "execution_count": 46,
   "id": "27a3ba17-6848-44f5-a645-5a8b661c0986",
   "metadata": {},
   "outputs": [
    {
     "name": "stdout",
     "output_type": "stream",
     "text": [
      "36m 31s making inverse of edge feature oslots\n",
      "36m 32s listing embedders of all nodes\n"
     ]
    }
   ],
   "source": [
    "levUpN = levUp(info, error, otype, oslots, rank)"
   ]
  },
  {
   "cell_type": "code",
   "execution_count": 47,
   "id": "58342835-091e-4f90-ad1b-a77462b64a56",
   "metadata": {},
   "outputs": [
    {
     "data": {
      "text/plain": [
       "310102620"
      ]
     },
     "execution_count": 47,
     "metadata": {},
     "output_type": "execute_result"
    }
   ],
   "source": [
    "deepSize(C.levUp.data)"
   ]
  },
  {
   "cell_type": "code",
   "execution_count": 48,
   "id": "be641fe5-0ac3-46ce-801d-2514ef3427ec",
   "metadata": {},
   "outputs": [
    {
     "data": {
      "text/plain": [
       "11574760"
      ]
     },
     "execution_count": 48,
     "metadata": {},
     "output_type": "execute_result"
    }
   ],
   "source": [
    "deepSize(levUpN)"
   ]
  },
  {
   "cell_type": "code",
   "execution_count": 42,
   "id": "e4bf4819-a31f-471e-9362-a7fadaa6090d",
   "metadata": {},
   "outputs": [
    {
     "data": {
      "text/plain": [
       "0.15462375000061002"
      ]
     },
     "execution_count": 42,
     "metadata": {},
     "output_type": "execute_result"
    }
   ],
   "source": [
    "testPerformance(C.levUp.data)"
   ]
  },
  {
   "cell_type": "code",
   "execution_count": 41,
   "id": "46a062ad-2656-4d25-a647-38caed13d365",
   "metadata": {},
   "outputs": [
    {
     "data": {
      "text/plain": [
       "0.30584074999933364"
      ]
     },
     "execution_count": 41,
     "metadata": {},
     "output_type": "execute_result"
    }
   ],
   "source": [
    "testPerformance(levUpN)"
   ]
  },
  {
   "cell_type": "code",
   "execution_count": null,
   "id": "6cea5b65-fc5d-4baa-8f11-9c1e97a12130",
   "metadata": {},
   "outputs": [],
   "source": []
  }
 ],
 "metadata": {
  "kernelspec": {
   "display_name": "Python 3 (ipykernel)",
   "language": "python",
   "name": "python3"
  },
  "language_info": {
   "codemirror_mode": {
    "name": "ipython",
    "version": 3
   },
   "file_extension": ".py",
   "mimetype": "text/x-python",
   "name": "python",
   "nbconvert_exporter": "python",
   "pygments_lexer": "ipython3",
   "version": "3.11.1"
  }
 },
 "nbformat": 4,
 "nbformat_minor": 5
}
