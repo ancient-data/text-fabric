{
 "cells": [
  {
   "cell_type": "markdown",
   "metadata": {
    "jp-MarkdownHeadingCollapsed": true
   },
   "source": [
    "# Hands On with the fabric of an ancient text\n",
    "\n",
    "Before the hands-on session, make sure Python 3.6 or higher is installed.\n",
    "\n",
    "Then install Text-Fabric and Jupyter.\n",
    "\n",
    "Do it by following the instructions in the\n",
    "[Text-Fabric docs](https://annotation.github.io/text-fabric/tf/about/install.html)\n",
    "\n",
    "After that install `seaborn`, a python library for graphic plots:\n",
    "\n",
    "```\n",
    "pip install seaborn\n",
    "```\n",
    "\n",
    "or\n",
    "\n",
    "```\n",
    "pip3  install seaborn\n",
    "```\n",
    "\n",
    "(if you have installed Text-Fabric you know  which)"
   ]
  },
  {
   "cell_type": "markdown",
   "metadata": {},
   "source": [
    "# Corpus\n",
    "\n",
    "The list of available corpora is [here](https://annotation.github.io/text-fabric/tf/about/corpora).\n",
    "\n",
    "There are hands-on guides for \n",
    "\n",
    "* [`oldbabylonian` Old Babylonian Letters](oldbabylonian.ipynb)\n",
    "* [`dss` Dead Sea Scrolls](dss.ipynb)\n",
    "* [`quran` Q'uran](quran.ipynb)\n",
    "\n",
    "Each hands-on guide takes you through the activities of browsing the corpus, searching it, and collecting\n",
    "information that cannot easily expressed as a search instruction.\n",
    "\n",
    "These three corpora differ in data features, section structure, granularity, richness of data features.\n",
    "That is why the toy problems in these hands on are different. It is worth studying all three of them.\n",
    "\n",
    "Head over to the hands-on guide corpus of your prime interest by clicking one of the three links above.\n",
    "\n",
    "These guides will let you download the corpus data.\n",
    "\n",
    "Please do that before the hands-on session."
   ]
  },
  {
   "cell_type": "markdown",
   "metadata": {},
   "source": [
    "# Problems?\n",
    "\n",
    "If things are not going as expected, file an issue on\n",
    "[GitHub](https://github.com/annotation/text-fabric/issues)."
   ]
  },
  {
   "cell_type": "code",
   "execution_count": null,
   "metadata": {},
   "outputs": [],
   "source": []
  }
 ],
 "metadata": {
  "kernelspec": {
   "display_name": "Python 3 (ipykernel)",
   "language": "python",
   "name": "python3"
  },
  "language_info": {
   "codemirror_mode": {
    "name": "ipython",
    "version": 3
   },
   "file_extension": ".py",
   "mimetype": "text/x-python",
   "name": "python",
   "nbconvert_exporter": "python",
   "pygments_lexer": "ipython3",
   "version": "3.12.4"
  }
 },
 "nbformat": 4,
 "nbformat_minor": 4
}
