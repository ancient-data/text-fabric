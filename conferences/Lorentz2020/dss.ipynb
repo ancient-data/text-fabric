{
 "cells": [
  {
   "cell_type": "markdown",
   "metadata": {},
   "source": [
    "# Getting started\n",
    "\n",
    "It is assumed that you have read\n",
    "[start](start.ipynb)\n",
    "and followed the installation instructions there."
   ]
  },
  {
   "cell_type": "markdown",
   "metadata": {},
   "source": [
    "# Corpus\n",
    "\n",
    "This is:\n",
    "\n",
    "* `dss` Dead Sea Scrolls"
   ]
  },
  {
   "cell_type": "markdown",
   "metadata": {},
   "source": [
    "# First acquaintance\n",
    "\n",
    "We just want to grasp what the corpus is about and how we can find our way in the data.\n",
    "\n",
    "Open a terminal or command prompt and say one of the following\n",
    "\n",
    "```text-fabric dss```\n",
    "\n",
    "Wait and see a lot happening before your browser starts up and shows you an interface on the corpus:"
   ]
  },
  {
   "cell_type": "markdown",
   "metadata": {},
   "source": [
    "Text-Fabric needs an app to deal with the corpus-specific things.\n",
    "It downloads/finds/caches the latest version of the **app**:\n",
    "\n",
    "```\n",
    "Using TF-app in /Users/dirk/text-fabric-data/annotation/app-dss/code:\n",
    "\trv0.6=#304d66fd7eab50bbe4de8505c24d8b3eca30b1f1 (latest release)\n",
    "```\n",
    "\n",
    "It downloads/finds/caches the latest version of the **data**:\n",
    "\n",
    "```\n",
    "Using data in /Users/dirk/text-fabric-data/etcbc/dss/tf/0.6:\n",
    "\trv0.6=#9b52e40a8a36391b60807357fa94343c510bdee0 (latest release)\n",
    "```\n",
    "\n",
    "The data is preprocessed in order to speed up typical Text-Fabric operations.\n",
    "The result is cached on your computer.\n",
    "Preprocessing costs time. Next time you use this corpus on this machine, the startup time is much quicker.\n",
    "\n",
    "```\n",
    "TF setup done.\n",
    "```\n",
    "\n",
    "Then the app goes on to act as a local webserver serving the corpus that has just been downloaded\n",
    "and it will open your browser for you and load the corpus page\n",
    "\n",
    "```\n",
    " * Running on http://localhost:8107/ (Press CTRL+C to quit)\n",
    "Opening dss in browser\n",
    "Listening at port 18987\n",
    "```"
   ]
  },
  {
   "cell_type": "markdown",
   "metadata": {},
   "source": [
    "<img src=\"images/dss-bare.png\" width=\"600\">"
   ]
  },
  {
   "cell_type": "markdown",
   "metadata": {},
   "source": [
    "# Help!\n",
    "\n",
    "Indeed, that is what you need. Click the vertical `Help` tab.\n",
    "\n",
    "From there, click around a little bit. Don't read closely, just note the kinds of information that is presented to you.\n",
    "\n",
    "Later on, it will make more sense!"
   ]
  },
  {
   "cell_type": "markdown",
   "metadata": {},
   "source": [
    "# Browsing\n",
    "\n",
    "First we browse our data. Click the browse button.\n",
    "\n",
    "<img src=\"images/dss-browse.png\" width=\"800\">\n",
    "\n",
    "and then, in the table of *documents* (scrolls), click on a fragment of scroll `1QSb`: \n",
    "\n",
    "<img src=\"images/dss-documents.png\" width=\"200\">\n"
   ]
  },
  {
   "cell_type": "markdown",
   "metadata": {},
   "source": [
    "Now you're looking at a fragment of a scroll: the writing in Hebrew characters without vowel signs.\n",
    "\n",
    "<img src=\"images/dss-fragment.png\" width=\"800\">"
   ]
  },
  {
   "cell_type": "markdown",
   "metadata": {},
   "source": [
    "Now click the *Options* tab and select the `layout-orig-unicode` format to see the same fragment in a layout that indicates the status\n",
    "of the pieces of writing.\n",
    "\n",
    "<img src=\"images/dss-layout.png\" width=\"1000\">"
   ]
  },
  {
   "cell_type": "markdown",
   "metadata": {},
   "source": [
    "You can click a triangle to see how a line is broken down:\n",
    "\n",
    "<img src=\"images/dss-drill.png\" width=\"800\">"
   ]
  },
  {
   "cell_type": "markdown",
   "metadata": {},
   "source": [
    "# Searching\n",
    "\n",
    "In this corpus there is a lot of attention for the uncertainty of signs and whether they have been corrected, either in antiquity or\n",
    "in more modern times.\n",
    "\n",
    "Also, the corpus is marked up with part-of-speech for each word.\n",
    "\n",
    "So we can, for example, search for *verbs* that have an uncertain or corrected or removed consonant in them.\n",
    "\n",
    "```\n",
    "word sp=verb\n",
    "  sign type=cons\n",
    "  /with/\n",
    "  .. unc=1|2|3|4\n",
    "  /or/\n",
    "  .. cor=1|2|3\n",
    "  /or/\n",
    "  .. rem=1|2\n",
    "  /or/\n",
    "  .. rec=1\n",
    "  /-/\n",
    "```\n",
    "\n",
    "<img src=\"images/dss-search.png\" width=\"1200\">"
   ]
  },
  {
   "cell_type": "markdown",
   "metadata": {},
   "source": [
    "In English:\n",
    "\n",
    "search all `word`s that contain a `sign` with feature `type`\n",
    "having value `cons` (consonant) where at least one of the following holds for\n",
    "that sign:\n",
    "\n",
    "* the feature `unc` has value `1` or `2` or `3`  or `4`\n",
    "* the feature `cor` has value `1` or `2` or `3`\n",
    "* the feature `rem` has value `1` or `2`\n",
    "* the feature `rec` has value `1`\n"
   ]
  },
  {
   "cell_type": "markdown",
   "metadata": {},
   "source": [
    "Words with multiple uncertain signs correspond with multiple results. We can condense the results in such a way that all results for the same word are shown as one result.\n",
    "\n",
    "Click the options tab, check *condense results*, and check *word* as the container into you want to condense.\n",
    "\n",
    "<img src=\"images/dss-search2.png\" width=\"1200\">"
   ]
  },
  {
   "cell_type": "markdown",
   "metadata": {},
   "source": [
    "You can expand results by clicking the triangle. \n",
    "\n",
    "You can see the result in context by  clicking the browse icon.\n",
    "\n",
    "You can go back to the result list by clicking the results icon.\n",
    "\n",
    "<img src=\"images/dss-back.png\" width=\"1000\">"
   ]
  },
  {
   "cell_type": "markdown",
   "metadata": {},
   "source": [
    "# Computing\n",
    "\n",
    "This triggers other questions.\n",
    "\n",
    "For example: how many verbs are there, if there are already 37344 with uncertain signs?"
   ]
  },
  {
   "cell_type": "markdown",
   "metadata": {},
   "source": [
    "How is uncertainty distributed over the verbs?\n",
    "I.e. how many verbs have how many uncertain/corrected/removed signs?\n",
    "\n",
    "*This is a typical question where you want to leave the search mode and enter computing mode*.\n",
    "\n",
    "Let's find out.\n",
    "\n",
    "Extra information:\n",
    "\n",
    "* the features `unc`, `cor`, `rem` have values 1, 2, 3, 4 that indicate the kind of uncertainty, correction, removal.\n",
    "  We just use those values as the seriousness of the uncertainty.\n",
    "  Essentially, we just sum up all values of these features for each sign.\n",
    "* the feature `rec` means, if that the sign is reconstructed. We consider it to be severely uncertain, and add the penalty 10 for\n",
    "  such signs.\n",
    "\n",
    "Open your terminal and say\n",
    "\n",
    "``` sh\n",
    "jupyter notebook\n",
    "```\n",
    "\n",
    "Your browser starts up and presents you a local computing environment where you can run Python programs.\n",
    "\n",
    "You see cells like the one below, where you can type programming statements and execute them by pressing `Shift Enter`."
   ]
  },
  {
   "cell_type": "code",
   "execution_count": null,
   "metadata": {},
   "outputs": [],
   "source": []
  },
  {
   "cell_type": "markdown",
   "metadata": {},
   "source": [
    "First we load the Text-Fabric module, as follows:"
   ]
  },
  {
   "cell_type": "code",
   "execution_count": 1,
   "metadata": {},
   "outputs": [],
   "source": [
    "from tf.app import use"
   ]
  },
  {
   "cell_type": "markdown",
   "metadata": {},
   "source": [
    "Now we load the TF-app for the corpus `dss` and that app loads the corpus data.\n",
    "\n",
    "We give a name to the result of all that loading: `A`."
   ]
  },
  {
   "cell_type": "code",
   "execution_count": 3,
   "metadata": {},
   "outputs": [
    {
     "data": {
      "text/markdown": [
       "**Locating corpus resources ...**"
      ],
      "text/plain": [
       "<IPython.core.display.Markdown object>"
      ]
     },
     "metadata": {},
     "output_type": "display_data"
    },
    {
     "data": {
      "text/html": [
       "<b title=\"local release\">app:</b> <span title=\"rv1.9=#gd796845ffd026d7896a29d71f730d471cba06631 offline under /Users/me/text-fabric-data/github\">~/text-fabric-data/github/ETCBC/dss/app</span>"
      ],
      "text/plain": [
       "<IPython.core.display.HTML object>"
      ]
     },
     "metadata": {},
     "output_type": "display_data"
    },
    {
     "data": {
      "text/html": [
       "<b title=\"local release\">data:</b> <span title=\"rv1.9=#gd796845ffd026d7896a29d71f730d471cba06631 offline under /Users/me/text-fabric-data/github\">~/text-fabric-data/github/ETCBC/dss/tf/1.9</span>"
      ],
      "text/plain": [
       "<IPython.core.display.HTML object>"
      ]
     },
     "metadata": {},
     "output_type": "display_data"
    },
    {
     "data": {
      "text/html": [
       "<b title=\"local release\">data:</b> <span title=\"rv1.9=#gd796845ffd026d7896a29d71f730d471cba06631 offline under /Users/me/text-fabric-data/github\">~/text-fabric-data/github/ETCBC/dss/parallels/tf/1.9</span>"
      ],
      "text/plain": [
       "<IPython.core.display.HTML object>"
      ]
     },
     "metadata": {},
     "output_type": "display_data"
    },
    {
     "data": {
      "text/html": [
       "\n",
       "            <b>TF:</b> <a target=\"_blank\" href=\"https://annotation.github.io/text-fabric/tf/cheatsheet.html\" title=\"text-fabric api\">TF API 12.5.4</a>, <a target=\"_blank\" href=\"https://github.com/ETCBC/dss/blob/master/app\" title=\"ETCBC/dss app\">ETCBC/dss/app  v3</a>, <a target=\"_blank\" href=\"https://annotation.github.io/text-fabric/tf/about/searchusage.html\" title=\"Search Templates Introduction and Reference\">Search Reference</a><br>\n",
       "            <b>Data:</b> <a target=\"_blank\" href=\"https://github.com/ETCBC/dss/blob/master/docs/about.md\" title=\"provenance of Dead Sea Scrolls\">ETCBC - dss 1.9</a>, <a target=\"_blank\" href=\"https://annotation.github.io/text-fabric/tf/writing/hebrew.html\" title=\"How TF features represent text\">Character table</a>, <a target=\"_blank\" href=\"https://github.com/ETCBC/dss/blob/master/docs/transcription.md\" title=\"ETCBC - dss feature documentation\">Feature docs</a><br>\n",
       "            <details class=\"nodeinfo\"><summary><b>Node types</b></summary>\n",
       "<table class=\"nodeinfo\">\n",
       "    <tr>\n",
       "        <th>Name</th>\n",
       "        <th># of nodes</th>\n",
       "        <th># slots / node</th>\n",
       "        <th>% coverage</th>\n",
       "    </tr>\n",
       "\n",
       "<tr>\n",
       "    <th>scroll</th>\n",
       "    <td>1001</td>\n",
       "    <td>1428.81</td>\n",
       "    <td><b>100</b></td>\n",
       "</tr>\n",
       "\n",
       "<tr>\n",
       "    <th>lex</th>\n",
       "    <td>10450</td>\n",
       "    <td>129.14</td>\n",
       "    <td>94</td>\n",
       "</tr>\n",
       "\n",
       "<tr>\n",
       "    <th>fragment</th>\n",
       "    <td>11182</td>\n",
       "    <td>127.91</td>\n",
       "    <td><b>100</b></td>\n",
       "</tr>\n",
       "\n",
       "<tr>\n",
       "    <th>line</th>\n",
       "    <td>52895</td>\n",
       "    <td>27.04</td>\n",
       "    <td><b>100</b></td>\n",
       "</tr>\n",
       "\n",
       "<tr>\n",
       "    <th>clause</th>\n",
       "    <td>125</td>\n",
       "    <td>12.85</td>\n",
       "    <td>0</td>\n",
       "</tr>\n",
       "\n",
       "<tr>\n",
       "    <th>cluster</th>\n",
       "    <td>101099</td>\n",
       "    <td>6.68</td>\n",
       "    <td>47</td>\n",
       "</tr>\n",
       "\n",
       "<tr>\n",
       "    <th>phrase</th>\n",
       "    <td>315</td>\n",
       "    <td>5.10</td>\n",
       "    <td>0</td>\n",
       "</tr>\n",
       "\n",
       "<tr>\n",
       "    <th>word</th>\n",
       "    <td>500995</td>\n",
       "    <td>2.81</td>\n",
       "    <td>99</td>\n",
       "</tr>\n",
       "\n",
       "<tr>\n",
       "    <th><i>sign</i></th>\n",
       "    <td>1430241</td>\n",
       "    <td>1.00</td>\n",
       "    <td><b>100</b></td>\n",
       "</tr>\n",
       "</table></details>\n",
       "            <b>Sets:</b> no custom sets<br>\n",
       "            <b>Features:</b><br>\n",
       "<details><summary><b><github>ETCBC/dss/parallels/tf</b></summary>\n",
       "    <div class=\"fcorpus\">\n",
       "\n",
       "<div class=\"frow\">\n",
       "    <div class=\"fnamecat edge\">\n",
       "<a target=\"_blank\" href=\"https://github.com/ETCBC/dss/tree/master/parallels/tf\" title=\"~/text-fabric-data/github/ETCBC/dss/parallels/tf/1.9/sim.tf\">sim</a>\n",
       "</div>\n",
       "<div class=\"fmono\">int</div>\n",
       "\n",
       "<span> similarity between lines, as a percentage of the common material wrt the combined material</span>\n",
       "\n",
       "</div>\n",
       "\n",
       "    </div>\n",
       "</details>\n",
       "\n",
       "<details><summary><b>Dead Sea Scrolls</b></summary>\n",
       "    <div class=\"fcorpus\">\n",
       "\n",
       "<div class=\"frow\">\n",
       "    <div class=\"fnamecat \">\n",
       "<a target=\"_blank\" href=\"https://github.com/ETCBC/dss/blob/master/docs/transcription.md\" title=\"~/text-fabric-data/github/ETCBC/dss/tf/1.9/after.tf\">after</a>\n",
       "</div>\n",
       "<div class=\"fmono\">str</div>\n",
       "\n",
       "<span> space behind the word, if any</span>\n",
       "\n",
       "</div>\n",
       "\n",
       "<div class=\"frow\">\n",
       "    <div class=\"fnamecat \">\n",
       "<a target=\"_blank\" href=\"https://github.com/ETCBC/dss/blob/master/docs/transcription.md\" title=\"~/text-fabric-data/github/ETCBC/dss/tf/1.9/alt.tf\">alt</a>\n",
       "</div>\n",
       "<div class=\"fmono\">int</div>\n",
       "\n",
       "<span> alternative reading</span>\n",
       "\n",
       "</div>\n",
       "\n",
       "<div class=\"frow\">\n",
       "    <div class=\"fnamecat \">\n",
       "<a target=\"_blank\" href=\"https://github.com/ETCBC/dss/blob/master/docs/transcription.md\" title=\"~/text-fabric-data/github/ETCBC/dss/tf/1.9/biblical.tf\">biblical</a>\n",
       "</div>\n",
       "<div class=\"fmono\">int</div>\n",
       "\n",
       "<span> whether we are in biblical material or not</span>\n",
       "\n",
       "</div>\n",
       "\n",
       "<div class=\"frow\">\n",
       "    <div class=\"fnamecat \">\n",
       "<a target=\"_blank\" href=\"https://github.com/ETCBC/dss/blob/master/docs/transcription.md\" title=\"~/text-fabric-data/github/ETCBC/dss/tf/1.9/book.tf\">book</a>\n",
       "</div>\n",
       "<div class=\"fmono\">str</div>\n",
       "\n",
       "<span> acronym of the book in which the word occurs</span>\n",
       "\n",
       "</div>\n",
       "\n",
       "<div class=\"frow\">\n",
       "    <div class=\"fnamecat \">\n",
       "<a target=\"_blank\" href=\"https://github.com/ETCBC/dss/blob/master/docs/transcription.md\" title=\"~/text-fabric-data/github/ETCBC/dss/tf/1.9/book_etcbc.tf\">book_etcbc</a>\n",
       "</div>\n",
       "<div class=\"fmono\">str</div>\n",
       "\n",
       "<span> Dead Sea Scrolls: additions based on BHSA</span>\n",
       "\n",
       "</div>\n",
       "\n",
       "<div class=\"frow\">\n",
       "    <div class=\"fnamecat \">\n",
       "<a target=\"_blank\" href=\"https://github.com/ETCBC/dss/blob/master/docs/transcription.md\" title=\"~/text-fabric-data/github/ETCBC/dss/tf/1.9/chapter.tf\">chapter</a>\n",
       "</div>\n",
       "<div class=\"fmono\">str</div>\n",
       "\n",
       "<span> label of the chapter in which the word occurs</span>\n",
       "\n",
       "</div>\n",
       "\n",
       "<div class=\"frow\">\n",
       "    <div class=\"fnamecat \">\n",
       "<a target=\"_blank\" href=\"https://github.com/ETCBC/dss/blob/master/docs/transcription.md\" title=\"~/text-fabric-data/github/ETCBC/dss/tf/1.9/cl.tf\">cl</a>\n",
       "</div>\n",
       "<div class=\"fmono\">str</div>\n",
       "\n",
       "<span> class (morphology tag)</span>\n",
       "\n",
       "</div>\n",
       "\n",
       "<div class=\"frow\">\n",
       "    <div class=\"fnamecat \">\n",
       "<a target=\"_blank\" href=\"https://github.com/ETCBC/dss/blob/master/docs/transcription.md\" title=\"~/text-fabric-data/github/ETCBC/dss/tf/1.9/cl2.tf\">cl2</a>\n",
       "</div>\n",
       "<div class=\"fmono\">str</div>\n",
       "\n",
       "<span> class (for part 2) (morphology tag)</span>\n",
       "\n",
       "</div>\n",
       "\n",
       "<div class=\"frow\">\n",
       "    <div class=\"fnamecat \">\n",
       "<a target=\"_blank\" href=\"https://github.com/ETCBC/dss/blob/master/docs/transcription.md\" title=\"~/text-fabric-data/github/ETCBC/dss/tf/1.9/cor.tf\">cor</a>\n",
       "</div>\n",
       "<div class=\"fmono\">int</div>\n",
       "\n",
       "<span> correction made by an ancient or modern editor</span>\n",
       "\n",
       "</div>\n",
       "\n",
       "<div class=\"frow\">\n",
       "    <div class=\"fnamecat \">\n",
       "<a target=\"_blank\" href=\"https://github.com/ETCBC/dss/blob/master/docs/transcription.md\" title=\"~/text-fabric-data/github/ETCBC/dss/tf/1.9/fragment.tf\">fragment</a>\n",
       "</div>\n",
       "<div class=\"fmono\">str</div>\n",
       "\n",
       "<span> label of a fragment of a scroll</span>\n",
       "\n",
       "</div>\n",
       "\n",
       "<div class=\"frow\">\n",
       "    <div class=\"fnamecat \">\n",
       "<a target=\"_blank\" href=\"https://github.com/ETCBC/dss/blob/master/docs/transcription.md\" title=\"~/text-fabric-data/github/ETCBC/dss/tf/1.9/full.tf\">full</a>\n",
       "</div>\n",
       "<div class=\"fmono\">str</div>\n",
       "\n",
       "<span> full transcription (Unicode) of a word including flags and brackets</span>\n",
       "\n",
       "</div>\n",
       "\n",
       "<div class=\"frow\">\n",
       "    <div class=\"fnamecat \">\n",
       "<a target=\"_blank\" href=\"https://github.com/ETCBC/dss/blob/master/docs/transcription.md\" title=\"~/text-fabric-data/github/ETCBC/dss/tf/1.9/fulle.tf\">fulle</a>\n",
       "</div>\n",
       "<div class=\"fmono\">str</div>\n",
       "\n",
       "<span> full transcription (ETCBC transliteration) of a word including flags and brackets</span>\n",
       "\n",
       "</div>\n",
       "\n",
       "<div class=\"frow\">\n",
       "    <div class=\"fnamecat \">\n",
       "<a target=\"_blank\" href=\"https://github.com/ETCBC/dss/blob/master/docs/transcription.md\" title=\"~/text-fabric-data/github/ETCBC/dss/tf/1.9/fullo.tf\">fullo</a>\n",
       "</div>\n",
       "<div class=\"fmono\">str</div>\n",
       "\n",
       "<span> full transcription (original source) of a word including flags and brackets</span>\n",
       "\n",
       "</div>\n",
       "\n",
       "<div class=\"frow\">\n",
       "    <div class=\"fnamecat \">\n",
       "<a target=\"_blank\" href=\"https://github.com/ETCBC/dss/blob/master/docs/transcription.md\" title=\"~/text-fabric-data/github/ETCBC/dss/tf/1.9/g_cons.tf\">g_cons</a>\n",
       "</div>\n",
       "<div class=\"fmono\">str</div>\n",
       "\n",
       "<span> Dead Sea Scrolls: additions based on BHSA and machine learning</span>\n",
       "\n",
       "</div>\n",
       "\n",
       "<div class=\"frow\">\n",
       "    <div class=\"fnamecat \">\n",
       "<a target=\"_blank\" href=\"https://github.com/ETCBC/dss/blob/master/docs/transcription.md\" title=\"~/text-fabric-data/github/ETCBC/dss/tf/1.9/g_nme_etcbc.tf\">g_nme_etcbc</a>\n",
       "</div>\n",
       "<div class=\"fmono\">str</div>\n",
       "\n",
       "<span> Dead Sea Scrolls: additions based on BHSA and machine learning</span>\n",
       "\n",
       "</div>\n",
       "\n",
       "<div class=\"frow\">\n",
       "    <div class=\"fnamecat \">\n",
       "<a target=\"_blank\" href=\"https://github.com/ETCBC/dss/blob/master/docs/transcription.md\" title=\"~/text-fabric-data/github/ETCBC/dss/tf/1.9/g_prs_etcbc.tf\">g_prs_etcbc</a>\n",
       "</div>\n",
       "<div class=\"fmono\">str</div>\n",
       "\n",
       "<span> Dead Sea Scrolls: additions based on BHSA and machine learning</span>\n",
       "\n",
       "</div>\n",
       "\n",
       "<div class=\"frow\">\n",
       "    <div class=\"fnamecat \">\n",
       "<a target=\"_blank\" href=\"https://github.com/ETCBC/dss/blob/master/docs/transcription.md\" title=\"~/text-fabric-data/github/ETCBC/dss/tf/1.9/glex.tf\">glex</a>\n",
       "</div>\n",
       "<div class=\"fmono\">str</div>\n",
       "\n",
       "<span> representation (Unicode) of a lexeme leaving out non-letters</span>\n",
       "\n",
       "</div>\n",
       "\n",
       "<div class=\"frow\">\n",
       "    <div class=\"fnamecat \">\n",
       "<a target=\"_blank\" href=\"https://github.com/ETCBC/dss/blob/master/docs/transcription.md\" title=\"~/text-fabric-data/github/ETCBC/dss/tf/1.9/glexe.tf\">glexe</a>\n",
       "</div>\n",
       "<div class=\"fmono\">str</div>\n",
       "\n",
       "<span> representation (ETCBC transliteration) of a lexeme leaving out non-letters</span>\n",
       "\n",
       "</div>\n",
       "\n",
       "<div class=\"frow\">\n",
       "    <div class=\"fnamecat \">\n",
       "<a target=\"_blank\" href=\"https://github.com/ETCBC/dss/blob/master/docs/transcription.md\" title=\"~/text-fabric-data/github/ETCBC/dss/tf/1.9/glexo.tf\">glexo</a>\n",
       "</div>\n",
       "<div class=\"fmono\">str</div>\n",
       "\n",
       "<span> representation (original source) of a lexeme leaving out non-letters</span>\n",
       "\n",
       "</div>\n",
       "\n",
       "<div class=\"frow\">\n",
       "    <div class=\"fnamecat \">\n",
       "<a target=\"_blank\" href=\"https://github.com/ETCBC/dss/blob/master/docs/transcription.md\" title=\"~/text-fabric-data/github/ETCBC/dss/tf/1.9/glyph.tf\">glyph</a>\n",
       "</div>\n",
       "<div class=\"fmono\">str</div>\n",
       "\n",
       "<span> representation (Unicode) of a word or sign</span>\n",
       "\n",
       "</div>\n",
       "\n",
       "<div class=\"frow\">\n",
       "    <div class=\"fnamecat \">\n",
       "<a target=\"_blank\" href=\"https://github.com/ETCBC/dss/blob/master/docs/transcription.md\" title=\"~/text-fabric-data/github/ETCBC/dss/tf/1.9/glyphe.tf\">glyphe</a>\n",
       "</div>\n",
       "<div class=\"fmono\">str</div>\n",
       "\n",
       "<span> representation (ETCBC transliteration) of a word or sign</span>\n",
       "\n",
       "</div>\n",
       "\n",
       "<div class=\"frow\">\n",
       "    <div class=\"fnamecat \">\n",
       "<a target=\"_blank\" href=\"https://github.com/ETCBC/dss/blob/master/docs/transcription.md\" title=\"~/text-fabric-data/github/ETCBC/dss/tf/1.9/glypho.tf\">glypho</a>\n",
       "</div>\n",
       "<div class=\"fmono\">str</div>\n",
       "\n",
       "<span> representation (original source) of a word or sign</span>\n",
       "\n",
       "</div>\n",
       "\n",
       "<div class=\"frow\">\n",
       "    <div class=\"fnamecat \">\n",
       "<a target=\"_blank\" href=\"https://github.com/ETCBC/dss/blob/master/docs/transcription.md\" title=\"~/text-fabric-data/github/ETCBC/dss/tf/1.9/gn.tf\">gn</a>\n",
       "</div>\n",
       "<div class=\"fmono\">str</div>\n",
       "\n",
       "<span> gender (morphology tag)</span>\n",
       "\n",
       "</div>\n",
       "\n",
       "<div class=\"frow\">\n",
       "    <div class=\"fnamecat \">\n",
       "<a target=\"_blank\" href=\"https://github.com/ETCBC/dss/blob/master/docs/transcription.md\" title=\"~/text-fabric-data/github/ETCBC/dss/tf/1.9/gn2.tf\">gn2</a>\n",
       "</div>\n",
       "<div class=\"fmono\">str</div>\n",
       "\n",
       "<span> gender (for part 2) (morphology tag)</span>\n",
       "\n",
       "</div>\n",
       "\n",
       "<div class=\"frow\">\n",
       "    <div class=\"fnamecat \">\n",
       "<a target=\"_blank\" href=\"https://github.com/ETCBC/dss/blob/master/docs/transcription.md\" title=\"~/text-fabric-data/github/ETCBC/dss/tf/1.9/gn3.tf\">gn3</a>\n",
       "</div>\n",
       "<div class=\"fmono\">str</div>\n",
       "\n",
       "<span> gender (for part 3) (morphology tag)</span>\n",
       "\n",
       "</div>\n",
       "\n",
       "<div class=\"frow\">\n",
       "    <div class=\"fnamecat \">\n",
       "<a target=\"_blank\" href=\"https://github.com/ETCBC/dss/blob/master/docs/transcription.md\" title=\"~/text-fabric-data/github/ETCBC/dss/tf/1.9/gn_etcbc.tf\">gn_etcbc</a>\n",
       "</div>\n",
       "<div class=\"fmono\">str</div>\n",
       "\n",
       "<span> Dead Sea Scrolls: additions based on BHSA and machine learning</span>\n",
       "\n",
       "</div>\n",
       "\n",
       "<div class=\"frow\">\n",
       "    <div class=\"fnamecat \">\n",
       "<a target=\"_blank\" href=\"https://github.com/ETCBC/dss/blob/master/docs/transcription.md\" title=\"~/text-fabric-data/github/ETCBC/dss/tf/1.9/halfverse.tf\">halfverse</a>\n",
       "</div>\n",
       "<div class=\"fmono\">str</div>\n",
       "\n",
       "<span> label of the half-verse in which the word occurs</span>\n",
       "\n",
       "</div>\n",
       "\n",
       "<div class=\"frow\">\n",
       "    <div class=\"fnamecat \">\n",
       "<a target=\"_blank\" href=\"https://github.com/ETCBC/dss/blob/master/docs/transcription.md\" title=\"~/text-fabric-data/github/ETCBC/dss/tf/1.9/intl.tf\">intl</a>\n",
       "</div>\n",
       "<div class=\"fmono\">int</div>\n",
       "\n",
       "<span> interlinear material, the value indicates the sequence number of the interlinear line</span>\n",
       "\n",
       "</div>\n",
       "\n",
       "<div class=\"frow\">\n",
       "    <div class=\"fnamecat \">\n",
       "<a target=\"_blank\" href=\"https://github.com/ETCBC/dss/blob/master/docs/transcription.md\" title=\"~/text-fabric-data/github/ETCBC/dss/tf/1.9/lang.tf\">lang</a>\n",
       "</div>\n",
       "<div class=\"fmono\">str</div>\n",
       "\n",
       "<span> language of a word or sign, only if it is not Hebrew</span>\n",
       "\n",
       "</div>\n",
       "\n",
       "<div class=\"frow\">\n",
       "    <div class=\"fnamecat \">\n",
       "<a target=\"_blank\" href=\"https://github.com/ETCBC/dss/blob/master/docs/transcription.md\" title=\"~/text-fabric-data/github/ETCBC/dss/tf/1.9/lang_etcbc.tf\">lang_etcbc</a>\n",
       "</div>\n",
       "<div class=\"fmono\">str</div>\n",
       "\n",
       "<span> Dead Sea Scrolls: additions based on BHSA</span>\n",
       "\n",
       "</div>\n",
       "\n",
       "<div class=\"frow\">\n",
       "    <div class=\"fnamecat \">\n",
       "<a target=\"_blank\" href=\"https://github.com/ETCBC/dss/blob/master/docs/transcription.md\" title=\"~/text-fabric-data/github/ETCBC/dss/tf/1.9/lex.tf\">lex</a>\n",
       "</div>\n",
       "<div class=\"fmono\">str</div>\n",
       "\n",
       "<span> representation (Unicode) of a lexeme</span>\n",
       "\n",
       "</div>\n",
       "\n",
       "<div class=\"frow\">\n",
       "    <div class=\"fnamecat \">\n",
       "<a target=\"_blank\" href=\"https://github.com/ETCBC/dss/blob/master/docs/transcription.md\" title=\"~/text-fabric-data/github/ETCBC/dss/tf/1.9/lex_etcbc.tf\">lex_etcbc</a>\n",
       "</div>\n",
       "<div class=\"fmono\">str</div>\n",
       "\n",
       "<span> Dead Sea Scrolls: additions based on BHSA and machine learning</span>\n",
       "\n",
       "</div>\n",
       "\n",
       "<div class=\"frow\">\n",
       "    <div class=\"fnamecat \">\n",
       "<a target=\"_blank\" href=\"https://github.com/ETCBC/dss/blob/master/docs/transcription.md\" title=\"~/text-fabric-data/github/ETCBC/dss/tf/1.9/lexe.tf\">lexe</a>\n",
       "</div>\n",
       "<div class=\"fmono\">str</div>\n",
       "\n",
       "<span> representation (ETCBC transliteration) of a lexeme</span>\n",
       "\n",
       "</div>\n",
       "\n",
       "<div class=\"frow\">\n",
       "    <div class=\"fnamecat \">\n",
       "<a target=\"_blank\" href=\"https://github.com/ETCBC/dss/blob/master/docs/transcription.md\" title=\"~/text-fabric-data/github/ETCBC/dss/tf/1.9/lexo.tf\">lexo</a>\n",
       "</div>\n",
       "<div class=\"fmono\">str</div>\n",
       "\n",
       "<span> representation (original source) of a lexeme</span>\n",
       "\n",
       "</div>\n",
       "\n",
       "<div class=\"frow\">\n",
       "    <div class=\"fnamecat \">\n",
       "<a target=\"_blank\" href=\"https://github.com/ETCBC/dss/blob/master/docs/transcription.md\" title=\"~/text-fabric-data/github/ETCBC/dss/tf/1.9/line.tf\">line</a>\n",
       "</div>\n",
       "<div class=\"fmono\">str</div>\n",
       "\n",
       "<span> label of a line of a fragment of a scroll</span>\n",
       "\n",
       "</div>\n",
       "\n",
       "<div class=\"frow\">\n",
       "    <div class=\"fnamecat \">\n",
       "<a target=\"_blank\" href=\"https://github.com/ETCBC/dss/blob/master/docs/transcription.md\" title=\"~/text-fabric-data/github/ETCBC/dss/tf/1.9/md.tf\">md</a>\n",
       "</div>\n",
       "<div class=\"fmono\">str</div>\n",
       "\n",
       "<span> mood (morphology tag)</span>\n",
       "\n",
       "</div>\n",
       "\n",
       "<div class=\"frow\">\n",
       "    <div class=\"fnamecat \">\n",
       "<a target=\"_blank\" href=\"https://github.com/ETCBC/dss/blob/master/docs/transcription.md\" title=\"~/text-fabric-data/github/ETCBC/dss/tf/1.9/merr.tf\">merr</a>\n",
       "</div>\n",
       "<div class=\"fmono\">str</div>\n",
       "\n",
       "<span> errors in parsing the morphology tag</span>\n",
       "\n",
       "</div>\n",
       "\n",
       "<div class=\"frow\">\n",
       "    <div class=\"fnamecat \">\n",
       "<a target=\"_blank\" href=\"https://github.com/ETCBC/dss/blob/master/docs/transcription.md\" title=\"~/text-fabric-data/github/ETCBC/dss/tf/1.9/morpho.tf\">morpho</a>\n",
       "</div>\n",
       "<div class=\"fmono\">str</div>\n",
       "\n",
       "<span> morphological tag (by Abegg)</span>\n",
       "\n",
       "</div>\n",
       "\n",
       "<div class=\"frow\">\n",
       "    <div class=\"fnamecat \">\n",
       "<a target=\"_blank\" href=\"https://github.com/ETCBC/dss/blob/master/docs/transcription.md\" title=\"~/text-fabric-data/github/ETCBC/dss/tf/1.9/nr.tf\">nr</a>\n",
       "</div>\n",
       "<div class=\"fmono\">str</div>\n",
       "\n",
       "<span> Dead Sea Scrolls: additions based on BHSA and machine learning</span>\n",
       "\n",
       "</div>\n",
       "\n",
       "<div class=\"frow\">\n",
       "    <div class=\"fnamecat \">\n",
       "<a target=\"_blank\" href=\"https://github.com/ETCBC/dss/blob/master/docs/transcription.md\" title=\"~/text-fabric-data/github/ETCBC/dss/tf/1.9/nu.tf\">nu</a>\n",
       "</div>\n",
       "<div class=\"fmono\">str</div>\n",
       "\n",
       "<span> number (morphology tag)</span>\n",
       "\n",
       "</div>\n",
       "\n",
       "<div class=\"frow\">\n",
       "    <div class=\"fnamecat \">\n",
       "<a target=\"_blank\" href=\"https://github.com/ETCBC/dss/blob/master/docs/transcription.md\" title=\"~/text-fabric-data/github/ETCBC/dss/tf/1.9/nu2.tf\">nu2</a>\n",
       "</div>\n",
       "<div class=\"fmono\">str</div>\n",
       "\n",
       "<span> number (for part 2) (morphology tag)</span>\n",
       "\n",
       "</div>\n",
       "\n",
       "<div class=\"frow\">\n",
       "    <div class=\"fnamecat \">\n",
       "<a target=\"_blank\" href=\"https://github.com/ETCBC/dss/blob/master/docs/transcription.md\" title=\"~/text-fabric-data/github/ETCBC/dss/tf/1.9/nu3.tf\">nu3</a>\n",
       "</div>\n",
       "<div class=\"fmono\">str</div>\n",
       "\n",
       "<span> number (for part 3) (morphology tag)</span>\n",
       "\n",
       "</div>\n",
       "\n",
       "<div class=\"frow\">\n",
       "    <div class=\"fnamecat \">\n",
       "<a target=\"_blank\" href=\"https://github.com/ETCBC/dss/blob/master/docs/transcription.md\" title=\"~/text-fabric-data/github/ETCBC/dss/tf/1.9/nu_etcbc.tf\">nu_etcbc</a>\n",
       "</div>\n",
       "<div class=\"fmono\">str</div>\n",
       "\n",
       "<span> Dead Sea Scrolls: additions based on BHSA and machine learning</span>\n",
       "\n",
       "</div>\n",
       "\n",
       "<div class=\"frow\">\n",
       "    <div class=\"fnamecat \">\n",
       "<a target=\"_blank\" href=\"https://github.com/ETCBC/dss/blob/master/docs/transcription.md\" title=\"~/text-fabric-data/github/ETCBC/dss/tf/1.9/otype.tf\">otype</a>\n",
       "</div>\n",
       "<div class=\"fmono\">str</div>\n",
       "\n",
       "<span> Dead Sea Scrolls: biblical and non-biblical scrolls</span>\n",
       "\n",
       "</div>\n",
       "\n",
       "<div class=\"frow\">\n",
       "    <div class=\"fnamecat \">\n",
       "<a target=\"_blank\" href=\"https://github.com/ETCBC/dss/blob/master/docs/transcription.md\" title=\"~/text-fabric-data/github/ETCBC/dss/tf/1.9/ps.tf\">ps</a>\n",
       "</div>\n",
       "<div class=\"fmono\">str</div>\n",
       "\n",
       "<span> person (morphology tag)</span>\n",
       "\n",
       "</div>\n",
       "\n",
       "<div class=\"frow\">\n",
       "    <div class=\"fnamecat \">\n",
       "<a target=\"_blank\" href=\"https://github.com/ETCBC/dss/blob/master/docs/transcription.md\" title=\"~/text-fabric-data/github/ETCBC/dss/tf/1.9/ps2.tf\">ps2</a>\n",
       "</div>\n",
       "<div class=\"fmono\">str</div>\n",
       "\n",
       "<span> person (for part 2) (morphology tag)</span>\n",
       "\n",
       "</div>\n",
       "\n",
       "<div class=\"frow\">\n",
       "    <div class=\"fnamecat \">\n",
       "<a target=\"_blank\" href=\"https://github.com/ETCBC/dss/blob/master/docs/transcription.md\" title=\"~/text-fabric-data/github/ETCBC/dss/tf/1.9/ps3.tf\">ps3</a>\n",
       "</div>\n",
       "<div class=\"fmono\">str</div>\n",
       "\n",
       "<span> person (for part 3) (morphology tag)</span>\n",
       "\n",
       "</div>\n",
       "\n",
       "<div class=\"frow\">\n",
       "    <div class=\"fnamecat \">\n",
       "<a target=\"_blank\" href=\"https://github.com/ETCBC/dss/blob/master/docs/transcription.md\" title=\"~/text-fabric-data/github/ETCBC/dss/tf/1.9/ps_etcbc.tf\">ps_etcbc</a>\n",
       "</div>\n",
       "<div class=\"fmono\">str</div>\n",
       "\n",
       "<span> Dead Sea Scrolls: additions based on BHSA and machine learning</span>\n",
       "\n",
       "</div>\n",
       "\n",
       "<div class=\"frow\">\n",
       "    <div class=\"fnamecat \">\n",
       "<a target=\"_blank\" href=\"https://github.com/ETCBC/dss/blob/master/docs/transcription.md\" title=\"~/text-fabric-data/github/ETCBC/dss/tf/1.9/punc.tf\">punc</a>\n",
       "</div>\n",
       "<div class=\"fmono\">str</div>\n",
       "\n",
       "<span> trailing punctuation (Unicode) of a word</span>\n",
       "\n",
       "</div>\n",
       "\n",
       "<div class=\"frow\">\n",
       "    <div class=\"fnamecat \">\n",
       "<a target=\"_blank\" href=\"https://github.com/ETCBC/dss/blob/master/docs/transcription.md\" title=\"~/text-fabric-data/github/ETCBC/dss/tf/1.9/punce.tf\">punce</a>\n",
       "</div>\n",
       "<div class=\"fmono\">str</div>\n",
       "\n",
       "<span> trailing punctuation (ETCBC transliteration) of a word</span>\n",
       "\n",
       "</div>\n",
       "\n",
       "<div class=\"frow\">\n",
       "    <div class=\"fnamecat \">\n",
       "<a target=\"_blank\" href=\"https://github.com/ETCBC/dss/blob/master/docs/transcription.md\" title=\"~/text-fabric-data/github/ETCBC/dss/tf/1.9/punco.tf\">punco</a>\n",
       "</div>\n",
       "<div class=\"fmono\">str</div>\n",
       "\n",
       "<span> trailing punctuation (original source) of a word</span>\n",
       "\n",
       "</div>\n",
       "\n",
       "<div class=\"frow\">\n",
       "    <div class=\"fnamecat \">\n",
       "<a target=\"_blank\" href=\"https://github.com/ETCBC/dss/blob/master/docs/transcription.md\" title=\"~/text-fabric-data/github/ETCBC/dss/tf/1.9/rec.tf\">rec</a>\n",
       "</div>\n",
       "<div class=\"fmono\">int</div>\n",
       "\n",
       "<span> reconstructed by a modern editor</span>\n",
       "\n",
       "</div>\n",
       "\n",
       "<div class=\"frow\">\n",
       "    <div class=\"fnamecat \">\n",
       "<a target=\"_blank\" href=\"https://github.com/ETCBC/dss/blob/master/docs/transcription.md\" title=\"~/text-fabric-data/github/ETCBC/dss/tf/1.9/rem.tf\">rem</a>\n",
       "</div>\n",
       "<div class=\"fmono\">int</div>\n",
       "\n",
       "<span> removed by an ancient or modern editor</span>\n",
       "\n",
       "</div>\n",
       "\n",
       "<div class=\"frow\">\n",
       "    <div class=\"fnamecat \">\n",
       "<a target=\"_blank\" href=\"https://github.com/ETCBC/dss/blob/master/docs/transcription.md\" title=\"~/text-fabric-data/github/ETCBC/dss/tf/1.9/script.tf\">script</a>\n",
       "</div>\n",
       "<div class=\"fmono\">str</div>\n",
       "\n",
       "<span> script in which the word or sign is written if it is not Hebrew</span>\n",
       "\n",
       "</div>\n",
       "\n",
       "<div class=\"frow\">\n",
       "    <div class=\"fnamecat \">\n",
       "<a target=\"_blank\" href=\"https://github.com/ETCBC/dss/blob/master/docs/transcription.md\" title=\"~/text-fabric-data/github/ETCBC/dss/tf/1.9/scroll.tf\">scroll</a>\n",
       "</div>\n",
       "<div class=\"fmono\">str</div>\n",
       "\n",
       "<span> acronym of a scroll</span>\n",
       "\n",
       "</div>\n",
       "\n",
       "<div class=\"frow\">\n",
       "    <div class=\"fnamecat \">\n",
       "<a target=\"_blank\" href=\"https://github.com/ETCBC/dss/blob/master/docs/transcription.md\" title=\"~/text-fabric-data/github/ETCBC/dss/tf/1.9/sp.tf\">sp</a>\n",
       "</div>\n",
       "<div class=\"fmono\">str</div>\n",
       "\n",
       "<span> part of speech (morphology tag)</span>\n",
       "\n",
       "</div>\n",
       "\n",
       "<div class=\"frow\">\n",
       "    <div class=\"fnamecat \">\n",
       "<a target=\"_blank\" href=\"https://github.com/ETCBC/dss/blob/master/docs/transcription.md\" title=\"~/text-fabric-data/github/ETCBC/dss/tf/1.9/sp_etcbc.tf\">sp_etcbc</a>\n",
       "</div>\n",
       "<div class=\"fmono\">str</div>\n",
       "\n",
       "<span> Dead Sea Scrolls: additions based on BHSA and machine learning</span>\n",
       "\n",
       "</div>\n",
       "\n",
       "<div class=\"frow\">\n",
       "    <div class=\"fnamecat \">\n",
       "<a target=\"_blank\" href=\"https://github.com/ETCBC/dss/blob/master/docs/transcription.md\" title=\"~/text-fabric-data/github/ETCBC/dss/tf/1.9/srcLn.tf\">srcLn</a>\n",
       "</div>\n",
       "<div class=\"fmono\">int</div>\n",
       "\n",
       "<span> the line number of the word in the source data file</span>\n",
       "\n",
       "</div>\n",
       "\n",
       "<div class=\"frow\">\n",
       "    <div class=\"fnamecat \">\n",
       "<a target=\"_blank\" href=\"https://github.com/ETCBC/dss/blob/master/docs/transcription.md\" title=\"~/text-fabric-data/github/ETCBC/dss/tf/1.9/st.tf\">st</a>\n",
       "</div>\n",
       "<div class=\"fmono\">str</div>\n",
       "\n",
       "<span> state (morphology tag)</span>\n",
       "\n",
       "</div>\n",
       "\n",
       "<div class=\"frow\">\n",
       "    <div class=\"fnamecat \">\n",
       "<a target=\"_blank\" href=\"https://github.com/ETCBC/dss/blob/master/docs/transcription.md\" title=\"~/text-fabric-data/github/ETCBC/dss/tf/1.9/type.tf\">type</a>\n",
       "</div>\n",
       "<div class=\"fmono\">str</div>\n",
       "\n",
       "<span> type of sign or cluster</span>\n",
       "\n",
       "</div>\n",
       "\n",
       "<div class=\"frow\">\n",
       "    <div class=\"fnamecat \">\n",
       "<a target=\"_blank\" href=\"https://github.com/ETCBC/dss/blob/master/docs/transcription.md\" title=\"~/text-fabric-data/github/ETCBC/dss/tf/1.9/unc.tf\">unc</a>\n",
       "</div>\n",
       "<div class=\"fmono\">int</div>\n",
       "\n",
       "<span> uncertain material in various degrees: higher degree is less certain</span>\n",
       "\n",
       "</div>\n",
       "\n",
       "<div class=\"frow\">\n",
       "    <div class=\"fnamecat \">\n",
       "<a target=\"_blank\" href=\"https://github.com/ETCBC/dss/blob/master/docs/transcription.md\" title=\"~/text-fabric-data/github/ETCBC/dss/tf/1.9/uvf_etcbc.tf\">uvf_etcbc</a>\n",
       "</div>\n",
       "<div class=\"fmono\">str</div>\n",
       "\n",
       "<span> Dead Sea Scrolls: additions based on BHSA and machine learning</span>\n",
       "\n",
       "</div>\n",
       "\n",
       "<div class=\"frow\">\n",
       "    <div class=\"fnamecat \">\n",
       "<a target=\"_blank\" href=\"https://github.com/ETCBC/dss/blob/master/docs/transcription.md\" title=\"~/text-fabric-data/github/ETCBC/dss/tf/1.9/vac.tf\">vac</a>\n",
       "</div>\n",
       "<div class=\"fmono\">int</div>\n",
       "\n",
       "<span> empty, unwritten space</span>\n",
       "\n",
       "</div>\n",
       "\n",
       "<div class=\"frow\">\n",
       "    <div class=\"fnamecat \">\n",
       "<a target=\"_blank\" href=\"https://github.com/ETCBC/dss/blob/master/docs/transcription.md\" title=\"~/text-fabric-data/github/ETCBC/dss/tf/1.9/verse.tf\">verse</a>\n",
       "</div>\n",
       "<div class=\"fmono\">str</div>\n",
       "\n",
       "<span> label of the verse in which the word occurs</span>\n",
       "\n",
       "</div>\n",
       "\n",
       "<div class=\"frow\">\n",
       "    <div class=\"fnamecat \">\n",
       "<a target=\"_blank\" href=\"https://github.com/ETCBC/dss/blob/master/docs/transcription.md\" title=\"~/text-fabric-data/github/ETCBC/dss/tf/1.9/vs.tf\">vs</a>\n",
       "</div>\n",
       "<div class=\"fmono\">str</div>\n",
       "\n",
       "<span> verbal stem (morphology tag)</span>\n",
       "\n",
       "</div>\n",
       "\n",
       "<div class=\"frow\">\n",
       "    <div class=\"fnamecat \">\n",
       "<a target=\"_blank\" href=\"https://github.com/ETCBC/dss/blob/master/docs/transcription.md\" title=\"~/text-fabric-data/github/ETCBC/dss/tf/1.9/vs_etcbc.tf\">vs_etcbc</a>\n",
       "</div>\n",
       "<div class=\"fmono\">str</div>\n",
       "\n",
       "<span> Dead Sea Scrolls: additions based on BHSA and machine learning</span>\n",
       "\n",
       "</div>\n",
       "\n",
       "<div class=\"frow\">\n",
       "    <div class=\"fnamecat \">\n",
       "<a target=\"_blank\" href=\"https://github.com/ETCBC/dss/blob/master/docs/transcription.md\" title=\"~/text-fabric-data/github/ETCBC/dss/tf/1.9/vt.tf\">vt</a>\n",
       "</div>\n",
       "<div class=\"fmono\">str</div>\n",
       "\n",
       "<span> verbal tense/aspect (morphology tag)</span>\n",
       "\n",
       "</div>\n",
       "\n",
       "<div class=\"frow\">\n",
       "    <div class=\"fnamecat \">\n",
       "<a target=\"_blank\" href=\"https://github.com/ETCBC/dss/blob/master/docs/transcription.md\" title=\"~/text-fabric-data/github/ETCBC/dss/tf/1.9/vt_etcbc.tf\">vt_etcbc</a>\n",
       "</div>\n",
       "<div class=\"fmono\">str</div>\n",
       "\n",
       "<span> Dead Sea Scrolls: additions based on BHSA and machine learning</span>\n",
       "\n",
       "</div>\n",
       "\n",
       "<div class=\"frow\">\n",
       "    <div class=\"fnamecat edge\">\n",
       "<a target=\"_blank\" href=\"https://github.com/ETCBC/dss/blob/master/docs/transcription.md\" title=\"~/text-fabric-data/github/ETCBC/dss/tf/1.9/occ.tf\">occ</a>\n",
       "</div>\n",
       "<div class=\"fmono\">none</div>\n",
       "\n",
       "<span> edge feature from a lexeme to its occurrences</span>\n",
       "\n",
       "</div>\n",
       "\n",
       "<div class=\"frow\">\n",
       "    <div class=\"fnamecat edge\">\n",
       "<a target=\"_blank\" href=\"https://github.com/ETCBC/dss/blob/master/docs/transcription.md\" title=\"~/text-fabric-data/github/ETCBC/dss/tf/1.9/oslots.tf\">oslots</a>\n",
       "</div>\n",
       "<div class=\"fmono\">none</div>\n",
       "\n",
       "<span> Dead Sea Scrolls: biblical and non-biblical scrolls</span>\n",
       "\n",
       "</div>\n",
       "\n",
       "    </div>\n",
       "</details>\n",
       "\n",
       "            <b>Settings:</b><br><details ><summary><b>specified</b></summary><ol><li><b>apiVersion</b>: <code>3</code></li><li><b>appName</b>: <code>ETCBC/dss</code></li><li><b>appPath</b>: <code>/Users/me/text-fabric-data/github/ETCBC/dss/app</code></li><li><b>commit</b>: <code>gd796845ffd026d7896a29d71f730d471cba06631</code></li><li><details><summary><b>css</b>:</summary><code>.full,.glyph,.punc {<br>    font-family: \"Ezra SIL\", \"SBL Hebrew\", sans-serif;<br>}<br>.scriptpaleohebrew {<br>    border: 1px dashed navy;<br>}<br>.scriptgreekcapital {<br>    border: 1px dashed brown;<br>}<br>.langa {<br>    text-decoration: underline;<br>}<br>.intl1 {<br>    vertical-align: -0.25em;<br>}<br>.intl2 {<br>    vertical-align: -0.5em;<br>}<br>.langg {<br>    font-family: serif;<br>    text-decoration: underline;<br>}<br>.vac1 {<br>    background-color: #aaaaaa;<br>    border 2pt solid #dd3333;<br>    border-radius: 4pt;<br>}<br>.rem1 {<br>    font-weight: bold;<br>    color: red;<br>    text-decoration: line-through;<br>}<br>.rem2 {<br>    font-weight: bold;<br>    color: maroon;<br>    text-decoration: line-through;<br>}<br>.rec1 {<br>    color: teal;<br>    font-size: 80%;<br>}<br>.cor1 {<br>    font-weight: bold;<br>    color: dodgerblue;<br>    text-decoration: overline;<br>}<br>.cor2 {<br>    font-weight: bold;<br>    color: navy;<br>    text-decoration: overline;<br>}<br>.cor3 {<br>    font-weight: bold;<br>    color: navy;<br>    text-decoration: overline;<br>    vertical-align: super;<br>}<br>.alt1 {<br>    text-decoration: overline;<br>}<br><br>/* UNSURE: italic*/<br><br>.unc1 {<br>    font-weight: bold;<br>    color: #888888;<br>}<br>.unc2 {<br>    font-weight: bold;<br>    color: #bbbbbb;<br>}<br>.unc3 {<br>    font-weight: bold;<br>    color: #bbbbbb;<br>    text-shadow: #cccccc 1px 1px;<br>}<br>.unc4 {<br>    font-weight: bold;<br>    color: #dddddd;<br>    text-shadow: #eeeeee 2px 2px;<br>}<br><br>.empty {<br>  color: #ff0000;<br>}<br><br></code></details></li><li><details><summary><b>dataDisplay</b>:</summary><ul><li><details><summary><b>noneValues</b>:</summary><ul><li><code>unknown</code></li><li><i>no value</i></li></ul></details></li><li><b>showVerseInTuple</b>: <code>True</code></li><li><details><summary><b>textFormats</b>:</summary><ul><li><b>layout-orig-full</b>: {<b>method</b>: <code>layoutOrig</code>}</li><li><b>layout-source-full</b>: {<b>method</b>: <code>layoutSource</code>}</li><li><b>layout-trans-full</b>: {<b>method</b>: <code>layoutTrans</code>}</li></ul></details></li></ul></details></li><li><details><summary><b>docs</b>:</summary><ul><li><b>docPage</b>: <code>about</code></li><li><b>featureBase</b>: <code>{docBase}/transcription.md</code></li><li><b>featurePage</b>: <code>transcription</code></li></ul></details></li><li><b>interfaceDefaults</b>: {<b>lineNumbers</b>: <code>0</code>}</li><li><b>isCompatible</b>: <code>True</code></li><li><b>local</b>: <code>local</code></li><li><b>localDir</b>: <code>/Users/me/text-fabric-data/github/ETCBC/dss/_temp</code></li><li><details><summary><b>provenanceSpec</b>:</summary><ul><li><b>corpus</b>: <code>Dead Sea Scrolls</code></li><li><b>doi</b>: <code>10.5281/zenodo.2652849</code></li><li><details><summary><b>moduleSpecs</b>:</summary><li><details open>\n",
       "                <summary>:</summary>\n",
       "                <ul><li><b>backend</b>: <i>no value</i></li><li><b>corpus</b>: <code>Parallel Passages</code></li><li><details><summary><b>docUrl</b>:</summary><code>https://nbviewer.jupyter.org/github/etcbc/dss/blob/master/programs/parallels.ipynb</code></details></li><li><b>doi</b>: <code>10.5281/zenodo.2652849</code></li><li><b>org</b>: <code>ETCBC</code></li><li><b>relative</b>: <code>parallels/tf</code></li><li><b>repo</b>: <code>dss</code></li></ul>\n",
       "                </details></li></details></li><li><b>org</b>: <code>ETCBC</code></li><li><b>relative</b>: <code>/tf</code></li><li><b>repo</b>: <code>dss</code></li><li><b>version</b>: <code>1.9</code></li><li><b>webBase</b>: <code>https://www.deadseascrolls.org.il/explore-the-archive</code></li><li><b>webHint</b>: <code>Show this scroll in the Leon Levy library</code></li><li><b>webUrl</b>: <code>{webBase}/search#q='&lt;1&gt;'</code></li></ul></details></li><li><b>release</b>: <code>v1.9</code></li><li><details><summary><b>typeDisplay</b>:</summary><ul><li><b>clause</b>: {<b>label</b>: <code>{nr}</code>}</li><li><details><summary><b>cluster</b>:</summary><ul><li><b>label</b>: <code>{type}</code></li><li><b>stretch</b>: <code>0</code></li></ul></details></li><li><b>fragment</b>: {<b>features</b>: <code>biblical</code>}</li><li><details><summary><b>lex</b>:</summary><ul><li><b>features</b>: <code>lex lexe</code></li><li><b>featuresBare</b>: <code>lexo</code></li><li><b>label</b>: <code>True</code></li><li><b>lexOcc</b>: <code>word</code></li><li><b>template</b>: <code>True</code></li></ul></details></li><li><b>line</b>: {<b>features</b>: <code>biblical</code>}</li><li><b>phrase</b>: {<b>label</b>: <code>{nr}</code>}</li><li><b>scroll</b>: {<b>features</b>: <code>biblical</code>}</li><li><b>sign</b>: {<b>exclude</b>: {<b>type</b>: <code>term</code>}}</li><li><details><summary><b>word</b>:</summary><ul><li><b>base</b>: <code>True</code></li><li><b>features</b>: <code>lang lex cl ps gn nu st vs vt md</code></li><li><b>featuresBare</b>: <code>sp</code></li><li><b>label</b>: <code>True</code></li><li><b>lineNumber</b>: <code>srcLn</code></li><li><b>wrap</b>: <code>0</code></li></ul></details></li></ul></details></li><li><b>writing</b>: <code>hbo</code></li></ol></details>\n"
      ],
      "text/plain": [
       "<IPython.core.display.HTML object>"
      ]
     },
     "metadata": {},
     "output_type": "display_data"
    },
    {
     "data": {
      "text/html": [
       "<style>tr.tf.ltr, td.tf.ltr, th.tf.ltr { text-align: left ! important;}\n",
       "tr.tf.rtl, td.tf.rtl, th.tf.rtl { text-align: right ! important;}\n",
       "@font-face {\n",
       "  font-family: \"Gentium Plus\";\n",
       "  src: local('Gentium Plus'), local('GentiumPlus'),\n",
       "    url('/browser/static/fonts/GentiumPlus-R.woff') format('woff'),\n",
       "    url('https://github.com/annotation/text-fabric/blob/master/tf/browser/static/fonts/GentiumPlus-R.woff?raw=true') format('woff');\n",
       "}\n",
       "\n",
       "@font-face {\n",
       "  font-family: \"Ezra SIL\";\n",
       "  src: local('Ezra SIL'), local('EzraSIL'),\n",
       "    url('/browser/static/fonts/SILEOT.woff') format('woff'),\n",
       "    url('https://github.com/annotation/text-fabric/blob/master/tf/browser/static/fonts/SILEOT.woff?raw=true') format('woff');\n",
       "}\n",
       "\n",
       "@font-face {\n",
       "  font-family: \"SBL Hebrew\";\n",
       "  src: local('SBL Hebrew'), local('SBLHebrew'),\n",
       "    url('/browser/static/fonts/SBL_Hbrw.woff') format('woff'),\n",
       "    url('https://github.com/annotation/text-fabric/blob/master/tf/browser/static/fonts/SBL_Hbrw.woff?raw=true') format('woff');\n",
       "}\n",
       "\n",
       "@font-face {\n",
       "  font-family: \"Estrangelo Edessa\";\n",
       "  src: local('Estrangelo Edessa'), local('EstrangeloEdessa');\n",
       "    url('/browser/static/fonts/SyrCOMEdessa.woff') format('woff'),\n",
       "    url('https://github.com/annotation/text-fabric/blob/master/tf/browser/static/fonts/SyrCOMEdessa.woff?raw=true') format('woff');\n",
       "}\n",
       "\n",
       "@font-face {\n",
       "  font-family: AmiriQuran;\n",
       "  font-style: normal;\n",
       "  font-weight: 400;\n",
       "  src: local('Amiri Quran'), local('AmiriQuran'),\n",
       "    url('/browser/static/fonts/AmiriQuran.woff') format('woff'),\n",
       "    url('https://github.com/annotation/text-fabric/blob/master/tf/browser/static/fonts/AmiriQuran.woff?raw=true') format('woff');\n",
       "}\n",
       "\n",
       "@font-face {\n",
       "  font-family: AmiriQuranColored;\n",
       "  font-style: normal;\n",
       "  font-weight: 400;\n",
       "  src: local('Amiri Quran Colored'), local('AmiriQuranColored'),\n",
       "    url('/browser/static/fonts/AmiriQuranColored.woff') format('woff'),\n",
       "    url('https://github.com/annotation/text-fabric/blob/master/tf/browser/static/fonts/AmiriQuranColored.woff?raw=true') format('woff');\n",
       "}\n",
       "\n",
       "@font-face {\n",
       "  font-family: \"Santakku\";\n",
       "  src: local('Santakku'),\n",
       "    url('/browser/static/fonts/Santakku.woff') format('woff'),\n",
       "    url('https://github.com/annotation/text-fabric/blob/master/tf/browser/static/fonts/Santakku.woff?raw=true') format('woff');\n",
       "}\n",
       "\n",
       "@font-face {\n",
       "  font-family: \"SantakkuM\";\n",
       "  src: local('SantakkuM'),\n",
       "    url('/browser/static/fonts/SantakkuM.woff') format('woff'),\n",
       "    url('https://github.com/annotation/text-fabric/blob/master/tf/browser/static/fonts/SantakkuM.woff?raw=true') format('woff');\n",
       "}\n",
       "\n",
       "/* bypassing some classical notebook settings */\n",
       "div#notebook {\n",
       "  line-height: unset;\n",
       "}\n",
       "/* neutral text */\n",
       ".txtn,.txtn a:visited,.txtn a:link {\n",
       "    font-family: sans-serif;\n",
       "    font-size: medium;\n",
       "    direction: ltr;\n",
       "    unicode-bidi: embed;\n",
       "    text-decoration: none;\n",
       "    color: var(--text-color);\n",
       "}\n",
       "/* transcription text */\n",
       ".txtt,.txtt a:visited,.txtt a:link {\n",
       "    font-family: monospace;\n",
       "    font-size: medium;\n",
       "    direction: ltr;\n",
       "    unicode-bidi: embed;\n",
       "    text-decoration: none;\n",
       "    color: var(--text-color);\n",
       "}\n",
       "/* source text */\n",
       ".txto,.txto a:visited,.txto a:link {\n",
       "    font-family: serif;\n",
       "    font-size: medium;\n",
       "    direction: ltr;\n",
       "    unicode-bidi: embed;\n",
       "    text-decoration: none;\n",
       "    color: var(--text-color);\n",
       "}\n",
       "/* phonetic text */\n",
       ".txtp,.txtp a:visited,.txtp a:link {\n",
       "    font-family: Gentium, sans-serif;\n",
       "    font-size: medium;\n",
       "    direction: ltr;\n",
       "    unicode-bidi: embed;\n",
       "    text-decoration: none;\n",
       "    color: var(--text-color);\n",
       "}\n",
       "/* original script text */\n",
       ".txtu,.txtu a:visited,.txtu a:link {\n",
       "    font-family: Gentium, sans-serif;\n",
       "    font-size: medium;\n",
       "    text-decoration: none;\n",
       "    color: var(--text-color);\n",
       "}\n",
       "/* hebrew */\n",
       ".txtu.hbo,.lex.hbo {\n",
       "    font-family: \"Ezra SIL\", \"SBL Hebrew\", sans-serif;\n",
       "    font-size: large;\n",
       "    direction: rtl ! important;\n",
       "    unicode-bidi: embed;\n",
       "}\n",
       "/* syriac */\n",
       ".txtu.syc,.lex.syc {\n",
       "    font-family: \"Estrangelo Edessa\", sans-serif;\n",
       "    font-size: medium;\n",
       "    direction: rtl ! important;\n",
       "    unicode-bidi: embed;\n",
       "}\n",
       "/* neo aramaic */\n",
       ".txtu.cld,.lex.cld {\n",
       "    font-family: \"CharisSIL-R\", sans-serif;\n",
       "    font-size: medium;\n",
       "    direction: ltr ! important;\n",
       "    unicode-bidi: embed;\n",
       "}\n",
       "/* standard arabic */\n",
       ".txtu.ara,.lex.ara {\n",
       "    font-family: \"AmiriQuran\", sans-serif;\n",
       "    font-size: large;\n",
       "    direction: rtl ! important;\n",
       "    unicode-bidi: embed;\n",
       "}\n",
       "/* cuneiform */\n",
       ".txtu.akk,.lex.akk {\n",
       "    font-family: Santakku, sans-serif;\n",
       "    font-size: large;\n",
       "    direction: ltr ! important;\n",
       "    unicode-bidi: embed;\n",
       "}\n",
       ".txtu.uga,.lex.uga {\n",
       "    font-family: sans-serif;\n",
       "    /*font-family: Noto Sans Ugaritic, sans-serif;*/\n",
       "    font-size: large;\n",
       "    direction: ltr ! important;\n",
       "    unicode-bidi: embed;\n",
       "}\n",
       "/* greek */\n",
       ".txtu.grc,.lex.grc a:link {\n",
       "    font-family: Gentium, sans-serif;\n",
       "    font-size: medium;\n",
       "    direction: ltr ! important;\n",
       "    unicode-bidi: embed;\n",
       "}\n",
       "a:hover {\n",
       "    text-decoration: underline | important;\n",
       "    color: #0000ff | important;\n",
       "}\n",
       ".ltr {\n",
       "    direction: ltr ! important;\n",
       "    unicode-bidi: embed;\n",
       "}\n",
       ".rtl {\n",
       "    direction: rtl ! important;\n",
       "    unicode-bidi: embed;\n",
       "}\n",
       ".ubd {\n",
       "    unicode-bidi: embed;\n",
       "}\n",
       ".col {\n",
       "   display: inline-block;\n",
       "}\n",
       ".features {\n",
       "    font-family: monospace;\n",
       "    font-size: medium;\n",
       "    font-weight: bold;\n",
       "    color: var(--features);\n",
       "    display: flex;\n",
       "    flex-flow: column nowrap;\n",
       "    justify-content: flex-start;\n",
       "    align-items: flex-start;\n",
       "    align-content: flex-start;\n",
       "    padding: 2px;\n",
       "    margin: 2px;\n",
       "    direction: ltr;\n",
       "    unicode-bidi: embed;\n",
       "    border: var(--meta-width) solid var(--meta-color);\n",
       "    border-radius: var(--meta-width);\n",
       "}\n",
       ".features div,.features span {\n",
       "    padding: 0;\n",
       "    margin: -2px 0;\n",
       "}\n",
       ".features .f {\n",
       "    font-family: sans-serif;\n",
       "    font-size: small;\n",
       "    font-weight: normal;\n",
       "    color: #5555bb;\n",
       "}\n",
       ".features .xft {\n",
       "  color: #000000;\n",
       "  background-color: #eeeeee;\n",
       "  font-size: medium;\n",
       "  margin: 2px 0px;\n",
       "}\n",
       ".features .xft .f {\n",
       "  color: #000000;\n",
       "  background-color: #eeeeee;\n",
       "  font-size: small;\n",
       "  font-weight: normal;\n",
       "}\n",
       ".tfsechead {\n",
       "    font-family: sans-serif;\n",
       "    font-size: small;\n",
       "    font-weight: bold;\n",
       "    color: var(--tfsechead);\n",
       "    unicode-bidi: embed;\n",
       "    text-align: start;\n",
       "}\n",
       ".structure {\n",
       "    font-family: sans-serif;\n",
       "    font-size: small;\n",
       "    font-weight: bold;\n",
       "    color: var(--structure);\n",
       "    unicode-bidi: embed;\n",
       "    text-align: start;\n",
       "}\n",
       ".comments {\n",
       "    display: flex;\n",
       "    justify-content: flex-start;\n",
       "    align-items: flex-start;\n",
       "    align-content: flex-start;\n",
       "    flex-flow: column nowrap;\n",
       "}\n",
       ".nd, a:link.nd {\n",
       "    font-family: sans-serif;\n",
       "    font-size: small;\n",
       "    color: var(--node);\n",
       "    vertical-align: super;\n",
       "    direction: ltr ! important;\n",
       "    unicode-bidi: embed;\n",
       "}\n",
       ".nde, a:link.nde {\n",
       "    font-family: sans-serif;\n",
       "    font-size: small;\n",
       "    color: var(--node);\n",
       "    direction: ltr ! important;\n",
       "    unicode-bidi: embed;\n",
       "}\n",
       ".etf {\n",
       "    font-size: normal;\n",
       "    border-radius: 0.2rem;\n",
       "    border: 1pt solid white;\n",
       "    padding: 0 0.2rem ! important;\n",
       "    margin: 0 0.2rem ! important;\n",
       "}\n",
       ".etfx {\n",
       "    font-size: x-large;\n",
       "}\n",
       ".lex {\n",
       "  color: var(--lex-color);;\n",
       "}\n",
       "#colormapplus, #colormapmin, .ecolormapmin {\n",
       "  font-weight: bold;\n",
       "  border-radius: 0.1rem;\n",
       "  background-color: #eeeeff;\n",
       "  padding: 0 1rem;\n",
       "  margin: 0 1rem;\n",
       "}\n",
       ".clr {\n",
       "  font-style: italic;\n",
       "  font-size: small;\n",
       "}\n",
       ".clmap,.eclmap {\n",
       "  padding: 0;\n",
       "}\n",
       ".children,.children.ltr {\n",
       "    display: flex;\n",
       "    border: 0;\n",
       "    background-color: #ffffff;\n",
       "    justify-content: flex-start;\n",
       "    align-items: flex-start;\n",
       "    align-content: flex-start;\n",
       "}\n",
       ".children.stretch {\n",
       "    align-items: stretch;\n",
       "}\n",
       ".children.hor {\n",
       "    flex-flow: row nowrap;\n",
       "}\n",
       ".children.hor.wrap {\n",
       "    flex-flow: row wrap;\n",
       "}\n",
       ".children.ver {\n",
       "    flex-flow: column nowrap;\n",
       "}\n",
       ".children.ver.wrap {\n",
       "    flex-flow: column wrap;\n",
       "}\n",
       ".contnr {\n",
       "    width: fit-content;\n",
       "    display: flex;\n",
       "    justify-content: flex-start;\n",
       "    align-items: flex-start;\n",
       "    align-content: flex-start;\n",
       "    flex-flow: column nowrap;\n",
       "    background: #ffffff none repeat scroll 0 0;\n",
       "    padding:  10px 2px 2px 2px;\n",
       "    margin: 16px 2px 2px 2px;\n",
       "    border-style: solid;\n",
       "    font-size: small;\n",
       "}\n",
       ".contnr.trm {\n",
       "    background-attachment: local;\n",
       "}\n",
       ".contnr.cnul {\n",
       "    padding:  0;\n",
       "    margin: 0;\n",
       "    border-style: solid;\n",
       "    font-size: xx-small;\n",
       "}\n",
       ".contnr.cnul,.lbl.cnul {\n",
       "    border-color: var(--border-color-nul);\n",
       "    border-width: var(--border-width-nul);\n",
       "    border-radius: var(--border-width-nul);\n",
       "}\n",
       ".contnr.c0,.lbl.c0 {\n",
       "    border-color: var(--border-color0);\n",
       "    border-width: var(--border-width0);\n",
       "    border-radius: var(--border-width0);\n",
       "}\n",
       ".contnr.c1,.lbl.c1 {\n",
       "    border-color: var(--border-color1);\n",
       "    border-width: var(--border-width1);\n",
       "    border-radius: var(--border-width1);\n",
       "}\n",
       ".contnr.c2,.lbl.c2 {\n",
       "    border-color: var(--border-color2);\n",
       "    border-width: var(--border-width2);\n",
       "    border-radius: var(--border-width2);\n",
       "}\n",
       ".contnr.c3,.lbl.c3 {\n",
       "    border-color: var(--border-color3);\n",
       "    border-width: var(--border-width3);\n",
       "    border-radius: var(--border-width3);\n",
       "}\n",
       ".contnr.c4,.lbl.c4 {\n",
       "    border-color: var(--border-color4);\n",
       "    border-width: var(--border-width4);\n",
       "    border-radius: var(--border-width4);\n",
       "}\n",
       "span.plain {\n",
       "    /*display: inline-block;*/\n",
       "    display: inline-flex;\n",
       "    flex-flow: row wrap;\n",
       "    white-space: pre-wrap;\n",
       "}\n",
       "span.break {\n",
       "  flex-basis: 100%;\n",
       "  height: 0;\n",
       "}\n",
       ".plain {\n",
       "    background-color: #ffffff;\n",
       "}\n",
       ".plain.l,.contnr.l,.contnr.l>.lbl {\n",
       "    border-left-style: dotted\n",
       "}\n",
       ".plain.r,.contnr.r,.contnr.r>.lbl {\n",
       "    border-right-style: dotted\n",
       "}\n",
       ".plain.lno,.contnr.lno,.contnr.lno>.lbl {\n",
       "    border-left-style: none\n",
       "}\n",
       ".plain.rno,.contnr.rno,.contnr.rno>.lbl {\n",
       "    border-right-style: none\n",
       "}\n",
       ".plain.l {\n",
       "    padding-left: 4px;\n",
       "    margin-left: 2px;\n",
       "    border-width: var(--border-width-plain);\n",
       "}\n",
       ".plain.r {\n",
       "    padding-right: 4px;\n",
       "    margin-right: 2px;\n",
       "    border-width: var(--border-width-plain);\n",
       "}\n",
       ".lbl {\n",
       "    font-family: monospace;\n",
       "    margin-top: -24px;\n",
       "    margin-left: 20px;\n",
       "    background: #ffffff none repeat scroll 0 0;\n",
       "    padding: 0 6px;\n",
       "    border-style: solid;\n",
       "    display: block;\n",
       "    color: var(--label)\n",
       "}\n",
       ".lbl.trm {\n",
       "    background-attachment: local;\n",
       "    margin-top: 2px;\n",
       "    margin-left: 2px;\n",
       "    padding: 2px 2px;\n",
       "    border-style: none;\n",
       "}\n",
       ".lbl.cnul {\n",
       "    font-size: xx-small;\n",
       "}\n",
       ".lbl.c0 {\n",
       "    font-size: small;\n",
       "}\n",
       ".lbl.c1 {\n",
       "    font-size: small;\n",
       "}\n",
       ".lbl.c2 {\n",
       "    font-size: medium;\n",
       "}\n",
       ".lbl.c3 {\n",
       "    font-size: medium;\n",
       "}\n",
       ".lbl.c4 {\n",
       "    font-size: large;\n",
       "}\n",
       ".occs, a:link.occs {\n",
       "    font-size: small;\n",
       "}\n",
       "\n",
       "/* PROVENANCE */\n",
       "\n",
       "div.prov {\n",
       "\tmargin: 40px;\n",
       "\tpadding: 20px;\n",
       "\tborder: 2px solid var(--fog-rim);\n",
       "}\n",
       "div.pline {\n",
       "\tdisplay: flex;\n",
       "\tflex-flow: row nowrap;\n",
       "\tjustify-content: stretch;\n",
       "\talign-items: baseline;\n",
       "}\n",
       "div.p2line {\n",
       "\tmargin-left: 2em;\n",
       "\tdisplay: flex;\n",
       "\tflex-flow: row nowrap;\n",
       "\tjustify-content: stretch;\n",
       "\talign-items: baseline;\n",
       "}\n",
       "div.psline {\n",
       "\tdisplay: flex;\n",
       "\tflex-flow: row nowrap;\n",
       "\tjustify-content: stretch;\n",
       "\talign-items: baseline;\n",
       "\tbackground-color: var(--gold-mist-back);\n",
       "}\n",
       "div.pname {\n",
       "\tflex: 0 0 5rem;\n",
       "\tfont-weight: bold;\n",
       "}\n",
       "div.pval {\n",
       "    flex: 1 1 auto;\n",
       "}\n",
       "\n",
       "/* KEYBOARD */\n",
       ".ccoff {\n",
       "  background-color: inherit;\n",
       "}\n",
       ".ccon {\n",
       "  background-color: yellow ! important;\n",
       "}\n",
       ".ccon,.ccoff {\n",
       "  padding: 0.2rem;\n",
       "  margin: 0.2rem;\n",
       "  border: 0.1rem solid var(--letter-box-border);\n",
       "  border-radius: 0.1rem;\n",
       "}\n",
       ".ccline {\n",
       "  font-size: xx-large ! important;\n",
       "  font-weight: bold;\n",
       "  line-height: 2em ! important;\n",
       "}\n",
       "/* TF header */\n",
       "\n",
       "summary {\n",
       "  /* needed to override the normalize.less\n",
       "   * in the classical Jupyter Notebook\n",
       "   */\n",
       "  display: list-item ! important;\n",
       "}\n",
       "\n",
       ".fcorpus {\n",
       "  display: flex;\n",
       "  flex-flow: column nowrap;\n",
       "  justify-content: flex-start;\n",
       "  align-items: flex-start;\n",
       "  align-content: flex-start;\n",
       "  overflow: auto;\n",
       "}\n",
       ".frow {\n",
       "  display: flex;\n",
       "  flex-flow: row nowrap;\n",
       "  justify-content: flex-start;\n",
       "  align-items: flex-start;\n",
       "  align-content: flex-start;\n",
       "}\n",
       ".fmeta {\n",
       "  display: flex;\n",
       "  flex-flow: column nowrap;\n",
       "  justify-content: flex-start;\n",
       "  align-items: flex-start;\n",
       "  align-content: flex-start;\n",
       "}\n",
       ".fmetarow {\n",
       "  display: flex;\n",
       "  flex-flow: row nowrap;\n",
       "  justify-content: flex-start;\n",
       "  align-items: flex-start;\n",
       "  align-content: flex-start;\n",
       "}\n",
       ".fmetakey {\n",
       "  min-width: 8em;\n",
       "  font-family: monospace;\n",
       "}\n",
       ".fnamecat {\n",
       "  min-width: 8em;\n",
       "}\n",
       ".fnamecat.edge {\n",
       "  font-weight: bold;\n",
       "  font-style: italic;\n",
       "}\n",
       ".fmono {\n",
       "    font-family: monospace;\n",
       "}\n",
       "\n",
       ":root {\n",
       "\t--node:               hsla(120, 100%,  20%, 1.0  );\n",
       "\t--label:              hsla(  0, 100%,  20%, 1.0  );\n",
       "\t--tfsechead:          hsla(  0, 100%,  25%, 1.0  );\n",
       "\t--structure:          hsla(120, 100%,  25%, 1.0  );\n",
       "\t--features:           hsla(  0,   0%,  30%, 1.0  );\n",
       "  --text-color:         hsla( 60,  80%,  10%, 1.0  );\n",
       "  --lex-color:          hsla(220,  90%,  60%, 1.0  );\n",
       "  --meta-color:         hsla(  0,   0%,  90%, 0.7  );\n",
       "  --meta-width:         3px;\n",
       "  --border-color-nul:   hsla(  0,   0%,  90%, 0.5  );\n",
       "  --border-color0:      hsla(  0,   0%,  90%, 0.9  );\n",
       "  --border-color1:      hsla(  0,   0%,  80%, 0.9  );\n",
       "  --border-color2:      hsla(  0,   0%,  70%, 0.9  );\n",
       "  --border-color3:      hsla(  0,   0%,  80%, 0.8  );\n",
       "  --border-color4:      hsla(  0,   0%,  60%, 0.9  );\n",
       "\t--letter-box-border:  hsla(  0,   0%,  80%, 0.5  );\n",
       "  --border-width-nul:   2px;\n",
       "  --border-width0:      2px;\n",
       "  --border-width1:      3px;\n",
       "  --border-width2:      4px;\n",
       "  --border-width3:      6px;\n",
       "  --border-width4:      5px;\n",
       "  --border-width-plain: 2px;\n",
       "}\n",
       ".hl {\n",
       "  background-color: var(--hl-strong);\n",
       "}\n",
       "span.hl {\n",
       "\tbackground-color: var(--hl-strong);\n",
       "\tborder-width: 0;\n",
       "\tborder-radius: 2px;\n",
       "\tborder-style: solid;\n",
       "}\n",
       "div.contnr.hl,div.lbl.hl {\n",
       "  background-color: var(--hl-strong);\n",
       "}\n",
       "div.contnr.hl {\n",
       "  border-color: var(--hl-rim) ! important;\n",
       "\tborder-width: 4px ! important;\n",
       "}\n",
       "\n",
       "span.hlbx {\n",
       "\tborder-color: var(--hl-rim);\n",
       "\tborder-width: 4px ! important;\n",
       "\tborder-style: solid;\n",
       "\tborder-radius: 6px;\n",
       "  padding: 4px;\n",
       "  margin: 4px;\n",
       "}\n",
       ".ehl {\n",
       "  background-color: var(--ehl-strong);\n",
       "}\n",
       "\n",
       ":root {\n",
       "\t--hl-strong:        hsla( 60, 100%,  70%, 0.9  );\n",
       "\t--hl-rim:           hsla( 55,  80%,  50%, 1.0  );\n",
       "\t--ehl-strong:       hsla(240, 100%,  70%, 0.9  );\n",
       "}\n",
       ".full,.glyph,.punc {\n",
       "    font-family: \"Ezra SIL\", \"SBL Hebrew\", sans-serif;\n",
       "}\n",
       ".scriptpaleohebrew {\n",
       "    border: 1px dashed navy;\n",
       "}\n",
       ".scriptgreekcapital {\n",
       "    border: 1px dashed brown;\n",
       "}\n",
       ".langa {\n",
       "    text-decoration: underline;\n",
       "}\n",
       ".intl1 {\n",
       "    vertical-align: -0.25em;\n",
       "}\n",
       ".intl2 {\n",
       "    vertical-align: -0.5em;\n",
       "}\n",
       ".langg {\n",
       "    font-family: serif;\n",
       "    text-decoration: underline;\n",
       "}\n",
       ".vac1 {\n",
       "    background-color: #aaaaaa;\n",
       "    border 2pt solid #dd3333;\n",
       "    border-radius: 4pt;\n",
       "}\n",
       ".rem1 {\n",
       "    font-weight: bold;\n",
       "    color: red;\n",
       "    text-decoration: line-through;\n",
       "}\n",
       ".rem2 {\n",
       "    font-weight: bold;\n",
       "    color: maroon;\n",
       "    text-decoration: line-through;\n",
       "}\n",
       ".rec1 {\n",
       "    color: teal;\n",
       "    font-size: 80%;\n",
       "}\n",
       ".cor1 {\n",
       "    font-weight: bold;\n",
       "    color: dodgerblue;\n",
       "    text-decoration: overline;\n",
       "}\n",
       ".cor2 {\n",
       "    font-weight: bold;\n",
       "    color: navy;\n",
       "    text-decoration: overline;\n",
       "}\n",
       ".cor3 {\n",
       "    font-weight: bold;\n",
       "    color: navy;\n",
       "    text-decoration: overline;\n",
       "    vertical-align: super;\n",
       "}\n",
       ".alt1 {\n",
       "    text-decoration: overline;\n",
       "}\n",
       "\n",
       "/* UNSURE: italic*/\n",
       "\n",
       ".unc1 {\n",
       "    font-weight: bold;\n",
       "    color: #888888;\n",
       "}\n",
       ".unc2 {\n",
       "    font-weight: bold;\n",
       "    color: #bbbbbb;\n",
       "}\n",
       ".unc3 {\n",
       "    font-weight: bold;\n",
       "    color: #bbbbbb;\n",
       "    text-shadow: #cccccc 1px 1px;\n",
       "}\n",
       ".unc4 {\n",
       "    font-weight: bold;\n",
       "    color: #dddddd;\n",
       "    text-shadow: #eeeeee 2px 2px;\n",
       "}\n",
       "\n",
       ".empty {\n",
       "  color: #ff0000;\n",
       "}\n",
       "\n",
       "</style>"
      ],
      "text/plain": [
       "<IPython.core.display.HTML object>"
      ]
     },
     "metadata": {},
     "output_type": "display_data"
    },
    {
     "data": {
      "text/html": [
       "\n",
       "<script>\n",
       "globalThis.copyChar = (el, c) => {\n",
       "    for (const el of document.getElementsByClassName('ccon')) {\n",
       "        el.className = 'ccoff'\n",
       "    }\n",
       "    el.className = 'ccon'\n",
       "    navigator.clipboard.writeText(String.fromCharCode(c))\n",
       "}\n",
       "</script>\n"
      ],
      "text/plain": [
       "<IPython.core.display.HTML object>"
      ]
     },
     "metadata": {},
     "output_type": "display_data"
    },
    {
     "data": {
      "text/html": [
       "<div><b>TF API:</b> names <a target=\"_blank\" href=\"https://annotation.github.io/text-fabric/tf/cheatsheet.html\" title=\"doc\">N F E L T S C TF Fs Fall Es Eall Cs Call</a> directly usable</div><hr>"
      ],
      "text/plain": [
       "<IPython.core.display.HTML object>"
      ]
     },
     "metadata": {},
     "output_type": "display_data"
    }
   ],
   "source": [
    "A = use('ETCBC/dss', hoist=globals())"
   ]
  },
  {
   "cell_type": "markdown",
   "metadata": {},
   "source": [
    "Some bits are familiar from above, when you ran the `text-fabric` command in the terminal.\n",
    "\n",
    "Other bits are links to the documentation, they point to the same places as the links on the Text-Fabric browser.\n",
    "\n",
    "You see a list of all the data features that have been loaded.\n",
    "\n",
    "And a list of references to the API documentation, which tells you how you can use this data in your program statements."
   ]
  },
  {
   "cell_type": "markdown",
   "metadata": {},
   "source": [
    "# Searching (revisited)\n",
    "\n",
    "We do the same search again, but now inside our program.\n",
    "\n",
    "That means that we can capture the results in a list for further processing. "
   ]
  },
  {
   "cell_type": "code",
   "execution_count": 4,
   "metadata": {},
   "outputs": [
    {
     "name": "stdout",
     "output_type": "stream",
     "text": [
      "  1.70s 125111 results\n"
     ]
    }
   ],
   "source": [
    "template = '''\n",
    "word sp=verb\n",
    "  sign type=cons\n",
    "  /with/\n",
    "  .. unc=1|2|3|4\n",
    "  /or/\n",
    "  .. cor=1|2|3\n",
    "  /or/\n",
    "  .. rem=1|2\n",
    "  /or/\n",
    "  .. rec=1\n",
    "  /-/\n",
    "'''\n",
    "results = A.search(template)"
   ]
  },
  {
   "cell_type": "markdown",
   "metadata": {},
   "source": [
    "In a few seconds, we have all the results!\n",
    "\n",
    "Let's look at the first one:"
   ]
  },
  {
   "cell_type": "code",
   "execution_count": 5,
   "metadata": {},
   "outputs": [
    {
     "data": {
      "text/plain": [
       "(1607456, 1742)"
      ]
     },
     "execution_count": 5,
     "metadata": {},
     "output_type": "execute_result"
    }
   ],
   "source": [
    "results[0]"
   ]
  },
  {
   "cell_type": "markdown",
   "metadata": {},
   "source": [
    "Each result is a list of numbers: for a \n",
    "\n",
    "1. word\n",
    "1. sign"
   ]
  },
  {
   "cell_type": "markdown",
   "metadata": {},
   "source": [
    "Here is the  second one:"
   ]
  },
  {
   "cell_type": "code",
   "execution_count": 6,
   "metadata": {},
   "outputs": [
    {
     "data": {
      "text/plain": [
       "(1607456, 1743)"
      ]
     },
     "execution_count": 6,
     "metadata": {},
     "output_type": "execute_result"
    }
   ],
   "source": [
    "results[1]"
   ]
  },
  {
   "cell_type": "markdown",
   "metadata": {},
   "source": [
    "And here the last one:"
   ]
  },
  {
   "cell_type": "code",
   "execution_count": 7,
   "metadata": {},
   "outputs": [
    {
     "data": {
      "text/plain": [
       "(2107836, 1430165)"
      ]
     },
     "execution_count": 7,
     "metadata": {},
     "output_type": "execute_result"
    }
   ],
   "source": [
    "results[-1]"
   ]
  },
  {
   "cell_type": "markdown",
   "metadata": {},
   "source": [
    "Now we are only interested in the words that we have encountered.\n",
    "We collect them in a set:"
   ]
  },
  {
   "cell_type": "code",
   "execution_count": 8,
   "metadata": {},
   "outputs": [
    {
     "data": {
      "text/plain": [
       "37344"
      ]
     },
     "execution_count": 8,
     "metadata": {},
     "output_type": "execute_result"
    }
   ],
   "source": [
    "verbs = sorted({result[0] for result in results})\n",
    "len(verbs)"
   ]
  },
  {
   "cell_type": "markdown",
   "metadata": {},
   "source": [
    "This corresponds exactly to the number of condensed results!\n",
    "\n",
    "Now we get the number of verbs:"
   ]
  },
  {
   "cell_type": "code",
   "execution_count": 9,
   "metadata": {},
   "outputs": [
    {
     "data": {
      "text/plain": [
       "58873"
      ]
     },
     "execution_count": 9,
     "metadata": {},
     "output_type": "execute_result"
    }
   ],
   "source": [
    "len(F.sp.s('verb'))"
   ]
  },
  {
   "cell_type": "markdown",
   "metadata": {},
   "source": [
    "In English: take feature `sp` (part-of-speech), and collect all nodes that have value `verb` for this feature.\n",
    "Then take the length of this list."
   ]
  },
  {
   "cell_type": "markdown",
   "metadata": {},
   "source": [
    "Now we want to find out something for each result verb: what is the accumulated uncertainty of that verb?\n",
    "Some verbs have more consonants than others, so we divide by the number of consonants.\n",
    "\n",
    "We define a function that collects the uncertainty of a single sign:"
   ]
  },
  {
   "cell_type": "code",
   "execution_count": 10,
   "metadata": {},
   "outputs": [],
   "source": [
    "def getUncertainty(sign):\n",
    "  return sum((\n",
    "    F.unc.v(sign) or 0,\n",
    "    F.cor.v(sign) or 0,\n",
    "    F.rem.v(sign) or 0,\n",
    "    10 if F.rec.v(sign) else 0\n",
    "  ))"
   ]
  },
  {
   "cell_type": "markdown",
   "metadata": {},
   "source": [
    "Let's see what this gives for the first sign in the 1000th result:"
   ]
  },
  {
   "cell_type": "code",
   "execution_count": 11,
   "metadata": {},
   "outputs": [
    {
     "data": {
      "text/html": [
       "<div class=\"tfsechead rtl\"><span class=\"ltr\"><a target=\"_blank\" href=\"https://www.deadseascrolls.org.il/explore-the-archive/search#q='1QM'\" title=\"Show this scroll in the Leon Levy library\" sec=\"1QM 14:12\">1QM 14:12</a></span></div><div class=\"rtl children pr-mode\"><div class=\"contnr c0 trm rtl  \" ><div class=\"lbl c0 trm \" ><span class=\"txtu hbo\">י</span></div><div class=\"features\"><span class=\"type xft\" ><span class=\"f\">type=</span>cons</span></div></div></div>"
      ],
      "text/plain": [
       "<IPython.core.display.HTML object>"
      ]
     },
     "metadata": {},
     "output_type": "display_data"
    }
   ],
   "source": [
    "sign = results[999][1]\n",
    "A.pretty(sign)"
   ]
  },
  {
   "cell_type": "code",
   "execution_count": 12,
   "metadata": {},
   "outputs": [
    {
     "name": "stdout",
     "output_type": "stream",
     "text": [
      "10\n"
     ]
    }
   ],
   "source": [
    "unc  =  getUncertainty(sign)\n",
    "print(unc)"
   ]
  },
  {
   "cell_type": "markdown",
   "metadata": {},
   "source": [
    "An other one:"
   ]
  },
  {
   "cell_type": "code",
   "execution_count": 13,
   "metadata": {},
   "outputs": [
    {
     "data": {
      "text/html": [
       "<div class=\"tfsechead rtl\"><span class=\"ltr\"><a target=\"_blank\" href=\"https://www.deadseascrolls.org.il/explore-the-archive/search#q='CD'\" title=\"Show this scroll in the Leon Levy library\" sec=\"CD 7:13\">CD 7:13</a></span></div><div class=\"rtl children pr-mode\"><div class=\"contnr c0 trm rtl  \" ><div class=\"lbl c0 trm \" ><span class=\"txtu hbo\">ו</span></div><div class=\"features\"><span class=\"type xft\" ><span class=\"f\">type=</span>cons</span></div></div></div>"
      ],
      "text/plain": [
       "<IPython.core.display.HTML object>"
      ]
     },
     "metadata": {},
     "output_type": "display_data"
    },
    {
     "name": "stdout",
     "output_type": "stream",
     "text": [
      "4\n"
     ]
    }
   ],
   "source": [
    "sign = results[12][1]\n",
    "A.pretty(sign)\n",
    "print(getUncertainty(sign))"
   ]
  },
  {
   "cell_type": "markdown",
   "metadata": {},
   "source": [
    "Now we define a function that gives us the uncertainty of a word.\n",
    "We collect the consonants of the word.\n",
    "We sum the uncertainty of them and divide it by the number of consonants in the word."
   ]
  },
  {
   "cell_type": "code",
   "execution_count": 14,
   "metadata": {},
   "outputs": [],
   "source": [
    "def uncertainty(word):\n",
    "  signs = L.d(word, otype='sign')  # go a Level down to signs and collect them in a list\n",
    "  return sum(getUncertainty(sign) for sign in signs) / len(signs)"
   ]
  },
  {
   "cell_type": "markdown",
   "metadata": {},
   "source": [
    "We compute the uncertainty of some verbs."
   ]
  },
  {
   "cell_type": "code",
   "execution_count": 15,
   "metadata": {},
   "outputs": [
    {
     "data": {
      "text/html": [
       "<div class=\"tfsechead rtl\"><span class=\"ltr\"><a target=\"_blank\" href=\"https://www.deadseascrolls.org.il/explore-the-archive/search#q='1Q20'\" title=\"Show this scroll in the Leon Levy library\" sec=\"1Q20 1:28\">1Q20 1:28</a></span></div><div class=\"rtl children pr-mode\"><div class=\"contnr c1 trm rtl  \" ><div class=\"lbl c1 trm \" ><span class=\"nd\">word </span> <a target=\"_blank\" href=\"https://www.deadseascrolls.org.il/explore-the-archive\" title=\"Show this scroll in the Leon Levy library\"><span class=\"txtu hbo\"><span class=\"plain rtl  \" ><span class=\"txtu hbo\">י</span><span class=\"txtu hbo\">ד</span><span class=\"txtu hbo\">ע</span><span class=\"txtu hbo\">י</span><span class=\"txtu hbo\">ן </span></span></span></a></div><div class=\"features\"><span class=\"sp \" title=\"sp\">verb</span><span class=\"type xft\" ><span class=\"f\">type=</span>glyph</span></div></div></div>"
      ],
      "text/plain": [
       "<IPython.core.display.HTML object>"
      ]
     },
     "metadata": {},
     "output_type": "display_data"
    }
   ],
   "source": [
    "verb = verbs[999]\n",
    "A.pretty(verb)"
   ]
  },
  {
   "cell_type": "markdown",
   "metadata": {},
   "source": [
    "Now the computation:"
   ]
  },
  {
   "cell_type": "code",
   "execution_count": 16,
   "metadata": {},
   "outputs": [
    {
     "name": "stdout",
     "output_type": "stream",
     "text": [
      "4.0\n"
     ]
    }
   ],
   "source": [
    "unc  =  uncertainty(verb)\n",
    "print(unc)"
   ]
  },
  {
   "cell_type": "markdown",
   "metadata": {},
   "source": [
    "An other one:"
   ]
  },
  {
   "cell_type": "code",
   "execution_count": 17,
   "metadata": {},
   "outputs": [
    {
     "data": {
      "text/html": [
       "<div class=\"tfsechead rtl\"><span class=\"ltr\"><a target=\"_blank\" href=\"https://www.deadseascrolls.org.il/explore-the-archive/search#q='CD'\" title=\"Show this scroll in the Leon Levy library\" sec=\"CD 8:13\">CD 8:13</a></span></div><div class=\"rtl children pr-mode\"><div class=\"contnr c1 trm rtl  \" ><div class=\"lbl c1 trm \" ><span class=\"nd\">word </span> <a target=\"_blank\" href=\"https://www.deadseascrolls.org.il/explore-the-archive\" title=\"Show this scroll in the Leon Levy library\"><span class=\"txtu hbo\"><span class=\"plain rtl  \" ><span class=\"txtu hbo\">ש</span><span class=\"txtu hbo\">ו</span><span class=\"txtu hbo\">ק</span><span class=\"txtu hbo\">ל </span></span></span></a></div><div class=\"features\"><span class=\"sp \" title=\"sp\">verb</span><span class=\"type xft\" ><span class=\"f\">type=</span>glyph</span></div></div></div>"
      ],
      "text/plain": [
       "<IPython.core.display.HTML object>"
      ]
     },
     "metadata": {},
     "output_type": "display_data"
    },
    {
     "name": "stdout",
     "output_type": "stream",
     "text": [
      "1.25\n"
     ]
    }
   ],
   "source": [
    "verb = verbs[12]\n",
    "A.pretty(verb)\n",
    "print(uncertainty(verb))"
   ]
  },
  {
   "cell_type": "markdown",
   "metadata": {},
   "source": [
    "We compute all word uncertainties and store them in a dictionary:"
   ]
  },
  {
   "cell_type": "code",
   "execution_count": 18,
   "metadata": {},
   "outputs": [
    {
     "data": {
      "text/plain": [
       "37344"
      ]
     },
     "execution_count": 18,
     "metadata": {},
     "output_type": "execute_result"
    }
   ],
   "source": [
    "verbUncertainty = {verb: uncertainty(verb) for verb in verbs}\n",
    "len(verbUncertainty)"
   ]
  },
  {
   "cell_type": "markdown",
   "metadata": {},
   "source": [
    "What is the minimum and the maximum uncertainty?"
   ]
  },
  {
   "cell_type": "code",
   "execution_count": 19,
   "metadata": {},
   "outputs": [
    {
     "data": {
      "text/plain": [
       "14.0"
      ]
     },
     "execution_count": 19,
     "metadata": {},
     "output_type": "execute_result"
    }
   ],
   "source": [
    "max(verbUncertainty.values())"
   ]
  },
  {
   "cell_type": "code",
   "execution_count": 20,
   "metadata": {},
   "outputs": [
    {
     "data": {
      "text/plain": [
       "0.14285714285714285"
      ]
     },
     "execution_count": 20,
     "metadata": {},
     "output_type": "execute_result"
    }
   ],
   "source": [
    "min(verbUncertainty.values())"
   ]
  },
  {
   "cell_type": "markdown",
   "metadata": {},
   "source": [
    "In order to visualize how many how uncertain verbs there are, we make a scatterplot,\n",
    "using the *seaborn* library."
   ]
  },
  {
   "cell_type": "markdown",
   "metadata": {},
   "source": [
    "(You might need to install the python package `seaborn`)"
   ]
  },
  {
   "cell_type": "code",
   "execution_count": 21,
   "metadata": {},
   "outputs": [
    {
     "name": "stdout",
     "output_type": "stream",
     "text": [
      "Requirement already satisfied: seaborn in /Library/Frameworks/Python.framework/Versions/3.12/lib/python3.12/site-packages (0.13.2)\n",
      "Requirement already satisfied: numpy!=1.24.0,>=1.20 in /Library/Frameworks/Python.framework/Versions/3.12/lib/python3.12/site-packages (from seaborn) (1.26.4)\n",
      "Requirement already satisfied: pandas>=1.2 in /Library/Frameworks/Python.framework/Versions/3.12/lib/python3.12/site-packages (from seaborn) (2.2.2)\n",
      "Requirement already satisfied: matplotlib!=3.6.1,>=3.4 in /Library/Frameworks/Python.framework/Versions/3.12/lib/python3.12/site-packages (from seaborn) (3.9.2)\n",
      "Requirement already satisfied: contourpy>=1.0.1 in /Library/Frameworks/Python.framework/Versions/3.12/lib/python3.12/site-packages (from matplotlib!=3.6.1,>=3.4->seaborn) (1.3.0)\n",
      "Requirement already satisfied: cycler>=0.10 in /Library/Frameworks/Python.framework/Versions/3.12/lib/python3.12/site-packages (from matplotlib!=3.6.1,>=3.4->seaborn) (0.12.1)\n",
      "Requirement already satisfied: fonttools>=4.22.0 in /Library/Frameworks/Python.framework/Versions/3.12/lib/python3.12/site-packages (from matplotlib!=3.6.1,>=3.4->seaborn) (4.54.1)\n",
      "Requirement already satisfied: kiwisolver>=1.3.1 in /Library/Frameworks/Python.framework/Versions/3.12/lib/python3.12/site-packages (from matplotlib!=3.6.1,>=3.4->seaborn) (1.4.7)\n",
      "Requirement already satisfied: packaging>=20.0 in /Library/Frameworks/Python.framework/Versions/3.12/lib/python3.12/site-packages (from matplotlib!=3.6.1,>=3.4->seaborn) (24.1)\n",
      "Requirement already satisfied: pillow>=8 in /Library/Frameworks/Python.framework/Versions/3.12/lib/python3.12/site-packages (from matplotlib!=3.6.1,>=3.4->seaborn) (10.4.0)\n",
      "Requirement already satisfied: pyparsing>=2.3.1 in /Library/Frameworks/Python.framework/Versions/3.12/lib/python3.12/site-packages (from matplotlib!=3.6.1,>=3.4->seaborn) (3.1.4)\n",
      "Requirement already satisfied: python-dateutil>=2.7 in /Library/Frameworks/Python.framework/Versions/3.12/lib/python3.12/site-packages (from matplotlib!=3.6.1,>=3.4->seaborn) (2.9.0.post0)\n",
      "Requirement already satisfied: pytz>=2020.1 in /Library/Frameworks/Python.framework/Versions/3.12/lib/python3.12/site-packages (from pandas>=1.2->seaborn) (2024.1)\n",
      "Requirement already satisfied: tzdata>=2022.7 in /Library/Frameworks/Python.framework/Versions/3.12/lib/python3.12/site-packages (from pandas>=1.2->seaborn) (2024.1)\n",
      "Requirement already satisfied: six>=1.5 in /Library/Frameworks/Python.framework/Versions/3.12/lib/python3.12/site-packages (from python-dateutil>=2.7->matplotlib!=3.6.1,>=3.4->seaborn) (1.16.0)\n"
     ]
    }
   ],
   "source": [
    "!pip install seaborn"
   ]
  },
  {
   "cell_type": "code",
   "execution_count": 22,
   "metadata": {},
   "outputs": [],
   "source": [
    "import seaborn as sns"
   ]
  },
  {
   "cell_type": "code",
   "execution_count": 23,
   "metadata": {},
   "outputs": [
    {
     "name": "stderr",
     "output_type": "stream",
     "text": [
      "/var/folders/nb/_qgnfkns75bcn_p_msyjl81m0000gn/T/ipykernel_55730/2177275149.py:2: UserWarning: \n",
      "\n",
      "`distplot` is a deprecated function and will be removed in seaborn v0.14.0.\n",
      "\n",
      "Please adapt your code to use either `displot` (a figure-level function with\n",
      "similar flexibility) or `histplot` (an axes-level function for histograms).\n",
      "\n",
      "For a guide to updating your code to use the new functions, please see\n",
      "https://gist.github.com/mwaskom/de44147ed2974457ad6372750bbe5751\n",
      "\n",
      "  sns.distplot(list(verbUncertainty.values()), axlabel=\"uncertainty\")\n"
     ]
    },
    {
     "data": {
      "text/plain": [
       "<Axes: xlabel='uncertainty', ylabel='Density'>"
      ]
     },
     "execution_count": 23,
     "metadata": {},
     "output_type": "execute_result"
    },
    {
     "data": {
      "image/png": "[encoded data removed]",
      "text/plain": [
       "<Figure size 640x480 with 1 Axes>"
      ]
     },
     "metadata": {},
     "output_type": "display_data"
    }
   ],
   "source": [
    "sns.set(color_codes=True)\n",
    "sns.distplot(list(verbUncertainty.values()), axlabel=\"uncertainty\")"
   ]
  },
  {
   "cell_type": "markdown",
   "metadata": {},
   "source": [
    "Let's single out the verbs with uncertainty greater than 9, but lower than 10, and inspect a few."
   ]
  },
  {
   "cell_type": "code",
   "execution_count": 24,
   "metadata": {},
   "outputs": [
    {
     "data": {
      "text/plain": [
       "10"
      ]
     },
     "execution_count": 24,
     "metadata": {},
     "output_type": "execute_result"
    }
   ],
   "source": [
    "verbHighUnc = [verb for (verb, unc) in verbUncertainty.items() if 9 < unc < 10]\n",
    "len(verbHighUnc)"
   ]
  },
  {
   "cell_type": "code",
   "execution_count": 25,
   "metadata": {},
   "outputs": [
    {
     "data": {
      "text/html": [
       "<p><b>result</b> <i>1</i>"
      ],
      "text/plain": [
       "<IPython.core.display.HTML object>"
      ]
     },
     "metadata": {},
     "output_type": "display_data"
    },
    {
     "data": {
      "text/html": [
       "<div class=\"tfsechead rtl\"><span class=\"ltr\"><a target=\"_blank\" href=\"https://www.deadseascrolls.org.il/explore-the-archive/search#q='1QM'\" title=\"Show this scroll in the Leon Levy library\" sec=\"1QM 18:12\">1QM 18:12</a></span></div><div class=\"rtl children pr-mode\"><div class=\"contnr c1 trm rtl  \" ><div class=\"lbl c1 trm \" ><span class=\"nd\">word </span> <a target=\"_blank\" href=\"https://www.deadseascrolls.org.il/explore-the-archive\" title=\"Show this scroll in the Leon Levy library\"><span class=\"txtu hbo\"><span class=\"plain rtl  \" ><span class=\"txtu hbo\"><span class=\"rec1\">ה</span></span><span class=\"txtu hbo\"><span class=\"rec1\">ת</span></span><span class=\"txtu hbo\"><span class=\"rec1\">ג</span></span><span class=\"txtu hbo\"><span class=\"rec1\">ב</span></span><span class=\"txtu hbo\"><span class=\"rec1\">ר</span></span><span class=\"txtu hbo\"><span class=\"rec1\">ת</span></span><span class=\"txtu hbo\"><span class=\"unc4\">ה</span> </span></span></span></a></div><div class=\"features\"><span class=\"sp \" title=\"sp\">verb</span><span class=\"type xft\" ><span class=\"f\">type=</span>glyph</span></div></div></div>"
      ],
      "text/plain": [
       "<IPython.core.display.HTML object>"
      ]
     },
     "metadata": {},
     "output_type": "display_data"
    },
    {
     "data": {
      "text/html": [
       "<p><b>result</b> <i>2</i>"
      ],
      "text/plain": [
       "<IPython.core.display.HTML object>"
      ]
     },
     "metadata": {},
     "output_type": "display_data"
    },
    {
     "data": {
      "text/html": [
       "<div class=\"tfsechead rtl\"><span class=\"ltr\"><a target=\"_blank\" href=\"https://www.deadseascrolls.org.il/explore-the-archive/search#q='1QHa'\" title=\"Show this scroll in the Leon Levy library\" sec=\"1QHa 4:33\">1QHa 4:33</a></span></div><div class=\"rtl children pr-mode\"><div class=\"contnr c1 trm rtl  \" ><div class=\"lbl c1 trm \" ><span class=\"nd\">word </span> <a target=\"_blank\" href=\"https://www.deadseascrolls.org.il/explore-the-archive\" title=\"Show this scroll in the Leon Levy library\"><span class=\"txtu hbo\"><span class=\"plain rtl  \" ><span class=\"txtu hbo\"><span class=\"unc4\">ה</span></span><span class=\"txtu hbo\"><span class=\"rec1\">כ</span></span><span class=\"txtu hbo\"><span class=\"rec1\">י</span></span><span class=\"txtu hbo\"><span class=\"rec1\">נ</span></span><span class=\"txtu hbo\"><span class=\"rec1\">ו</span></span><span class=\"txtu hbo\"><span class=\"rec1\">ת</span></span><span class=\"txtu hbo\"><span class=\"rec1\">ה</span> </span></span></span></a></div><div class=\"features\"><span class=\"sp \" title=\"sp\">verb</span><span class=\"type xft\" ><span class=\"f\">type=</span>glyph</span></div></div></div>"
      ],
      "text/plain": [
       "<IPython.core.display.HTML object>"
      ]
     },
     "metadata": {},
     "output_type": "display_data"
    },
    {
     "data": {
      "text/html": [
       "<p><b>result</b> <i>3</i>"
      ],
      "text/plain": [
       "<IPython.core.display.HTML object>"
      ]
     },
     "metadata": {},
     "output_type": "display_data"
    },
    {
     "data": {
      "text/html": [
       "<div class=\"tfsechead rtl\"><span class=\"ltr\"><a target=\"_blank\" href=\"https://www.deadseascrolls.org.il/explore-the-archive/search#q='1QHa'\" title=\"Show this scroll in the Leon Levy library\" sec=\"1QHa 9:11\">1QHa 9:11</a></span></div><div class=\"rtl children pr-mode\"><div class=\"contnr c1 trm rtl  \" ><div class=\"lbl c1 trm \" ><span class=\"nd\">word </span> <a target=\"_blank\" href=\"https://www.deadseascrolls.org.il/explore-the-archive\" title=\"Show this scroll in the Leon Levy library\"><span class=\"txtu hbo\"><span class=\"plain rtl  \" ><span class=\"txtu hbo\"><span class=\"rec1\">ה</span></span><span class=\"txtu hbo\"><span class=\"rec1\">כ</span></span><span class=\"txtu hbo\"><span class=\"rec1\">י</span></span><span class=\"txtu hbo\"><span class=\"rec1\">נ</span></span><span class=\"txtu hbo\"><span class=\"rec1\">ו</span></span><span class=\"txtu hbo\"><span class=\"rec1\">ת</span></span><span class=\"txtu hbo\"><span class=\"unc4\">ה</span> </span></span></span></a></div><div class=\"features\"><span class=\"sp \" title=\"sp\">verb</span><span class=\"type xft\" ><span class=\"f\">type=</span>glyph</span></div></div></div>"
      ],
      "text/plain": [
       "<IPython.core.display.HTML object>"
      ]
     },
     "metadata": {},
     "output_type": "display_data"
    },
    {
     "data": {
      "text/html": [
       "<p><b>result</b> <i>4</i>"
      ],
      "text/plain": [
       "<IPython.core.display.HTML object>"
      ]
     },
     "metadata": {},
     "output_type": "display_data"
    },
    {
     "data": {
      "text/html": [
       "<div class=\"tfsechead rtl\"><span class=\"ltr\"><a target=\"_blank\" href=\"https://www.deadseascrolls.org.il/explore-the-archive/search#q='4Q261'\" title=\"Show this scroll in the Leon Levy library\" sec=\"4Q261 f1a_b:2\">4Q261 f1a_b:2</a></span></div><div class=\"rtl children pr-mode\"><div class=\"contnr c1 trm rtl  \" ><div class=\"lbl c1 trm \" ><span class=\"nd\">word </span> <a target=\"_blank\" href=\"https://www.deadseascrolls.org.il/explore-the-archive\" title=\"Show this scroll in the Leon Levy library\"><span class=\"txtu hbo\"><span class=\"plain rtl  \" ><span class=\"txtu hbo\"><span class=\"rec1\">מ</span></span><span class=\"txtu hbo\"><span class=\"rec1\">ת</span></span><span class=\"txtu hbo\"><span class=\"rec1\">נ</span></span><span class=\"txtu hbo\"><span class=\"rec1\">ד</span></span><span class=\"txtu hbo\"><span class=\"rec1\">ב</span></span><span class=\"txtu hbo\"><span class=\"rec1\">י</span></span><span class=\"txtu hbo\"><span class=\"unc4\">ם</span> </span></span></span></a></div><div class=\"features\"><span class=\"sp \" title=\"sp\">verb</span><span class=\"type xft\" ><span class=\"f\">type=</span>glyph</span></div></div></div>"
      ],
      "text/plain": [
       "<IPython.core.display.HTML object>"
      ]
     },
     "metadata": {},
     "output_type": "display_data"
    },
    {
     "data": {
      "text/html": [
       "<p><b>result</b> <i>5</i>"
      ],
      "text/plain": [
       "<IPython.core.display.HTML object>"
      ]
     },
     "metadata": {},
     "output_type": "display_data"
    },
    {
     "data": {
      "text/html": [
       "<div class=\"tfsechead rtl\"><span class=\"ltr\"><a target=\"_blank\" href=\"https://www.deadseascrolls.org.il/explore-the-archive/search#q='4Q270'\" title=\"Show this scroll in the Leon Levy library\" sec=\"4Q270 f7i:2\">4Q270 f7i:2</a></span></div><div class=\"rtl children pr-mode\"><div class=\"contnr c1 trm rtl  \" ><div class=\"lbl c1 trm \" ><span class=\"nd\">word </span> <a target=\"_blank\" href=\"https://www.deadseascrolls.org.il/explore-the-archive\" title=\"Show this scroll in the Leon Levy library\"><span class=\"txtu hbo\"><span class=\"plain rtl  \" ><span class=\"txtu hbo\"><span class=\"cor3\">ה</span></span><span class=\"txtu hbo\"><span class=\"cor3 rec1\">ל</span></span><span class=\"txtu hbo\"><span class=\"cor3 rec1\">ך</span> </span></span></span></a></div><div class=\"features\"><span class=\"sp \" title=\"sp\">verb</span><span class=\"type xft\" ><span class=\"f\">type=</span>glyph</span></div></div></div>"
      ],
      "text/plain": [
       "<IPython.core.display.HTML object>"
      ]
     },
     "metadata": {},
     "output_type": "display_data"
    },
    {
     "data": {
      "text/html": [
       "<p><b>result</b> <i>6</i>"
      ],
      "text/plain": [
       "<IPython.core.display.HTML object>"
      ]
     },
     "metadata": {},
     "output_type": "display_data"
    },
    {
     "data": {
      "text/html": [
       "<div class=\"tfsechead rtl\"><span class=\"ltr\"><a target=\"_blank\" href=\"https://www.deadseascrolls.org.il/explore-the-archive/search#q='4Q365'\" title=\"Show this scroll in the Leon Levy library\" sec=\"4Q365 f2:3\">4Q365 f2:3</a></span></div><div class=\"rtl children pr-mode\"><div class=\"contnr c1 trm rtl  \" ><div class=\"lbl c1 trm \" ><span class=\"nd\">word </span> <a target=\"_blank\" href=\"https://www.deadseascrolls.org.il/explore-the-archive\" title=\"Show this scroll in the Leon Levy library\"><span class=\"txtu hbo\"><span class=\"plain rtl  \" ><span class=\"txtu hbo\"><span class=\"cor3 rec1\">י</span></span><span class=\"txtu hbo\"><span class=\"cor3 rec1\">ע</span></span><span class=\"txtu hbo\"><span class=\"unc4 cor3\">ש</span></span><span class=\"txtu hbo\"><span class=\"unc1 cor3\">ו</span> </span></span></span></a></div><div class=\"features\"><span class=\"sp \" title=\"sp\">verb</span><span class=\"type xft\" ><span class=\"f\">type=</span>glyph</span></div></div></div>"
      ],
      "text/plain": [
       "<IPython.core.display.HTML object>"
      ]
     },
     "metadata": {},
     "output_type": "display_data"
    },
    {
     "data": {
      "text/html": [
       "<p><b>result</b> <i>7</i>"
      ],
      "text/plain": [
       "<IPython.core.display.HTML object>"
      ]
     },
     "metadata": {},
     "output_type": "display_data"
    },
    {
     "data": {
      "text/html": [
       "<div class=\"tfsechead rtl\"><span class=\"ltr\"><a target=\"_blank\" href=\"https://www.deadseascrolls.org.il/explore-the-archive/search#q='4Q398'\" title=\"Show this scroll in the Leon Levy library\" sec=\"4Q398 f14_17i:7\">4Q398 f14_17i:7</a></span></div><div class=\"rtl children pr-mode\"><div class=\"contnr c1 trm rtl  \" ><div class=\"lbl c1 trm \" ><span class=\"nd\">word </span> <a target=\"_blank\" href=\"https://www.deadseascrolls.org.il/explore-the-archive\" title=\"Show this scroll in the Leon Levy library\"><span class=\"txtu hbo\"><span class=\"plain rtl  \" ><span class=\"txtu hbo\"><span class=\"rec1\">ה</span></span><span class=\"txtu hbo\"><span class=\"rec1\">ש</span></span><span class=\"txtu hbo\"><span class=\"rec1\">י</span></span><span class=\"txtu hbo\"><span class=\"rec1\">ב</span></span><span class=\"txtu hbo\"><span class=\"rec1\">ו</span></span><span class=\"txtu hbo\"><span class=\"rec1\">ת</span></span><span class=\"txtu hbo\"><span class=\"unc4\">ה</span> </span></span></span></a></div><div class=\"features\"><span class=\"sp \" title=\"sp\">verb</span><span class=\"type xft\" ><span class=\"f\">type=</span>glyph</span></div></div></div>"
      ],
      "text/plain": [
       "<IPython.core.display.HTML object>"
      ]
     },
     "metadata": {},
     "output_type": "display_data"
    },
    {
     "data": {
      "text/html": [
       "<p><b>result</b> <i>8</i>"
      ],
      "text/plain": [
       "<IPython.core.display.HTML object>"
      ]
     },
     "metadata": {},
     "output_type": "display_data"
    },
    {
     "data": {
      "text/html": [
       "<div class=\"tfsechead rtl\"><span class=\"ltr\"><a target=\"_blank\" href=\"https://www.deadseascrolls.org.il/explore-the-archive/search#q='11Q14'\" title=\"Show this scroll in the Leon Levy library\" sec=\"11Q14 f1ii:15\">11Q14 f1ii:15</a></span></div><div class=\"rtl children pr-mode\"><div class=\"contnr c1 trm rtl  \" ><div class=\"lbl c1 trm \" ><span class=\"nd\">word </span> <a target=\"_blank\" href=\"https://www.deadseascrolls.org.il/explore-the-archive\" title=\"Show this scroll in the Leon Levy library\"><span class=\"txtu hbo\"><span class=\"plain rtl  \" ><span class=\"txtu hbo\"><span class=\"rec1\">מ</span></span><span class=\"txtu hbo\"><span class=\"rec1\">ת</span></span><span class=\"txtu hbo\"><span class=\"rec1\">י</span></span><span class=\"txtu hbo\"><span class=\"rec1\">צ</span></span><span class=\"txtu hbo\"><span class=\"rec1\">ב</span></span><span class=\"txtu hbo\"><span class=\"rec1\">י</span></span><span class=\"txtu hbo\"><span class=\"unc4\">ם</span> </span></span></span></a></div><div class=\"features\"><span class=\"sp \" title=\"sp\">verb</span><span class=\"type xft\" ><span class=\"f\">type=</span>glyph</span></div></div></div>"
      ],
      "text/plain": [
       "<IPython.core.display.HTML object>"
      ]
     },
     "metadata": {},
     "output_type": "display_data"
    },
    {
     "data": {
      "text/html": [
       "<p><b>result</b> <i>9</i>"
      ],
      "text/plain": [
       "<IPython.core.display.HTML object>"
      ]
     },
     "metadata": {},
     "output_type": "display_data"
    },
    {
     "data": {
      "text/html": [
       "<div class=\"tfsechead rtl\"><span class=\"ltr\"><a target=\"_blank\" href=\"https://www.deadseascrolls.org.il/explore-the-archive/search#q='4Q70'\" title=\"Show this scroll in the Leon Levy library\" sec=\"4Q70 f3+4i+5_7:6\">4Q70 f3+4i+5_7:6</a></span></div><div class=\"rtl children pr-mode\"><div class=\"contnr c1 trm rtl  \" ><div class=\"lbl c1 trm \" ><span class=\"nd\">word </span> <a target=\"_blank\" href=\"https://www.deadseascrolls.org.il/explore-the-archive\" title=\"Show this scroll in the Leon Levy library\"><span class=\"txtu hbo\"><span class=\"plain rtl  \" ><span class=\"txtu hbo\"><span class=\"cor2 rec1\">ב</span></span><span class=\"txtu hbo\"><span class=\"cor2 rec1\">נ</span></span><span class=\"txtu hbo\"><span class=\"unc3 cor2\">ו</span> </span></span></span></a></div><div class=\"features\"><span class=\"sp \" title=\"sp\">verb</span><span class=\"type xft\" ><span class=\"f\">type=</span>glyph</span></div></div></div>"
      ],
      "text/plain": [
       "<IPython.core.display.HTML object>"
      ]
     },
     "metadata": {},
     "output_type": "display_data"
    },
    {
     "data": {
      "text/html": [
       "<p><b>result</b> <i>10</i>"
      ],
      "text/plain": [
       "<IPython.core.display.HTML object>"
      ]
     },
     "metadata": {},
     "output_type": "display_data"
    },
    {
     "data": {
      "text/html": [
       "<div class=\"tfsechead rtl\"><span class=\"ltr\"><a target=\"_blank\" href=\"https://www.deadseascrolls.org.il/explore-the-archive/search#q='Mur88'\" title=\"Show this scroll in the Leon Levy library\" sec=\"Mur88 3:24\">Mur88 3:24</a></span></div><div class=\"rtl children pr-mode\"><div class=\"contnr c1 trm rtl  \" ><div class=\"lbl c1 trm \" ><span class=\"nd\">word </span> <a target=\"_blank\" href=\"https://www.deadseascrolls.org.il/explore-the-archive\" title=\"Show this scroll in the Leon Levy library\"><span class=\"txtu hbo\"><span class=\"plain rtl  \" ><span class=\"txtu hbo\"><span class=\"unc4\">ה</span></span><span class=\"txtu hbo\"><span class=\"rec1\">ש</span></span><span class=\"txtu hbo\"><span class=\"rec1\">י</span></span><span class=\"txtu hbo\"><span class=\"rec1\">ב</span></span><span class=\"txtu hbo\"><span class=\"rec1\">ו</span></span><span class=\"txtu hbo\"><span class=\"rec1\">ת</span></span><span class=\"txtu hbo\"><span class=\"rec1\">י</span> </span></span></span></a></div><div class=\"features\"><span class=\"sp \" title=\"sp\">verb</span><span class=\"type xft\" ><span class=\"f\">type=</span>glyph</span></div></div></div>"
      ],
      "text/plain": [
       "<IPython.core.display.HTML object>"
      ]
     },
     "metadata": {},
     "output_type": "display_data"
    }
   ],
   "source": [
    "A.show([[verb] for verb in verbHighUnc], fmt='layout-orig-full', condenseType='word')"
   ]
  },
  {
   "cell_type": "code",
   "execution_count": null,
   "metadata": {},
   "outputs": [],
   "source": []
  }
 ],
 "metadata": {
  "kernelspec": {
   "display_name": "Python 3 (ipykernel)",
   "language": "python",
   "name": "python3"
  },
  "language_info": {
   "codemirror_mode": {
    "name": "ipython",
    "version": 3
   },
   "file_extension": ".py",
   "mimetype": "text/x-python",
   "name": "python",
   "nbconvert_exporter": "python",
   "pygments_lexer": "ipython3",
   "version": "3.12.4"
  }
 },
 "nbformat": 4,
 "nbformat_minor": 4
}
